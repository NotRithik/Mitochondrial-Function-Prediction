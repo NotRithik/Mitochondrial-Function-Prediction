{
 "cells": [
  {
   "cell_type": "markdown",
   "metadata": {},
   "source": [
    "### Objectives\n",
    "\n",
    "First, create a graph representation of the information we have. \n",
    "This would be information about the elements, and the nodes. \n",
    "Using this, we will feed it into our SVM, or a Random Forest, and see from there onwards"
   ]
  },
  {
   "cell_type": "code",
   "execution_count": 16,
   "metadata": {},
   "outputs": [],
   "source": [
    "import pandas as pd\n",
    "import numpy as np\n",
    "from sklearn.model_selection import train_test_split\n",
    "from sklearn.svm import SVC\n",
    "from sklearn.metrics import accuracy_score, classification_report\n",
    "import matplotlib.pyplot as plt\n"
   ]
  },
  {
   "cell_type": "code",
   "execution_count": 17,
   "metadata": {},
   "outputs": [],
   "source": [
    "n = pd.read_csv('./full_node_Table_.csv')\n",
    "df = pd.read_csv('./full_Table_.csv')"
   ]
  },
  {
   "cell_type": "code",
   "execution_count": 18,
   "metadata": {},
   "outputs": [],
   "source": [
    "cc_df = df.sample(n=10000, random_state=1)\n",
    "cc_df['cc_pixel_intensity_488'] = cc_df['cc_pixel_intensity_488'].astype(int)\n",
    "\n",
    "X = cc_df.drop(['cc_pixel_intensity_488', 'cc_pixel_intensity_405', 'cc_x', 'folder_name_x', 'degree_distribution', 'folder_name_x.1', 'folder_name_y', 'x_y', 'y_y', 'z_y', 'node', 'degree', 'cc_y', 'vol_cc', 'avg_PK_Of_element', 'element_connectivity', 'cc_average_connectivity'], axis=1)  # Adjust 'target_column' to your actual target column name\n",
    "# Print rows that have NaN in any column, and print that column name\n",
    "pd.set_option('display.max_rows', 5000)\n",
    "pd.set_option('display.max_columns', 500)\n",
    "pd.set_option('display.width', 150)\n",
    "\n",
    "# For any rows that contain a NaN in X, drop it in X and drop the corresponding row in Y.\n",
    "# This is done by getting the row index where X is NaN and dropping the same index in both X and Y\n",
    "nan_rows = X.isna().any(axis=1)\n",
    "X = X.dropna()\n",
    "\n",
    "y = cc_df['cc_pixel_intensity_488']\n",
    "y = y[~nan_rows]\n",
    "\n",
    "X_train, X_test, y_train, y_test = train_test_split(X, y, test_size=0.2, random_state=42)\n",
    "\n",
    "y_train = y_train.to_numpy()\n",
    "\n",
    "y_test=y_test.to_numpy()"
   ]
  },
  {
   "cell_type": "code",
   "execution_count": 19,
   "metadata": {},
   "outputs": [],
   "source": [
    "def plot_error_frequency(y_pred, y_test, classifier_title):\n",
    "    # Calculate errors\n",
    "    errors = y_pred != y_test\n",
    "\n",
    "    # Extract labels where errors occurred\n",
    "    error_labels = y_test[errors]\n",
    "\n",
    "    # Calculate frequency of each label\n",
    "    unique_labels, counts = np.unique(error_labels, return_counts=True)\n",
    "\n",
    "    # Creating a dictionary of label frequencies for errors\n",
    "    label_error_frequency = dict(zip(unique_labels, counts))\n",
    "\n",
    "    # Finding the range of all possible labels (from min to max in y_test and y_pred)\n",
    "    all_labels = np.unique(np.concatenate((y_test, y_pred)))\n",
    "    min_label = min(all_labels)\n",
    "    max_label = max(all_labels)\n",
    "\n",
    "    # Filling in frequencies for labels that did not have errors\n",
    "    for label in range(min_label, max_label + 1):\n",
    "        if label not in label_error_frequency:\n",
    "            label_error_frequency[label] = 0\n",
    "\n",
    "    # Sorting the dictionary for plotting\n",
    "    sorted_label_error_frequency = dict(sorted(label_error_frequency.items()))\n",
    "\n",
    "    xticks = np.arange(min_label, max_label + 1, 50)\n",
    "\n",
    "    # Plotting the error frequency\n",
    "    plt.figure(figsize=(10, 6))\n",
    "    plt.bar(sorted_label_error_frequency.keys(), sorted_label_error_frequency.values())\n",
    "    plt.xlabel('Prediction')\n",
    "    plt.ylabel('Error Frequency')\n",
    "    plt.title('Error Frequency Distribution for ' + str(classifier_title))\n",
    "    plt.xticks(xticks, rotation='vertical')  # Set x-ticks to show every 50th label and rotate them vertically\n",
    "    plt.show()\n",
    "\n",
    "    # Calculating mean and standard deviation of absolute errors\n",
    "    absolute_errors = np.abs(y_pred - y_test)\n",
    "    mean_error = np.mean(absolute_errors)\n",
    "    std_error = np.std(absolute_errors)\n",
    "    print(\"The mean error is\", mean_error, \"and the standard deviation of the errors is\", std_error)\n",
    "\n",
    "    # Plotting absolute error for each label\n",
    "    plt.figure(figsize=(10, 6))\n",
    "    for label in all_labels:\n",
    "        label_errors = absolute_errors[y_test == label]\n",
    "        plt.bar([label]*len(label_errors), label_errors, color='r')\n",
    "    plt.xlabel('Prediction')\n",
    "    plt.ylabel('Absolute Error')\n",
    "    plt.title('Absolute Error for Each Label in ' + str(classifier_title))\n",
    "    plt.xticks(xticks, rotation='vertical')\n",
    "    plt.show()\n"
   ]
  },
  {
   "cell_type": "code",
   "execution_count": 20,
   "metadata": {},
   "outputs": [],
   "source": [
    "# For y_train and y_test, round down to nearest 10\n",
    "# y_train = (np.floor(y_train / 10) * 10).astype(int)\n",
    "# y_test = (np.floor(y_test / 10) * 10).astype(int)\n",
    "\n",
    "# Noticed weird behaviour with SVM:\n",
    "# If y_train and y_test are not rounded down to nearest 10,\n",
    "# then the training takes LONGER (it just wouldn't finish training on my mac)\n",
    "# even though it means there are 10 times fewer classifiers to train?\n",
    "# (also yes, doing that means the output would not be a regression but a classification,\n",
    "# and outputs would be classified into groups of 10, as in the model would tell you whether the\n",
    "# functional parameter is between 0-10, 10-20, 20-30, etc.)\n",
    "\n",
    "# Also it was not possible to get the SVM to train on my MAC for datasets above 10k rows (10k including training and testing split)\n",
    "# Training just never finished if I tried that, even if I left it running overnight.\n",
    "\n",
    "# This makes sense though because with more classes (i.e discrete functional parameter values in this case),\n",
    "# the training time grows quadratically as that many more classifiers need to be trained.\n",
    "\n",
    "# print(y_train, y_test)\n",
    "\n",
    "svm_model = SVC(kernel='linear')  # You can choose different kernels like 'rbf', 'poly', etc.\n",
    "svm_model.fit(X_train, y_train)\n",
    "\n",
    "y_pred = svm_model.predict(X_test)\n",
    "\n",
    "print(pd.DataFrame({'Actual': y_test, 'Predicted': y_pred}))\n",
    "\n",
    "accuracy = accuracy_score(y_test, y_pred)\n",
    "classification_rep = classification_report(y_test, y_pred)\n",
    "\n",
    "plt.plot(y_test, y_pred, 'o')\n",
    "plt.title('Accuracy: ' + str(accuracy))\n",
    "plt.xlabel('Actual')\n",
    "plt.ylabel('Predicted')\n",
    "\n",
    "y_pred_svm = y_pred\n",
    "\n"
   ]
  },
  {
   "cell_type": "code",
   "execution_count": null,
   "metadata": {},
   "outputs": [
    {
     "data": {
      "image/png": "[encoded data removed]",
      "text/plain": [
       "<Figure size 1000x600 with 1 Axes>"
      ]
     },
     "metadata": {},
     "output_type": "display_data"
    },
    {
     "name": "stdout",
     "output_type": "stream",
     "text": [
      "The mean error is 0.973 and the standard deviation of the errors is 8.945125544116193\n"
     ]
    },
    {
     "data": {
      "image/png": "[encoded data removed]",
      "text/plain": [
       "<Figure size 1000x600 with 1 Axes>"
      ]
     },
     "metadata": {},
     "output_type": "display_data"
    }
   ],
   "source": [
    "plot_error_frequency(y_pred_svm, y_test, 'SVC')"
   ]
  },
  {
   "cell_type": "code",
   "execution_count": null,
   "metadata": {},
   "outputs": [
    {
     "data": {
      "image/png": "[encoded data removed]",
      "text/plain": [
       "<Figure size 640x480 with 1 Axes>"
      ]
     },
     "metadata": {},
     "output_type": "display_data"
    }
   ],
   "source": [
    "# do the same for random forest\n",
    "from sklearn.ensemble import RandomForestClassifier\n",
    "\n",
    "rf_model = RandomForestClassifier(n_estimators=300, max_depth=7, random_state=0)\n",
    "rf_model.fit(X_train, y_train)\n",
    "\n",
    "y_pred = rf_model.predict(X_test)\n",
    "accuracy = accuracy_score(y_test, y_pred)\n",
    "\n",
    "plt.plot(y_test, y_pred, 'o')\n",
    "plt.title('Accuracy: {}'.format(accuracy))\n",
    "\n",
    "y_pred_rf = y_pred"
   ]
  },
  {
   "cell_type": "code",
   "execution_count": null,
   "metadata": {},
   "outputs": [
    {
     "data": {
      "image/png": "[encoded data removed]",
      "text/plain": [
       "<Figure size 1000x600 with 1 Axes>"
      ]
     },
     "metadata": {},
     "output_type": "display_data"
    },
    {
     "name": "stdout",
     "output_type": "stream",
     "text": [
      "The mean error is 50.3895 and the standard deviation of the errors is 90.36277325176557\n"
     ]
    },
    {
     "data": {
      "image/png": "[encoded data removed]",
      "text/plain": [
       "<Figure size 1000x600 with 1 Axes>"
      ]
     },
     "metadata": {},
     "output_type": "display_data"
    }
   ],
   "source": [
    "plot_error_frequency(y_pred_rf, y_test, 'Random Forest')"
   ]
  },
  {
   "cell_type": "code",
   "execution_count": null,
   "metadata": {},
   "outputs": [
    {
     "data": {
      "application/vnd.plotly.v1+json": {
       "config": {
        "plotlyServerURL": "https://plot.ly"
       },
       "data": [
        {
         "name": "SVC",
         "type": "bar",
         "x": [
          115,
          144,
          148,
          166,
          168,
          172,
          179,
          191,
          193,
          211,
          213,
          215,
          216,
          218,
          219,
          220,
          224,
          226,
          229,
          230,
          231,
          232,
          233,
          236,
          239,
          249,
          254,
          255,
          258,
          262,
          263,
          265,
          266,
          267,
          268,
          269,
          271,
          272,
          274,
          276,
          277,
          279,
          280,
          282,
          283,
          284,
          288,
          289,
          294,
          295,
          299,
          300,
          301,
          302,
          306,
          307,
          309,
          310,
          311,
          314,
          315,
          316,
          317,
          318,
          319,
          328,
          331,
          332,
          333,
          334,
          335,
          336,
          337,
          339,
          340,
          341,
          342,
          343,
          346,
          347,
          349,
          350,
          351,
          352,
          353,
          354,
          355,
          358,
          360,
          361,
          364,
          365,
          366,
          367,
          368,
          369,
          370,
          371,
          376,
          377,
          379,
          382,
          384,
          387,
          390,
          392,
          395,
          396,
          397,
          398,
          399,
          400,
          401,
          404,
          406,
          408,
          410,
          412,
          414,
          415,
          417,
          418,
          419,
          420,
          421,
          422,
          423,
          424,
          425,
          428,
          429,
          431,
          433,
          434,
          440,
          441,
          443,
          444,
          445,
          447,
          448,
          449,
          450,
          454,
          456,
          457,
          459,
          463,
          466,
          468,
          469,
          470,
          472,
          473,
          480,
          482,
          483,
          485,
          486,
          487,
          490,
          493,
          494,
          496,
          501,
          503,
          507,
          510,
          511,
          514,
          519,
          522,
          526,
          529,
          535,
          539,
          542,
          547,
          549,
          551,
          552,
          559,
          560,
          563,
          568,
          569,
          572,
          576,
          579,
          580,
          581,
          594,
          595,
          598,
          600,
          606,
          610,
          614,
          615,
          616,
          619,
          622,
          627,
          639,
          650,
          659,
          660,
          662,
          714,
          740,
          741,
          743,
          744,
          843,
          885,
          917
         ],
         "y": [
          0,
          0,
          1,
          0,
          0,
          0,
          0,
          0,
          0,
          0,
          0,
          0,
          3,
          0,
          0,
          5,
          0,
          0,
          0,
          0,
          0,
          3,
          0,
          0,
          0,
          1,
          0,
          0,
          0,
          0,
          0,
          0,
          0,
          0,
          0,
          0,
          1,
          0,
          0,
          0,
          1,
          0,
          0,
          0,
          0,
          0,
          0,
          0,
          1,
          0,
          0,
          0,
          0,
          0,
          0,
          3,
          0,
          0,
          0,
          0,
          0,
          2,
          0,
          0,
          1,
          0,
          0,
          0,
          0,
          0,
          1,
          1,
          1,
          1,
          0,
          0,
          0,
          0,
          0,
          0,
          0,
          0,
          1,
          0,
          1,
          0,
          1,
          0,
          0,
          0,
          0,
          0,
          0,
          0,
          0,
          1,
          0,
          1,
          0,
          0,
          0,
          0,
          0,
          0,
          0,
          0,
          0,
          0,
          0,
          1,
          0,
          0,
          0,
          0,
          0,
          1,
          2,
          0,
          0,
          0,
          0,
          0,
          0,
          3,
          0,
          0,
          0,
          0,
          0,
          0,
          0,
          0,
          0,
          0,
          0,
          1,
          0,
          0,
          0,
          0,
          0,
          0,
          0,
          0,
          0,
          1,
          1,
          0,
          0,
          0,
          0,
          0,
          0,
          0,
          0,
          2,
          0,
          0,
          0,
          0,
          0,
          0,
          0,
          0,
          0,
          0,
          0,
          0,
          0,
          0,
          0,
          0,
          0,
          1,
          0,
          0,
          0,
          0,
          0,
          0,
          0,
          0,
          0,
          0,
          0,
          0,
          1,
          0,
          0,
          0,
          0,
          0,
          0,
          0,
          0,
          0,
          0,
          0,
          0,
          0,
          0,
          0,
          0,
          0,
          0,
          0,
          0,
          0,
          0,
          0,
          0,
          0,
          0,
          0,
          0,
          0
         ]
        },
        {
         "name": "Random Forest",
         "type": "bar",
         "x": [
          115,
          144,
          148,
          166,
          168,
          172,
          179,
          191,
          193,
          211,
          213,
          215,
          216,
          218,
          219,
          220,
          224,
          226,
          229,
          230,
          231,
          232,
          233,
          236,
          239,
          249,
          254,
          255,
          258,
          262,
          263,
          265,
          266,
          267,
          268,
          269,
          271,
          272,
          274,
          276,
          277,
          279,
          280,
          282,
          283,
          284,
          288,
          289,
          294,
          295,
          299,
          300,
          301,
          302,
          306,
          307,
          309,
          310,
          311,
          314,
          315,
          316,
          317,
          318,
          319,
          328,
          331,
          332,
          333,
          334,
          335,
          336,
          337,
          339,
          340,
          341,
          342,
          343,
          346,
          347,
          349,
          350,
          351,
          352,
          353,
          354,
          355,
          358,
          360,
          361,
          364,
          365,
          366,
          367,
          368,
          369,
          370,
          371,
          376,
          377,
          379,
          382,
          384,
          387,
          390,
          392,
          395,
          396,
          397,
          398,
          399,
          400,
          401,
          404,
          406,
          408,
          410,
          412,
          414,
          415,
          417,
          418,
          419,
          420,
          421,
          422,
          423,
          424,
          425,
          428,
          429,
          431,
          433,
          434,
          440,
          441,
          443,
          444,
          445,
          447,
          448,
          449,
          450,
          454,
          456,
          457,
          459,
          463,
          466,
          468,
          469,
          470,
          472,
          473,
          480,
          482,
          483,
          485,
          486,
          487,
          490,
          493,
          494,
          496,
          501,
          503,
          507,
          510,
          511,
          514,
          519,
          522,
          526,
          529,
          535,
          539,
          542,
          547,
          549,
          551,
          552,
          559,
          560,
          563,
          568,
          569,
          572,
          576,
          579,
          580,
          581,
          594,
          595,
          598,
          600,
          606,
          610,
          614,
          615,
          616,
          619,
          622,
          627,
          639,
          650,
          659,
          660,
          662,
          714,
          740,
          741,
          743,
          744,
          843,
          885,
          917
         ],
         "y": [
          0,
          0,
          0,
          0,
          0,
          0,
          0,
          0,
          0,
          0,
          0,
          0,
          0,
          0,
          0,
          0,
          0,
          0,
          0,
          0,
          0,
          0,
          0,
          0,
          0,
          0,
          0,
          0,
          0,
          0,
          0,
          0,
          0,
          0,
          0,
          0,
          0,
          0,
          0,
          0,
          0,
          0,
          0,
          0,
          0,
          0,
          0,
          0,
          0,
          0,
          0,
          0,
          0,
          0,
          0,
          0,
          0,
          0,
          0,
          0,
          0,
          0,
          0,
          0,
          0,
          0,
          0,
          0,
          0,
          0,
          0,
          0,
          0,
          0,
          0,
          0,
          0,
          0,
          0,
          0,
          0,
          0,
          0,
          0,
          0,
          0,
          0,
          0,
          0,
          0,
          0,
          0,
          0,
          0,
          0,
          0,
          0,
          0,
          0,
          0,
          0,
          0,
          0,
          0,
          0,
          0,
          0,
          0,
          0,
          0,
          0,
          0,
          0,
          0,
          0,
          0,
          0,
          0,
          0,
          0,
          0,
          0,
          0,
          0,
          0,
          0,
          0,
          0,
          0,
          0,
          0,
          30,
          15,
          0,
          0,
          0,
          0,
          0,
          0,
          0,
          0,
          0,
          0,
          0,
          1,
          0,
          100,
          0,
          0,
          0,
          0,
          0,
          0,
          0,
          0,
          0,
          0,
          0,
          0,
          0,
          0,
          0,
          0,
          0,
          0,
          0,
          0,
          0,
          0,
          0,
          0,
          0,
          0,
          0,
          0,
          0,
          0,
          2,
          0,
          0,
          0,
          0,
          0,
          203,
          0,
          0,
          0,
          0,
          84,
          91,
          0,
          0,
          0,
          21,
          0,
          0,
          54,
          0,
          0,
          0,
          0,
          0,
          0,
          0,
          0,
          0,
          9,
          0,
          0,
          0,
          0,
          0,
          0,
          0,
          0,
          0
         ]
        }
       ],
       "layout": {
        "barmode": "group",
        "template": {
         "data": {
          "bar": [
           {
            "error_x": {
             "color": "#2a3f5f"
            },
            "error_y": {
             "color": "#2a3f5f"
            },
            "marker": {
             "line": {
              "color": "#E5ECF6",
              "width": 0.5
             },
             "pattern": {
              "fillmode": "overlay",
              "size": 10,
              "solidity": 0.2
             }
            },
            "type": "bar"
           }
          ],
          "barpolar": [
           {
            "marker": {
             "line": {
              "color": "#E5ECF6",
              "width": 0.5
             },
             "pattern": {
              "fillmode": "overlay",
              "size": 10,
              "solidity": 0.2
             }
            },
            "type": "barpolar"
           }
          ],
          "carpet": [
           {
            "aaxis": {
             "endlinecolor": "#2a3f5f",
             "gridcolor": "white",
             "linecolor": "white",
             "minorgridcolor": "white",
             "startlinecolor": "#2a3f5f"
            },
            "baxis": {
             "endlinecolor": "#2a3f5f",
             "gridcolor": "white",
             "linecolor": "white",
             "minorgridcolor": "white",
             "startlinecolor": "#2a3f5f"
            },
            "type": "carpet"
           }
          ],
          "choropleth": [
           {
            "colorbar": {
             "outlinewidth": 0,
             "ticks": ""
            },
            "type": "choropleth"
           }
          ],
          "contour": [
           {
            "colorbar": {
             "outlinewidth": 0,
             "ticks": ""
            },
            "colorscale": [
             [
              0,
              "#0d0887"
             ],
             [
              0.1111111111111111,
              "#46039f"
             ],
             [
              0.2222222222222222,
              "#7201a8"
             ],
             [
              0.3333333333333333,
              "#9c179e"
             ],
             [
              0.4444444444444444,
              "#bd3786"
             ],
             [
              0.5555555555555556,
              "#d8576b"
             ],
             [
              0.6666666666666666,
              "#ed7953"
             ],
             [
              0.7777777777777778,
              "#fb9f3a"
             ],
             [
              0.8888888888888888,
              "#fdca26"
             ],
             [
              1,
              "#f0f921"
             ]
            ],
            "type": "contour"
           }
          ],
          "contourcarpet": [
           {
            "colorbar": {
             "outlinewidth": 0,
             "ticks": ""
            },
            "type": "contourcarpet"
           }
          ],
          "heatmap": [
           {
            "colorbar": {
             "outlinewidth": 0,
             "ticks": ""
            },
            "colorscale": [
             [
              0,
              "#0d0887"
             ],
             [
              0.1111111111111111,
              "#46039f"
             ],
             [
              0.2222222222222222,
              "#7201a8"
             ],
             [
              0.3333333333333333,
              "#9c179e"
             ],
             [
              0.4444444444444444,
              "#bd3786"
             ],
             [
              0.5555555555555556,
              "#d8576b"
             ],
             [
              0.6666666666666666,
              "#ed7953"
             ],
             [
              0.7777777777777778,
              "#fb9f3a"
             ],
             [
              0.8888888888888888,
              "#fdca26"
             ],
             [
              1,
              "#f0f921"
             ]
            ],
            "type": "heatmap"
           }
          ],
          "heatmapgl": [
           {
            "colorbar": {
             "outlinewidth": 0,
             "ticks": ""
            },
            "colorscale": [
             [
              0,
              "#0d0887"
             ],
             [
              0.1111111111111111,
              "#46039f"
             ],
             [
              0.2222222222222222,
              "#7201a8"
             ],
             [
              0.3333333333333333,
              "#9c179e"
             ],
             [
              0.4444444444444444,
              "#bd3786"
             ],
             [
              0.5555555555555556,
              "#d8576b"
             ],
             [
              0.6666666666666666,
              "#ed7953"
             ],
             [
              0.7777777777777778,
              "#fb9f3a"
             ],
             [
              0.8888888888888888,
              "#fdca26"
             ],
             [
              1,
              "#f0f921"
             ]
            ],
            "type": "heatmapgl"
           }
          ],
          "histogram": [
           {
            "marker": {
             "pattern": {
              "fillmode": "overlay",
              "size": 10,
              "solidity": 0.2
             }
            },
            "type": "histogram"
           }
          ],
          "histogram2d": [
           {
            "colorbar": {
             "outlinewidth": 0,
             "ticks": ""
            },
            "colorscale": [
             [
              0,
              "#0d0887"
             ],
             [
              0.1111111111111111,
              "#46039f"
             ],
             [
              0.2222222222222222,
              "#7201a8"
             ],
             [
              0.3333333333333333,
              "#9c179e"
             ],
             [
              0.4444444444444444,
              "#bd3786"
             ],
             [
              0.5555555555555556,
              "#d8576b"
             ],
             [
              0.6666666666666666,
              "#ed7953"
             ],
             [
              0.7777777777777778,
              "#fb9f3a"
             ],
             [
              0.8888888888888888,
              "#fdca26"
             ],
             [
              1,
              "#f0f921"
             ]
            ],
            "type": "histogram2d"
           }
          ],
          "histogram2dcontour": [
           {
            "colorbar": {
             "outlinewidth": 0,
             "ticks": ""
            },
            "colorscale": [
             [
              0,
              "#0d0887"
             ],
             [
              0.1111111111111111,
              "#46039f"
             ],
             [
              0.2222222222222222,
              "#7201a8"
             ],
             [
              0.3333333333333333,
              "#9c179e"
             ],
             [
              0.4444444444444444,
              "#bd3786"
             ],
             [
              0.5555555555555556,
              "#d8576b"
             ],
             [
              0.6666666666666666,
              "#ed7953"
             ],
             [
              0.7777777777777778,
              "#fb9f3a"
             ],
             [
              0.8888888888888888,
              "#fdca26"
             ],
             [
              1,
              "#f0f921"
             ]
            ],
            "type": "histogram2dcontour"
           }
          ],
          "mesh3d": [
           {
            "colorbar": {
             "outlinewidth": 0,
             "ticks": ""
            },
            "type": "mesh3d"
           }
          ],
          "parcoords": [
           {
            "line": {
             "colorbar": {
              "outlinewidth": 0,
              "ticks": ""
             }
            },
            "type": "parcoords"
           }
          ],
          "pie": [
           {
            "automargin": true,
            "type": "pie"
           }
          ],
          "scatter": [
           {
            "fillpattern": {
             "fillmode": "overlay",
             "size": 10,
             "solidity": 0.2
            },
            "type": "scatter"
           }
          ],
          "scatter3d": [
           {
            "line": {
             "colorbar": {
              "outlinewidth": 0,
              "ticks": ""
             }
            },
            "marker": {
             "colorbar": {
              "outlinewidth": 0,
              "ticks": ""
             }
            },
            "type": "scatter3d"
           }
          ],
          "scattercarpet": [
           {
            "marker": {
             "colorbar": {
              "outlinewidth": 0,
              "ticks": ""
             }
            },
            "type": "scattercarpet"
           }
          ],
          "scattergeo": [
           {
            "marker": {
             "colorbar": {
              "outlinewidth": 0,
              "ticks": ""
             }
            },
            "type": "scattergeo"
           }
          ],
          "scattergl": [
           {
            "marker": {
             "colorbar": {
              "outlinewidth": 0,
              "ticks": ""
             }
            },
            "type": "scattergl"
           }
          ],
          "scattermapbox": [
           {
            "marker": {
             "colorbar": {
              "outlinewidth": 0,
              "ticks": ""
             }
            },
            "type": "scattermapbox"
           }
          ],
          "scatterpolar": [
           {
            "marker": {
             "colorbar": {
              "outlinewidth": 0,
              "ticks": ""
             }
            },
            "type": "scatterpolar"
           }
          ],
          "scatterpolargl": [
           {
            "marker": {
             "colorbar": {
              "outlinewidth": 0,
              "ticks": ""
             }
            },
            "type": "scatterpolargl"
           }
          ],
          "scatterternary": [
           {
            "marker": {
             "colorbar": {
              "outlinewidth": 0,
              "ticks": ""
             }
            },
            "type": "scatterternary"
           }
          ],
          "surface": [
           {
            "colorbar": {
             "outlinewidth": 0,
             "ticks": ""
            },
            "colorscale": [
             [
              0,
              "#0d0887"
             ],
             [
              0.1111111111111111,
              "#46039f"
             ],
             [
              0.2222222222222222,
              "#7201a8"
             ],
             [
              0.3333333333333333,
              "#9c179e"
             ],
             [
              0.4444444444444444,
              "#bd3786"
             ],
             [
              0.5555555555555556,
              "#d8576b"
             ],
             [
              0.6666666666666666,
              "#ed7953"
             ],
             [
              0.7777777777777778,
              "#fb9f3a"
             ],
             [
              0.8888888888888888,
              "#fdca26"
             ],
             [
              1,
              "#f0f921"
             ]
            ],
            "type": "surface"
           }
          ],
          "table": [
           {
            "cells": {
             "fill": {
              "color": "#EBF0F8"
             },
             "line": {
              "color": "white"
             }
            },
            "header": {
             "fill": {
              "color": "#C8D4E3"
             },
             "line": {
              "color": "white"
             }
            },
            "type": "table"
           }
          ]
         },
         "layout": {
          "annotationdefaults": {
           "arrowcolor": "#2a3f5f",
           "arrowhead": 0,
           "arrowwidth": 1
          },
          "autotypenumbers": "strict",
          "coloraxis": {
           "colorbar": {
            "outlinewidth": 0,
            "ticks": ""
           }
          },
          "colorscale": {
           "diverging": [
            [
             0,
             "#8e0152"
            ],
            [
             0.1,
             "#c51b7d"
            ],
            [
             0.2,
             "#de77ae"
            ],
            [
             0.3,
             "#f1b6da"
            ],
            [
             0.4,
             "#fde0ef"
            ],
            [
             0.5,
             "#f7f7f7"
            ],
            [
             0.6,
             "#e6f5d0"
            ],
            [
             0.7,
             "#b8e186"
            ],
            [
             0.8,
             "#7fbc41"
            ],
            [
             0.9,
             "#4d9221"
            ],
            [
             1,
             "#276419"
            ]
           ],
           "sequential": [
            [
             0,
             "#0d0887"
            ],
            [
             0.1111111111111111,
             "#46039f"
            ],
            [
             0.2222222222222222,
             "#7201a8"
            ],
            [
             0.3333333333333333,
             "#9c179e"
            ],
            [
             0.4444444444444444,
             "#bd3786"
            ],
            [
             0.5555555555555556,
             "#d8576b"
            ],
            [
             0.6666666666666666,
             "#ed7953"
            ],
            [
             0.7777777777777778,
             "#fb9f3a"
            ],
            [
             0.8888888888888888,
             "#fdca26"
            ],
            [
             1,
             "#f0f921"
            ]
           ],
           "sequentialminus": [
            [
             0,
             "#0d0887"
            ],
            [
             0.1111111111111111,
             "#46039f"
            ],
            [
             0.2222222222222222,
             "#7201a8"
            ],
            [
             0.3333333333333333,
             "#9c179e"
            ],
            [
             0.4444444444444444,
             "#bd3786"
            ],
            [
             0.5555555555555556,
             "#d8576b"
            ],
            [
             0.6666666666666666,
             "#ed7953"
            ],
            [
             0.7777777777777778,
             "#fb9f3a"
            ],
            [
             0.8888888888888888,
             "#fdca26"
            ],
            [
             1,
             "#f0f921"
            ]
           ]
          },
          "colorway": [
           "#636efa",
           "#EF553B",
           "#00cc96",
           "#ab63fa",
           "#FFA15A",
           "#19d3f3",
           "#FF6692",
           "#B6E880",
           "#FF97FF",
           "#FECB52"
          ],
          "font": {
           "color": "#2a3f5f"
          },
          "geo": {
           "bgcolor": "white",
           "lakecolor": "white",
           "landcolor": "#E5ECF6",
           "showlakes": true,
           "showland": true,
           "subunitcolor": "white"
          },
          "hoverlabel": {
           "align": "left"
          },
          "hovermode": "closest",
          "mapbox": {
           "style": "light"
          },
          "paper_bgcolor": "white",
          "plot_bgcolor": "#E5ECF6",
          "polar": {
           "angularaxis": {
            "gridcolor": "white",
            "linecolor": "white",
            "ticks": ""
           },
           "bgcolor": "#E5ECF6",
           "radialaxis": {
            "gridcolor": "white",
            "linecolor": "white",
            "ticks": ""
           }
          },
          "scene": {
           "xaxis": {
            "backgroundcolor": "#E5ECF6",
            "gridcolor": "white",
            "gridwidth": 2,
            "linecolor": "white",
            "showbackground": true,
            "ticks": "",
            "zerolinecolor": "white"
           },
           "yaxis": {
            "backgroundcolor": "#E5ECF6",
            "gridcolor": "white",
            "gridwidth": 2,
            "linecolor": "white",
            "showbackground": true,
            "ticks": "",
            "zerolinecolor": "white"
           },
           "zaxis": {
            "backgroundcolor": "#E5ECF6",
            "gridcolor": "white",
            "gridwidth": 2,
            "linecolor": "white",
            "showbackground": true,
            "ticks": "",
            "zerolinecolor": "white"
           }
          },
          "shapedefaults": {
           "line": {
            "color": "#2a3f5f"
           }
          },
          "ternary": {
           "aaxis": {
            "gridcolor": "white",
            "linecolor": "white",
            "ticks": ""
           },
           "baxis": {
            "gridcolor": "white",
            "linecolor": "white",
            "ticks": ""
           },
           "bgcolor": "#E5ECF6",
           "caxis": {
            "gridcolor": "white",
            "linecolor": "white",
            "ticks": ""
           }
          },
          "title": {
           "x": 0.05
          },
          "xaxis": {
           "automargin": true,
           "gridcolor": "white",
           "linecolor": "white",
           "ticks": "",
           "title": {
            "standoff": 15
           },
           "zerolinecolor": "white",
           "zerolinewidth": 2
          },
          "yaxis": {
           "automargin": true,
           "gridcolor": "white",
           "linecolor": "white",
           "ticks": "",
           "title": {
            "standoff": 15
           },
           "zerolinecolor": "white",
           "zerolinewidth": 2
          }
         }
        },
        "title": {
         "text": "Prediction Error Frequency"
        },
        "xaxis": {
         "title": {
          "text": "Predicted Label"
         },
         "type": "category"
        },
        "yaxis": {
         "title": {
          "text": "Frequency of Incorrect Predictions"
         }
        }
       }
      }
     },
     "metadata": {},
     "output_type": "display_data"
    },
    {
     "data": {
      "application/vnd.plotly.v1+json": {
       "config": {
        "plotlyServerURL": "https://plot.ly"
       },
       "data": [
        {
         "marker": {
          "color": "blue",
          "line": {
           "color": "blue",
           "width": 1.5
          }
         },
         "name": "SVC",
         "opacity": 1,
         "type": "bar",
         "width": 0.5,
         "x": [
          115,
          144,
          166,
          168,
          172,
          179,
          191,
          193,
          202,
          211,
          213,
          215,
          216,
          218,
          219,
          220,
          222,
          224,
          226,
          229,
          230,
          231,
          232,
          233,
          236,
          239,
          249,
          251,
          254,
          255,
          258,
          262,
          263,
          265,
          266,
          267,
          268,
          269,
          272,
          274,
          276,
          277,
          279,
          280,
          282,
          283,
          284,
          288,
          289,
          294,
          295,
          296,
          299,
          300,
          301,
          302,
          303,
          306,
          307,
          309,
          310,
          311,
          314,
          315,
          316,
          317,
          318,
          319,
          328,
          330,
          331,
          332,
          333,
          334,
          335,
          336,
          337,
          339,
          340,
          341,
          342,
          343,
          346,
          347,
          349,
          350,
          351,
          352,
          354,
          355,
          358,
          360,
          361,
          364,
          365,
          366,
          367,
          368,
          369,
          370,
          371,
          376,
          377,
          379,
          382,
          384,
          387,
          390,
          392,
          395,
          396,
          397,
          399,
          400,
          401,
          404,
          406,
          408,
          410,
          412,
          414,
          415,
          417,
          418,
          419,
          420,
          421,
          422,
          423,
          424,
          425,
          428,
          429,
          431,
          433,
          434,
          440,
          441,
          443,
          444,
          445,
          447,
          448,
          449,
          450,
          454,
          456,
          459,
          463,
          466,
          468,
          469,
          470,
          472,
          473,
          480,
          482,
          483,
          485,
          486,
          487,
          490,
          493,
          494,
          496,
          501,
          503,
          507,
          510,
          511,
          514,
          519,
          522,
          526,
          529,
          535,
          539,
          542,
          546,
          547,
          549,
          551,
          552,
          559,
          560,
          563,
          568,
          569,
          572,
          576,
          579,
          580,
          581,
          594,
          595,
          596,
          598,
          600,
          606,
          610,
          614,
          615,
          616,
          619,
          622,
          627,
          639,
          650,
          659,
          660,
          662,
          714,
          740,
          741,
          743,
          744,
          843,
          885,
          917
         ],
         "y": [
          0,
          0,
          1,
          0,
          0,
          0,
          0,
          0,
          2,
          0,
          0,
          0,
          0,
          0,
          0,
          0,
          1,
          0,
          0,
          0,
          0,
          0,
          0,
          1,
          4,
          0,
          0,
          3,
          0,
          0,
          0,
          0,
          0,
          0,
          0,
          0,
          0,
          1,
          0,
          0,
          0,
          0,
          0,
          0,
          0,
          0,
          0,
          0,
          0,
          0,
          0,
          1,
          0,
          0,
          0,
          0,
          1,
          2,
          0,
          1,
          1,
          0,
          0,
          0,
          0,
          0,
          0,
          0,
          0,
          1,
          0,
          2,
          0,
          3,
          1,
          3,
          0,
          1,
          0,
          0,
          0,
          0,
          0,
          1,
          0,
          0,
          0,
          0,
          0,
          0,
          1,
          0,
          0,
          0,
          0,
          0,
          0,
          0,
          0,
          0,
          0,
          0,
          0,
          0,
          0,
          0,
          0,
          0,
          0,
          0,
          0,
          0,
          0,
          0,
          0,
          0,
          0,
          0,
          1,
          0,
          0,
          0,
          0,
          0,
          0,
          0,
          0,
          0,
          0,
          0,
          0,
          0,
          0,
          0,
          0,
          0,
          0,
          2,
          0,
          0,
          0,
          0,
          0,
          0,
          2,
          1,
          0,
          0,
          0,
          0,
          0,
          0,
          0,
          0,
          1,
          0,
          0,
          0,
          0,
          0,
          1,
          0,
          0,
          0,
          0,
          1,
          0,
          0,
          0,
          0,
          0,
          0,
          0,
          1,
          0,
          0,
          0,
          0,
          1,
          0,
          0,
          0,
          0,
          0,
          0,
          0,
          0,
          0,
          0,
          0,
          0,
          0,
          0,
          0,
          0,
          1,
          0,
          0,
          0,
          0,
          0,
          0,
          0,
          0,
          0,
          0,
          0,
          0,
          0,
          0,
          0,
          1,
          0,
          0,
          0,
          0,
          0,
          0,
          0
         ]
        },
        {
         "marker": {
          "color": "red",
          "line": {
           "color": "red",
           "width": 1.5
          }
         },
         "name": "Random Forest",
         "opacity": 1,
         "type": "bar",
         "width": 0.5,
         "x": [
          115,
          144,
          166,
          168,
          172,
          179,
          191,
          193,
          202,
          211,
          213,
          215,
          216,
          218,
          219,
          220,
          222,
          224,
          226,
          229,
          230,
          231,
          232,
          233,
          236,
          239,
          249,
          251,
          254,
          255,
          258,
          262,
          263,
          265,
          266,
          267,
          268,
          269,
          272,
          274,
          276,
          277,
          279,
          280,
          282,
          283,
          284,
          288,
          289,
          294,
          295,
          296,
          299,
          300,
          301,
          302,
          303,
          306,
          307,
          309,
          310,
          311,
          314,
          315,
          316,
          317,
          318,
          319,
          328,
          330,
          331,
          332,
          333,
          334,
          335,
          336,
          337,
          339,
          340,
          341,
          342,
          343,
          346,
          347,
          349,
          350,
          351,
          352,
          354,
          355,
          358,
          360,
          361,
          364,
          365,
          366,
          367,
          368,
          369,
          370,
          371,
          376,
          377,
          379,
          382,
          384,
          387,
          390,
          392,
          395,
          396,
          397,
          399,
          400,
          401,
          404,
          406,
          408,
          410,
          412,
          414,
          415,
          417,
          418,
          419,
          420,
          421,
          422,
          423,
          424,
          425,
          428,
          429,
          431,
          433,
          434,
          440,
          441,
          443,
          444,
          445,
          447,
          448,
          449,
          450,
          454,
          456,
          459,
          463,
          466,
          468,
          469,
          470,
          472,
          473,
          480,
          482,
          483,
          485,
          486,
          487,
          490,
          493,
          494,
          496,
          501,
          503,
          507,
          510,
          511,
          514,
          519,
          522,
          526,
          529,
          535,
          539,
          542,
          546,
          547,
          549,
          551,
          552,
          559,
          560,
          563,
          568,
          569,
          572,
          576,
          579,
          580,
          581,
          594,
          595,
          596,
          598,
          600,
          606,
          610,
          614,
          615,
          616,
          619,
          622,
          627,
          639,
          650,
          659,
          660,
          662,
          714,
          740,
          741,
          743,
          744,
          843,
          885,
          917
         ],
         "y": [
          0,
          2,
          0,
          1,
          2,
          0,
          1,
          1,
          2,
          2,
          1,
          3,
          5,
          2,
          2,
          1,
          1,
          1,
          1,
          1,
          2,
          1,
          1,
          2,
          4,
          1,
          0,
          3,
          1,
          0,
          4,
          1,
          4,
          2,
          1,
          2,
          1,
          3,
          3,
          1,
          1,
          1,
          4,
          1,
          1,
          3,
          2,
          2,
          1,
          3,
          3,
          1,
          1,
          2,
          9,
          1,
          1,
          3,
          9,
          4,
          3,
          1,
          4,
          1,
          4,
          6,
          1,
          6,
          3,
          1,
          1,
          3,
          1,
          8,
          6,
          4,
          6,
          2,
          8,
          5,
          4,
          2,
          4,
          4,
          4,
          2,
          2,
          4,
          4,
          4,
          4,
          5,
          0,
          2,
          7,
          11,
          1,
          2,
          1,
          2,
          2,
          8,
          1,
          2,
          3,
          2,
          16,
          4,
          3,
          11,
          2,
          8,
          1,
          0,
          4,
          4,
          0,
          8,
          1,
          7,
          5,
          3,
          9,
          1,
          1,
          5,
          4,
          1,
          4,
          4,
          7,
          2,
          4,
          0,
          0,
          1,
          8,
          3,
          1,
          10,
          3,
          1,
          0,
          2,
          4,
          5,
          11,
          0,
          3,
          3,
          1,
          3,
          2,
          2,
          4,
          3,
          1,
          1,
          6,
          1,
          2,
          2,
          2,
          0,
          1,
          1,
          2,
          2,
          1,
          5,
          1,
          0,
          12,
          0,
          3,
          2,
          5,
          9,
          1,
          0,
          0,
          4,
          3,
          3,
          1,
          0,
          1,
          1,
          0,
          0,
          3,
          0,
          9,
          0,
          3,
          1,
          3,
          5,
          6,
          2,
          1,
          1,
          1,
          1,
          6,
          0,
          0,
          0,
          1,
          0,
          3,
          4,
          3,
          5,
          0,
          3,
          3,
          3,
          1
         ]
        }
       ],
       "layout": {
        "barmode": "group",
        "font": {
         "size": 12
        },
        "plot_bgcolor": "rgba(255, 255, 255, 1)",
        "template": {
         "data": {
          "bar": [
           {
            "error_x": {
             "color": "#2a3f5f"
            },
            "error_y": {
             "color": "#2a3f5f"
            },
            "marker": {
             "line": {
              "color": "#E5ECF6",
              "width": 0.5
             },
             "pattern": {
              "fillmode": "overlay",
              "size": 10,
              "solidity": 0.2
             }
            },
            "type": "bar"
           }
          ],
          "barpolar": [
           {
            "marker": {
             "line": {
              "color": "#E5ECF6",
              "width": 0.5
             },
             "pattern": {
              "fillmode": "overlay",
              "size": 10,
              "solidity": 0.2
             }
            },
            "type": "barpolar"
           }
          ],
          "carpet": [
           {
            "aaxis": {
             "endlinecolor": "#2a3f5f",
             "gridcolor": "white",
             "linecolor": "white",
             "minorgridcolor": "white",
             "startlinecolor": "#2a3f5f"
            },
            "baxis": {
             "endlinecolor": "#2a3f5f",
             "gridcolor": "white",
             "linecolor": "white",
             "minorgridcolor": "white",
             "startlinecolor": "#2a3f5f"
            },
            "type": "carpet"
           }
          ],
          "choropleth": [
           {
            "colorbar": {
             "outlinewidth": 0,
             "ticks": ""
            },
            "type": "choropleth"
           }
          ],
          "contour": [
           {
            "colorbar": {
             "outlinewidth": 0,
             "ticks": ""
            },
            "colorscale": [
             [
              0,
              "#0d0887"
             ],
             [
              0.1111111111111111,
              "#46039f"
             ],
             [
              0.2222222222222222,
              "#7201a8"
             ],
             [
              0.3333333333333333,
              "#9c179e"
             ],
             [
              0.4444444444444444,
              "#bd3786"
             ],
             [
              0.5555555555555556,
              "#d8576b"
             ],
             [
              0.6666666666666666,
              "#ed7953"
             ],
             [
              0.7777777777777778,
              "#fb9f3a"
             ],
             [
              0.8888888888888888,
              "#fdca26"
             ],
             [
              1,
              "#f0f921"
             ]
            ],
            "type": "contour"
           }
          ],
          "contourcarpet": [
           {
            "colorbar": {
             "outlinewidth": 0,
             "ticks": ""
            },
            "type": "contourcarpet"
           }
          ],
          "heatmap": [
           {
            "colorbar": {
             "outlinewidth": 0,
             "ticks": ""
            },
            "colorscale": [
             [
              0,
              "#0d0887"
             ],
             [
              0.1111111111111111,
              "#46039f"
             ],
             [
              0.2222222222222222,
              "#7201a8"
             ],
             [
              0.3333333333333333,
              "#9c179e"
             ],
             [
              0.4444444444444444,
              "#bd3786"
             ],
             [
              0.5555555555555556,
              "#d8576b"
             ],
             [
              0.6666666666666666,
              "#ed7953"
             ],
             [
              0.7777777777777778,
              "#fb9f3a"
             ],
             [
              0.8888888888888888,
              "#fdca26"
             ],
             [
              1,
              "#f0f921"
             ]
            ],
            "type": "heatmap"
           }
          ],
          "heatmapgl": [
           {
            "colorbar": {
             "outlinewidth": 0,
             "ticks": ""
            },
            "colorscale": [
             [
              0,
              "#0d0887"
             ],
             [
              0.1111111111111111,
              "#46039f"
             ],
             [
              0.2222222222222222,
              "#7201a8"
             ],
             [
              0.3333333333333333,
              "#9c179e"
             ],
             [
              0.4444444444444444,
              "#bd3786"
             ],
             [
              0.5555555555555556,
              "#d8576b"
             ],
             [
              0.6666666666666666,
              "#ed7953"
             ],
             [
              0.7777777777777778,
              "#fb9f3a"
             ],
             [
              0.8888888888888888,
              "#fdca26"
             ],
             [
              1,
              "#f0f921"
             ]
            ],
            "type": "heatmapgl"
           }
          ],
          "histogram": [
           {
            "marker": {
             "pattern": {
              "fillmode": "overlay",
              "size": 10,
              "solidity": 0.2
             }
            },
            "type": "histogram"
           }
          ],
          "histogram2d": [
           {
            "colorbar": {
             "outlinewidth": 0,
             "ticks": ""
            },
            "colorscale": [
             [
              0,
              "#0d0887"
             ],
             [
              0.1111111111111111,
              "#46039f"
             ],
             [
              0.2222222222222222,
              "#7201a8"
             ],
             [
              0.3333333333333333,
              "#9c179e"
             ],
             [
              0.4444444444444444,
              "#bd3786"
             ],
             [
              0.5555555555555556,
              "#d8576b"
             ],
             [
              0.6666666666666666,
              "#ed7953"
             ],
             [
              0.7777777777777778,
              "#fb9f3a"
             ],
             [
              0.8888888888888888,
              "#fdca26"
             ],
             [
              1,
              "#f0f921"
             ]
            ],
            "type": "histogram2d"
           }
          ],
          "histogram2dcontour": [
           {
            "colorbar": {
             "outlinewidth": 0,
             "ticks": ""
            },
            "colorscale": [
             [
              0,
              "#0d0887"
             ],
             [
              0.1111111111111111,
              "#46039f"
             ],
             [
              0.2222222222222222,
              "#7201a8"
             ],
             [
              0.3333333333333333,
              "#9c179e"
             ],
             [
              0.4444444444444444,
              "#bd3786"
             ],
             [
              0.5555555555555556,
              "#d8576b"
             ],
             [
              0.6666666666666666,
              "#ed7953"
             ],
             [
              0.7777777777777778,
              "#fb9f3a"
             ],
             [
              0.8888888888888888,
              "#fdca26"
             ],
             [
              1,
              "#f0f921"
             ]
            ],
            "type": "histogram2dcontour"
           }
          ],
          "mesh3d": [
           {
            "colorbar": {
             "outlinewidth": 0,
             "ticks": ""
            },
            "type": "mesh3d"
           }
          ],
          "parcoords": [
           {
            "line": {
             "colorbar": {
              "outlinewidth": 0,
              "ticks": ""
             }
            },
            "type": "parcoords"
           }
          ],
          "pie": [
           {
            "automargin": true,
            "type": "pie"
           }
          ],
          "scatter": [
           {
            "fillpattern": {
             "fillmode": "overlay",
             "size": 10,
             "solidity": 0.2
            },
            "type": "scatter"
           }
          ],
          "scatter3d": [
           {
            "line": {
             "colorbar": {
              "outlinewidth": 0,
              "ticks": ""
             }
            },
            "marker": {
             "colorbar": {
              "outlinewidth": 0,
              "ticks": ""
             }
            },
            "type": "scatter3d"
           }
          ],
          "scattercarpet": [
           {
            "marker": {
             "colorbar": {
              "outlinewidth": 0,
              "ticks": ""
             }
            },
            "type": "scattercarpet"
           }
          ],
          "scattergeo": [
           {
            "marker": {
             "colorbar": {
              "outlinewidth": 0,
              "ticks": ""
             }
            },
            "type": "scattergeo"
           }
          ],
          "scattergl": [
           {
            "marker": {
             "colorbar": {
              "outlinewidth": 0,
              "ticks": ""
             }
            },
            "type": "scattergl"
           }
          ],
          "scattermapbox": [
           {
            "marker": {
             "colorbar": {
              "outlinewidth": 0,
              "ticks": ""
             }
            },
            "type": "scattermapbox"
           }
          ],
          "scatterpolar": [
           {
            "marker": {
             "colorbar": {
              "outlinewidth": 0,
              "ticks": ""
             }
            },
            "type": "scatterpolar"
           }
          ],
          "scatterpolargl": [
           {
            "marker": {
             "colorbar": {
              "outlinewidth": 0,
              "ticks": ""
             }
            },
            "type": "scatterpolargl"
           }
          ],
          "scatterternary": [
           {
            "marker": {
             "colorbar": {
              "outlinewidth": 0,
              "ticks": ""
             }
            },
            "type": "scatterternary"
           }
          ],
          "surface": [
           {
            "colorbar": {
             "outlinewidth": 0,
             "ticks": ""
            },
            "colorscale": [
             [
              0,
              "#0d0887"
             ],
             [
              0.1111111111111111,
              "#46039f"
             ],
             [
              0.2222222222222222,
              "#7201a8"
             ],
             [
              0.3333333333333333,
              "#9c179e"
             ],
             [
              0.4444444444444444,
              "#bd3786"
             ],
             [
              0.5555555555555556,
              "#d8576b"
             ],
             [
              0.6666666666666666,
              "#ed7953"
             ],
             [
              0.7777777777777778,
              "#fb9f3a"
             ],
             [
              0.8888888888888888,
              "#fdca26"
             ],
             [
              1,
              "#f0f921"
             ]
            ],
            "type": "surface"
           }
          ],
          "table": [
           {
            "cells": {
             "fill": {
              "color": "#EBF0F8"
             },
             "line": {
              "color": "white"
             }
            },
            "header": {
             "fill": {
              "color": "#C8D4E3"
             },
             "line": {
              "color": "white"
             }
            },
            "type": "table"
           }
          ]
         },
         "layout": {
          "annotationdefaults": {
           "arrowcolor": "#2a3f5f",
           "arrowhead": 0,
           "arrowwidth": 1
          },
          "autotypenumbers": "strict",
          "coloraxis": {
           "colorbar": {
            "outlinewidth": 0,
            "ticks": ""
           }
          },
          "colorscale": {
           "diverging": [
            [
             0,
             "#8e0152"
            ],
            [
             0.1,
             "#c51b7d"
            ],
            [
             0.2,
             "#de77ae"
            ],
            [
             0.3,
             "#f1b6da"
            ],
            [
             0.4,
             "#fde0ef"
            ],
            [
             0.5,
             "#f7f7f7"
            ],
            [
             0.6,
             "#e6f5d0"
            ],
            [
             0.7,
             "#b8e186"
            ],
            [
             0.8,
             "#7fbc41"
            ],
            [
             0.9,
             "#4d9221"
            ],
            [
             1,
             "#276419"
            ]
           ],
           "sequential": [
            [
             0,
             "#0d0887"
            ],
            [
             0.1111111111111111,
             "#46039f"
            ],
            [
             0.2222222222222222,
             "#7201a8"
            ],
            [
             0.3333333333333333,
             "#9c179e"
            ],
            [
             0.4444444444444444,
             "#bd3786"
            ],
            [
             0.5555555555555556,
             "#d8576b"
            ],
            [
             0.6666666666666666,
             "#ed7953"
            ],
            [
             0.7777777777777778,
             "#fb9f3a"
            ],
            [
             0.8888888888888888,
             "#fdca26"
            ],
            [
             1,
             "#f0f921"
            ]
           ],
           "sequentialminus": [
            [
             0,
             "#0d0887"
            ],
            [
             0.1111111111111111,
             "#46039f"
            ],
            [
             0.2222222222222222,
             "#7201a8"
            ],
            [
             0.3333333333333333,
             "#9c179e"
            ],
            [
             0.4444444444444444,
             "#bd3786"
            ],
            [
             0.5555555555555556,
             "#d8576b"
            ],
            [
             0.6666666666666666,
             "#ed7953"
            ],
            [
             0.7777777777777778,
             "#fb9f3a"
            ],
            [
             0.8888888888888888,
             "#fdca26"
            ],
            [
             1,
             "#f0f921"
            ]
           ]
          },
          "colorway": [
           "#636efa",
           "#EF553B",
           "#00cc96",
           "#ab63fa",
           "#FFA15A",
           "#19d3f3",
           "#FF6692",
           "#B6E880",
           "#FF97FF",
           "#FECB52"
          ],
          "font": {
           "color": "#2a3f5f"
          },
          "geo": {
           "bgcolor": "white",
           "lakecolor": "white",
           "landcolor": "#E5ECF6",
           "showlakes": true,
           "showland": true,
           "subunitcolor": "white"
          },
          "hoverlabel": {
           "align": "left"
          },
          "hovermode": "closest",
          "mapbox": {
           "style": "light"
          },
          "paper_bgcolor": "white",
          "plot_bgcolor": "#E5ECF6",
          "polar": {
           "angularaxis": {
            "gridcolor": "white",
            "linecolor": "white",
            "ticks": ""
           },
           "bgcolor": "#E5ECF6",
           "radialaxis": {
            "gridcolor": "white",
            "linecolor": "white",
            "ticks": ""
           }
          },
          "scene": {
           "xaxis": {
            "backgroundcolor": "#E5ECF6",
            "gridcolor": "white",
            "gridwidth": 2,
            "linecolor": "white",
            "showbackground": true,
            "ticks": "",
            "zerolinecolor": "white"
           },
           "yaxis": {
            "backgroundcolor": "#E5ECF6",
            "gridcolor": "white",
            "gridwidth": 2,
            "linecolor": "white",
            "showbackground": true,
            "ticks": "",
            "zerolinecolor": "white"
           },
           "zaxis": {
            "backgroundcolor": "#E5ECF6",
            "gridcolor": "white",
            "gridwidth": 2,
            "linecolor": "white",
            "showbackground": true,
            "ticks": "",
            "zerolinecolor": "white"
           }
          },
          "shapedefaults": {
           "line": {
            "color": "#2a3f5f"
           }
          },
          "ternary": {
           "aaxis": {
            "gridcolor": "white",
            "linecolor": "white",
            "ticks": ""
           },
           "baxis": {
            "gridcolor": "white",
            "linecolor": "white",
            "ticks": ""
           },
           "bgcolor": "#E5ECF6",
           "caxis": {
            "gridcolor": "white",
            "linecolor": "white",
            "ticks": ""
           }
          },
          "title": {
           "x": 0.05
          },
          "xaxis": {
           "automargin": true,
           "gridcolor": "white",
           "linecolor": "white",
           "ticks": "",
           "title": {
            "standoff": 15
           },
           "zerolinecolor": "white",
           "zerolinewidth": 2
          },
          "yaxis": {
           "automargin": true,
           "gridcolor": "white",
           "linecolor": "white",
           "ticks": "",
           "title": {
            "standoff": 15
           },
           "zerolinecolor": "white",
           "zerolinewidth": 2
          }
         }
        },
        "title": {
         "text": "Error Frequency per Label"
        },
        "xaxis": {
         "tickmode": "array",
         "tickvals": [
          115,
          213,
          230,
          258,
          276,
          295,
          310,
          331,
          342,
          358,
          371,
          396,
          414,
          425,
          445,
          468,
          487,
          514,
          549,
          579,
          614,
          662
         ],
         "title": {
          "text": "Labels"
         }
        },
        "yaxis": {
         "title": {
          "text": "Number of Errors"
         }
        }
       }
      }
     },
     "metadata": {},
     "output_type": "display_data"
    }
   ],
   "source": [
    "import plotly.graph_objects as go\n",
    "import numpy as np\n",
    "\n",
    "# Used the plotly library as this is much nicer looking, and the graph is more interactive and works well with Jupyter Notebooks\n",
    "\n",
    "def plot_absolute_error_plotly(y_pred_svc, y_pred_rf, y_test):\n",
    "    def calculate_error_frequency(y_pred):\n",
    "        incorrect = y_pred != y_test\n",
    "\n",
    "        unique_predictions, counts = np.unique(y_pred[incorrect], return_counts=True)\n",
    "        error_freq = dict(zip(unique_predictions, counts))\n",
    "\n",
    "        return error_freq\n",
    "\n",
    "    error_freq_svc = calculate_error_frequency(y_pred_svc)\n",
    "    error_freq_rf = calculate_error_frequency(y_pred_rf)\n",
    "\n",
    "    all_labels = np.unique(np.concatenate((y_pred_svc, y_pred_rf)))\n",
    "    all_labels.sort()\n",
    "\n",
    "    svc_freq = [error_freq_svc.get(label, 0) for label in all_labels]\n",
    "    rf_freq = [error_freq_rf.get(label, 0) for label in all_labels]\n",
    "\n",
    "    fig = go.Figure(data=[\n",
    "        go.Bar(name='SVC', x=all_labels, y=svc_freq),\n",
    "        go.Bar(name='Random Forest', x=all_labels, y=rf_freq)\n",
    "    ])\n",
    "\n",
    "    fig.update_layout(\n",
    "        barmode='group',\n",
    "        title='Prediction Error Frequency',\n",
    "        xaxis_title='Predicted Label',\n",
    "        yaxis_title='Frequency of Incorrect Predictions',\n",
    "        xaxis=dict(type='category')\n",
    "    )\n",
    "\n",
    "    fig.show()\n",
    "\n",
    "\n",
    "def plot_error_label_frequency_plotly(y_pred_svc, y_pred_rf, y_test):\n",
    "    labels = np.unique(y_test)\n",
    "    errors_svc = [np.sum((y_pred_svc != y_test) & (y_test == label)) for label in labels]\n",
    "    errors_rf = [np.sum((y_pred_rf != y_test) & (y_test == label)) for label in labels]\n",
    "\n",
    "    bar_width = max(0.5, 30 / len(labels))\n",
    "\n",
    "    fig = go.Figure(data=[\n",
    "        go.Bar(name='SVC', x=labels, y=errors_svc, width=bar_width, marker_color='blue', marker_line_color='blue', marker_line_width=1.5, opacity=1),\n",
    "        go.Bar(name='Random Forest', x=labels, y=errors_rf, width=bar_width, marker_color='red', marker_line_color='red', marker_line_width=1.5, opacity=1)\n",
    "    ])\n",
    "    \n",
    "    fig.update_layout(\n",
    "        barmode='group',\n",
    "        title='Error Frequency per Label',\n",
    "        xaxis_title='Labels',\n",
    "        yaxis_title='Number of Errors',\n",
    "        xaxis=dict(tickmode='array', tickvals=labels[::10]),\n",
    "        plot_bgcolor='rgba(255, 255, 255, 1)',\n",
    "        font=dict(\n",
    "            size=12,  # You can adjust the size of the text here for better visibility\n",
    "        )\n",
    "    )\n",
    "    fig.show()\n",
    "\n",
    "plot_absolute_error_plotly(y_pred_svm, y_pred_rf, y_test)\n",
    "plot_error_label_frequency_plotly(y_pred_svm, y_pred_rf, y_test)\n"
   ]
  },
  {
   "cell_type": "code",
   "execution_count": null,
   "metadata": {},
   "outputs": [],
   "source": [
    "n = pd.read_csv('./full_node_Table_.csv')\n",
    "df = pd.read_csv('./full_Table_.csv')"
   ]
  },
  {
   "cell_type": "code",
   "execution_count": null,
   "metadata": {},
   "outputs": [
    {
     "data": {
      "application/vnd.plotly.v1+json": {
       "config": {
        "plotlyServerURL": "https://plot.ly"
       },
       "data": [
        {
         "type": "bar",
         "x": [
          100,
          115,
          116,
          120,
          133,
          135,
          144,
          147,
          148,
          153,
          156,
          163,
          164,
          166,
          168,
          169,
          172,
          174,
          176,
          177,
          179,
          181,
          185,
          190,
          191,
          193,
          194,
          200,
          202,
          203,
          211,
          212,
          213,
          214,
          215,
          216,
          218,
          219,
          220,
          221,
          222,
          223,
          224,
          226,
          227,
          228,
          229,
          230,
          231,
          232,
          233,
          236,
          239,
          243,
          245,
          246,
          247,
          249,
          251,
          253,
          254,
          255,
          256,
          257,
          258,
          261,
          262,
          263,
          264,
          265,
          266,
          267,
          268,
          269,
          270,
          271,
          272,
          274,
          275,
          276,
          277,
          278,
          279,
          280,
          281,
          282,
          283,
          284,
          285,
          288,
          289,
          291,
          293,
          294,
          295,
          297,
          298,
          299,
          300,
          301,
          302,
          303,
          304,
          306,
          307,
          308,
          309,
          310,
          311,
          312,
          313,
          314,
          315,
          316,
          317,
          318,
          319,
          320,
          321,
          323,
          324,
          326,
          327,
          328,
          329,
          330,
          331,
          332,
          333,
          334,
          335,
          336,
          337,
          338,
          339,
          340,
          341,
          342,
          343,
          346,
          347,
          348,
          349,
          350,
          351,
          352,
          353,
          354,
          355,
          356,
          357,
          358,
          360,
          361,
          362,
          363,
          364,
          365,
          366,
          367,
          368,
          369,
          370,
          371,
          372,
          373,
          374,
          375,
          376,
          377,
          378,
          379,
          380,
          381,
          382,
          383,
          384,
          385,
          386,
          387,
          388,
          389,
          390,
          391,
          392,
          393,
          394,
          395,
          396,
          397,
          398,
          399,
          400,
          401,
          402,
          403,
          404,
          405,
          406,
          408,
          409,
          410,
          411,
          412,
          413,
          414,
          415,
          416,
          417,
          418,
          419,
          420,
          421,
          422,
          423,
          424,
          425,
          426,
          427,
          428,
          429,
          430,
          431,
          432,
          433,
          434,
          435,
          436,
          438,
          439,
          440,
          441,
          442,
          443,
          444,
          445,
          446,
          447,
          448,
          449,
          450,
          451,
          452,
          453,
          454,
          455,
          456,
          457,
          459,
          460,
          461,
          462,
          463,
          464,
          465,
          466,
          467,
          468,
          469,
          470,
          471,
          472,
          473,
          474,
          475,
          476,
          477,
          478,
          479,
          480,
          481,
          482,
          483,
          484,
          485,
          486,
          487,
          488,
          489,
          490,
          491,
          493,
          494,
          495,
          496,
          498,
          499,
          500,
          501,
          502,
          503,
          504,
          505,
          506,
          507,
          508,
          509,
          510,
          511,
          512,
          513,
          514,
          516,
          517,
          518,
          519,
          521,
          522,
          523,
          524,
          525,
          526,
          527,
          528,
          529,
          530,
          532,
          533,
          534,
          535,
          536,
          537,
          538,
          539,
          541,
          542,
          545,
          546,
          547,
          548,
          549,
          551,
          552,
          553,
          555,
          556,
          557,
          558,
          559,
          560,
          561,
          562,
          563,
          564,
          565,
          566,
          567,
          568,
          569,
          570,
          572,
          573,
          574,
          575,
          576,
          577,
          578,
          579,
          580,
          581,
          582,
          584,
          585,
          586,
          589,
          590,
          591,
          593,
          594,
          595,
          596,
          598,
          600,
          601,
          602,
          603,
          605,
          606,
          607,
          610,
          611,
          613,
          614,
          615,
          616,
          617,
          618,
          619,
          620,
          621,
          622,
          623,
          625,
          627,
          628,
          629,
          630,
          631,
          632,
          633,
          634,
          635,
          636,
          638,
          639,
          644,
          645,
          647,
          648,
          649,
          650,
          651,
          652,
          654,
          655,
          658,
          659,
          660,
          661,
          662,
          663,
          665,
          669,
          671,
          674,
          675,
          677,
          678,
          679,
          680,
          681,
          683,
          686,
          687,
          691,
          692,
          693,
          694,
          695,
          700,
          706,
          708,
          713,
          714,
          715,
          718,
          719,
          720,
          721,
          722,
          723,
          725,
          728,
          729,
          730,
          731,
          735,
          738,
          739,
          740,
          741,
          743,
          744,
          745,
          748,
          756,
          760,
          762,
          764,
          765,
          767,
          771,
          776,
          777,
          778,
          779,
          784,
          789,
          791,
          802,
          806,
          807,
          809,
          815,
          818,
          820,
          821,
          822,
          823,
          826,
          827,
          839,
          840,
          841,
          843,
          847,
          848,
          849,
          853,
          856,
          859,
          861,
          864,
          870,
          876,
          877,
          885,
          889,
          891,
          894,
          895,
          908,
          922,
          931,
          939,
          947,
          948,
          963,
          974,
          996,
          1022,
          1037,
          1038,
          1055,
          1076,
          1087,
          1099,
          1109,
          1151,
          1163,
          1191,
          1213,
          1237,
          1251,
          1297,
          1365,
          1401,
          1673
         ],
         "y": [
          1,
          4,
          1,
          2,
          3,
          1,
          2,
          1,
          1,
          3,
          3,
          5,
          1,
          3,
          2,
          6,
          3,
          1,
          3,
          1,
          1,
          2,
          1,
          4,
          2,
          3,
          1,
          1,
          2,
          5,
          3,
          1,
          1,
          5,
          7,
          6,
          2,
          4,
          1,
          3,
          3,
          2,
          4,
          4,
          5,
          1,
          4,
          7,
          4,
          2,
          1,
          8,
          6,
          5,
          3,
          6,
          4,
          8,
          6,
          2,
          5,
          11,
          2,
          4,
          5,
          2,
          2,
          10,
          3,
          2,
          2,
          6,
          12,
          2,
          5,
          1,
          5,
          1,
          3,
          13,
          1,
          2,
          4,
          10,
          2,
          3,
          8,
          11,
          8,
          3,
          3,
          2,
          3,
          4,
          4,
          3,
          3,
          8,
          5,
          13,
          1,
          4,
          2,
          14,
          5,
          4,
          8,
          7,
          2,
          6,
          10,
          4,
          3,
          6,
          12,
          2,
          4,
          2,
          6,
          6,
          1,
          8,
          3,
          5,
          5,
          2,
          9,
          8,
          5,
          8,
          24,
          4,
          18,
          1,
          7,
          12,
          16,
          13,
          13,
          17,
          12,
          10,
          8,
          5,
          4,
          30,
          22,
          5,
          7,
          1,
          2,
          11,
          6,
          2,
          2,
          20,
          8,
          8,
          9,
          13,
          17,
          5,
          12,
          21,
          6,
          5,
          7,
          9,
          14,
          5,
          11,
          14,
          3,
          7,
          19,
          6,
          18,
          16,
          2,
          28,
          7,
          10,
          5,
          23,
          37,
          7,
          5,
          35,
          11,
          35,
          6,
          2,
          12,
          51,
          2,
          1,
          11,
          6,
          52,
          19,
          2,
          20,
          36,
          9,
          16,
          8,
          32,
          18,
          20,
          27,
          13,
          33,
          128,
          21,
          24,
          16,
          14,
          9,
          8,
          28,
          5,
          34,
          58,
          8,
          29,
          3,
          7,
          2,
          11,
          12,
          18,
          99,
          1,
          9,
          25,
          12,
          11,
          37,
          28,
          6,
          17,
          6,
          1,
          3,
          11,
          11,
          31,
          7,
          274,
          67,
          1,
          11,
          210,
          5,
          17,
          52,
          19,
          17,
          17,
          5,
          4,
          9,
          12,
          2,
          26,
          5,
          3,
          41,
          5,
          9,
          21,
          35,
          287,
          34,
          5,
          4,
          6,
          38,
          131,
          9,
          47,
          12,
          9,
          35,
          16,
          15,
          5,
          53,
          37,
          7,
          22,
          1,
          15,
          58,
          7,
          8,
          6,
          153,
          12,
          8,
          1,
          8,
          13,
          5,
          2,
          11,
          7,
          35,
          2,
          10,
          32,
          50,
          14,
          10,
          12,
          23,
          28,
          2,
          4,
          13,
          7,
          32,
          8,
          13,
          6,
          27,
          2,
          10,
          11,
          12,
          21,
          65,
          6,
          5,
          10,
          2,
          33,
          4,
          4,
          11,
          5,
          3,
          53,
          1,
          8,
          5,
          18,
          12,
          127,
          2,
          229,
          3,
          9,
          7,
          59,
          10,
          8,
          83,
          67,
          20,
          6,
          1,
          5,
          3,
          3,
          17,
          3,
          2,
          342,
          4,
          4,
          54,
          3,
          11,
          5,
          12,
          1,
          14,
          1,
          74,
          21,
          1,
          52,
          7,
          9,
          2,
          3,
          23,
          11,
          8,
          10,
          38,
          9,
          22,
          7,
          13,
          19,
          5,
          21,
          1,
          7,
          6,
          4,
          21,
          116,
          1,
          3,
          279,
          4,
          10,
          199,
          14,
          10,
          6,
          30,
          2,
          41,
          69,
          20,
          9,
          62,
          9,
          119,
          8,
          6,
          36,
          2,
          64,
          3,
          24,
          2,
          10,
          4,
          13,
          16,
          6,
          1,
          31,
          36,
          2,
          8,
          14,
          14,
          4,
          34,
          1,
          4,
          259,
          28,
          3,
          11,
          2,
          5,
          115,
          37,
          166,
          2,
          2,
          4,
          7,
          14,
          155,
          34,
          15,
          2,
          1,
          33,
          9,
          5,
          28,
          13,
          5,
          2,
          1,
          8,
          3,
          24,
          6,
          9,
          1,
          3,
          7,
          18,
          5,
          4,
          132,
          3,
          28,
          4,
          11,
          1,
          6,
          1,
          17,
          6,
          2,
          17,
          12,
          7,
          1,
          18,
          41,
          26,
          2,
          11,
          2,
          4,
          3,
          1,
          7,
          30,
          1,
          3,
          32,
          9,
          27,
          5,
          1,
          5,
          190,
          2,
          3,
          21,
          2,
          2,
          113,
          3,
          1,
          1,
          19,
          201,
          3,
          24,
          2,
          1,
          42,
          1,
          7
         ]
        }
       ],
       "layout": {
        "template": {
         "data": {
          "bar": [
           {
            "error_x": {
             "color": "#2a3f5f"
            },
            "error_y": {
             "color": "#2a3f5f"
            },
            "marker": {
             "line": {
              "color": "#E5ECF6",
              "width": 0.5
             },
             "pattern": {
              "fillmode": "overlay",
              "size": 10,
              "solidity": 0.2
             }
            },
            "type": "bar"
           }
          ],
          "barpolar": [
           {
            "marker": {
             "line": {
              "color": "#E5ECF6",
              "width": 0.5
             },
             "pattern": {
              "fillmode": "overlay",
              "size": 10,
              "solidity": 0.2
             }
            },
            "type": "barpolar"
           }
          ],
          "carpet": [
           {
            "aaxis": {
             "endlinecolor": "#2a3f5f",
             "gridcolor": "white",
             "linecolor": "white",
             "minorgridcolor": "white",
             "startlinecolor": "#2a3f5f"
            },
            "baxis": {
             "endlinecolor": "#2a3f5f",
             "gridcolor": "white",
             "linecolor": "white",
             "minorgridcolor": "white",
             "startlinecolor": "#2a3f5f"
            },
            "type": "carpet"
           }
          ],
          "choropleth": [
           {
            "colorbar": {
             "outlinewidth": 0,
             "ticks": ""
            },
            "type": "choropleth"
           }
          ],
          "contour": [
           {
            "colorbar": {
             "outlinewidth": 0,
             "ticks": ""
            },
            "colorscale": [
             [
              0,
              "#0d0887"
             ],
             [
              0.1111111111111111,
              "#46039f"
             ],
             [
              0.2222222222222222,
              "#7201a8"
             ],
             [
              0.3333333333333333,
              "#9c179e"
             ],
             [
              0.4444444444444444,
              "#bd3786"
             ],
             [
              0.5555555555555556,
              "#d8576b"
             ],
             [
              0.6666666666666666,
              "#ed7953"
             ],
             [
              0.7777777777777778,
              "#fb9f3a"
             ],
             [
              0.8888888888888888,
              "#fdca26"
             ],
             [
              1,
              "#f0f921"
             ]
            ],
            "type": "contour"
           }
          ],
          "contourcarpet": [
           {
            "colorbar": {
             "outlinewidth": 0,
             "ticks": ""
            },
            "type": "contourcarpet"
           }
          ],
          "heatmap": [
           {
            "colorbar": {
             "outlinewidth": 0,
             "ticks": ""
            },
            "colorscale": [
             [
              0,
              "#0d0887"
             ],
             [
              0.1111111111111111,
              "#46039f"
             ],
             [
              0.2222222222222222,
              "#7201a8"
             ],
             [
              0.3333333333333333,
              "#9c179e"
             ],
             [
              0.4444444444444444,
              "#bd3786"
             ],
             [
              0.5555555555555556,
              "#d8576b"
             ],
             [
              0.6666666666666666,
              "#ed7953"
             ],
             [
              0.7777777777777778,
              "#fb9f3a"
             ],
             [
              0.8888888888888888,
              "#fdca26"
             ],
             [
              1,
              "#f0f921"
             ]
            ],
            "type": "heatmap"
           }
          ],
          "heatmapgl": [
           {
            "colorbar": {
             "outlinewidth": 0,
             "ticks": ""
            },
            "colorscale": [
             [
              0,
              "#0d0887"
             ],
             [
              0.1111111111111111,
              "#46039f"
             ],
             [
              0.2222222222222222,
              "#7201a8"
             ],
             [
              0.3333333333333333,
              "#9c179e"
             ],
             [
              0.4444444444444444,
              "#bd3786"
             ],
             [
              0.5555555555555556,
              "#d8576b"
             ],
             [
              0.6666666666666666,
              "#ed7953"
             ],
             [
              0.7777777777777778,
              "#fb9f3a"
             ],
             [
              0.8888888888888888,
              "#fdca26"
             ],
             [
              1,
              "#f0f921"
             ]
            ],
            "type": "heatmapgl"
           }
          ],
          "histogram": [
           {
            "marker": {
             "pattern": {
              "fillmode": "overlay",
              "size": 10,
              "solidity": 0.2
             }
            },
            "type": "histogram"
           }
          ],
          "histogram2d": [
           {
            "colorbar": {
             "outlinewidth": 0,
             "ticks": ""
            },
            "colorscale": [
             [
              0,
              "#0d0887"
             ],
             [
              0.1111111111111111,
              "#46039f"
             ],
             [
              0.2222222222222222,
              "#7201a8"
             ],
             [
              0.3333333333333333,
              "#9c179e"
             ],
             [
              0.4444444444444444,
              "#bd3786"
             ],
             [
              0.5555555555555556,
              "#d8576b"
             ],
             [
              0.6666666666666666,
              "#ed7953"
             ],
             [
              0.7777777777777778,
              "#fb9f3a"
             ],
             [
              0.8888888888888888,
              "#fdca26"
             ],
             [
              1,
              "#f0f921"
             ]
            ],
            "type": "histogram2d"
           }
          ],
          "histogram2dcontour": [
           {
            "colorbar": {
             "outlinewidth": 0,
             "ticks": ""
            },
            "colorscale": [
             [
              0,
              "#0d0887"
             ],
             [
              0.1111111111111111,
              "#46039f"
             ],
             [
              0.2222222222222222,
              "#7201a8"
             ],
             [
              0.3333333333333333,
              "#9c179e"
             ],
             [
              0.4444444444444444,
              "#bd3786"
             ],
             [
              0.5555555555555556,
              "#d8576b"
             ],
             [
              0.6666666666666666,
              "#ed7953"
             ],
             [
              0.7777777777777778,
              "#fb9f3a"
             ],
             [
              0.8888888888888888,
              "#fdca26"
             ],
             [
              1,
              "#f0f921"
             ]
            ],
            "type": "histogram2dcontour"
           }
          ],
          "mesh3d": [
           {
            "colorbar": {
             "outlinewidth": 0,
             "ticks": ""
            },
            "type": "mesh3d"
           }
          ],
          "parcoords": [
           {
            "line": {
             "colorbar": {
              "outlinewidth": 0,
              "ticks": ""
             }
            },
            "type": "parcoords"
           }
          ],
          "pie": [
           {
            "automargin": true,
            "type": "pie"
           }
          ],
          "scatter": [
           {
            "fillpattern": {
             "fillmode": "overlay",
             "size": 10,
             "solidity": 0.2
            },
            "type": "scatter"
           }
          ],
          "scatter3d": [
           {
            "line": {
             "colorbar": {
              "outlinewidth": 0,
              "ticks": ""
             }
            },
            "marker": {
             "colorbar": {
              "outlinewidth": 0,
              "ticks": ""
             }
            },
            "type": "scatter3d"
           }
          ],
          "scattercarpet": [
           {
            "marker": {
             "colorbar": {
              "outlinewidth": 0,
              "ticks": ""
             }
            },
            "type": "scattercarpet"
           }
          ],
          "scattergeo": [
           {
            "marker": {
             "colorbar": {
              "outlinewidth": 0,
              "ticks": ""
             }
            },
            "type": "scattergeo"
           }
          ],
          "scattergl": [
           {
            "marker": {
             "colorbar": {
              "outlinewidth": 0,
              "ticks": ""
             }
            },
            "type": "scattergl"
           }
          ],
          "scattermapbox": [
           {
            "marker": {
             "colorbar": {
              "outlinewidth": 0,
              "ticks": ""
             }
            },
            "type": "scattermapbox"
           }
          ],
          "scatterpolar": [
           {
            "marker": {
             "colorbar": {
              "outlinewidth": 0,
              "ticks": ""
             }
            },
            "type": "scatterpolar"
           }
          ],
          "scatterpolargl": [
           {
            "marker": {
             "colorbar": {
              "outlinewidth": 0,
              "ticks": ""
             }
            },
            "type": "scatterpolargl"
           }
          ],
          "scatterternary": [
           {
            "marker": {
             "colorbar": {
              "outlinewidth": 0,
              "ticks": ""
             }
            },
            "type": "scatterternary"
           }
          ],
          "surface": [
           {
            "colorbar": {
             "outlinewidth": 0,
             "ticks": ""
            },
            "colorscale": [
             [
              0,
              "#0d0887"
             ],
             [
              0.1111111111111111,
              "#46039f"
             ],
             [
              0.2222222222222222,
              "#7201a8"
             ],
             [
              0.3333333333333333,
              "#9c179e"
             ],
             [
              0.4444444444444444,
              "#bd3786"
             ],
             [
              0.5555555555555556,
              "#d8576b"
             ],
             [
              0.6666666666666666,
              "#ed7953"
             ],
             [
              0.7777777777777778,
              "#fb9f3a"
             ],
             [
              0.8888888888888888,
              "#fdca26"
             ],
             [
              1,
              "#f0f921"
             ]
            ],
            "type": "surface"
           }
          ],
          "table": [
           {
            "cells": {
             "fill": {
              "color": "#EBF0F8"
             },
             "line": {
              "color": "white"
             }
            },
            "header": {
             "fill": {
              "color": "#C8D4E3"
             },
             "line": {
              "color": "white"
             }
            },
            "type": "table"
           }
          ]
         },
         "layout": {
          "annotationdefaults": {
           "arrowcolor": "#2a3f5f",
           "arrowhead": 0,
           "arrowwidth": 1
          },
          "autotypenumbers": "strict",
          "coloraxis": {
           "colorbar": {
            "outlinewidth": 0,
            "ticks": ""
           }
          },
          "colorscale": {
           "diverging": [
            [
             0,
             "#8e0152"
            ],
            [
             0.1,
             "#c51b7d"
            ],
            [
             0.2,
             "#de77ae"
            ],
            [
             0.3,
             "#f1b6da"
            ],
            [
             0.4,
             "#fde0ef"
            ],
            [
             0.5,
             "#f7f7f7"
            ],
            [
             0.6,
             "#e6f5d0"
            ],
            [
             0.7,
             "#b8e186"
            ],
            [
             0.8,
             "#7fbc41"
            ],
            [
             0.9,
             "#4d9221"
            ],
            [
             1,
             "#276419"
            ]
           ],
           "sequential": [
            [
             0,
             "#0d0887"
            ],
            [
             0.1111111111111111,
             "#46039f"
            ],
            [
             0.2222222222222222,
             "#7201a8"
            ],
            [
             0.3333333333333333,
             "#9c179e"
            ],
            [
             0.4444444444444444,
             "#bd3786"
            ],
            [
             0.5555555555555556,
             "#d8576b"
            ],
            [
             0.6666666666666666,
             "#ed7953"
            ],
            [
             0.7777777777777778,
             "#fb9f3a"
            ],
            [
             0.8888888888888888,
             "#fdca26"
            ],
            [
             1,
             "#f0f921"
            ]
           ],
           "sequentialminus": [
            [
             0,
             "#0d0887"
            ],
            [
             0.1111111111111111,
             "#46039f"
            ],
            [
             0.2222222222222222,
             "#7201a8"
            ],
            [
             0.3333333333333333,
             "#9c179e"
            ],
            [
             0.4444444444444444,
             "#bd3786"
            ],
            [
             0.5555555555555556,
             "#d8576b"
            ],
            [
             0.6666666666666666,
             "#ed7953"
            ],
            [
             0.7777777777777778,
             "#fb9f3a"
            ],
            [
             0.8888888888888888,
             "#fdca26"
            ],
            [
             1,
             "#f0f921"
            ]
           ]
          },
          "colorway": [
           "#636efa",
           "#EF553B",
           "#00cc96",
           "#ab63fa",
           "#FFA15A",
           "#19d3f3",
           "#FF6692",
           "#B6E880",
           "#FF97FF",
           "#FECB52"
          ],
          "font": {
           "color": "#2a3f5f"
          },
          "geo": {
           "bgcolor": "white",
           "lakecolor": "white",
           "landcolor": "#E5ECF6",
           "showlakes": true,
           "showland": true,
           "subunitcolor": "white"
          },
          "hoverlabel": {
           "align": "left"
          },
          "hovermode": "closest",
          "mapbox": {
           "style": "light"
          },
          "paper_bgcolor": "white",
          "plot_bgcolor": "#E5ECF6",
          "polar": {
           "angularaxis": {
            "gridcolor": "white",
            "linecolor": "white",
            "ticks": ""
           },
           "bgcolor": "#E5ECF6",
           "radialaxis": {
            "gridcolor": "white",
            "linecolor": "white",
            "ticks": ""
           }
          },
          "scene": {
           "xaxis": {
            "backgroundcolor": "#E5ECF6",
            "gridcolor": "white",
            "gridwidth": 2,
            "linecolor": "white",
            "showbackground": true,
            "ticks": "",
            "zerolinecolor": "white"
           },
           "yaxis": {
            "backgroundcolor": "#E5ECF6",
            "gridcolor": "white",
            "gridwidth": 2,
            "linecolor": "white",
            "showbackground": true,
            "ticks": "",
            "zerolinecolor": "white"
           },
           "zaxis": {
            "backgroundcolor": "#E5ECF6",
            "gridcolor": "white",
            "gridwidth": 2,
            "linecolor": "white",
            "showbackground": true,
            "ticks": "",
            "zerolinecolor": "white"
           }
          },
          "shapedefaults": {
           "line": {
            "color": "#2a3f5f"
           }
          },
          "ternary": {
           "aaxis": {
            "gridcolor": "white",
            "linecolor": "white",
            "ticks": ""
           },
           "baxis": {
            "gridcolor": "white",
            "linecolor": "white",
            "ticks": ""
           },
           "bgcolor": "#E5ECF6",
           "caxis": {
            "gridcolor": "white",
            "linecolor": "white",
            "ticks": ""
           }
          },
          "title": {
           "x": 0.05
          },
          "xaxis": {
           "automargin": true,
           "gridcolor": "white",
           "linecolor": "white",
           "ticks": "",
           "title": {
            "standoff": 15
           },
           "zerolinecolor": "white",
           "zerolinewidth": 2
          },
          "yaxis": {
           "automargin": true,
           "gridcolor": "white",
           "linecolor": "white",
           "ticks": "",
           "title": {
            "standoff": 15
           },
           "zerolinecolor": "white",
           "zerolinewidth": 2
          }
         }
        },
        "title": {
         "text": "Data Distribution"
        },
        "xaxis": {
         "title": {
          "text": "Unique Values"
         },
         "type": "category"
        },
        "yaxis": {
         "title": {
          "text": "Frequency"
         }
        }
       }
      }
     },
     "metadata": {},
     "output_type": "display_data"
    },
    {
     "name": "stdout",
     "output_type": "stream",
     "text": [
      "The mean of the data distribution is 586.3871733966746 and the standard deviation is 201.7469181124455\n",
      "9999\n"
     ]
    }
   ],
   "source": [
    "# Data distribution\n",
    "# Basically plot the frequency of ocurrence of each value\n",
    "# of the functional parameter in the dataset inputted to the models\n",
    "\n",
    "# This is only plotting the subset in the training set, and not in the entire dataset\n",
    "\n",
    "def plot_data_distribution(y):\n",
    "    # Calculate the frequency of each value in the y_test array\n",
    "    unique_values, counts = np.unique(y, return_counts=True)\n",
    "\n",
    "    # Create the bar chart\n",
    "    fig = go.Figure(data=go.Bar(x=unique_values, y=counts))\n",
    "\n",
    "    # Update the layout for a better visual representation\n",
    "    fig.update_layout(\n",
    "        title='Data Distribution',\n",
    "        xaxis_title='Unique Values',\n",
    "        yaxis_title='Frequency',\n",
    "        xaxis=dict(type='category'),  # Treat unique values as discrete categories\n",
    "        yaxis=dict(title='Frequency'),  # You can also set the range or scale of the y-axis if needed\n",
    "    )\n",
    "\n",
    "    fig.show()\n",
    "    print(\"The mean of the data distribution is\", np.mean(y_train), \"and the standard deviation is\", np.std(y_train))\n",
    "\n",
    "plot_data_distribution(y_train)"
   ]
  }
 ],
 "metadata": {
  "kernelspec": {
   "display_name": "Python 3",
   "language": "python",
   "name": "python3"
  },
  "language_info": {
   "codemirror_mode": {
    "name": "ipython",
    "version": 3
   },
   "file_extension": ".py",
   "mimetype": "text/x-python",
   "name": "python",
   "nbconvert_exporter": "python",
   "pygments_lexer": "ipython3",
   "version": "3.10.13"
  },
  "orig_nbformat": 4
 },
 "nbformat": 4,
 "nbformat_minor": 2
}
