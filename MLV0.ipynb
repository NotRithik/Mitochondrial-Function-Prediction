{
 "cells": [
  {
   "cell_type": "markdown",
   "metadata": {},
   "source": [
    "### Objectives\n",
    "\n",
    "First, create a graph representation of the information we have. \n",
    "This would be information about the elements, and the nodes. \n",
    "Using this, we will feed it into our SVM, or a Random Forest, and see from there onwards"
   ]
  },
  {
   "cell_type": "code",
   "execution_count": 1,
   "metadata": {},
   "outputs": [],
   "source": [
    "import pandas as pd\n",
    "import numpy as np\n",
    "from sklearn.model_selection import train_test_split\n",
    "from sklearn.svm import SVC\n",
    "from sklearn.metrics import accuracy_score, classification_report\n",
    "from sklearn.decomposition import PCA\n",
    "import matplotlib.pyplot as plt\n",
    "from sklearn.preprocessing import StandardScaler\n",
    "\n",
    "import re\n",
    "\n",
    "import torch\n",
    "import torch.nn as nn\n",
    "import numpy as np\n",
    "import ast\n",
    "import io\n",
    "\n",
    "import plotly.graph_objs as go\n",
    "\n",
    "# Set up torch to use CUDA or MPS if either are available\n",
    "device = torch.device('cuda:0')  if torch.cuda.is_available() else torch.device('mps:0') if torch.backends.mps.is_available() else torch.device('cpu')\n",
    "torch.set_default_device(device)\n",
    "\n",
    "USE_NEW_FEATURES = True\n",
    "USE_ONLY_3D_CNN_FEATURES = True\n",
    "TRAIN_SVM = False\n",
    "TRAIN_RF = False\n",
    "\n",
    "MLP_MODEL_PATH = './mlp_regressor.pth'\n",
    "LOAD_MLP_MODEL = False\n",
    "SAVE_MLP_MODEL = False"
   ]
  },
  {
   "cell_type": "code",
   "execution_count": 2,
   "metadata": {},
   "outputs": [],
   "source": [
    "# n = pd.read_csv('./full_node_Table_.csv')\n",
    "df = pd.read_csv('./full_Table_.csv')"
   ]
  },
  {
   "cell_type": "code",
   "execution_count": 3,
   "metadata": {},
   "outputs": [],
   "source": [
    "def get_pca_transformation_and_scaled_dataset(dataset, x_principal_components):\n",
    "    # Standardizing the features\n",
    "    standardized_data = StandardScaler().fit_transform(dataset)\n",
    "\n",
    "    # Perform PCA\n",
    "    pca = PCA(n_components=x_principal_components)\n",
    "    principal_components = pca.fit_transform(standardized_data)\n",
    "\n",
    "    # Create a DataFrame with the principal components\n",
    "    columns = [f'PC{i+1}' for i in range(x_principal_components)]\n",
    "    principal_df = pd.DataFrame(data=principal_components, columns=columns)\n",
    "    \n",
    "    # Explained variance for each PC\n",
    "    explained_var = pca.explained_variance_ratio_\n",
    "\n",
    "    # Plot for explained variance of each PC\n",
    "    fig1 = go.Figure(data=go.Bar(x=columns, y=explained_var, marker_color='darkred'))\n",
    "    fig1.update_layout(title='Explained Variance by Each Principal Component',\n",
    "                       xaxis_title='Principal Components',\n",
    "                       yaxis_title='Explained Variance Ratio')\n",
    "    fig1.show()\n",
    "\n",
    "    # Plot for cumulative explained variance\n",
    "    cumulative_var = explained_var.cumsum()\n",
    "    fig2 = go.Figure(data=go.Scatter(x=columns, y=cumulative_var, marker_color='darkred'))\n",
    "    fig2.update_layout(title='Cumulative Explained Variance by Principal Components',\n",
    "                       xaxis_title='Principal Components',\n",
    "                       yaxis_title='Cumulative Explained Variance Ratio')\n",
    "    fig2.show()\n",
    "\n",
    "    total_explained_variance = cumulative_var[-1]\n",
    "    print(f\"Total explained variance by the first {x_principal_components} principal components: {total_explained_variance:.2f}\")\n",
    "\n",
    "    return principal_df, pca\n"
   ]
  },
  {
   "cell_type": "code",
   "execution_count": 4,
   "metadata": {},
   "outputs": [],
   "source": [
    "def feature_contribution_to_variance(pca, explained_var, feature_names, drop_angle_edge_contributions=True):\n",
    "    # Transpose pca.components_ to align with explained_var for dot product\n",
    "    feature_contributions = pca.components_.T ** 2\n",
    "    total_feature_contributions = np.dot(feature_contributions, explained_var)\n",
    "\n",
    "    if len(feature_names) != len(total_feature_contributions):\n",
    "        raise ValueError(\"The number of features does not match the length of the contributions array.\")\n",
    "\n",
    "    # Create a DataFrame for contributions\n",
    "    contributions_df = pd.DataFrame({\n",
    "        'Feature': feature_names,\n",
    "        'Contribution': total_feature_contributions * 100\n",
    "    })\n",
    "\n",
    "    # Drop 'Angle_X_X' or 'edge_X' contributions if flag is True\n",
    "    if drop_angle_edge_contributions:\n",
    "        # Regular expression for matching 'Angle_X_X' or 'edge_X'\n",
    "        regex_pattern = r\"^(Angle_\\d+_\\d+|edge_\\d+)$\"\n",
    "\n",
    "        # Filter out rows where 'Feature' matches the pattern\n",
    "        contributions_df = contributions_df[~contributions_df['Feature'].str.match(regex_pattern)]\n",
    "\n",
    "    # Sort by contribution in descending order\n",
    "    sorted_contributions = contributions_df.sort_values(by='Contribution', ascending=False)\n",
    "    return sorted_contributions\n"
   ]
  },
  {
   "cell_type": "code",
   "execution_count": 5,
   "metadata": {},
   "outputs": [],
   "source": [
    "def plot_feature_contributions(sorted_contributions):\n",
    "    fig = go.Figure(data=go.Bar(\n",
    "        x=sorted_contributions['Feature'],\n",
    "        y=sorted_contributions['Contribution'],\n",
    "        marker_color='darkblue'\n",
    "    ))\n",
    "    fig.update_layout(\n",
    "        title='Percentage Contribution of Each Feature to Total Variance',\n",
    "        xaxis_title='Features',\n",
    "        yaxis_title='Percentage Contribution'\n",
    "    )\n",
    "    fig.show()"
   ]
  },
  {
   "cell_type": "code",
   "execution_count": 6,
   "metadata": {},
   "outputs": [
    {
     "name": "stderr",
     "output_type": "stream",
     "text": [
      "C:\\Users\\Biratal\\AppData\\Local\\Temp\\ipykernel_516\\2153270007.py:84: PerformanceWarning: DataFrame is highly fragmented.  This is usually the result of calling `frame.insert` many times, which has poor performance.  Consider joining all columns at once using pd.concat(axis=1) instead. To get a de-fragmented frame, use `newframe = frame.copy()`\n",
      "  data['element_pixel_intensity_405_488_ratio'] = ((np.array(data['element_pixel_intensity_405']) / np.array(data['element_pixel_intensity_488']))*1000).copy()\n",
      "C:\\Users\\Biratal\\AppData\\Local\\Temp\\ipykernel_516\\2153270007.py:88: PerformanceWarning: DataFrame is highly fragmented.  This is usually the result of calling `frame.insert` many times, which has poor performance.  Consider joining all columns at once using pd.concat(axis=1) instead. To get a de-fragmented frame, use `newframe = frame.copy()`\n",
      "  data['image_name'] = data['folder_name_x'] + '_' + data['cc_x'].astype(str)\n"
     ]
    }
   ],
   "source": [
    "datafrac = 1\n",
    "# This cell reads the data from the CSV file and cleans it up\n",
    "\n",
    "if(USE_NEW_FEATURES):\n",
    "\n",
    "    # Set pandas options to display all columns and rows\n",
    "    pd.set_option('display.max_rows', None)\n",
    "    pd.set_option('display.max_columns', None)\n",
    "    pd.set_option('display.width', None)\n",
    "\n",
    "    csv_file_path = 'full_Table_All_Cells_With_Angles_And_Edges_CLEANED.csv'\n",
    "    buffer = io.StringIO()\n",
    "\n",
    "    # Open and process the CSV file, to strip entries so that numbers aren't read as strings by read_csv and column names have no leading/trailing whitespaces\n",
    "    with open(csv_file_path, 'r') as file:\n",
    "        for line in file:\n",
    "            cleaned_line = ','.join(cell.strip() for cell in line.split(','))\n",
    "            buffer.write(cleaned_line + '\\n')\n",
    "\n",
    "    # Move the buffer cursor to the start\n",
    "    buffer.seek(0)\n",
    "\n",
    "    # Read the cleaned data into pandas\n",
    "    data = pd.read_csv(buffer)\n",
    "    edge_columns = [col for col in data.columns if col.startswith('edge_') and col.split('_')[-1].isdigit()]\n",
    "    # Replace empty entries with 0 in these columns\n",
    "    data[edge_columns] = data[edge_columns].fillna(0)\n",
    "\n",
    "    # Not sure if these folder names are required for segregating the dataset, so for now dropping them\n",
    "    # data = data.drop(columns=['folder_name_x', 'folder_name_x.1', 'folder_name_y'])\n",
    "    data = data.drop(columns=['folder_name_x.1']) # 'folder_name_x' not dropping here, dropping in sample_data\n",
    "    \n",
    "    # Make each string in folder_name_y correspond to an integer instead\n",
    "    unique_strings = data['folder_name_y'].unique()\n",
    "    string_to_int_mapping = {string: i+1 for i, string in enumerate(unique_strings)}\n",
    "    \n",
    "    data['folder_name_y'] = data['folder_name_y'].replace(string_to_int_mapping)\n",
    "    \n",
    "    # For now, we aren't using the 555 channel either\n",
    "    data = data.drop(columns=['element_pixel_intensity_555'])\n",
    "\n",
    "    # These fields seem to be not implemented either:\n",
    "    data = data.drop(columns=[\"Unnamed: 0_x\", \"x\", \"y\" ,\"z\" ,\"node_x\" ,\"degree_x\" ,\"vol_cc_x\" ,\"avg_PK_Of_element_x\" ,\"element_connectivity_x\" ,\"Unnamed: 0_y\"])\n",
    "\n",
    "    # The next few lines of code are to convert the degree_distribution column to columns labelled node_degree_0, node_degree_1, etc. till node_degree_MAX\n",
    "    def str_to_dict(s):\n",
    "        try:\n",
    "            return ast.literal_eval(s)\n",
    "        except ValueError:\n",
    "            return {}\n",
    "    # Apply the function to the 'degree_distribution' column\n",
    "    data['degree_distribution'] = data['degree_distribution'].apply(str_to_dict)\n",
    "        \n",
    "    # Find the highest node degree in the DataFrame\n",
    "    max_degree = max(degree for row in data['degree_distribution'] for degree in row.keys())\n",
    "\n",
    "    # Create a DataFrame for new columns\n",
    "    new_columns = pd.DataFrame({f'node_degree_{i}': 0 for i in range(1, max_degree + 1)}, index=data.index)\n",
    "\n",
    "    # Concatenate with the original DataFrame\n",
    "    data = pd.concat([data, new_columns], axis=1)\n",
    "        \n",
    "    # Function to update the degree columns for a row\n",
    "    def update_degrees(row):\n",
    "        for degree, count in row['degree_distribution'].items():\n",
    "            row[f'node_degree_{degree}'] = count\n",
    "        return row\n",
    "\n",
    "    # Apply the function to each row\n",
    "    data = data.apply(update_degrees, axis=1)\n",
    "    data = data.drop(columns=['degree_distribution'])\n",
    "    # Now we should have columns labelled node_degree_0, node_degree_1, etc. till node_degree_MAX and dropped the degree_distribution column\n",
    "\n",
    "    data['cc_average_connectivity'] = data['cc_average_connectivity'].replace([np.inf, -np.inf], 0)\n",
    "\n",
    "    # Drop rows that have NaN values in columns 'clustering coefficient', 'pixel_intensity_ratio', 'vol_cc_y', 'x_y', 'y_y', 'z_y'\n",
    "    # data = data.dropna(subset=['clustering coefficient', 'pixel_intensity_ratio', 'vol_cc_y', 'x_y', 'y_y', 'z_y'])\n",
    "\n",
    "    # data['element_pixel_intensity_488'] = data['element_pixel_intensity_488'].replace(0, 0.001)\n",
    "    # drop 0 values of 488, those rows are just bad\n",
    "    data['element_pixel_intensity_488'] = data['element_pixel_intensity_488'].replace(0, np.nan)\n",
    "    data = data.dropna(subset=['element_pixel_intensity_488'])\n",
    "    \n",
    "    data['element_pixel_intensity_405_488_ratio'] = ((np.array(data['element_pixel_intensity_405']) / np.array(data['element_pixel_intensity_488']))*1000).copy()\n",
    "\n",
    "    # Add feature vectors from CNN obtained image vectors\n",
    "    feature_vectors_df = pd.read_csv('image_feature_vectors.csv')\n",
    "    data['image_name'] = data['folder_name_x'] + '_' + data['cc_x'].astype(str)\n",
    "    data = pd.merge(data, feature_vectors_df, left_on='image_name', right_on='Image Name', how='left')\n",
    "    data.drop('Image Name', axis=1, inplace=True)\n",
    "    data.drop('image_name', axis=1, inplace=True)\n",
    "    \n",
    "    if(USE_ONLY_3D_CNN_FEATURES):\n",
    "        angle_columns = data.filter(regex='^Angle_\\d+_\\d+$').columns\n",
    "        edge_columns = data.filter(regex='^edge_\\d+$').columns\n",
    "        columns_to_drop = angle_columns.union(edge_columns).union(['Angle_Flag'])\n",
    "        data.drop(columns=columns_to_drop, inplace=True)\n",
    "    \n",
    "    # Replace any remaining NaN's with 0\n",
    "    data.fillna(0, inplace=True)\n",
    "\n",
    "    # Train on small subset of data to see if it works first, if datafrac <1\n",
    "    sample_data = data.sample(frac=datafrac ,random_state=1049)\n",
    "    sample_data = sample_data.drop(columns=['folder_name_x'])\n",
    "    \n",
    "\n",
    "    # Split the data into training and testing sets\n",
    "    X = sample_data.drop(columns=['element_pixel_intensity_488'])\n",
    "    X = X.drop(['cc_pixel_intensity_488',\n",
    "                'cc_pixel_intensity_405',\n",
    "                'cc_x', 'x_y', 'y_y', 'z_y', 'cc_y',\n",
    "                'pixel_intensity_405',\n",
    "                'pixel_intensity_ratio',\n",
    "                # 'pixel_intensity_555',\n",
    "                'element_pixel_intensity_405',\n",
    "                'element_pixel_intensity_ratio',\n",
    "                'cc_average_connectivity',\n",
    "                # 'cc_pixel_intensity_555',\n",
    "                'cc_pixel_intensity_ratio', \n",
    "                'pixel_intensity',\n",
    "                'pixel_intensity_488'], axis=1)\n",
    "    \n",
    "    xlabels = X.columns\n",
    "    with open(\"training_feature_list_excl_angles_and_edges.txt\", \"w\") as file:\n",
    "        for thing in xlabels:\n",
    "            if \"Angle\" not in thing and \"edge\" not in thing:\n",
    "                file.write(thing + \"\\n\")\n",
    "    \n",
    "    columns_with_NaN = sample_data.columns.to_series()[sample_data.apply(lambda x: np.isnan(x).any())]\n",
    "    if(len(columns_with_NaN) > 0):\n",
    "        print(columns_with_NaN.values)\n",
    "        raise Exception('Columns with NaN values found in dataset, can\\'t train model on it directly')\n",
    "    \n",
    "    non_numerical_columns = sample_data.select_dtypes(exclude=['int', 'float', 'double']).columns\n",
    "    # Print the non-numerical column names\n",
    "    if(len(non_numerical_columns) > 0):\n",
    "        print(non_numerical_columns)\n",
    "        raise Exception('Non-numerical columns found in dataset, can\\'t train model on it directly')\n",
    "    \n",
    "    # Print any columns with values like infinity\n",
    "    columns_with_infinity = sample_data.columns.to_series()[sample_data.apply(lambda x: np.isinf(x).any())]\n",
    "    if(len(columns_with_infinity) > 0):\n",
    "        print(columns_with_infinity)\n",
    "        raise Exception('Columns with infinity values found in dataset, can\\'t train model on it directly')"
   ]
  },
  {
   "cell_type": "code",
   "execution_count": 7,
   "metadata": {},
   "outputs": [
    {
     "name": "stdout",
     "output_type": "stream",
     "text": [
      "Data successfully written to ./imageNames_ratios.csv\n"
     ]
    }
   ],
   "source": [
    "# Adding a new column for file names in the DataFrame\n",
    "data['file_name'] = data.apply(lambda row: f\"{row['folder_name_x']}_{row['cc_x']}.tif\", axis=1)\n",
    "\n",
    "# Selecting only the required columns\n",
    "output_data = data[['file_name', 'cc_pixel_intensity_ratio']]\n",
    "\n",
    "# Writing the selected data to a CSV file\n",
    "output_data.to_csv(\"./imageNames_ratios.csv\", index=False)\n",
    "\n",
    "print(\"Data successfully written to ./imageNames_ratios.csv\")\n"
   ]
  },
  {
   "cell_type": "code",
   "execution_count": 8,
   "metadata": {},
   "outputs": [
    {
     "data": {
      "application/vnd.plotly.v1+json": {
       "config": {
        "plotlyServerURL": "https://plot.ly"
       },
       "data": [
        {
         "marker": {
          "color": "darkred"
         },
         "type": "bar",
         "x": [
          "PC1",
          "PC2",
          "PC3",
          "PC4",
          "PC5",
          "PC6",
          "PC7",
          "PC8",
          "PC9",
          "PC10",
          "PC11",
          "PC12",
          "PC13",
          "PC14",
          "PC15",
          "PC16",
          "PC17",
          "PC18",
          "PC19",
          "PC20",
          "PC21",
          "PC22",
          "PC23",
          "PC24",
          "PC25",
          "PC26",
          "PC27",
          "PC28",
          "PC29",
          "PC30",
          "PC31",
          "PC32",
          "PC33",
          "PC34",
          "PC35",
          "PC36",
          "PC37",
          "PC38",
          "PC39",
          "PC40",
          "PC41",
          "PC42",
          "PC43",
          "PC44",
          "PC45",
          "PC46",
          "PC47",
          "PC48",
          "PC49",
          "PC50",
          "PC51",
          "PC52",
          "PC53",
          "PC54",
          "PC55",
          "PC56",
          "PC57",
          "PC58",
          "PC59",
          "PC60",
          "PC61",
          "PC62",
          "PC63",
          "PC64",
          "PC65",
          "PC66",
          "PC67",
          "PC68",
          "PC69",
          "PC70",
          "PC71",
          "PC72",
          "PC73",
          "PC74",
          "PC75",
          "PC76",
          "PC77",
          "PC78",
          "PC79",
          "PC80",
          "PC81",
          "PC82",
          "PC83",
          "PC84",
          "PC85",
          "PC86",
          "PC87",
          "PC88",
          "PC89",
          "PC90",
          "PC91",
          "PC92",
          "PC93",
          "PC94",
          "PC95",
          "PC96",
          "PC97",
          "PC98",
          "PC99",
          "PC100",
          "PC101",
          "PC102",
          "PC103",
          "PC104",
          "PC105",
          "PC106",
          "PC107",
          "PC108",
          "PC109",
          "PC110",
          "PC111",
          "PC112",
          "PC113",
          "PC114",
          "PC115",
          "PC116",
          "PC117",
          "PC118",
          "PC119",
          "PC120",
          "PC121",
          "PC122",
          "PC123",
          "PC124",
          "PC125",
          "PC126",
          "PC127",
          "PC128",
          "PC129",
          "PC130",
          "PC131",
          "PC132",
          "PC133",
          "PC134",
          "PC135",
          "PC136",
          "PC137",
          "PC138",
          "PC139",
          "PC140",
          "PC141",
          "PC142",
          "PC143",
          "PC144",
          "PC145",
          "PC146",
          "PC147",
          "PC148",
          "PC149",
          "PC150",
          "PC151",
          "PC152",
          "PC153",
          "PC154",
          "PC155",
          "PC156",
          "PC157",
          "PC158",
          "PC159",
          "PC160",
          "PC161",
          "PC162",
          "PC163",
          "PC164",
          "PC165",
          "PC166",
          "PC167",
          "PC168",
          "PC169",
          "PC170",
          "PC171",
          "PC172",
          "PC173",
          "PC174",
          "PC175",
          "PC176",
          "PC177",
          "PC178",
          "PC179",
          "PC180",
          "PC181",
          "PC182",
          "PC183",
          "PC184"
         ],
         "y": [
          0.6692399514699411,
          0.08820173894624475,
          0.02985781751248176,
          0.028078874157380206,
          0.022053805682476644,
          0.017500077744154338,
          0.0156788316198943,
          0.01410705590251522,
          0.012157453503242002,
          0.007110039374537717,
          0.006843861790479331,
          0.006576262911031966,
          0.006248192423738965,
          0.005635559008426678,
          0.005463299947255495,
          0.005376591389016244,
          0.005026515259151159,
          0.00477878440573189,
          0.004686662088735517,
          0.004552746377495976,
          0.004278009120271774,
          0.0038537324573180293,
          0.0036327784403081516,
          0.0034472418972031917,
          0.0030087337059764,
          0.0028722259779302454,
          0.0027247173622059057,
          0.002301705079932296,
          0.002080270315807359,
          0.0017288474447551055,
          0.0016423709657483701,
          0.001638857338408997,
          0.0014600590961163053,
          0.0013876518377188313,
          0.0009346266102582373,
          0.0007180881192401595,
          0.0006104724716229003,
          0.0005932770471579824,
          0.0005297440716295187,
          0.00034183490638591343,
          0.0002822357731131678,
          0.00022650110047730998,
          0.00011002610434602011,
          0.00007928718816216882,
          0.00007282253272048067,
          0.0000598286017018633,
          0.00004704816038601128,
          0.000039325034961825495,
          0.000023830546230855785,
          0.000020568859421283658,
          0.000017540838858100633,
          0.000012790533473817919,
          0.000010581323266960466,
          0.000008146582168753886,
          0.0000065324257860225875,
          0.000004579631789233716,
          0.00000385901576532605,
          0.000002859594620324738,
          0.0000027603605093933224,
          0.0000022154389865285953,
          0.0000014558273847884309,
          9.667989305125353e-7,
          7.591410547466744e-7,
          7.058775035195071e-7,
          5.630278736883801e-7,
          4.057051264173881e-7,
          3.5188666840114966e-7,
          2.9816244358690107e-7,
          2.363145955125817e-7,
          2.284150671359074e-7,
          1.7219977778645572e-7,
          1.5166392429769207e-7,
          1.3215518894671703e-7,
          1.0395047218446221e-7,
          9.273207303844596e-8,
          7.809540282148518e-8,
          6.587902156335019e-8,
          5.1755541716852526e-8,
          4.949925161139249e-8,
          4.3485862693661835e-8,
          3.925479868488466e-8,
          3.1369343355263685e-8,
          2.7846808400728822e-8,
          2.3774960614014832e-8,
          2.2426796975088607e-8,
          2.0249848581235782e-8,
          1.916246335904916e-8,
          1.705713814459737e-8,
          1.5275706517306708e-8,
          1.382796843026571e-8,
          1.2388796453079075e-8,
          1.0530626244510586e-8,
          9.582239878052628e-9,
          8.309824226885438e-9,
          7.449963889126775e-9,
          7.073183862024367e-9,
          6.776717104215842e-9,
          6.305931463809654e-9,
          5.367556137669009e-9,
          5.037105517325214e-9,
          4.879694638092582e-9,
          4.735416955295952e-9,
          4.417610694852393e-9,
          3.6358743750247173e-9,
          3.497871162037246e-9,
          3.4098276729485165e-9,
          3.2432574087172183e-9,
          2.876066178289405e-9,
          2.4020745632534054e-9,
          2.3163713217408153e-9,
          2.2134519920635998e-9,
          2.138995929615706e-9,
          2.004566124095915e-9,
          1.9422655463481068e-9,
          1.7685269145689275e-9,
          1.593661538291972e-9,
          1.4486412667710477e-9,
          1.3317762869759407e-9,
          1.274009524059603e-9,
          1.226553836466679e-9,
          1.1551262529175148e-9,
          1.1053658430262156e-9,
          1.0509886803840302e-9,
          1.0462620108932621e-9,
          9.559468799606328e-10,
          8.771594921773192e-10,
          8.656887962194309e-10,
          7.881748638522989e-10,
          7.505088567623642e-10,
          6.956430469394678e-10,
          6.747195382960725e-10,
          6.098873831623431e-10,
          5.815543002706403e-10,
          5.517527873997949e-10,
          5.301271214397973e-10,
          4.767565108177565e-10,
          4.5899169080168816e-10,
          4.449554166529944e-10,
          4.210426533747344e-10,
          4.101780569447988e-10,
          3.613546852985013e-10,
          3.547622356602452e-10,
          3.3528088176748437e-10,
          3.2053761860308257e-10,
          3.051580568383783e-10,
          2.7680775847813817e-10,
          2.618948360623497e-10,
          2.3866816076580607e-10,
          2.2109406933181422e-10,
          2.130979339350331e-10,
          2.001659736832257e-10,
          1.9316981737636587e-10,
          1.8338365372872079e-10,
          1.7269104348966043e-10,
          1.6273796519995083e-10,
          1.5601686964875301e-10,
          1.4418465366988488e-10,
          1.4013604909344637e-10,
          1.3458117368174405e-10,
          1.3210364884981085e-10,
          1.2363034098771888e-10,
          1.1918471551015667e-10,
          1.115916581489622e-10,
          1.0882556609649942e-10,
          9.777710642022839e-11,
          9.352101354231688e-11,
          9.289747652871615e-11,
          8.780109854413393e-11,
          8.285808420751669e-11,
          7.600012498680875e-11,
          7.42012077307782e-11,
          7.096265530333536e-11,
          6.471183571873979e-11,
          5.794474170811531e-11,
          5.579796318592494e-11,
          4.4717625368621047e-11,
          4.272354658654509e-11,
          4.131152265359037e-11,
          3.634463423082878e-11,
          3.3253122616829475e-11,
          2.964796407129988e-11,
          2.597065383791048e-11,
          2.5362796917799724e-11,
          2.017633795797791e-11
         ]
        }
       ],
       "layout": {
        "template": {
         "data": {
          "bar": [
           {
            "error_x": {
             "color": "#2a3f5f"
            },
            "error_y": {
             "color": "#2a3f5f"
            },
            "marker": {
             "line": {
              "color": "#E5ECF6",
              "width": 0.5
             },
             "pattern": {
              "fillmode": "overlay",
              "size": 10,
              "solidity": 0.2
             }
            },
            "type": "bar"
           }
          ],
          "barpolar": [
           {
            "marker": {
             "line": {
              "color": "#E5ECF6",
              "width": 0.5
             },
             "pattern": {
              "fillmode": "overlay",
              "size": 10,
              "solidity": 0.2
             }
            },
            "type": "barpolar"
           }
          ],
          "carpet": [
           {
            "aaxis": {
             "endlinecolor": "#2a3f5f",
             "gridcolor": "white",
             "linecolor": "white",
             "minorgridcolor": "white",
             "startlinecolor": "#2a3f5f"
            },
            "baxis": {
             "endlinecolor": "#2a3f5f",
             "gridcolor": "white",
             "linecolor": "white",
             "minorgridcolor": "white",
             "startlinecolor": "#2a3f5f"
            },
            "type": "carpet"
           }
          ],
          "choropleth": [
           {
            "colorbar": {
             "outlinewidth": 0,
             "ticks": ""
            },
            "type": "choropleth"
           }
          ],
          "contour": [
           {
            "colorbar": {
             "outlinewidth": 0,
             "ticks": ""
            },
            "colorscale": [
             [
              0,
              "#0d0887"
             ],
             [
              0.1111111111111111,
              "#46039f"
             ],
             [
              0.2222222222222222,
              "#7201a8"
             ],
             [
              0.3333333333333333,
              "#9c179e"
             ],
             [
              0.4444444444444444,
              "#bd3786"
             ],
             [
              0.5555555555555556,
              "#d8576b"
             ],
             [
              0.6666666666666666,
              "#ed7953"
             ],
             [
              0.7777777777777778,
              "#fb9f3a"
             ],
             [
              0.8888888888888888,
              "#fdca26"
             ],
             [
              1,
              "#f0f921"
             ]
            ],
            "type": "contour"
           }
          ],
          "contourcarpet": [
           {
            "colorbar": {
             "outlinewidth": 0,
             "ticks": ""
            },
            "type": "contourcarpet"
           }
          ],
          "heatmap": [
           {
            "colorbar": {
             "outlinewidth": 0,
             "ticks": ""
            },
            "colorscale": [
             [
              0,
              "#0d0887"
             ],
             [
              0.1111111111111111,
              "#46039f"
             ],
             [
              0.2222222222222222,
              "#7201a8"
             ],
             [
              0.3333333333333333,
              "#9c179e"
             ],
             [
              0.4444444444444444,
              "#bd3786"
             ],
             [
              0.5555555555555556,
              "#d8576b"
             ],
             [
              0.6666666666666666,
              "#ed7953"
             ],
             [
              0.7777777777777778,
              "#fb9f3a"
             ],
             [
              0.8888888888888888,
              "#fdca26"
             ],
             [
              1,
              "#f0f921"
             ]
            ],
            "type": "heatmap"
           }
          ],
          "heatmapgl": [
           {
            "colorbar": {
             "outlinewidth": 0,
             "ticks": ""
            },
            "colorscale": [
             [
              0,
              "#0d0887"
             ],
             [
              0.1111111111111111,
              "#46039f"
             ],
             [
              0.2222222222222222,
              "#7201a8"
             ],
             [
              0.3333333333333333,
              "#9c179e"
             ],
             [
              0.4444444444444444,
              "#bd3786"
             ],
             [
              0.5555555555555556,
              "#d8576b"
             ],
             [
              0.6666666666666666,
              "#ed7953"
             ],
             [
              0.7777777777777778,
              "#fb9f3a"
             ],
             [
              0.8888888888888888,
              "#fdca26"
             ],
             [
              1,
              "#f0f921"
             ]
            ],
            "type": "heatmapgl"
           }
          ],
          "histogram": [
           {
            "marker": {
             "pattern": {
              "fillmode": "overlay",
              "size": 10,
              "solidity": 0.2
             }
            },
            "type": "histogram"
           }
          ],
          "histogram2d": [
           {
            "colorbar": {
             "outlinewidth": 0,
             "ticks": ""
            },
            "colorscale": [
             [
              0,
              "#0d0887"
             ],
             [
              0.1111111111111111,
              "#46039f"
             ],
             [
              0.2222222222222222,
              "#7201a8"
             ],
             [
              0.3333333333333333,
              "#9c179e"
             ],
             [
              0.4444444444444444,
              "#bd3786"
             ],
             [
              0.5555555555555556,
              "#d8576b"
             ],
             [
              0.6666666666666666,
              "#ed7953"
             ],
             [
              0.7777777777777778,
              "#fb9f3a"
             ],
             [
              0.8888888888888888,
              "#fdca26"
             ],
             [
              1,
              "#f0f921"
             ]
            ],
            "type": "histogram2d"
           }
          ],
          "histogram2dcontour": [
           {
            "colorbar": {
             "outlinewidth": 0,
             "ticks": ""
            },
            "colorscale": [
             [
              0,
              "#0d0887"
             ],
             [
              0.1111111111111111,
              "#46039f"
             ],
             [
              0.2222222222222222,
              "#7201a8"
             ],
             [
              0.3333333333333333,
              "#9c179e"
             ],
             [
              0.4444444444444444,
              "#bd3786"
             ],
             [
              0.5555555555555556,
              "#d8576b"
             ],
             [
              0.6666666666666666,
              "#ed7953"
             ],
             [
              0.7777777777777778,
              "#fb9f3a"
             ],
             [
              0.8888888888888888,
              "#fdca26"
             ],
             [
              1,
              "#f0f921"
             ]
            ],
            "type": "histogram2dcontour"
           }
          ],
          "mesh3d": [
           {
            "colorbar": {
             "outlinewidth": 0,
             "ticks": ""
            },
            "type": "mesh3d"
           }
          ],
          "parcoords": [
           {
            "line": {
             "colorbar": {
              "outlinewidth": 0,
              "ticks": ""
             }
            },
            "type": "parcoords"
           }
          ],
          "pie": [
           {
            "automargin": true,
            "type": "pie"
           }
          ],
          "scatter": [
           {
            "fillpattern": {
             "fillmode": "overlay",
             "size": 10,
             "solidity": 0.2
            },
            "type": "scatter"
           }
          ],
          "scatter3d": [
           {
            "line": {
             "colorbar": {
              "outlinewidth": 0,
              "ticks": ""
             }
            },
            "marker": {
             "colorbar": {
              "outlinewidth": 0,
              "ticks": ""
             }
            },
            "type": "scatter3d"
           }
          ],
          "scattercarpet": [
           {
            "marker": {
             "colorbar": {
              "outlinewidth": 0,
              "ticks": ""
             }
            },
            "type": "scattercarpet"
           }
          ],
          "scattergeo": [
           {
            "marker": {
             "colorbar": {
              "outlinewidth": 0,
              "ticks": ""
             }
            },
            "type": "scattergeo"
           }
          ],
          "scattergl": [
           {
            "marker": {
             "colorbar": {
              "outlinewidth": 0,
              "ticks": ""
             }
            },
            "type": "scattergl"
           }
          ],
          "scattermapbox": [
           {
            "marker": {
             "colorbar": {
              "outlinewidth": 0,
              "ticks": ""
             }
            },
            "type": "scattermapbox"
           }
          ],
          "scatterpolar": [
           {
            "marker": {
             "colorbar": {
              "outlinewidth": 0,
              "ticks": ""
             }
            },
            "type": "scatterpolar"
           }
          ],
          "scatterpolargl": [
           {
            "marker": {
             "colorbar": {
              "outlinewidth": 0,
              "ticks": ""
             }
            },
            "type": "scatterpolargl"
           }
          ],
          "scatterternary": [
           {
            "marker": {
             "colorbar": {
              "outlinewidth": 0,
              "ticks": ""
             }
            },
            "type": "scatterternary"
           }
          ],
          "surface": [
           {
            "colorbar": {
             "outlinewidth": 0,
             "ticks": ""
            },
            "colorscale": [
             [
              0,
              "#0d0887"
             ],
             [
              0.1111111111111111,
              "#46039f"
             ],
             [
              0.2222222222222222,
              "#7201a8"
             ],
             [
              0.3333333333333333,
              "#9c179e"
             ],
             [
              0.4444444444444444,
              "#bd3786"
             ],
             [
              0.5555555555555556,
              "#d8576b"
             ],
             [
              0.6666666666666666,
              "#ed7953"
             ],
             [
              0.7777777777777778,
              "#fb9f3a"
             ],
             [
              0.8888888888888888,
              "#fdca26"
             ],
             [
              1,
              "#f0f921"
             ]
            ],
            "type": "surface"
           }
          ],
          "table": [
           {
            "cells": {
             "fill": {
              "color": "#EBF0F8"
             },
             "line": {
              "color": "white"
             }
            },
            "header": {
             "fill": {
              "color": "#C8D4E3"
             },
             "line": {
              "color": "white"
             }
            },
            "type": "table"
           }
          ]
         },
         "layout": {
          "annotationdefaults": {
           "arrowcolor": "#2a3f5f",
           "arrowhead": 0,
           "arrowwidth": 1
          },
          "autotypenumbers": "strict",
          "coloraxis": {
           "colorbar": {
            "outlinewidth": 0,
            "ticks": ""
           }
          },
          "colorscale": {
           "diverging": [
            [
             0,
             "#8e0152"
            ],
            [
             0.1,
             "#c51b7d"
            ],
            [
             0.2,
             "#de77ae"
            ],
            [
             0.3,
             "#f1b6da"
            ],
            [
             0.4,
             "#fde0ef"
            ],
            [
             0.5,
             "#f7f7f7"
            ],
            [
             0.6,
             "#e6f5d0"
            ],
            [
             0.7,
             "#b8e186"
            ],
            [
             0.8,
             "#7fbc41"
            ],
            [
             0.9,
             "#4d9221"
            ],
            [
             1,
             "#276419"
            ]
           ],
           "sequential": [
            [
             0,
             "#0d0887"
            ],
            [
             0.1111111111111111,
             "#46039f"
            ],
            [
             0.2222222222222222,
             "#7201a8"
            ],
            [
             0.3333333333333333,
             "#9c179e"
            ],
            [
             0.4444444444444444,
             "#bd3786"
            ],
            [
             0.5555555555555556,
             "#d8576b"
            ],
            [
             0.6666666666666666,
             "#ed7953"
            ],
            [
             0.7777777777777778,
             "#fb9f3a"
            ],
            [
             0.8888888888888888,
             "#fdca26"
            ],
            [
             1,
             "#f0f921"
            ]
           ],
           "sequentialminus": [
            [
             0,
             "#0d0887"
            ],
            [
             0.1111111111111111,
             "#46039f"
            ],
            [
             0.2222222222222222,
             "#7201a8"
            ],
            [
             0.3333333333333333,
             "#9c179e"
            ],
            [
             0.4444444444444444,
             "#bd3786"
            ],
            [
             0.5555555555555556,
             "#d8576b"
            ],
            [
             0.6666666666666666,
             "#ed7953"
            ],
            [
             0.7777777777777778,
             "#fb9f3a"
            ],
            [
             0.8888888888888888,
             "#fdca26"
            ],
            [
             1,
             "#f0f921"
            ]
           ]
          },
          "colorway": [
           "#636efa",
           "#EF553B",
           "#00cc96",
           "#ab63fa",
           "#FFA15A",
           "#19d3f3",
           "#FF6692",
           "#B6E880",
           "#FF97FF",
           "#FECB52"
          ],
          "font": {
           "color": "#2a3f5f"
          },
          "geo": {
           "bgcolor": "white",
           "lakecolor": "white",
           "landcolor": "#E5ECF6",
           "showlakes": true,
           "showland": true,
           "subunitcolor": "white"
          },
          "hoverlabel": {
           "align": "left"
          },
          "hovermode": "closest",
          "mapbox": {
           "style": "light"
          },
          "paper_bgcolor": "white",
          "plot_bgcolor": "#E5ECF6",
          "polar": {
           "angularaxis": {
            "gridcolor": "white",
            "linecolor": "white",
            "ticks": ""
           },
           "bgcolor": "#E5ECF6",
           "radialaxis": {
            "gridcolor": "white",
            "linecolor": "white",
            "ticks": ""
           }
          },
          "scene": {
           "xaxis": {
            "backgroundcolor": "#E5ECF6",
            "gridcolor": "white",
            "gridwidth": 2,
            "linecolor": "white",
            "showbackground": true,
            "ticks": "",
            "zerolinecolor": "white"
           },
           "yaxis": {
            "backgroundcolor": "#E5ECF6",
            "gridcolor": "white",
            "gridwidth": 2,
            "linecolor": "white",
            "showbackground": true,
            "ticks": "",
            "zerolinecolor": "white"
           },
           "zaxis": {
            "backgroundcolor": "#E5ECF6",
            "gridcolor": "white",
            "gridwidth": 2,
            "linecolor": "white",
            "showbackground": true,
            "ticks": "",
            "zerolinecolor": "white"
           }
          },
          "shapedefaults": {
           "line": {
            "color": "#2a3f5f"
           }
          },
          "ternary": {
           "aaxis": {
            "gridcolor": "white",
            "linecolor": "white",
            "ticks": ""
           },
           "baxis": {
            "gridcolor": "white",
            "linecolor": "white",
            "ticks": ""
           },
           "bgcolor": "#E5ECF6",
           "caxis": {
            "gridcolor": "white",
            "linecolor": "white",
            "ticks": ""
           }
          },
          "title": {
           "x": 0.05
          },
          "xaxis": {
           "automargin": true,
           "gridcolor": "white",
           "linecolor": "white",
           "ticks": "",
           "title": {
            "standoff": 15
           },
           "zerolinecolor": "white",
           "zerolinewidth": 2
          },
          "yaxis": {
           "automargin": true,
           "gridcolor": "white",
           "linecolor": "white",
           "ticks": "",
           "title": {
            "standoff": 15
           },
           "zerolinecolor": "white",
           "zerolinewidth": 2
          }
         }
        },
        "title": {
         "text": "Explained Variance by Each Principal Component"
        },
        "xaxis": {
         "title": {
          "text": "Principal Components"
         }
        },
        "yaxis": {
         "title": {
          "text": "Explained Variance Ratio"
         }
        }
       }
      }
     },
     "metadata": {},
     "output_type": "display_data"
    },
    {
     "data": {
      "application/vnd.plotly.v1+json": {
       "config": {
        "plotlyServerURL": "https://plot.ly"
       },
       "data": [
        {
         "marker": {
          "color": "darkred"
         },
         "type": "scatter",
         "x": [
          "PC1",
          "PC2",
          "PC3",
          "PC4",
          "PC5",
          "PC6",
          "PC7",
          "PC8",
          "PC9",
          "PC10",
          "PC11",
          "PC12",
          "PC13",
          "PC14",
          "PC15",
          "PC16",
          "PC17",
          "PC18",
          "PC19",
          "PC20",
          "PC21",
          "PC22",
          "PC23",
          "PC24",
          "PC25",
          "PC26",
          "PC27",
          "PC28",
          "PC29",
          "PC30",
          "PC31",
          "PC32",
          "PC33",
          "PC34",
          "PC35",
          "PC36",
          "PC37",
          "PC38",
          "PC39",
          "PC40",
          "PC41",
          "PC42",
          "PC43",
          "PC44",
          "PC45",
          "PC46",
          "PC47",
          "PC48",
          "PC49",
          "PC50",
          "PC51",
          "PC52",
          "PC53",
          "PC54",
          "PC55",
          "PC56",
          "PC57",
          "PC58",
          "PC59",
          "PC60",
          "PC61",
          "PC62",
          "PC63",
          "PC64",
          "PC65",
          "PC66",
          "PC67",
          "PC68",
          "PC69",
          "PC70",
          "PC71",
          "PC72",
          "PC73",
          "PC74",
          "PC75",
          "PC76",
          "PC77",
          "PC78",
          "PC79",
          "PC80",
          "PC81",
          "PC82",
          "PC83",
          "PC84",
          "PC85",
          "PC86",
          "PC87",
          "PC88",
          "PC89",
          "PC90",
          "PC91",
          "PC92",
          "PC93",
          "PC94",
          "PC95",
          "PC96",
          "PC97",
          "PC98",
          "PC99",
          "PC100",
          "PC101",
          "PC102",
          "PC103",
          "PC104",
          "PC105",
          "PC106",
          "PC107",
          "PC108",
          "PC109",
          "PC110",
          "PC111",
          "PC112",
          "PC113",
          "PC114",
          "PC115",
          "PC116",
          "PC117",
          "PC118",
          "PC119",
          "PC120",
          "PC121",
          "PC122",
          "PC123",
          "PC124",
          "PC125",
          "PC126",
          "PC127",
          "PC128",
          "PC129",
          "PC130",
          "PC131",
          "PC132",
          "PC133",
          "PC134",
          "PC135",
          "PC136",
          "PC137",
          "PC138",
          "PC139",
          "PC140",
          "PC141",
          "PC142",
          "PC143",
          "PC144",
          "PC145",
          "PC146",
          "PC147",
          "PC148",
          "PC149",
          "PC150",
          "PC151",
          "PC152",
          "PC153",
          "PC154",
          "PC155",
          "PC156",
          "PC157",
          "PC158",
          "PC159",
          "PC160",
          "PC161",
          "PC162",
          "PC163",
          "PC164",
          "PC165",
          "PC166",
          "PC167",
          "PC168",
          "PC169",
          "PC170",
          "PC171",
          "PC172",
          "PC173",
          "PC174",
          "PC175",
          "PC176",
          "PC177",
          "PC178",
          "PC179",
          "PC180",
          "PC181",
          "PC182",
          "PC183",
          "PC184"
         ],
         "y": [
          0.6692399514699411,
          0.7574416904161858,
          0.7872995079286675,
          0.8153783820860477,
          0.8374321877685243,
          0.8549322655126786,
          0.8706110971325729,
          0.8847181530350882,
          0.8968756065383302,
          0.9039856459128679,
          0.9108295077033473,
          0.9174057706143792,
          0.9236539630381182,
          0.9292895220465449,
          0.9347528219938004,
          0.9401294133828166,
          0.9451559286419678,
          0.9499347130476997,
          0.9546213751364352,
          0.9591741215139312,
          0.963452130634203,
          0.967305863091521,
          0.9709386415318292,
          0.9743858834290324,
          0.9773946171350089,
          0.9802668431129391,
          0.982991560475145,
          0.9852932655550773,
          0.9873735358708847,
          0.9891023833156398,
          0.9907447542813882,
          0.9923836116197972,
          0.9938436707159135,
          0.9952313225536323,
          0.9961659491638906,
          0.9968840372831307,
          0.9974945097547536,
          0.9980877868019116,
          0.9986175308735411,
          0.998959365779927,
          0.9992416015530402,
          0.9994681026535175,
          0.9995781287578636,
          0.9996574159460258,
          0.9997302384787462,
          0.999790067080448,
          0.9998371152408341,
          0.9998764402757959,
          0.9999002708220268,
          0.9999208396814481,
          0.9999383805203061,
          0.99995117105378,
          0.9999617523770469,
          0.9999698989592156,
          0.9999764313850017,
          0.9999810110167909,
          0.9999848700325562,
          0.9999877296271765,
          0.9999904899876859,
          0.9999927054266724,
          0.9999941612540572,
          0.9999951280529876,
          0.9999958871940424,
          0.999996593071546,
          0.9999971560994196,
          0.999997561804546,
          0.9999979136912144,
          0.999998211853658,
          0.9999984481682536,
          0.9999986765833206,
          0.9999988487830984,
          0.9999990004470227,
          0.9999991326022116,
          0.9999992365526839,
          0.9999993292847569,
          0.9999994073801597,
          0.9999994732591813,
          0.999999525014723,
          0.9999995745139746,
          0.9999996179998373,
          0.9999996572546359,
          0.9999996886239793,
          0.9999997164707877,
          0.9999997402457483,
          0.9999997626725453,
          0.9999997829223939,
          0.9999998020848573,
          0.9999998191419954,
          0.9999998344177019,
          0.9999998482456703,
          0.9999998606344668,
          0.999999871165093,
          0.9999998807473329,
          0.9999998890571572,
          0.9999998965071211,
          0.9999999035803049,
          0.999999910357022,
          0.9999999166629534,
          0.9999999220305096,
          0.9999999270676151,
          0.9999999319473097,
          0.9999999366827267,
          0.9999999411003374,
          0.9999999447362118,
          0.999999948234083,
          0.9999999516439106,
          0.9999999548871681,
          0.9999999577632342,
          0.9999999601653088,
          0.9999999624816801,
          0.9999999646951321,
          0.9999999668341281,
          0.9999999688386941,
          0.9999999707809597,
          0.9999999725494866,
          0.9999999741431481,
          0.9999999755917894,
          0.9999999769235657,
          0.9999999781975752,
          0.9999999794241291,
          0.9999999805792553,
          0.9999999816846211,
          0.9999999827356097,
          0.9999999837818717,
          0.9999999847378186,
          0.999999985614978,
          0.9999999864806668,
          0.9999999872688417,
          0.9999999880193505,
          0.9999999887149936,
          0.9999999893897131,
          0.9999999899996005,
          0.9999999905811547,
          0.9999999911329075,
          0.9999999916630347,
          0.9999999921397912,
          0.9999999925987829,
          0.9999999930437383,
          0.999999993464781,
          0.999999993874959,
          0.9999999942363137,
          0.9999999945910759,
          0.9999999949263568,
          0.9999999952468944,
          0.9999999955520524,
          0.9999999958288602,
          0.9999999960907551,
          0.9999999963294233,
          0.9999999965505173,
          0.9999999967636153,
          0.9999999969637813,
          0.9999999971569511,
          0.9999999973403347,
          0.9999999975130258,
          0.9999999976757638,
          0.9999999978317806,
          0.9999999979759653,
          0.9999999981161013,
          0.9999999982506824,
          0.9999999983827861,
          0.9999999985064164,
          0.9999999986256011,
          0.9999999987371927,
          0.9999999988460183,
          0.9999999989437954,
          0.9999999990373164,
          0.9999999991302139,
          0.999999999218015,
          0.999999999300873,
          0.9999999993768731,
          0.9999999994510743,
          0.999999999522037,
          0.9999999995867488,
          0.9999999996446935,
          0.9999999997004915,
          0.9999999997452091,
          0.9999999997879326,
          0.9999999998292441,
          0.9999999998655887,
          0.9999999998988419,
          0.9999999999284899,
          0.9999999999544605,
          0.9999999999798234,
          0.9999999999999997
         ]
        }
       ],
       "layout": {
        "template": {
         "data": {
          "bar": [
           {
            "error_x": {
             "color": "#2a3f5f"
            },
            "error_y": {
             "color": "#2a3f5f"
            },
            "marker": {
             "line": {
              "color": "#E5ECF6",
              "width": 0.5
             },
             "pattern": {
              "fillmode": "overlay",
              "size": 10,
              "solidity": 0.2
             }
            },
            "type": "bar"
           }
          ],
          "barpolar": [
           {
            "marker": {
             "line": {
              "color": "#E5ECF6",
              "width": 0.5
             },
             "pattern": {
              "fillmode": "overlay",
              "size": 10,
              "solidity": 0.2
             }
            },
            "type": "barpolar"
           }
          ],
          "carpet": [
           {
            "aaxis": {
             "endlinecolor": "#2a3f5f",
             "gridcolor": "white",
             "linecolor": "white",
             "minorgridcolor": "white",
             "startlinecolor": "#2a3f5f"
            },
            "baxis": {
             "endlinecolor": "#2a3f5f",
             "gridcolor": "white",
             "linecolor": "white",
             "minorgridcolor": "white",
             "startlinecolor": "#2a3f5f"
            },
            "type": "carpet"
           }
          ],
          "choropleth": [
           {
            "colorbar": {
             "outlinewidth": 0,
             "ticks": ""
            },
            "type": "choropleth"
           }
          ],
          "contour": [
           {
            "colorbar": {
             "outlinewidth": 0,
             "ticks": ""
            },
            "colorscale": [
             [
              0,
              "#0d0887"
             ],
             [
              0.1111111111111111,
              "#46039f"
             ],
             [
              0.2222222222222222,
              "#7201a8"
             ],
             [
              0.3333333333333333,
              "#9c179e"
             ],
             [
              0.4444444444444444,
              "#bd3786"
             ],
             [
              0.5555555555555556,
              "#d8576b"
             ],
             [
              0.6666666666666666,
              "#ed7953"
             ],
             [
              0.7777777777777778,
              "#fb9f3a"
             ],
             [
              0.8888888888888888,
              "#fdca26"
             ],
             [
              1,
              "#f0f921"
             ]
            ],
            "type": "contour"
           }
          ],
          "contourcarpet": [
           {
            "colorbar": {
             "outlinewidth": 0,
             "ticks": ""
            },
            "type": "contourcarpet"
           }
          ],
          "heatmap": [
           {
            "colorbar": {
             "outlinewidth": 0,
             "ticks": ""
            },
            "colorscale": [
             [
              0,
              "#0d0887"
             ],
             [
              0.1111111111111111,
              "#46039f"
             ],
             [
              0.2222222222222222,
              "#7201a8"
             ],
             [
              0.3333333333333333,
              "#9c179e"
             ],
             [
              0.4444444444444444,
              "#bd3786"
             ],
             [
              0.5555555555555556,
              "#d8576b"
             ],
             [
              0.6666666666666666,
              "#ed7953"
             ],
             [
              0.7777777777777778,
              "#fb9f3a"
             ],
             [
              0.8888888888888888,
              "#fdca26"
             ],
             [
              1,
              "#f0f921"
             ]
            ],
            "type": "heatmap"
           }
          ],
          "heatmapgl": [
           {
            "colorbar": {
             "outlinewidth": 0,
             "ticks": ""
            },
            "colorscale": [
             [
              0,
              "#0d0887"
             ],
             [
              0.1111111111111111,
              "#46039f"
             ],
             [
              0.2222222222222222,
              "#7201a8"
             ],
             [
              0.3333333333333333,
              "#9c179e"
             ],
             [
              0.4444444444444444,
              "#bd3786"
             ],
             [
              0.5555555555555556,
              "#d8576b"
             ],
             [
              0.6666666666666666,
              "#ed7953"
             ],
             [
              0.7777777777777778,
              "#fb9f3a"
             ],
             [
              0.8888888888888888,
              "#fdca26"
             ],
             [
              1,
              "#f0f921"
             ]
            ],
            "type": "heatmapgl"
           }
          ],
          "histogram": [
           {
            "marker": {
             "pattern": {
              "fillmode": "overlay",
              "size": 10,
              "solidity": 0.2
             }
            },
            "type": "histogram"
           }
          ],
          "histogram2d": [
           {
            "colorbar": {
             "outlinewidth": 0,
             "ticks": ""
            },
            "colorscale": [
             [
              0,
              "#0d0887"
             ],
             [
              0.1111111111111111,
              "#46039f"
             ],
             [
              0.2222222222222222,
              "#7201a8"
             ],
             [
              0.3333333333333333,
              "#9c179e"
             ],
             [
              0.4444444444444444,
              "#bd3786"
             ],
             [
              0.5555555555555556,
              "#d8576b"
             ],
             [
              0.6666666666666666,
              "#ed7953"
             ],
             [
              0.7777777777777778,
              "#fb9f3a"
             ],
             [
              0.8888888888888888,
              "#fdca26"
             ],
             [
              1,
              "#f0f921"
             ]
            ],
            "type": "histogram2d"
           }
          ],
          "histogram2dcontour": [
           {
            "colorbar": {
             "outlinewidth": 0,
             "ticks": ""
            },
            "colorscale": [
             [
              0,
              "#0d0887"
             ],
             [
              0.1111111111111111,
              "#46039f"
             ],
             [
              0.2222222222222222,
              "#7201a8"
             ],
             [
              0.3333333333333333,
              "#9c179e"
             ],
             [
              0.4444444444444444,
              "#bd3786"
             ],
             [
              0.5555555555555556,
              "#d8576b"
             ],
             [
              0.6666666666666666,
              "#ed7953"
             ],
             [
              0.7777777777777778,
              "#fb9f3a"
             ],
             [
              0.8888888888888888,
              "#fdca26"
             ],
             [
              1,
              "#f0f921"
             ]
            ],
            "type": "histogram2dcontour"
           }
          ],
          "mesh3d": [
           {
            "colorbar": {
             "outlinewidth": 0,
             "ticks": ""
            },
            "type": "mesh3d"
           }
          ],
          "parcoords": [
           {
            "line": {
             "colorbar": {
              "outlinewidth": 0,
              "ticks": ""
             }
            },
            "type": "parcoords"
           }
          ],
          "pie": [
           {
            "automargin": true,
            "type": "pie"
           }
          ],
          "scatter": [
           {
            "fillpattern": {
             "fillmode": "overlay",
             "size": 10,
             "solidity": 0.2
            },
            "type": "scatter"
           }
          ],
          "scatter3d": [
           {
            "line": {
             "colorbar": {
              "outlinewidth": 0,
              "ticks": ""
             }
            },
            "marker": {
             "colorbar": {
              "outlinewidth": 0,
              "ticks": ""
             }
            },
            "type": "scatter3d"
           }
          ],
          "scattercarpet": [
           {
            "marker": {
             "colorbar": {
              "outlinewidth": 0,
              "ticks": ""
             }
            },
            "type": "scattercarpet"
           }
          ],
          "scattergeo": [
           {
            "marker": {
             "colorbar": {
              "outlinewidth": 0,
              "ticks": ""
             }
            },
            "type": "scattergeo"
           }
          ],
          "scattergl": [
           {
            "marker": {
             "colorbar": {
              "outlinewidth": 0,
              "ticks": ""
             }
            },
            "type": "scattergl"
           }
          ],
          "scattermapbox": [
           {
            "marker": {
             "colorbar": {
              "outlinewidth": 0,
              "ticks": ""
             }
            },
            "type": "scattermapbox"
           }
          ],
          "scatterpolar": [
           {
            "marker": {
             "colorbar": {
              "outlinewidth": 0,
              "ticks": ""
             }
            },
            "type": "scatterpolar"
           }
          ],
          "scatterpolargl": [
           {
            "marker": {
             "colorbar": {
              "outlinewidth": 0,
              "ticks": ""
             }
            },
            "type": "scatterpolargl"
           }
          ],
          "scatterternary": [
           {
            "marker": {
             "colorbar": {
              "outlinewidth": 0,
              "ticks": ""
             }
            },
            "type": "scatterternary"
           }
          ],
          "surface": [
           {
            "colorbar": {
             "outlinewidth": 0,
             "ticks": ""
            },
            "colorscale": [
             [
              0,
              "#0d0887"
             ],
             [
              0.1111111111111111,
              "#46039f"
             ],
             [
              0.2222222222222222,
              "#7201a8"
             ],
             [
              0.3333333333333333,
              "#9c179e"
             ],
             [
              0.4444444444444444,
              "#bd3786"
             ],
             [
              0.5555555555555556,
              "#d8576b"
             ],
             [
              0.6666666666666666,
              "#ed7953"
             ],
             [
              0.7777777777777778,
              "#fb9f3a"
             ],
             [
              0.8888888888888888,
              "#fdca26"
             ],
             [
              1,
              "#f0f921"
             ]
            ],
            "type": "surface"
           }
          ],
          "table": [
           {
            "cells": {
             "fill": {
              "color": "#EBF0F8"
             },
             "line": {
              "color": "white"
             }
            },
            "header": {
             "fill": {
              "color": "#C8D4E3"
             },
             "line": {
              "color": "white"
             }
            },
            "type": "table"
           }
          ]
         },
         "layout": {
          "annotationdefaults": {
           "arrowcolor": "#2a3f5f",
           "arrowhead": 0,
           "arrowwidth": 1
          },
          "autotypenumbers": "strict",
          "coloraxis": {
           "colorbar": {
            "outlinewidth": 0,
            "ticks": ""
           }
          },
          "colorscale": {
           "diverging": [
            [
             0,
             "#8e0152"
            ],
            [
             0.1,
             "#c51b7d"
            ],
            [
             0.2,
             "#de77ae"
            ],
            [
             0.3,
             "#f1b6da"
            ],
            [
             0.4,
             "#fde0ef"
            ],
            [
             0.5,
             "#f7f7f7"
            ],
            [
             0.6,
             "#e6f5d0"
            ],
            [
             0.7,
             "#b8e186"
            ],
            [
             0.8,
             "#7fbc41"
            ],
            [
             0.9,
             "#4d9221"
            ],
            [
             1,
             "#276419"
            ]
           ],
           "sequential": [
            [
             0,
             "#0d0887"
            ],
            [
             0.1111111111111111,
             "#46039f"
            ],
            [
             0.2222222222222222,
             "#7201a8"
            ],
            [
             0.3333333333333333,
             "#9c179e"
            ],
            [
             0.4444444444444444,
             "#bd3786"
            ],
            [
             0.5555555555555556,
             "#d8576b"
            ],
            [
             0.6666666666666666,
             "#ed7953"
            ],
            [
             0.7777777777777778,
             "#fb9f3a"
            ],
            [
             0.8888888888888888,
             "#fdca26"
            ],
            [
             1,
             "#f0f921"
            ]
           ],
           "sequentialminus": [
            [
             0,
             "#0d0887"
            ],
            [
             0.1111111111111111,
             "#46039f"
            ],
            [
             0.2222222222222222,
             "#7201a8"
            ],
            [
             0.3333333333333333,
             "#9c179e"
            ],
            [
             0.4444444444444444,
             "#bd3786"
            ],
            [
             0.5555555555555556,
             "#d8576b"
            ],
            [
             0.6666666666666666,
             "#ed7953"
            ],
            [
             0.7777777777777778,
             "#fb9f3a"
            ],
            [
             0.8888888888888888,
             "#fdca26"
            ],
            [
             1,
             "#f0f921"
            ]
           ]
          },
          "colorway": [
           "#636efa",
           "#EF553B",
           "#00cc96",
           "#ab63fa",
           "#FFA15A",
           "#19d3f3",
           "#FF6692",
           "#B6E880",
           "#FF97FF",
           "#FECB52"
          ],
          "font": {
           "color": "#2a3f5f"
          },
          "geo": {
           "bgcolor": "white",
           "lakecolor": "white",
           "landcolor": "#E5ECF6",
           "showlakes": true,
           "showland": true,
           "subunitcolor": "white"
          },
          "hoverlabel": {
           "align": "left"
          },
          "hovermode": "closest",
          "mapbox": {
           "style": "light"
          },
          "paper_bgcolor": "white",
          "plot_bgcolor": "#E5ECF6",
          "polar": {
           "angularaxis": {
            "gridcolor": "white",
            "linecolor": "white",
            "ticks": ""
           },
           "bgcolor": "#E5ECF6",
           "radialaxis": {
            "gridcolor": "white",
            "linecolor": "white",
            "ticks": ""
           }
          },
          "scene": {
           "xaxis": {
            "backgroundcolor": "#E5ECF6",
            "gridcolor": "white",
            "gridwidth": 2,
            "linecolor": "white",
            "showbackground": true,
            "ticks": "",
            "zerolinecolor": "white"
           },
           "yaxis": {
            "backgroundcolor": "#E5ECF6",
            "gridcolor": "white",
            "gridwidth": 2,
            "linecolor": "white",
            "showbackground": true,
            "ticks": "",
            "zerolinecolor": "white"
           },
           "zaxis": {
            "backgroundcolor": "#E5ECF6",
            "gridcolor": "white",
            "gridwidth": 2,
            "linecolor": "white",
            "showbackground": true,
            "ticks": "",
            "zerolinecolor": "white"
           }
          },
          "shapedefaults": {
           "line": {
            "color": "#2a3f5f"
           }
          },
          "ternary": {
           "aaxis": {
            "gridcolor": "white",
            "linecolor": "white",
            "ticks": ""
           },
           "baxis": {
            "gridcolor": "white",
            "linecolor": "white",
            "ticks": ""
           },
           "bgcolor": "#E5ECF6",
           "caxis": {
            "gridcolor": "white",
            "linecolor": "white",
            "ticks": ""
           }
          },
          "title": {
           "x": 0.05
          },
          "xaxis": {
           "automargin": true,
           "gridcolor": "white",
           "linecolor": "white",
           "ticks": "",
           "title": {
            "standoff": 15
           },
           "zerolinecolor": "white",
           "zerolinewidth": 2
          },
          "yaxis": {
           "automargin": true,
           "gridcolor": "white",
           "linecolor": "white",
           "ticks": "",
           "title": {
            "standoff": 15
           },
           "zerolinecolor": "white",
           "zerolinewidth": 2
          }
         }
        },
        "title": {
         "text": "Cumulative Explained Variance by Principal Components"
        },
        "xaxis": {
         "title": {
          "text": "Principal Components"
         }
        },
        "yaxis": {
         "title": {
          "text": "Cumulative Explained Variance Ratio"
         }
        }
       }
      }
     },
     "metadata": {},
     "output_type": "display_data"
    },
    {
     "name": "stdout",
     "output_type": "stream",
     "text": [
      "Total explained variance by the first 184 principal components: 1.00\n"
     ]
    },
    {
     "data": {
      "application/vnd.plotly.v1+json": {
       "config": {
        "plotlyServerURL": "https://plot.ly"
       },
       "data": [
        {
         "marker": {
          "color": "darkblue"
         },
         "type": "bar",
         "x": [
          "avg_PK_Of_element_y",
          "branches",
          "edges",
          "node_degree_3",
          "Dim 91",
          "Dim 82",
          "Dim 112",
          "Dim 58",
          "Dim 73",
          "Dim 74",
          "Dim 103",
          "Dim 22",
          "node_degree_7",
          "node_degree_6",
          "Dim 75",
          "Dim 7",
          "Dim 25",
          "node_degree_0",
          "Dim 114",
          "cc_pixel_intensity_555",
          "Dim 105",
          "node_degree_4",
          "Dim 53",
          "Dim 108",
          "Dim 28",
          "Dim 87",
          "Dim 84",
          "point_id",
          "node_degree_11",
          "center_y",
          "Dim 59",
          "y_x",
          "Dim 104",
          "clustering coefficient",
          "cc_length_(um)",
          "node_degree_8",
          "node_degree_2",
          "x_pixel",
          "x_x",
          "diameter",
          "Dim 85",
          "pixel_intensity_555",
          "vol_cc_y",
          "coeff_of_variance_line_id",
          "center_x",
          "line_id",
          "folder_name_y",
          "element_length_(um)",
          "y_pixel",
          "Dim 96",
          "Dim 47",
          "width_(um)",
          "Dim 48",
          "Dim 23",
          "cc_vol_from_img_(um3)",
          "cc_center_z",
          "Dim 93",
          "Dim 9",
          "center_z",
          "Dim 20",
          "element_average_width",
          "Dim 83",
          "coeff_of_variance_cc",
          "Dim 56",
          "Dim 119",
          "element_pixel_intensity_405_488_ratio",
          "distance",
          "element_Volume_Voxel",
          "cc_center_y",
          "z_x",
          "node_degree_9",
          "Dim 100",
          "node_y",
          "Dim 92",
          "Dim 71",
          "Dim 3",
          "Dim 34",
          "Dim 16",
          "Dim 89",
          "pathLength",
          "z_pixel",
          "Dim 65",
          "Dim 8",
          "Dim 116",
          "Dim 97",
          "cc_max_PK",
          "Dim 2",
          "node_degree_10",
          "Dim 66",
          "Dim 68",
          "Dim 106",
          "Dim 61",
          "Dim 101",
          "Dim 30",
          "Dim 90",
          "Dim 98",
          "Dim 19",
          "Dim 77",
          "order",
          "Dim 127",
          "Dim 102",
          "Dim 42",
          "Dim 81",
          "Dim 111",
          "Dim 57",
          "distance_to_center",
          "Dim 128",
          "Dim 123",
          "cc_center_x",
          "Dim 117",
          "Dim 78",
          "Dim 35",
          "Dim 125",
          "Dim 38",
          "Dim 86",
          "degree_y",
          "Dim 1",
          "Dim 107",
          "Dim 60",
          "Dim 88",
          "Dim 80",
          "Dim 54",
          "Dim 4",
          "Dim 62",
          "Dim 14",
          "nodes",
          "Dim 40",
          "Dim 21",
          "Dim 50",
          "Dim 55",
          "Dim 115",
          "Dim 110",
          "Dim 122",
          "Dim 113",
          "Dim 41",
          "Dim 63",
          "Dim 32",
          "Dim 120",
          "Dim 26",
          "Dim 6",
          "Dim 36",
          "Dim 33",
          "Dim 31",
          "Dim 24",
          "Dim 11",
          "Dim 49",
          "Dim 44",
          "Dim 39",
          "Dim 124",
          "Dim 69",
          "Dim 12",
          "Dim 5",
          "node_degree_1",
          "Dim 52",
          "Dim 15",
          "Dim 43",
          "Dim 29",
          "Dim 99",
          "Dim 10",
          "Dim 121",
          "Dim 95",
          "Dim 17",
          "Dim 51",
          "Dim 27",
          "Dim 79",
          "Dim 72",
          "Dim 70",
          "Dim 45",
          "Dim 126",
          "Dim 37",
          "Dim 109",
          "node_degree_5",
          "Dim 13",
          "Dim 94",
          "Dim 64",
          "Dim 18",
          "Dim 118",
          "Dim 76",
          "Dim 46",
          "Dim 67",
          "matching_index",
          "density",
          "cc_average_degree_excludeFreeEnds",
          "element_connectivity_y"
         ],
         "y": [
          0.5434782608695908,
          0.543478260869581,
          0.5434782608695722,
          0.5434782608695711,
          0.54347826086957,
          0.5434782608695695,
          0.5434782608695695,
          0.5434782608695694,
          0.5434782608695693,
          0.5434782608695691,
          0.543478260869569,
          0.543478260869569,
          0.543478260869569,
          0.543478260869569,
          0.543478260869569,
          0.543478260869569,
          0.5434782608695689,
          0.5434782608695686,
          0.5434782608695686,
          0.5434782608695686,
          0.5434782608695685,
          0.5434782608695684,
          0.5434782608695683,
          0.5434782608695683,
          0.5434782608695683,
          0.5434782608695682,
          0.5434782608695681,
          0.5434782608695681,
          0.543478260869568,
          0.5434782608695679,
          0.5434782608695679,
          0.5434782608695679,
          0.5434782608695677,
          0.5434782608695676,
          0.5434782608695676,
          0.5434782608695676,
          0.5434782608695674,
          0.5434782608695674,
          0.5434782608695674,
          0.5434782608695674,
          0.5434782608695674,
          0.5434782608695673,
          0.5434782608695673,
          0.5434782608695673,
          0.5434782608695673,
          0.5434782608695672,
          0.5434782608695672,
          0.5434782608695671,
          0.5434782608695671,
          0.5434782608695671,
          0.543478260869567,
          0.543478260869567,
          0.543478260869567,
          0.5434782608695669,
          0.5434782608695667,
          0.5434782608695667,
          0.5434782608695667,
          0.5434782608695666,
          0.5434782608695666,
          0.5434782608695666,
          0.5434782608695666,
          0.5434782608695666,
          0.5434782608695664,
          0.5434782608695663,
          0.5434782608695663,
          0.5434782608695663,
          0.5434782608695662,
          0.5434782608695662,
          0.5434782608695661,
          0.5434782608695661,
          0.543478260869566,
          0.5434782608695659,
          0.5434782608695659,
          0.5434782608695659,
          0.5434782608695659,
          0.5434782608695657,
          0.5434782608695656,
          0.5434782608695655,
          0.5434782608695655,
          0.5434782608695654,
          0.5434782608695654,
          0.5434782608695653,
          0.5434782608695653,
          0.5434782608695651,
          0.5434782608695651,
          0.5434782608695651,
          0.5434782608695651,
          0.5434782608695651,
          0.543478260869565,
          0.543478260869565,
          0.5434782608695649,
          0.5434782608695649,
          0.5434782608695646,
          0.5434782608695646,
          0.5434782608695646,
          0.5434782608695645,
          0.5434782608695643,
          0.5434782608695643,
          0.5434782608695643,
          0.5434782608695643,
          0.5434782608695643,
          0.5434782608695642,
          0.5434782608695642,
          0.5434782608695642,
          0.5434782608695641,
          0.543478260869564,
          0.5434782608695639,
          0.5434782608695637,
          0.5434782608695637,
          0.5434782608695637,
          0.5434782608695636,
          0.5434782608695635,
          0.5434782608695634,
          0.5434782608695634,
          0.5434782608695634,
          0.5434782608695634,
          0.5434782608695634,
          0.5434782608695633,
          0.5434782608695633,
          0.5434782608695632,
          0.5434782608695632,
          0.5434782608695632,
          0.5434782608695631,
          0.5434782608695631,
          0.5434782608695631,
          0.5434782608695631,
          0.5434782608695631,
          0.5434782608695631,
          0.5434782608695631,
          0.5434782608695631,
          0.5434782608695631,
          0.5434782608695631,
          0.543478260869563,
          0.543478260869563,
          0.543478260869563,
          0.5434782608695629,
          0.5434782608695629,
          0.5434782608695629,
          0.5434782608695629,
          0.5434782608695629,
          0.5434782608695627,
          0.5434782608695626,
          0.5434782608695626,
          0.5434782608695626,
          0.5434782608695626,
          0.5434782608695626,
          0.5434782608695626,
          0.5434782608695625,
          0.5434782608695625,
          0.5434782608695625,
          0.5434782608695625,
          0.5434782608695624,
          0.5434782608695624,
          0.5434782608695624,
          0.5434782608695624,
          0.5434782608695624,
          0.5434782608695624,
          0.5434782608695623,
          0.5434782608695623,
          0.5434782608695623,
          0.5434782608695623,
          0.5434782608695623,
          0.5434782608695623,
          0.5434782608695623,
          0.5434782608695623,
          0.5434782608695623,
          0.5434782608695623,
          0.5434782608695623,
          0.5434782608695622,
          0.5434782608695622,
          0.5434782608695621,
          0.5434782608695621,
          0.5434782608695621,
          0.5434782608695621,
          0.5434782608695621,
          0.5434782608695621,
          0.543478260869562,
          0.543478260869562,
          0.5434782608695616,
          0.5434782608695615,
          0.5434782608695575,
          0.543478260869556,
          0.543478260869555,
          0.5434782608695451
         ]
        }
       ],
       "layout": {
        "template": {
         "data": {
          "bar": [
           {
            "error_x": {
             "color": "#2a3f5f"
            },
            "error_y": {
             "color": "#2a3f5f"
            },
            "marker": {
             "line": {
              "color": "#E5ECF6",
              "width": 0.5
             },
             "pattern": {
              "fillmode": "overlay",
              "size": 10,
              "solidity": 0.2
             }
            },
            "type": "bar"
           }
          ],
          "barpolar": [
           {
            "marker": {
             "line": {
              "color": "#E5ECF6",
              "width": 0.5
             },
             "pattern": {
              "fillmode": "overlay",
              "size": 10,
              "solidity": 0.2
             }
            },
            "type": "barpolar"
           }
          ],
          "carpet": [
           {
            "aaxis": {
             "endlinecolor": "#2a3f5f",
             "gridcolor": "white",
             "linecolor": "white",
             "minorgridcolor": "white",
             "startlinecolor": "#2a3f5f"
            },
            "baxis": {
             "endlinecolor": "#2a3f5f",
             "gridcolor": "white",
             "linecolor": "white",
             "minorgridcolor": "white",
             "startlinecolor": "#2a3f5f"
            },
            "type": "carpet"
           }
          ],
          "choropleth": [
           {
            "colorbar": {
             "outlinewidth": 0,
             "ticks": ""
            },
            "type": "choropleth"
           }
          ],
          "contour": [
           {
            "colorbar": {
             "outlinewidth": 0,
             "ticks": ""
            },
            "colorscale": [
             [
              0,
              "#0d0887"
             ],
             [
              0.1111111111111111,
              "#46039f"
             ],
             [
              0.2222222222222222,
              "#7201a8"
             ],
             [
              0.3333333333333333,
              "#9c179e"
             ],
             [
              0.4444444444444444,
              "#bd3786"
             ],
             [
              0.5555555555555556,
              "#d8576b"
             ],
             [
              0.6666666666666666,
              "#ed7953"
             ],
             [
              0.7777777777777778,
              "#fb9f3a"
             ],
             [
              0.8888888888888888,
              "#fdca26"
             ],
             [
              1,
              "#f0f921"
             ]
            ],
            "type": "contour"
           }
          ],
          "contourcarpet": [
           {
            "colorbar": {
             "outlinewidth": 0,
             "ticks": ""
            },
            "type": "contourcarpet"
           }
          ],
          "heatmap": [
           {
            "colorbar": {
             "outlinewidth": 0,
             "ticks": ""
            },
            "colorscale": [
             [
              0,
              "#0d0887"
             ],
             [
              0.1111111111111111,
              "#46039f"
             ],
             [
              0.2222222222222222,
              "#7201a8"
             ],
             [
              0.3333333333333333,
              "#9c179e"
             ],
             [
              0.4444444444444444,
              "#bd3786"
             ],
             [
              0.5555555555555556,
              "#d8576b"
             ],
             [
              0.6666666666666666,
              "#ed7953"
             ],
             [
              0.7777777777777778,
              "#fb9f3a"
             ],
             [
              0.8888888888888888,
              "#fdca26"
             ],
             [
              1,
              "#f0f921"
             ]
            ],
            "type": "heatmap"
           }
          ],
          "heatmapgl": [
           {
            "colorbar": {
             "outlinewidth": 0,
             "ticks": ""
            },
            "colorscale": [
             [
              0,
              "#0d0887"
             ],
             [
              0.1111111111111111,
              "#46039f"
             ],
             [
              0.2222222222222222,
              "#7201a8"
             ],
             [
              0.3333333333333333,
              "#9c179e"
             ],
             [
              0.4444444444444444,
              "#bd3786"
             ],
             [
              0.5555555555555556,
              "#d8576b"
             ],
             [
              0.6666666666666666,
              "#ed7953"
             ],
             [
              0.7777777777777778,
              "#fb9f3a"
             ],
             [
              0.8888888888888888,
              "#fdca26"
             ],
             [
              1,
              "#f0f921"
             ]
            ],
            "type": "heatmapgl"
           }
          ],
          "histogram": [
           {
            "marker": {
             "pattern": {
              "fillmode": "overlay",
              "size": 10,
              "solidity": 0.2
             }
            },
            "type": "histogram"
           }
          ],
          "histogram2d": [
           {
            "colorbar": {
             "outlinewidth": 0,
             "ticks": ""
            },
            "colorscale": [
             [
              0,
              "#0d0887"
             ],
             [
              0.1111111111111111,
              "#46039f"
             ],
             [
              0.2222222222222222,
              "#7201a8"
             ],
             [
              0.3333333333333333,
              "#9c179e"
             ],
             [
              0.4444444444444444,
              "#bd3786"
             ],
             [
              0.5555555555555556,
              "#d8576b"
             ],
             [
              0.6666666666666666,
              "#ed7953"
             ],
             [
              0.7777777777777778,
              "#fb9f3a"
             ],
             [
              0.8888888888888888,
              "#fdca26"
             ],
             [
              1,
              "#f0f921"
             ]
            ],
            "type": "histogram2d"
           }
          ],
          "histogram2dcontour": [
           {
            "colorbar": {
             "outlinewidth": 0,
             "ticks": ""
            },
            "colorscale": [
             [
              0,
              "#0d0887"
             ],
             [
              0.1111111111111111,
              "#46039f"
             ],
             [
              0.2222222222222222,
              "#7201a8"
             ],
             [
              0.3333333333333333,
              "#9c179e"
             ],
             [
              0.4444444444444444,
              "#bd3786"
             ],
             [
              0.5555555555555556,
              "#d8576b"
             ],
             [
              0.6666666666666666,
              "#ed7953"
             ],
             [
              0.7777777777777778,
              "#fb9f3a"
             ],
             [
              0.8888888888888888,
              "#fdca26"
             ],
             [
              1,
              "#f0f921"
             ]
            ],
            "type": "histogram2dcontour"
           }
          ],
          "mesh3d": [
           {
            "colorbar": {
             "outlinewidth": 0,
             "ticks": ""
            },
            "type": "mesh3d"
           }
          ],
          "parcoords": [
           {
            "line": {
             "colorbar": {
              "outlinewidth": 0,
              "ticks": ""
             }
            },
            "type": "parcoords"
           }
          ],
          "pie": [
           {
            "automargin": true,
            "type": "pie"
           }
          ],
          "scatter": [
           {
            "fillpattern": {
             "fillmode": "overlay",
             "size": 10,
             "solidity": 0.2
            },
            "type": "scatter"
           }
          ],
          "scatter3d": [
           {
            "line": {
             "colorbar": {
              "outlinewidth": 0,
              "ticks": ""
             }
            },
            "marker": {
             "colorbar": {
              "outlinewidth": 0,
              "ticks": ""
             }
            },
            "type": "scatter3d"
           }
          ],
          "scattercarpet": [
           {
            "marker": {
             "colorbar": {
              "outlinewidth": 0,
              "ticks": ""
             }
            },
            "type": "scattercarpet"
           }
          ],
          "scattergeo": [
           {
            "marker": {
             "colorbar": {
              "outlinewidth": 0,
              "ticks": ""
             }
            },
            "type": "scattergeo"
           }
          ],
          "scattergl": [
           {
            "marker": {
             "colorbar": {
              "outlinewidth": 0,
              "ticks": ""
             }
            },
            "type": "scattergl"
           }
          ],
          "scattermapbox": [
           {
            "marker": {
             "colorbar": {
              "outlinewidth": 0,
              "ticks": ""
             }
            },
            "type": "scattermapbox"
           }
          ],
          "scatterpolar": [
           {
            "marker": {
             "colorbar": {
              "outlinewidth": 0,
              "ticks": ""
             }
            },
            "type": "scatterpolar"
           }
          ],
          "scatterpolargl": [
           {
            "marker": {
             "colorbar": {
              "outlinewidth": 0,
              "ticks": ""
             }
            },
            "type": "scatterpolargl"
           }
          ],
          "scatterternary": [
           {
            "marker": {
             "colorbar": {
              "outlinewidth": 0,
              "ticks": ""
             }
            },
            "type": "scatterternary"
           }
          ],
          "surface": [
           {
            "colorbar": {
             "outlinewidth": 0,
             "ticks": ""
            },
            "colorscale": [
             [
              0,
              "#0d0887"
             ],
             [
              0.1111111111111111,
              "#46039f"
             ],
             [
              0.2222222222222222,
              "#7201a8"
             ],
             [
              0.3333333333333333,
              "#9c179e"
             ],
             [
              0.4444444444444444,
              "#bd3786"
             ],
             [
              0.5555555555555556,
              "#d8576b"
             ],
             [
              0.6666666666666666,
              "#ed7953"
             ],
             [
              0.7777777777777778,
              "#fb9f3a"
             ],
             [
              0.8888888888888888,
              "#fdca26"
             ],
             [
              1,
              "#f0f921"
             ]
            ],
            "type": "surface"
           }
          ],
          "table": [
           {
            "cells": {
             "fill": {
              "color": "#EBF0F8"
             },
             "line": {
              "color": "white"
             }
            },
            "header": {
             "fill": {
              "color": "#C8D4E3"
             },
             "line": {
              "color": "white"
             }
            },
            "type": "table"
           }
          ]
         },
         "layout": {
          "annotationdefaults": {
           "arrowcolor": "#2a3f5f",
           "arrowhead": 0,
           "arrowwidth": 1
          },
          "autotypenumbers": "strict",
          "coloraxis": {
           "colorbar": {
            "outlinewidth": 0,
            "ticks": ""
           }
          },
          "colorscale": {
           "diverging": [
            [
             0,
             "#8e0152"
            ],
            [
             0.1,
             "#c51b7d"
            ],
            [
             0.2,
             "#de77ae"
            ],
            [
             0.3,
             "#f1b6da"
            ],
            [
             0.4,
             "#fde0ef"
            ],
            [
             0.5,
             "#f7f7f7"
            ],
            [
             0.6,
             "#e6f5d0"
            ],
            [
             0.7,
             "#b8e186"
            ],
            [
             0.8,
             "#7fbc41"
            ],
            [
             0.9,
             "#4d9221"
            ],
            [
             1,
             "#276419"
            ]
           ],
           "sequential": [
            [
             0,
             "#0d0887"
            ],
            [
             0.1111111111111111,
             "#46039f"
            ],
            [
             0.2222222222222222,
             "#7201a8"
            ],
            [
             0.3333333333333333,
             "#9c179e"
            ],
            [
             0.4444444444444444,
             "#bd3786"
            ],
            [
             0.5555555555555556,
             "#d8576b"
            ],
            [
             0.6666666666666666,
             "#ed7953"
            ],
            [
             0.7777777777777778,
             "#fb9f3a"
            ],
            [
             0.8888888888888888,
             "#fdca26"
            ],
            [
             1,
             "#f0f921"
            ]
           ],
           "sequentialminus": [
            [
             0,
             "#0d0887"
            ],
            [
             0.1111111111111111,
             "#46039f"
            ],
            [
             0.2222222222222222,
             "#7201a8"
            ],
            [
             0.3333333333333333,
             "#9c179e"
            ],
            [
             0.4444444444444444,
             "#bd3786"
            ],
            [
             0.5555555555555556,
             "#d8576b"
            ],
            [
             0.6666666666666666,
             "#ed7953"
            ],
            [
             0.7777777777777778,
             "#fb9f3a"
            ],
            [
             0.8888888888888888,
             "#fdca26"
            ],
            [
             1,
             "#f0f921"
            ]
           ]
          },
          "colorway": [
           "#636efa",
           "#EF553B",
           "#00cc96",
           "#ab63fa",
           "#FFA15A",
           "#19d3f3",
           "#FF6692",
           "#B6E880",
           "#FF97FF",
           "#FECB52"
          ],
          "font": {
           "color": "#2a3f5f"
          },
          "geo": {
           "bgcolor": "white",
           "lakecolor": "white",
           "landcolor": "#E5ECF6",
           "showlakes": true,
           "showland": true,
           "subunitcolor": "white"
          },
          "hoverlabel": {
           "align": "left"
          },
          "hovermode": "closest",
          "mapbox": {
           "style": "light"
          },
          "paper_bgcolor": "white",
          "plot_bgcolor": "#E5ECF6",
          "polar": {
           "angularaxis": {
            "gridcolor": "white",
            "linecolor": "white",
            "ticks": ""
           },
           "bgcolor": "#E5ECF6",
           "radialaxis": {
            "gridcolor": "white",
            "linecolor": "white",
            "ticks": ""
           }
          },
          "scene": {
           "xaxis": {
            "backgroundcolor": "#E5ECF6",
            "gridcolor": "white",
            "gridwidth": 2,
            "linecolor": "white",
            "showbackground": true,
            "ticks": "",
            "zerolinecolor": "white"
           },
           "yaxis": {
            "backgroundcolor": "#E5ECF6",
            "gridcolor": "white",
            "gridwidth": 2,
            "linecolor": "white",
            "showbackground": true,
            "ticks": "",
            "zerolinecolor": "white"
           },
           "zaxis": {
            "backgroundcolor": "#E5ECF6",
            "gridcolor": "white",
            "gridwidth": 2,
            "linecolor": "white",
            "showbackground": true,
            "ticks": "",
            "zerolinecolor": "white"
           }
          },
          "shapedefaults": {
           "line": {
            "color": "#2a3f5f"
           }
          },
          "ternary": {
           "aaxis": {
            "gridcolor": "white",
            "linecolor": "white",
            "ticks": ""
           },
           "baxis": {
            "gridcolor": "white",
            "linecolor": "white",
            "ticks": ""
           },
           "bgcolor": "#E5ECF6",
           "caxis": {
            "gridcolor": "white",
            "linecolor": "white",
            "ticks": ""
           }
          },
          "title": {
           "x": 0.05
          },
          "xaxis": {
           "automargin": true,
           "gridcolor": "white",
           "linecolor": "white",
           "ticks": "",
           "title": {
            "standoff": 15
           },
           "zerolinecolor": "white",
           "zerolinewidth": 2
          },
          "yaxis": {
           "automargin": true,
           "gridcolor": "white",
           "linecolor": "white",
           "ticks": "",
           "title": {
            "standoff": 15
           },
           "zerolinecolor": "white",
           "zerolinewidth": 2
          }
         }
        },
        "title": {
         "text": "Percentage Contribution of Each Feature to Total Variance"
        },
        "xaxis": {
         "title": {
          "text": "Features"
         }
        },
        "yaxis": {
         "title": {
          "text": "Percentage Contribution"
         }
        }
       }
      }
     },
     "metadata": {},
     "output_type": "display_data"
    },
    {
     "name": "stdout",
     "output_type": "stream",
     "text": [
      "The training data shapes are: (9644, 184) (9644,) and the testing data shapes are: (2412, 184) (2412,)\n",
      "The cumulative contributions of all features to the variation is: 99.99999999999997 %\n"
     ]
    }
   ],
   "source": [
    "if(USE_NEW_FEATURES):\n",
    "    # X_transformed_pca, dataset_pca_sklearn_obj = get_pca_transformation_and_scaled_dataset(X, 256)\n",
    "    # now without the insane number of features from the sparse matrix from Angle_x_y and edge_x, there are only 184 features\n",
    "    # because we are now using the CNN image vectors\n",
    "    \n",
    "    X_transformed_pca, dataset_pca_sklearn_obj = get_pca_transformation_and_scaled_dataset(X, 184)\n",
    "    \n",
    "    explained_var = dataset_pca_sklearn_obj.explained_variance_ratio_\n",
    "\n",
    "    # Calculate and sort feature contributions\n",
    "    feature_contributions = feature_contribution_to_variance(dataset_pca_sklearn_obj, explained_var, X.columns)\n",
    "    plot_feature_contributions(feature_contributions)\n",
    "    \n",
    "    # We're basically predicting\n",
    "    # (405 / 488) * 1000\n",
    "\n",
    "    Y = sample_data['element_pixel_intensity_405_488_ratio']\n",
    "\n",
    "    # Perform standardization on X and Y\n",
    "    # scalerX = StandardScaler()\n",
    "    # scalerY = StandardScaler()\n",
    "\n",
    "    y = np.rint(Y).astype(int)\n",
    "    # 39 is the best) \n",
    "    X_train, X_test, y_train, y_test = train_test_split(X_transformed_pca, y, test_size=0.2, random_state=39)\n",
    "\n",
    "    print(\"The training data shapes are:\", X_train.shape, y_train.shape, \"and the testing data shapes are:\", X_test.shape, y_test.shape)\n",
    "    print(\"The cumulative contributions of all features to the variation is:\", feature_contributions['Contribution'].sum(), \"%\")"
   ]
  },
  {
   "cell_type": "code",
   "execution_count": null,
   "metadata": {},
   "outputs": [],
   "source": [
    "X_train"
   ]
  },
  {
   "cell_type": "code",
   "execution_count": 9,
   "metadata": {},
   "outputs": [],
   "source": [
    "def plot_error_frequency(y_pred, y_test, classifier_title, rounding):\n",
    "    rounding_ = rounding//2\n",
    "    \n",
    "    # Calculate errors\n",
    "    errors = (abs(y_pred - y_test) < rounding_)\n",
    "\n",
    "    # Extract labels where errors occurred\n",
    "    error_labels = y_test[errors]\n",
    "\n",
    "    # Calculate frequency of each label\n",
    "    unique_labels, counts = np.unique(error_labels, return_counts=True)\n",
    "\n",
    "    # Creating a dictionary of label frequencies for errors\n",
    "    label_error_frequency = dict(zip(unique_labels, counts))\n",
    "\n",
    "    # Finding the range of all possible labels (from min to max in y_test and y_pred)\n",
    "    all_labels = np.unique(np.concatenate((y_test, y_pred)))\n",
    "    min_label = min(all_labels)\n",
    "    max_label = max(all_labels)\n",
    "\n",
    "    # Filling in frequencies for labels that did not have errors\n",
    "    for label in range(min_label, max_label + 1):\n",
    "        if label not in label_error_frequency:\n",
    "            label_error_frequency[label] = 0\n",
    "\n",
    "    # Sorting the dictionary for plotting\n",
    "    sorted_label_error_frequency = dict(sorted(label_error_frequency.items()))\n",
    "\n",
    "    xticks = np.arange(min_label, max_label + 1, 50)\n",
    "\n",
    "    # Plotting the error frequency\n",
    "    plt.figure(figsize=(10, 6))\n",
    "    plt.bar(sorted_label_error_frequency.keys(), sorted_label_error_frequency.values())\n",
    "    plt.xlabel('Prediction')\n",
    "    plt.ylabel('Error Frequency')\n",
    "    plt.title('Error Frequency Distribution for ' + str(classifier_title) + ' for errors >= {} ({} in either direction)'.format(rounding, rounding_))\n",
    "    plt.xticks(xticks, rotation='vertical')  # Set x-ticks to show every 50th label and rotate them vertically\n",
    "    plt.show()\n",
    "\n",
    "    # Calculating mean and standard deviation of absolute errors\n",
    "    absolute_errors = np.abs(y_pred - y_test)\n",
    "    mean_error = np.mean(absolute_errors)\n",
    "    std_error = np.std(absolute_errors)\n",
    "    print(\"The mean error is\", mean_error, \"and the standard deviation of the errors is\", std_error)\n",
    "\n",
    "    # Plotting absolute error for each label\n",
    "    plt.figure(figsize=(10, 6))\n",
    "    for label in all_labels:\n",
    "        label_errors = absolute_errors[y_test == label]\n",
    "        plt.bar([label]*len(label_errors), label_errors, color='r')\n",
    "    plt.xlabel('Prediction')\n",
    "    plt.ylabel('Absolute Error')\n",
    "    plt.title('Absolute Error for Each Label in ' + str(classifier_title))\n",
    "    plt.xticks(xticks, rotation='vertical')\n",
    "    plt.show()\n"
   ]
  },
  {
   "cell_type": "code",
   "execution_count": 10,
   "metadata": {},
   "outputs": [],
   "source": [
    "def calculate_accuracy(y_test, y_pred, rounding):\n",
    "    y_test = y_test.values\n",
    "    rounding = rounding//2\n",
    "    # print(y_pred)\n",
    "    assert(len(y_test) == len(y_pred))\n",
    "    num_predictions = len(y_test)\n",
    "    num_correct_predictions = 0\n",
    "    for i in range(len(y_test)):\n",
    "        if abs(y_test[i] - y_pred[i]) <= rounding:\n",
    "            num_correct_predictions += 1\n",
    "    \n",
    "    return num_correct_predictions/num_predictions"
   ]
  },
  {
   "cell_type": "code",
   "execution_count": 11,
   "metadata": {},
   "outputs": [],
   "source": [
    "# For y_train and y_test, round down to nearest 10\n",
    "# y_train = (np.floor(y_train / 10) * 10).astype(int)\n",
    "# y_test = (np.floor(y_test / 10) * 10).astype(int)\n",
    "\n",
    "# Noticed weird behaviour with SVM:\n",
    "# If y_train and y_test are not rounded down to nearest 10,\n",
    "# then the training takes LONGER (it just wouldn't finish training on my mac)\n",
    "# even though it means there are 10 times fewer classifiers to train?\n",
    "# (also yes, doing that means the output would not be a regression but a classification,\n",
    "# and outputs would be classified into groups of 10, as in the model would tell you whether the\n",
    "# functional parameter is between 0-10, 10-20, 20-30, etc.)\n",
    "\n",
    "# Also it was not possible to get the SVM to train on my MAC for datasets above 10k rows (10k including training and testing split)\n",
    "# Training just never finished if I tried that, even if I left it running overnight.\n",
    "\n",
    "# This makes sense though because with more classes (i.e discrete functional parameter values in this case),\n",
    "# the training time grows quadratically as that many more classifiers need to be trained.\n",
    "\n",
    "# print(y_train, y_test)\n",
    "\n",
    "if(TRAIN_SVM):\n",
    "\n",
    "    svm_model = SVC(kernel='linear')  # You can choose different kernels like 'rbf', 'poly', etc.\n",
    "    svm_model.fit(X_train, y_train)\n",
    "\n",
    "\n",
    "    y_pred = svm_model.predict(X_test)\n",
    "\n",
    "    print(pd.DataFrame({'Actual': y_test, 'Predicted': y_pred}))\n",
    "\n",
    "    rounding = 50\n",
    "\n",
    "    accuracy = calculate_accuracy(y_test, y_pred, rounding)\n",
    "    classification_rep = classification_report(y_test, y_pred)\n",
    "\n",
    "    plt.plot(y_test, y_pred, 'o')\n",
    "    plt.title('Accuracy: ' + str(accuracy) + ' with rounding factor ' + str(rounding))\n",
    "    plt.xlabel('Actual')\n",
    "    plt.ylabel('Predicted')\n",
    "\n",
    "    y_pred_svm = y_pred\n",
    "    \n",
    "    # Create a DataFrame with the test and pred values\n",
    "    df = pd.DataFrame({'Test': y_test, 'Pred': y_pred_svm})\n",
    "\n",
    "    # Save the DataFrame to a CSV file\n",
    "    df.to_csv('svm_test_pred.csv', index=False)\n"
   ]
  },
  {
   "cell_type": "code",
   "execution_count": 12,
   "metadata": {},
   "outputs": [],
   "source": [
    "if(TRAIN_SVM):\n",
    "    plot_error_frequency(y_pred_svm, y_test, 'SVC', rounding)"
   ]
  },
  {
   "cell_type": "code",
   "execution_count": 13,
   "metadata": {},
   "outputs": [],
   "source": [
    "if(TRAIN_RF):\n",
    "\n",
    "    # do the same for random forest\n",
    "    from sklearn.ensemble import RandomForestClassifier\n",
    "\n",
    "    rf_model = RandomForestClassifier(n_estimators=300, max_depth=7, random_state=0)\n",
    "    rf_model.fit(X_train, y_train)\n",
    "\n",
    "    rounding = 50\n",
    "    \n",
    "    y_pred = rf_model.predict(X_test)\n",
    "    accuracy = calculate_accuracy(y_test, y_pred, rounding)\n",
    "\n",
    "    plt.plot(y_test, y_pred, 'o')\n",
    "    plt.xlabel(\"Actual value\")\n",
    "    plt.ylabel(\"Predicted value\")\n",
    "    plt.title('Accuracy: {} with rounding factor {}'.format(accuracy, rounding))\n",
    "\n",
    "    y_pred_rf = y_pred\n",
    "    \n",
    "    # Create a DataFrame with the test and pred values\n",
    "    df = pd.DataFrame({'Test': y_test, 'Pred': y_pred_rf})\n",
    "\n",
    "    # Save the DataFrame to a CSV file\n",
    "    df.to_csv('rf_test_pred.csv', index=False)"
   ]
  },
  {
   "cell_type": "code",
   "execution_count": 14,
   "metadata": {},
   "outputs": [],
   "source": [
    "if(TRAIN_RF):\n",
    "    plot_error_frequency(y_pred_rf, y_test, 'Random Forest', rounding)"
   ]
  },
  {
   "cell_type": "code",
   "execution_count": 15,
   "metadata": {},
   "outputs": [],
   "source": [
    "\n",
    "# Used the plotly library as this is much nicer looking, and the graph is more interactive and works well with Jupyter Notebooks\n",
    "\n",
    "def plot_absolute_error_plotly(y_pred_model1, y_pred_model2, y_test, model_title1, model_title_2):\n",
    "    def calculate_error_frequency(y_pred):\n",
    "        incorrect = y_pred != y_test\n",
    "\n",
    "        unique_predictions, counts = np.unique(y_pred[incorrect], return_counts=True)\n",
    "        error_freq = dict(zip(unique_predictions, counts))\n",
    "\n",
    "        return error_freq\n",
    "\n",
    "    error_freq_svc = calculate_error_frequency(y_pred_model1)\n",
    "    error_freq_rf = calculate_error_frequency(y_pred_model2)\n",
    "\n",
    "    all_labels = np.unique(np.concatenate((y_pred_model1, y_pred_model2)))\n",
    "    all_labels.sort()\n",
    "\n",
    "    svc_freq = [error_freq_svc.get(label, 0) for label in all_labels]\n",
    "    rf_freq = [error_freq_rf.get(label, 0) for label in all_labels]\n",
    "\n",
    "    fig = go.Figure(data=[\n",
    "        go.Bar(name=model_title1, x=all_labels, y=svc_freq),\n",
    "        go.Bar(name=model_title_2, x=all_labels, y=rf_freq)\n",
    "    ])\n",
    "\n",
    "    fig.update_layout(\n",
    "        barmode='group',\n",
    "        title='Prediction Error Frequency',\n",
    "        xaxis_title='Predicted Label',\n",
    "        yaxis_title='Frequency of Incorrect Predictions',\n",
    "        xaxis=dict(type='category')\n",
    "    )\n",
    "\n",
    "    fig.show()\n",
    "\n",
    "\n",
    "def plot_error_label_frequency_plotly(y_pred_model1, y_pred_model2, y_test, model_title1, model_title2):\n",
    "    labels = np.unique(y_test)\n",
    "    errors_svc = [np.sum((y_pred_model1 != y_test) & (y_test == label)) for label in labels]\n",
    "    errors_rf = [np.sum((y_pred_model2 != y_test) & (y_test == label)) for label in labels]\n",
    "\n",
    "    bar_width = max(0.5, 30 / len(labels))\n",
    "\n",
    "    fig = go.Figure(data=[\n",
    "        go.Bar(name=model_title1, x=labels, y=errors_svc, width=bar_width, marker_color='blue', marker_line_color='blue', marker_line_width=1.5, opacity=1),\n",
    "        go.Bar(name=model_title2, x=labels, y=errors_rf, width=bar_width, marker_color='red', marker_line_color='red', marker_line_width=1.5, opacity=1)\n",
    "    ])\n",
    "    \n",
    "    fig.update_layout(\n",
    "        barmode='group',\n",
    "        title='Error Frequency per Label',\n",
    "        xaxis_title='Labels',\n",
    "        yaxis_title='Number of Errors',\n",
    "        xaxis=dict(tickmode='array', tickvals=labels[::10]),\n",
    "        plot_bgcolor='rgba(255, 255, 255, 1)',\n",
    "        font=dict(\n",
    "            size=12,  # You can adjust the size of the text here for better visibility\n",
    "        )\n",
    "    )\n",
    "    fig.show()\n"
   ]
  },
  {
   "cell_type": "code",
   "execution_count": 16,
   "metadata": {},
   "outputs": [],
   "source": [
    "if(TRAIN_RF and TRAIN_SVM):\n",
    "    plot_absolute_error_plotly(y_pred_svm, y_pred_rf, y_test, 'SVC', 'Random Forest')\n",
    "    plot_error_label_frequency_plotly(y_pred_svm, y_pred_rf, y_test, 'SVC', 'Random Forest')"
   ]
  },
  {
   "cell_type": "code",
   "execution_count": 17,
   "metadata": {},
   "outputs": [],
   "source": [
    "# Data distribution\n",
    "# Basically plot the frequency of ocurrence of each value\n",
    "# of the functional parameter in the dataset inputted to the models\n",
    "\n",
    "# This is only plotting the subset in the training set, and not in the entire dataset\n",
    "\n",
    "def plot_data_distribution(y):\n",
    "    # Calculate the frequency of each value in the y_test array\n",
    "    unique_values, counts = np.unique(y, return_counts=True)\n",
    "\n",
    "    # Create the bar chart\n",
    "    fig = go.Figure(data=go.Bar(x=unique_values, y=counts))\n",
    "\n",
    "    # Update the layout for a better visual representation\n",
    "    fig.update_layout(\n",
    "        title='Data Distribution',\n",
    "        xaxis_title='Unique Values',\n",
    "        yaxis_title='Frequency',\n",
    "        xaxis=dict(type='category'),  # Treat unique values as discrete categories\n",
    "        yaxis=dict(title='Frequency'),  # You can also set the range or scale of the y-axis if needed\n",
    "    )\n",
    "\n",
    "    fig.show()\n",
    "    print(\"The mean of the data distribution is\", np.mean(y_train), \"and the standard deviation is\", np.std(y_train))"
   ]
  },
  {
   "cell_type": "code",
   "execution_count": 21,
   "metadata": {},
   "outputs": [
    {
     "ename": "KeyboardInterrupt",
     "evalue": "",
     "output_type": "error",
     "traceback": [
      "\u001b[1;31m---------------------------------------------------------------------------\u001b[0m",
      "\u001b[1;31mKeyboardInterrupt\u001b[0m                         Traceback (most recent call last)",
      "Cell \u001b[1;32mIn[21], line 1\u001b[0m\n\u001b[1;32m----> 1\u001b[0m X_train\n",
      "File \u001b[1;32mc:\\Users\\Biratal\\miniconda3\\Lib\\site-packages\\IPython\\core\\displayhook.py:268\u001b[0m, in \u001b[0;36mDisplayHook.__call__\u001b[1;34m(self, result)\u001b[0m\n\u001b[0;32m    266\u001b[0m \u001b[38;5;28mself\u001b[39m\u001b[38;5;241m.\u001b[39mstart_displayhook()\n\u001b[0;32m    267\u001b[0m \u001b[38;5;28mself\u001b[39m\u001b[38;5;241m.\u001b[39mwrite_output_prompt()\n\u001b[1;32m--> 268\u001b[0m format_dict, md_dict \u001b[38;5;241m=\u001b[39m \u001b[38;5;28;43mself\u001b[39;49m\u001b[38;5;241;43m.\u001b[39;49m\u001b[43mcompute_format_data\u001b[49m\u001b[43m(\u001b[49m\u001b[43mresult\u001b[49m\u001b[43m)\u001b[49m\n\u001b[0;32m    269\u001b[0m \u001b[38;5;28mself\u001b[39m\u001b[38;5;241m.\u001b[39mupdate_user_ns(result)\n\u001b[0;32m    270\u001b[0m \u001b[38;5;28mself\u001b[39m\u001b[38;5;241m.\u001b[39mfill_exec_result(result)\n",
      "File \u001b[1;32mc:\\Users\\Biratal\\miniconda3\\Lib\\site-packages\\IPython\\core\\displayhook.py:157\u001b[0m, in \u001b[0;36mDisplayHook.compute_format_data\u001b[1;34m(self, result)\u001b[0m\n\u001b[0;32m    127\u001b[0m \u001b[38;5;28;01mdef\u001b[39;00m \u001b[38;5;21mcompute_format_data\u001b[39m(\u001b[38;5;28mself\u001b[39m, result):\n\u001b[0;32m    128\u001b[0m \u001b[38;5;250m    \u001b[39m\u001b[38;5;124;03m\"\"\"Compute format data of the object to be displayed.\u001b[39;00m\n\u001b[0;32m    129\u001b[0m \n\u001b[0;32m    130\u001b[0m \u001b[38;5;124;03m    The format data is a generalization of the :func:`repr` of an object.\u001b[39;00m\n\u001b[1;32m   (...)\u001b[0m\n\u001b[0;32m    155\u001b[0m \n\u001b[0;32m    156\u001b[0m \u001b[38;5;124;03m    \"\"\"\u001b[39;00m\n\u001b[1;32m--> 157\u001b[0m     \u001b[38;5;28;01mreturn\u001b[39;00m \u001b[38;5;28;43mself\u001b[39;49m\u001b[38;5;241;43m.\u001b[39;49m\u001b[43mshell\u001b[49m\u001b[38;5;241;43m.\u001b[39;49m\u001b[43mdisplay_formatter\u001b[49m\u001b[38;5;241;43m.\u001b[39;49m\u001b[43mformat\u001b[49m\u001b[43m(\u001b[49m\u001b[43mresult\u001b[49m\u001b[43m)\u001b[49m\n",
      "File \u001b[1;32mc:\\Users\\Biratal\\miniconda3\\Lib\\site-packages\\IPython\\core\\formatters.py:179\u001b[0m, in \u001b[0;36mDisplayFormatter.format\u001b[1;34m(self, obj, include, exclude)\u001b[0m\n\u001b[0;32m    177\u001b[0m md \u001b[38;5;241m=\u001b[39m \u001b[38;5;28;01mNone\u001b[39;00m\n\u001b[0;32m    178\u001b[0m \u001b[38;5;28;01mtry\u001b[39;00m:\n\u001b[1;32m--> 179\u001b[0m     data \u001b[38;5;241m=\u001b[39m \u001b[43mformatter\u001b[49m\u001b[43m(\u001b[49m\u001b[43mobj\u001b[49m\u001b[43m)\u001b[49m\n\u001b[0;32m    180\u001b[0m \u001b[38;5;28;01mexcept\u001b[39;00m:\n\u001b[0;32m    181\u001b[0m     \u001b[38;5;66;03m# FIXME: log the exception\u001b[39;00m\n\u001b[0;32m    182\u001b[0m     \u001b[38;5;28;01mraise\u001b[39;00m\n",
      "File \u001b[1;32mc:\\Users\\Biratal\\miniconda3\\Lib\\site-packages\\decorator.py:232\u001b[0m, in \u001b[0;36mdecorate.<locals>.fun\u001b[1;34m(*args, **kw)\u001b[0m\n\u001b[0;32m    230\u001b[0m \u001b[38;5;28;01mif\u001b[39;00m \u001b[38;5;129;01mnot\u001b[39;00m kwsyntax:\n\u001b[0;32m    231\u001b[0m     args, kw \u001b[38;5;241m=\u001b[39m fix(args, kw, sig)\n\u001b[1;32m--> 232\u001b[0m \u001b[38;5;28;01mreturn\u001b[39;00m \u001b[43mcaller\u001b[49m\u001b[43m(\u001b[49m\u001b[43mfunc\u001b[49m\u001b[43m,\u001b[49m\u001b[43m \u001b[49m\u001b[38;5;241;43m*\u001b[39;49m\u001b[43m(\u001b[49m\u001b[43mextras\u001b[49m\u001b[43m \u001b[49m\u001b[38;5;241;43m+\u001b[39;49m\u001b[43m \u001b[49m\u001b[43margs\u001b[49m\u001b[43m)\u001b[49m\u001b[43m,\u001b[49m\u001b[43m \u001b[49m\u001b[38;5;241;43m*\u001b[39;49m\u001b[38;5;241;43m*\u001b[39;49m\u001b[43mkw\u001b[49m\u001b[43m)\u001b[49m\n",
      "File \u001b[1;32mc:\\Users\\Biratal\\miniconda3\\Lib\\site-packages\\IPython\\core\\formatters.py:223\u001b[0m, in \u001b[0;36mcatch_format_error\u001b[1;34m(method, self, *args, **kwargs)\u001b[0m\n\u001b[0;32m    221\u001b[0m \u001b[38;5;250m\u001b[39m\u001b[38;5;124;03m\"\"\"show traceback on failed format call\"\"\"\u001b[39;00m\n\u001b[0;32m    222\u001b[0m \u001b[38;5;28;01mtry\u001b[39;00m:\n\u001b[1;32m--> 223\u001b[0m     r \u001b[38;5;241m=\u001b[39m \u001b[43mmethod\u001b[49m\u001b[43m(\u001b[49m\u001b[38;5;28;43mself\u001b[39;49m\u001b[43m,\u001b[49m\u001b[43m \u001b[49m\u001b[38;5;241;43m*\u001b[39;49m\u001b[43margs\u001b[49m\u001b[43m,\u001b[49m\u001b[43m \u001b[49m\u001b[38;5;241;43m*\u001b[39;49m\u001b[38;5;241;43m*\u001b[39;49m\u001b[43mkwargs\u001b[49m\u001b[43m)\u001b[49m\n\u001b[0;32m    224\u001b[0m \u001b[38;5;28;01mexcept\u001b[39;00m \u001b[38;5;167;01mNotImplementedError\u001b[39;00m:\n\u001b[0;32m    225\u001b[0m     \u001b[38;5;66;03m# don't warn on NotImplementedErrors\u001b[39;00m\n\u001b[0;32m    226\u001b[0m     \u001b[38;5;28;01mreturn\u001b[39;00m \u001b[38;5;28mself\u001b[39m\u001b[38;5;241m.\u001b[39m_check_return(\u001b[38;5;28;01mNone\u001b[39;00m, args[\u001b[38;5;241m0\u001b[39m])\n",
      "File \u001b[1;32mc:\\Users\\Biratal\\miniconda3\\Lib\\site-packages\\IPython\\core\\formatters.py:344\u001b[0m, in \u001b[0;36mBaseFormatter.__call__\u001b[1;34m(self, obj)\u001b[0m\n\u001b[0;32m    342\u001b[0m     method \u001b[38;5;241m=\u001b[39m get_real_method(obj, \u001b[38;5;28mself\u001b[39m\u001b[38;5;241m.\u001b[39mprint_method)\n\u001b[0;32m    343\u001b[0m     \u001b[38;5;28;01mif\u001b[39;00m method \u001b[38;5;129;01mis\u001b[39;00m \u001b[38;5;129;01mnot\u001b[39;00m \u001b[38;5;28;01mNone\u001b[39;00m:\n\u001b[1;32m--> 344\u001b[0m         \u001b[38;5;28;01mreturn\u001b[39;00m \u001b[43mmethod\u001b[49m\u001b[43m(\u001b[49m\u001b[43m)\u001b[49m\n\u001b[0;32m    345\u001b[0m     \u001b[38;5;28;01mreturn\u001b[39;00m \u001b[38;5;28;01mNone\u001b[39;00m\n\u001b[0;32m    346\u001b[0m \u001b[38;5;28;01melse\u001b[39;00m:\n",
      "File \u001b[1;32mc:\\Users\\Biratal\\miniconda3\\Lib\\site-packages\\pandas\\core\\frame.py:1175\u001b[0m, in \u001b[0;36mDataFrame._repr_html_\u001b[1;34m(self)\u001b[0m\n\u001b[0;32m   1153\u001b[0m     show_dimensions \u001b[38;5;241m=\u001b[39m get_option(\u001b[38;5;124m\"\u001b[39m\u001b[38;5;124mdisplay.show_dimensions\u001b[39m\u001b[38;5;124m\"\u001b[39m)\n\u001b[0;32m   1155\u001b[0m     formatter \u001b[38;5;241m=\u001b[39m fmt\u001b[38;5;241m.\u001b[39mDataFrameFormatter(\n\u001b[0;32m   1156\u001b[0m         \u001b[38;5;28mself\u001b[39m,\n\u001b[0;32m   1157\u001b[0m         columns\u001b[38;5;241m=\u001b[39m\u001b[38;5;28;01mNone\u001b[39;00m,\n\u001b[1;32m   (...)\u001b[0m\n\u001b[0;32m   1173\u001b[0m         decimal\u001b[38;5;241m=\u001b[39m\u001b[38;5;124m\"\u001b[39m\u001b[38;5;124m.\u001b[39m\u001b[38;5;124m\"\u001b[39m,\n\u001b[0;32m   1174\u001b[0m     )\n\u001b[1;32m-> 1175\u001b[0m     \u001b[38;5;28;01mreturn\u001b[39;00m \u001b[43mfmt\u001b[49m\u001b[38;5;241;43m.\u001b[39;49m\u001b[43mDataFrameRenderer\u001b[49m\u001b[43m(\u001b[49m\u001b[43mformatter\u001b[49m\u001b[43m)\u001b[49m\u001b[38;5;241;43m.\u001b[39;49m\u001b[43mto_html\u001b[49m\u001b[43m(\u001b[49m\u001b[43mnotebook\u001b[49m\u001b[38;5;241;43m=\u001b[39;49m\u001b[38;5;28;43;01mTrue\u001b[39;49;00m\u001b[43m)\u001b[49m\n\u001b[0;32m   1176\u001b[0m \u001b[38;5;28;01melse\u001b[39;00m:\n\u001b[0;32m   1177\u001b[0m     \u001b[38;5;28;01mreturn\u001b[39;00m \u001b[38;5;28;01mNone\u001b[39;00m\n",
      "File \u001b[1;32mc:\\Users\\Biratal\\miniconda3\\Lib\\site-packages\\pandas\\io\\formats\\format.py:1074\u001b[0m, in \u001b[0;36mDataFrameRenderer.to_html\u001b[1;34m(self, buf, encoding, classes, notebook, border, table_id, render_links)\u001b[0m\n\u001b[0;32m   1065\u001b[0m Klass \u001b[38;5;241m=\u001b[39m NotebookFormatter \u001b[38;5;28;01mif\u001b[39;00m notebook \u001b[38;5;28;01melse\u001b[39;00m HTMLFormatter\n\u001b[0;32m   1067\u001b[0m html_formatter \u001b[38;5;241m=\u001b[39m Klass(\n\u001b[0;32m   1068\u001b[0m     \u001b[38;5;28mself\u001b[39m\u001b[38;5;241m.\u001b[39mfmt,\n\u001b[0;32m   1069\u001b[0m     classes\u001b[38;5;241m=\u001b[39mclasses,\n\u001b[1;32m   (...)\u001b[0m\n\u001b[0;32m   1072\u001b[0m     render_links\u001b[38;5;241m=\u001b[39mrender_links,\n\u001b[0;32m   1073\u001b[0m )\n\u001b[1;32m-> 1074\u001b[0m string \u001b[38;5;241m=\u001b[39m \u001b[43mhtml_formatter\u001b[49m\u001b[38;5;241;43m.\u001b[39;49m\u001b[43mto_string\u001b[49m\u001b[43m(\u001b[49m\u001b[43m)\u001b[49m\n\u001b[0;32m   1075\u001b[0m \u001b[38;5;28;01mreturn\u001b[39;00m save_to_buffer(string, buf\u001b[38;5;241m=\u001b[39mbuf, encoding\u001b[38;5;241m=\u001b[39mencoding)\n",
      "File \u001b[1;32mc:\\Users\\Biratal\\miniconda3\\Lib\\site-packages\\pandas\\io\\formats\\html.py:88\u001b[0m, in \u001b[0;36mHTMLFormatter.to_string\u001b[1;34m(self)\u001b[0m\n\u001b[0;32m     87\u001b[0m \u001b[38;5;28;01mdef\u001b[39;00m \u001b[38;5;21mto_string\u001b[39m(\u001b[38;5;28mself\u001b[39m) \u001b[38;5;241m-\u001b[39m\u001b[38;5;241m>\u001b[39m \u001b[38;5;28mstr\u001b[39m:\n\u001b[1;32m---> 88\u001b[0m     lines \u001b[38;5;241m=\u001b[39m \u001b[38;5;28;43mself\u001b[39;49m\u001b[38;5;241;43m.\u001b[39;49m\u001b[43mrender\u001b[49m\u001b[43m(\u001b[49m\u001b[43m)\u001b[49m\n\u001b[0;32m     89\u001b[0m     \u001b[38;5;28;01mif\u001b[39;00m \u001b[38;5;28many\u001b[39m(\u001b[38;5;28misinstance\u001b[39m(x, \u001b[38;5;28mstr\u001b[39m) \u001b[38;5;28;01mfor\u001b[39;00m x \u001b[38;5;129;01min\u001b[39;00m lines):\n\u001b[0;32m     90\u001b[0m         lines \u001b[38;5;241m=\u001b[39m [\u001b[38;5;28mstr\u001b[39m(x) \u001b[38;5;28;01mfor\u001b[39;00m x \u001b[38;5;129;01min\u001b[39;00m lines]\n",
      "File \u001b[1;32mc:\\Users\\Biratal\\miniconda3\\Lib\\site-packages\\pandas\\io\\formats\\html.py:642\u001b[0m, in \u001b[0;36mNotebookFormatter.render\u001b[1;34m(self)\u001b[0m\n\u001b[0;32m    640\u001b[0m \u001b[38;5;28mself\u001b[39m\u001b[38;5;241m.\u001b[39mwrite(\u001b[38;5;124m\"\u001b[39m\u001b[38;5;124m<div>\u001b[39m\u001b[38;5;124m\"\u001b[39m)\n\u001b[0;32m    641\u001b[0m \u001b[38;5;28mself\u001b[39m\u001b[38;5;241m.\u001b[39mwrite_style()\n\u001b[1;32m--> 642\u001b[0m \u001b[38;5;28;43msuper\u001b[39;49m\u001b[43m(\u001b[49m\u001b[43m)\u001b[49m\u001b[38;5;241;43m.\u001b[39;49m\u001b[43mrender\u001b[49m\u001b[43m(\u001b[49m\u001b[43m)\u001b[49m\n\u001b[0;32m    643\u001b[0m \u001b[38;5;28mself\u001b[39m\u001b[38;5;241m.\u001b[39mwrite(\u001b[38;5;124m\"\u001b[39m\u001b[38;5;124m</div>\u001b[39m\u001b[38;5;124m\"\u001b[39m)\n\u001b[0;32m    644\u001b[0m \u001b[38;5;28;01mreturn\u001b[39;00m \u001b[38;5;28mself\u001b[39m\u001b[38;5;241m.\u001b[39melements\n",
      "File \u001b[1;32mc:\\Users\\Biratal\\miniconda3\\Lib\\site-packages\\pandas\\io\\formats\\html.py:94\u001b[0m, in \u001b[0;36mHTMLFormatter.render\u001b[1;34m(self)\u001b[0m\n\u001b[0;32m     93\u001b[0m \u001b[38;5;28;01mdef\u001b[39;00m \u001b[38;5;21mrender\u001b[39m(\u001b[38;5;28mself\u001b[39m) \u001b[38;5;241m-\u001b[39m\u001b[38;5;241m>\u001b[39m \u001b[38;5;28mlist\u001b[39m[\u001b[38;5;28mstr\u001b[39m]:\n\u001b[1;32m---> 94\u001b[0m     \u001b[38;5;28;43mself\u001b[39;49m\u001b[38;5;241;43m.\u001b[39;49m\u001b[43m_write_table\u001b[49m\u001b[43m(\u001b[49m\u001b[43m)\u001b[49m\n\u001b[0;32m     96\u001b[0m     \u001b[38;5;28;01mif\u001b[39;00m \u001b[38;5;28mself\u001b[39m\u001b[38;5;241m.\u001b[39mshould_show_dimensions:\n\u001b[0;32m     97\u001b[0m         by \u001b[38;5;241m=\u001b[39m \u001b[38;5;28mchr\u001b[39m(\u001b[38;5;241m215\u001b[39m)  \u001b[38;5;66;03m# ×  # noqa: RUF003\u001b[39;00m\n",
      "File \u001b[1;32mc:\\Users\\Biratal\\miniconda3\\Lib\\site-packages\\pandas\\io\\formats\\html.py:269\u001b[0m, in \u001b[0;36mHTMLFormatter._write_table\u001b[1;34m(self, indent)\u001b[0m\n\u001b[0;32m    266\u001b[0m \u001b[38;5;28;01mif\u001b[39;00m \u001b[38;5;28mself\u001b[39m\u001b[38;5;241m.\u001b[39mfmt\u001b[38;5;241m.\u001b[39mheader \u001b[38;5;129;01mor\u001b[39;00m \u001b[38;5;28mself\u001b[39m\u001b[38;5;241m.\u001b[39mshow_row_idx_names:\n\u001b[0;32m    267\u001b[0m     \u001b[38;5;28mself\u001b[39m\u001b[38;5;241m.\u001b[39m_write_header(indent \u001b[38;5;241m+\u001b[39m \u001b[38;5;28mself\u001b[39m\u001b[38;5;241m.\u001b[39mindent_delta)\n\u001b[1;32m--> 269\u001b[0m \u001b[38;5;28;43mself\u001b[39;49m\u001b[38;5;241;43m.\u001b[39;49m\u001b[43m_write_body\u001b[49m\u001b[43m(\u001b[49m\u001b[43mindent\u001b[49m\u001b[43m \u001b[49m\u001b[38;5;241;43m+\u001b[39;49m\u001b[43m \u001b[49m\u001b[38;5;28;43mself\u001b[39;49m\u001b[38;5;241;43m.\u001b[39;49m\u001b[43mindent_delta\u001b[49m\u001b[43m)\u001b[49m\n\u001b[0;32m    271\u001b[0m \u001b[38;5;28mself\u001b[39m\u001b[38;5;241m.\u001b[39mwrite(\u001b[38;5;124m\"\u001b[39m\u001b[38;5;124m</table>\u001b[39m\u001b[38;5;124m\"\u001b[39m, indent)\n",
      "File \u001b[1;32mc:\\Users\\Biratal\\miniconda3\\Lib\\site-packages\\pandas\\io\\formats\\html.py:423\u001b[0m, in \u001b[0;36mHTMLFormatter._write_body\u001b[1;34m(self, indent)\u001b[0m\n\u001b[0;32m    421\u001b[0m     \u001b[38;5;28mself\u001b[39m\u001b[38;5;241m.\u001b[39m_write_hierarchical_rows(fmt_values, indent \u001b[38;5;241m+\u001b[39m \u001b[38;5;28mself\u001b[39m\u001b[38;5;241m.\u001b[39mindent_delta)\n\u001b[0;32m    422\u001b[0m \u001b[38;5;28;01melse\u001b[39;00m:\n\u001b[1;32m--> 423\u001b[0m     \u001b[38;5;28;43mself\u001b[39;49m\u001b[38;5;241;43m.\u001b[39;49m\u001b[43m_write_regular_rows\u001b[49m\u001b[43m(\u001b[49m\u001b[43mfmt_values\u001b[49m\u001b[43m,\u001b[49m\u001b[43m \u001b[49m\u001b[43mindent\u001b[49m\u001b[43m \u001b[49m\u001b[38;5;241;43m+\u001b[39;49m\u001b[43m \u001b[49m\u001b[38;5;28;43mself\u001b[39;49m\u001b[38;5;241;43m.\u001b[39;49m\u001b[43mindent_delta\u001b[49m\u001b[43m)\u001b[49m\n\u001b[0;32m    425\u001b[0m \u001b[38;5;28mself\u001b[39m\u001b[38;5;241m.\u001b[39mwrite(\u001b[38;5;124m\"\u001b[39m\u001b[38;5;124m</tbody>\u001b[39m\u001b[38;5;124m\"\u001b[39m, indent)\n",
      "File \u001b[1;32mc:\\Users\\Biratal\\miniconda3\\Lib\\site-packages\\pandas\\io\\formats\\html.py:468\u001b[0m, in \u001b[0;36mHTMLFormatter._write_regular_rows\u001b[1;34m(self, fmt_values, indent)\u001b[0m\n\u001b[0;32m    466\u001b[0m     dot_col_ix \u001b[38;5;241m=\u001b[39m \u001b[38;5;28mself\u001b[39m\u001b[38;5;241m.\u001b[39mfmt\u001b[38;5;241m.\u001b[39mtr_col_num \u001b[38;5;241m+\u001b[39m \u001b[38;5;28mself\u001b[39m\u001b[38;5;241m.\u001b[39mrow_levels\n\u001b[0;32m    467\u001b[0m     row\u001b[38;5;241m.\u001b[39minsert(dot_col_ix, \u001b[38;5;124m\"\u001b[39m\u001b[38;5;124m...\u001b[39m\u001b[38;5;124m\"\u001b[39m)\n\u001b[1;32m--> 468\u001b[0m \u001b[38;5;28;43mself\u001b[39;49m\u001b[38;5;241;43m.\u001b[39;49m\u001b[43mwrite_tr\u001b[49m\u001b[43m(\u001b[49m\n\u001b[0;32m    469\u001b[0m \u001b[43m    \u001b[49m\u001b[43mrow\u001b[49m\u001b[43m,\u001b[49m\u001b[43m \u001b[49m\u001b[43mindent\u001b[49m\u001b[43m,\u001b[49m\u001b[43m \u001b[49m\u001b[38;5;28;43mself\u001b[39;49m\u001b[38;5;241;43m.\u001b[39;49m\u001b[43mindent_delta\u001b[49m\u001b[43m,\u001b[49m\u001b[43m \u001b[49m\u001b[43mtags\u001b[49m\u001b[38;5;241;43m=\u001b[39;49m\u001b[38;5;28;43;01mNone\u001b[39;49;00m\u001b[43m,\u001b[49m\u001b[43m \u001b[49m\u001b[43mnindex_levels\u001b[49m\u001b[38;5;241;43m=\u001b[39;49m\u001b[38;5;28;43mself\u001b[39;49m\u001b[38;5;241;43m.\u001b[39;49m\u001b[43mrow_levels\u001b[49m\n\u001b[0;32m    470\u001b[0m \u001b[43m\u001b[49m\u001b[43m)\u001b[49m\n",
      "File \u001b[1;32mc:\\Users\\Biratal\\miniconda3\\Lib\\site-packages\\pandas\\io\\formats\\html.py:231\u001b[0m, in \u001b[0;36mHTMLFormatter.write_tr\u001b[1;34m(self, line, indent, indent_delta, header, align, tags, nindex_levels)\u001b[0m\n\u001b[0;32m    229\u001b[0m         \u001b[38;5;28mself\u001b[39m\u001b[38;5;241m.\u001b[39mwrite_th(s, indent\u001b[38;5;241m=\u001b[39mindent, header\u001b[38;5;241m=\u001b[39mheader, tags\u001b[38;5;241m=\u001b[39mval_tag)\n\u001b[0;32m    230\u001b[0m     \u001b[38;5;28;01melse\u001b[39;00m:\n\u001b[1;32m--> 231\u001b[0m         \u001b[38;5;28;43mself\u001b[39;49m\u001b[38;5;241;43m.\u001b[39;49m\u001b[43mwrite_td\u001b[49m\u001b[43m(\u001b[49m\u001b[43ms\u001b[49m\u001b[43m,\u001b[49m\u001b[43m \u001b[49m\u001b[43mindent\u001b[49m\u001b[43m,\u001b[49m\u001b[43m \u001b[49m\u001b[43mtags\u001b[49m\u001b[38;5;241;43m=\u001b[39;49m\u001b[43mval_tag\u001b[49m\u001b[43m)\u001b[49m\n\u001b[0;32m    233\u001b[0m indent \u001b[38;5;241m-\u001b[39m\u001b[38;5;241m=\u001b[39m indent_delta\n\u001b[0;32m    234\u001b[0m \u001b[38;5;28mself\u001b[39m\u001b[38;5;241m.\u001b[39mwrite(\u001b[38;5;124m\"\u001b[39m\u001b[38;5;124m</tr>\u001b[39m\u001b[38;5;124m\"\u001b[39m, indent)\n",
      "File \u001b[1;32mc:\\Users\\Biratal\\miniconda3\\Lib\\site-packages\\pandas\\io\\formats\\html.py:180\u001b[0m, in \u001b[0;36mHTMLFormatter.write_td\u001b[1;34m(self, s, indent, tags)\u001b[0m\n\u001b[0;32m    179\u001b[0m \u001b[38;5;28;01mdef\u001b[39;00m \u001b[38;5;21mwrite_td\u001b[39m(\u001b[38;5;28mself\u001b[39m, s: Any, indent: \u001b[38;5;28mint\u001b[39m \u001b[38;5;241m=\u001b[39m \u001b[38;5;241m0\u001b[39m, tags: \u001b[38;5;28mstr\u001b[39m \u001b[38;5;241m|\u001b[39m \u001b[38;5;28;01mNone\u001b[39;00m \u001b[38;5;241m=\u001b[39m \u001b[38;5;28;01mNone\u001b[39;00m) \u001b[38;5;241m-\u001b[39m\u001b[38;5;241m>\u001b[39m \u001b[38;5;28;01mNone\u001b[39;00m:\n\u001b[1;32m--> 180\u001b[0m     \u001b[38;5;28;43mself\u001b[39;49m\u001b[38;5;241;43m.\u001b[39;49m\u001b[43m_write_cell\u001b[49m\u001b[43m(\u001b[49m\u001b[43ms\u001b[49m\u001b[43m,\u001b[49m\u001b[43m \u001b[49m\u001b[43mkind\u001b[49m\u001b[38;5;241;43m=\u001b[39;49m\u001b[38;5;124;43m\"\u001b[39;49m\u001b[38;5;124;43mtd\u001b[39;49m\u001b[38;5;124;43m\"\u001b[39;49m\u001b[43m,\u001b[49m\u001b[43m \u001b[49m\u001b[43mindent\u001b[49m\u001b[38;5;241;43m=\u001b[39;49m\u001b[43mindent\u001b[49m\u001b[43m,\u001b[49m\u001b[43m \u001b[49m\u001b[43mtags\u001b[49m\u001b[38;5;241;43m=\u001b[39;49m\u001b[43mtags\u001b[49m\u001b[43m)\u001b[49m\n",
      "File \u001b[1;32mc:\\Users\\Biratal\\miniconda3\\Lib\\site-packages\\pandas\\io\\formats\\html.py:196\u001b[0m, in \u001b[0;36mHTMLFormatter._write_cell\u001b[1;34m(self, s, kind, indent, tags)\u001b[0m\n\u001b[0;32m    193\u001b[0m \u001b[38;5;28;01melse\u001b[39;00m:\n\u001b[0;32m    194\u001b[0m     esc \u001b[38;5;241m=\u001b[39m {}\n\u001b[1;32m--> 196\u001b[0m rs \u001b[38;5;241m=\u001b[39m \u001b[43mpprint_thing\u001b[49m\u001b[43m(\u001b[49m\u001b[43ms\u001b[49m\u001b[43m,\u001b[49m\u001b[43m \u001b[49m\u001b[43mescape_chars\u001b[49m\u001b[38;5;241;43m=\u001b[39;49m\u001b[43mesc\u001b[49m\u001b[43m)\u001b[49m\u001b[38;5;241m.\u001b[39mstrip()\n\u001b[0;32m    198\u001b[0m \u001b[38;5;28;01mif\u001b[39;00m \u001b[38;5;28mself\u001b[39m\u001b[38;5;241m.\u001b[39mrender_links \u001b[38;5;129;01mand\u001b[39;00m is_url(rs):\n\u001b[0;32m    199\u001b[0m     rs_unescaped \u001b[38;5;241m=\u001b[39m pprint_thing(s, escape_chars\u001b[38;5;241m=\u001b[39m{})\u001b[38;5;241m.\u001b[39mstrip()\n",
      "File \u001b[1;32mc:\\Users\\Biratal\\miniconda3\\Lib\\site-packages\\pandas\\io\\formats\\printing.py:211\u001b[0m, in \u001b[0;36mpprint_thing\u001b[1;34m(thing, _nest_lvl, escape_chars, default_escapes, quote_strings, max_seq_items)\u001b[0m\n\u001b[0;32m    208\u001b[0m         result \u001b[38;5;241m=\u001b[39m result\u001b[38;5;241m.\u001b[39mreplace(c, translate[c])\n\u001b[0;32m    209\u001b[0m     \u001b[38;5;28;01mreturn\u001b[39;00m result\n\u001b[1;32m--> 211\u001b[0m \u001b[38;5;28;01mif\u001b[39;00m \u001b[38;5;28mhasattr\u001b[39m(thing, \u001b[38;5;124m\"\u001b[39m\u001b[38;5;124m__next__\u001b[39m\u001b[38;5;124m\"\u001b[39m):\n\u001b[0;32m    212\u001b[0m     \u001b[38;5;28;01mreturn\u001b[39;00m \u001b[38;5;28mstr\u001b[39m(thing)\n\u001b[0;32m    213\u001b[0m \u001b[38;5;28;01melif\u001b[39;00m \u001b[38;5;28misinstance\u001b[39m(thing, \u001b[38;5;28mdict\u001b[39m) \u001b[38;5;129;01mand\u001b[39;00m _nest_lvl \u001b[38;5;241m<\u001b[39m get_option(\n\u001b[0;32m    214\u001b[0m     \u001b[38;5;124m\"\u001b[39m\u001b[38;5;124mdisplay.pprint_nest_depth\u001b[39m\u001b[38;5;124m\"\u001b[39m\n\u001b[0;32m    215\u001b[0m ):\n",
      "\u001b[1;31mKeyboardInterrupt\u001b[0m: "
     ]
    }
   ],
   "source": [
    "X_train"
   ]
  },
  {
   "cell_type": "code",
   "execution_count": 19,
   "metadata": {},
   "outputs": [],
   "source": [
    "# Define the MLP regressor class\n",
    "class MLPRegressor(nn.Module):\n",
    "    def __init__(self, input_size, hidden_size):\n",
    "        super().__init__()\n",
    "        self.fc1 = nn.Linear(input_size, hidden_size)\n",
    "        self.fc2 = nn.Linear(hidden_size, hidden_size//2)\n",
    "        self.fc3 = nn.Linear(hidden_size//2, 1)\n",
    "\n",
    "    def forward(self, x):\n",
    "        x = torch.tanh(self.fc1(x))\n",
    "        x = torch.relu(self.fc2(x))\n",
    "        x = self.fc3(x)\n",
    "        return x\n",
    "\n",
    "# Create an instance of the MLP regressor\n",
    "input_size = X_train.shape[1]\n",
    "# hidden_size = int((X_train.shape[1] + 1) / 2)\n",
    "hidden_size = input_size\n",
    "mlp_regressor = MLPRegressor(input_size, hidden_size).to(device)\n",
    "if(LOAD_MLP_MODEL):\n",
    "    try:\n",
    "        mlp_regressor.load_state_dict(torch.load(MLP_MODEL_PATH))\n",
    "    except Exception as e:\n",
    "        print(\"Couldn't load model\")\n",
    "        print(e)\n",
    "\n",
    "# Define the loss function and optimizer\n",
    "criterion = nn.SmoothL1Loss()\n",
    "optimizer = torch.optim.Adam(mlp_regressor.parameters(), lr=0.001, weight_decay=1e-5)\n",
    "\n",
    "def create_batches(X, Y, batch_size):\n",
    "    num_batches = int(np.ceil(X.shape[0] / batch_size))\n",
    "    batches = []\n",
    "\n",
    "    for i in range(num_batches):\n",
    "        start = i * batch_size\n",
    "        end = start + batch_size\n",
    "        X_batch = X[start:end]\n",
    "        Y_batch = Y[start:end]\n",
    "        batches.append((X_batch, Y_batch))\n",
    "\n",
    "    return batches\n",
    "\n",
    "# Train the MLP regressor\n",
    "def train_mlp_regressor(regressor, optimizer, epochs, batch_size, X_train, Y_train):\n",
    "    # Convert the training data to PyTorch tensors\n",
    "    X_train_tensor = torch.tensor(X_train, dtype=torch.float32)\n",
    "    Y_train_tensor = torch.tensor(Y_train, dtype=torch.float32)\n",
    "\n",
    "    # Create manual batches\n",
    "    train_batches = create_batches(X_train_tensor, Y_train_tensor, batch_size)\n",
    "\n",
    "    for epoch in range(epochs):\n",
    "        for X_batch, Y_batch in train_batches:\n",
    "            # Move batch to the device\n",
    "            X_batch, Y_batch = X_batch.to(device), Y_batch.to(device)\n",
    "\n",
    "            # Forward pass\n",
    "            outputs = regressor(X_batch)\n",
    "            loss = criterion(outputs, Y_batch)\n",
    "\n",
    "            # Backward and optimize\n",
    "            optimizer.zero_grad()\n",
    "            loss.backward()\n",
    "            optimizer.step()\n",
    "\n",
    "        if (epoch + 1) % 10 == 0:\n",
    "            print(f'Epoch [{epoch+1}/{epochs}], Loss: {loss.item():.4f}')\n",
    "\n",
    "        \n",
    "def test_mlp_regressor(regressor, X_test, Y_test):\n",
    "    # Convert the testing data to PyTorch tensors\n",
    "    X_test_tensor = torch.tensor(X_test, dtype=torch.float32)\n",
    "    Y_test_tensor = torch.tensor(Y_test, dtype=torch.float32).squeeze()\n",
    "\n",
    "    # Test the MLP regressor\n",
    "    with torch.no_grad():\n",
    "        outputs = regressor(X_test_tensor)\n",
    "        loss = criterion(outputs, Y_test_tensor)\n",
    "        print(f'Loss: {loss.item():.4f}')\n",
    "        \n",
    "    # Convert the predictions to a NumPy array\n",
    "    return outputs.cpu().detach().numpy().squeeze()"
   ]
  },
  {
   "cell_type": "code",
   "execution_count": 20,
   "metadata": {},
   "outputs": [
    {
     "name": "stdout",
     "output_type": "stream",
     "text": [
      "Epoch [10/7000], Loss: 16.2984\n",
      "Epoch [20/7000], Loss: 9.6234\n",
      "Epoch [30/7000], Loss: 3.9739\n",
      "Epoch [40/7000], Loss: 2.3856\n",
      "Epoch [50/7000], Loss: 1.6149\n",
      "Epoch [60/7000], Loss: 1.3673\n",
      "Epoch [70/7000], Loss: 1.0768\n",
      "Epoch [80/7000], Loss: 0.9388\n",
      "Epoch [90/7000], Loss: 0.9548\n",
      "Epoch [100/7000], Loss: 0.7581\n",
      "Epoch [110/7000], Loss: 0.6749\n",
      "Epoch [120/7000], Loss: 0.4809\n",
      "Epoch [130/7000], Loss: 0.8089\n",
      "Epoch [140/7000], Loss: 0.5573\n",
      "Epoch [150/7000], Loss: 0.4476\n",
      "Epoch [160/7000], Loss: 0.4873\n",
      "Epoch [170/7000], Loss: 0.3349\n",
      "Epoch [180/7000], Loss: 0.3804\n",
      "Epoch [190/7000], Loss: 0.4048\n",
      "Epoch [200/7000], Loss: 0.2965\n",
      "Epoch [210/7000], Loss: 0.3245\n",
      "Epoch [220/7000], Loss: 0.2208\n",
      "Epoch [230/7000], Loss: 0.2145\n",
      "Epoch [240/7000], Loss: 0.4450\n",
      "Epoch [250/7000], Loss: 0.2475\n",
      "Epoch [260/7000], Loss: 0.2828\n",
      "Epoch [270/7000], Loss: 0.2434\n",
      "Epoch [280/7000], Loss: 0.2339\n",
      "Epoch [290/7000], Loss: 0.2296\n",
      "Epoch [300/7000], Loss: 0.3881\n",
      "Epoch [310/7000], Loss: 0.2422\n",
      "Epoch [320/7000], Loss: 0.2051\n",
      "Epoch [330/7000], Loss: 0.2153\n",
      "Epoch [340/7000], Loss: 0.3559\n",
      "Epoch [350/7000], Loss: 0.2234\n",
      "Epoch [360/7000], Loss: 0.3140\n",
      "Epoch [370/7000], Loss: 0.2998\n",
      "Epoch [380/7000], Loss: 0.2683\n",
      "Epoch [390/7000], Loss: 0.2356\n",
      "Epoch [400/7000], Loss: 0.2345\n"
     ]
    },
    {
     "ename": "KeyboardInterrupt",
     "evalue": "",
     "output_type": "error",
     "traceback": [
      "\u001b[1;31m---------------------------------------------------------------------------\u001b[0m",
      "\u001b[1;31mKeyboardInterrupt\u001b[0m                         Traceback (most recent call last)",
      "Cell \u001b[1;32mIn[20], line 2\u001b[0m\n\u001b[0;32m      1\u001b[0m \u001b[38;5;28;01mif\u001b[39;00m(\u001b[38;5;129;01mnot\u001b[39;00m LOAD_MLP_MODEL):\n\u001b[1;32m----> 2\u001b[0m     \u001b[43mtrain_mlp_regressor\u001b[49m\u001b[43m(\u001b[49m\u001b[43mmlp_regressor\u001b[49m\u001b[43m,\u001b[49m\u001b[43m \u001b[49m\u001b[43moptimizer\u001b[49m\u001b[43m,\u001b[49m\u001b[43m \u001b[49m\u001b[43mepochs\u001b[49m\u001b[38;5;241;43m=\u001b[39;49m\u001b[38;5;241;43m7000\u001b[39;49m\u001b[43m,\u001b[49m\u001b[43m \u001b[49m\u001b[43mbatch_size\u001b[49m\u001b[38;5;241;43m=\u001b[39;49m\u001b[38;5;241;43m500\u001b[39;49m\u001b[43m,\u001b[49m\u001b[43m \u001b[49m\u001b[43mX_train\u001b[49m\u001b[38;5;241;43m=\u001b[39;49m\u001b[43mX_train\u001b[49m\u001b[38;5;241;43m.\u001b[39;49m\u001b[43mvalues\u001b[49m\u001b[43m \u001b[49m\u001b[38;5;28;43;01mif\u001b[39;49;00m\u001b[43m \u001b[49m\u001b[38;5;28;43misinstance\u001b[39;49m\u001b[43m(\u001b[49m\u001b[43mX_train\u001b[49m\u001b[43m,\u001b[49m\u001b[43m \u001b[49m\u001b[43mpd\u001b[49m\u001b[38;5;241;43m.\u001b[39;49m\u001b[43mDataFrame\u001b[49m\u001b[43m)\u001b[49m\u001b[43m \u001b[49m\u001b[38;5;28;43;01melse\u001b[39;49;00m\u001b[43m \u001b[49m\u001b[43mX_train\u001b[49m\u001b[43m,\u001b[49m\u001b[43m \u001b[49m\u001b[43mY_train\u001b[49m\u001b[38;5;241;43m=\u001b[39;49m\u001b[43mnp\u001b[49m\u001b[38;5;241;43m.\u001b[39;49m\u001b[43marray\u001b[49m\u001b[43m(\u001b[49m\u001b[43my_train\u001b[49m\u001b[43m)\u001b[49m\u001b[38;5;241;43m.\u001b[39;49m\u001b[43mreshape\u001b[49m\u001b[43m(\u001b[49m\u001b[38;5;241;43m-\u001b[39;49m\u001b[38;5;241;43m1\u001b[39;49m\u001b[43m,\u001b[49m\u001b[43m \u001b[49m\u001b[38;5;241;43m1\u001b[39;49m\u001b[43m)\u001b[49m\u001b[43m)\u001b[49m\n\u001b[0;32m      3\u001b[0m \u001b[38;5;66;03m# Interrupt this cell whenever it feels like this model has trained enough\u001b[39;00m\n",
      "Cell \u001b[1;32mIn[19], line 64\u001b[0m, in \u001b[0;36mtrain_mlp_regressor\u001b[1;34m(regressor, optimizer, epochs, batch_size, X_train, Y_train)\u001b[0m\n\u001b[0;32m     62\u001b[0m     \u001b[38;5;66;03m# Backward and optimize\u001b[39;00m\n\u001b[0;32m     63\u001b[0m     optimizer\u001b[38;5;241m.\u001b[39mzero_grad()\n\u001b[1;32m---> 64\u001b[0m     \u001b[43mloss\u001b[49m\u001b[38;5;241;43m.\u001b[39;49m\u001b[43mbackward\u001b[49m\u001b[43m(\u001b[49m\u001b[43m)\u001b[49m\n\u001b[0;32m     65\u001b[0m     optimizer\u001b[38;5;241m.\u001b[39mstep()\n\u001b[0;32m     67\u001b[0m \u001b[38;5;28;01mif\u001b[39;00m (epoch \u001b[38;5;241m+\u001b[39m \u001b[38;5;241m1\u001b[39m) \u001b[38;5;241m%\u001b[39m \u001b[38;5;241m10\u001b[39m \u001b[38;5;241m==\u001b[39m \u001b[38;5;241m0\u001b[39m:\n",
      "File \u001b[1;32mc:\\Users\\Biratal\\miniconda3\\Lib\\site-packages\\torch\\_tensor.py:483\u001b[0m, in \u001b[0;36mTensor.backward\u001b[1;34m(self, gradient, retain_graph, create_graph, inputs)\u001b[0m\n\u001b[0;32m    436\u001b[0m \u001b[38;5;250m\u001b[39m\u001b[38;5;124mr\u001b[39m\u001b[38;5;124;03m\"\"\"Computes the gradient of current tensor wrt graph leaves.\u001b[39;00m\n\u001b[0;32m    437\u001b[0m \n\u001b[0;32m    438\u001b[0m \u001b[38;5;124;03mThe graph is differentiated using the chain rule. If the tensor is\u001b[39;00m\n\u001b[1;32m   (...)\u001b[0m\n\u001b[0;32m    480\u001b[0m \u001b[38;5;124;03m        used to compute the attr::tensors.\u001b[39;00m\n\u001b[0;32m    481\u001b[0m \u001b[38;5;124;03m\"\"\"\u001b[39;00m\n\u001b[0;32m    482\u001b[0m \u001b[38;5;28;01mif\u001b[39;00m has_torch_function_unary(\u001b[38;5;28mself\u001b[39m):\n\u001b[1;32m--> 483\u001b[0m     \u001b[38;5;28;01mreturn\u001b[39;00m \u001b[43mhandle_torch_function\u001b[49m\u001b[43m(\u001b[49m\n\u001b[0;32m    484\u001b[0m \u001b[43m        \u001b[49m\u001b[43mTensor\u001b[49m\u001b[38;5;241;43m.\u001b[39;49m\u001b[43mbackward\u001b[49m\u001b[43m,\u001b[49m\n\u001b[0;32m    485\u001b[0m \u001b[43m        \u001b[49m\u001b[43m(\u001b[49m\u001b[38;5;28;43mself\u001b[39;49m\u001b[43m,\u001b[49m\u001b[43m)\u001b[49m\u001b[43m,\u001b[49m\n\u001b[0;32m    486\u001b[0m \u001b[43m        \u001b[49m\u001b[38;5;28;43mself\u001b[39;49m\u001b[43m,\u001b[49m\n\u001b[0;32m    487\u001b[0m \u001b[43m        \u001b[49m\u001b[43mgradient\u001b[49m\u001b[38;5;241;43m=\u001b[39;49m\u001b[43mgradient\u001b[49m\u001b[43m,\u001b[49m\n\u001b[0;32m    488\u001b[0m \u001b[43m        \u001b[49m\u001b[43mretain_graph\u001b[49m\u001b[38;5;241;43m=\u001b[39;49m\u001b[43mretain_graph\u001b[49m\u001b[43m,\u001b[49m\n\u001b[0;32m    489\u001b[0m \u001b[43m        \u001b[49m\u001b[43mcreate_graph\u001b[49m\u001b[38;5;241;43m=\u001b[39;49m\u001b[43mcreate_graph\u001b[49m\u001b[43m,\u001b[49m\n\u001b[0;32m    490\u001b[0m \u001b[43m        \u001b[49m\u001b[43minputs\u001b[49m\u001b[38;5;241;43m=\u001b[39;49m\u001b[43minputs\u001b[49m\u001b[43m,\u001b[49m\n\u001b[0;32m    491\u001b[0m \u001b[43m    \u001b[49m\u001b[43m)\u001b[49m\n\u001b[0;32m    492\u001b[0m torch\u001b[38;5;241m.\u001b[39mautograd\u001b[38;5;241m.\u001b[39mbackward(\n\u001b[0;32m    493\u001b[0m     \u001b[38;5;28mself\u001b[39m, gradient, retain_graph, create_graph, inputs\u001b[38;5;241m=\u001b[39minputs\n\u001b[0;32m    494\u001b[0m )\n",
      "File \u001b[1;32mc:\\Users\\Biratal\\miniconda3\\Lib\\site-packages\\torch\\overrides.py:1560\u001b[0m, in \u001b[0;36mhandle_torch_function\u001b[1;34m(public_api, relevant_args, *args, **kwargs)\u001b[0m\n\u001b[0;32m   1556\u001b[0m \u001b[38;5;28;01mif\u001b[39;00m _is_torch_function_mode_enabled():\n\u001b[0;32m   1557\u001b[0m     \u001b[38;5;66;03m# if we're here, the mode must be set to a TorchFunctionStackMode\u001b[39;00m\n\u001b[0;32m   1558\u001b[0m     \u001b[38;5;66;03m# this unsets it and calls directly into TorchFunctionStackMode's torch function\u001b[39;00m\n\u001b[0;32m   1559\u001b[0m     \u001b[38;5;28;01mwith\u001b[39;00m _pop_mode_temporarily() \u001b[38;5;28;01mas\u001b[39;00m mode:\n\u001b[1;32m-> 1560\u001b[0m         result \u001b[38;5;241m=\u001b[39m \u001b[43mmode\u001b[49m\u001b[38;5;241;43m.\u001b[39;49m\u001b[43m__torch_function__\u001b[49m\u001b[43m(\u001b[49m\u001b[43mpublic_api\u001b[49m\u001b[43m,\u001b[49m\u001b[43m \u001b[49m\u001b[43mtypes\u001b[49m\u001b[43m,\u001b[49m\u001b[43m \u001b[49m\u001b[43margs\u001b[49m\u001b[43m,\u001b[49m\u001b[43m \u001b[49m\u001b[43mkwargs\u001b[49m\u001b[43m)\u001b[49m\n\u001b[0;32m   1561\u001b[0m     \u001b[38;5;28;01mif\u001b[39;00m result \u001b[38;5;129;01mis\u001b[39;00m \u001b[38;5;129;01mnot\u001b[39;00m \u001b[38;5;28mNotImplemented\u001b[39m:\n\u001b[0;32m   1562\u001b[0m         \u001b[38;5;28;01mreturn\u001b[39;00m result\n",
      "File \u001b[1;32mc:\\Users\\Biratal\\miniconda3\\Lib\\site-packages\\torch\\utils\\_device.py:77\u001b[0m, in \u001b[0;36mDeviceContext.__torch_function__\u001b[1;34m(self, func, types, args, kwargs)\u001b[0m\n\u001b[0;32m     75\u001b[0m \u001b[38;5;28;01mif\u001b[39;00m func \u001b[38;5;129;01min\u001b[39;00m _device_constructors() \u001b[38;5;129;01mand\u001b[39;00m kwargs\u001b[38;5;241m.\u001b[39mget(\u001b[38;5;124m'\u001b[39m\u001b[38;5;124mdevice\u001b[39m\u001b[38;5;124m'\u001b[39m) \u001b[38;5;129;01mis\u001b[39;00m \u001b[38;5;28;01mNone\u001b[39;00m:\n\u001b[0;32m     76\u001b[0m     kwargs[\u001b[38;5;124m'\u001b[39m\u001b[38;5;124mdevice\u001b[39m\u001b[38;5;124m'\u001b[39m] \u001b[38;5;241m=\u001b[39m \u001b[38;5;28mself\u001b[39m\u001b[38;5;241m.\u001b[39mdevice\n\u001b[1;32m---> 77\u001b[0m \u001b[38;5;28;01mreturn\u001b[39;00m \u001b[43mfunc\u001b[49m\u001b[43m(\u001b[49m\u001b[38;5;241;43m*\u001b[39;49m\u001b[43margs\u001b[49m\u001b[43m,\u001b[49m\u001b[43m \u001b[49m\u001b[38;5;241;43m*\u001b[39;49m\u001b[38;5;241;43m*\u001b[39;49m\u001b[43mkwargs\u001b[49m\u001b[43m)\u001b[49m\n",
      "File \u001b[1;32mc:\\Users\\Biratal\\miniconda3\\Lib\\site-packages\\torch\\_tensor.py:492\u001b[0m, in \u001b[0;36mTensor.backward\u001b[1;34m(self, gradient, retain_graph, create_graph, inputs)\u001b[0m\n\u001b[0;32m    482\u001b[0m \u001b[38;5;28;01mif\u001b[39;00m has_torch_function_unary(\u001b[38;5;28mself\u001b[39m):\n\u001b[0;32m    483\u001b[0m     \u001b[38;5;28;01mreturn\u001b[39;00m handle_torch_function(\n\u001b[0;32m    484\u001b[0m         Tensor\u001b[38;5;241m.\u001b[39mbackward,\n\u001b[0;32m    485\u001b[0m         (\u001b[38;5;28mself\u001b[39m,),\n\u001b[1;32m   (...)\u001b[0m\n\u001b[0;32m    490\u001b[0m         inputs\u001b[38;5;241m=\u001b[39minputs,\n\u001b[0;32m    491\u001b[0m     )\n\u001b[1;32m--> 492\u001b[0m \u001b[43mtorch\u001b[49m\u001b[38;5;241;43m.\u001b[39;49m\u001b[43mautograd\u001b[49m\u001b[38;5;241;43m.\u001b[39;49m\u001b[43mbackward\u001b[49m\u001b[43m(\u001b[49m\n\u001b[0;32m    493\u001b[0m \u001b[43m    \u001b[49m\u001b[38;5;28;43mself\u001b[39;49m\u001b[43m,\u001b[49m\u001b[43m \u001b[49m\u001b[43mgradient\u001b[49m\u001b[43m,\u001b[49m\u001b[43m \u001b[49m\u001b[43mretain_graph\u001b[49m\u001b[43m,\u001b[49m\u001b[43m \u001b[49m\u001b[43mcreate_graph\u001b[49m\u001b[43m,\u001b[49m\u001b[43m \u001b[49m\u001b[43minputs\u001b[49m\u001b[38;5;241;43m=\u001b[39;49m\u001b[43minputs\u001b[49m\n\u001b[0;32m    494\u001b[0m \u001b[43m\u001b[49m\u001b[43m)\u001b[49m\n",
      "File \u001b[1;32mc:\\Users\\Biratal\\miniconda3\\Lib\\site-packages\\torch\\autograd\\__init__.py:244\u001b[0m, in \u001b[0;36mbackward\u001b[1;34m(tensors, grad_tensors, retain_graph, create_graph, grad_variables, inputs)\u001b[0m\n\u001b[0;32m    235\u001b[0m inputs \u001b[38;5;241m=\u001b[39m (\n\u001b[0;32m    236\u001b[0m     (inputs,)\n\u001b[0;32m    237\u001b[0m     \u001b[38;5;28;01mif\u001b[39;00m \u001b[38;5;28misinstance\u001b[39m(inputs, torch\u001b[38;5;241m.\u001b[39mTensor)\n\u001b[1;32m   (...)\u001b[0m\n\u001b[0;32m    240\u001b[0m     \u001b[38;5;28;01melse\u001b[39;00m \u001b[38;5;28mtuple\u001b[39m()\n\u001b[0;32m    241\u001b[0m )\n\u001b[0;32m    243\u001b[0m grad_tensors_ \u001b[38;5;241m=\u001b[39m _tensor_or_tensors_to_tuple(grad_tensors, \u001b[38;5;28mlen\u001b[39m(tensors))\n\u001b[1;32m--> 244\u001b[0m grad_tensors_ \u001b[38;5;241m=\u001b[39m \u001b[43m_make_grads\u001b[49m\u001b[43m(\u001b[49m\u001b[43mtensors\u001b[49m\u001b[43m,\u001b[49m\u001b[43m \u001b[49m\u001b[43mgrad_tensors_\u001b[49m\u001b[43m,\u001b[49m\u001b[43m \u001b[49m\u001b[43mis_grads_batched\u001b[49m\u001b[38;5;241;43m=\u001b[39;49m\u001b[38;5;28;43;01mFalse\u001b[39;49;00m\u001b[43m)\u001b[49m\n\u001b[0;32m    245\u001b[0m \u001b[38;5;28;01mif\u001b[39;00m retain_graph \u001b[38;5;129;01mis\u001b[39;00m \u001b[38;5;28;01mNone\u001b[39;00m:\n\u001b[0;32m    246\u001b[0m     retain_graph \u001b[38;5;241m=\u001b[39m create_graph\n",
      "File \u001b[1;32mc:\\Users\\Biratal\\miniconda3\\Lib\\site-packages\\torch\\autograd\\__init__.py:127\u001b[0m, in \u001b[0;36m_make_grads\u001b[1;34m(outputs, grads, is_grads_batched)\u001b[0m\n\u001b[0;32m    121\u001b[0m         msg \u001b[38;5;241m=\u001b[39m (\n\u001b[0;32m    122\u001b[0m             \u001b[38;5;124m\"\u001b[39m\u001b[38;5;124mgrad can be implicitly created only for real scalar outputs\u001b[39m\u001b[38;5;124m\"\u001b[39m\n\u001b[0;32m    123\u001b[0m             \u001b[38;5;124mf\u001b[39m\u001b[38;5;124m\"\u001b[39m\u001b[38;5;124m but got \u001b[39m\u001b[38;5;132;01m{\u001b[39;00mout\u001b[38;5;241m.\u001b[39mdtype\u001b[38;5;132;01m}\u001b[39;00m\u001b[38;5;124m\"\u001b[39m\n\u001b[0;32m    124\u001b[0m         )\n\u001b[0;32m    125\u001b[0m         \u001b[38;5;28;01mraise\u001b[39;00m \u001b[38;5;167;01mRuntimeError\u001b[39;00m(msg)\n\u001b[0;32m    126\u001b[0m     new_grads\u001b[38;5;241m.\u001b[39mappend(\n\u001b[1;32m--> 127\u001b[0m         \u001b[43mtorch\u001b[49m\u001b[38;5;241;43m.\u001b[39;49m\u001b[43mones_like\u001b[49m\u001b[43m(\u001b[49m\u001b[43mout\u001b[49m\u001b[43m,\u001b[49m\u001b[43m \u001b[49m\u001b[43mmemory_format\u001b[49m\u001b[38;5;241;43m=\u001b[39;49m\u001b[43mtorch\u001b[49m\u001b[38;5;241;43m.\u001b[39;49m\u001b[43mpreserve_format\u001b[49m\u001b[43m)\u001b[49m\n\u001b[0;32m    128\u001b[0m     )\n\u001b[0;32m    129\u001b[0m \u001b[38;5;28;01melse\u001b[39;00m:\n\u001b[0;32m    130\u001b[0m     new_grads\u001b[38;5;241m.\u001b[39mappend(\u001b[38;5;28;01mNone\u001b[39;00m)\n",
      "\u001b[1;31mKeyboardInterrupt\u001b[0m: "
     ]
    }
   ],
   "source": [
    "if(not LOAD_MLP_MODEL):\n",
    "    train_mlp_regressor(mlp_regressor, optimizer, epochs=7000, batch_size=500, X_train=X_train.values if isinstance(X_train, pd.DataFrame) else X_train, Y_train=np.array(y_train).reshape(-1, 1))\n",
    "# Interrupt this cell whenever it feels like this model has trained enough"
   ]
  },
  {
   "cell_type": "code",
   "execution_count": null,
   "metadata": {},
   "outputs": [],
   "source": [
    "# Save model to disk\n",
    "if(SAVE_MLP_MODEL):\n",
    "    torch.save(mlp_regressor.state_dict(), MLP_MODEL_PATH)"
   ]
  },
  {
   "cell_type": "code",
   "execution_count": null,
   "metadata": {},
   "outputs": [
    {
     "name": "stdout",
     "output_type": "stream",
     "text": [
      "Loss: 70.5236\n"
     ]
    },
    {
     "name": "stderr",
     "output_type": "stream",
     "text": [
      "c:\\Users\\Biratal\\miniconda3\\Lib\\site-packages\\torch\\utils\\_device.py:77: UserWarning:\n",
      "\n",
      "Using a target size (torch.Size([2412])) that is different to the input size (torch.Size([2412, 1])). This will likely lead to incorrect results due to broadcasting. Please ensure they have the same size.\n",
      "\n"
     ]
    },
    {
     "data": {
      "text/plain": [
       "Text(0.5, 1.0, 'Accuracy (prediction error < 50): 0.9867330016583747')"
      ]
     },
     "execution_count": 49,
     "metadata": {},
     "output_type": "execute_result"
    },
    {
     "data": {
      "image/png": "[encoded data removed]",
      "text/plain": [
       "<Figure size 640x480 with 1 Axes>"
      ]
     },
     "metadata": {},
     "output_type": "display_data"
    }
   ],
   "source": [
    "\n",
    "y_pred_mlp = test_mlp_regressor(mlp_regressor, X_test.values if isinstance(X_test, pd.DataFrame) else X_test, np.array(y_test).reshape(-1, 1).squeeze())\n",
    "y_pred_mlp = np.rint(y_pred_mlp).astype(int)\n",
    "\n",
    "rounding_graph = 1\n",
    "rounding = 50\n",
    "\n",
    "plt.plot(np.floor(y_test//rounding_graph) * rounding_graph, np.floor(y_pred_mlp//rounding_graph) * rounding_graph, 'o')\n",
    "# accuracy = accuracy_score(np.floor(y_test//rounding) * rounding, np.floor(y_pred_mlp//rounding) * rounding)\n",
    "accuracy = calculate_accuracy(y_test, y_pred_mlp, rounding)\n",
    "\n",
    "plt.xlabel('Actual')\n",
    "plt.ylabel('Predicted')\n",
    "plt.title('Accuracy (prediction error < {}): {}'.format(rounding, accuracy))"
   ]
  },
  {
   "cell_type": "code",
   "execution_count": null,
   "metadata": {},
   "outputs": [],
   "source": [
    "\n",
    "# y_pred_mlp = test_mlp_regressor(X_train.values if isinstance(X_train, pd.DataFrame) else X_train, np.array(y_train).reshape(-1, 1).squeeze())\n",
    "# y_pred_mlp = np.rint(y_pred_mlp).astype(int)\n",
    "\n",
    "# rounding = 10\n",
    "\n",
    "# plt.plot(np.floor(y_train//rounding) * rounding, np.floor(y_pred_mlp//rounding) * rounding, 'o')\n",
    "# accuracy = accuracy_score(np.floor(y_train//rounding) * rounding, np.floor(y_pred_mlp//rounding) * rounding)\n",
    "\n",
    "# plt.xlabel('Actual')\n",
    "# plt.ylabel('Predicted')\n",
    "# plt.title('Accuracy (within nearest {}): {}'.format(rounding, accuracy))"
   ]
  },
  {
   "cell_type": "code",
   "execution_count": null,
   "metadata": {},
   "outputs": [
    {
     "data": {
      "image/png": "[encoded data removed]",
      "text/plain": [
       "<Figure size 1000x600 with 1 Axes>"
      ]
     },
     "metadata": {},
     "output_type": "display_data"
    },
    {
     "name": "stdout",
     "output_type": "stream",
     "text": [
      "The mean error is 1.9191542288557213 and the standard deviation of the errors is 13.774408985503808\n"
     ]
    },
    {
     "data": {
      "image/png": "[encoded data removed]",
      "text/plain": [
       "<Figure size 1000x600 with 1 Axes>"
      ]
     },
     "metadata": {},
     "output_type": "display_data"
    }
   ],
   "source": [
    "plot_error_frequency(y_pred_mlp, y_test, 'MLP', rounding)"
   ]
  },
  {
   "cell_type": "code",
   "execution_count": null,
   "metadata": {},
   "outputs": [
    {
     "data": {
      "application/vnd.plotly.v1+json": {
       "config": {
        "plotlyServerURL": "https://plot.ly"
       },
       "data": [
        {
         "type": "bar",
         "x": [
          0,
          2,
          5,
          6,
          7,
          8,
          9,
          10,
          11,
          12,
          13,
          14,
          15,
          16,
          17,
          18,
          19,
          20,
          21,
          22,
          23,
          24,
          25,
          26,
          27,
          28,
          29,
          30,
          31,
          32,
          33,
          34,
          35,
          36,
          37,
          38,
          39,
          40,
          41,
          42,
          43,
          44,
          45,
          46,
          47,
          48,
          49,
          50,
          51,
          52,
          53,
          54,
          55,
          56,
          57,
          58,
          59,
          60,
          61,
          62,
          63,
          64,
          65,
          66,
          67,
          68,
          69,
          70,
          71,
          72,
          73,
          74,
          75,
          76,
          77,
          78,
          79,
          80,
          81,
          82,
          83,
          84,
          85,
          86,
          87,
          88,
          89,
          90,
          91,
          92,
          93,
          94,
          95,
          96,
          97,
          98,
          99,
          100,
          101,
          102,
          103,
          104,
          105,
          106,
          107,
          108,
          109,
          110,
          111,
          112,
          113,
          114,
          115,
          116,
          117,
          118,
          119,
          120,
          121,
          122,
          123,
          124,
          125,
          126,
          127,
          128,
          129,
          130,
          131,
          132,
          133,
          134,
          135,
          136,
          137,
          138,
          139,
          140,
          141,
          142,
          143,
          144,
          145,
          146,
          147,
          148,
          149,
          150,
          151,
          152,
          153,
          154,
          155,
          156,
          157,
          158,
          159,
          160,
          161,
          162,
          163,
          164,
          165,
          166,
          167,
          168,
          169,
          170,
          171,
          172,
          173,
          174,
          175,
          176,
          177,
          178,
          179,
          180,
          181,
          182,
          183,
          184,
          185,
          186,
          187,
          188,
          189,
          190,
          191,
          192,
          193,
          194,
          195,
          196,
          197,
          198,
          199,
          200,
          201,
          202,
          203,
          204,
          205,
          206,
          207,
          208,
          209,
          210,
          211,
          212,
          213,
          214,
          215,
          216,
          217,
          218,
          219,
          220,
          221,
          222,
          223,
          224,
          225,
          226,
          227,
          228,
          229,
          230,
          231,
          232,
          233,
          234,
          235,
          236,
          237,
          238,
          239,
          240,
          241,
          242,
          243,
          244,
          245,
          246,
          247,
          248,
          249,
          250,
          251,
          252,
          253,
          254,
          255,
          256,
          257,
          258,
          259,
          260,
          261,
          262,
          263,
          264,
          265,
          266,
          267,
          268,
          269,
          270,
          271,
          272,
          273,
          274,
          275,
          276,
          277,
          278,
          279,
          280,
          281,
          282,
          283,
          284,
          285,
          286,
          287,
          288,
          289,
          292,
          293,
          294,
          295,
          296,
          297,
          298,
          299,
          300,
          301,
          302,
          303,
          304,
          305,
          306,
          307,
          308,
          309,
          310,
          311,
          312,
          314,
          315,
          316,
          317,
          318,
          319,
          320,
          321,
          323,
          325,
          326,
          327,
          328,
          329,
          330,
          331,
          332,
          333,
          334,
          335,
          336,
          337,
          338,
          339,
          341,
          342,
          343,
          344,
          345,
          346,
          348,
          349,
          350,
          351,
          355,
          356,
          357,
          358,
          359,
          360,
          361,
          362,
          363,
          364,
          365,
          366,
          367,
          368,
          369,
          370,
          372,
          375,
          377,
          378,
          379,
          380,
          381,
          382,
          385,
          387,
          388,
          391,
          392,
          393,
          395,
          399,
          401,
          402,
          404,
          407,
          410,
          412,
          416,
          418,
          419,
          420,
          422,
          425,
          429,
          431,
          433,
          440,
          443,
          451,
          452,
          453,
          457,
          467,
          469,
          471,
          473,
          474,
          478,
          480,
          485,
          487,
          492,
          495,
          502,
          504,
          505,
          516,
          517,
          533,
          569,
          573,
          581,
          585,
          591,
          598,
          603,
          607,
          619,
          622,
          655,
          726,
          795,
          847,
          972,
          1022,
          1063,
          1102,
          1160,
          1344,
          1438,
          1527,
          2368,
          2556,
          3161
         ],
         "y": [
          1,
          1,
          1,
          3,
          3,
          1,
          3,
          1,
          4,
          4,
          7,
          7,
          13,
          14,
          14,
          12,
          16,
          14,
          23,
          22,
          31,
          30,
          21,
          31,
          51,
          29,
          42,
          55,
          46,
          49,
          57,
          77,
          75,
          81,
          76,
          77,
          73,
          89,
          107,
          100,
          92,
          105,
          104,
          123,
          100,
          116,
          134,
          115,
          113,
          116,
          128,
          128,
          143,
          112,
          118,
          127,
          108,
          112,
          116,
          119,
          116,
          108,
          126,
          107,
          91,
          102,
          88,
          121,
          105,
          112,
          89,
          99,
          87,
          92,
          97,
          97,
          101,
          84,
          95,
          89,
          87,
          83,
          84,
          87,
          107,
          81,
          85,
          90,
          80,
          76,
          75,
          79,
          76,
          75,
          61,
          65,
          56,
          60,
          64,
          68,
          74,
          55,
          73,
          59,
          50,
          57,
          46,
          70,
          50,
          58,
          52,
          55,
          52,
          47,
          76,
          64,
          50,
          47,
          50,
          60,
          48,
          42,
          49,
          42,
          49,
          59,
          49,
          56,
          53,
          46,
          53,
          47,
          39,
          41,
          54,
          41,
          62,
          51,
          47,
          43,
          44,
          34,
          39,
          43,
          39,
          38,
          49,
          51,
          46,
          28,
          43,
          40,
          40,
          25,
          36,
          41,
          33,
          37,
          33,
          27,
          41,
          39,
          33,
          37,
          30,
          26,
          37,
          34,
          35,
          28,
          22,
          27,
          35,
          28,
          35,
          22,
          26,
          27,
          18,
          15,
          27,
          24,
          31,
          32,
          19,
          21,
          25,
          25,
          21,
          22,
          19,
          18,
          22,
          22,
          16,
          13,
          17,
          12,
          15,
          28,
          17,
          19,
          9,
          18,
          9,
          21,
          10,
          12,
          18,
          19,
          11,
          12,
          10,
          13,
          10,
          19,
          16,
          13,
          18,
          7,
          4,
          11,
          13,
          8,
          6,
          8,
          8,
          6,
          9,
          4,
          9,
          8,
          5,
          6,
          7,
          12,
          11,
          8,
          4,
          4,
          7,
          4,
          7,
          6,
          3,
          8,
          3,
          6,
          7,
          9,
          8,
          4,
          9,
          8,
          3,
          5,
          5,
          9,
          6,
          7,
          4,
          6,
          3,
          5,
          6,
          5,
          4,
          4,
          2,
          4,
          4,
          1,
          5,
          3,
          6,
          4,
          5,
          5,
          1,
          2,
          2,
          3,
          6,
          5,
          1,
          2,
          4,
          1,
          4,
          2,
          2,
          2,
          4,
          6,
          3,
          3,
          3,
          7,
          4,
          6,
          1,
          3,
          3,
          2,
          2,
          3,
          1,
          2,
          1,
          4,
          2,
          1,
          2,
          3,
          2,
          3,
          3,
          3,
          1,
          1,
          2,
          1,
          3,
          4,
          2,
          2,
          2,
          1,
          2,
          1,
          1,
          1,
          1,
          1,
          1,
          5,
          2,
          1,
          2,
          1,
          2,
          1,
          1,
          1,
          2,
          1,
          2,
          1,
          1,
          1,
          2,
          3,
          2,
          2,
          4,
          2,
          2,
          2,
          1,
          1,
          2,
          1,
          1,
          1,
          3,
          3,
          2,
          2,
          4,
          3,
          3,
          1,
          1,
          1,
          1,
          2,
          1,
          1,
          2,
          1,
          3,
          1,
          1,
          1,
          1,
          2,
          1,
          1,
          1,
          1,
          1,
          1,
          1,
          1,
          1,
          1,
          1,
          1,
          1,
          1,
          1,
          1,
          1,
          2,
          1,
          1,
          1,
          1,
          1,
          1,
          1,
          1,
          1,
          1,
          1,
          1,
          1,
          1,
          1,
          1,
          1,
          1,
          1,
          1,
          1,
          1,
          1,
          1,
          1,
          1,
          1,
          1,
          1,
          1,
          1,
          1,
          1
         ]
        }
       ],
       "layout": {
        "template": {
         "data": {
          "bar": [
           {
            "error_x": {
             "color": "#2a3f5f"
            },
            "error_y": {
             "color": "#2a3f5f"
            },
            "marker": {
             "line": {
              "color": "#E5ECF6",
              "width": 0.5
             },
             "pattern": {
              "fillmode": "overlay",
              "size": 10,
              "solidity": 0.2
             }
            },
            "type": "bar"
           }
          ],
          "barpolar": [
           {
            "marker": {
             "line": {
              "color": "#E5ECF6",
              "width": 0.5
             },
             "pattern": {
              "fillmode": "overlay",
              "size": 10,
              "solidity": 0.2
             }
            },
            "type": "barpolar"
           }
          ],
          "carpet": [
           {
            "aaxis": {
             "endlinecolor": "#2a3f5f",
             "gridcolor": "white",
             "linecolor": "white",
             "minorgridcolor": "white",
             "startlinecolor": "#2a3f5f"
            },
            "baxis": {
             "endlinecolor": "#2a3f5f",
             "gridcolor": "white",
             "linecolor": "white",
             "minorgridcolor": "white",
             "startlinecolor": "#2a3f5f"
            },
            "type": "carpet"
           }
          ],
          "choropleth": [
           {
            "colorbar": {
             "outlinewidth": 0,
             "ticks": ""
            },
            "type": "choropleth"
           }
          ],
          "contour": [
           {
            "colorbar": {
             "outlinewidth": 0,
             "ticks": ""
            },
            "colorscale": [
             [
              0,
              "#0d0887"
             ],
             [
              0.1111111111111111,
              "#46039f"
             ],
             [
              0.2222222222222222,
              "#7201a8"
             ],
             [
              0.3333333333333333,
              "#9c179e"
             ],
             [
              0.4444444444444444,
              "#bd3786"
             ],
             [
              0.5555555555555556,
              "#d8576b"
             ],
             [
              0.6666666666666666,
              "#ed7953"
             ],
             [
              0.7777777777777778,
              "#fb9f3a"
             ],
             [
              0.8888888888888888,
              "#fdca26"
             ],
             [
              1,
              "#f0f921"
             ]
            ],
            "type": "contour"
           }
          ],
          "contourcarpet": [
           {
            "colorbar": {
             "outlinewidth": 0,
             "ticks": ""
            },
            "type": "contourcarpet"
           }
          ],
          "heatmap": [
           {
            "colorbar": {
             "outlinewidth": 0,
             "ticks": ""
            },
            "colorscale": [
             [
              0,
              "#0d0887"
             ],
             [
              0.1111111111111111,
              "#46039f"
             ],
             [
              0.2222222222222222,
              "#7201a8"
             ],
             [
              0.3333333333333333,
              "#9c179e"
             ],
             [
              0.4444444444444444,
              "#bd3786"
             ],
             [
              0.5555555555555556,
              "#d8576b"
             ],
             [
              0.6666666666666666,
              "#ed7953"
             ],
             [
              0.7777777777777778,
              "#fb9f3a"
             ],
             [
              0.8888888888888888,
              "#fdca26"
             ],
             [
              1,
              "#f0f921"
             ]
            ],
            "type": "heatmap"
           }
          ],
          "heatmapgl": [
           {
            "colorbar": {
             "outlinewidth": 0,
             "ticks": ""
            },
            "colorscale": [
             [
              0,
              "#0d0887"
             ],
             [
              0.1111111111111111,
              "#46039f"
             ],
             [
              0.2222222222222222,
              "#7201a8"
             ],
             [
              0.3333333333333333,
              "#9c179e"
             ],
             [
              0.4444444444444444,
              "#bd3786"
             ],
             [
              0.5555555555555556,
              "#d8576b"
             ],
             [
              0.6666666666666666,
              "#ed7953"
             ],
             [
              0.7777777777777778,
              "#fb9f3a"
             ],
             [
              0.8888888888888888,
              "#fdca26"
             ],
             [
              1,
              "#f0f921"
             ]
            ],
            "type": "heatmapgl"
           }
          ],
          "histogram": [
           {
            "marker": {
             "pattern": {
              "fillmode": "overlay",
              "size": 10,
              "solidity": 0.2
             }
            },
            "type": "histogram"
           }
          ],
          "histogram2d": [
           {
            "colorbar": {
             "outlinewidth": 0,
             "ticks": ""
            },
            "colorscale": [
             [
              0,
              "#0d0887"
             ],
             [
              0.1111111111111111,
              "#46039f"
             ],
             [
              0.2222222222222222,
              "#7201a8"
             ],
             [
              0.3333333333333333,
              "#9c179e"
             ],
             [
              0.4444444444444444,
              "#bd3786"
             ],
             [
              0.5555555555555556,
              "#d8576b"
             ],
             [
              0.6666666666666666,
              "#ed7953"
             ],
             [
              0.7777777777777778,
              "#fb9f3a"
             ],
             [
              0.8888888888888888,
              "#fdca26"
             ],
             [
              1,
              "#f0f921"
             ]
            ],
            "type": "histogram2d"
           }
          ],
          "histogram2dcontour": [
           {
            "colorbar": {
             "outlinewidth": 0,
             "ticks": ""
            },
            "colorscale": [
             [
              0,
              "#0d0887"
             ],
             [
              0.1111111111111111,
              "#46039f"
             ],
             [
              0.2222222222222222,
              "#7201a8"
             ],
             [
              0.3333333333333333,
              "#9c179e"
             ],
             [
              0.4444444444444444,
              "#bd3786"
             ],
             [
              0.5555555555555556,
              "#d8576b"
             ],
             [
              0.6666666666666666,
              "#ed7953"
             ],
             [
              0.7777777777777778,
              "#fb9f3a"
             ],
             [
              0.8888888888888888,
              "#fdca26"
             ],
             [
              1,
              "#f0f921"
             ]
            ],
            "type": "histogram2dcontour"
           }
          ],
          "mesh3d": [
           {
            "colorbar": {
             "outlinewidth": 0,
             "ticks": ""
            },
            "type": "mesh3d"
           }
          ],
          "parcoords": [
           {
            "line": {
             "colorbar": {
              "outlinewidth": 0,
              "ticks": ""
             }
            },
            "type": "parcoords"
           }
          ],
          "pie": [
           {
            "automargin": true,
            "type": "pie"
           }
          ],
          "scatter": [
           {
            "fillpattern": {
             "fillmode": "overlay",
             "size": 10,
             "solidity": 0.2
            },
            "type": "scatter"
           }
          ],
          "scatter3d": [
           {
            "line": {
             "colorbar": {
              "outlinewidth": 0,
              "ticks": ""
             }
            },
            "marker": {
             "colorbar": {
              "outlinewidth": 0,
              "ticks": ""
             }
            },
            "type": "scatter3d"
           }
          ],
          "scattercarpet": [
           {
            "marker": {
             "colorbar": {
              "outlinewidth": 0,
              "ticks": ""
             }
            },
            "type": "scattercarpet"
           }
          ],
          "scattergeo": [
           {
            "marker": {
             "colorbar": {
              "outlinewidth": 0,
              "ticks": ""
             }
            },
            "type": "scattergeo"
           }
          ],
          "scattergl": [
           {
            "marker": {
             "colorbar": {
              "outlinewidth": 0,
              "ticks": ""
             }
            },
            "type": "scattergl"
           }
          ],
          "scattermapbox": [
           {
            "marker": {
             "colorbar": {
              "outlinewidth": 0,
              "ticks": ""
             }
            },
            "type": "scattermapbox"
           }
          ],
          "scatterpolar": [
           {
            "marker": {
             "colorbar": {
              "outlinewidth": 0,
              "ticks": ""
             }
            },
            "type": "scatterpolar"
           }
          ],
          "scatterpolargl": [
           {
            "marker": {
             "colorbar": {
              "outlinewidth": 0,
              "ticks": ""
             }
            },
            "type": "scatterpolargl"
           }
          ],
          "scatterternary": [
           {
            "marker": {
             "colorbar": {
              "outlinewidth": 0,
              "ticks": ""
             }
            },
            "type": "scatterternary"
           }
          ],
          "surface": [
           {
            "colorbar": {
             "outlinewidth": 0,
             "ticks": ""
            },
            "colorscale": [
             [
              0,
              "#0d0887"
             ],
             [
              0.1111111111111111,
              "#46039f"
             ],
             [
              0.2222222222222222,
              "#7201a8"
             ],
             [
              0.3333333333333333,
              "#9c179e"
             ],
             [
              0.4444444444444444,
              "#bd3786"
             ],
             [
              0.5555555555555556,
              "#d8576b"
             ],
             [
              0.6666666666666666,
              "#ed7953"
             ],
             [
              0.7777777777777778,
              "#fb9f3a"
             ],
             [
              0.8888888888888888,
              "#fdca26"
             ],
             [
              1,
              "#f0f921"
             ]
            ],
            "type": "surface"
           }
          ],
          "table": [
           {
            "cells": {
             "fill": {
              "color": "#EBF0F8"
             },
             "line": {
              "color": "white"
             }
            },
            "header": {
             "fill": {
              "color": "#C8D4E3"
             },
             "line": {
              "color": "white"
             }
            },
            "type": "table"
           }
          ]
         },
         "layout": {
          "annotationdefaults": {
           "arrowcolor": "#2a3f5f",
           "arrowhead": 0,
           "arrowwidth": 1
          },
          "autotypenumbers": "strict",
          "coloraxis": {
           "colorbar": {
            "outlinewidth": 0,
            "ticks": ""
           }
          },
          "colorscale": {
           "diverging": [
            [
             0,
             "#8e0152"
            ],
            [
             0.1,
             "#c51b7d"
            ],
            [
             0.2,
             "#de77ae"
            ],
            [
             0.3,
             "#f1b6da"
            ],
            [
             0.4,
             "#fde0ef"
            ],
            [
             0.5,
             "#f7f7f7"
            ],
            [
             0.6,
             "#e6f5d0"
            ],
            [
             0.7,
             "#b8e186"
            ],
            [
             0.8,
             "#7fbc41"
            ],
            [
             0.9,
             "#4d9221"
            ],
            [
             1,
             "#276419"
            ]
           ],
           "sequential": [
            [
             0,
             "#0d0887"
            ],
            [
             0.1111111111111111,
             "#46039f"
            ],
            [
             0.2222222222222222,
             "#7201a8"
            ],
            [
             0.3333333333333333,
             "#9c179e"
            ],
            [
             0.4444444444444444,
             "#bd3786"
            ],
            [
             0.5555555555555556,
             "#d8576b"
            ],
            [
             0.6666666666666666,
             "#ed7953"
            ],
            [
             0.7777777777777778,
             "#fb9f3a"
            ],
            [
             0.8888888888888888,
             "#fdca26"
            ],
            [
             1,
             "#f0f921"
            ]
           ],
           "sequentialminus": [
            [
             0,
             "#0d0887"
            ],
            [
             0.1111111111111111,
             "#46039f"
            ],
            [
             0.2222222222222222,
             "#7201a8"
            ],
            [
             0.3333333333333333,
             "#9c179e"
            ],
            [
             0.4444444444444444,
             "#bd3786"
            ],
            [
             0.5555555555555556,
             "#d8576b"
            ],
            [
             0.6666666666666666,
             "#ed7953"
            ],
            [
             0.7777777777777778,
             "#fb9f3a"
            ],
            [
             0.8888888888888888,
             "#fdca26"
            ],
            [
             1,
             "#f0f921"
            ]
           ]
          },
          "colorway": [
           "#636efa",
           "#EF553B",
           "#00cc96",
           "#ab63fa",
           "#FFA15A",
           "#19d3f3",
           "#FF6692",
           "#B6E880",
           "#FF97FF",
           "#FECB52"
          ],
          "font": {
           "color": "#2a3f5f"
          },
          "geo": {
           "bgcolor": "white",
           "lakecolor": "white",
           "landcolor": "#E5ECF6",
           "showlakes": true,
           "showland": true,
           "subunitcolor": "white"
          },
          "hoverlabel": {
           "align": "left"
          },
          "hovermode": "closest",
          "mapbox": {
           "style": "light"
          },
          "paper_bgcolor": "white",
          "plot_bgcolor": "#E5ECF6",
          "polar": {
           "angularaxis": {
            "gridcolor": "white",
            "linecolor": "white",
            "ticks": ""
           },
           "bgcolor": "#E5ECF6",
           "radialaxis": {
            "gridcolor": "white",
            "linecolor": "white",
            "ticks": ""
           }
          },
          "scene": {
           "xaxis": {
            "backgroundcolor": "#E5ECF6",
            "gridcolor": "white",
            "gridwidth": 2,
            "linecolor": "white",
            "showbackground": true,
            "ticks": "",
            "zerolinecolor": "white"
           },
           "yaxis": {
            "backgroundcolor": "#E5ECF6",
            "gridcolor": "white",
            "gridwidth": 2,
            "linecolor": "white",
            "showbackground": true,
            "ticks": "",
            "zerolinecolor": "white"
           },
           "zaxis": {
            "backgroundcolor": "#E5ECF6",
            "gridcolor": "white",
            "gridwidth": 2,
            "linecolor": "white",
            "showbackground": true,
            "ticks": "",
            "zerolinecolor": "white"
           }
          },
          "shapedefaults": {
           "line": {
            "color": "#2a3f5f"
           }
          },
          "ternary": {
           "aaxis": {
            "gridcolor": "white",
            "linecolor": "white",
            "ticks": ""
           },
           "baxis": {
            "gridcolor": "white",
            "linecolor": "white",
            "ticks": ""
           },
           "bgcolor": "#E5ECF6",
           "caxis": {
            "gridcolor": "white",
            "linecolor": "white",
            "ticks": ""
           }
          },
          "title": {
           "x": 0.05
          },
          "xaxis": {
           "automargin": true,
           "gridcolor": "white",
           "linecolor": "white",
           "ticks": "",
           "title": {
            "standoff": 15
           },
           "zerolinecolor": "white",
           "zerolinewidth": 2
          },
          "yaxis": {
           "automargin": true,
           "gridcolor": "white",
           "linecolor": "white",
           "ticks": "",
           "title": {
            "standoff": 15
           },
           "zerolinecolor": "white",
           "zerolinewidth": 2
          }
         }
        },
        "title": {
         "text": "Data Distribution"
        },
        "xaxis": {
         "title": {
          "text": "Unique Values"
         },
         "type": "category"
        },
        "yaxis": {
         "title": {
          "text": "Frequency"
         }
        }
       }
      },
      "text/html": [
       "<div>                            <div id=\"0ec24793-50e3-4c31-8e9d-62eba1bc2da7\" class=\"plotly-graph-div\" style=\"height:525px; width:100%;\"></div>            <script type=\"text/javascript\">                require([\"plotly\"], function(Plotly) {                    window.PLOTLYENV=window.PLOTLYENV || {};                                    if (document.getElementById(\"0ec24793-50e3-4c31-8e9d-62eba1bc2da7\")) {                    Plotly.newPlot(                        \"0ec24793-50e3-4c31-8e9d-62eba1bc2da7\",                        [{\"x\":[0,2,5,6,7,8,9,10,11,12,13,14,15,16,17,18,19,20,21,22,23,24,25,26,27,28,29,30,31,32,33,34,35,36,37,38,39,40,41,42,43,44,45,46,47,48,49,50,51,52,53,54,55,56,57,58,59,60,61,62,63,64,65,66,67,68,69,70,71,72,73,74,75,76,77,78,79,80,81,82,83,84,85,86,87,88,89,90,91,92,93,94,95,96,97,98,99,100,101,102,103,104,105,106,107,108,109,110,111,112,113,114,115,116,117,118,119,120,121,122,123,124,125,126,127,128,129,130,131,132,133,134,135,136,137,138,139,140,141,142,143,144,145,146,147,148,149,150,151,152,153,154,155,156,157,158,159,160,161,162,163,164,165,166,167,168,169,170,171,172,173,174,175,176,177,178,179,180,181,182,183,184,185,186,187,188,189,190,191,192,193,194,195,196,197,198,199,200,201,202,203,204,205,206,207,208,209,210,211,212,213,214,215,216,217,218,219,220,221,222,223,224,225,226,227,228,229,230,231,232,233,234,235,236,237,238,239,240,241,242,243,244,245,246,247,248,249,250,251,252,253,254,255,256,257,258,259,260,261,262,263,264,265,266,267,268,269,270,271,272,273,274,275,276,277,278,279,280,281,282,283,284,285,286,287,288,289,292,293,294,295,296,297,298,299,300,301,302,303,304,305,306,307,308,309,310,311,312,314,315,316,317,318,319,320,321,323,325,326,327,328,329,330,331,332,333,334,335,336,337,338,339,341,342,343,344,345,346,348,349,350,351,355,356,357,358,359,360,361,362,363,364,365,366,367,368,369,370,372,375,377,378,379,380,381,382,385,387,388,391,392,393,395,399,401,402,404,407,410,412,416,418,419,420,422,425,429,431,433,440,443,451,452,453,457,467,469,471,473,474,478,480,485,487,492,495,502,504,505,516,517,533,569,573,581,585,591,598,603,607,619,622,655,726,795,847,972,1022,1063,1102,1160,1344,1438,1527,2368,2556,3161],\"y\":[1,1,1,3,3,1,3,1,4,4,7,7,13,14,14,12,16,14,23,22,31,30,21,31,51,29,42,55,46,49,57,77,75,81,76,77,73,89,107,100,92,105,104,123,100,116,134,115,113,116,128,128,143,112,118,127,108,112,116,119,116,108,126,107,91,102,88,121,105,112,89,99,87,92,97,97,101,84,95,89,87,83,84,87,107,81,85,90,80,76,75,79,76,75,61,65,56,60,64,68,74,55,73,59,50,57,46,70,50,58,52,55,52,47,76,64,50,47,50,60,48,42,49,42,49,59,49,56,53,46,53,47,39,41,54,41,62,51,47,43,44,34,39,43,39,38,49,51,46,28,43,40,40,25,36,41,33,37,33,27,41,39,33,37,30,26,37,34,35,28,22,27,35,28,35,22,26,27,18,15,27,24,31,32,19,21,25,25,21,22,19,18,22,22,16,13,17,12,15,28,17,19,9,18,9,21,10,12,18,19,11,12,10,13,10,19,16,13,18,7,4,11,13,8,6,8,8,6,9,4,9,8,5,6,7,12,11,8,4,4,7,4,7,6,3,8,3,6,7,9,8,4,9,8,3,5,5,9,6,7,4,6,3,5,6,5,4,4,2,4,4,1,5,3,6,4,5,5,1,2,2,3,6,5,1,2,4,1,4,2,2,2,4,6,3,3,3,7,4,6,1,3,3,2,2,3,1,2,1,4,2,1,2,3,2,3,3,3,1,1,2,1,3,4,2,2,2,1,2,1,1,1,1,1,1,5,2,1,2,1,2,1,1,1,2,1,2,1,1,1,2,3,2,2,4,2,2,2,1,1,2,1,1,1,3,3,2,2,4,3,3,1,1,1,1,2,1,1,2,1,3,1,1,1,1,2,1,1,1,1,1,1,1,1,1,1,1,1,1,1,1,1,1,2,1,1,1,1,1,1,1,1,1,1,1,1,1,1,1,1,1,1,1,1,1,1,1,1,1,1,1,1,1,1,1,1,1],\"type\":\"bar\"}],                        {\"template\":{\"data\":{\"histogram2dcontour\":[{\"type\":\"histogram2dcontour\",\"colorbar\":{\"outlinewidth\":0,\"ticks\":\"\"},\"colorscale\":[[0.0,\"#0d0887\"],[0.1111111111111111,\"#46039f\"],[0.2222222222222222,\"#7201a8\"],[0.3333333333333333,\"#9c179e\"],[0.4444444444444444,\"#bd3786\"],[0.5555555555555556,\"#d8576b\"],[0.6666666666666666,\"#ed7953\"],[0.7777777777777778,\"#fb9f3a\"],[0.8888888888888888,\"#fdca26\"],[1.0,\"#f0f921\"]]}],\"choropleth\":[{\"type\":\"choropleth\",\"colorbar\":{\"outlinewidth\":0,\"ticks\":\"\"}}],\"histogram2d\":[{\"type\":\"histogram2d\",\"colorbar\":{\"outlinewidth\":0,\"ticks\":\"\"},\"colorscale\":[[0.0,\"#0d0887\"],[0.1111111111111111,\"#46039f\"],[0.2222222222222222,\"#7201a8\"],[0.3333333333333333,\"#9c179e\"],[0.4444444444444444,\"#bd3786\"],[0.5555555555555556,\"#d8576b\"],[0.6666666666666666,\"#ed7953\"],[0.7777777777777778,\"#fb9f3a\"],[0.8888888888888888,\"#fdca26\"],[1.0,\"#f0f921\"]]}],\"heatmap\":[{\"type\":\"heatmap\",\"colorbar\":{\"outlinewidth\":0,\"ticks\":\"\"},\"colorscale\":[[0.0,\"#0d0887\"],[0.1111111111111111,\"#46039f\"],[0.2222222222222222,\"#7201a8\"],[0.3333333333333333,\"#9c179e\"],[0.4444444444444444,\"#bd3786\"],[0.5555555555555556,\"#d8576b\"],[0.6666666666666666,\"#ed7953\"],[0.7777777777777778,\"#fb9f3a\"],[0.8888888888888888,\"#fdca26\"],[1.0,\"#f0f921\"]]}],\"heatmapgl\":[{\"type\":\"heatmapgl\",\"colorbar\":{\"outlinewidth\":0,\"ticks\":\"\"},\"colorscale\":[[0.0,\"#0d0887\"],[0.1111111111111111,\"#46039f\"],[0.2222222222222222,\"#7201a8\"],[0.3333333333333333,\"#9c179e\"],[0.4444444444444444,\"#bd3786\"],[0.5555555555555556,\"#d8576b\"],[0.6666666666666666,\"#ed7953\"],[0.7777777777777778,\"#fb9f3a\"],[0.8888888888888888,\"#fdca26\"],[1.0,\"#f0f921\"]]}],\"contourcarpet\":[{\"type\":\"contourcarpet\",\"colorbar\":{\"outlinewidth\":0,\"ticks\":\"\"}}],\"contour\":[{\"type\":\"contour\",\"colorbar\":{\"outlinewidth\":0,\"ticks\":\"\"},\"colorscale\":[[0.0,\"#0d0887\"],[0.1111111111111111,\"#46039f\"],[0.2222222222222222,\"#7201a8\"],[0.3333333333333333,\"#9c179e\"],[0.4444444444444444,\"#bd3786\"],[0.5555555555555556,\"#d8576b\"],[0.6666666666666666,\"#ed7953\"],[0.7777777777777778,\"#fb9f3a\"],[0.8888888888888888,\"#fdca26\"],[1.0,\"#f0f921\"]]}],\"surface\":[{\"type\":\"surface\",\"colorbar\":{\"outlinewidth\":0,\"ticks\":\"\"},\"colorscale\":[[0.0,\"#0d0887\"],[0.1111111111111111,\"#46039f\"],[0.2222222222222222,\"#7201a8\"],[0.3333333333333333,\"#9c179e\"],[0.4444444444444444,\"#bd3786\"],[0.5555555555555556,\"#d8576b\"],[0.6666666666666666,\"#ed7953\"],[0.7777777777777778,\"#fb9f3a\"],[0.8888888888888888,\"#fdca26\"],[1.0,\"#f0f921\"]]}],\"mesh3d\":[{\"type\":\"mesh3d\",\"colorbar\":{\"outlinewidth\":0,\"ticks\":\"\"}}],\"scatter\":[{\"fillpattern\":{\"fillmode\":\"overlay\",\"size\":10,\"solidity\":0.2},\"type\":\"scatter\"}],\"parcoords\":[{\"type\":\"parcoords\",\"line\":{\"colorbar\":{\"outlinewidth\":0,\"ticks\":\"\"}}}],\"scatterpolargl\":[{\"type\":\"scatterpolargl\",\"marker\":{\"colorbar\":{\"outlinewidth\":0,\"ticks\":\"\"}}}],\"bar\":[{\"error_x\":{\"color\":\"#2a3f5f\"},\"error_y\":{\"color\":\"#2a3f5f\"},\"marker\":{\"line\":{\"color\":\"#E5ECF6\",\"width\":0.5},\"pattern\":{\"fillmode\":\"overlay\",\"size\":10,\"solidity\":0.2}},\"type\":\"bar\"}],\"scattergeo\":[{\"type\":\"scattergeo\",\"marker\":{\"colorbar\":{\"outlinewidth\":0,\"ticks\":\"\"}}}],\"scatterpolar\":[{\"type\":\"scatterpolar\",\"marker\":{\"colorbar\":{\"outlinewidth\":0,\"ticks\":\"\"}}}],\"histogram\":[{\"marker\":{\"pattern\":{\"fillmode\":\"overlay\",\"size\":10,\"solidity\":0.2}},\"type\":\"histogram\"}],\"scattergl\":[{\"type\":\"scattergl\",\"marker\":{\"colorbar\":{\"outlinewidth\":0,\"ticks\":\"\"}}}],\"scatter3d\":[{\"type\":\"scatter3d\",\"line\":{\"colorbar\":{\"outlinewidth\":0,\"ticks\":\"\"}},\"marker\":{\"colorbar\":{\"outlinewidth\":0,\"ticks\":\"\"}}}],\"scattermapbox\":[{\"type\":\"scattermapbox\",\"marker\":{\"colorbar\":{\"outlinewidth\":0,\"ticks\":\"\"}}}],\"scatterternary\":[{\"type\":\"scatterternary\",\"marker\":{\"colorbar\":{\"outlinewidth\":0,\"ticks\":\"\"}}}],\"scattercarpet\":[{\"type\":\"scattercarpet\",\"marker\":{\"colorbar\":{\"outlinewidth\":0,\"ticks\":\"\"}}}],\"carpet\":[{\"aaxis\":{\"endlinecolor\":\"#2a3f5f\",\"gridcolor\":\"white\",\"linecolor\":\"white\",\"minorgridcolor\":\"white\",\"startlinecolor\":\"#2a3f5f\"},\"baxis\":{\"endlinecolor\":\"#2a3f5f\",\"gridcolor\":\"white\",\"linecolor\":\"white\",\"minorgridcolor\":\"white\",\"startlinecolor\":\"#2a3f5f\"},\"type\":\"carpet\"}],\"table\":[{\"cells\":{\"fill\":{\"color\":\"#EBF0F8\"},\"line\":{\"color\":\"white\"}},\"header\":{\"fill\":{\"color\":\"#C8D4E3\"},\"line\":{\"color\":\"white\"}},\"type\":\"table\"}],\"barpolar\":[{\"marker\":{\"line\":{\"color\":\"#E5ECF6\",\"width\":0.5},\"pattern\":{\"fillmode\":\"overlay\",\"size\":10,\"solidity\":0.2}},\"type\":\"barpolar\"}],\"pie\":[{\"automargin\":true,\"type\":\"pie\"}]},\"layout\":{\"autotypenumbers\":\"strict\",\"colorway\":[\"#636efa\",\"#EF553B\",\"#00cc96\",\"#ab63fa\",\"#FFA15A\",\"#19d3f3\",\"#FF6692\",\"#B6E880\",\"#FF97FF\",\"#FECB52\"],\"font\":{\"color\":\"#2a3f5f\"},\"hovermode\":\"closest\",\"hoverlabel\":{\"align\":\"left\"},\"paper_bgcolor\":\"white\",\"plot_bgcolor\":\"#E5ECF6\",\"polar\":{\"bgcolor\":\"#E5ECF6\",\"angularaxis\":{\"gridcolor\":\"white\",\"linecolor\":\"white\",\"ticks\":\"\"},\"radialaxis\":{\"gridcolor\":\"white\",\"linecolor\":\"white\",\"ticks\":\"\"}},\"ternary\":{\"bgcolor\":\"#E5ECF6\",\"aaxis\":{\"gridcolor\":\"white\",\"linecolor\":\"white\",\"ticks\":\"\"},\"baxis\":{\"gridcolor\":\"white\",\"linecolor\":\"white\",\"ticks\":\"\"},\"caxis\":{\"gridcolor\":\"white\",\"linecolor\":\"white\",\"ticks\":\"\"}},\"coloraxis\":{\"colorbar\":{\"outlinewidth\":0,\"ticks\":\"\"}},\"colorscale\":{\"sequential\":[[0.0,\"#0d0887\"],[0.1111111111111111,\"#46039f\"],[0.2222222222222222,\"#7201a8\"],[0.3333333333333333,\"#9c179e\"],[0.4444444444444444,\"#bd3786\"],[0.5555555555555556,\"#d8576b\"],[0.6666666666666666,\"#ed7953\"],[0.7777777777777778,\"#fb9f3a\"],[0.8888888888888888,\"#fdca26\"],[1.0,\"#f0f921\"]],\"sequentialminus\":[[0.0,\"#0d0887\"],[0.1111111111111111,\"#46039f\"],[0.2222222222222222,\"#7201a8\"],[0.3333333333333333,\"#9c179e\"],[0.4444444444444444,\"#bd3786\"],[0.5555555555555556,\"#d8576b\"],[0.6666666666666666,\"#ed7953\"],[0.7777777777777778,\"#fb9f3a\"],[0.8888888888888888,\"#fdca26\"],[1.0,\"#f0f921\"]],\"diverging\":[[0,\"#8e0152\"],[0.1,\"#c51b7d\"],[0.2,\"#de77ae\"],[0.3,\"#f1b6da\"],[0.4,\"#fde0ef\"],[0.5,\"#f7f7f7\"],[0.6,\"#e6f5d0\"],[0.7,\"#b8e186\"],[0.8,\"#7fbc41\"],[0.9,\"#4d9221\"],[1,\"#276419\"]]},\"xaxis\":{\"gridcolor\":\"white\",\"linecolor\":\"white\",\"ticks\":\"\",\"title\":{\"standoff\":15},\"zerolinecolor\":\"white\",\"automargin\":true,\"zerolinewidth\":2},\"yaxis\":{\"gridcolor\":\"white\",\"linecolor\":\"white\",\"ticks\":\"\",\"title\":{\"standoff\":15},\"zerolinecolor\":\"white\",\"automargin\":true,\"zerolinewidth\":2},\"scene\":{\"xaxis\":{\"backgroundcolor\":\"#E5ECF6\",\"gridcolor\":\"white\",\"linecolor\":\"white\",\"showbackground\":true,\"ticks\":\"\",\"zerolinecolor\":\"white\",\"gridwidth\":2},\"yaxis\":{\"backgroundcolor\":\"#E5ECF6\",\"gridcolor\":\"white\",\"linecolor\":\"white\",\"showbackground\":true,\"ticks\":\"\",\"zerolinecolor\":\"white\",\"gridwidth\":2},\"zaxis\":{\"backgroundcolor\":\"#E5ECF6\",\"gridcolor\":\"white\",\"linecolor\":\"white\",\"showbackground\":true,\"ticks\":\"\",\"zerolinecolor\":\"white\",\"gridwidth\":2}},\"shapedefaults\":{\"line\":{\"color\":\"#2a3f5f\"}},\"annotationdefaults\":{\"arrowcolor\":\"#2a3f5f\",\"arrowhead\":0,\"arrowwidth\":1},\"geo\":{\"bgcolor\":\"white\",\"landcolor\":\"#E5ECF6\",\"subunitcolor\":\"white\",\"showland\":true,\"showlakes\":true,\"lakecolor\":\"white\"},\"title\":{\"x\":0.05},\"mapbox\":{\"style\":\"light\"}}},\"xaxis\":{\"title\":{\"text\":\"Unique Values\"},\"type\":\"category\"},\"title\":{\"text\":\"Data Distribution\"},\"yaxis\":{\"title\":{\"text\":\"Frequency\"}}},                        {\"responsive\": true}                    ).then(function(){\n",
       "                            \n",
       "var gd = document.getElementById('0ec24793-50e3-4c31-8e9d-62eba1bc2da7');\n",
       "var x = new MutationObserver(function (mutations, observer) {{\n",
       "        var display = window.getComputedStyle(gd).display;\n",
       "        if (!display || display === 'none') {{\n",
       "            console.log([gd, 'removed!']);\n",
       "            Plotly.purge(gd);\n",
       "            observer.disconnect();\n",
       "        }}\n",
       "}});\n",
       "\n",
       "// Listen for the removal of the full notebook cells\n",
       "var notebookContainer = gd.closest('#notebook-container');\n",
       "if (notebookContainer) {{\n",
       "    x.observe(notebookContainer, {childList: true});\n",
       "}}\n",
       "\n",
       "// Listen for the clearing of the current output cell\n",
       "var outputEl = gd.closest('.output');\n",
       "if (outputEl) {{\n",
       "    x.observe(outputEl, {childList: true});\n",
       "}}\n",
       "\n",
       "                        })                };                });            </script>        </div>"
      ]
     },
     "metadata": {},
     "output_type": "display_data"
    },
    {
     "name": "stdout",
     "output_type": "stream",
     "text": [
      "The mean of the data distribution is 106.15045624222314 and the standard deviation is 86.69586631438048\n"
     ]
    }
   ],
   "source": [
    "plot_data_distribution(y)"
   ]
  },
  {
   "cell_type": "code",
   "execution_count": null,
   "metadata": {},
   "outputs": [],
   "source": [
    "# Create a DataFrame with the test and pred values\n",
    "df = pd.DataFrame({'Test': y_test, 'Pred': y_pred_mlp})\n",
    "\n",
    "# Save the DataFrame to a CSV file\n",
    "df.to_csv('mlp_test_pred.csv', index=False)"
   ]
  },
  {
   "cell_type": "code",
   "execution_count": null,
   "metadata": {},
   "outputs": [],
   "source": [
    "# # split data into different bins, one for data below y <= 250 and one for data y > 250.\n",
    "# # then, for bin y <= 250, split into test and train sets. do the same for bin y > 250.\n",
    "# # train 2 different MLP models based on MLP regressor module. graph out the results after all this.\n",
    "\n",
    "# # X, Y are the full data set\n",
    "\n",
    "# # splitting the data into bins of y <=250 and y > 250\n",
    "\n",
    "# # print(X.shape, Y.shape)\n",
    "\n",
    "# # print(Y <= 250)\n",
    "\n",
    "# X_bin_1 = X[Y.values <= 250]\n",
    "# Y_bin_1 = Y[Y.values <= 250]\n",
    "\n",
    "# X_bin_2 = X[Y.values > 250]\n",
    "# Y_bin_2 = Y[Y.values > 250]\n",
    "\n",
    "# # splitting the data into test and train sets\n",
    "# X_bin_1_train, X_bin_1_test, Y_bin_1_train, Y_bin_1_test = train_test_split(X_bin_1, Y_bin_1, test_size=0.2, random_state=42)\n",
    "# X_bin_2_train, X_bin_2_test, Y_bin_2_train, Y_bin_2_test = train_test_split(X_bin_2, Y_bin_2, test_size=0.2, random_state=42)\n",
    "\n",
    "# # training the MLP models\n",
    "# mlp_regressor_bin_1 = MLPRegressor(input_size, hidden_size).to(device)\n",
    "# mlp_regressor_bin_2 = MLPRegressor(input_size, hidden_size).to(device)\n",
    "\n",
    "# # optimizers for both the bins\n",
    "# optimizer_bin_1 = torch.optim.Adam(mlp_regressor_bin_1.parameters(), lr=0.001, weight_decay=1e-5)\n",
    "# optimizer_bin_2 = torch.optim.Adam(mlp_regressor_bin_2.parameters(), lr=0.001, weight_decay=1e-5)"
   ]
  },
  {
   "cell_type": "code",
   "execution_count": null,
   "metadata": {},
   "outputs": [],
   "source": [
    "# # print(mlp_regressor_bin_1)\n",
    "# # for x in X_bin_1_train.values:\n",
    "# #     for i in x:\n",
    "# #         print(i, end=' ')\n",
    "# #     print(\"\")\n",
    "# # print(Y_bin_1_train.values)\n",
    "\n",
    "# train_mlp_regressor(mlp_regressor_bin_1, optimizer_bin_1, epochs=4000, batch_size=500, X_train=X_bin_1_train.values if isinstance(X_bin_1_train, pd.DataFrame) else X_bin_1_train, Y_train=np.array(Y_bin_1_train).reshape(-1, 1))"
   ]
  },
  {
   "cell_type": "code",
   "execution_count": null,
   "metadata": {},
   "outputs": [
    {
     "ename": "NameError",
     "evalue": "name 'mlp_regressor_bin_2' is not defined",
     "output_type": "error",
     "traceback": [
      "\u001b[0;31m---------------------------------------------------------------------------\u001b[0m",
      "\u001b[0;31mNameError\u001b[0m                                 Traceback (most recent call last)",
      "Cell \u001b[0;32mIn[30], line 1\u001b[0m\n\u001b[0;32m----> 1\u001b[0m train_mlp_regressor(mlp_regressor_bin_2, optimizer_bin_2, epochs\u001b[38;5;241m=\u001b[39m\u001b[38;5;241m10000\u001b[39m, batch_size\u001b[38;5;241m=\u001b[39m\u001b[38;5;241m500\u001b[39m, X_train\u001b[38;5;241m=\u001b[39mX_bin_2_train\u001b[38;5;241m.\u001b[39mvalues \u001b[38;5;28;01mif\u001b[39;00m \u001b[38;5;28misinstance\u001b[39m(X_bin_2_train, pd\u001b[38;5;241m.\u001b[39mDataFrame) \u001b[38;5;28;01melse\u001b[39;00m X_bin_2_train, Y_train\u001b[38;5;241m=\u001b[39mnp\u001b[38;5;241m.\u001b[39marray(Y_bin_2_train)\u001b[38;5;241m.\u001b[39mreshape(\u001b[38;5;241m-\u001b[39m\u001b[38;5;241m1\u001b[39m, \u001b[38;5;241m1\u001b[39m))\n",
      "\u001b[0;31mNameError\u001b[0m: name 'mlp_regressor_bin_2' is not defined"
     ]
    }
   ],
   "source": [
    "# train_mlp_regressor(mlp_regressor_bin_2, optimizer_bin_2, epochs=10000, batch_size=500, X_train=X_bin_2_train.values if isinstance(X_bin_2_train, pd.DataFrame) else X_bin_2_train, Y_train=np.array(Y_bin_2_train).reshape(-1, 1))"
   ]
  },
  {
   "cell_type": "code",
   "execution_count": null,
   "metadata": {},
   "outputs": [
    {
     "name": "stderr",
     "output_type": "stream",
     "text": [
      "/Users/rithikkumars/miniconda3/envs/kasturi_ml_project/lib/python3.10/site-packages/torch/utils/_device.py:77: UserWarning:\n",
      "\n",
      "Using a target size (torch.Size([2324])) that is different to the input size (torch.Size([2324, 1])). This will likely lead to incorrect results due to broadcasting. Please ensure they have the same size.\n",
      "\n"
     ]
    },
    {
     "name": "stdout",
     "output_type": "stream",
     "text": [
      "Loss: 57.2262\n",
      "Loss: 214.3464\n"
     ]
    },
    {
     "name": "stderr",
     "output_type": "stream",
     "text": [
      "/Users/rithikkumars/miniconda3/envs/kasturi_ml_project/lib/python3.10/site-packages/torch/utils/_device.py:77: UserWarning:\n",
      "\n",
      "Using a target size (torch.Size([88])) that is different to the input size (torch.Size([88, 1])). This will likely lead to incorrect results due to broadcasting. Please ensure they have the same size.\n",
      "\n"
     ]
    },
    {
     "data": {
      "image/png": "[encoded data removed]",
      "text/plain": [
       "<Figure size 640x480 with 1 Axes>"
      ]
     },
     "metadata": {},
     "output_type": "display_data"
    },
    {
     "data": {
      "image/png": "[encoded data removed]",
      "text/plain": [
       "<Figure size 1000x600 with 1 Axes>"
      ]
     },
     "metadata": {},
     "output_type": "display_data"
    },
    {
     "name": "stdout",
     "output_type": "stream",
     "text": [
      "The mean error is 52.59724612736661 and the standard deviation of the errors is 72.61028475339208\n"
     ]
    },
    {
     "data": {
      "image/png": "[encoded data removed]",
      "text/plain": [
       "<Figure size 1000x600 with 1 Axes>"
      ]
     },
     "metadata": {},
     "output_type": "display_data"
    },
    {
     "data": {
      "image/png": "[encoded data removed]",
      "text/plain": [
       "<Figure size 640x480 with 1 Axes>"
      ]
     },
     "metadata": {},
     "output_type": "display_data"
    },
    {
     "data": {
      "image/png": "[encoded data removed]",
      "text/plain": [
       "<Figure size 1000x600 with 1 Axes>"
      ]
     },
     "metadata": {},
     "output_type": "display_data"
    },
    {
     "name": "stdout",
     "output_type": "stream",
     "text": [
      "The mean error is 195.0340909090909 and the standard deviation of the errors is 372.3754352087431\n"
     ]
    },
    {
     "data": {
      "image/png": "[encoded data removed]",
      "text/plain": [
       "<Figure size 1000x600 with 1 Axes>"
      ]
     },
     "metadata": {},
     "output_type": "display_data"
    }
   ],
   "source": [
    "\n",
    "# # testing the MLP models\n",
    "# y_pred_mlp_bin_1 = test_mlp_regressor(mlp_regressor_bin_1, X_bin_1_test.values if isinstance(X_bin_1_test, pd.DataFrame) else X_bin_1_test, np.array(Y_bin_1_test).reshape(-1, 1).squeeze())\n",
    "# y_pred_mlp_bin_1 = np.rint(y_pred_mlp_bin_1).astype(int)\n",
    "\n",
    "# y_pred_mlp_bin_2 = test_mlp_regressor(mlp_regressor_bin_2, X_bin_2_test.values if isinstance(X_bin_2_test, pd.DataFrame) else X_bin_2_test, np.array(Y_bin_2_test).reshape(-1, 1).squeeze())\n",
    "# y_pred_mlp_bin_2 = np.rint(y_pred_mlp_bin_2).astype(int)\n",
    "\n",
    "# Y_bin_1_test = np.rint(Y_bin_1_test).astype(int)\n",
    "# Y_bin_2_test = np.rint(Y_bin_2_test).astype(int)\n",
    "\n",
    "# # plotting the results\n",
    "# plt.plot(np.floor(Y_bin_1_test//rounding_graph) * rounding_graph, np.floor(y_pred_mlp_bin_1//rounding_graph) * rounding_graph, 'o')\n",
    "# accuracy_bin1 = calculate_accuracy(Y_bin_1_test, y_pred_mlp_bin_1, rounding)\n",
    "\n",
    "# plt.xlabel('Actual')\n",
    "# plt.ylabel('Predicted')\n",
    "# plt.title('Accuracy (prediction error < {}) on Y<=250 bin: {}'.format(rounding, accuracy_bin1))\n",
    "# plot_error_frequency(y_pred_mlp_bin_1, Y_bin_1_test, 'MLP', rounding)\n",
    "\n",
    "# plt.plot(np.floor(Y_bin_2_test//rounding_graph) * rounding_graph, np.floor(y_pred_mlp_bin_2//rounding_graph) * rounding_graph, 'o')\n",
    "# accuracy_bin2 = calculate_accuracy(Y_bin_2_test, y_pred_mlp_bin_2, rounding)\n",
    "\n",
    "# plt.xlabel('Actual')\n",
    "# plt.ylabel('Predicted')\n",
    "# plt.title('Accuracy (prediction error < {}) on Y>250 bin: {}'.format(rounding, accuracy_bin2))\n",
    "# plot_error_frequency(y_pred_mlp_bin_2, Y_bin_2_test, 'MLP', rounding)"
   ]
  }
 ],
 "metadata": {
  "kernelspec": {
   "display_name": "Python 3",
   "language": "python",
   "name": "python3"
  },
  "language_info": {
   "codemirror_mode": {
    "name": "ipython",
    "version": 3
   },
   "file_extension": ".py",
   "mimetype": "text/x-python",
   "name": "python",
   "nbconvert_exporter": "python",
   "pygments_lexer": "ipython3",
   "version": "3.11.5"
  },
  "orig_nbformat": 4
 },
 "nbformat": 4,
 "nbformat_minor": 2
}
