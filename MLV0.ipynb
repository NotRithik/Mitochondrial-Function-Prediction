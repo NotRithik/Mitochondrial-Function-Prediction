{
 "cells": [
  {
   "cell_type": "markdown",
   "metadata": {},
   "source": [
    "### Objectives\n",
    "\n",
    "First, create a graph representation of the information we have. \n",
    "This would be information about the elements, and the nodes. \n",
    "Using this, we will feed it into our SVM, or a Random Forest, and see from there onwards"
   ]
  },
  {
   "cell_type": "code",
   "execution_count": 15,
   "metadata": {},
   "outputs": [],
   "source": [
    "import pandas as pd\n",
    "import numpy as np\n",
    "from sklearn.model_selection import train_test_split\n",
    "from sklearn.svm import SVC\n",
    "from sklearn.metrics import accuracy_score, classification_report\n",
    "from sklearn.decomposition import PCA\n",
    "import matplotlib.pyplot as plt\n",
    "from sklearn.preprocessing import StandardScaler\n",
    "\n",
    "import re\n",
    "\n",
    "import torch\n",
    "import torch.nn as nn\n",
    "import numpy as np\n",
    "import ast\n",
    "import io\n",
    "\n",
    "import plotly.graph_objs as go\n",
    "\n",
    "# Set up torch to use CUDA or MPS if either are available\n",
    "device = torch.device('cuda:0')  if torch.cuda.is_available() else torch.device('mps:0') if torch.backends.mps.is_available() else torch.device('cpu')\n",
    "torch.set_default_device(device)\n",
    "\n",
    "USE_NEW_FEATURES = True\n",
    "USE_ONLY_3D_CNN_FEATURES = True\n",
    "TRAIN_SVM = False\n",
    "TRAIN_RF = False\n",
    "\n",
    "MLP_MODEL_PATH = './mlp_regressor.pth'\n",
    "LOAD_MLP_MODEL = False\n",
    "SAVE_MLP_MODEL = False"
   ]
  },
  {
   "cell_type": "code",
   "execution_count": 16,
   "metadata": {},
   "outputs": [],
   "source": [
    "# n = pd.read_csv('./full_node_Table_.csv')\n",
    "df = pd.read_csv('./full_Table_.csv')"
   ]
  },
  {
   "cell_type": "code",
   "execution_count": 17,
   "metadata": {},
   "outputs": [],
   "source": [
    "if(not USE_NEW_FEATURES):\n",
    "    cc_df = df.sample(n=1000, random_state=42)\n",
    "    # cc_df = df\n",
    "\n",
    "    # cc_df['cc_pixel_intensity_488'] = cc_df['cc_pixel_intensity_488'].astype(int)\n",
    "    cc_df['element_pixel_intensity_488'] = cc_df['element_pixel_intensity_488'].replace(0, 0.001)\n",
    "\n",
    "    X = cc_df.drop(['cc_pixel_intensity_488', 'cc_pixel_intensity_405', 'cc_x', 'folder_name_x', 'degree_distribution', 'folder_name_x.1', 'folder_name_y', 'x_y', 'y_y', 'z_y', 'node', 'degree', 'cc_y', 'vol_cc', 'avg_PK_Of_element', 'element_connectivity', 'cc_average_connectivity', 'pixel_intensity_488',\n",
    "    'pixel_intensity_405',\n",
    "    'pixel_intensity_ratio',\n",
    "    # 'pixel_intensity_555',\n",
    "    'element_pixel_intensity_488',\n",
    "    'element_pixel_intensity_405',\n",
    "    'element_pixel_intensity_ratio'], axis=1)  # Adjust 'target_column' to your actual target column name\n",
    "    # Print rows that have NaN in any column, and print that column name\n",
    "    pd.set_option('display.max_rows', 5000)\n",
    "    pd.set_option('display.max_columns', 500)\n",
    "    pd.set_option('display.width', 150)\n",
    "\n",
    "    # For any rows that contain a NaN in X, drop it in X and drop the corresponding row in Y.\n",
    "    # This is done by getting the row index where X is NaN and dropping the same index in both X and Y\n",
    "    nan_rows = X.isna().any(axis=1)\n",
    "    X = X.dropna()\n",
    "\n",
    "    # replace element_pixel_intensity_488 0 values with 0.001\n",
    "\n",
    "    cc_df['element_pixel_intensity_405_488_ratio'] = (np.array(cc_df['element_pixel_intensity_405']) / np.array(cc_df['element_pixel_intensity_488']))*1000\n",
    "    cc_df.fillna(0, inplace=True)\n",
    "    cc_df['element_pixel_intensity_405_488_ratio'] = cc_df['element_pixel_intensity_405_488_ratio'].astype(int)\n",
    "\n",
    "\n",
    "    y = cc_df['element_pixel_intensity_405_488_ratio']\n",
    "    y = y[~nan_rows]\n",
    "\n",
    "    X_train, X_test, y_train, y_test = train_test_split(X, y, test_size=0.2, random_state=42)\n",
    "\n",
    "    y_train = y_train.to_numpy()\n",
    "\n",
    "    # for x in X_train.columns:\n",
    "    #     print(x)\n",
    "\n",
    "    # y_test=y_test.to_numpy()\n",
    "    # print(y)"
   ]
  },
  {
   "cell_type": "code",
   "execution_count": 18,
   "metadata": {},
   "outputs": [],
   "source": [
    "def get_pca_transformation_and_scaled_dataset(dataset, x_principal_components):\n",
    "    # Standardizing the features\n",
    "    standardized_data = StandardScaler().fit_transform(dataset)\n",
    "\n",
    "    # Perform PCA\n",
    "    pca = PCA(n_components=x_principal_components)\n",
    "    principal_components = pca.fit_transform(standardized_data)\n",
    "\n",
    "    # Create a DataFrame with the principal components\n",
    "    columns = [f'PC{i+1}' for i in range(x_principal_components)]\n",
    "    principal_df = pd.DataFrame(data=principal_components, columns=columns)\n",
    "    \n",
    "    # Explained variance for each PC\n",
    "    explained_var = pca.explained_variance_ratio_\n",
    "\n",
    "    # Plot for explained variance of each PC\n",
    "    fig1 = go.Figure(data=go.Bar(x=columns, y=explained_var, marker_color='darkred'))\n",
    "    fig1.update_layout(title='Explained Variance by Each Principal Component',\n",
    "                       xaxis_title='Principal Components',\n",
    "                       yaxis_title='Explained Variance Ratio')\n",
    "    fig1.show()\n",
    "\n",
    "    # Plot for cumulative explained variance\n",
    "    cumulative_var = explained_var.cumsum()\n",
    "    fig2 = go.Figure(data=go.Scatter(x=columns, y=cumulative_var, marker_color='darkred'))\n",
    "    fig2.update_layout(title='Cumulative Explained Variance by Principal Components',\n",
    "                       xaxis_title='Principal Components',\n",
    "                       yaxis_title='Cumulative Explained Variance Ratio')\n",
    "    fig2.show()\n",
    "\n",
    "    total_explained_variance = cumulative_var[-1]\n",
    "    print(f\"Total explained variance by the first {x_principal_components} principal components: {total_explained_variance:.2f}\")\n",
    "\n",
    "    return principal_df, pca\n"
   ]
  },
  {
   "cell_type": "code",
   "execution_count": 19,
   "metadata": {},
   "outputs": [],
   "source": [
    "def feature_contribution_to_variance(pca, explained_var, feature_names, drop_angle_edge_contributions=True):\n",
    "    # Transpose pca.components_ to align with explained_var for dot product\n",
    "    feature_contributions = pca.components_.T ** 2\n",
    "    total_feature_contributions = np.dot(feature_contributions, explained_var)\n",
    "\n",
    "    if len(feature_names) != len(total_feature_contributions):\n",
    "        raise ValueError(\"The number of features does not match the length of the contributions array.\")\n",
    "\n",
    "    # Create a DataFrame for contributions\n",
    "    contributions_df = pd.DataFrame({\n",
    "        'Feature': feature_names,\n",
    "        'Contribution': total_feature_contributions * 100\n",
    "    })\n",
    "\n",
    "    # Drop 'Angle_X_X' or 'edge_X' contributions if flag is True\n",
    "    if drop_angle_edge_contributions:\n",
    "        # Regular expression for matching 'Angle_X_X' or 'edge_X'\n",
    "        regex_pattern = r\"^(Angle_\\d+_\\d+|edge_\\d+)$\"\n",
    "\n",
    "        # Filter out rows where 'Feature' matches the pattern\n",
    "        contributions_df = contributions_df[~contributions_df['Feature'].str.match(regex_pattern)]\n",
    "\n",
    "    # Sort by contribution in descending order\n",
    "    sorted_contributions = contributions_df.sort_values(by='Contribution', ascending=False)\n",
    "    return sorted_contributions\n"
   ]
  },
  {
   "cell_type": "code",
   "execution_count": 20,
   "metadata": {},
   "outputs": [],
   "source": [
    "def plot_feature_contributions(sorted_contributions):\n",
    "    fig = go.Figure(data=go.Bar(\n",
    "        x=sorted_contributions['Feature'],\n",
    "        y=sorted_contributions['Contribution'],\n",
    "        marker_color='darkblue'\n",
    "    ))\n",
    "    fig.update_layout(\n",
    "        title='Percentage Contribution of Each Feature to Total Variance',\n",
    "        xaxis_title='Features',\n",
    "        yaxis_title='Percentage Contribution'\n",
    "    )\n",
    "    fig.show()"
   ]
  },
  {
   "cell_type": "code",
   "execution_count": 21,
   "metadata": {},
   "outputs": [
    {
     "name": "stderr",
     "output_type": "stream",
     "text": [
      "/var/folders/_8/5153zj6d6w51qcltyf2wlg740000gn/T/ipykernel_65520/2153270007.py:84: PerformanceWarning: DataFrame is highly fragmented.  This is usually the result of calling `frame.insert` many times, which has poor performance.  Consider joining all columns at once using pd.concat(axis=1) instead. To get a de-fragmented frame, use `newframe = frame.copy()`\n",
      "  data['element_pixel_intensity_405_488_ratio'] = ((np.array(data['element_pixel_intensity_405']) / np.array(data['element_pixel_intensity_488']))*1000).copy()\n",
      "/var/folders/_8/5153zj6d6w51qcltyf2wlg740000gn/T/ipykernel_65520/2153270007.py:88: PerformanceWarning: DataFrame is highly fragmented.  This is usually the result of calling `frame.insert` many times, which has poor performance.  Consider joining all columns at once using pd.concat(axis=1) instead. To get a de-fragmented frame, use `newframe = frame.copy()`\n",
      "  data['image_name'] = data['folder_name_x'] + '_' + data['cc_x'].astype(str)\n"
     ]
    }
   ],
   "source": [
    "datafrac = 1\n",
    "# This cell reads the data from the CSV file and cleans it up\n",
    "\n",
    "if(USE_NEW_FEATURES):\n",
    "\n",
    "    # Set pandas options to display all columns and rows\n",
    "    pd.set_option('display.max_rows', None)\n",
    "    pd.set_option('display.max_columns', None)\n",
    "    pd.set_option('display.width', None)\n",
    "\n",
    "    csv_file_path = 'full_Table_All_Cells_With_Angles_And_Edges_CLEANED.csv'\n",
    "    buffer = io.StringIO()\n",
    "\n",
    "    # Open and process the CSV file, to strip entries so that numbers aren't read as strings by read_csv and column names have no leading/trailing whitespaces\n",
    "    with open(csv_file_path, 'r') as file:\n",
    "        for line in file:\n",
    "            cleaned_line = ','.join(cell.strip() for cell in line.split(','))\n",
    "            buffer.write(cleaned_line + '\\n')\n",
    "\n",
    "    # Move the buffer cursor to the start\n",
    "    buffer.seek(0)\n",
    "\n",
    "    # Read the cleaned data into pandas\n",
    "    data = pd.read_csv(buffer)\n",
    "    edge_columns = [col for col in data.columns if col.startswith('edge_') and col.split('_')[-1].isdigit()]\n",
    "    # Replace empty entries with 0 in these columns\n",
    "    data[edge_columns] = data[edge_columns].fillna(0)\n",
    "\n",
    "    # Not sure if these folder names are required for segregating the dataset, so for now dropping them\n",
    "    # data = data.drop(columns=['folder_name_x', 'folder_name_x.1', 'folder_name_y'])\n",
    "    data = data.drop(columns=['folder_name_x.1']) # 'folder_name_x' not dropping here, dropping in sample_data\n",
    "    \n",
    "    # Make each string in folder_name_y correspond to an integer instead\n",
    "    unique_strings = data['folder_name_y'].unique()\n",
    "    string_to_int_mapping = {string: i+1 for i, string in enumerate(unique_strings)}\n",
    "    \n",
    "    data['folder_name_y'] = data['folder_name_y'].replace(string_to_int_mapping)\n",
    "    \n",
    "    # For now, we aren't using the 555 channel either\n",
    "    data = data.drop(columns=['element_pixel_intensity_555'])\n",
    "\n",
    "    # These fields seem to be not implemented either:\n",
    "    data = data.drop(columns=[\"Unnamed: 0_x\", \"x\", \"y\" ,\"z\" ,\"node_x\" ,\"degree_x\" ,\"vol_cc_x\" ,\"avg_PK_Of_element_x\" ,\"element_connectivity_x\" ,\"Unnamed: 0_y\"])\n",
    "\n",
    "    # The next few lines of code are to convert the degree_distribution column to columns labelled node_degree_0, node_degree_1, etc. till node_degree_MAX\n",
    "    def str_to_dict(s):\n",
    "        try:\n",
    "            return ast.literal_eval(s)\n",
    "        except ValueError:\n",
    "            return {}\n",
    "    # Apply the function to the 'degree_distribution' column\n",
    "    data['degree_distribution'] = data['degree_distribution'].apply(str_to_dict)\n",
    "        \n",
    "    # Find the highest node degree in the DataFrame\n",
    "    max_degree = max(degree for row in data['degree_distribution'] for degree in row.keys())\n",
    "\n",
    "    # Create a DataFrame for new columns\n",
    "    new_columns = pd.DataFrame({f'node_degree_{i}': 0 for i in range(1, max_degree + 1)}, index=data.index)\n",
    "\n",
    "    # Concatenate with the original DataFrame\n",
    "    data = pd.concat([data, new_columns], axis=1)\n",
    "        \n",
    "    # Function to update the degree columns for a row\n",
    "    def update_degrees(row):\n",
    "        for degree, count in row['degree_distribution'].items():\n",
    "            row[f'node_degree_{degree}'] = count\n",
    "        return row\n",
    "\n",
    "    # Apply the function to each row\n",
    "    data = data.apply(update_degrees, axis=1)\n",
    "    data = data.drop(columns=['degree_distribution'])\n",
    "    # Now we should have columns labelled node_degree_0, node_degree_1, etc. till node_degree_MAX and dropped the degree_distribution column\n",
    "\n",
    "    data['cc_average_connectivity'] = data['cc_average_connectivity'].replace([np.inf, -np.inf], 0)\n",
    "\n",
    "    # Drop rows that have NaN values in columns 'clustering coefficient', 'pixel_intensity_ratio', 'vol_cc_y', 'x_y', 'y_y', 'z_y'\n",
    "    # data = data.dropna(subset=['clustering coefficient', 'pixel_intensity_ratio', 'vol_cc_y', 'x_y', 'y_y', 'z_y'])\n",
    "\n",
    "    # data['element_pixel_intensity_488'] = data['element_pixel_intensity_488'].replace(0, 0.001)\n",
    "    # drop 0 values of 488, those rows are just bad\n",
    "    data['element_pixel_intensity_488'] = data['element_pixel_intensity_488'].replace(0, np.nan)\n",
    "    data = data.dropna(subset=['element_pixel_intensity_488'])\n",
    "    \n",
    "    data['element_pixel_intensity_405_488_ratio'] = ((np.array(data['element_pixel_intensity_405']) / np.array(data['element_pixel_intensity_488']))*1000).copy()\n",
    "\n",
    "    # Add feature vectors from CNN obtained image vectors\n",
    "    feature_vectors_df = pd.read_csv('image_feature_vectors.csv')\n",
    "    data['image_name'] = data['folder_name_x'] + '_' + data['cc_x'].astype(str)\n",
    "    data = pd.merge(data, feature_vectors_df, left_on='image_name', right_on='Image Name', how='left')\n",
    "    data.drop('Image Name', axis=1, inplace=True)\n",
    "    data.drop('image_name', axis=1, inplace=True)\n",
    "    \n",
    "    if(USE_ONLY_3D_CNN_FEATURES):\n",
    "        angle_columns = data.filter(regex='^Angle_\\d+_\\d+$').columns\n",
    "        edge_columns = data.filter(regex='^edge_\\d+$').columns\n",
    "        columns_to_drop = angle_columns.union(edge_columns).union(['Angle_Flag'])\n",
    "        data.drop(columns=columns_to_drop, inplace=True)\n",
    "    \n",
    "    # Replace any remaining NaN's with 0\n",
    "    data.fillna(0, inplace=True)\n",
    "\n",
    "    # Train on small subset of data to see if it works first, if datafrac <1\n",
    "    sample_data = data.sample(frac=datafrac ,random_state=1049)\n",
    "    sample_data = sample_data.drop(columns=['folder_name_x'])\n",
    "    \n",
    "\n",
    "    # Split the data into training and testing sets\n",
    "    X = sample_data.drop(columns=['element_pixel_intensity_488'])\n",
    "    X = X.drop(['cc_pixel_intensity_488',\n",
    "                'cc_pixel_intensity_405',\n",
    "                'cc_x', 'x_y', 'y_y', 'z_y', 'cc_y',\n",
    "                'pixel_intensity_405',\n",
    "                'pixel_intensity_ratio',\n",
    "                # 'pixel_intensity_555',\n",
    "                'element_pixel_intensity_405',\n",
    "                'element_pixel_intensity_ratio',\n",
    "                'cc_average_connectivity',\n",
    "                # 'cc_pixel_intensity_555',\n",
    "                'cc_pixel_intensity_ratio', \n",
    "                'pixel_intensity',\n",
    "                'pixel_intensity_488'], axis=1)\n",
    "    \n",
    "    xlabels = X.columns\n",
    "    with open(\"training_feature_list_excl_angles_and_edges.txt\", \"w\") as file:\n",
    "        for thing in xlabels:\n",
    "            if \"Angle\" not in thing and \"edge\" not in thing:\n",
    "                file.write(thing + \"\\n\")\n",
    "    \n",
    "    columns_with_NaN = sample_data.columns.to_series()[sample_data.apply(lambda x: np.isnan(x).any())]\n",
    "    if(len(columns_with_NaN) > 0):\n",
    "        print(columns_with_NaN.values)\n",
    "        raise Exception('Columns with NaN values found in dataset, can\\'t train model on it directly')\n",
    "    \n",
    "    non_numerical_columns = sample_data.select_dtypes(exclude=['int', 'float', 'double']).columns\n",
    "    # Print the non-numerical column names\n",
    "    if(len(non_numerical_columns) > 0):\n",
    "        print(non_numerical_columns)\n",
    "        raise Exception('Non-numerical columns found in dataset, can\\'t train model on it directly')\n",
    "    \n",
    "    # Print any columns with values like infinity\n",
    "    columns_with_infinity = sample_data.columns.to_series()[sample_data.apply(lambda x: np.isinf(x).any())]\n",
    "    if(len(columns_with_infinity) > 0):\n",
    "        print(columns_with_infinity)\n",
    "        raise Exception('Columns with infinity values found in dataset, can\\'t train model on it directly')"
   ]
  },
  {
   "cell_type": "code",
   "execution_count": 22,
   "metadata": {},
   "outputs": [
    {
     "name": "stdout",
     "output_type": "stream",
     "text": [
      "Data successfully written to ./imageNames_ratios.csv\n"
     ]
    }
   ],
   "source": [
    "# Adding a new column for file names in the DataFrame\n",
    "data['file_name'] = data.apply(lambda row: f\"{row['folder_name_x']}_{row['cc_x']}.tif\", axis=1)\n",
    "\n",
    "# Selecting only the required columns\n",
    "output_data = data[['file_name', 'element_pixel_intensity_405_488_ratio']]\n",
    "\n",
    "# Writing the selected data to a CSV file\n",
    "output_data.to_csv(\"./imageNames_ratios.csv\", index=False)\n",
    "\n",
    "print(\"Data successfully written to ./imageNames_ratios.csv\")\n"
   ]
  },
  {
   "cell_type": "code",
   "execution_count": 24,
   "metadata": {},
   "outputs": [
    {
     "data": {
      "application/vnd.plotly.v1+json": {
       "config": {
        "plotlyServerURL": "https://plot.ly"
       },
       "data": [
        {
         "marker": {
          "color": "darkred"
         },
         "type": "bar",
         "x": [
          "PC1",
          "PC2",
          "PC3",
          "PC4",
          "PC5",
          "PC6",
          "PC7",
          "PC8",
          "PC9",
          "PC10",
          "PC11",
          "PC12",
          "PC13",
          "PC14",
          "PC15",
          "PC16",
          "PC17",
          "PC18",
          "PC19",
          "PC20",
          "PC21",
          "PC22",
          "PC23",
          "PC24",
          "PC25",
          "PC26",
          "PC27",
          "PC28",
          "PC29",
          "PC30",
          "PC31",
          "PC32",
          "PC33",
          "PC34",
          "PC35",
          "PC36",
          "PC37",
          "PC38",
          "PC39",
          "PC40",
          "PC41",
          "PC42",
          "PC43",
          "PC44",
          "PC45",
          "PC46",
          "PC47",
          "PC48",
          "PC49",
          "PC50",
          "PC51",
          "PC52",
          "PC53",
          "PC54",
          "PC55",
          "PC56",
          "PC57",
          "PC58",
          "PC59",
          "PC60",
          "PC61",
          "PC62",
          "PC63",
          "PC64",
          "PC65",
          "PC66",
          "PC67",
          "PC68",
          "PC69",
          "PC70",
          "PC71",
          "PC72",
          "PC73",
          "PC74",
          "PC75",
          "PC76",
          "PC77",
          "PC78",
          "PC79",
          "PC80",
          "PC81",
          "PC82",
          "PC83",
          "PC84",
          "PC85",
          "PC86",
          "PC87",
          "PC88",
          "PC89",
          "PC90",
          "PC91",
          "PC92",
          "PC93",
          "PC94",
          "PC95",
          "PC96",
          "PC97",
          "PC98",
          "PC99",
          "PC100",
          "PC101",
          "PC102",
          "PC103",
          "PC104",
          "PC105",
          "PC106",
          "PC107",
          "PC108",
          "PC109",
          "PC110",
          "PC111",
          "PC112",
          "PC113",
          "PC114",
          "PC115",
          "PC116",
          "PC117",
          "PC118",
          "PC119",
          "PC120",
          "PC121",
          "PC122",
          "PC123",
          "PC124",
          "PC125",
          "PC126",
          "PC127",
          "PC128",
          "PC129",
          "PC130",
          "PC131",
          "PC132",
          "PC133",
          "PC134",
          "PC135",
          "PC136",
          "PC137",
          "PC138",
          "PC139",
          "PC140",
          "PC141",
          "PC142",
          "PC143",
          "PC144",
          "PC145",
          "PC146",
          "PC147",
          "PC148",
          "PC149",
          "PC150",
          "PC151",
          "PC152",
          "PC153",
          "PC154",
          "PC155",
          "PC156",
          "PC157",
          "PC158",
          "PC159",
          "PC160",
          "PC161",
          "PC162",
          "PC163",
          "PC164",
          "PC165",
          "PC166",
          "PC167",
          "PC168",
          "PC169",
          "PC170",
          "PC171",
          "PC172",
          "PC173",
          "PC174",
          "PC175",
          "PC176",
          "PC177",
          "PC178",
          "PC179",
          "PC180",
          "PC181",
          "PC182",
          "PC183",
          "PC184"
         ],
         "y": [
          0.6692399514699424,
          0.08820173894624558,
          0.029857817512481597,
          0.028078874157380113,
          0.022053805682476373,
          0.017500077744154168,
          0.015678831619894154,
          0.014107055902515053,
          0.01215745350324186,
          0.0071100393745376425,
          0.0068438617904792625,
          0.006576262911031895,
          0.006248192423738905,
          0.005635559008426615,
          0.005463299947255434,
          0.00537659138901618,
          0.005026515259151105,
          0.004778784405731845,
          0.004686662088735467,
          0.004552746377495915,
          0.004278009120271718,
          0.003853732457317987,
          0.0036327784403081026,
          0.003447241897203155,
          0.0030087337059763724,
          0.00287222597793021,
          0.0027247173622058805,
          0.0023017050799322707,
          0.002080270315807342,
          0.0017288474447550843,
          0.001642370965748351,
          0.0016388573384089778,
          0.001460059096116289,
          0.001387651837718818,
          0.0009346266102582259,
          0.0007180881192401508,
          0.000610472471622893,
          0.000593277047157975,
          0.0005297440716295115,
          0.00034183490638590845,
          0.00028223577311315117,
          0.00022650110047730613,
          0.00011002610434601839,
          0.00007928718816216757,
          0.00007282253272047921,
          0.000059828601701862946,
          0.00004704816038601072,
          0.000039325034961824865,
          0.000023830546230855697,
          0.000020568859421283515,
          0.000017540838858100277,
          0.000012790533473817736,
          0.00001058132326696032,
          0.000008146582168753844,
          0.000006532425786022548,
          0.000004579631789233671,
          0.000003859015765326041,
          0.0000028595946203247174,
          0.000002760360509393296,
          0.0000022154389865285775,
          0.0000014558273847884072,
          9.66798930512523e-7,
          7.591410547466642e-7,
          7.058775035195169e-7,
          5.630278736883836e-7,
          4.057051264173821e-7,
          3.5188666840114585e-7,
          2.981624435868956e-7,
          2.363145955125793e-7,
          2.284150671359086e-7,
          1.7219977778645363e-7,
          1.5166392429769117e-7,
          1.3215518894671806e-7,
          1.0395047218446231e-7,
          9.27320730384432e-8,
          7.809540282148475e-8,
          6.58790215633494e-8,
          5.1755541716852016e-8,
          4.949925161139175e-8,
          4.348586269366116e-8,
          3.925479868488402e-8,
          3.136934335526367e-8,
          2.7846808400727068e-8,
          2.3774960614014372e-8,
          2.242679697508873e-8,
          2.024984858123542e-8,
          1.9162463359048986e-8,
          1.7057138144597106e-8,
          1.52757065173065e-8,
          1.382796843026571e-8,
          1.2388796453079027e-8,
          1.0530626244510124e-8,
          9.5822398780523e-9,
          8.309824226885181e-9,
          7.44996388912675e-9,
          7.073183862024322e-9,
          6.77671710421593e-9,
          6.3059314638097224e-9,
          5.3675561376687145e-9,
          5.037105517325204e-9,
          4.879694638092249e-9,
          4.735416955296092e-9,
          4.417610694852529e-9,
          3.6358743750259854e-9,
          3.4978711620375967e-9,
          3.4098276729486207e-9,
          3.243257408717167e-9,
          2.8760661782893974e-9,
          2.4020745632535758e-9,
          2.3163713217409662e-9,
          2.2134519920636275e-9,
          2.138995929615787e-9,
          2.004566124095802e-9,
          1.9422655463480154e-9,
          1.7685269145689383e-9,
          1.5936615382919236e-9,
          1.4486412667711951e-9,
          1.3317762869760495e-9,
          1.2740095240595865e-9,
          1.2265538364665845e-9,
          1.1551262529174503e-9,
          1.1053658430262164e-9,
          1.0509886803840281e-9,
          1.0462620108932412e-9,
          9.55946879960565e-10,
          8.77159492177375e-10,
          8.65688796219492e-10,
          7.881748638523259e-10,
          7.505088567623734e-10,
          6.956430469394517e-10,
          6.747195382960642e-10,
          6.098873831623114e-10,
          5.815543002706464e-10,
          5.517527873997809e-10,
          5.30127121439798e-10,
          4.767565108178073e-10,
          4.58991690801707e-10,
          4.4495541665302484e-10,
          4.21042653374684e-10,
          4.1017805694477684e-10,
          3.613546852984911e-10,
          3.54762235660261e-10,
          3.35280881767532e-10,
          3.205376186030871e-10,
          3.051580568383687e-10,
          2.7680775847812074e-10,
          2.618948360623402e-10,
          2.386681607657993e-10,
          2.2109406933181735e-10,
          2.1309793393504192e-10,
          2.0016597368322308e-10,
          1.9316981737637034e-10,
          1.8338365372873245e-10,
          1.726910434896632e-10,
          1.627379651999386e-10,
          1.5601686964876023e-10,
          1.441846536698681e-10,
          1.4013604909345203e-10,
          1.3458117368172957e-10,
          1.3210364884981747e-10,
          1.2363034098771836e-10,
          1.1918471551016277e-10,
          1.1159165814895423e-10,
          1.0882556609651216e-10,
          9.777710642022048e-11,
          9.352101354231124e-11,
          9.289747652870306e-11,
          8.780109854412641e-11,
          8.285808420752632e-11,
          7.600012498680517e-11,
          7.420120773077781e-11,
          7.096265530333974e-11,
          6.471183571873913e-11,
          5.7944741708134406e-11,
          5.579796318591613e-11,
          4.4717625368597924e-11,
          4.27235465865522e-11,
          4.131152265359635e-11,
          3.6344634230828395e-11,
          3.3253122616829585e-11,
          2.9647964071302196e-11,
          2.5970653837909227e-11,
          2.5362796917784977e-11,
          2.0176337957979093e-11
         ]
        }
       ],
       "layout": {
        "template": {
         "data": {
          "bar": [
           {
            "error_x": {
             "color": "#2a3f5f"
            },
            "error_y": {
             "color": "#2a3f5f"
            },
            "marker": {
             "line": {
              "color": "#E5ECF6",
              "width": 0.5
             },
             "pattern": {
              "fillmode": "overlay",
              "size": 10,
              "solidity": 0.2
             }
            },
            "type": "bar"
           }
          ],
          "barpolar": [
           {
            "marker": {
             "line": {
              "color": "#E5ECF6",
              "width": 0.5
             },
             "pattern": {
              "fillmode": "overlay",
              "size": 10,
              "solidity": 0.2
             }
            },
            "type": "barpolar"
           }
          ],
          "carpet": [
           {
            "aaxis": {
             "endlinecolor": "#2a3f5f",
             "gridcolor": "white",
             "linecolor": "white",
             "minorgridcolor": "white",
             "startlinecolor": "#2a3f5f"
            },
            "baxis": {
             "endlinecolor": "#2a3f5f",
             "gridcolor": "white",
             "linecolor": "white",
             "minorgridcolor": "white",
             "startlinecolor": "#2a3f5f"
            },
            "type": "carpet"
           }
          ],
          "choropleth": [
           {
            "colorbar": {
             "outlinewidth": 0,
             "ticks": ""
            },
            "type": "choropleth"
           }
          ],
          "contour": [
           {
            "colorbar": {
             "outlinewidth": 0,
             "ticks": ""
            },
            "colorscale": [
             [
              0,
              "#0d0887"
             ],
             [
              0.1111111111111111,
              "#46039f"
             ],
             [
              0.2222222222222222,
              "#7201a8"
             ],
             [
              0.3333333333333333,
              "#9c179e"
             ],
             [
              0.4444444444444444,
              "#bd3786"
             ],
             [
              0.5555555555555556,
              "#d8576b"
             ],
             [
              0.6666666666666666,
              "#ed7953"
             ],
             [
              0.7777777777777778,
              "#fb9f3a"
             ],
             [
              0.8888888888888888,
              "#fdca26"
             ],
             [
              1,
              "#f0f921"
             ]
            ],
            "type": "contour"
           }
          ],
          "contourcarpet": [
           {
            "colorbar": {
             "outlinewidth": 0,
             "ticks": ""
            },
            "type": "contourcarpet"
           }
          ],
          "heatmap": [
           {
            "colorbar": {
             "outlinewidth": 0,
             "ticks": ""
            },
            "colorscale": [
             [
              0,
              "#0d0887"
             ],
             [
              0.1111111111111111,
              "#46039f"
             ],
             [
              0.2222222222222222,
              "#7201a8"
             ],
             [
              0.3333333333333333,
              "#9c179e"
             ],
             [
              0.4444444444444444,
              "#bd3786"
             ],
             [
              0.5555555555555556,
              "#d8576b"
             ],
             [
              0.6666666666666666,
              "#ed7953"
             ],
             [
              0.7777777777777778,
              "#fb9f3a"
             ],
             [
              0.8888888888888888,
              "#fdca26"
             ],
             [
              1,
              "#f0f921"
             ]
            ],
            "type": "heatmap"
           }
          ],
          "heatmapgl": [
           {
            "colorbar": {
             "outlinewidth": 0,
             "ticks": ""
            },
            "colorscale": [
             [
              0,
              "#0d0887"
             ],
             [
              0.1111111111111111,
              "#46039f"
             ],
             [
              0.2222222222222222,
              "#7201a8"
             ],
             [
              0.3333333333333333,
              "#9c179e"
             ],
             [
              0.4444444444444444,
              "#bd3786"
             ],
             [
              0.5555555555555556,
              "#d8576b"
             ],
             [
              0.6666666666666666,
              "#ed7953"
             ],
             [
              0.7777777777777778,
              "#fb9f3a"
             ],
             [
              0.8888888888888888,
              "#fdca26"
             ],
             [
              1,
              "#f0f921"
             ]
            ],
            "type": "heatmapgl"
           }
          ],
          "histogram": [
           {
            "marker": {
             "pattern": {
              "fillmode": "overlay",
              "size": 10,
              "solidity": 0.2
             }
            },
            "type": "histogram"
           }
          ],
          "histogram2d": [
           {
            "colorbar": {
             "outlinewidth": 0,
             "ticks": ""
            },
            "colorscale": [
             [
              0,
              "#0d0887"
             ],
             [
              0.1111111111111111,
              "#46039f"
             ],
             [
              0.2222222222222222,
              "#7201a8"
             ],
             [
              0.3333333333333333,
              "#9c179e"
             ],
             [
              0.4444444444444444,
              "#bd3786"
             ],
             [
              0.5555555555555556,
              "#d8576b"
             ],
             [
              0.6666666666666666,
              "#ed7953"
             ],
             [
              0.7777777777777778,
              "#fb9f3a"
             ],
             [
              0.8888888888888888,
              "#fdca26"
             ],
             [
              1,
              "#f0f921"
             ]
            ],
            "type": "histogram2d"
           }
          ],
          "histogram2dcontour": [
           {
            "colorbar": {
             "outlinewidth": 0,
             "ticks": ""
            },
            "colorscale": [
             [
              0,
              "#0d0887"
             ],
             [
              0.1111111111111111,
              "#46039f"
             ],
             [
              0.2222222222222222,
              "#7201a8"
             ],
             [
              0.3333333333333333,
              "#9c179e"
             ],
             [
              0.4444444444444444,
              "#bd3786"
             ],
             [
              0.5555555555555556,
              "#d8576b"
             ],
             [
              0.6666666666666666,
              "#ed7953"
             ],
             [
              0.7777777777777778,
              "#fb9f3a"
             ],
             [
              0.8888888888888888,
              "#fdca26"
             ],
             [
              1,
              "#f0f921"
             ]
            ],
            "type": "histogram2dcontour"
           }
          ],
          "mesh3d": [
           {
            "colorbar": {
             "outlinewidth": 0,
             "ticks": ""
            },
            "type": "mesh3d"
           }
          ],
          "parcoords": [
           {
            "line": {
             "colorbar": {
              "outlinewidth": 0,
              "ticks": ""
             }
            },
            "type": "parcoords"
           }
          ],
          "pie": [
           {
            "automargin": true,
            "type": "pie"
           }
          ],
          "scatter": [
           {
            "fillpattern": {
             "fillmode": "overlay",
             "size": 10,
             "solidity": 0.2
            },
            "type": "scatter"
           }
          ],
          "scatter3d": [
           {
            "line": {
             "colorbar": {
              "outlinewidth": 0,
              "ticks": ""
             }
            },
            "marker": {
             "colorbar": {
              "outlinewidth": 0,
              "ticks": ""
             }
            },
            "type": "scatter3d"
           }
          ],
          "scattercarpet": [
           {
            "marker": {
             "colorbar": {
              "outlinewidth": 0,
              "ticks": ""
             }
            },
            "type": "scattercarpet"
           }
          ],
          "scattergeo": [
           {
            "marker": {
             "colorbar": {
              "outlinewidth": 0,
              "ticks": ""
             }
            },
            "type": "scattergeo"
           }
          ],
          "scattergl": [
           {
            "marker": {
             "colorbar": {
              "outlinewidth": 0,
              "ticks": ""
             }
            },
            "type": "scattergl"
           }
          ],
          "scattermapbox": [
           {
            "marker": {
             "colorbar": {
              "outlinewidth": 0,
              "ticks": ""
             }
            },
            "type": "scattermapbox"
           }
          ],
          "scatterpolar": [
           {
            "marker": {
             "colorbar": {
              "outlinewidth": 0,
              "ticks": ""
             }
            },
            "type": "scatterpolar"
           }
          ],
          "scatterpolargl": [
           {
            "marker": {
             "colorbar": {
              "outlinewidth": 0,
              "ticks": ""
             }
            },
            "type": "scatterpolargl"
           }
          ],
          "scatterternary": [
           {
            "marker": {
             "colorbar": {
              "outlinewidth": 0,
              "ticks": ""
             }
            },
            "type": "scatterternary"
           }
          ],
          "surface": [
           {
            "colorbar": {
             "outlinewidth": 0,
             "ticks": ""
            },
            "colorscale": [
             [
              0,
              "#0d0887"
             ],
             [
              0.1111111111111111,
              "#46039f"
             ],
             [
              0.2222222222222222,
              "#7201a8"
             ],
             [
              0.3333333333333333,
              "#9c179e"
             ],
             [
              0.4444444444444444,
              "#bd3786"
             ],
             [
              0.5555555555555556,
              "#d8576b"
             ],
             [
              0.6666666666666666,
              "#ed7953"
             ],
             [
              0.7777777777777778,
              "#fb9f3a"
             ],
             [
              0.8888888888888888,
              "#fdca26"
             ],
             [
              1,
              "#f0f921"
             ]
            ],
            "type": "surface"
           }
          ],
          "table": [
           {
            "cells": {
             "fill": {
              "color": "#EBF0F8"
             },
             "line": {
              "color": "white"
             }
            },
            "header": {
             "fill": {
              "color": "#C8D4E3"
             },
             "line": {
              "color": "white"
             }
            },
            "type": "table"
           }
          ]
         },
         "layout": {
          "annotationdefaults": {
           "arrowcolor": "#2a3f5f",
           "arrowhead": 0,
           "arrowwidth": 1
          },
          "autotypenumbers": "strict",
          "coloraxis": {
           "colorbar": {
            "outlinewidth": 0,
            "ticks": ""
           }
          },
          "colorscale": {
           "diverging": [
            [
             0,
             "#8e0152"
            ],
            [
             0.1,
             "#c51b7d"
            ],
            [
             0.2,
             "#de77ae"
            ],
            [
             0.3,
             "#f1b6da"
            ],
            [
             0.4,
             "#fde0ef"
            ],
            [
             0.5,
             "#f7f7f7"
            ],
            [
             0.6,
             "#e6f5d0"
            ],
            [
             0.7,
             "#b8e186"
            ],
            [
             0.8,
             "#7fbc41"
            ],
            [
             0.9,
             "#4d9221"
            ],
            [
             1,
             "#276419"
            ]
           ],
           "sequential": [
            [
             0,
             "#0d0887"
            ],
            [
             0.1111111111111111,
             "#46039f"
            ],
            [
             0.2222222222222222,
             "#7201a8"
            ],
            [
             0.3333333333333333,
             "#9c179e"
            ],
            [
             0.4444444444444444,
             "#bd3786"
            ],
            [
             0.5555555555555556,
             "#d8576b"
            ],
            [
             0.6666666666666666,
             "#ed7953"
            ],
            [
             0.7777777777777778,
             "#fb9f3a"
            ],
            [
             0.8888888888888888,
             "#fdca26"
            ],
            [
             1,
             "#f0f921"
            ]
           ],
           "sequentialminus": [
            [
             0,
             "#0d0887"
            ],
            [
             0.1111111111111111,
             "#46039f"
            ],
            [
             0.2222222222222222,
             "#7201a8"
            ],
            [
             0.3333333333333333,
             "#9c179e"
            ],
            [
             0.4444444444444444,
             "#bd3786"
            ],
            [
             0.5555555555555556,
             "#d8576b"
            ],
            [
             0.6666666666666666,
             "#ed7953"
            ],
            [
             0.7777777777777778,
             "#fb9f3a"
            ],
            [
             0.8888888888888888,
             "#fdca26"
            ],
            [
             1,
             "#f0f921"
            ]
           ]
          },
          "colorway": [
           "#636efa",
           "#EF553B",
           "#00cc96",
           "#ab63fa",
           "#FFA15A",
           "#19d3f3",
           "#FF6692",
           "#B6E880",
           "#FF97FF",
           "#FECB52"
          ],
          "font": {
           "color": "#2a3f5f"
          },
          "geo": {
           "bgcolor": "white",
           "lakecolor": "white",
           "landcolor": "#E5ECF6",
           "showlakes": true,
           "showland": true,
           "subunitcolor": "white"
          },
          "hoverlabel": {
           "align": "left"
          },
          "hovermode": "closest",
          "mapbox": {
           "style": "light"
          },
          "paper_bgcolor": "white",
          "plot_bgcolor": "#E5ECF6",
          "polar": {
           "angularaxis": {
            "gridcolor": "white",
            "linecolor": "white",
            "ticks": ""
           },
           "bgcolor": "#E5ECF6",
           "radialaxis": {
            "gridcolor": "white",
            "linecolor": "white",
            "ticks": ""
           }
          },
          "scene": {
           "xaxis": {
            "backgroundcolor": "#E5ECF6",
            "gridcolor": "white",
            "gridwidth": 2,
            "linecolor": "white",
            "showbackground": true,
            "ticks": "",
            "zerolinecolor": "white"
           },
           "yaxis": {
            "backgroundcolor": "#E5ECF6",
            "gridcolor": "white",
            "gridwidth": 2,
            "linecolor": "white",
            "showbackground": true,
            "ticks": "",
            "zerolinecolor": "white"
           },
           "zaxis": {
            "backgroundcolor": "#E5ECF6",
            "gridcolor": "white",
            "gridwidth": 2,
            "linecolor": "white",
            "showbackground": true,
            "ticks": "",
            "zerolinecolor": "white"
           }
          },
          "shapedefaults": {
           "line": {
            "color": "#2a3f5f"
           }
          },
          "ternary": {
           "aaxis": {
            "gridcolor": "white",
            "linecolor": "white",
            "ticks": ""
           },
           "baxis": {
            "gridcolor": "white",
            "linecolor": "white",
            "ticks": ""
           },
           "bgcolor": "#E5ECF6",
           "caxis": {
            "gridcolor": "white",
            "linecolor": "white",
            "ticks": ""
           }
          },
          "title": {
           "x": 0.05
          },
          "xaxis": {
           "automargin": true,
           "gridcolor": "white",
           "linecolor": "white",
           "ticks": "",
           "title": {
            "standoff": 15
           },
           "zerolinecolor": "white",
           "zerolinewidth": 2
          },
          "yaxis": {
           "automargin": true,
           "gridcolor": "white",
           "linecolor": "white",
           "ticks": "",
           "title": {
            "standoff": 15
           },
           "zerolinecolor": "white",
           "zerolinewidth": 2
          }
         }
        },
        "title": {
         "text": "Explained Variance by Each Principal Component"
        },
        "xaxis": {
         "title": {
          "text": "Principal Components"
         }
        },
        "yaxis": {
         "title": {
          "text": "Explained Variance Ratio"
         }
        }
       }
      }
     },
     "metadata": {},
     "output_type": "display_data"
    },
    {
     "data": {
      "application/vnd.plotly.v1+json": {
       "config": {
        "plotlyServerURL": "https://plot.ly"
       },
       "data": [
        {
         "marker": {
          "color": "darkred"
         },
         "type": "scatter",
         "x": [
          "PC1",
          "PC2",
          "PC3",
          "PC4",
          "PC5",
          "PC6",
          "PC7",
          "PC8",
          "PC9",
          "PC10",
          "PC11",
          "PC12",
          "PC13",
          "PC14",
          "PC15",
          "PC16",
          "PC17",
          "PC18",
          "PC19",
          "PC20",
          "PC21",
          "PC22",
          "PC23",
          "PC24",
          "PC25",
          "PC26",
          "PC27",
          "PC28",
          "PC29",
          "PC30",
          "PC31",
          "PC32",
          "PC33",
          "PC34",
          "PC35",
          "PC36",
          "PC37",
          "PC38",
          "PC39",
          "PC40",
          "PC41",
          "PC42",
          "PC43",
          "PC44",
          "PC45",
          "PC46",
          "PC47",
          "PC48",
          "PC49",
          "PC50",
          "PC51",
          "PC52",
          "PC53",
          "PC54",
          "PC55",
          "PC56",
          "PC57",
          "PC58",
          "PC59",
          "PC60",
          "PC61",
          "PC62",
          "PC63",
          "PC64",
          "PC65",
          "PC66",
          "PC67",
          "PC68",
          "PC69",
          "PC70",
          "PC71",
          "PC72",
          "PC73",
          "PC74",
          "PC75",
          "PC76",
          "PC77",
          "PC78",
          "PC79",
          "PC80",
          "PC81",
          "PC82",
          "PC83",
          "PC84",
          "PC85",
          "PC86",
          "PC87",
          "PC88",
          "PC89",
          "PC90",
          "PC91",
          "PC92",
          "PC93",
          "PC94",
          "PC95",
          "PC96",
          "PC97",
          "PC98",
          "PC99",
          "PC100",
          "PC101",
          "PC102",
          "PC103",
          "PC104",
          "PC105",
          "PC106",
          "PC107",
          "PC108",
          "PC109",
          "PC110",
          "PC111",
          "PC112",
          "PC113",
          "PC114",
          "PC115",
          "PC116",
          "PC117",
          "PC118",
          "PC119",
          "PC120",
          "PC121",
          "PC122",
          "PC123",
          "PC124",
          "PC125",
          "PC126",
          "PC127",
          "PC128",
          "PC129",
          "PC130",
          "PC131",
          "PC132",
          "PC133",
          "PC134",
          "PC135",
          "PC136",
          "PC137",
          "PC138",
          "PC139",
          "PC140",
          "PC141",
          "PC142",
          "PC143",
          "PC144",
          "PC145",
          "PC146",
          "PC147",
          "PC148",
          "PC149",
          "PC150",
          "PC151",
          "PC152",
          "PC153",
          "PC154",
          "PC155",
          "PC156",
          "PC157",
          "PC158",
          "PC159",
          "PC160",
          "PC161",
          "PC162",
          "PC163",
          "PC164",
          "PC165",
          "PC166",
          "PC167",
          "PC168",
          "PC169",
          "PC170",
          "PC171",
          "PC172",
          "PC173",
          "PC174",
          "PC175",
          "PC176",
          "PC177",
          "PC178",
          "PC179",
          "PC180",
          "PC181",
          "PC182",
          "PC183",
          "PC184"
         ],
         "y": [
          0.6692399514699424,
          0.757441690416188,
          0.7872995079286697,
          0.8153783820860497,
          0.8374321877685261,
          0.8549322655126803,
          0.8706110971325745,
          0.8847181530350895,
          0.8968756065383313,
          0.903985645912869,
          0.9108295077033483,
          0.9174057706143801,
          0.923653963038119,
          0.9292895220465456,
          0.934752821993801,
          0.9401294133828172,
          0.9451559286419683,
          0.9499347130477002,
          0.9546213751364356,
          0.9591741215139316,
          0.9634521306342033,
          0.9673058630915213,
          0.9709386415318294,
          0.9743858834290325,
          0.9773946171350089,
          0.9802668431129391,
          0.982991560475145,
          0.9852932655550773,
          0.9873735358708847,
          0.9891023833156398,
          0.9907447542813882,
          0.9923836116197972,
          0.9938436707159134,
          0.9952313225536322,
          0.9961659491638905,
          0.9968840372831306,
          0.9974945097547535,
          0.9980877868019115,
          0.998617530873541,
          0.9989593657799269,
          0.9992416015530401,
          0.9994681026535174,
          0.9995781287578634,
          0.9996574159460256,
          0.9997302384787461,
          0.9997900670804479,
          0.999837115240834,
          0.9998764402757958,
          0.9999002708220267,
          0.999920839681448,
          0.999938380520306,
          0.9999511710537798,
          0.9999617523770468,
          0.9999698989592155,
          0.9999764313850016,
          0.9999810110167908,
          0.9999848700325561,
          0.9999877296271764,
          0.9999904899876858,
          0.9999927054266723,
          0.999994161254057,
          0.9999951280529875,
          0.9999958871940423,
          0.9999965930715459,
          0.9999971560994195,
          0.9999975618045459,
          0.9999979136912143,
          0.9999982118536579,
          0.9999984481682535,
          0.9999986765833205,
          0.9999988487830983,
          0.9999990004470226,
          0.9999991326022115,
          0.9999992365526837,
          0.9999993292847568,
          0.9999994073801596,
          0.9999994732591811,
          0.9999995250147229,
          0.9999995745139745,
          0.9999996179998372,
          0.9999996572546358,
          0.9999996886239791,
          0.9999997164707876,
          0.9999997402457482,
          0.9999997626725452,
          0.9999997829223938,
          0.9999998020848572,
          0.9999998191419953,
          0.9999998344177018,
          0.9999998482456702,
          0.9999998606344667,
          0.9999998711650929,
          0.9999998807473328,
          0.9999998890571571,
          0.999999896507121,
          0.9999999035803048,
          0.9999999103570218,
          0.9999999166629533,
          0.9999999220305095,
          0.999999927067615,
          0.9999999319473096,
          0.9999999366827266,
          0.9999999411003373,
          0.9999999447362117,
          0.9999999482340829,
          0.9999999516439105,
          0.999999954887168,
          0.9999999577632341,
          0.9999999601653087,
          0.99999996248168,
          0.999999964695132,
          0.999999966834128,
          0.999999968838694,
          0.9999999707809596,
          0.9999999725494865,
          0.999999974143148,
          0.9999999755917893,
          0.9999999769235656,
          0.9999999781975751,
          0.999999979424129,
          0.9999999805792552,
          0.999999981684621,
          0.9999999827356096,
          0.9999999837818716,
          0.9999999847378185,
          0.9999999856149779,
          0.9999999864806667,
          0.9999999872688415,
          0.9999999880193504,
          0.9999999887149935,
          0.999999989389713,
          0.9999999899996004,
          0.9999999905811546,
          0.9999999911329074,
          0.9999999916630345,
          0.9999999921397911,
          0.9999999925987828,
          0.9999999930437382,
          0.9999999934647809,
          0.9999999938749589,
          0.9999999942363136,
          0.9999999945910758,
          0.9999999949263567,
          0.9999999952468943,
          0.9999999955520523,
          0.9999999958288601,
          0.999999996090755,
          0.9999999963294232,
          0.9999999965505172,
          0.9999999967636152,
          0.9999999969637812,
          0.999999997156951,
          0.9999999973403346,
          0.9999999975130257,
          0.9999999976757636,
          0.9999999978317805,
          0.9999999979759652,
          0.9999999981161012,
          0.9999999982506823,
          0.999999998382786,
          0.9999999985064163,
          0.999999998625601,
          0.9999999987371926,
          0.9999999988460182,
          0.9999999989437953,
          0.9999999990373163,
          0.9999999991302138,
          0.9999999992180149,
          0.9999999993008729,
          0.999999999376873,
          0.9999999994510742,
          0.9999999995220369,
          0.9999999995867487,
          0.9999999996446934,
          0.9999999997004914,
          0.999999999745209,
          0.9999999997879325,
          0.999999999829244,
          0.9999999998655886,
          0.9999999998988418,
          0.9999999999284898,
          0.9999999999544604,
          0.9999999999798233,
          0.9999999999999996
         ]
        }
       ],
       "layout": {
        "template": {
         "data": {
          "bar": [
           {
            "error_x": {
             "color": "#2a3f5f"
            },
            "error_y": {
             "color": "#2a3f5f"
            },
            "marker": {
             "line": {
              "color": "#E5ECF6",
              "width": 0.5
             },
             "pattern": {
              "fillmode": "overlay",
              "size": 10,
              "solidity": 0.2
             }
            },
            "type": "bar"
           }
          ],
          "barpolar": [
           {
            "marker": {
             "line": {
              "color": "#E5ECF6",
              "width": 0.5
             },
             "pattern": {
              "fillmode": "overlay",
              "size": 10,
              "solidity": 0.2
             }
            },
            "type": "barpolar"
           }
          ],
          "carpet": [
           {
            "aaxis": {
             "endlinecolor": "#2a3f5f",
             "gridcolor": "white",
             "linecolor": "white",
             "minorgridcolor": "white",
             "startlinecolor": "#2a3f5f"
            },
            "baxis": {
             "endlinecolor": "#2a3f5f",
             "gridcolor": "white",
             "linecolor": "white",
             "minorgridcolor": "white",
             "startlinecolor": "#2a3f5f"
            },
            "type": "carpet"
           }
          ],
          "choropleth": [
           {
            "colorbar": {
             "outlinewidth": 0,
             "ticks": ""
            },
            "type": "choropleth"
           }
          ],
          "contour": [
           {
            "colorbar": {
             "outlinewidth": 0,
             "ticks": ""
            },
            "colorscale": [
             [
              0,
              "#0d0887"
             ],
             [
              0.1111111111111111,
              "#46039f"
             ],
             [
              0.2222222222222222,
              "#7201a8"
             ],
             [
              0.3333333333333333,
              "#9c179e"
             ],
             [
              0.4444444444444444,
              "#bd3786"
             ],
             [
              0.5555555555555556,
              "#d8576b"
             ],
             [
              0.6666666666666666,
              "#ed7953"
             ],
             [
              0.7777777777777778,
              "#fb9f3a"
             ],
             [
              0.8888888888888888,
              "#fdca26"
             ],
             [
              1,
              "#f0f921"
             ]
            ],
            "type": "contour"
           }
          ],
          "contourcarpet": [
           {
            "colorbar": {
             "outlinewidth": 0,
             "ticks": ""
            },
            "type": "contourcarpet"
           }
          ],
          "heatmap": [
           {
            "colorbar": {
             "outlinewidth": 0,
             "ticks": ""
            },
            "colorscale": [
             [
              0,
              "#0d0887"
             ],
             [
              0.1111111111111111,
              "#46039f"
             ],
             [
              0.2222222222222222,
              "#7201a8"
             ],
             [
              0.3333333333333333,
              "#9c179e"
             ],
             [
              0.4444444444444444,
              "#bd3786"
             ],
             [
              0.5555555555555556,
              "#d8576b"
             ],
             [
              0.6666666666666666,
              "#ed7953"
             ],
             [
              0.7777777777777778,
              "#fb9f3a"
             ],
             [
              0.8888888888888888,
              "#fdca26"
             ],
             [
              1,
              "#f0f921"
             ]
            ],
            "type": "heatmap"
           }
          ],
          "heatmapgl": [
           {
            "colorbar": {
             "outlinewidth": 0,
             "ticks": ""
            },
            "colorscale": [
             [
              0,
              "#0d0887"
             ],
             [
              0.1111111111111111,
              "#46039f"
             ],
             [
              0.2222222222222222,
              "#7201a8"
             ],
             [
              0.3333333333333333,
              "#9c179e"
             ],
             [
              0.4444444444444444,
              "#bd3786"
             ],
             [
              0.5555555555555556,
              "#d8576b"
             ],
             [
              0.6666666666666666,
              "#ed7953"
             ],
             [
              0.7777777777777778,
              "#fb9f3a"
             ],
             [
              0.8888888888888888,
              "#fdca26"
             ],
             [
              1,
              "#f0f921"
             ]
            ],
            "type": "heatmapgl"
           }
          ],
          "histogram": [
           {
            "marker": {
             "pattern": {
              "fillmode": "overlay",
              "size": 10,
              "solidity": 0.2
             }
            },
            "type": "histogram"
           }
          ],
          "histogram2d": [
           {
            "colorbar": {
             "outlinewidth": 0,
             "ticks": ""
            },
            "colorscale": [
             [
              0,
              "#0d0887"
             ],
             [
              0.1111111111111111,
              "#46039f"
             ],
             [
              0.2222222222222222,
              "#7201a8"
             ],
             [
              0.3333333333333333,
              "#9c179e"
             ],
             [
              0.4444444444444444,
              "#bd3786"
             ],
             [
              0.5555555555555556,
              "#d8576b"
             ],
             [
              0.6666666666666666,
              "#ed7953"
             ],
             [
              0.7777777777777778,
              "#fb9f3a"
             ],
             [
              0.8888888888888888,
              "#fdca26"
             ],
             [
              1,
              "#f0f921"
             ]
            ],
            "type": "histogram2d"
           }
          ],
          "histogram2dcontour": [
           {
            "colorbar": {
             "outlinewidth": 0,
             "ticks": ""
            },
            "colorscale": [
             [
              0,
              "#0d0887"
             ],
             [
              0.1111111111111111,
              "#46039f"
             ],
             [
              0.2222222222222222,
              "#7201a8"
             ],
             [
              0.3333333333333333,
              "#9c179e"
             ],
             [
              0.4444444444444444,
              "#bd3786"
             ],
             [
              0.5555555555555556,
              "#d8576b"
             ],
             [
              0.6666666666666666,
              "#ed7953"
             ],
             [
              0.7777777777777778,
              "#fb9f3a"
             ],
             [
              0.8888888888888888,
              "#fdca26"
             ],
             [
              1,
              "#f0f921"
             ]
            ],
            "type": "histogram2dcontour"
           }
          ],
          "mesh3d": [
           {
            "colorbar": {
             "outlinewidth": 0,
             "ticks": ""
            },
            "type": "mesh3d"
           }
          ],
          "parcoords": [
           {
            "line": {
             "colorbar": {
              "outlinewidth": 0,
              "ticks": ""
             }
            },
            "type": "parcoords"
           }
          ],
          "pie": [
           {
            "automargin": true,
            "type": "pie"
           }
          ],
          "scatter": [
           {
            "fillpattern": {
             "fillmode": "overlay",
             "size": 10,
             "solidity": 0.2
            },
            "type": "scatter"
           }
          ],
          "scatter3d": [
           {
            "line": {
             "colorbar": {
              "outlinewidth": 0,
              "ticks": ""
             }
            },
            "marker": {
             "colorbar": {
              "outlinewidth": 0,
              "ticks": ""
             }
            },
            "type": "scatter3d"
           }
          ],
          "scattercarpet": [
           {
            "marker": {
             "colorbar": {
              "outlinewidth": 0,
              "ticks": ""
             }
            },
            "type": "scattercarpet"
           }
          ],
          "scattergeo": [
           {
            "marker": {
             "colorbar": {
              "outlinewidth": 0,
              "ticks": ""
             }
            },
            "type": "scattergeo"
           }
          ],
          "scattergl": [
           {
            "marker": {
             "colorbar": {
              "outlinewidth": 0,
              "ticks": ""
             }
            },
            "type": "scattergl"
           }
          ],
          "scattermapbox": [
           {
            "marker": {
             "colorbar": {
              "outlinewidth": 0,
              "ticks": ""
             }
            },
            "type": "scattermapbox"
           }
          ],
          "scatterpolar": [
           {
            "marker": {
             "colorbar": {
              "outlinewidth": 0,
              "ticks": ""
             }
            },
            "type": "scatterpolar"
           }
          ],
          "scatterpolargl": [
           {
            "marker": {
             "colorbar": {
              "outlinewidth": 0,
              "ticks": ""
             }
            },
            "type": "scatterpolargl"
           }
          ],
          "scatterternary": [
           {
            "marker": {
             "colorbar": {
              "outlinewidth": 0,
              "ticks": ""
             }
            },
            "type": "scatterternary"
           }
          ],
          "surface": [
           {
            "colorbar": {
             "outlinewidth": 0,
             "ticks": ""
            },
            "colorscale": [
             [
              0,
              "#0d0887"
             ],
             [
              0.1111111111111111,
              "#46039f"
             ],
             [
              0.2222222222222222,
              "#7201a8"
             ],
             [
              0.3333333333333333,
              "#9c179e"
             ],
             [
              0.4444444444444444,
              "#bd3786"
             ],
             [
              0.5555555555555556,
              "#d8576b"
             ],
             [
              0.6666666666666666,
              "#ed7953"
             ],
             [
              0.7777777777777778,
              "#fb9f3a"
             ],
             [
              0.8888888888888888,
              "#fdca26"
             ],
             [
              1,
              "#f0f921"
             ]
            ],
            "type": "surface"
           }
          ],
          "table": [
           {
            "cells": {
             "fill": {
              "color": "#EBF0F8"
             },
             "line": {
              "color": "white"
             }
            },
            "header": {
             "fill": {
              "color": "#C8D4E3"
             },
             "line": {
              "color": "white"
             }
            },
            "type": "table"
           }
          ]
         },
         "layout": {
          "annotationdefaults": {
           "arrowcolor": "#2a3f5f",
           "arrowhead": 0,
           "arrowwidth": 1
          },
          "autotypenumbers": "strict",
          "coloraxis": {
           "colorbar": {
            "outlinewidth": 0,
            "ticks": ""
           }
          },
          "colorscale": {
           "diverging": [
            [
             0,
             "#8e0152"
            ],
            [
             0.1,
             "#c51b7d"
            ],
            [
             0.2,
             "#de77ae"
            ],
            [
             0.3,
             "#f1b6da"
            ],
            [
             0.4,
             "#fde0ef"
            ],
            [
             0.5,
             "#f7f7f7"
            ],
            [
             0.6,
             "#e6f5d0"
            ],
            [
             0.7,
             "#b8e186"
            ],
            [
             0.8,
             "#7fbc41"
            ],
            [
             0.9,
             "#4d9221"
            ],
            [
             1,
             "#276419"
            ]
           ],
           "sequential": [
            [
             0,
             "#0d0887"
            ],
            [
             0.1111111111111111,
             "#46039f"
            ],
            [
             0.2222222222222222,
             "#7201a8"
            ],
            [
             0.3333333333333333,
             "#9c179e"
            ],
            [
             0.4444444444444444,
             "#bd3786"
            ],
            [
             0.5555555555555556,
             "#d8576b"
            ],
            [
             0.6666666666666666,
             "#ed7953"
            ],
            [
             0.7777777777777778,
             "#fb9f3a"
            ],
            [
             0.8888888888888888,
             "#fdca26"
            ],
            [
             1,
             "#f0f921"
            ]
           ],
           "sequentialminus": [
            [
             0,
             "#0d0887"
            ],
            [
             0.1111111111111111,
             "#46039f"
            ],
            [
             0.2222222222222222,
             "#7201a8"
            ],
            [
             0.3333333333333333,
             "#9c179e"
            ],
            [
             0.4444444444444444,
             "#bd3786"
            ],
            [
             0.5555555555555556,
             "#d8576b"
            ],
            [
             0.6666666666666666,
             "#ed7953"
            ],
            [
             0.7777777777777778,
             "#fb9f3a"
            ],
            [
             0.8888888888888888,
             "#fdca26"
            ],
            [
             1,
             "#f0f921"
            ]
           ]
          },
          "colorway": [
           "#636efa",
           "#EF553B",
           "#00cc96",
           "#ab63fa",
           "#FFA15A",
           "#19d3f3",
           "#FF6692",
           "#B6E880",
           "#FF97FF",
           "#FECB52"
          ],
          "font": {
           "color": "#2a3f5f"
          },
          "geo": {
           "bgcolor": "white",
           "lakecolor": "white",
           "landcolor": "#E5ECF6",
           "showlakes": true,
           "showland": true,
           "subunitcolor": "white"
          },
          "hoverlabel": {
           "align": "left"
          },
          "hovermode": "closest",
          "mapbox": {
           "style": "light"
          },
          "paper_bgcolor": "white",
          "plot_bgcolor": "#E5ECF6",
          "polar": {
           "angularaxis": {
            "gridcolor": "white",
            "linecolor": "white",
            "ticks": ""
           },
           "bgcolor": "#E5ECF6",
           "radialaxis": {
            "gridcolor": "white",
            "linecolor": "white",
            "ticks": ""
           }
          },
          "scene": {
           "xaxis": {
            "backgroundcolor": "#E5ECF6",
            "gridcolor": "white",
            "gridwidth": 2,
            "linecolor": "white",
            "showbackground": true,
            "ticks": "",
            "zerolinecolor": "white"
           },
           "yaxis": {
            "backgroundcolor": "#E5ECF6",
            "gridcolor": "white",
            "gridwidth": 2,
            "linecolor": "white",
            "showbackground": true,
            "ticks": "",
            "zerolinecolor": "white"
           },
           "zaxis": {
            "backgroundcolor": "#E5ECF6",
            "gridcolor": "white",
            "gridwidth": 2,
            "linecolor": "white",
            "showbackground": true,
            "ticks": "",
            "zerolinecolor": "white"
           }
          },
          "shapedefaults": {
           "line": {
            "color": "#2a3f5f"
           }
          },
          "ternary": {
           "aaxis": {
            "gridcolor": "white",
            "linecolor": "white",
            "ticks": ""
           },
           "baxis": {
            "gridcolor": "white",
            "linecolor": "white",
            "ticks": ""
           },
           "bgcolor": "#E5ECF6",
           "caxis": {
            "gridcolor": "white",
            "linecolor": "white",
            "ticks": ""
           }
          },
          "title": {
           "x": 0.05
          },
          "xaxis": {
           "automargin": true,
           "gridcolor": "white",
           "linecolor": "white",
           "ticks": "",
           "title": {
            "standoff": 15
           },
           "zerolinecolor": "white",
           "zerolinewidth": 2
          },
          "yaxis": {
           "automargin": true,
           "gridcolor": "white",
           "linecolor": "white",
           "ticks": "",
           "title": {
            "standoff": 15
           },
           "zerolinecolor": "white",
           "zerolinewidth": 2
          }
         }
        },
        "title": {
         "text": "Cumulative Explained Variance by Principal Components"
        },
        "xaxis": {
         "title": {
          "text": "Principal Components"
         }
        },
        "yaxis": {
         "title": {
          "text": "Cumulative Explained Variance Ratio"
         }
        }
       }
      }
     },
     "metadata": {},
     "output_type": "display_data"
    },
    {
     "name": "stdout",
     "output_type": "stream",
     "text": [
      "Total explained variance by the first 184 principal components: 1.00\n"
     ]
    },
    {
     "data": {
      "application/vnd.plotly.v1+json": {
       "config": {
        "plotlyServerURL": "https://plot.ly"
       },
       "data": [
        {
         "marker": {
          "color": "darkblue"
         },
         "type": "bar",
         "x": [
          "edges",
          "cc_length_(um)",
          "cc_vol_from_img_(um3)",
          "node_degree_3",
          "vol_cc_y",
          "nodes",
          "pathLength",
          "node_degree_4",
          "Dim 91",
          "Dim 75",
          "order",
          "Dim 73",
          "Dim 112",
          "Dim 82",
          "node_degree_1",
          "Dim 105",
          "matching_index",
          "Dim 74",
          "Dim 108",
          "Dim 22",
          "Dim 87",
          "branches",
          "node_degree_5",
          "Dim 114",
          "Dim 103",
          "Dim 58",
          "Dim 25",
          "Dim 28",
          "Dim 59",
          "Dim 7",
          "Dim 53",
          "node_degree_6",
          "Dim 84",
          "Dim 85",
          "Dim 9",
          "Dim 20",
          "Dim 96",
          "Dim 104",
          "Dim 83",
          "Dim 119",
          "Dim 56",
          "Dim 23",
          "Dim 48",
          "Dim 47",
          "clustering coefficient",
          "Dim 92",
          "node_degree_7",
          "Dim 93",
          "Dim 3",
          "Dim 34",
          "avg_PK_Of_element_y",
          "Dim 71",
          "Dim 16",
          "Dim 8",
          "Dim 90",
          "Dim 106",
          "Dim 89",
          "Dim 100",
          "Dim 30",
          "Dim 68",
          "Dim 98",
          "Dim 66",
          "Dim 102",
          "density",
          "Dim 101",
          "Dim 111",
          "Dim 2",
          "Dim 65",
          "Dim 116",
          "Dim 97",
          "Dim 77",
          "Dim 61",
          "Dim 81",
          "Dim 127",
          "cc_center_x",
          "Dim 19",
          "Dim 78",
          "Dim 57",
          "Dim 115",
          "Dim 42",
          "Dim 38",
          "Dim 80",
          "Dim 117",
          "Dim 123",
          "Dim 55",
          "Dim 128",
          "Dim 26",
          "Dim 62",
          "Dim 14",
          "Dim 63",
          "Dim 50",
          "Dim 122",
          "Dim 125",
          "Dim 120",
          "Dim 86",
          "Dim 41",
          "Dim 21",
          "cc_max_PK",
          "Dim 10",
          "Dim 79",
          "Dim 12",
          "Dim 44",
          "Dim 124",
          "Dim 40",
          "element_length_(um)",
          "node_degree_8",
          "Dim 32",
          "Dim 39",
          "Dim 110",
          "Dim 121",
          "Dim 113",
          "node_degree_9",
          "Dim 118",
          "Dim 54",
          "Dim 36",
          "Dim 13",
          "Dim 52",
          "Dim 49",
          "Dim 45",
          "Dim 88",
          "Dim 24",
          "Dim 35",
          "Dim 107",
          "Dim 33",
          "Dim 37",
          "Dim 4",
          "cc_pixel_intensity_555",
          "node_y",
          "Dim 11",
          "Dim 29",
          "Dim 64",
          "Dim 69",
          "element_average_width",
          "Dim 99",
          "Dim 126",
          "Dim 31",
          "Dim 5",
          "z_x",
          "Dim 27",
          "Dim 60",
          "node_degree_0",
          "Dim 46",
          "Dim 6",
          "Dim 95",
          "Dim 94",
          "diameter",
          "Dim 72",
          "Dim 15",
          "Dim 51",
          "Dim 43",
          "z_pixel",
          "Dim 76",
          "point_id",
          "cc_center_y",
          "Dim 70",
          "Dim 109",
          "center_z",
          "Dim 18",
          "Dim 17",
          "node_degree_11",
          "pixel_intensity_555",
          "node_degree_10",
          "width_(um)",
          "Dim 67",
          "coeff_of_variance_cc",
          "element_Volume_Voxel",
          "y_pixel",
          "line_id",
          "y_x",
          "coeff_of_variance_line_id",
          "center_y",
          "folder_name_y",
          "distance_to_center",
          "distance",
          "Dim 1",
          "element_pixel_intensity_405_488_ratio",
          "x_x",
          "x_pixel",
          "cc_center_z",
          "node_degree_2",
          "center_x",
          "element_connectivity_y",
          "degree_y",
          "cc_average_degree_excludeFreeEnds"
         ],
         "y": [
          0.5434782608695932,
          0.5434782608695797,
          0.5434782608695791,
          0.543478260869579,
          0.5434782608695778,
          0.5434782608695768,
          0.5434782608695762,
          0.5434782608695754,
          0.5434782608695747,
          0.5434782608695747,
          0.5434782608695744,
          0.5434782608695744,
          0.5434782608695742,
          0.5434782608695737,
          0.5434782608695736,
          0.5434782608695735,
          0.5434782608695735,
          0.5434782608695735,
          0.5434782608695732,
          0.5434782608695728,
          0.5434782608695728,
          0.5434782608695727,
          0.5434782608695726,
          0.5434782608695725,
          0.5434782608695725,
          0.5434782608695722,
          0.5434782608695722,
          0.5434782608695721,
          0.543478260869572,
          0.5434782608695717,
          0.5434782608695717,
          0.5434782608695714,
          0.5434782608695713,
          0.5434782608695703,
          0.5434782608695693,
          0.5434782608695692,
          0.5434782608695691,
          0.543478260869569,
          0.543478260869569,
          0.5434782608695689,
          0.5434782608695689,
          0.5434782608695686,
          0.5434782608695685,
          0.5434782608695684,
          0.543478260869568,
          0.543478260869568,
          0.5434782608695679,
          0.5434782608695679,
          0.5434782608695674,
          0.5434782608695674,
          0.543478260869567,
          0.5434782608695669,
          0.5434782608695667,
          0.5434782608695667,
          0.5434782608695666,
          0.5434782608695665,
          0.5434782608695664,
          0.5434782608695664,
          0.5434782608695663,
          0.5434782608695662,
          0.543478260869566,
          0.543478260869566,
          0.5434782608695659,
          0.5434782608695656,
          0.5434782608695656,
          0.5434782608695655,
          0.5434782608695655,
          0.5434782608695655,
          0.5434782608695654,
          0.5434782608695654,
          0.5434782608695653,
          0.5434782608695652,
          0.5434782608695651,
          0.5434782608695651,
          0.543478260869565,
          0.5434782608695649,
          0.5434782608695647,
          0.5434782608695646,
          0.5434782608695646,
          0.5434782608695646,
          0.5434782608695646,
          0.5434782608695642,
          0.5434782608695641,
          0.543478260869564,
          0.5434782608695639,
          0.5434782608695639,
          0.5434782608695637,
          0.5434782608695635,
          0.5434782608695634,
          0.5434782608695634,
          0.5434782608695634,
          0.5434782608695634,
          0.5434782608695634,
          0.5434782608695633,
          0.5434782608695632,
          0.5434782608695632,
          0.5434782608695632,
          0.5434782608695631,
          0.5434782608695631,
          0.5434782608695631,
          0.5434782608695631,
          0.5434782608695631,
          0.543478260869563,
          0.543478260869563,
          0.543478260869563,
          0.543478260869563,
          0.543478260869563,
          0.5434782608695629,
          0.5434782608695629,
          0.5434782608695629,
          0.5434782608695627,
          0.5434782608695627,
          0.5434782608695627,
          0.5434782608695627,
          0.5434782608695627,
          0.5434782608695626,
          0.5434782608695626,
          0.5434782608695626,
          0.5434782608695626,
          0.5434782608695626,
          0.5434782608695626,
          0.5434782608695626,
          0.5434782608695625,
          0.5434782608695625,
          0.5434782608695625,
          0.5434782608695624,
          0.5434782608695624,
          0.5434782608695624,
          0.5434782608695623,
          0.5434782608695623,
          0.5434782608695623,
          0.5434782608695623,
          0.5434782608695622,
          0.5434782608695622,
          0.5434782608695622,
          0.5434782608695622,
          0.5434782608695622,
          0.5434782608695621,
          0.5434782608695621,
          0.5434782608695621,
          0.5434782608695621,
          0.5434782608695621,
          0.5434782608695621,
          0.543478260869562,
          0.5434782608695619,
          0.5434782608695619,
          0.5434782608695619,
          0.5434782608695619,
          0.5434782608695619,
          0.5434782608695619,
          0.5434782608695617,
          0.5434782608695617,
          0.5434782608695617,
          0.5434782608695616,
          0.5434782608695616,
          0.5434782608695615,
          0.5434782608695615,
          0.5434782608695615,
          0.5434782608695615,
          0.5434782608695615,
          0.5434782608695614,
          0.5434782608695614,
          0.5434782608695613,
          0.5434782608695612,
          0.5434782608695612,
          0.5434782608695611,
          0.5434782608695609,
          0.5434782608695609,
          0.5434782608695609,
          0.5434782608695607,
          0.5434782608695606,
          0.5434782608695604,
          0.5434782608695604,
          0.5434782608695601,
          0.5434782608695591,
          0.5434782608695586,
          0.5434782608695585,
          0.5434782608695582,
          0.543478260869558,
          0.5434782608695579,
          0.5434782608695563,
          0.5434782608695548,
          0.5434782608695523,
          0.5434782608695508
         ]
        }
       ],
       "layout": {
        "template": {
         "data": {
          "bar": [
           {
            "error_x": {
             "color": "#2a3f5f"
            },
            "error_y": {
             "color": "#2a3f5f"
            },
            "marker": {
             "line": {
              "color": "#E5ECF6",
              "width": 0.5
             },
             "pattern": {
              "fillmode": "overlay",
              "size": 10,
              "solidity": 0.2
             }
            },
            "type": "bar"
           }
          ],
          "barpolar": [
           {
            "marker": {
             "line": {
              "color": "#E5ECF6",
              "width": 0.5
             },
             "pattern": {
              "fillmode": "overlay",
              "size": 10,
              "solidity": 0.2
             }
            },
            "type": "barpolar"
           }
          ],
          "carpet": [
           {
            "aaxis": {
             "endlinecolor": "#2a3f5f",
             "gridcolor": "white",
             "linecolor": "white",
             "minorgridcolor": "white",
             "startlinecolor": "#2a3f5f"
            },
            "baxis": {
             "endlinecolor": "#2a3f5f",
             "gridcolor": "white",
             "linecolor": "white",
             "minorgridcolor": "white",
             "startlinecolor": "#2a3f5f"
            },
            "type": "carpet"
           }
          ],
          "choropleth": [
           {
            "colorbar": {
             "outlinewidth": 0,
             "ticks": ""
            },
            "type": "choropleth"
           }
          ],
          "contour": [
           {
            "colorbar": {
             "outlinewidth": 0,
             "ticks": ""
            },
            "colorscale": [
             [
              0,
              "#0d0887"
             ],
             [
              0.1111111111111111,
              "#46039f"
             ],
             [
              0.2222222222222222,
              "#7201a8"
             ],
             [
              0.3333333333333333,
              "#9c179e"
             ],
             [
              0.4444444444444444,
              "#bd3786"
             ],
             [
              0.5555555555555556,
              "#d8576b"
             ],
             [
              0.6666666666666666,
              "#ed7953"
             ],
             [
              0.7777777777777778,
              "#fb9f3a"
             ],
             [
              0.8888888888888888,
              "#fdca26"
             ],
             [
              1,
              "#f0f921"
             ]
            ],
            "type": "contour"
           }
          ],
          "contourcarpet": [
           {
            "colorbar": {
             "outlinewidth": 0,
             "ticks": ""
            },
            "type": "contourcarpet"
           }
          ],
          "heatmap": [
           {
            "colorbar": {
             "outlinewidth": 0,
             "ticks": ""
            },
            "colorscale": [
             [
              0,
              "#0d0887"
             ],
             [
              0.1111111111111111,
              "#46039f"
             ],
             [
              0.2222222222222222,
              "#7201a8"
             ],
             [
              0.3333333333333333,
              "#9c179e"
             ],
             [
              0.4444444444444444,
              "#bd3786"
             ],
             [
              0.5555555555555556,
              "#d8576b"
             ],
             [
              0.6666666666666666,
              "#ed7953"
             ],
             [
              0.7777777777777778,
              "#fb9f3a"
             ],
             [
              0.8888888888888888,
              "#fdca26"
             ],
             [
              1,
              "#f0f921"
             ]
            ],
            "type": "heatmap"
           }
          ],
          "heatmapgl": [
           {
            "colorbar": {
             "outlinewidth": 0,
             "ticks": ""
            },
            "colorscale": [
             [
              0,
              "#0d0887"
             ],
             [
              0.1111111111111111,
              "#46039f"
             ],
             [
              0.2222222222222222,
              "#7201a8"
             ],
             [
              0.3333333333333333,
              "#9c179e"
             ],
             [
              0.4444444444444444,
              "#bd3786"
             ],
             [
              0.5555555555555556,
              "#d8576b"
             ],
             [
              0.6666666666666666,
              "#ed7953"
             ],
             [
              0.7777777777777778,
              "#fb9f3a"
             ],
             [
              0.8888888888888888,
              "#fdca26"
             ],
             [
              1,
              "#f0f921"
             ]
            ],
            "type": "heatmapgl"
           }
          ],
          "histogram": [
           {
            "marker": {
             "pattern": {
              "fillmode": "overlay",
              "size": 10,
              "solidity": 0.2
             }
            },
            "type": "histogram"
           }
          ],
          "histogram2d": [
           {
            "colorbar": {
             "outlinewidth": 0,
             "ticks": ""
            },
            "colorscale": [
             [
              0,
              "#0d0887"
             ],
             [
              0.1111111111111111,
              "#46039f"
             ],
             [
              0.2222222222222222,
              "#7201a8"
             ],
             [
              0.3333333333333333,
              "#9c179e"
             ],
             [
              0.4444444444444444,
              "#bd3786"
             ],
             [
              0.5555555555555556,
              "#d8576b"
             ],
             [
              0.6666666666666666,
              "#ed7953"
             ],
             [
              0.7777777777777778,
              "#fb9f3a"
             ],
             [
              0.8888888888888888,
              "#fdca26"
             ],
             [
              1,
              "#f0f921"
             ]
            ],
            "type": "histogram2d"
           }
          ],
          "histogram2dcontour": [
           {
            "colorbar": {
             "outlinewidth": 0,
             "ticks": ""
            },
            "colorscale": [
             [
              0,
              "#0d0887"
             ],
             [
              0.1111111111111111,
              "#46039f"
             ],
             [
              0.2222222222222222,
              "#7201a8"
             ],
             [
              0.3333333333333333,
              "#9c179e"
             ],
             [
              0.4444444444444444,
              "#bd3786"
             ],
             [
              0.5555555555555556,
              "#d8576b"
             ],
             [
              0.6666666666666666,
              "#ed7953"
             ],
             [
              0.7777777777777778,
              "#fb9f3a"
             ],
             [
              0.8888888888888888,
              "#fdca26"
             ],
             [
              1,
              "#f0f921"
             ]
            ],
            "type": "histogram2dcontour"
           }
          ],
          "mesh3d": [
           {
            "colorbar": {
             "outlinewidth": 0,
             "ticks": ""
            },
            "type": "mesh3d"
           }
          ],
          "parcoords": [
           {
            "line": {
             "colorbar": {
              "outlinewidth": 0,
              "ticks": ""
             }
            },
            "type": "parcoords"
           }
          ],
          "pie": [
           {
            "automargin": true,
            "type": "pie"
           }
          ],
          "scatter": [
           {
            "fillpattern": {
             "fillmode": "overlay",
             "size": 10,
             "solidity": 0.2
            },
            "type": "scatter"
           }
          ],
          "scatter3d": [
           {
            "line": {
             "colorbar": {
              "outlinewidth": 0,
              "ticks": ""
             }
            },
            "marker": {
             "colorbar": {
              "outlinewidth": 0,
              "ticks": ""
             }
            },
            "type": "scatter3d"
           }
          ],
          "scattercarpet": [
           {
            "marker": {
             "colorbar": {
              "outlinewidth": 0,
              "ticks": ""
             }
            },
            "type": "scattercarpet"
           }
          ],
          "scattergeo": [
           {
            "marker": {
             "colorbar": {
              "outlinewidth": 0,
              "ticks": ""
             }
            },
            "type": "scattergeo"
           }
          ],
          "scattergl": [
           {
            "marker": {
             "colorbar": {
              "outlinewidth": 0,
              "ticks": ""
             }
            },
            "type": "scattergl"
           }
          ],
          "scattermapbox": [
           {
            "marker": {
             "colorbar": {
              "outlinewidth": 0,
              "ticks": ""
             }
            },
            "type": "scattermapbox"
           }
          ],
          "scatterpolar": [
           {
            "marker": {
             "colorbar": {
              "outlinewidth": 0,
              "ticks": ""
             }
            },
            "type": "scatterpolar"
           }
          ],
          "scatterpolargl": [
           {
            "marker": {
             "colorbar": {
              "outlinewidth": 0,
              "ticks": ""
             }
            },
            "type": "scatterpolargl"
           }
          ],
          "scatterternary": [
           {
            "marker": {
             "colorbar": {
              "outlinewidth": 0,
              "ticks": ""
             }
            },
            "type": "scatterternary"
           }
          ],
          "surface": [
           {
            "colorbar": {
             "outlinewidth": 0,
             "ticks": ""
            },
            "colorscale": [
             [
              0,
              "#0d0887"
             ],
             [
              0.1111111111111111,
              "#46039f"
             ],
             [
              0.2222222222222222,
              "#7201a8"
             ],
             [
              0.3333333333333333,
              "#9c179e"
             ],
             [
              0.4444444444444444,
              "#bd3786"
             ],
             [
              0.5555555555555556,
              "#d8576b"
             ],
             [
              0.6666666666666666,
              "#ed7953"
             ],
             [
              0.7777777777777778,
              "#fb9f3a"
             ],
             [
              0.8888888888888888,
              "#fdca26"
             ],
             [
              1,
              "#f0f921"
             ]
            ],
            "type": "surface"
           }
          ],
          "table": [
           {
            "cells": {
             "fill": {
              "color": "#EBF0F8"
             },
             "line": {
              "color": "white"
             }
            },
            "header": {
             "fill": {
              "color": "#C8D4E3"
             },
             "line": {
              "color": "white"
             }
            },
            "type": "table"
           }
          ]
         },
         "layout": {
          "annotationdefaults": {
           "arrowcolor": "#2a3f5f",
           "arrowhead": 0,
           "arrowwidth": 1
          },
          "autotypenumbers": "strict",
          "coloraxis": {
           "colorbar": {
            "outlinewidth": 0,
            "ticks": ""
           }
          },
          "colorscale": {
           "diverging": [
            [
             0,
             "#8e0152"
            ],
            [
             0.1,
             "#c51b7d"
            ],
            [
             0.2,
             "#de77ae"
            ],
            [
             0.3,
             "#f1b6da"
            ],
            [
             0.4,
             "#fde0ef"
            ],
            [
             0.5,
             "#f7f7f7"
            ],
            [
             0.6,
             "#e6f5d0"
            ],
            [
             0.7,
             "#b8e186"
            ],
            [
             0.8,
             "#7fbc41"
            ],
            [
             0.9,
             "#4d9221"
            ],
            [
             1,
             "#276419"
            ]
           ],
           "sequential": [
            [
             0,
             "#0d0887"
            ],
            [
             0.1111111111111111,
             "#46039f"
            ],
            [
             0.2222222222222222,
             "#7201a8"
            ],
            [
             0.3333333333333333,
             "#9c179e"
            ],
            [
             0.4444444444444444,
             "#bd3786"
            ],
            [
             0.5555555555555556,
             "#d8576b"
            ],
            [
             0.6666666666666666,
             "#ed7953"
            ],
            [
             0.7777777777777778,
             "#fb9f3a"
            ],
            [
             0.8888888888888888,
             "#fdca26"
            ],
            [
             1,
             "#f0f921"
            ]
           ],
           "sequentialminus": [
            [
             0,
             "#0d0887"
            ],
            [
             0.1111111111111111,
             "#46039f"
            ],
            [
             0.2222222222222222,
             "#7201a8"
            ],
            [
             0.3333333333333333,
             "#9c179e"
            ],
            [
             0.4444444444444444,
             "#bd3786"
            ],
            [
             0.5555555555555556,
             "#d8576b"
            ],
            [
             0.6666666666666666,
             "#ed7953"
            ],
            [
             0.7777777777777778,
             "#fb9f3a"
            ],
            [
             0.8888888888888888,
             "#fdca26"
            ],
            [
             1,
             "#f0f921"
            ]
           ]
          },
          "colorway": [
           "#636efa",
           "#EF553B",
           "#00cc96",
           "#ab63fa",
           "#FFA15A",
           "#19d3f3",
           "#FF6692",
           "#B6E880",
           "#FF97FF",
           "#FECB52"
          ],
          "font": {
           "color": "#2a3f5f"
          },
          "geo": {
           "bgcolor": "white",
           "lakecolor": "white",
           "landcolor": "#E5ECF6",
           "showlakes": true,
           "showland": true,
           "subunitcolor": "white"
          },
          "hoverlabel": {
           "align": "left"
          },
          "hovermode": "closest",
          "mapbox": {
           "style": "light"
          },
          "paper_bgcolor": "white",
          "plot_bgcolor": "#E5ECF6",
          "polar": {
           "angularaxis": {
            "gridcolor": "white",
            "linecolor": "white",
            "ticks": ""
           },
           "bgcolor": "#E5ECF6",
           "radialaxis": {
            "gridcolor": "white",
            "linecolor": "white",
            "ticks": ""
           }
          },
          "scene": {
           "xaxis": {
            "backgroundcolor": "#E5ECF6",
            "gridcolor": "white",
            "gridwidth": 2,
            "linecolor": "white",
            "showbackground": true,
            "ticks": "",
            "zerolinecolor": "white"
           },
           "yaxis": {
            "backgroundcolor": "#E5ECF6",
            "gridcolor": "white",
            "gridwidth": 2,
            "linecolor": "white",
            "showbackground": true,
            "ticks": "",
            "zerolinecolor": "white"
           },
           "zaxis": {
            "backgroundcolor": "#E5ECF6",
            "gridcolor": "white",
            "gridwidth": 2,
            "linecolor": "white",
            "showbackground": true,
            "ticks": "",
            "zerolinecolor": "white"
           }
          },
          "shapedefaults": {
           "line": {
            "color": "#2a3f5f"
           }
          },
          "ternary": {
           "aaxis": {
            "gridcolor": "white",
            "linecolor": "white",
            "ticks": ""
           },
           "baxis": {
            "gridcolor": "white",
            "linecolor": "white",
            "ticks": ""
           },
           "bgcolor": "#E5ECF6",
           "caxis": {
            "gridcolor": "white",
            "linecolor": "white",
            "ticks": ""
           }
          },
          "title": {
           "x": 0.05
          },
          "xaxis": {
           "automargin": true,
           "gridcolor": "white",
           "linecolor": "white",
           "ticks": "",
           "title": {
            "standoff": 15
           },
           "zerolinecolor": "white",
           "zerolinewidth": 2
          },
          "yaxis": {
           "automargin": true,
           "gridcolor": "white",
           "linecolor": "white",
           "ticks": "",
           "title": {
            "standoff": 15
           },
           "zerolinecolor": "white",
           "zerolinewidth": 2
          }
         }
        },
        "title": {
         "text": "Percentage Contribution of Each Feature to Total Variance"
        },
        "xaxis": {
         "title": {
          "text": "Features"
         }
        },
        "yaxis": {
         "title": {
          "text": "Percentage Contribution"
         }
        }
       }
      }
     },
     "metadata": {},
     "output_type": "display_data"
    },
    {
     "name": "stdout",
     "output_type": "stream",
     "text": [
      "The training data shapes are: (9644, 184) (9644,) and the testing data shapes are: (2412, 184) (2412,)\n",
      "The cumulative contributions of all features to the variation is: 100.00000000000003 %\n"
     ]
    }
   ],
   "source": [
    "if(USE_NEW_FEATURES):\n",
    "    # X_transformed_pca, dataset_pca_sklearn_obj = get_pca_transformation_and_scaled_dataset(X, 256)\n",
    "    # now without the insane number of features from the sparse matrix from Angle_x_y and edge_x, there are only 184 features\n",
    "    # because we are now using the CNN image vectors\n",
    "    \n",
    "    X_transformed_pca, dataset_pca_sklearn_obj = get_pca_transformation_and_scaled_dataset(X, 184)\n",
    "    \n",
    "    explained_var = dataset_pca_sklearn_obj.explained_variance_ratio_\n",
    "\n",
    "    # Calculate and sort feature contributions\n",
    "    feature_contributions = feature_contribution_to_variance(dataset_pca_sklearn_obj, explained_var, X.columns)\n",
    "    plot_feature_contributions(feature_contributions)\n",
    "    \n",
    "    # We're basically predicting\n",
    "    # (405 / 488) * 1000\n",
    "\n",
    "    Y = sample_data['element_pixel_intensity_405_488_ratio']\n",
    "\n",
    "    # Perform standardization on X and Y\n",
    "    # scalerX = StandardScaler()\n",
    "    # scalerY = StandardScaler()\n",
    "\n",
    "    y = np.rint(Y).astype(int)\n",
    "\n",
    "    X_train, X_test, y_train, y_test = train_test_split(X_transformed_pca, y, test_size=0.2, random_state=42)\n",
    "\n",
    "    print(\"The training data shapes are:\", X_train.shape, y_train.shape, \"and the testing data shapes are:\", X_test.shape, y_test.shape)\n",
    "    print(\"The cumulative contributions of all features to the variation is:\", feature_contributions['Contribution'].sum(), \"%\")"
   ]
  },
  {
   "cell_type": "code",
   "execution_count": 25,
   "metadata": {},
   "outputs": [],
   "source": [
    "def plot_error_frequency(y_pred, y_test, classifier_title, rounding):\n",
    "    rounding_ = rounding//2\n",
    "    \n",
    "    # Calculate errors\n",
    "    errors = (abs(y_pred - y_test) < rounding_)\n",
    "\n",
    "    # Extract labels where errors occurred\n",
    "    error_labels = y_test[errors]\n",
    "\n",
    "    # Calculate frequency of each label\n",
    "    unique_labels, counts = np.unique(error_labels, return_counts=True)\n",
    "\n",
    "    # Creating a dictionary of label frequencies for errors\n",
    "    label_error_frequency = dict(zip(unique_labels, counts))\n",
    "\n",
    "    # Finding the range of all possible labels (from min to max in y_test and y_pred)\n",
    "    all_labels = np.unique(np.concatenate((y_test, y_pred)))\n",
    "    min_label = min(all_labels)\n",
    "    max_label = max(all_labels)\n",
    "\n",
    "    # Filling in frequencies for labels that did not have errors\n",
    "    for label in range(min_label, max_label + 1):\n",
    "        if label not in label_error_frequency:\n",
    "            label_error_frequency[label] = 0\n",
    "\n",
    "    # Sorting the dictionary for plotting\n",
    "    sorted_label_error_frequency = dict(sorted(label_error_frequency.items()))\n",
    "\n",
    "    xticks = np.arange(min_label, max_label + 1, 50)\n",
    "\n",
    "    # Plotting the error frequency\n",
    "    plt.figure(figsize=(10, 6))\n",
    "    plt.bar(sorted_label_error_frequency.keys(), sorted_label_error_frequency.values())\n",
    "    plt.xlabel('Prediction')\n",
    "    plt.ylabel('Error Frequency')\n",
    "    plt.title('Error Frequency Distribution for ' + str(classifier_title) + ' for errors >= {} ({} in either direction)'.format(rounding, rounding_))\n",
    "    plt.xticks(xticks, rotation='vertical')  # Set x-ticks to show every 50th label and rotate them vertically\n",
    "    plt.show()\n",
    "\n",
    "    # Calculating mean and standard deviation of absolute errors\n",
    "    absolute_errors = np.abs(y_pred - y_test)\n",
    "    mean_error = np.mean(absolute_errors)\n",
    "    std_error = np.std(absolute_errors)\n",
    "    print(\"The mean error is\", mean_error, \"and the standard deviation of the errors is\", std_error)\n",
    "\n",
    "    # Plotting absolute error for each label\n",
    "    plt.figure(figsize=(10, 6))\n",
    "    for label in all_labels:\n",
    "        label_errors = absolute_errors[y_test == label]\n",
    "        plt.bar([label]*len(label_errors), label_errors, color='r')\n",
    "    plt.xlabel('Prediction')\n",
    "    plt.ylabel('Absolute Error')\n",
    "    plt.title('Absolute Error for Each Label in ' + str(classifier_title))\n",
    "    plt.xticks(xticks, rotation='vertical')\n",
    "    plt.show()\n"
   ]
  },
  {
   "cell_type": "code",
   "execution_count": 26,
   "metadata": {},
   "outputs": [],
   "source": [
    "def calculate_accuracy(y_test, y_pred, rounding):\n",
    "    y_test = y_test.values\n",
    "    rounding = rounding//2\n",
    "    # print(y_pred)\n",
    "    assert(len(y_test) == len(y_pred))\n",
    "    num_predictions = len(y_test)\n",
    "    num_correct_predictions = 0\n",
    "    for i in range(len(y_test)):\n",
    "        if abs(y_test[i] - y_pred[i]) <= rounding:\n",
    "            num_correct_predictions += 1\n",
    "    \n",
    "    return num_correct_predictions/num_predictions"
   ]
  },
  {
   "cell_type": "code",
   "execution_count": 27,
   "metadata": {},
   "outputs": [],
   "source": [
    "# For y_train and y_test, round down to nearest 10\n",
    "# y_train = (np.floor(y_train / 10) * 10).astype(int)\n",
    "# y_test = (np.floor(y_test / 10) * 10).astype(int)\n",
    "\n",
    "# Noticed weird behaviour with SVM:\n",
    "# If y_train and y_test are not rounded down to nearest 10,\n",
    "# then the training takes LONGER (it just wouldn't finish training on my mac)\n",
    "# even though it means there are 10 times fewer classifiers to train?\n",
    "# (also yes, doing that means the output would not be a regression but a classification,\n",
    "# and outputs would be classified into groups of 10, as in the model would tell you whether the\n",
    "# functional parameter is between 0-10, 10-20, 20-30, etc.)\n",
    "\n",
    "# Also it was not possible to get the SVM to train on my MAC for datasets above 10k rows (10k including training and testing split)\n",
    "# Training just never finished if I tried that, even if I left it running overnight.\n",
    "\n",
    "# This makes sense though because with more classes (i.e discrete functional parameter values in this case),\n",
    "# the training time grows quadratically as that many more classifiers need to be trained.\n",
    "\n",
    "# print(y_train, y_test)\n",
    "\n",
    "if(TRAIN_SVM):\n",
    "\n",
    "    svm_model = SVC(kernel='linear')  # You can choose different kernels like 'rbf', 'poly', etc.\n",
    "    svm_model.fit(X_train, y_train)\n",
    "\n",
    "\n",
    "    y_pred = svm_model.predict(X_test)\n",
    "\n",
    "    print(pd.DataFrame({'Actual': y_test, 'Predicted': y_pred}))\n",
    "\n",
    "    rounding = 50\n",
    "\n",
    "    accuracy = calculate_accuracy(y_test, y_pred, rounding)\n",
    "    classification_rep = classification_report(y_test, y_pred)\n",
    "\n",
    "    plt.plot(y_test, y_pred, 'o')\n",
    "    plt.title('Accuracy: ' + str(accuracy) + ' with rounding factor ' + str(rounding))\n",
    "    plt.xlabel('Actual')\n",
    "    plt.ylabel('Predicted')\n",
    "\n",
    "    y_pred_svm = y_pred\n",
    "    \n",
    "    # Create a DataFrame with the test and pred values\n",
    "    df = pd.DataFrame({'Test': y_test, 'Pred': y_pred_svm})\n",
    "\n",
    "    # Save the DataFrame to a CSV file\n",
    "    df.to_csv('svm_test_pred.csv', index=False)\n"
   ]
  },
  {
   "cell_type": "code",
   "execution_count": 28,
   "metadata": {},
   "outputs": [],
   "source": [
    "if(TRAIN_SVM):\n",
    "    plot_error_frequency(y_pred_svm, y_test, 'SVC', rounding)"
   ]
  },
  {
   "cell_type": "code",
   "execution_count": 29,
   "metadata": {},
   "outputs": [],
   "source": [
    "if(TRAIN_RF):\n",
    "\n",
    "    # do the same for random forest\n",
    "    from sklearn.ensemble import RandomForestClassifier\n",
    "\n",
    "    rf_model = RandomForestClassifier(n_estimators=300, max_depth=7, random_state=0)\n",
    "    rf_model.fit(X_train, y_train)\n",
    "\n",
    "    rounding = 50\n",
    "    \n",
    "    y_pred = rf_model.predict(X_test)\n",
    "    accuracy = calculate_accuracy(y_test, y_pred, rounding)\n",
    "\n",
    "    plt.plot(y_test, y_pred, 'o')\n",
    "    plt.xlabel(\"Actual value\")\n",
    "    plt.ylabel(\"Predicted value\")\n",
    "    plt.title('Accuracy: {} with rounding factor {}'.format(accuracy, rounding))\n",
    "\n",
    "    y_pred_rf = y_pred\n",
    "    \n",
    "    # Create a DataFrame with the test and pred values\n",
    "    df = pd.DataFrame({'Test': y_test, 'Pred': y_pred_rf})\n",
    "\n",
    "    # Save the DataFrame to a CSV file\n",
    "    df.to_csv('rf_test_pred.csv', index=False)"
   ]
  },
  {
   "cell_type": "code",
   "execution_count": 30,
   "metadata": {},
   "outputs": [],
   "source": [
    "if(TRAIN_RF):\n",
    "    plot_error_frequency(y_pred_rf, y_test, 'Random Forest', rounding)"
   ]
  },
  {
   "cell_type": "code",
   "execution_count": 31,
   "metadata": {},
   "outputs": [],
   "source": [
    "\n",
    "# Used the plotly library as this is much nicer looking, and the graph is more interactive and works well with Jupyter Notebooks\n",
    "\n",
    "def plot_absolute_error_plotly(y_pred_model1, y_pred_model2, y_test, model_title1, model_title_2):\n",
    "    def calculate_error_frequency(y_pred):\n",
    "        incorrect = y_pred != y_test\n",
    "\n",
    "        unique_predictions, counts = np.unique(y_pred[incorrect], return_counts=True)\n",
    "        error_freq = dict(zip(unique_predictions, counts))\n",
    "\n",
    "        return error_freq\n",
    "\n",
    "    error_freq_svc = calculate_error_frequency(y_pred_model1)\n",
    "    error_freq_rf = calculate_error_frequency(y_pred_model2)\n",
    "\n",
    "    all_labels = np.unique(np.concatenate((y_pred_model1, y_pred_model2)))\n",
    "    all_labels.sort()\n",
    "\n",
    "    svc_freq = [error_freq_svc.get(label, 0) for label in all_labels]\n",
    "    rf_freq = [error_freq_rf.get(label, 0) for label in all_labels]\n",
    "\n",
    "    fig = go.Figure(data=[\n",
    "        go.Bar(name=model_title1, x=all_labels, y=svc_freq),\n",
    "        go.Bar(name=model_title_2, x=all_labels, y=rf_freq)\n",
    "    ])\n",
    "\n",
    "    fig.update_layout(\n",
    "        barmode='group',\n",
    "        title='Prediction Error Frequency',\n",
    "        xaxis_title='Predicted Label',\n",
    "        yaxis_title='Frequency of Incorrect Predictions',\n",
    "        xaxis=dict(type='category')\n",
    "    )\n",
    "\n",
    "    fig.show()\n",
    "\n",
    "\n",
    "def plot_error_label_frequency_plotly(y_pred_model1, y_pred_model2, y_test, model_title1, model_title2):\n",
    "    labels = np.unique(y_test)\n",
    "    errors_svc = [np.sum((y_pred_model1 != y_test) & (y_test == label)) for label in labels]\n",
    "    errors_rf = [np.sum((y_pred_model2 != y_test) & (y_test == label)) for label in labels]\n",
    "\n",
    "    bar_width = max(0.5, 30 / len(labels))\n",
    "\n",
    "    fig = go.Figure(data=[\n",
    "        go.Bar(name=model_title1, x=labels, y=errors_svc, width=bar_width, marker_color='blue', marker_line_color='blue', marker_line_width=1.5, opacity=1),\n",
    "        go.Bar(name=model_title2, x=labels, y=errors_rf, width=bar_width, marker_color='red', marker_line_color='red', marker_line_width=1.5, opacity=1)\n",
    "    ])\n",
    "    \n",
    "    fig.update_layout(\n",
    "        barmode='group',\n",
    "        title='Error Frequency per Label',\n",
    "        xaxis_title='Labels',\n",
    "        yaxis_title='Number of Errors',\n",
    "        xaxis=dict(tickmode='array', tickvals=labels[::10]),\n",
    "        plot_bgcolor='rgba(255, 255, 255, 1)',\n",
    "        font=dict(\n",
    "            size=12,  # You can adjust the size of the text here for better visibility\n",
    "        )\n",
    "    )\n",
    "    fig.show()\n"
   ]
  },
  {
   "cell_type": "code",
   "execution_count": 32,
   "metadata": {},
   "outputs": [],
   "source": [
    "if(TRAIN_RF and TRAIN_SVM):\n",
    "    plot_absolute_error_plotly(y_pred_svm, y_pred_rf, y_test, 'SVC', 'Random Forest')\n",
    "    plot_error_label_frequency_plotly(y_pred_svm, y_pred_rf, y_test, 'SVC', 'Random Forest')"
   ]
  },
  {
   "cell_type": "code",
   "execution_count": 33,
   "metadata": {},
   "outputs": [],
   "source": [
    "# Data distribution\n",
    "# Basically plot the frequency of ocurrence of each value\n",
    "# of the functional parameter in the dataset inputted to the models\n",
    "\n",
    "# This is only plotting the subset in the training set, and not in the entire dataset\n",
    "\n",
    "def plot_data_distribution(y):\n",
    "    # Calculate the frequency of each value in the y_test array\n",
    "    unique_values, counts = np.unique(y, return_counts=True)\n",
    "\n",
    "    # Create the bar chart\n",
    "    fig = go.Figure(data=go.Bar(x=unique_values, y=counts))\n",
    "\n",
    "    # Update the layout for a better visual representation\n",
    "    fig.update_layout(\n",
    "        title='Data Distribution',\n",
    "        xaxis_title='Unique Values',\n",
    "        yaxis_title='Frequency',\n",
    "        xaxis=dict(type='category'),  # Treat unique values as discrete categories\n",
    "        yaxis=dict(title='Frequency'),  # You can also set the range or scale of the y-axis if needed\n",
    "    )\n",
    "\n",
    "    fig.show()\n",
    "    print(\"The mean of the data distribution is\", np.mean(y), \"and the standard deviation is\", np.std(y))"
   ]
  },
  {
   "cell_type": "code",
   "execution_count": 34,
   "metadata": {},
   "outputs": [
    {
     "data": {
      "application/vnd.plotly.v1+json": {
       "config": {
        "plotlyServerURL": "https://plot.ly"
       },
       "data": [
        {
         "type": "bar",
         "x": [
          0,
          2,
          5,
          6,
          7,
          8,
          9,
          10,
          11,
          12,
          13,
          14,
          15,
          16,
          17,
          18,
          19,
          20,
          21,
          22,
          23,
          24,
          25,
          26,
          27,
          28,
          29,
          30,
          31,
          32,
          33,
          34,
          35,
          36,
          37,
          38,
          39,
          40,
          41,
          42,
          43,
          44,
          45,
          46,
          47,
          48,
          49,
          50,
          51,
          52,
          53,
          54,
          55,
          56,
          57,
          58,
          59,
          60,
          61,
          62,
          63,
          64,
          65,
          66,
          67,
          68,
          69,
          70,
          71,
          72,
          73,
          74,
          75,
          76,
          77,
          78,
          79,
          80,
          81,
          82,
          83,
          84,
          85,
          86,
          87,
          88,
          89,
          90,
          91,
          92,
          93,
          94,
          95,
          96,
          97,
          98,
          99,
          100,
          101,
          102,
          103,
          104,
          105,
          106,
          107,
          108,
          109,
          110,
          111,
          112,
          113,
          114,
          115,
          116,
          117,
          118,
          119,
          120,
          121,
          122,
          123,
          124,
          125,
          126,
          127,
          128,
          129,
          130,
          131,
          132,
          133,
          134,
          135,
          136,
          137,
          138,
          139,
          140,
          141,
          142,
          143,
          144,
          145,
          146,
          147,
          148,
          149,
          150,
          151,
          152,
          153,
          154,
          155,
          156,
          157,
          158,
          159,
          160,
          161,
          162,
          163,
          164,
          165,
          166,
          167,
          168,
          169,
          170,
          171,
          172,
          173,
          174,
          175,
          176,
          177,
          178,
          179,
          180,
          181,
          182,
          183,
          184,
          185,
          186,
          187,
          188,
          189,
          190,
          191,
          192,
          193,
          194,
          195,
          196,
          197,
          198,
          199,
          200,
          201,
          202,
          203,
          204,
          205,
          206,
          207,
          208,
          209,
          210,
          211,
          212,
          213,
          214,
          215,
          216,
          217,
          218,
          219,
          220,
          221,
          222,
          223,
          224,
          225,
          226,
          227,
          228,
          229,
          230,
          231,
          232,
          233,
          234,
          235,
          236,
          237,
          238,
          239,
          240,
          241,
          242,
          243,
          244,
          245,
          246,
          247,
          248,
          249,
          250,
          251,
          252,
          253,
          254,
          255,
          256,
          257,
          258,
          259,
          260,
          261,
          262,
          263,
          264,
          265,
          266,
          267,
          268,
          269,
          270,
          271,
          272,
          273,
          274,
          275,
          276,
          277,
          278,
          279,
          280,
          281,
          282,
          283,
          284,
          285,
          286,
          287,
          288,
          289,
          292,
          293,
          294,
          295,
          296,
          297,
          298,
          299,
          300,
          301,
          302,
          303,
          304,
          305,
          306,
          307,
          308,
          309,
          310,
          311,
          312,
          314,
          315,
          316,
          317,
          318,
          319,
          320,
          321,
          323,
          325,
          326,
          327,
          328,
          329,
          330,
          331,
          332,
          333,
          334,
          335,
          336,
          337,
          338,
          339,
          341,
          342,
          343,
          344,
          345,
          346,
          348,
          349,
          350,
          351,
          355,
          356,
          357,
          358,
          359,
          360,
          361,
          362,
          363,
          364,
          365,
          366,
          367,
          368,
          369,
          370,
          372,
          375,
          377,
          378,
          379,
          380,
          381,
          382,
          385,
          387,
          388,
          391,
          392,
          393,
          395,
          399,
          401,
          402,
          404,
          407,
          410,
          412,
          416,
          418,
          419,
          420,
          422,
          425,
          429,
          431,
          433,
          440,
          443,
          451,
          452,
          453,
          457,
          467,
          469,
          471,
          473,
          474,
          478,
          480,
          485,
          487,
          492,
          495,
          502,
          504,
          505,
          516,
          517,
          533,
          569,
          573,
          581,
          585,
          591,
          598,
          603,
          607,
          619,
          622,
          655,
          726,
          795,
          847,
          972,
          1022,
          1063,
          1102,
          1160,
          1344,
          1438,
          1527,
          2368,
          2556,
          3161
         ],
         "y": [
          1,
          1,
          1,
          3,
          3,
          1,
          3,
          1,
          4,
          4,
          7,
          7,
          13,
          14,
          14,
          12,
          16,
          14,
          23,
          22,
          31,
          30,
          21,
          31,
          51,
          29,
          42,
          55,
          46,
          49,
          57,
          77,
          75,
          81,
          76,
          77,
          73,
          89,
          107,
          100,
          92,
          105,
          104,
          123,
          100,
          116,
          134,
          115,
          113,
          116,
          128,
          128,
          143,
          112,
          118,
          127,
          108,
          112,
          116,
          119,
          116,
          108,
          126,
          107,
          91,
          102,
          88,
          121,
          105,
          112,
          89,
          99,
          87,
          92,
          97,
          97,
          101,
          84,
          95,
          89,
          87,
          83,
          84,
          87,
          107,
          81,
          85,
          90,
          80,
          76,
          75,
          79,
          76,
          75,
          61,
          65,
          56,
          60,
          64,
          68,
          74,
          55,
          73,
          59,
          50,
          57,
          46,
          70,
          50,
          58,
          52,
          55,
          52,
          47,
          76,
          64,
          50,
          47,
          50,
          60,
          48,
          42,
          49,
          42,
          49,
          59,
          49,
          56,
          53,
          46,
          53,
          47,
          39,
          41,
          54,
          41,
          62,
          51,
          47,
          43,
          44,
          34,
          39,
          43,
          39,
          38,
          49,
          51,
          46,
          28,
          43,
          40,
          40,
          25,
          36,
          41,
          33,
          37,
          33,
          27,
          41,
          39,
          33,
          37,
          30,
          26,
          37,
          34,
          35,
          28,
          22,
          27,
          35,
          28,
          35,
          22,
          26,
          27,
          18,
          15,
          27,
          24,
          31,
          32,
          19,
          21,
          25,
          25,
          21,
          22,
          19,
          18,
          22,
          22,
          16,
          13,
          17,
          12,
          15,
          28,
          17,
          19,
          9,
          18,
          9,
          21,
          10,
          12,
          18,
          19,
          11,
          12,
          10,
          13,
          10,
          19,
          16,
          13,
          18,
          7,
          4,
          11,
          13,
          8,
          6,
          8,
          8,
          6,
          9,
          4,
          9,
          8,
          5,
          6,
          7,
          12,
          11,
          8,
          4,
          4,
          7,
          4,
          7,
          6,
          3,
          8,
          3,
          6,
          7,
          9,
          8,
          4,
          9,
          8,
          3,
          5,
          5,
          9,
          6,
          7,
          4,
          6,
          3,
          5,
          6,
          5,
          4,
          4,
          2,
          4,
          4,
          1,
          5,
          3,
          6,
          4,
          5,
          5,
          1,
          2,
          2,
          3,
          6,
          5,
          1,
          2,
          4,
          1,
          4,
          2,
          2,
          2,
          4,
          6,
          3,
          3,
          3,
          7,
          4,
          6,
          1,
          3,
          3,
          2,
          2,
          3,
          1,
          2,
          1,
          4,
          2,
          1,
          2,
          3,
          2,
          3,
          3,
          3,
          1,
          1,
          2,
          1,
          3,
          4,
          2,
          2,
          2,
          1,
          2,
          1,
          1,
          1,
          1,
          1,
          1,
          5,
          2,
          1,
          2,
          1,
          2,
          1,
          1,
          1,
          2,
          1,
          2,
          1,
          1,
          1,
          2,
          3,
          2,
          2,
          4,
          2,
          2,
          2,
          1,
          1,
          2,
          1,
          1,
          1,
          3,
          3,
          2,
          2,
          4,
          3,
          3,
          1,
          1,
          1,
          1,
          2,
          1,
          1,
          2,
          1,
          3,
          1,
          1,
          1,
          1,
          2,
          1,
          1,
          1,
          1,
          1,
          1,
          1,
          1,
          1,
          1,
          1,
          1,
          1,
          1,
          1,
          1,
          1,
          2,
          1,
          1,
          1,
          1,
          1,
          1,
          1,
          1,
          1,
          1,
          1,
          1,
          1,
          1,
          1,
          1,
          1,
          1,
          1,
          1,
          1,
          1,
          1,
          1,
          1,
          1,
          1,
          1,
          1,
          1,
          1,
          1,
          1
         ]
        }
       ],
       "layout": {
        "template": {
         "data": {
          "bar": [
           {
            "error_x": {
             "color": "#2a3f5f"
            },
            "error_y": {
             "color": "#2a3f5f"
            },
            "marker": {
             "line": {
              "color": "#E5ECF6",
              "width": 0.5
             },
             "pattern": {
              "fillmode": "overlay",
              "size": 10,
              "solidity": 0.2
             }
            },
            "type": "bar"
           }
          ],
          "barpolar": [
           {
            "marker": {
             "line": {
              "color": "#E5ECF6",
              "width": 0.5
             },
             "pattern": {
              "fillmode": "overlay",
              "size": 10,
              "solidity": 0.2
             }
            },
            "type": "barpolar"
           }
          ],
          "carpet": [
           {
            "aaxis": {
             "endlinecolor": "#2a3f5f",
             "gridcolor": "white",
             "linecolor": "white",
             "minorgridcolor": "white",
             "startlinecolor": "#2a3f5f"
            },
            "baxis": {
             "endlinecolor": "#2a3f5f",
             "gridcolor": "white",
             "linecolor": "white",
             "minorgridcolor": "white",
             "startlinecolor": "#2a3f5f"
            },
            "type": "carpet"
           }
          ],
          "choropleth": [
           {
            "colorbar": {
             "outlinewidth": 0,
             "ticks": ""
            },
            "type": "choropleth"
           }
          ],
          "contour": [
           {
            "colorbar": {
             "outlinewidth": 0,
             "ticks": ""
            },
            "colorscale": [
             [
              0,
              "#0d0887"
             ],
             [
              0.1111111111111111,
              "#46039f"
             ],
             [
              0.2222222222222222,
              "#7201a8"
             ],
             [
              0.3333333333333333,
              "#9c179e"
             ],
             [
              0.4444444444444444,
              "#bd3786"
             ],
             [
              0.5555555555555556,
              "#d8576b"
             ],
             [
              0.6666666666666666,
              "#ed7953"
             ],
             [
              0.7777777777777778,
              "#fb9f3a"
             ],
             [
              0.8888888888888888,
              "#fdca26"
             ],
             [
              1,
              "#f0f921"
             ]
            ],
            "type": "contour"
           }
          ],
          "contourcarpet": [
           {
            "colorbar": {
             "outlinewidth": 0,
             "ticks": ""
            },
            "type": "contourcarpet"
           }
          ],
          "heatmap": [
           {
            "colorbar": {
             "outlinewidth": 0,
             "ticks": ""
            },
            "colorscale": [
             [
              0,
              "#0d0887"
             ],
             [
              0.1111111111111111,
              "#46039f"
             ],
             [
              0.2222222222222222,
              "#7201a8"
             ],
             [
              0.3333333333333333,
              "#9c179e"
             ],
             [
              0.4444444444444444,
              "#bd3786"
             ],
             [
              0.5555555555555556,
              "#d8576b"
             ],
             [
              0.6666666666666666,
              "#ed7953"
             ],
             [
              0.7777777777777778,
              "#fb9f3a"
             ],
             [
              0.8888888888888888,
              "#fdca26"
             ],
             [
              1,
              "#f0f921"
             ]
            ],
            "type": "heatmap"
           }
          ],
          "heatmapgl": [
           {
            "colorbar": {
             "outlinewidth": 0,
             "ticks": ""
            },
            "colorscale": [
             [
              0,
              "#0d0887"
             ],
             [
              0.1111111111111111,
              "#46039f"
             ],
             [
              0.2222222222222222,
              "#7201a8"
             ],
             [
              0.3333333333333333,
              "#9c179e"
             ],
             [
              0.4444444444444444,
              "#bd3786"
             ],
             [
              0.5555555555555556,
              "#d8576b"
             ],
             [
              0.6666666666666666,
              "#ed7953"
             ],
             [
              0.7777777777777778,
              "#fb9f3a"
             ],
             [
              0.8888888888888888,
              "#fdca26"
             ],
             [
              1,
              "#f0f921"
             ]
            ],
            "type": "heatmapgl"
           }
          ],
          "histogram": [
           {
            "marker": {
             "pattern": {
              "fillmode": "overlay",
              "size": 10,
              "solidity": 0.2
             }
            },
            "type": "histogram"
           }
          ],
          "histogram2d": [
           {
            "colorbar": {
             "outlinewidth": 0,
             "ticks": ""
            },
            "colorscale": [
             [
              0,
              "#0d0887"
             ],
             [
              0.1111111111111111,
              "#46039f"
             ],
             [
              0.2222222222222222,
              "#7201a8"
             ],
             [
              0.3333333333333333,
              "#9c179e"
             ],
             [
              0.4444444444444444,
              "#bd3786"
             ],
             [
              0.5555555555555556,
              "#d8576b"
             ],
             [
              0.6666666666666666,
              "#ed7953"
             ],
             [
              0.7777777777777778,
              "#fb9f3a"
             ],
             [
              0.8888888888888888,
              "#fdca26"
             ],
             [
              1,
              "#f0f921"
             ]
            ],
            "type": "histogram2d"
           }
          ],
          "histogram2dcontour": [
           {
            "colorbar": {
             "outlinewidth": 0,
             "ticks": ""
            },
            "colorscale": [
             [
              0,
              "#0d0887"
             ],
             [
              0.1111111111111111,
              "#46039f"
             ],
             [
              0.2222222222222222,
              "#7201a8"
             ],
             [
              0.3333333333333333,
              "#9c179e"
             ],
             [
              0.4444444444444444,
              "#bd3786"
             ],
             [
              0.5555555555555556,
              "#d8576b"
             ],
             [
              0.6666666666666666,
              "#ed7953"
             ],
             [
              0.7777777777777778,
              "#fb9f3a"
             ],
             [
              0.8888888888888888,
              "#fdca26"
             ],
             [
              1,
              "#f0f921"
             ]
            ],
            "type": "histogram2dcontour"
           }
          ],
          "mesh3d": [
           {
            "colorbar": {
             "outlinewidth": 0,
             "ticks": ""
            },
            "type": "mesh3d"
           }
          ],
          "parcoords": [
           {
            "line": {
             "colorbar": {
              "outlinewidth": 0,
              "ticks": ""
             }
            },
            "type": "parcoords"
           }
          ],
          "pie": [
           {
            "automargin": true,
            "type": "pie"
           }
          ],
          "scatter": [
           {
            "fillpattern": {
             "fillmode": "overlay",
             "size": 10,
             "solidity": 0.2
            },
            "type": "scatter"
           }
          ],
          "scatter3d": [
           {
            "line": {
             "colorbar": {
              "outlinewidth": 0,
              "ticks": ""
             }
            },
            "marker": {
             "colorbar": {
              "outlinewidth": 0,
              "ticks": ""
             }
            },
            "type": "scatter3d"
           }
          ],
          "scattercarpet": [
           {
            "marker": {
             "colorbar": {
              "outlinewidth": 0,
              "ticks": ""
             }
            },
            "type": "scattercarpet"
           }
          ],
          "scattergeo": [
           {
            "marker": {
             "colorbar": {
              "outlinewidth": 0,
              "ticks": ""
             }
            },
            "type": "scattergeo"
           }
          ],
          "scattergl": [
           {
            "marker": {
             "colorbar": {
              "outlinewidth": 0,
              "ticks": ""
             }
            },
            "type": "scattergl"
           }
          ],
          "scattermapbox": [
           {
            "marker": {
             "colorbar": {
              "outlinewidth": 0,
              "ticks": ""
             }
            },
            "type": "scattermapbox"
           }
          ],
          "scatterpolar": [
           {
            "marker": {
             "colorbar": {
              "outlinewidth": 0,
              "ticks": ""
             }
            },
            "type": "scatterpolar"
           }
          ],
          "scatterpolargl": [
           {
            "marker": {
             "colorbar": {
              "outlinewidth": 0,
              "ticks": ""
             }
            },
            "type": "scatterpolargl"
           }
          ],
          "scatterternary": [
           {
            "marker": {
             "colorbar": {
              "outlinewidth": 0,
              "ticks": ""
             }
            },
            "type": "scatterternary"
           }
          ],
          "surface": [
           {
            "colorbar": {
             "outlinewidth": 0,
             "ticks": ""
            },
            "colorscale": [
             [
              0,
              "#0d0887"
             ],
             [
              0.1111111111111111,
              "#46039f"
             ],
             [
              0.2222222222222222,
              "#7201a8"
             ],
             [
              0.3333333333333333,
              "#9c179e"
             ],
             [
              0.4444444444444444,
              "#bd3786"
             ],
             [
              0.5555555555555556,
              "#d8576b"
             ],
             [
              0.6666666666666666,
              "#ed7953"
             ],
             [
              0.7777777777777778,
              "#fb9f3a"
             ],
             [
              0.8888888888888888,
              "#fdca26"
             ],
             [
              1,
              "#f0f921"
             ]
            ],
            "type": "surface"
           }
          ],
          "table": [
           {
            "cells": {
             "fill": {
              "color": "#EBF0F8"
             },
             "line": {
              "color": "white"
             }
            },
            "header": {
             "fill": {
              "color": "#C8D4E3"
             },
             "line": {
              "color": "white"
             }
            },
            "type": "table"
           }
          ]
         },
         "layout": {
          "annotationdefaults": {
           "arrowcolor": "#2a3f5f",
           "arrowhead": 0,
           "arrowwidth": 1
          },
          "autotypenumbers": "strict",
          "coloraxis": {
           "colorbar": {
            "outlinewidth": 0,
            "ticks": ""
           }
          },
          "colorscale": {
           "diverging": [
            [
             0,
             "#8e0152"
            ],
            [
             0.1,
             "#c51b7d"
            ],
            [
             0.2,
             "#de77ae"
            ],
            [
             0.3,
             "#f1b6da"
            ],
            [
             0.4,
             "#fde0ef"
            ],
            [
             0.5,
             "#f7f7f7"
            ],
            [
             0.6,
             "#e6f5d0"
            ],
            [
             0.7,
             "#b8e186"
            ],
            [
             0.8,
             "#7fbc41"
            ],
            [
             0.9,
             "#4d9221"
            ],
            [
             1,
             "#276419"
            ]
           ],
           "sequential": [
            [
             0,
             "#0d0887"
            ],
            [
             0.1111111111111111,
             "#46039f"
            ],
            [
             0.2222222222222222,
             "#7201a8"
            ],
            [
             0.3333333333333333,
             "#9c179e"
            ],
            [
             0.4444444444444444,
             "#bd3786"
            ],
            [
             0.5555555555555556,
             "#d8576b"
            ],
            [
             0.6666666666666666,
             "#ed7953"
            ],
            [
             0.7777777777777778,
             "#fb9f3a"
            ],
            [
             0.8888888888888888,
             "#fdca26"
            ],
            [
             1,
             "#f0f921"
            ]
           ],
           "sequentialminus": [
            [
             0,
             "#0d0887"
            ],
            [
             0.1111111111111111,
             "#46039f"
            ],
            [
             0.2222222222222222,
             "#7201a8"
            ],
            [
             0.3333333333333333,
             "#9c179e"
            ],
            [
             0.4444444444444444,
             "#bd3786"
            ],
            [
             0.5555555555555556,
             "#d8576b"
            ],
            [
             0.6666666666666666,
             "#ed7953"
            ],
            [
             0.7777777777777778,
             "#fb9f3a"
            ],
            [
             0.8888888888888888,
             "#fdca26"
            ],
            [
             1,
             "#f0f921"
            ]
           ]
          },
          "colorway": [
           "#636efa",
           "#EF553B",
           "#00cc96",
           "#ab63fa",
           "#FFA15A",
           "#19d3f3",
           "#FF6692",
           "#B6E880",
           "#FF97FF",
           "#FECB52"
          ],
          "font": {
           "color": "#2a3f5f"
          },
          "geo": {
           "bgcolor": "white",
           "lakecolor": "white",
           "landcolor": "#E5ECF6",
           "showlakes": true,
           "showland": true,
           "subunitcolor": "white"
          },
          "hoverlabel": {
           "align": "left"
          },
          "hovermode": "closest",
          "mapbox": {
           "style": "light"
          },
          "paper_bgcolor": "white",
          "plot_bgcolor": "#E5ECF6",
          "polar": {
           "angularaxis": {
            "gridcolor": "white",
            "linecolor": "white",
            "ticks": ""
           },
           "bgcolor": "#E5ECF6",
           "radialaxis": {
            "gridcolor": "white",
            "linecolor": "white",
            "ticks": ""
           }
          },
          "scene": {
           "xaxis": {
            "backgroundcolor": "#E5ECF6",
            "gridcolor": "white",
            "gridwidth": 2,
            "linecolor": "white",
            "showbackground": true,
            "ticks": "",
            "zerolinecolor": "white"
           },
           "yaxis": {
            "backgroundcolor": "#E5ECF6",
            "gridcolor": "white",
            "gridwidth": 2,
            "linecolor": "white",
            "showbackground": true,
            "ticks": "",
            "zerolinecolor": "white"
           },
           "zaxis": {
            "backgroundcolor": "#E5ECF6",
            "gridcolor": "white",
            "gridwidth": 2,
            "linecolor": "white",
            "showbackground": true,
            "ticks": "",
            "zerolinecolor": "white"
           }
          },
          "shapedefaults": {
           "line": {
            "color": "#2a3f5f"
           }
          },
          "ternary": {
           "aaxis": {
            "gridcolor": "white",
            "linecolor": "white",
            "ticks": ""
           },
           "baxis": {
            "gridcolor": "white",
            "linecolor": "white",
            "ticks": ""
           },
           "bgcolor": "#E5ECF6",
           "caxis": {
            "gridcolor": "white",
            "linecolor": "white",
            "ticks": ""
           }
          },
          "title": {
           "x": 0.05
          },
          "xaxis": {
           "automargin": true,
           "gridcolor": "white",
           "linecolor": "white",
           "ticks": "",
           "title": {
            "standoff": 15
           },
           "zerolinecolor": "white",
           "zerolinewidth": 2
          },
          "yaxis": {
           "automargin": true,
           "gridcolor": "white",
           "linecolor": "white",
           "ticks": "",
           "title": {
            "standoff": 15
           },
           "zerolinecolor": "white",
           "zerolinewidth": 2
          }
         }
        },
        "title": {
         "text": "Data Distribution"
        },
        "xaxis": {
         "title": {
          "text": "Unique Values"
         },
         "type": "category"
        },
        "yaxis": {
         "title": {
          "text": "Frequency"
         }
        }
       }
      }
     },
     "metadata": {},
     "output_type": "display_data"
    },
    {
     "name": "stdout",
     "output_type": "stream",
     "text": [
      "The mean of the data distribution is 106.15045624222314 and the standard deviation is 86.69586631438021\n"
     ]
    }
   ],
   "source": [
    "\n",
    "plot_data_distribution(y)"
   ]
  },
  {
   "cell_type": "code",
   "execution_count": 35,
   "metadata": {},
   "outputs": [],
   "source": [
    "# Define the MLP regressor class\n",
    "class MLPRegressor(nn.Module):\n",
    "    def __init__(self, input_size, hidden_size):\n",
    "        super().__init__()\n",
    "        self.fc1 = nn.Linear(input_size, hidden_size)\n",
    "        self.fc2 = nn.Linear(hidden_size, hidden_size//2)\n",
    "        self.fc3 = nn.Linear(hidden_size//2, 1)\n",
    "\n",
    "    def forward(self, x):\n",
    "        x = torch.tanh(self.fc1(x))\n",
    "        x = torch.relu(self.fc2(x))\n",
    "        x = self.fc3(x)\n",
    "        return x\n",
    "\n",
    "# Create an instance of the MLP regressor\n",
    "input_size = X_train.shape[1]\n",
    "# hidden_size = int((X_train.shape[1] + 1) / 2)\n",
    "hidden_size = input_size\n",
    "mlp_regressor = MLPRegressor(input_size, hidden_size).to(device)\n",
    "if(LOAD_MLP_MODEL):\n",
    "    try:\n",
    "        mlp_regressor.load_state_dict(torch.load(MLP_MODEL_PATH))\n",
    "    except Exception as e:\n",
    "        print(\"Couldn't load model\")\n",
    "        print(e)\n",
    "\n",
    "# Define the loss function and optimizer\n",
    "criterion = nn.SmoothL1Loss()\n",
    "optimizer = torch.optim.Adam(mlp_regressor.parameters(), lr=0.001, weight_decay=1e-5)\n",
    "\n",
    "def create_batches(X, Y, batch_size):\n",
    "    num_batches = int(np.ceil(X.shape[0] / batch_size))\n",
    "    batches = []\n",
    "\n",
    "    for i in range(num_batches):\n",
    "        start = i * batch_size\n",
    "        end = start + batch_size\n",
    "        X_batch = X[start:end]\n",
    "        Y_batch = Y[start:end]\n",
    "        batches.append((X_batch, Y_batch))\n",
    "\n",
    "    return batches\n",
    "\n",
    "# Train the MLP regressor\n",
    "def train_mlp_regressor(regressor, optimizer, epochs, batch_size, X_train, Y_train):\n",
    "    # Convert the training data to PyTorch tensors\n",
    "    X_train_tensor = torch.tensor(X_train, dtype=torch.float32)\n",
    "    Y_train_tensor = torch.tensor(Y_train, dtype=torch.float32)\n",
    "\n",
    "    # Create manual batches\n",
    "    train_batches = create_batches(X_train_tensor, Y_train_tensor, batch_size)\n",
    "\n",
    "    for epoch in range(epochs):\n",
    "        for X_batch, Y_batch in train_batches:\n",
    "            # Move batch to the device\n",
    "            X_batch, Y_batch = X_batch.to(device), Y_batch.to(device)\n",
    "\n",
    "            # Forward pass\n",
    "            outputs = regressor(X_batch)\n",
    "            loss = criterion(outputs, Y_batch)\n",
    "\n",
    "            # Backward and optimize\n",
    "            optimizer.zero_grad()\n",
    "            loss.backward()\n",
    "            optimizer.step()\n",
    "\n",
    "        if (epoch + 1) % 10 == 0:\n",
    "            print(f'Epoch [{epoch+1}/{epochs}], Loss: {loss.item():.4f}')\n",
    "\n",
    "        \n",
    "def test_mlp_regressor(regressor, X_test, Y_test):\n",
    "    # Convert the testing data to PyTorch tensors\n",
    "    X_test_tensor = torch.tensor(X_test, dtype=torch.float32)\n",
    "    Y_test_tensor = torch.tensor(Y_test, dtype=torch.float32).squeeze()\n",
    "\n",
    "    # Test the MLP regressor\n",
    "    with torch.no_grad():\n",
    "        outputs = regressor(X_test_tensor)\n",
    "        loss = criterion(outputs, Y_test_tensor)\n",
    "        print(f'Loss: {loss.item():.4f}')\n",
    "        \n",
    "    # Convert the predictions to a NumPy array\n",
    "    return outputs.cpu().detach().numpy().squeeze()"
   ]
  },
  {
   "cell_type": "code",
   "execution_count": 36,
   "metadata": {},
   "outputs": [
    {
     "name": "stdout",
     "output_type": "stream",
     "text": [
      "Epoch [10/7000], Loss: 14.2948\n",
      "Epoch [20/7000], Loss: 5.1964\n",
      "Epoch [30/7000], Loss: 2.6954\n",
      "Epoch [40/7000], Loss: 2.3171\n",
      "Epoch [50/7000], Loss: 2.0019\n",
      "Epoch [60/7000], Loss: 1.7758\n",
      "Epoch [70/7000], Loss: 1.5011\n",
      "Epoch [80/7000], Loss: 1.3308\n",
      "Epoch [90/7000], Loss: 1.1328\n",
      "Epoch [100/7000], Loss: 1.0372\n",
      "Epoch [110/7000], Loss: 0.9415\n",
      "Epoch [120/7000], Loss: 0.7517\n",
      "Epoch [130/7000], Loss: 0.6465\n",
      "Epoch [140/7000], Loss: 0.4639\n",
      "Epoch [150/7000], Loss: 0.3193\n",
      "Epoch [160/7000], Loss: 0.2451\n",
      "Epoch [170/7000], Loss: 0.2565\n",
      "Epoch [180/7000], Loss: 0.2578\n",
      "Epoch [190/7000], Loss: 0.3509\n",
      "Epoch [200/7000], Loss: 0.2532\n",
      "Epoch [210/7000], Loss: 0.2391\n",
      "Epoch [220/7000], Loss: 0.2960\n",
      "Epoch [230/7000], Loss: 0.2491\n",
      "Epoch [240/7000], Loss: 0.3934\n",
      "Epoch [250/7000], Loss: 0.2497\n",
      "Epoch [260/7000], Loss: 0.2288\n",
      "Epoch [270/7000], Loss: 0.3231\n",
      "Epoch [280/7000], Loss: 0.2347\n",
      "Epoch [290/7000], Loss: 0.2427\n",
      "Epoch [300/7000], Loss: 0.2430\n",
      "Epoch [310/7000], Loss: 0.2195\n",
      "Epoch [320/7000], Loss: 0.2499\n",
      "Epoch [330/7000], Loss: 0.3368\n",
      "Epoch [340/7000], Loss: 0.2007\n",
      "Epoch [350/7000], Loss: 0.1599\n",
      "Epoch [360/7000], Loss: 0.1873\n",
      "Epoch [370/7000], Loss: 0.3100\n",
      "Epoch [380/7000], Loss: 0.7089\n",
      "Epoch [390/7000], Loss: 0.1975\n",
      "Epoch [400/7000], Loss: 0.2621\n",
      "Epoch [410/7000], Loss: 0.2573\n",
      "Epoch [420/7000], Loss: 0.3494\n",
      "Epoch [430/7000], Loss: 0.3836\n",
      "Epoch [440/7000], Loss: 0.2414\n",
      "Epoch [450/7000], Loss: 0.3442\n",
      "Epoch [460/7000], Loss: 0.1933\n",
      "Epoch [470/7000], Loss: 0.3335\n",
      "Epoch [480/7000], Loss: 0.1860\n",
      "Epoch [490/7000], Loss: 0.1995\n",
      "Epoch [500/7000], Loss: 0.2593\n",
      "Epoch [510/7000], Loss: 0.2435\n",
      "Epoch [520/7000], Loss: 0.2622\n",
      "Epoch [530/7000], Loss: 0.1606\n",
      "Epoch [540/7000], Loss: 0.1774\n",
      "Epoch [550/7000], Loss: 0.1507\n",
      "Epoch [560/7000], Loss: 0.2280\n",
      "Epoch [570/7000], Loss: 0.2287\n",
      "Epoch [580/7000], Loss: 0.2467\n",
      "Epoch [590/7000], Loss: 0.2961\n",
      "Epoch [600/7000], Loss: 0.2240\n",
      "Epoch [610/7000], Loss: 0.2092\n",
      "Epoch [620/7000], Loss: 0.2887\n",
      "Epoch [630/7000], Loss: 0.2587\n",
      "Epoch [640/7000], Loss: 0.2048\n",
      "Epoch [650/7000], Loss: 0.2988\n",
      "Epoch [660/7000], Loss: 0.2324\n",
      "Epoch [670/7000], Loss: 0.2333\n",
      "Epoch [680/7000], Loss: 0.3594\n",
      "Epoch [690/7000], Loss: 0.2521\n",
      "Epoch [700/7000], Loss: 0.2001\n",
      "Epoch [710/7000], Loss: 0.3384\n",
      "Epoch [720/7000], Loss: 0.2946\n",
      "Epoch [730/7000], Loss: 0.2605\n",
      "Epoch [740/7000], Loss: 0.3993\n",
      "Epoch [750/7000], Loss: 0.1883\n",
      "Epoch [760/7000], Loss: 0.2020\n",
      "Epoch [770/7000], Loss: 0.2965\n",
      "Epoch [780/7000], Loss: 0.2262\n",
      "Epoch [790/7000], Loss: 0.2199\n",
      "Epoch [800/7000], Loss: 0.2448\n",
      "Epoch [810/7000], Loss: 0.1945\n",
      "Epoch [820/7000], Loss: 0.3389\n",
      "Epoch [830/7000], Loss: 0.2424\n",
      "Epoch [840/7000], Loss: 0.1815\n",
      "Epoch [850/7000], Loss: 0.2041\n",
      "Epoch [860/7000], Loss: 0.2100\n",
      "Epoch [870/7000], Loss: 0.2520\n",
      "Epoch [880/7000], Loss: 0.2004\n",
      "Epoch [890/7000], Loss: 0.2198\n",
      "Epoch [900/7000], Loss: 0.1361\n",
      "Epoch [910/7000], Loss: 0.4218\n",
      "Epoch [920/7000], Loss: 0.7397\n",
      "Epoch [930/7000], Loss: 0.1391\n",
      "Epoch [940/7000], Loss: 0.1920\n",
      "Epoch [950/7000], Loss: 0.2312\n",
      "Epoch [960/7000], Loss: 0.2897\n",
      "Epoch [970/7000], Loss: 0.2391\n",
      "Epoch [980/7000], Loss: 0.1715\n",
      "Epoch [990/7000], Loss: 0.2383\n",
      "Epoch [1000/7000], Loss: 0.4903\n",
      "Epoch [1010/7000], Loss: 0.1482\n",
      "Epoch [1020/7000], Loss: 0.4990\n",
      "Epoch [1030/7000], Loss: 0.1746\n",
      "Epoch [1040/7000], Loss: 0.2061\n",
      "Epoch [1050/7000], Loss: 0.1958\n",
      "Epoch [1060/7000], Loss: 0.2233\n",
      "Epoch [1070/7000], Loss: 0.2348\n",
      "Epoch [1080/7000], Loss: 0.2924\n",
      "Epoch [1090/7000], Loss: 0.3025\n",
      "Epoch [1100/7000], Loss: 0.2945\n",
      "Epoch [1110/7000], Loss: 0.3590\n",
      "Epoch [1120/7000], Loss: 0.6836\n",
      "Epoch [1130/7000], Loss: 0.3953\n",
      "Epoch [1140/7000], Loss: 0.2187\n",
      "Epoch [1150/7000], Loss: 0.1575\n",
      "Epoch [1160/7000], Loss: 0.2371\n",
      "Epoch [1170/7000], Loss: 0.2829\n",
      "Epoch [1180/7000], Loss: 0.2954\n",
      "Epoch [1190/7000], Loss: 0.3575\n",
      "Epoch [1200/7000], Loss: 0.3555\n",
      "Epoch [1210/7000], Loss: 0.4357\n",
      "Epoch [1220/7000], Loss: 0.2538\n",
      "Epoch [1230/7000], Loss: 0.2542\n",
      "Epoch [1240/7000], Loss: 0.2856\n",
      "Epoch [1250/7000], Loss: 0.1951\n",
      "Epoch [1260/7000], Loss: 0.3590\n",
      "Epoch [1270/7000], Loss: 0.1955\n",
      "Epoch [1280/7000], Loss: 0.3348\n",
      "Epoch [1290/7000], Loss: 0.0922\n",
      "Epoch [1300/7000], Loss: 0.2131\n",
      "Epoch [1310/7000], Loss: 0.2239\n",
      "Epoch [1320/7000], Loss: 0.1685\n",
      "Epoch [1330/7000], Loss: 0.2695\n"
     ]
    },
    {
     "ename": "KeyboardInterrupt",
     "evalue": "",
     "output_type": "error",
     "traceback": [
      "\u001b[0;31m---------------------------------------------------------------------------\u001b[0m",
      "\u001b[0;31mKeyboardInterrupt\u001b[0m                         Traceback (most recent call last)",
      "Cell \u001b[0;32mIn[36], line 2\u001b[0m\n\u001b[1;32m      1\u001b[0m \u001b[38;5;28;01mif\u001b[39;00m(\u001b[38;5;129;01mnot\u001b[39;00m LOAD_MLP_MODEL):\n\u001b[0;32m----> 2\u001b[0m     \u001b[43mtrain_mlp_regressor\u001b[49m\u001b[43m(\u001b[49m\u001b[43mmlp_regressor\u001b[49m\u001b[43m,\u001b[49m\u001b[43m \u001b[49m\u001b[43moptimizer\u001b[49m\u001b[43m,\u001b[49m\u001b[43m \u001b[49m\u001b[43mepochs\u001b[49m\u001b[38;5;241;43m=\u001b[39;49m\u001b[38;5;241;43m7000\u001b[39;49m\u001b[43m,\u001b[49m\u001b[43m \u001b[49m\u001b[43mbatch_size\u001b[49m\u001b[38;5;241;43m=\u001b[39;49m\u001b[38;5;241;43m500\u001b[39;49m\u001b[43m,\u001b[49m\u001b[43m \u001b[49m\u001b[43mX_train\u001b[49m\u001b[38;5;241;43m=\u001b[39;49m\u001b[43mX_train\u001b[49m\u001b[38;5;241;43m.\u001b[39;49m\u001b[43mvalues\u001b[49m\u001b[43m \u001b[49m\u001b[38;5;28;43;01mif\u001b[39;49;00m\u001b[43m \u001b[49m\u001b[38;5;28;43misinstance\u001b[39;49m\u001b[43m(\u001b[49m\u001b[43mX_train\u001b[49m\u001b[43m,\u001b[49m\u001b[43m \u001b[49m\u001b[43mpd\u001b[49m\u001b[38;5;241;43m.\u001b[39;49m\u001b[43mDataFrame\u001b[49m\u001b[43m)\u001b[49m\u001b[43m \u001b[49m\u001b[38;5;28;43;01melse\u001b[39;49;00m\u001b[43m \u001b[49m\u001b[43mX_train\u001b[49m\u001b[43m,\u001b[49m\u001b[43m \u001b[49m\u001b[43mY_train\u001b[49m\u001b[38;5;241;43m=\u001b[39;49m\u001b[43mnp\u001b[49m\u001b[38;5;241;43m.\u001b[39;49m\u001b[43marray\u001b[49m\u001b[43m(\u001b[49m\u001b[43my_train\u001b[49m\u001b[43m)\u001b[49m\u001b[38;5;241;43m.\u001b[39;49m\u001b[43mreshape\u001b[49m\u001b[43m(\u001b[49m\u001b[38;5;241;43m-\u001b[39;49m\u001b[38;5;241;43m1\u001b[39;49m\u001b[43m,\u001b[49m\u001b[43m \u001b[49m\u001b[38;5;241;43m1\u001b[39;49m\u001b[43m)\u001b[49m\u001b[43m)\u001b[49m\n\u001b[1;32m      3\u001b[0m \u001b[38;5;66;03m# Interrupt this cell whenever it feels like this model has trained enough\u001b[39;00m\n",
      "Cell \u001b[0;32mIn[35], line 65\u001b[0m, in \u001b[0;36mtrain_mlp_regressor\u001b[0;34m(regressor, optimizer, epochs, batch_size, X_train, Y_train)\u001b[0m\n\u001b[1;32m     63\u001b[0m     optimizer\u001b[38;5;241m.\u001b[39mzero_grad()\n\u001b[1;32m     64\u001b[0m     loss\u001b[38;5;241m.\u001b[39mbackward()\n\u001b[0;32m---> 65\u001b[0m     \u001b[43moptimizer\u001b[49m\u001b[38;5;241;43m.\u001b[39;49m\u001b[43mstep\u001b[49m\u001b[43m(\u001b[49m\u001b[43m)\u001b[49m\n\u001b[1;32m     67\u001b[0m \u001b[38;5;28;01mif\u001b[39;00m (epoch \u001b[38;5;241m+\u001b[39m \u001b[38;5;241m1\u001b[39m) \u001b[38;5;241m%\u001b[39m \u001b[38;5;241m10\u001b[39m \u001b[38;5;241m==\u001b[39m \u001b[38;5;241m0\u001b[39m:\n\u001b[1;32m     68\u001b[0m     \u001b[38;5;28mprint\u001b[39m(\u001b[38;5;124mf\u001b[39m\u001b[38;5;124m'\u001b[39m\u001b[38;5;124mEpoch [\u001b[39m\u001b[38;5;132;01m{\u001b[39;00mepoch\u001b[38;5;241m+\u001b[39m\u001b[38;5;241m1\u001b[39m\u001b[38;5;132;01m}\u001b[39;00m\u001b[38;5;124m/\u001b[39m\u001b[38;5;132;01m{\u001b[39;00mepochs\u001b[38;5;132;01m}\u001b[39;00m\u001b[38;5;124m], Loss: \u001b[39m\u001b[38;5;132;01m{\u001b[39;00mloss\u001b[38;5;241m.\u001b[39mitem()\u001b[38;5;132;01m:\u001b[39;00m\u001b[38;5;124m.4f\u001b[39m\u001b[38;5;132;01m}\u001b[39;00m\u001b[38;5;124m'\u001b[39m)\n",
      "File \u001b[0;32m~/miniconda3/envs/kasturi_ml_project/lib/python3.10/site-packages/torch/optim/optimizer.py:373\u001b[0m, in \u001b[0;36mOptimizer.profile_hook_step.<locals>.wrapper\u001b[0;34m(*args, **kwargs)\u001b[0m\n\u001b[1;32m    368\u001b[0m         \u001b[38;5;28;01melse\u001b[39;00m:\n\u001b[1;32m    369\u001b[0m             \u001b[38;5;28;01mraise\u001b[39;00m \u001b[38;5;167;01mRuntimeError\u001b[39;00m(\n\u001b[1;32m    370\u001b[0m                 \u001b[38;5;124mf\u001b[39m\u001b[38;5;124m\"\u001b[39m\u001b[38;5;132;01m{\u001b[39;00mfunc\u001b[38;5;132;01m}\u001b[39;00m\u001b[38;5;124m must return None or a tuple of (new_args, new_kwargs), but got \u001b[39m\u001b[38;5;132;01m{\u001b[39;00mresult\u001b[38;5;132;01m}\u001b[39;00m\u001b[38;5;124m.\u001b[39m\u001b[38;5;124m\"\u001b[39m\n\u001b[1;32m    371\u001b[0m             )\n\u001b[0;32m--> 373\u001b[0m out \u001b[38;5;241m=\u001b[39m \u001b[43mfunc\u001b[49m\u001b[43m(\u001b[49m\u001b[38;5;241;43m*\u001b[39;49m\u001b[43margs\u001b[49m\u001b[43m,\u001b[49m\u001b[43m \u001b[49m\u001b[38;5;241;43m*\u001b[39;49m\u001b[38;5;241;43m*\u001b[39;49m\u001b[43mkwargs\u001b[49m\u001b[43m)\u001b[49m\n\u001b[1;32m    374\u001b[0m \u001b[38;5;28mself\u001b[39m\u001b[38;5;241m.\u001b[39m_optimizer_step_code()\n\u001b[1;32m    376\u001b[0m \u001b[38;5;66;03m# call optimizer step post hooks\u001b[39;00m\n",
      "File \u001b[0;32m~/miniconda3/envs/kasturi_ml_project/lib/python3.10/site-packages/torch/optim/optimizer.py:76\u001b[0m, in \u001b[0;36m_use_grad_for_differentiable.<locals>._use_grad\u001b[0;34m(self, *args, **kwargs)\u001b[0m\n\u001b[1;32m     74\u001b[0m     torch\u001b[38;5;241m.\u001b[39mset_grad_enabled(\u001b[38;5;28mself\u001b[39m\u001b[38;5;241m.\u001b[39mdefaults[\u001b[38;5;124m'\u001b[39m\u001b[38;5;124mdifferentiable\u001b[39m\u001b[38;5;124m'\u001b[39m])\n\u001b[1;32m     75\u001b[0m     torch\u001b[38;5;241m.\u001b[39m_dynamo\u001b[38;5;241m.\u001b[39mgraph_break()\n\u001b[0;32m---> 76\u001b[0m     ret \u001b[38;5;241m=\u001b[39m \u001b[43mfunc\u001b[49m\u001b[43m(\u001b[49m\u001b[38;5;28;43mself\u001b[39;49m\u001b[43m,\u001b[49m\u001b[43m \u001b[49m\u001b[38;5;241;43m*\u001b[39;49m\u001b[43margs\u001b[49m\u001b[43m,\u001b[49m\u001b[43m \u001b[49m\u001b[38;5;241;43m*\u001b[39;49m\u001b[38;5;241;43m*\u001b[39;49m\u001b[43mkwargs\u001b[49m\u001b[43m)\u001b[49m\n\u001b[1;32m     77\u001b[0m \u001b[38;5;28;01mfinally\u001b[39;00m:\n\u001b[1;32m     78\u001b[0m     torch\u001b[38;5;241m.\u001b[39m_dynamo\u001b[38;5;241m.\u001b[39mgraph_break()\n",
      "File \u001b[0;32m~/miniconda3/envs/kasturi_ml_project/lib/python3.10/site-packages/torch/optim/adam.py:163\u001b[0m, in \u001b[0;36mAdam.step\u001b[0;34m(self, closure)\u001b[0m\n\u001b[1;32m    152\u001b[0m     beta1, beta2 \u001b[38;5;241m=\u001b[39m group[\u001b[38;5;124m'\u001b[39m\u001b[38;5;124mbetas\u001b[39m\u001b[38;5;124m'\u001b[39m]\n\u001b[1;32m    154\u001b[0m     \u001b[38;5;28mself\u001b[39m\u001b[38;5;241m.\u001b[39m_init_group(\n\u001b[1;32m    155\u001b[0m         group,\n\u001b[1;32m    156\u001b[0m         params_with_grad,\n\u001b[0;32m   (...)\u001b[0m\n\u001b[1;32m    160\u001b[0m         max_exp_avg_sqs,\n\u001b[1;32m    161\u001b[0m         state_steps)\n\u001b[0;32m--> 163\u001b[0m     \u001b[43madam\u001b[49m\u001b[43m(\u001b[49m\n\u001b[1;32m    164\u001b[0m \u001b[43m        \u001b[49m\u001b[43mparams_with_grad\u001b[49m\u001b[43m,\u001b[49m\n\u001b[1;32m    165\u001b[0m \u001b[43m        \u001b[49m\u001b[43mgrads\u001b[49m\u001b[43m,\u001b[49m\n\u001b[1;32m    166\u001b[0m \u001b[43m        \u001b[49m\u001b[43mexp_avgs\u001b[49m\u001b[43m,\u001b[49m\n\u001b[1;32m    167\u001b[0m \u001b[43m        \u001b[49m\u001b[43mexp_avg_sqs\u001b[49m\u001b[43m,\u001b[49m\n\u001b[1;32m    168\u001b[0m \u001b[43m        \u001b[49m\u001b[43mmax_exp_avg_sqs\u001b[49m\u001b[43m,\u001b[49m\n\u001b[1;32m    169\u001b[0m \u001b[43m        \u001b[49m\u001b[43mstate_steps\u001b[49m\u001b[43m,\u001b[49m\n\u001b[1;32m    170\u001b[0m \u001b[43m        \u001b[49m\u001b[43mamsgrad\u001b[49m\u001b[38;5;241;43m=\u001b[39;49m\u001b[43mgroup\u001b[49m\u001b[43m[\u001b[49m\u001b[38;5;124;43m'\u001b[39;49m\u001b[38;5;124;43mamsgrad\u001b[39;49m\u001b[38;5;124;43m'\u001b[39;49m\u001b[43m]\u001b[49m\u001b[43m,\u001b[49m\n\u001b[1;32m    171\u001b[0m \u001b[43m        \u001b[49m\u001b[43mbeta1\u001b[49m\u001b[38;5;241;43m=\u001b[39;49m\u001b[43mbeta1\u001b[49m\u001b[43m,\u001b[49m\n\u001b[1;32m    172\u001b[0m \u001b[43m        \u001b[49m\u001b[43mbeta2\u001b[49m\u001b[38;5;241;43m=\u001b[39;49m\u001b[43mbeta2\u001b[49m\u001b[43m,\u001b[49m\n\u001b[1;32m    173\u001b[0m \u001b[43m        \u001b[49m\u001b[43mlr\u001b[49m\u001b[38;5;241;43m=\u001b[39;49m\u001b[43mgroup\u001b[49m\u001b[43m[\u001b[49m\u001b[38;5;124;43m'\u001b[39;49m\u001b[38;5;124;43mlr\u001b[39;49m\u001b[38;5;124;43m'\u001b[39;49m\u001b[43m]\u001b[49m\u001b[43m,\u001b[49m\n\u001b[1;32m    174\u001b[0m \u001b[43m        \u001b[49m\u001b[43mweight_decay\u001b[49m\u001b[38;5;241;43m=\u001b[39;49m\u001b[43mgroup\u001b[49m\u001b[43m[\u001b[49m\u001b[38;5;124;43m'\u001b[39;49m\u001b[38;5;124;43mweight_decay\u001b[39;49m\u001b[38;5;124;43m'\u001b[39;49m\u001b[43m]\u001b[49m\u001b[43m,\u001b[49m\n\u001b[1;32m    175\u001b[0m \u001b[43m        \u001b[49m\u001b[43meps\u001b[49m\u001b[38;5;241;43m=\u001b[39;49m\u001b[43mgroup\u001b[49m\u001b[43m[\u001b[49m\u001b[38;5;124;43m'\u001b[39;49m\u001b[38;5;124;43meps\u001b[39;49m\u001b[38;5;124;43m'\u001b[39;49m\u001b[43m]\u001b[49m\u001b[43m,\u001b[49m\n\u001b[1;32m    176\u001b[0m \u001b[43m        \u001b[49m\u001b[43mmaximize\u001b[49m\u001b[38;5;241;43m=\u001b[39;49m\u001b[43mgroup\u001b[49m\u001b[43m[\u001b[49m\u001b[38;5;124;43m'\u001b[39;49m\u001b[38;5;124;43mmaximize\u001b[39;49m\u001b[38;5;124;43m'\u001b[39;49m\u001b[43m]\u001b[49m\u001b[43m,\u001b[49m\n\u001b[1;32m    177\u001b[0m \u001b[43m        \u001b[49m\u001b[43mforeach\u001b[49m\u001b[38;5;241;43m=\u001b[39;49m\u001b[43mgroup\u001b[49m\u001b[43m[\u001b[49m\u001b[38;5;124;43m'\u001b[39;49m\u001b[38;5;124;43mforeach\u001b[39;49m\u001b[38;5;124;43m'\u001b[39;49m\u001b[43m]\u001b[49m\u001b[43m,\u001b[49m\n\u001b[1;32m    178\u001b[0m \u001b[43m        \u001b[49m\u001b[43mcapturable\u001b[49m\u001b[38;5;241;43m=\u001b[39;49m\u001b[43mgroup\u001b[49m\u001b[43m[\u001b[49m\u001b[38;5;124;43m'\u001b[39;49m\u001b[38;5;124;43mcapturable\u001b[39;49m\u001b[38;5;124;43m'\u001b[39;49m\u001b[43m]\u001b[49m\u001b[43m,\u001b[49m\n\u001b[1;32m    179\u001b[0m \u001b[43m        \u001b[49m\u001b[43mdifferentiable\u001b[49m\u001b[38;5;241;43m=\u001b[39;49m\u001b[43mgroup\u001b[49m\u001b[43m[\u001b[49m\u001b[38;5;124;43m'\u001b[39;49m\u001b[38;5;124;43mdifferentiable\u001b[39;49m\u001b[38;5;124;43m'\u001b[39;49m\u001b[43m]\u001b[49m\u001b[43m,\u001b[49m\n\u001b[1;32m    180\u001b[0m \u001b[43m        \u001b[49m\u001b[43mfused\u001b[49m\u001b[38;5;241;43m=\u001b[39;49m\u001b[43mgroup\u001b[49m\u001b[43m[\u001b[49m\u001b[38;5;124;43m'\u001b[39;49m\u001b[38;5;124;43mfused\u001b[39;49m\u001b[38;5;124;43m'\u001b[39;49m\u001b[43m]\u001b[49m\u001b[43m,\u001b[49m\n\u001b[1;32m    181\u001b[0m \u001b[43m        \u001b[49m\u001b[43mgrad_scale\u001b[49m\u001b[38;5;241;43m=\u001b[39;49m\u001b[38;5;28;43mgetattr\u001b[39;49m\u001b[43m(\u001b[49m\u001b[38;5;28;43mself\u001b[39;49m\u001b[43m,\u001b[49m\u001b[43m \u001b[49m\u001b[38;5;124;43m\"\u001b[39;49m\u001b[38;5;124;43mgrad_scale\u001b[39;49m\u001b[38;5;124;43m\"\u001b[39;49m\u001b[43m,\u001b[49m\u001b[43m \u001b[49m\u001b[38;5;28;43;01mNone\u001b[39;49;00m\u001b[43m)\u001b[49m\u001b[43m,\u001b[49m\n\u001b[1;32m    182\u001b[0m \u001b[43m        \u001b[49m\u001b[43mfound_inf\u001b[49m\u001b[38;5;241;43m=\u001b[39;49m\u001b[38;5;28;43mgetattr\u001b[39;49m\u001b[43m(\u001b[49m\u001b[38;5;28;43mself\u001b[39;49m\u001b[43m,\u001b[49m\u001b[43m \u001b[49m\u001b[38;5;124;43m\"\u001b[39;49m\u001b[38;5;124;43mfound_inf\u001b[39;49m\u001b[38;5;124;43m\"\u001b[39;49m\u001b[43m,\u001b[49m\u001b[43m \u001b[49m\u001b[38;5;28;43;01mNone\u001b[39;49;00m\u001b[43m)\u001b[49m\u001b[43m,\u001b[49m\n\u001b[1;32m    183\u001b[0m \u001b[43m    \u001b[49m\u001b[43m)\u001b[49m\n\u001b[1;32m    185\u001b[0m \u001b[38;5;28;01mreturn\u001b[39;00m loss\n",
      "File \u001b[0;32m~/miniconda3/envs/kasturi_ml_project/lib/python3.10/site-packages/torch/optim/adam.py:311\u001b[0m, in \u001b[0;36madam\u001b[0;34m(params, grads, exp_avgs, exp_avg_sqs, max_exp_avg_sqs, state_steps, foreach, capturable, differentiable, fused, grad_scale, found_inf, amsgrad, beta1, beta2, lr, weight_decay, eps, maximize)\u001b[0m\n\u001b[1;32m    308\u001b[0m \u001b[38;5;28;01melse\u001b[39;00m:\n\u001b[1;32m    309\u001b[0m     func \u001b[38;5;241m=\u001b[39m _single_tensor_adam\n\u001b[0;32m--> 311\u001b[0m \u001b[43mfunc\u001b[49m\u001b[43m(\u001b[49m\u001b[43mparams\u001b[49m\u001b[43m,\u001b[49m\n\u001b[1;32m    312\u001b[0m \u001b[43m     \u001b[49m\u001b[43mgrads\u001b[49m\u001b[43m,\u001b[49m\n\u001b[1;32m    313\u001b[0m \u001b[43m     \u001b[49m\u001b[43mexp_avgs\u001b[49m\u001b[43m,\u001b[49m\n\u001b[1;32m    314\u001b[0m \u001b[43m     \u001b[49m\u001b[43mexp_avg_sqs\u001b[49m\u001b[43m,\u001b[49m\n\u001b[1;32m    315\u001b[0m \u001b[43m     \u001b[49m\u001b[43mmax_exp_avg_sqs\u001b[49m\u001b[43m,\u001b[49m\n\u001b[1;32m    316\u001b[0m \u001b[43m     \u001b[49m\u001b[43mstate_steps\u001b[49m\u001b[43m,\u001b[49m\n\u001b[1;32m    317\u001b[0m \u001b[43m     \u001b[49m\u001b[43mamsgrad\u001b[49m\u001b[38;5;241;43m=\u001b[39;49m\u001b[43mamsgrad\u001b[49m\u001b[43m,\u001b[49m\n\u001b[1;32m    318\u001b[0m \u001b[43m     \u001b[49m\u001b[43mbeta1\u001b[49m\u001b[38;5;241;43m=\u001b[39;49m\u001b[43mbeta1\u001b[49m\u001b[43m,\u001b[49m\n\u001b[1;32m    319\u001b[0m \u001b[43m     \u001b[49m\u001b[43mbeta2\u001b[49m\u001b[38;5;241;43m=\u001b[39;49m\u001b[43mbeta2\u001b[49m\u001b[43m,\u001b[49m\n\u001b[1;32m    320\u001b[0m \u001b[43m     \u001b[49m\u001b[43mlr\u001b[49m\u001b[38;5;241;43m=\u001b[39;49m\u001b[43mlr\u001b[49m\u001b[43m,\u001b[49m\n\u001b[1;32m    321\u001b[0m \u001b[43m     \u001b[49m\u001b[43mweight_decay\u001b[49m\u001b[38;5;241;43m=\u001b[39;49m\u001b[43mweight_decay\u001b[49m\u001b[43m,\u001b[49m\n\u001b[1;32m    322\u001b[0m \u001b[43m     \u001b[49m\u001b[43meps\u001b[49m\u001b[38;5;241;43m=\u001b[39;49m\u001b[43meps\u001b[49m\u001b[43m,\u001b[49m\n\u001b[1;32m    323\u001b[0m \u001b[43m     \u001b[49m\u001b[43mmaximize\u001b[49m\u001b[38;5;241;43m=\u001b[39;49m\u001b[43mmaximize\u001b[49m\u001b[43m,\u001b[49m\n\u001b[1;32m    324\u001b[0m \u001b[43m     \u001b[49m\u001b[43mcapturable\u001b[49m\u001b[38;5;241;43m=\u001b[39;49m\u001b[43mcapturable\u001b[49m\u001b[43m,\u001b[49m\n\u001b[1;32m    325\u001b[0m \u001b[43m     \u001b[49m\u001b[43mdifferentiable\u001b[49m\u001b[38;5;241;43m=\u001b[39;49m\u001b[43mdifferentiable\u001b[49m\u001b[43m,\u001b[49m\n\u001b[1;32m    326\u001b[0m \u001b[43m     \u001b[49m\u001b[43mgrad_scale\u001b[49m\u001b[38;5;241;43m=\u001b[39;49m\u001b[43mgrad_scale\u001b[49m\u001b[43m,\u001b[49m\n\u001b[1;32m    327\u001b[0m \u001b[43m     \u001b[49m\u001b[43mfound_inf\u001b[49m\u001b[38;5;241;43m=\u001b[39;49m\u001b[43mfound_inf\u001b[49m\u001b[43m)\u001b[49m\n",
      "File \u001b[0;32m~/miniconda3/envs/kasturi_ml_project/lib/python3.10/site-packages/torch/optim/adam.py:373\u001b[0m, in \u001b[0;36m_single_tensor_adam\u001b[0;34m(params, grads, exp_avgs, exp_avg_sqs, max_exp_avg_sqs, state_steps, grad_scale, found_inf, amsgrad, beta1, beta2, lr, weight_decay, eps, maximize, capturable, differentiable)\u001b[0m\n\u001b[1;32m    370\u001b[0m step_t \u001b[38;5;241m+\u001b[39m\u001b[38;5;241m=\u001b[39m \u001b[38;5;241m1\u001b[39m\n\u001b[1;32m    372\u001b[0m \u001b[38;5;28;01mif\u001b[39;00m weight_decay \u001b[38;5;241m!=\u001b[39m \u001b[38;5;241m0\u001b[39m:\n\u001b[0;32m--> 373\u001b[0m     grad \u001b[38;5;241m=\u001b[39m \u001b[43mgrad\u001b[49m\u001b[38;5;241;43m.\u001b[39;49m\u001b[43madd\u001b[49m\u001b[43m(\u001b[49m\u001b[43mparam\u001b[49m\u001b[43m,\u001b[49m\u001b[43m \u001b[49m\u001b[43malpha\u001b[49m\u001b[38;5;241;43m=\u001b[39;49m\u001b[43mweight_decay\u001b[49m\u001b[43m)\u001b[49m\n\u001b[1;32m    375\u001b[0m \u001b[38;5;28;01mif\u001b[39;00m torch\u001b[38;5;241m.\u001b[39mis_complex(param):\n\u001b[1;32m    376\u001b[0m     grad \u001b[38;5;241m=\u001b[39m torch\u001b[38;5;241m.\u001b[39mview_as_real(grad)\n",
      "File \u001b[0;32m~/miniconda3/envs/kasturi_ml_project/lib/python3.10/site-packages/torch/utils/_device.py:77\u001b[0m, in \u001b[0;36mDeviceContext.__torch_function__\u001b[0;34m(self, func, types, args, kwargs)\u001b[0m\n\u001b[1;32m     75\u001b[0m \u001b[38;5;28;01mif\u001b[39;00m func \u001b[38;5;129;01min\u001b[39;00m _device_constructors() \u001b[38;5;129;01mand\u001b[39;00m kwargs\u001b[38;5;241m.\u001b[39mget(\u001b[38;5;124m'\u001b[39m\u001b[38;5;124mdevice\u001b[39m\u001b[38;5;124m'\u001b[39m) \u001b[38;5;129;01mis\u001b[39;00m \u001b[38;5;28;01mNone\u001b[39;00m:\n\u001b[1;32m     76\u001b[0m     kwargs[\u001b[38;5;124m'\u001b[39m\u001b[38;5;124mdevice\u001b[39m\u001b[38;5;124m'\u001b[39m] \u001b[38;5;241m=\u001b[39m \u001b[38;5;28mself\u001b[39m\u001b[38;5;241m.\u001b[39mdevice\n\u001b[0;32m---> 77\u001b[0m \u001b[38;5;28;01mreturn\u001b[39;00m \u001b[43mfunc\u001b[49m\u001b[43m(\u001b[49m\u001b[38;5;241;43m*\u001b[39;49m\u001b[43margs\u001b[49m\u001b[43m,\u001b[49m\u001b[43m \u001b[49m\u001b[38;5;241;43m*\u001b[39;49m\u001b[38;5;241;43m*\u001b[39;49m\u001b[43mkwargs\u001b[49m\u001b[43m)\u001b[49m\n",
      "\u001b[0;31mKeyboardInterrupt\u001b[0m: "
     ]
    }
   ],
   "source": [
    "if(not LOAD_MLP_MODEL):\n",
    "    train_mlp_regressor(mlp_regressor, optimizer, epochs=7000, batch_size=500, X_train=X_train.values if isinstance(X_train, pd.DataFrame) else X_train, Y_train=np.array(y_train).reshape(-1, 1))\n",
    "# Interrupt this cell whenever it feels like this model has trained enough"
   ]
  },
  {
   "cell_type": "code",
   "execution_count": 37,
   "metadata": {},
   "outputs": [],
   "source": [
    "# Save model to disk\n",
    "if(SAVE_MLP_MODEL):\n",
    "    torch.save(mlp_regressor.state_dict(), MLP_MODEL_PATH)"
   ]
  },
  {
   "cell_type": "code",
   "execution_count": 38,
   "metadata": {},
   "outputs": [
    {
     "name": "stderr",
     "output_type": "stream",
     "text": [
      "/Users/rithikkumars/miniconda3/envs/kasturi_ml_project/lib/python3.10/site-packages/torch/utils/_device.py:77: UserWarning:\n",
      "\n",
      "Using a target size (torch.Size([2412])) that is different to the input size (torch.Size([2412, 1])). This will likely lead to incorrect results due to broadcasting. Please ensure they have the same size.\n",
      "\n"
     ]
    },
    {
     "name": "stdout",
     "output_type": "stream",
     "text": [
      "Loss: 68.7247\n"
     ]
    },
    {
     "data": {
      "text/plain": [
       "Text(0.5, 1.0, 'Accuracy (prediction error < 50): 0.9912935323383084')"
      ]
     },
     "execution_count": 38,
     "metadata": {},
     "output_type": "execute_result"
    },
    {
     "data": {
      "image/png": "[encoded data removed]",
      "text/plain": [
       "<Figure size 640x480 with 1 Axes>"
      ]
     },
     "metadata": {},
     "output_type": "display_data"
    }
   ],
   "source": [
    "\n",
    "y_pred_mlp = test_mlp_regressor(mlp_regressor, X_test.values if isinstance(X_test, pd.DataFrame) else X_test, np.array(y_test).reshape(-1, 1).squeeze())\n",
    "y_pred_mlp = np.rint(y_pred_mlp).astype(int)\n",
    "\n",
    "rounding_graph = 1\n",
    "rounding = 50\n",
    "\n",
    "plt.plot(np.floor(y_test//rounding_graph) * rounding_graph, np.floor(y_pred_mlp//rounding_graph) * rounding_graph, 'o')\n",
    "# accuracy = accuracy_score(np.floor(y_test//rounding) * rounding, np.floor(y_pred_mlp//rounding) * rounding)\n",
    "accuracy = calculate_accuracy(y_test, y_pred_mlp, rounding)\n",
    "\n",
    "plt.xlabel('Actual')\n",
    "plt.ylabel('Predicted')\n",
    "plt.title('Accuracy (prediction error < {}): {}'.format(rounding, accuracy))"
   ]
  },
  {
   "cell_type": "code",
   "execution_count": null,
   "metadata": {},
   "outputs": [],
   "source": [
    "\n",
    "# y_pred_mlp = test_mlp_regressor(X_train.values if isinstance(X_train, pd.DataFrame) else X_train, np.array(y_train).reshape(-1, 1).squeeze())\n",
    "# y_pred_mlp = np.rint(y_pred_mlp).astype(int)\n",
    "\n",
    "# rounding = 10\n",
    "\n",
    "# plt.plot(np.floor(y_train//rounding) * rounding, np.floor(y_pred_mlp//rounding) * rounding, 'o')\n",
    "# accuracy = accuracy_score(np.floor(y_train//rounding) * rounding, np.floor(y_pred_mlp//rounding) * rounding)\n",
    "\n",
    "# plt.xlabel('Actual')\n",
    "# plt.ylabel('Predicted')\n",
    "# plt.title('Accuracy (within nearest {}): {}'.format(rounding, accuracy))"
   ]
  },
  {
   "cell_type": "code",
   "execution_count": 39,
   "metadata": {},
   "outputs": [
    {
     "data": {
      "image/png": "[encoded data removed]",
      "text/plain": [
       "<Figure size 1000x600 with 1 Axes>"
      ]
     },
     "metadata": {},
     "output_type": "display_data"
    },
    {
     "name": "stdout",
     "output_type": "stream",
     "text": [
      "The mean error is 1.3536484245439468 and the standard deviation of the errors is 7.810179018919614\n"
     ]
    },
    {
     "data": {
      "image/png": "[encoded data removed]",
      "text/plain": [
       "<Figure size 1000x600 with 1 Axes>"
      ]
     },
     "metadata": {},
     "output_type": "display_data"
    }
   ],
   "source": [
    "plot_error_frequency(y_pred_mlp, y_test, 'MLP', rounding)"
   ]
  },
  {
   "cell_type": "code",
   "execution_count": 40,
   "metadata": {},
   "outputs": [
    {
     "data": {
      "application/vnd.plotly.v1+json": {
       "config": {
        "plotlyServerURL": "https://plot.ly"
       },
       "data": [
        {
         "type": "bar",
         "x": [
          0,
          2,
          5,
          6,
          7,
          8,
          9,
          10,
          11,
          12,
          13,
          14,
          15,
          16,
          17,
          18,
          19,
          20,
          21,
          22,
          23,
          24,
          25,
          26,
          27,
          28,
          29,
          30,
          31,
          32,
          33,
          34,
          35,
          36,
          37,
          38,
          39,
          40,
          41,
          42,
          43,
          44,
          45,
          46,
          47,
          48,
          49,
          50,
          51,
          52,
          53,
          54,
          55,
          56,
          57,
          58,
          59,
          60,
          61,
          62,
          63,
          64,
          65,
          66,
          67,
          68,
          69,
          70,
          71,
          72,
          73,
          74,
          75,
          76,
          77,
          78,
          79,
          80,
          81,
          82,
          83,
          84,
          85,
          86,
          87,
          88,
          89,
          90,
          91,
          92,
          93,
          94,
          95,
          96,
          97,
          98,
          99,
          100,
          101,
          102,
          103,
          104,
          105,
          106,
          107,
          108,
          109,
          110,
          111,
          112,
          113,
          114,
          115,
          116,
          117,
          118,
          119,
          120,
          121,
          122,
          123,
          124,
          125,
          126,
          127,
          128,
          129,
          130,
          131,
          132,
          133,
          134,
          135,
          136,
          137,
          138,
          139,
          140,
          141,
          142,
          143,
          144,
          145,
          146,
          147,
          148,
          149,
          150,
          151,
          152,
          153,
          154,
          155,
          156,
          157,
          158,
          159,
          160,
          161,
          162,
          163,
          164,
          165,
          166,
          167,
          168,
          169,
          170,
          171,
          172,
          173,
          174,
          175,
          176,
          177,
          178,
          179,
          180,
          181,
          182,
          183,
          184,
          185,
          186,
          187,
          188,
          189,
          190,
          191,
          192,
          193,
          194,
          195,
          196,
          197,
          198,
          199,
          200,
          201,
          202,
          203,
          204,
          205,
          206,
          207,
          208,
          209,
          210,
          211,
          212,
          213,
          214,
          215,
          216,
          217,
          218,
          219,
          220,
          221,
          222,
          223,
          224,
          225,
          226,
          227,
          228,
          229,
          230,
          231,
          232,
          233,
          234,
          235,
          236,
          237,
          238,
          239,
          240,
          241,
          242,
          243,
          244,
          245,
          246,
          247,
          248,
          249,
          250,
          251,
          252,
          253,
          254,
          255,
          256,
          257,
          258,
          259,
          260,
          261,
          262,
          263,
          264,
          265,
          266,
          267,
          268,
          269,
          270,
          271,
          272,
          273,
          274,
          275,
          276,
          277,
          278,
          279,
          280,
          281,
          282,
          283,
          284,
          285,
          286,
          287,
          288,
          289,
          292,
          293,
          294,
          295,
          296,
          297,
          298,
          299,
          300,
          301,
          302,
          303,
          304,
          305,
          306,
          307,
          308,
          309,
          310,
          311,
          312,
          314,
          315,
          316,
          317,
          318,
          319,
          320,
          321,
          323,
          325,
          326,
          327,
          328,
          329,
          330,
          331,
          332,
          333,
          334,
          335,
          336,
          337,
          338,
          339,
          341,
          342,
          343,
          344,
          345,
          346,
          348,
          349,
          350,
          351,
          355,
          356,
          357,
          358,
          359,
          360,
          361,
          362,
          363,
          364,
          365,
          366,
          367,
          368,
          369,
          370,
          372,
          375,
          377,
          378,
          379,
          380,
          381,
          382,
          385,
          387,
          388,
          391,
          392,
          393,
          395,
          399,
          401,
          402,
          404,
          407,
          410,
          412,
          416,
          418,
          419,
          420,
          422,
          425,
          429,
          431,
          433,
          440,
          443,
          451,
          452,
          453,
          457,
          467,
          469,
          471,
          473,
          474,
          478,
          480,
          485,
          487,
          492,
          495,
          502,
          504,
          505,
          516,
          517,
          533,
          569,
          573,
          581,
          585,
          591,
          598,
          603,
          607,
          619,
          622,
          655,
          726,
          795,
          847,
          972,
          1022,
          1063,
          1102,
          1160,
          1344,
          1438,
          1527,
          2368,
          2556,
          3161
         ],
         "y": [
          1,
          1,
          1,
          3,
          3,
          1,
          3,
          1,
          4,
          4,
          7,
          7,
          13,
          14,
          14,
          12,
          16,
          14,
          23,
          22,
          31,
          30,
          21,
          31,
          51,
          29,
          42,
          55,
          46,
          49,
          57,
          77,
          75,
          81,
          76,
          77,
          73,
          89,
          107,
          100,
          92,
          105,
          104,
          123,
          100,
          116,
          134,
          115,
          113,
          116,
          128,
          128,
          143,
          112,
          118,
          127,
          108,
          112,
          116,
          119,
          116,
          108,
          126,
          107,
          91,
          102,
          88,
          121,
          105,
          112,
          89,
          99,
          87,
          92,
          97,
          97,
          101,
          84,
          95,
          89,
          87,
          83,
          84,
          87,
          107,
          81,
          85,
          90,
          80,
          76,
          75,
          79,
          76,
          75,
          61,
          65,
          56,
          60,
          64,
          68,
          74,
          55,
          73,
          59,
          50,
          57,
          46,
          70,
          50,
          58,
          52,
          55,
          52,
          47,
          76,
          64,
          50,
          47,
          50,
          60,
          48,
          42,
          49,
          42,
          49,
          59,
          49,
          56,
          53,
          46,
          53,
          47,
          39,
          41,
          54,
          41,
          62,
          51,
          47,
          43,
          44,
          34,
          39,
          43,
          39,
          38,
          49,
          51,
          46,
          28,
          43,
          40,
          40,
          25,
          36,
          41,
          33,
          37,
          33,
          27,
          41,
          39,
          33,
          37,
          30,
          26,
          37,
          34,
          35,
          28,
          22,
          27,
          35,
          28,
          35,
          22,
          26,
          27,
          18,
          15,
          27,
          24,
          31,
          32,
          19,
          21,
          25,
          25,
          21,
          22,
          19,
          18,
          22,
          22,
          16,
          13,
          17,
          12,
          15,
          28,
          17,
          19,
          9,
          18,
          9,
          21,
          10,
          12,
          18,
          19,
          11,
          12,
          10,
          13,
          10,
          19,
          16,
          13,
          18,
          7,
          4,
          11,
          13,
          8,
          6,
          8,
          8,
          6,
          9,
          4,
          9,
          8,
          5,
          6,
          7,
          12,
          11,
          8,
          4,
          4,
          7,
          4,
          7,
          6,
          3,
          8,
          3,
          6,
          7,
          9,
          8,
          4,
          9,
          8,
          3,
          5,
          5,
          9,
          6,
          7,
          4,
          6,
          3,
          5,
          6,
          5,
          4,
          4,
          2,
          4,
          4,
          1,
          5,
          3,
          6,
          4,
          5,
          5,
          1,
          2,
          2,
          3,
          6,
          5,
          1,
          2,
          4,
          1,
          4,
          2,
          2,
          2,
          4,
          6,
          3,
          3,
          3,
          7,
          4,
          6,
          1,
          3,
          3,
          2,
          2,
          3,
          1,
          2,
          1,
          4,
          2,
          1,
          2,
          3,
          2,
          3,
          3,
          3,
          1,
          1,
          2,
          1,
          3,
          4,
          2,
          2,
          2,
          1,
          2,
          1,
          1,
          1,
          1,
          1,
          1,
          5,
          2,
          1,
          2,
          1,
          2,
          1,
          1,
          1,
          2,
          1,
          2,
          1,
          1,
          1,
          2,
          3,
          2,
          2,
          4,
          2,
          2,
          2,
          1,
          1,
          2,
          1,
          1,
          1,
          3,
          3,
          2,
          2,
          4,
          3,
          3,
          1,
          1,
          1,
          1,
          2,
          1,
          1,
          2,
          1,
          3,
          1,
          1,
          1,
          1,
          2,
          1,
          1,
          1,
          1,
          1,
          1,
          1,
          1,
          1,
          1,
          1,
          1,
          1,
          1,
          1,
          1,
          1,
          2,
          1,
          1,
          1,
          1,
          1,
          1,
          1,
          1,
          1,
          1,
          1,
          1,
          1,
          1,
          1,
          1,
          1,
          1,
          1,
          1,
          1,
          1,
          1,
          1,
          1,
          1,
          1,
          1,
          1,
          1,
          1,
          1,
          1
         ]
        }
       ],
       "layout": {
        "template": {
         "data": {
          "bar": [
           {
            "error_x": {
             "color": "#2a3f5f"
            },
            "error_y": {
             "color": "#2a3f5f"
            },
            "marker": {
             "line": {
              "color": "#E5ECF6",
              "width": 0.5
             },
             "pattern": {
              "fillmode": "overlay",
              "size": 10,
              "solidity": 0.2
             }
            },
            "type": "bar"
           }
          ],
          "barpolar": [
           {
            "marker": {
             "line": {
              "color": "#E5ECF6",
              "width": 0.5
             },
             "pattern": {
              "fillmode": "overlay",
              "size": 10,
              "solidity": 0.2
             }
            },
            "type": "barpolar"
           }
          ],
          "carpet": [
           {
            "aaxis": {
             "endlinecolor": "#2a3f5f",
             "gridcolor": "white",
             "linecolor": "white",
             "minorgridcolor": "white",
             "startlinecolor": "#2a3f5f"
            },
            "baxis": {
             "endlinecolor": "#2a3f5f",
             "gridcolor": "white",
             "linecolor": "white",
             "minorgridcolor": "white",
             "startlinecolor": "#2a3f5f"
            },
            "type": "carpet"
           }
          ],
          "choropleth": [
           {
            "colorbar": {
             "outlinewidth": 0,
             "ticks": ""
            },
            "type": "choropleth"
           }
          ],
          "contour": [
           {
            "colorbar": {
             "outlinewidth": 0,
             "ticks": ""
            },
            "colorscale": [
             [
              0,
              "#0d0887"
             ],
             [
              0.1111111111111111,
              "#46039f"
             ],
             [
              0.2222222222222222,
              "#7201a8"
             ],
             [
              0.3333333333333333,
              "#9c179e"
             ],
             [
              0.4444444444444444,
              "#bd3786"
             ],
             [
              0.5555555555555556,
              "#d8576b"
             ],
             [
              0.6666666666666666,
              "#ed7953"
             ],
             [
              0.7777777777777778,
              "#fb9f3a"
             ],
             [
              0.8888888888888888,
              "#fdca26"
             ],
             [
              1,
              "#f0f921"
             ]
            ],
            "type": "contour"
           }
          ],
          "contourcarpet": [
           {
            "colorbar": {
             "outlinewidth": 0,
             "ticks": ""
            },
            "type": "contourcarpet"
           }
          ],
          "heatmap": [
           {
            "colorbar": {
             "outlinewidth": 0,
             "ticks": ""
            },
            "colorscale": [
             [
              0,
              "#0d0887"
             ],
             [
              0.1111111111111111,
              "#46039f"
             ],
             [
              0.2222222222222222,
              "#7201a8"
             ],
             [
              0.3333333333333333,
              "#9c179e"
             ],
             [
              0.4444444444444444,
              "#bd3786"
             ],
             [
              0.5555555555555556,
              "#d8576b"
             ],
             [
              0.6666666666666666,
              "#ed7953"
             ],
             [
              0.7777777777777778,
              "#fb9f3a"
             ],
             [
              0.8888888888888888,
              "#fdca26"
             ],
             [
              1,
              "#f0f921"
             ]
            ],
            "type": "heatmap"
           }
          ],
          "heatmapgl": [
           {
            "colorbar": {
             "outlinewidth": 0,
             "ticks": ""
            },
            "colorscale": [
             [
              0,
              "#0d0887"
             ],
             [
              0.1111111111111111,
              "#46039f"
             ],
             [
              0.2222222222222222,
              "#7201a8"
             ],
             [
              0.3333333333333333,
              "#9c179e"
             ],
             [
              0.4444444444444444,
              "#bd3786"
             ],
             [
              0.5555555555555556,
              "#d8576b"
             ],
             [
              0.6666666666666666,
              "#ed7953"
             ],
             [
              0.7777777777777778,
              "#fb9f3a"
             ],
             [
              0.8888888888888888,
              "#fdca26"
             ],
             [
              1,
              "#f0f921"
             ]
            ],
            "type": "heatmapgl"
           }
          ],
          "histogram": [
           {
            "marker": {
             "pattern": {
              "fillmode": "overlay",
              "size": 10,
              "solidity": 0.2
             }
            },
            "type": "histogram"
           }
          ],
          "histogram2d": [
           {
            "colorbar": {
             "outlinewidth": 0,
             "ticks": ""
            },
            "colorscale": [
             [
              0,
              "#0d0887"
             ],
             [
              0.1111111111111111,
              "#46039f"
             ],
             [
              0.2222222222222222,
              "#7201a8"
             ],
             [
              0.3333333333333333,
              "#9c179e"
             ],
             [
              0.4444444444444444,
              "#bd3786"
             ],
             [
              0.5555555555555556,
              "#d8576b"
             ],
             [
              0.6666666666666666,
              "#ed7953"
             ],
             [
              0.7777777777777778,
              "#fb9f3a"
             ],
             [
              0.8888888888888888,
              "#fdca26"
             ],
             [
              1,
              "#f0f921"
             ]
            ],
            "type": "histogram2d"
           }
          ],
          "histogram2dcontour": [
           {
            "colorbar": {
             "outlinewidth": 0,
             "ticks": ""
            },
            "colorscale": [
             [
              0,
              "#0d0887"
             ],
             [
              0.1111111111111111,
              "#46039f"
             ],
             [
              0.2222222222222222,
              "#7201a8"
             ],
             [
              0.3333333333333333,
              "#9c179e"
             ],
             [
              0.4444444444444444,
              "#bd3786"
             ],
             [
              0.5555555555555556,
              "#d8576b"
             ],
             [
              0.6666666666666666,
              "#ed7953"
             ],
             [
              0.7777777777777778,
              "#fb9f3a"
             ],
             [
              0.8888888888888888,
              "#fdca26"
             ],
             [
              1,
              "#f0f921"
             ]
            ],
            "type": "histogram2dcontour"
           }
          ],
          "mesh3d": [
           {
            "colorbar": {
             "outlinewidth": 0,
             "ticks": ""
            },
            "type": "mesh3d"
           }
          ],
          "parcoords": [
           {
            "line": {
             "colorbar": {
              "outlinewidth": 0,
              "ticks": ""
             }
            },
            "type": "parcoords"
           }
          ],
          "pie": [
           {
            "automargin": true,
            "type": "pie"
           }
          ],
          "scatter": [
           {
            "fillpattern": {
             "fillmode": "overlay",
             "size": 10,
             "solidity": 0.2
            },
            "type": "scatter"
           }
          ],
          "scatter3d": [
           {
            "line": {
             "colorbar": {
              "outlinewidth": 0,
              "ticks": ""
             }
            },
            "marker": {
             "colorbar": {
              "outlinewidth": 0,
              "ticks": ""
             }
            },
            "type": "scatter3d"
           }
          ],
          "scattercarpet": [
           {
            "marker": {
             "colorbar": {
              "outlinewidth": 0,
              "ticks": ""
             }
            },
            "type": "scattercarpet"
           }
          ],
          "scattergeo": [
           {
            "marker": {
             "colorbar": {
              "outlinewidth": 0,
              "ticks": ""
             }
            },
            "type": "scattergeo"
           }
          ],
          "scattergl": [
           {
            "marker": {
             "colorbar": {
              "outlinewidth": 0,
              "ticks": ""
             }
            },
            "type": "scattergl"
           }
          ],
          "scattermapbox": [
           {
            "marker": {
             "colorbar": {
              "outlinewidth": 0,
              "ticks": ""
             }
            },
            "type": "scattermapbox"
           }
          ],
          "scatterpolar": [
           {
            "marker": {
             "colorbar": {
              "outlinewidth": 0,
              "ticks": ""
             }
            },
            "type": "scatterpolar"
           }
          ],
          "scatterpolargl": [
           {
            "marker": {
             "colorbar": {
              "outlinewidth": 0,
              "ticks": ""
             }
            },
            "type": "scatterpolargl"
           }
          ],
          "scatterternary": [
           {
            "marker": {
             "colorbar": {
              "outlinewidth": 0,
              "ticks": ""
             }
            },
            "type": "scatterternary"
           }
          ],
          "surface": [
           {
            "colorbar": {
             "outlinewidth": 0,
             "ticks": ""
            },
            "colorscale": [
             [
              0,
              "#0d0887"
             ],
             [
              0.1111111111111111,
              "#46039f"
             ],
             [
              0.2222222222222222,
              "#7201a8"
             ],
             [
              0.3333333333333333,
              "#9c179e"
             ],
             [
              0.4444444444444444,
              "#bd3786"
             ],
             [
              0.5555555555555556,
              "#d8576b"
             ],
             [
              0.6666666666666666,
              "#ed7953"
             ],
             [
              0.7777777777777778,
              "#fb9f3a"
             ],
             [
              0.8888888888888888,
              "#fdca26"
             ],
             [
              1,
              "#f0f921"
             ]
            ],
            "type": "surface"
           }
          ],
          "table": [
           {
            "cells": {
             "fill": {
              "color": "#EBF0F8"
             },
             "line": {
              "color": "white"
             }
            },
            "header": {
             "fill": {
              "color": "#C8D4E3"
             },
             "line": {
              "color": "white"
             }
            },
            "type": "table"
           }
          ]
         },
         "layout": {
          "annotationdefaults": {
           "arrowcolor": "#2a3f5f",
           "arrowhead": 0,
           "arrowwidth": 1
          },
          "autotypenumbers": "strict",
          "coloraxis": {
           "colorbar": {
            "outlinewidth": 0,
            "ticks": ""
           }
          },
          "colorscale": {
           "diverging": [
            [
             0,
             "#8e0152"
            ],
            [
             0.1,
             "#c51b7d"
            ],
            [
             0.2,
             "#de77ae"
            ],
            [
             0.3,
             "#f1b6da"
            ],
            [
             0.4,
             "#fde0ef"
            ],
            [
             0.5,
             "#f7f7f7"
            ],
            [
             0.6,
             "#e6f5d0"
            ],
            [
             0.7,
             "#b8e186"
            ],
            [
             0.8,
             "#7fbc41"
            ],
            [
             0.9,
             "#4d9221"
            ],
            [
             1,
             "#276419"
            ]
           ],
           "sequential": [
            [
             0,
             "#0d0887"
            ],
            [
             0.1111111111111111,
             "#46039f"
            ],
            [
             0.2222222222222222,
             "#7201a8"
            ],
            [
             0.3333333333333333,
             "#9c179e"
            ],
            [
             0.4444444444444444,
             "#bd3786"
            ],
            [
             0.5555555555555556,
             "#d8576b"
            ],
            [
             0.6666666666666666,
             "#ed7953"
            ],
            [
             0.7777777777777778,
             "#fb9f3a"
            ],
            [
             0.8888888888888888,
             "#fdca26"
            ],
            [
             1,
             "#f0f921"
            ]
           ],
           "sequentialminus": [
            [
             0,
             "#0d0887"
            ],
            [
             0.1111111111111111,
             "#46039f"
            ],
            [
             0.2222222222222222,
             "#7201a8"
            ],
            [
             0.3333333333333333,
             "#9c179e"
            ],
            [
             0.4444444444444444,
             "#bd3786"
            ],
            [
             0.5555555555555556,
             "#d8576b"
            ],
            [
             0.6666666666666666,
             "#ed7953"
            ],
            [
             0.7777777777777778,
             "#fb9f3a"
            ],
            [
             0.8888888888888888,
             "#fdca26"
            ],
            [
             1,
             "#f0f921"
            ]
           ]
          },
          "colorway": [
           "#636efa",
           "#EF553B",
           "#00cc96",
           "#ab63fa",
           "#FFA15A",
           "#19d3f3",
           "#FF6692",
           "#B6E880",
           "#FF97FF",
           "#FECB52"
          ],
          "font": {
           "color": "#2a3f5f"
          },
          "geo": {
           "bgcolor": "white",
           "lakecolor": "white",
           "landcolor": "#E5ECF6",
           "showlakes": true,
           "showland": true,
           "subunitcolor": "white"
          },
          "hoverlabel": {
           "align": "left"
          },
          "hovermode": "closest",
          "mapbox": {
           "style": "light"
          },
          "paper_bgcolor": "white",
          "plot_bgcolor": "#E5ECF6",
          "polar": {
           "angularaxis": {
            "gridcolor": "white",
            "linecolor": "white",
            "ticks": ""
           },
           "bgcolor": "#E5ECF6",
           "radialaxis": {
            "gridcolor": "white",
            "linecolor": "white",
            "ticks": ""
           }
          },
          "scene": {
           "xaxis": {
            "backgroundcolor": "#E5ECF6",
            "gridcolor": "white",
            "gridwidth": 2,
            "linecolor": "white",
            "showbackground": true,
            "ticks": "",
            "zerolinecolor": "white"
           },
           "yaxis": {
            "backgroundcolor": "#E5ECF6",
            "gridcolor": "white",
            "gridwidth": 2,
            "linecolor": "white",
            "showbackground": true,
            "ticks": "",
            "zerolinecolor": "white"
           },
           "zaxis": {
            "backgroundcolor": "#E5ECF6",
            "gridcolor": "white",
            "gridwidth": 2,
            "linecolor": "white",
            "showbackground": true,
            "ticks": "",
            "zerolinecolor": "white"
           }
          },
          "shapedefaults": {
           "line": {
            "color": "#2a3f5f"
           }
          },
          "ternary": {
           "aaxis": {
            "gridcolor": "white",
            "linecolor": "white",
            "ticks": ""
           },
           "baxis": {
            "gridcolor": "white",
            "linecolor": "white",
            "ticks": ""
           },
           "bgcolor": "#E5ECF6",
           "caxis": {
            "gridcolor": "white",
            "linecolor": "white",
            "ticks": ""
           }
          },
          "title": {
           "x": 0.05
          },
          "xaxis": {
           "automargin": true,
           "gridcolor": "white",
           "linecolor": "white",
           "ticks": "",
           "title": {
            "standoff": 15
           },
           "zerolinecolor": "white",
           "zerolinewidth": 2
          },
          "yaxis": {
           "automargin": true,
           "gridcolor": "white",
           "linecolor": "white",
           "ticks": "",
           "title": {
            "standoff": 15
           },
           "zerolinecolor": "white",
           "zerolinewidth": 2
          }
         }
        },
        "title": {
         "text": "Data Distribution"
        },
        "xaxis": {
         "title": {
          "text": "Unique Values"
         },
         "type": "category"
        },
        "yaxis": {
         "title": {
          "text": "Frequency"
         }
        }
       }
      }
     },
     "metadata": {},
     "output_type": "display_data"
    },
    {
     "name": "stdout",
     "output_type": "stream",
     "text": [
      "The mean of the data distribution is 106.15045624222314 and the standard deviation is 86.69586631438021\n"
     ]
    }
   ],
   "source": [
    "plot_data_distribution(y)"
   ]
  },
  {
   "cell_type": "code",
   "execution_count": 41,
   "metadata": {},
   "outputs": [],
   "source": [
    "# Create a DataFrame with the test and pred values\n",
    "df = pd.DataFrame({'Test': y_test, 'Pred': y_pred_mlp})\n",
    "\n",
    "# Save the DataFrame to a CSV file\n",
    "df.to_csv('mlp_test_pred.csv', index=False)"
   ]
  },
  {
   "cell_type": "code",
   "execution_count": 42,
   "metadata": {},
   "outputs": [],
   "source": [
    "# split data into different bins, one for data below y <= 250 and one for data y > 250.\n",
    "# then, for bin y <= 250, split into test and train sets. do the same for bin y > 250.\n",
    "# train 2 different MLP models based on MLP regressor module. graph out the results after all this.\n",
    "\n",
    "# X, Y are the full data set\n",
    "\n",
    "# splitting the data into bins of y <=250 and y > 250\n",
    "\n",
    "# print(X.shape, Y.shape)\n",
    "\n",
    "# print(Y <= 250)\n",
    "\n",
    "X_bin_1 = X[Y.values <= 250]\n",
    "Y_bin_1 = Y[Y.values <= 250]\n",
    "\n",
    "X_bin_2 = X[Y.values > 250]\n",
    "Y_bin_2 = Y[Y.values > 250]\n",
    "\n",
    "# splitting the data into test and train sets\n",
    "X_bin_1_train, X_bin_1_test, Y_bin_1_train, Y_bin_1_test = train_test_split(X_bin_1, Y_bin_1, test_size=0.2, random_state=42)\n",
    "X_bin_2_train, X_bin_2_test, Y_bin_2_train, Y_bin_2_test = train_test_split(X_bin_2, Y_bin_2, test_size=0.2, random_state=42)\n",
    "\n",
    "# training the MLP models\n",
    "mlp_regressor_bin_1 = MLPRegressor(input_size, hidden_size).to(device)\n",
    "mlp_regressor_bin_2 = MLPRegressor(input_size, hidden_size).to(device)\n",
    "\n",
    "# optimizers for both the bins\n",
    "optimizer_bin_1 = torch.optim.Adam(mlp_regressor_bin_1.parameters(), lr=0.001, weight_decay=1e-5)\n",
    "optimizer_bin_2 = torch.optim.Adam(mlp_regressor_bin_2.parameters(), lr=0.001, weight_decay=1e-5)"
   ]
  },
  {
   "cell_type": "code",
   "execution_count": 43,
   "metadata": {},
   "outputs": [
    {
     "name": "stdout",
     "output_type": "stream",
     "text": [
      "Epoch [10/4000], Loss: 28.6068\n",
      "Epoch [20/4000], Loss: 7.3737\n",
      "Epoch [30/4000], Loss: 3.5599\n",
      "Epoch [40/4000], Loss: 3.0639\n",
      "Epoch [50/4000], Loss: 2.3911\n",
      "Epoch [60/4000], Loss: 2.2217\n",
      "Epoch [70/4000], Loss: 2.1937\n",
      "Epoch [80/4000], Loss: 2.3157\n",
      "Epoch [90/4000], Loss: 2.6132\n",
      "Epoch [100/4000], Loss: 2.5505\n",
      "Epoch [110/4000], Loss: 2.5923\n",
      "Epoch [120/4000], Loss: 1.9970\n",
      "Epoch [130/4000], Loss: 2.0844\n",
      "Epoch [140/4000], Loss: 2.2435\n",
      "Epoch [150/4000], Loss: 2.1378\n",
      "Epoch [160/4000], Loss: 2.3368\n",
      "Epoch [170/4000], Loss: 2.0803\n",
      "Epoch [180/4000], Loss: 1.9964\n",
      "Epoch [190/4000], Loss: 2.2165\n",
      "Epoch [200/4000], Loss: 2.8012\n",
      "Epoch [210/4000], Loss: 2.3430\n",
      "Epoch [220/4000], Loss: 2.2433\n",
      "Epoch [230/4000], Loss: 2.5008\n",
      "Epoch [240/4000], Loss: 2.0805\n",
      "Epoch [250/4000], Loss: 2.4850\n",
      "Epoch [260/4000], Loss: 2.0704\n",
      "Epoch [270/4000], Loss: 2.2550\n",
      "Epoch [280/4000], Loss: 2.4921\n",
      "Epoch [290/4000], Loss: 1.7744\n",
      "Epoch [300/4000], Loss: 2.2169\n",
      "Epoch [310/4000], Loss: 1.9754\n",
      "Epoch [320/4000], Loss: 1.9281\n",
      "Epoch [330/4000], Loss: 1.9888\n",
      "Epoch [340/4000], Loss: 1.8923\n",
      "Epoch [350/4000], Loss: 2.2056\n",
      "Epoch [360/4000], Loss: 2.4003\n",
      "Epoch [370/4000], Loss: 1.8528\n",
      "Epoch [380/4000], Loss: 1.9763\n",
      "Epoch [390/4000], Loss: 2.1668\n",
      "Epoch [400/4000], Loss: 1.9607\n",
      "Epoch [410/4000], Loss: 1.9167\n",
      "Epoch [420/4000], Loss: 2.3062\n",
      "Epoch [430/4000], Loss: 2.1032\n",
      "Epoch [440/4000], Loss: 2.0544\n",
      "Epoch [450/4000], Loss: 2.0268\n",
      "Epoch [460/4000], Loss: 2.0514\n",
      "Epoch [470/4000], Loss: 1.7499\n",
      "Epoch [480/4000], Loss: 2.3599\n",
      "Epoch [490/4000], Loss: 2.5267\n",
      "Epoch [500/4000], Loss: 2.0127\n",
      "Epoch [510/4000], Loss: 2.1500\n",
      "Epoch [520/4000], Loss: 2.1988\n",
      "Epoch [530/4000], Loss: 1.9927\n",
      "Epoch [540/4000], Loss: 2.8090\n",
      "Epoch [550/4000], Loss: 2.2338\n",
      "Epoch [560/4000], Loss: 2.5028\n",
      "Epoch [570/4000], Loss: 1.8587\n",
      "Epoch [580/4000], Loss: 1.9815\n",
      "Epoch [590/4000], Loss: 1.9395\n",
      "Epoch [600/4000], Loss: 2.5903\n",
      "Epoch [610/4000], Loss: 1.8550\n",
      "Epoch [620/4000], Loss: 1.8091\n",
      "Epoch [630/4000], Loss: 2.0293\n",
      "Epoch [640/4000], Loss: 2.4023\n",
      "Epoch [650/4000], Loss: 2.0924\n",
      "Epoch [660/4000], Loss: 2.1354\n",
      "Epoch [670/4000], Loss: 2.2459\n",
      "Epoch [680/4000], Loss: 1.9748\n",
      "Epoch [690/4000], Loss: 2.2553\n",
      "Epoch [700/4000], Loss: 1.9692\n",
      "Epoch [710/4000], Loss: 1.8587\n",
      "Epoch [720/4000], Loss: 2.5438\n",
      "Epoch [730/4000], Loss: 2.2418\n",
      "Epoch [740/4000], Loss: 1.9829\n",
      "Epoch [750/4000], Loss: 1.8932\n",
      "Epoch [760/4000], Loss: 1.8874\n",
      "Epoch [770/4000], Loss: 1.9274\n",
      "Epoch [780/4000], Loss: 2.0125\n",
      "Epoch [790/4000], Loss: 2.0387\n",
      "Epoch [800/4000], Loss: 2.5291\n",
      "Epoch [810/4000], Loss: 2.0082\n",
      "Epoch [820/4000], Loss: 1.8803\n",
      "Epoch [830/4000], Loss: 1.8413\n",
      "Epoch [840/4000], Loss: 1.7953\n",
      "Epoch [850/4000], Loss: 2.6132\n",
      "Epoch [860/4000], Loss: 2.4324\n",
      "Epoch [870/4000], Loss: 2.0299\n",
      "Epoch [880/4000], Loss: 1.8752\n",
      "Epoch [890/4000], Loss: 2.0415\n",
      "Epoch [900/4000], Loss: 2.0692\n",
      "Epoch [910/4000], Loss: 2.5044\n",
      "Epoch [920/4000], Loss: 2.1815\n",
      "Epoch [930/4000], Loss: 1.8209\n",
      "Epoch [940/4000], Loss: 1.7819\n",
      "Epoch [950/4000], Loss: 1.9736\n",
      "Epoch [960/4000], Loss: 1.8622\n",
      "Epoch [970/4000], Loss: 2.0217\n",
      "Epoch [980/4000], Loss: 1.8587\n",
      "Epoch [990/4000], Loss: 1.8501\n",
      "Epoch [1000/4000], Loss: 1.8348\n",
      "Epoch [1010/4000], Loss: 1.9960\n",
      "Epoch [1020/4000], Loss: 1.9809\n",
      "Epoch [1030/4000], Loss: 1.9691\n",
      "Epoch [1040/4000], Loss: 1.9464\n",
      "Epoch [1050/4000], Loss: 2.3416\n",
      "Epoch [1060/4000], Loss: 2.0105\n",
      "Epoch [1070/4000], Loss: 1.8372\n",
      "Epoch [1080/4000], Loss: 2.2982\n",
      "Epoch [1090/4000], Loss: 2.0730\n",
      "Epoch [1100/4000], Loss: 2.4935\n",
      "Epoch [1110/4000], Loss: 2.1486\n",
      "Epoch [1120/4000], Loss: 1.9117\n",
      "Epoch [1130/4000], Loss: 1.9048\n",
      "Epoch [1140/4000], Loss: 1.7754\n",
      "Epoch [1150/4000], Loss: 2.0110\n",
      "Epoch [1160/4000], Loss: 1.9175\n",
      "Epoch [1170/4000], Loss: 1.8396\n",
      "Epoch [1180/4000], Loss: 2.2168\n",
      "Epoch [1190/4000], Loss: 1.9469\n",
      "Epoch [1200/4000], Loss: 2.0869\n",
      "Epoch [1210/4000], Loss: 1.8573\n",
      "Epoch [1220/4000], Loss: 2.0942\n",
      "Epoch [1230/4000], Loss: 1.9743\n",
      "Epoch [1240/4000], Loss: 1.9478\n",
      "Epoch [1250/4000], Loss: 1.8235\n",
      "Epoch [1260/4000], Loss: 1.9096\n",
      "Epoch [1270/4000], Loss: 2.4815\n",
      "Epoch [1280/4000], Loss: 1.9374\n",
      "Epoch [1290/4000], Loss: 1.8620\n",
      "Epoch [1300/4000], Loss: 2.1507\n",
      "Epoch [1310/4000], Loss: 2.0803\n",
      "Epoch [1320/4000], Loss: 1.9645\n",
      "Epoch [1330/4000], Loss: 1.9479\n",
      "Epoch [1340/4000], Loss: 2.0717\n"
     ]
    },
    {
     "ename": "KeyboardInterrupt",
     "evalue": "",
     "output_type": "error",
     "traceback": [
      "\u001b[0;31m---------------------------------------------------------------------------\u001b[0m",
      "\u001b[0;31mKeyboardInterrupt\u001b[0m                         Traceback (most recent call last)",
      "Cell \u001b[0;32mIn[43], line 8\u001b[0m\n\u001b[1;32m      1\u001b[0m \u001b[38;5;66;03m# print(mlp_regressor_bin_1)\u001b[39;00m\n\u001b[1;32m      2\u001b[0m \u001b[38;5;66;03m# for x in X_bin_1_train.values:\u001b[39;00m\n\u001b[1;32m      3\u001b[0m \u001b[38;5;66;03m#     for i in x:\u001b[39;00m\n\u001b[1;32m      4\u001b[0m \u001b[38;5;66;03m#         print(i, end=' ')\u001b[39;00m\n\u001b[1;32m      5\u001b[0m \u001b[38;5;66;03m#     print(\"\")\u001b[39;00m\n\u001b[1;32m      6\u001b[0m \u001b[38;5;66;03m# print(Y_bin_1_train.values)\u001b[39;00m\n\u001b[0;32m----> 8\u001b[0m \u001b[43mtrain_mlp_regressor\u001b[49m\u001b[43m(\u001b[49m\u001b[43mmlp_regressor_bin_1\u001b[49m\u001b[43m,\u001b[49m\u001b[43m \u001b[49m\u001b[43moptimizer_bin_1\u001b[49m\u001b[43m,\u001b[49m\u001b[43m \u001b[49m\u001b[43mepochs\u001b[49m\u001b[38;5;241;43m=\u001b[39;49m\u001b[38;5;241;43m4000\u001b[39;49m\u001b[43m,\u001b[49m\u001b[43m \u001b[49m\u001b[43mbatch_size\u001b[49m\u001b[38;5;241;43m=\u001b[39;49m\u001b[38;5;241;43m500\u001b[39;49m\u001b[43m,\u001b[49m\u001b[43m \u001b[49m\u001b[43mX_train\u001b[49m\u001b[38;5;241;43m=\u001b[39;49m\u001b[43mX_bin_1_train\u001b[49m\u001b[38;5;241;43m.\u001b[39;49m\u001b[43mvalues\u001b[49m\u001b[43m \u001b[49m\u001b[38;5;28;43;01mif\u001b[39;49;00m\u001b[43m \u001b[49m\u001b[38;5;28;43misinstance\u001b[39;49m\u001b[43m(\u001b[49m\u001b[43mX_bin_1_train\u001b[49m\u001b[43m,\u001b[49m\u001b[43m \u001b[49m\u001b[43mpd\u001b[49m\u001b[38;5;241;43m.\u001b[39;49m\u001b[43mDataFrame\u001b[49m\u001b[43m)\u001b[49m\u001b[43m \u001b[49m\u001b[38;5;28;43;01melse\u001b[39;49;00m\u001b[43m \u001b[49m\u001b[43mX_bin_1_train\u001b[49m\u001b[43m,\u001b[49m\u001b[43m \u001b[49m\u001b[43mY_train\u001b[49m\u001b[38;5;241;43m=\u001b[39;49m\u001b[43mnp\u001b[49m\u001b[38;5;241;43m.\u001b[39;49m\u001b[43marray\u001b[49m\u001b[43m(\u001b[49m\u001b[43mY_bin_1_train\u001b[49m\u001b[43m)\u001b[49m\u001b[38;5;241;43m.\u001b[39;49m\u001b[43mreshape\u001b[49m\u001b[43m(\u001b[49m\u001b[38;5;241;43m-\u001b[39;49m\u001b[38;5;241;43m1\u001b[39;49m\u001b[43m,\u001b[49m\u001b[43m \u001b[49m\u001b[38;5;241;43m1\u001b[39;49m\u001b[43m)\u001b[49m\u001b[43m)\u001b[49m\n",
      "Cell \u001b[0;32mIn[35], line 65\u001b[0m, in \u001b[0;36mtrain_mlp_regressor\u001b[0;34m(regressor, optimizer, epochs, batch_size, X_train, Y_train)\u001b[0m\n\u001b[1;32m     63\u001b[0m     optimizer\u001b[38;5;241m.\u001b[39mzero_grad()\n\u001b[1;32m     64\u001b[0m     loss\u001b[38;5;241m.\u001b[39mbackward()\n\u001b[0;32m---> 65\u001b[0m     \u001b[43moptimizer\u001b[49m\u001b[38;5;241;43m.\u001b[39;49m\u001b[43mstep\u001b[49m\u001b[43m(\u001b[49m\u001b[43m)\u001b[49m\n\u001b[1;32m     67\u001b[0m \u001b[38;5;28;01mif\u001b[39;00m (epoch \u001b[38;5;241m+\u001b[39m \u001b[38;5;241m1\u001b[39m) \u001b[38;5;241m%\u001b[39m \u001b[38;5;241m10\u001b[39m \u001b[38;5;241m==\u001b[39m \u001b[38;5;241m0\u001b[39m:\n\u001b[1;32m     68\u001b[0m     \u001b[38;5;28mprint\u001b[39m(\u001b[38;5;124mf\u001b[39m\u001b[38;5;124m'\u001b[39m\u001b[38;5;124mEpoch [\u001b[39m\u001b[38;5;132;01m{\u001b[39;00mepoch\u001b[38;5;241m+\u001b[39m\u001b[38;5;241m1\u001b[39m\u001b[38;5;132;01m}\u001b[39;00m\u001b[38;5;124m/\u001b[39m\u001b[38;5;132;01m{\u001b[39;00mepochs\u001b[38;5;132;01m}\u001b[39;00m\u001b[38;5;124m], Loss: \u001b[39m\u001b[38;5;132;01m{\u001b[39;00mloss\u001b[38;5;241m.\u001b[39mitem()\u001b[38;5;132;01m:\u001b[39;00m\u001b[38;5;124m.4f\u001b[39m\u001b[38;5;132;01m}\u001b[39;00m\u001b[38;5;124m'\u001b[39m)\n",
      "File \u001b[0;32m~/miniconda3/envs/kasturi_ml_project/lib/python3.10/site-packages/torch/optim/optimizer.py:373\u001b[0m, in \u001b[0;36mOptimizer.profile_hook_step.<locals>.wrapper\u001b[0;34m(*args, **kwargs)\u001b[0m\n\u001b[1;32m    368\u001b[0m         \u001b[38;5;28;01melse\u001b[39;00m:\n\u001b[1;32m    369\u001b[0m             \u001b[38;5;28;01mraise\u001b[39;00m \u001b[38;5;167;01mRuntimeError\u001b[39;00m(\n\u001b[1;32m    370\u001b[0m                 \u001b[38;5;124mf\u001b[39m\u001b[38;5;124m\"\u001b[39m\u001b[38;5;132;01m{\u001b[39;00mfunc\u001b[38;5;132;01m}\u001b[39;00m\u001b[38;5;124m must return None or a tuple of (new_args, new_kwargs), but got \u001b[39m\u001b[38;5;132;01m{\u001b[39;00mresult\u001b[38;5;132;01m}\u001b[39;00m\u001b[38;5;124m.\u001b[39m\u001b[38;5;124m\"\u001b[39m\n\u001b[1;32m    371\u001b[0m             )\n\u001b[0;32m--> 373\u001b[0m out \u001b[38;5;241m=\u001b[39m \u001b[43mfunc\u001b[49m\u001b[43m(\u001b[49m\u001b[38;5;241;43m*\u001b[39;49m\u001b[43margs\u001b[49m\u001b[43m,\u001b[49m\u001b[43m \u001b[49m\u001b[38;5;241;43m*\u001b[39;49m\u001b[38;5;241;43m*\u001b[39;49m\u001b[43mkwargs\u001b[49m\u001b[43m)\u001b[49m\n\u001b[1;32m    374\u001b[0m \u001b[38;5;28mself\u001b[39m\u001b[38;5;241m.\u001b[39m_optimizer_step_code()\n\u001b[1;32m    376\u001b[0m \u001b[38;5;66;03m# call optimizer step post hooks\u001b[39;00m\n",
      "File \u001b[0;32m~/miniconda3/envs/kasturi_ml_project/lib/python3.10/site-packages/torch/optim/optimizer.py:76\u001b[0m, in \u001b[0;36m_use_grad_for_differentiable.<locals>._use_grad\u001b[0;34m(self, *args, **kwargs)\u001b[0m\n\u001b[1;32m     74\u001b[0m     torch\u001b[38;5;241m.\u001b[39mset_grad_enabled(\u001b[38;5;28mself\u001b[39m\u001b[38;5;241m.\u001b[39mdefaults[\u001b[38;5;124m'\u001b[39m\u001b[38;5;124mdifferentiable\u001b[39m\u001b[38;5;124m'\u001b[39m])\n\u001b[1;32m     75\u001b[0m     torch\u001b[38;5;241m.\u001b[39m_dynamo\u001b[38;5;241m.\u001b[39mgraph_break()\n\u001b[0;32m---> 76\u001b[0m     ret \u001b[38;5;241m=\u001b[39m \u001b[43mfunc\u001b[49m\u001b[43m(\u001b[49m\u001b[38;5;28;43mself\u001b[39;49m\u001b[43m,\u001b[49m\u001b[43m \u001b[49m\u001b[38;5;241;43m*\u001b[39;49m\u001b[43margs\u001b[49m\u001b[43m,\u001b[49m\u001b[43m \u001b[49m\u001b[38;5;241;43m*\u001b[39;49m\u001b[38;5;241;43m*\u001b[39;49m\u001b[43mkwargs\u001b[49m\u001b[43m)\u001b[49m\n\u001b[1;32m     77\u001b[0m \u001b[38;5;28;01mfinally\u001b[39;00m:\n\u001b[1;32m     78\u001b[0m     torch\u001b[38;5;241m.\u001b[39m_dynamo\u001b[38;5;241m.\u001b[39mgraph_break()\n",
      "File \u001b[0;32m~/miniconda3/envs/kasturi_ml_project/lib/python3.10/site-packages/torch/optim/adam.py:163\u001b[0m, in \u001b[0;36mAdam.step\u001b[0;34m(self, closure)\u001b[0m\n\u001b[1;32m    152\u001b[0m     beta1, beta2 \u001b[38;5;241m=\u001b[39m group[\u001b[38;5;124m'\u001b[39m\u001b[38;5;124mbetas\u001b[39m\u001b[38;5;124m'\u001b[39m]\n\u001b[1;32m    154\u001b[0m     \u001b[38;5;28mself\u001b[39m\u001b[38;5;241m.\u001b[39m_init_group(\n\u001b[1;32m    155\u001b[0m         group,\n\u001b[1;32m    156\u001b[0m         params_with_grad,\n\u001b[0;32m   (...)\u001b[0m\n\u001b[1;32m    160\u001b[0m         max_exp_avg_sqs,\n\u001b[1;32m    161\u001b[0m         state_steps)\n\u001b[0;32m--> 163\u001b[0m     \u001b[43madam\u001b[49m\u001b[43m(\u001b[49m\n\u001b[1;32m    164\u001b[0m \u001b[43m        \u001b[49m\u001b[43mparams_with_grad\u001b[49m\u001b[43m,\u001b[49m\n\u001b[1;32m    165\u001b[0m \u001b[43m        \u001b[49m\u001b[43mgrads\u001b[49m\u001b[43m,\u001b[49m\n\u001b[1;32m    166\u001b[0m \u001b[43m        \u001b[49m\u001b[43mexp_avgs\u001b[49m\u001b[43m,\u001b[49m\n\u001b[1;32m    167\u001b[0m \u001b[43m        \u001b[49m\u001b[43mexp_avg_sqs\u001b[49m\u001b[43m,\u001b[49m\n\u001b[1;32m    168\u001b[0m \u001b[43m        \u001b[49m\u001b[43mmax_exp_avg_sqs\u001b[49m\u001b[43m,\u001b[49m\n\u001b[1;32m    169\u001b[0m \u001b[43m        \u001b[49m\u001b[43mstate_steps\u001b[49m\u001b[43m,\u001b[49m\n\u001b[1;32m    170\u001b[0m \u001b[43m        \u001b[49m\u001b[43mamsgrad\u001b[49m\u001b[38;5;241;43m=\u001b[39;49m\u001b[43mgroup\u001b[49m\u001b[43m[\u001b[49m\u001b[38;5;124;43m'\u001b[39;49m\u001b[38;5;124;43mamsgrad\u001b[39;49m\u001b[38;5;124;43m'\u001b[39;49m\u001b[43m]\u001b[49m\u001b[43m,\u001b[49m\n\u001b[1;32m    171\u001b[0m \u001b[43m        \u001b[49m\u001b[43mbeta1\u001b[49m\u001b[38;5;241;43m=\u001b[39;49m\u001b[43mbeta1\u001b[49m\u001b[43m,\u001b[49m\n\u001b[1;32m    172\u001b[0m \u001b[43m        \u001b[49m\u001b[43mbeta2\u001b[49m\u001b[38;5;241;43m=\u001b[39;49m\u001b[43mbeta2\u001b[49m\u001b[43m,\u001b[49m\n\u001b[1;32m    173\u001b[0m \u001b[43m        \u001b[49m\u001b[43mlr\u001b[49m\u001b[38;5;241;43m=\u001b[39;49m\u001b[43mgroup\u001b[49m\u001b[43m[\u001b[49m\u001b[38;5;124;43m'\u001b[39;49m\u001b[38;5;124;43mlr\u001b[39;49m\u001b[38;5;124;43m'\u001b[39;49m\u001b[43m]\u001b[49m\u001b[43m,\u001b[49m\n\u001b[1;32m    174\u001b[0m \u001b[43m        \u001b[49m\u001b[43mweight_decay\u001b[49m\u001b[38;5;241;43m=\u001b[39;49m\u001b[43mgroup\u001b[49m\u001b[43m[\u001b[49m\u001b[38;5;124;43m'\u001b[39;49m\u001b[38;5;124;43mweight_decay\u001b[39;49m\u001b[38;5;124;43m'\u001b[39;49m\u001b[43m]\u001b[49m\u001b[43m,\u001b[49m\n\u001b[1;32m    175\u001b[0m \u001b[43m        \u001b[49m\u001b[43meps\u001b[49m\u001b[38;5;241;43m=\u001b[39;49m\u001b[43mgroup\u001b[49m\u001b[43m[\u001b[49m\u001b[38;5;124;43m'\u001b[39;49m\u001b[38;5;124;43meps\u001b[39;49m\u001b[38;5;124;43m'\u001b[39;49m\u001b[43m]\u001b[49m\u001b[43m,\u001b[49m\n\u001b[1;32m    176\u001b[0m \u001b[43m        \u001b[49m\u001b[43mmaximize\u001b[49m\u001b[38;5;241;43m=\u001b[39;49m\u001b[43mgroup\u001b[49m\u001b[43m[\u001b[49m\u001b[38;5;124;43m'\u001b[39;49m\u001b[38;5;124;43mmaximize\u001b[39;49m\u001b[38;5;124;43m'\u001b[39;49m\u001b[43m]\u001b[49m\u001b[43m,\u001b[49m\n\u001b[1;32m    177\u001b[0m \u001b[43m        \u001b[49m\u001b[43mforeach\u001b[49m\u001b[38;5;241;43m=\u001b[39;49m\u001b[43mgroup\u001b[49m\u001b[43m[\u001b[49m\u001b[38;5;124;43m'\u001b[39;49m\u001b[38;5;124;43mforeach\u001b[39;49m\u001b[38;5;124;43m'\u001b[39;49m\u001b[43m]\u001b[49m\u001b[43m,\u001b[49m\n\u001b[1;32m    178\u001b[0m \u001b[43m        \u001b[49m\u001b[43mcapturable\u001b[49m\u001b[38;5;241;43m=\u001b[39;49m\u001b[43mgroup\u001b[49m\u001b[43m[\u001b[49m\u001b[38;5;124;43m'\u001b[39;49m\u001b[38;5;124;43mcapturable\u001b[39;49m\u001b[38;5;124;43m'\u001b[39;49m\u001b[43m]\u001b[49m\u001b[43m,\u001b[49m\n\u001b[1;32m    179\u001b[0m \u001b[43m        \u001b[49m\u001b[43mdifferentiable\u001b[49m\u001b[38;5;241;43m=\u001b[39;49m\u001b[43mgroup\u001b[49m\u001b[43m[\u001b[49m\u001b[38;5;124;43m'\u001b[39;49m\u001b[38;5;124;43mdifferentiable\u001b[39;49m\u001b[38;5;124;43m'\u001b[39;49m\u001b[43m]\u001b[49m\u001b[43m,\u001b[49m\n\u001b[1;32m    180\u001b[0m \u001b[43m        \u001b[49m\u001b[43mfused\u001b[49m\u001b[38;5;241;43m=\u001b[39;49m\u001b[43mgroup\u001b[49m\u001b[43m[\u001b[49m\u001b[38;5;124;43m'\u001b[39;49m\u001b[38;5;124;43mfused\u001b[39;49m\u001b[38;5;124;43m'\u001b[39;49m\u001b[43m]\u001b[49m\u001b[43m,\u001b[49m\n\u001b[1;32m    181\u001b[0m \u001b[43m        \u001b[49m\u001b[43mgrad_scale\u001b[49m\u001b[38;5;241;43m=\u001b[39;49m\u001b[38;5;28;43mgetattr\u001b[39;49m\u001b[43m(\u001b[49m\u001b[38;5;28;43mself\u001b[39;49m\u001b[43m,\u001b[49m\u001b[43m \u001b[49m\u001b[38;5;124;43m\"\u001b[39;49m\u001b[38;5;124;43mgrad_scale\u001b[39;49m\u001b[38;5;124;43m\"\u001b[39;49m\u001b[43m,\u001b[49m\u001b[43m \u001b[49m\u001b[38;5;28;43;01mNone\u001b[39;49;00m\u001b[43m)\u001b[49m\u001b[43m,\u001b[49m\n\u001b[1;32m    182\u001b[0m \u001b[43m        \u001b[49m\u001b[43mfound_inf\u001b[49m\u001b[38;5;241;43m=\u001b[39;49m\u001b[38;5;28;43mgetattr\u001b[39;49m\u001b[43m(\u001b[49m\u001b[38;5;28;43mself\u001b[39;49m\u001b[43m,\u001b[49m\u001b[43m \u001b[49m\u001b[38;5;124;43m\"\u001b[39;49m\u001b[38;5;124;43mfound_inf\u001b[39;49m\u001b[38;5;124;43m\"\u001b[39;49m\u001b[43m,\u001b[49m\u001b[43m \u001b[49m\u001b[38;5;28;43;01mNone\u001b[39;49;00m\u001b[43m)\u001b[49m\u001b[43m,\u001b[49m\n\u001b[1;32m    183\u001b[0m \u001b[43m    \u001b[49m\u001b[43m)\u001b[49m\n\u001b[1;32m    185\u001b[0m \u001b[38;5;28;01mreturn\u001b[39;00m loss\n",
      "File \u001b[0;32m~/miniconda3/envs/kasturi_ml_project/lib/python3.10/site-packages/torch/optim/adam.py:311\u001b[0m, in \u001b[0;36madam\u001b[0;34m(params, grads, exp_avgs, exp_avg_sqs, max_exp_avg_sqs, state_steps, foreach, capturable, differentiable, fused, grad_scale, found_inf, amsgrad, beta1, beta2, lr, weight_decay, eps, maximize)\u001b[0m\n\u001b[1;32m    308\u001b[0m \u001b[38;5;28;01melse\u001b[39;00m:\n\u001b[1;32m    309\u001b[0m     func \u001b[38;5;241m=\u001b[39m _single_tensor_adam\n\u001b[0;32m--> 311\u001b[0m \u001b[43mfunc\u001b[49m\u001b[43m(\u001b[49m\u001b[43mparams\u001b[49m\u001b[43m,\u001b[49m\n\u001b[1;32m    312\u001b[0m \u001b[43m     \u001b[49m\u001b[43mgrads\u001b[49m\u001b[43m,\u001b[49m\n\u001b[1;32m    313\u001b[0m \u001b[43m     \u001b[49m\u001b[43mexp_avgs\u001b[49m\u001b[43m,\u001b[49m\n\u001b[1;32m    314\u001b[0m \u001b[43m     \u001b[49m\u001b[43mexp_avg_sqs\u001b[49m\u001b[43m,\u001b[49m\n\u001b[1;32m    315\u001b[0m \u001b[43m     \u001b[49m\u001b[43mmax_exp_avg_sqs\u001b[49m\u001b[43m,\u001b[49m\n\u001b[1;32m    316\u001b[0m \u001b[43m     \u001b[49m\u001b[43mstate_steps\u001b[49m\u001b[43m,\u001b[49m\n\u001b[1;32m    317\u001b[0m \u001b[43m     \u001b[49m\u001b[43mamsgrad\u001b[49m\u001b[38;5;241;43m=\u001b[39;49m\u001b[43mamsgrad\u001b[49m\u001b[43m,\u001b[49m\n\u001b[1;32m    318\u001b[0m \u001b[43m     \u001b[49m\u001b[43mbeta1\u001b[49m\u001b[38;5;241;43m=\u001b[39;49m\u001b[43mbeta1\u001b[49m\u001b[43m,\u001b[49m\n\u001b[1;32m    319\u001b[0m \u001b[43m     \u001b[49m\u001b[43mbeta2\u001b[49m\u001b[38;5;241;43m=\u001b[39;49m\u001b[43mbeta2\u001b[49m\u001b[43m,\u001b[49m\n\u001b[1;32m    320\u001b[0m \u001b[43m     \u001b[49m\u001b[43mlr\u001b[49m\u001b[38;5;241;43m=\u001b[39;49m\u001b[43mlr\u001b[49m\u001b[43m,\u001b[49m\n\u001b[1;32m    321\u001b[0m \u001b[43m     \u001b[49m\u001b[43mweight_decay\u001b[49m\u001b[38;5;241;43m=\u001b[39;49m\u001b[43mweight_decay\u001b[49m\u001b[43m,\u001b[49m\n\u001b[1;32m    322\u001b[0m \u001b[43m     \u001b[49m\u001b[43meps\u001b[49m\u001b[38;5;241;43m=\u001b[39;49m\u001b[43meps\u001b[49m\u001b[43m,\u001b[49m\n\u001b[1;32m    323\u001b[0m \u001b[43m     \u001b[49m\u001b[43mmaximize\u001b[49m\u001b[38;5;241;43m=\u001b[39;49m\u001b[43mmaximize\u001b[49m\u001b[43m,\u001b[49m\n\u001b[1;32m    324\u001b[0m \u001b[43m     \u001b[49m\u001b[43mcapturable\u001b[49m\u001b[38;5;241;43m=\u001b[39;49m\u001b[43mcapturable\u001b[49m\u001b[43m,\u001b[49m\n\u001b[1;32m    325\u001b[0m \u001b[43m     \u001b[49m\u001b[43mdifferentiable\u001b[49m\u001b[38;5;241;43m=\u001b[39;49m\u001b[43mdifferentiable\u001b[49m\u001b[43m,\u001b[49m\n\u001b[1;32m    326\u001b[0m \u001b[43m     \u001b[49m\u001b[43mgrad_scale\u001b[49m\u001b[38;5;241;43m=\u001b[39;49m\u001b[43mgrad_scale\u001b[49m\u001b[43m,\u001b[49m\n\u001b[1;32m    327\u001b[0m \u001b[43m     \u001b[49m\u001b[43mfound_inf\u001b[49m\u001b[38;5;241;43m=\u001b[39;49m\u001b[43mfound_inf\u001b[49m\u001b[43m)\u001b[49m\n",
      "File \u001b[0;32m~/miniconda3/envs/kasturi_ml_project/lib/python3.10/site-packages/torch/optim/adam.py:432\u001b[0m, in \u001b[0;36m_single_tensor_adam\u001b[0;34m(params, grads, exp_avgs, exp_avg_sqs, max_exp_avg_sqs, state_steps, grad_scale, found_inf, amsgrad, beta1, beta2, lr, weight_decay, eps, maximize, capturable, differentiable)\u001b[0m\n\u001b[1;32m    430\u001b[0m         denom \u001b[38;5;241m=\u001b[39m (max_exp_avg_sqs[i]\u001b[38;5;241m.\u001b[39msqrt() \u001b[38;5;241m/\u001b[39m bias_correction2_sqrt)\u001b[38;5;241m.\u001b[39madd_(eps)\n\u001b[1;32m    431\u001b[0m     \u001b[38;5;28;01melse\u001b[39;00m:\n\u001b[0;32m--> 432\u001b[0m         denom \u001b[38;5;241m=\u001b[39m (\u001b[43mexp_avg_sq\u001b[49m\u001b[38;5;241;43m.\u001b[39;49m\u001b[43msqrt\u001b[49m\u001b[43m(\u001b[49m\u001b[43m)\u001b[49m \u001b[38;5;241m/\u001b[39m bias_correction2_sqrt)\u001b[38;5;241m.\u001b[39madd_(eps)\n\u001b[1;32m    434\u001b[0m     param\u001b[38;5;241m.\u001b[39maddcdiv_(exp_avg, denom, value\u001b[38;5;241m=\u001b[39m\u001b[38;5;241m-\u001b[39mstep_size)\n\u001b[1;32m    436\u001b[0m \u001b[38;5;66;03m# Lastly, switch back to complex view\u001b[39;00m\n",
      "File \u001b[0;32m~/miniconda3/envs/kasturi_ml_project/lib/python3.10/site-packages/torch/utils/_device.py:77\u001b[0m, in \u001b[0;36mDeviceContext.__torch_function__\u001b[0;34m(self, func, types, args, kwargs)\u001b[0m\n\u001b[1;32m     75\u001b[0m \u001b[38;5;28;01mif\u001b[39;00m func \u001b[38;5;129;01min\u001b[39;00m _device_constructors() \u001b[38;5;129;01mand\u001b[39;00m kwargs\u001b[38;5;241m.\u001b[39mget(\u001b[38;5;124m'\u001b[39m\u001b[38;5;124mdevice\u001b[39m\u001b[38;5;124m'\u001b[39m) \u001b[38;5;129;01mis\u001b[39;00m \u001b[38;5;28;01mNone\u001b[39;00m:\n\u001b[1;32m     76\u001b[0m     kwargs[\u001b[38;5;124m'\u001b[39m\u001b[38;5;124mdevice\u001b[39m\u001b[38;5;124m'\u001b[39m] \u001b[38;5;241m=\u001b[39m \u001b[38;5;28mself\u001b[39m\u001b[38;5;241m.\u001b[39mdevice\n\u001b[0;32m---> 77\u001b[0m \u001b[38;5;28;01mreturn\u001b[39;00m \u001b[43mfunc\u001b[49m\u001b[43m(\u001b[49m\u001b[38;5;241;43m*\u001b[39;49m\u001b[43margs\u001b[49m\u001b[43m,\u001b[49m\u001b[43m \u001b[49m\u001b[38;5;241;43m*\u001b[39;49m\u001b[38;5;241;43m*\u001b[39;49m\u001b[43mkwargs\u001b[49m\u001b[43m)\u001b[49m\n",
      "\u001b[0;31mKeyboardInterrupt\u001b[0m: "
     ]
    }
   ],
   "source": [
    "# print(mlp_regressor_bin_1)\n",
    "# for x in X_bin_1_train.values:\n",
    "#     for i in x:\n",
    "#         print(i, end=' ')\n",
    "#     print(\"\")\n",
    "# print(Y_bin_1_train.values)\n",
    "\n",
    "train_mlp_regressor(mlp_regressor_bin_1, optimizer_bin_1, epochs=4000, batch_size=500, X_train=X_bin_1_train.values if isinstance(X_bin_1_train, pd.DataFrame) else X_bin_1_train, Y_train=np.array(Y_bin_1_train).reshape(-1, 1))"
   ]
  },
  {
   "cell_type": "code",
   "execution_count": 44,
   "metadata": {},
   "outputs": [
    {
     "name": "stdout",
     "output_type": "stream",
     "text": [
      "Epoch [10/10000], Loss: 343.9879\n",
      "Epoch [20/10000], Loss: 337.2182\n",
      "Epoch [30/10000], Loss: 327.2430\n",
      "Epoch [40/10000], Loss: 314.0969\n",
      "Epoch [50/10000], Loss: 297.5229\n",
      "Epoch [60/10000], Loss: 277.2724\n",
      "Epoch [70/10000], Loss: 253.1035\n",
      "Epoch [80/10000], Loss: 224.8421\n",
      "Epoch [90/10000], Loss: 192.3666\n",
      "Epoch [100/10000], Loss: 155.5794\n",
      "Epoch [110/10000], Loss: 114.4083\n",
      "Epoch [120/10000], Loss: 80.3828\n",
      "Epoch [130/10000], Loss: 70.5898\n",
      "Epoch [140/10000], Loss: 67.5288\n",
      "Epoch [150/10000], Loss: 65.4116\n",
      "Epoch [160/10000], Loss: 64.1631\n",
      "Epoch [170/10000], Loss: 63.1876\n",
      "Epoch [180/10000], Loss: 62.3273\n",
      "Epoch [190/10000], Loss: 61.6003\n",
      "Epoch [200/10000], Loss: 60.5847\n",
      "Epoch [210/10000], Loss: 59.6017\n",
      "Epoch [220/10000], Loss: 58.9486\n",
      "Epoch [230/10000], Loss: 57.9449\n",
      "Epoch [240/10000], Loss: 57.1778\n",
      "Epoch [250/10000], Loss: 56.4112\n",
      "Epoch [260/10000], Loss: 55.6167\n",
      "Epoch [270/10000], Loss: 54.9679\n",
      "Epoch [280/10000], Loss: 54.3558\n",
      "Epoch [290/10000], Loss: 53.6337\n",
      "Epoch [300/10000], Loss: 52.8784\n",
      "Epoch [310/10000], Loss: 52.1723\n",
      "Epoch [320/10000], Loss: 51.4747\n",
      "Epoch [330/10000], Loss: 50.7622\n",
      "Epoch [340/10000], Loss: 50.1087\n",
      "Epoch [350/10000], Loss: 49.3703\n",
      "Epoch [360/10000], Loss: 48.8471\n",
      "Epoch [370/10000], Loss: 48.2308\n",
      "Epoch [380/10000], Loss: 47.5182\n",
      "Epoch [390/10000], Loss: 46.9837\n",
      "Epoch [400/10000], Loss: 46.1701\n",
      "Epoch [410/10000], Loss: 45.5479\n",
      "Epoch [420/10000], Loss: 44.9540\n",
      "Epoch [430/10000], Loss: 44.4053\n",
      "Epoch [440/10000], Loss: 43.9802\n",
      "Epoch [450/10000], Loss: 43.3771\n",
      "Epoch [460/10000], Loss: 42.7747\n",
      "Epoch [470/10000], Loss: 42.3606\n",
      "Epoch [480/10000], Loss: 41.8655\n",
      "Epoch [490/10000], Loss: 41.2790\n",
      "Epoch [500/10000], Loss: 40.6934\n",
      "Epoch [510/10000], Loss: 40.4350\n",
      "Epoch [520/10000], Loss: 39.6569\n",
      "Epoch [530/10000], Loss: 39.9726\n",
      "Epoch [540/10000], Loss: 40.1015\n",
      "Epoch [550/10000], Loss: 38.5538\n",
      "Epoch [560/10000], Loss: 38.4040\n",
      "Epoch [570/10000], Loss: 37.4849\n",
      "Epoch [580/10000], Loss: 37.0322\n",
      "Epoch [590/10000], Loss: 36.6776\n",
      "Epoch [600/10000], Loss: 36.1142\n",
      "Epoch [610/10000], Loss: 35.6842\n",
      "Epoch [620/10000], Loss: 36.1924\n",
      "Epoch [630/10000], Loss: 35.1968\n",
      "Epoch [640/10000], Loss: 34.7472\n",
      "Epoch [650/10000], Loss: 34.8097\n",
      "Epoch [660/10000], Loss: 34.0699\n",
      "Epoch [670/10000], Loss: 33.8454\n",
      "Epoch [680/10000], Loss: 33.3307\n",
      "Epoch [690/10000], Loss: 33.0293\n",
      "Epoch [700/10000], Loss: 32.5677\n",
      "Epoch [710/10000], Loss: 32.6636\n",
      "Epoch [720/10000], Loss: 32.1208\n",
      "Epoch [730/10000], Loss: 31.7644\n",
      "Epoch [740/10000], Loss: 31.5620\n",
      "Epoch [750/10000], Loss: 31.3142\n",
      "Epoch [760/10000], Loss: 30.8797\n",
      "Epoch [770/10000], Loss: 30.8589\n",
      "Epoch [780/10000], Loss: 30.4552\n",
      "Epoch [790/10000], Loss: 30.5127\n",
      "Epoch [800/10000], Loss: 29.9289\n",
      "Epoch [810/10000], Loss: 29.8527\n",
      "Epoch [820/10000], Loss: 29.6960\n",
      "Epoch [830/10000], Loss: 29.5139\n",
      "Epoch [840/10000], Loss: 29.1197\n",
      "Epoch [850/10000], Loss: 28.8299\n",
      "Epoch [860/10000], Loss: 29.1815\n",
      "Epoch [870/10000], Loss: 28.7960\n",
      "Epoch [880/10000], Loss: 28.3348\n",
      "Epoch [890/10000], Loss: 28.6858\n",
      "Epoch [900/10000], Loss: 28.5951\n",
      "Epoch [910/10000], Loss: 27.8971\n",
      "Epoch [920/10000], Loss: 27.9035\n",
      "Epoch [930/10000], Loss: 27.7348\n",
      "Epoch [940/10000], Loss: 27.6074\n",
      "Epoch [950/10000], Loss: 27.4627\n",
      "Epoch [960/10000], Loss: 27.4532\n",
      "Epoch [970/10000], Loss: 27.2700\n",
      "Epoch [980/10000], Loss: 27.3642\n",
      "Epoch [990/10000], Loss: 27.3426\n",
      "Epoch [1000/10000], Loss: 27.9289\n",
      "Epoch [1010/10000], Loss: 27.2723\n",
      "Epoch [1020/10000], Loss: 27.3987\n",
      "Epoch [1030/10000], Loss: 27.4597\n",
      "Epoch [1040/10000], Loss: 26.9440\n",
      "Epoch [1050/10000], Loss: 26.9667\n",
      "Epoch [1060/10000], Loss: 26.7170\n",
      "Epoch [1070/10000], Loss: 27.2247\n",
      "Epoch [1080/10000], Loss: 26.5700\n",
      "Epoch [1090/10000], Loss: 27.2765\n",
      "Epoch [1100/10000], Loss: 26.2654\n",
      "Epoch [1110/10000], Loss: 26.5714\n",
      "Epoch [1120/10000], Loss: 26.0033\n",
      "Epoch [1130/10000], Loss: 26.1578\n",
      "Epoch [1140/10000], Loss: 25.8724\n",
      "Epoch [1150/10000], Loss: 25.7572\n",
      "Epoch [1160/10000], Loss: 26.1846\n",
      "Epoch [1170/10000], Loss: 25.3447\n",
      "Epoch [1180/10000], Loss: 25.1824\n",
      "Epoch [1190/10000], Loss: 25.4080\n",
      "Epoch [1200/10000], Loss: 26.0448\n",
      "Epoch [1210/10000], Loss: 25.1591\n",
      "Epoch [1220/10000], Loss: 25.1317\n",
      "Epoch [1230/10000], Loss: 24.8171\n",
      "Epoch [1240/10000], Loss: 24.6275\n",
      "Epoch [1250/10000], Loss: 24.7938\n",
      "Epoch [1260/10000], Loss: 24.5874\n",
      "Epoch [1270/10000], Loss: 24.5068\n",
      "Epoch [1280/10000], Loss: 24.4232\n",
      "Epoch [1290/10000], Loss: 24.5118\n",
      "Epoch [1300/10000], Loss: 24.2376\n",
      "Epoch [1310/10000], Loss: 24.4890\n",
      "Epoch [1320/10000], Loss: 24.0372\n",
      "Epoch [1330/10000], Loss: 24.1393\n",
      "Epoch [1340/10000], Loss: 24.4432\n",
      "Epoch [1350/10000], Loss: 24.0028\n",
      "Epoch [1360/10000], Loss: 23.7824\n",
      "Epoch [1370/10000], Loss: 24.0858\n",
      "Epoch [1380/10000], Loss: 24.2949\n",
      "Epoch [1390/10000], Loss: 24.7156\n",
      "Epoch [1400/10000], Loss: 23.8023\n",
      "Epoch [1410/10000], Loss: 23.5637\n",
      "Epoch [1420/10000], Loss: 23.6409\n",
      "Epoch [1430/10000], Loss: 23.7605\n",
      "Epoch [1440/10000], Loss: 23.2246\n",
      "Epoch [1450/10000], Loss: 24.0765\n",
      "Epoch [1460/10000], Loss: 23.8524\n",
      "Epoch [1470/10000], Loss: 23.8966\n",
      "Epoch [1480/10000], Loss: 23.1806\n",
      "Epoch [1490/10000], Loss: 24.1472\n",
      "Epoch [1500/10000], Loss: 23.3097\n",
      "Epoch [1510/10000], Loss: 23.2199\n",
      "Epoch [1520/10000], Loss: 22.7402\n",
      "Epoch [1530/10000], Loss: 22.7260\n",
      "Epoch [1540/10000], Loss: 22.8992\n",
      "Epoch [1550/10000], Loss: 22.7467\n",
      "Epoch [1560/10000], Loss: 23.8273\n",
      "Epoch [1570/10000], Loss: 23.1542\n",
      "Epoch [1580/10000], Loss: 22.5222\n",
      "Epoch [1590/10000], Loss: 23.9693\n",
      "Epoch [1600/10000], Loss: 23.3637\n",
      "Epoch [1610/10000], Loss: 23.4403\n",
      "Epoch [1620/10000], Loss: 23.0086\n",
      "Epoch [1630/10000], Loss: 22.5222\n",
      "Epoch [1640/10000], Loss: 22.5275\n",
      "Epoch [1650/10000], Loss: 22.0762\n",
      "Epoch [1660/10000], Loss: 22.1205\n",
      "Epoch [1670/10000], Loss: 22.1882\n",
      "Epoch [1680/10000], Loss: 22.3109\n",
      "Epoch [1690/10000], Loss: 23.1917\n",
      "Epoch [1700/10000], Loss: 22.5839\n",
      "Epoch [1710/10000], Loss: 23.5041\n",
      "Epoch [1720/10000], Loss: 22.1134\n",
      "Epoch [1730/10000], Loss: 22.0179\n",
      "Epoch [1740/10000], Loss: 21.9130\n",
      "Epoch [1750/10000], Loss: 21.5765\n",
      "Epoch [1760/10000], Loss: 21.6112\n",
      "Epoch [1770/10000], Loss: 21.4650\n",
      "Epoch [1780/10000], Loss: 21.7187\n",
      "Epoch [1790/10000], Loss: 22.1624\n",
      "Epoch [1800/10000], Loss: 21.9527\n",
      "Epoch [1810/10000], Loss: 22.3478\n",
      "Epoch [1820/10000], Loss: 21.7674\n",
      "Epoch [1830/10000], Loss: 21.4915\n",
      "Epoch [1840/10000], Loss: 21.3181\n",
      "Epoch [1850/10000], Loss: 21.7818\n",
      "Epoch [1860/10000], Loss: 21.7788\n",
      "Epoch [1870/10000], Loss: 21.5844\n",
      "Epoch [1880/10000], Loss: 21.3289\n",
      "Epoch [1890/10000], Loss: 21.6771\n",
      "Epoch [1900/10000], Loss: 21.3234\n",
      "Epoch [1910/10000], Loss: 21.3556\n",
      "Epoch [1920/10000], Loss: 21.8723\n",
      "Epoch [1930/10000], Loss: 21.1628\n",
      "Epoch [1940/10000], Loss: 21.1720\n",
      "Epoch [1950/10000], Loss: 21.1125\n",
      "Epoch [1960/10000], Loss: 20.8752\n",
      "Epoch [1970/10000], Loss: 21.1005\n",
      "Epoch [1980/10000], Loss: 21.5823\n",
      "Epoch [1990/10000], Loss: 21.7511\n",
      "Epoch [2000/10000], Loss: 21.0977\n",
      "Epoch [2010/10000], Loss: 21.0710\n",
      "Epoch [2020/10000], Loss: 22.1405\n",
      "Epoch [2030/10000], Loss: 21.2967\n",
      "Epoch [2040/10000], Loss: 20.8509\n",
      "Epoch [2050/10000], Loss: 20.9422\n",
      "Epoch [2060/10000], Loss: 20.9109\n",
      "Epoch [2070/10000], Loss: 20.6205\n",
      "Epoch [2080/10000], Loss: 21.6321\n",
      "Epoch [2090/10000], Loss: 20.8245\n",
      "Epoch [2100/10000], Loss: 21.1319\n",
      "Epoch [2110/10000], Loss: 20.8104\n",
      "Epoch [2120/10000], Loss: 20.9698\n",
      "Epoch [2130/10000], Loss: 20.6439\n",
      "Epoch [2140/10000], Loss: 20.5808\n",
      "Epoch [2150/10000], Loss: 20.9585\n",
      "Epoch [2160/10000], Loss: 20.6401\n",
      "Epoch [2170/10000], Loss: 21.2325\n",
      "Epoch [2180/10000], Loss: 20.9022\n",
      "Epoch [2190/10000], Loss: 20.7030\n",
      "Epoch [2200/10000], Loss: 20.6463\n",
      "Epoch [2210/10000], Loss: 21.3520\n",
      "Epoch [2220/10000], Loss: 21.3494\n",
      "Epoch [2230/10000], Loss: 21.0264\n",
      "Epoch [2240/10000], Loss: 20.6232\n",
      "Epoch [2250/10000], Loss: 20.5006\n",
      "Epoch [2260/10000], Loss: 21.5918\n",
      "Epoch [2270/10000], Loss: 20.8638\n",
      "Epoch [2280/10000], Loss: 21.2690\n",
      "Epoch [2290/10000], Loss: 20.4790\n",
      "Epoch [2300/10000], Loss: 20.5732\n",
      "Epoch [2310/10000], Loss: 20.7412\n",
      "Epoch [2320/10000], Loss: 22.1302\n",
      "Epoch [2330/10000], Loss: 20.8393\n",
      "Epoch [2340/10000], Loss: 20.4905\n",
      "Epoch [2350/10000], Loss: 20.5043\n",
      "Epoch [2360/10000], Loss: 20.4698\n",
      "Epoch [2370/10000], Loss: 20.3716\n",
      "Epoch [2380/10000], Loss: 20.6375\n",
      "Epoch [2390/10000], Loss: 20.5601\n",
      "Epoch [2400/10000], Loss: 20.0251\n",
      "Epoch [2410/10000], Loss: 20.4204\n",
      "Epoch [2420/10000], Loss: 20.0685\n",
      "Epoch [2430/10000], Loss: 20.7431\n",
      "Epoch [2440/10000], Loss: 20.3322\n",
      "Epoch [2450/10000], Loss: 19.9717\n",
      "Epoch [2460/10000], Loss: 20.5929\n",
      "Epoch [2470/10000], Loss: 20.5179\n",
      "Epoch [2480/10000], Loss: 20.5756\n",
      "Epoch [2490/10000], Loss: 19.9336\n",
      "Epoch [2500/10000], Loss: 19.7989\n",
      "Epoch [2510/10000], Loss: 20.2512\n",
      "Epoch [2520/10000], Loss: 20.1030\n",
      "Epoch [2530/10000], Loss: 21.1354\n",
      "Epoch [2540/10000], Loss: 19.9939\n",
      "Epoch [2550/10000], Loss: 21.2887\n",
      "Epoch [2560/10000], Loss: 20.5947\n",
      "Epoch [2570/10000], Loss: 20.7019\n",
      "Epoch [2580/10000], Loss: 20.2553\n",
      "Epoch [2590/10000], Loss: 19.8062\n",
      "Epoch [2600/10000], Loss: 19.5371\n",
      "Epoch [2610/10000], Loss: 19.8600\n",
      "Epoch [2620/10000], Loss: 19.6498\n",
      "Epoch [2630/10000], Loss: 20.5498\n",
      "Epoch [2640/10000], Loss: 20.2026\n",
      "Epoch [2650/10000], Loss: 20.1941\n",
      "Epoch [2660/10000], Loss: 19.9748\n",
      "Epoch [2670/10000], Loss: 19.5601\n",
      "Epoch [2680/10000], Loss: 19.5573\n",
      "Epoch [2690/10000], Loss: 19.5833\n",
      "Epoch [2700/10000], Loss: 19.4725\n",
      "Epoch [2710/10000], Loss: 19.5497\n",
      "Epoch [2720/10000], Loss: 19.7541\n",
      "Epoch [2730/10000], Loss: 19.4917\n",
      "Epoch [2740/10000], Loss: 20.4168\n",
      "Epoch [2750/10000], Loss: 20.3057\n",
      "Epoch [2760/10000], Loss: 20.2601\n",
      "Epoch [2770/10000], Loss: 19.5697\n",
      "Epoch [2780/10000], Loss: 20.0267\n",
      "Epoch [2790/10000], Loss: 19.5907\n",
      "Epoch [2800/10000], Loss: 19.4883\n",
      "Epoch [2810/10000], Loss: 19.6597\n",
      "Epoch [2820/10000], Loss: 19.5685\n",
      "Epoch [2830/10000], Loss: 20.4181\n",
      "Epoch [2840/10000], Loss: 19.6729\n",
      "Epoch [2850/10000], Loss: 19.8314\n",
      "Epoch [2860/10000], Loss: 20.2539\n",
      "Epoch [2870/10000], Loss: 19.9083\n",
      "Epoch [2880/10000], Loss: 19.8316\n",
      "Epoch [2890/10000], Loss: 20.0409\n",
      "Epoch [2900/10000], Loss: 19.6881\n",
      "Epoch [2910/10000], Loss: 19.2511\n",
      "Epoch [2920/10000], Loss: 19.9450\n",
      "Epoch [2930/10000], Loss: 19.2276\n",
      "Epoch [2940/10000], Loss: 19.7086\n",
      "Epoch [2950/10000], Loss: 19.9265\n",
      "Epoch [2960/10000], Loss: 19.8607\n",
      "Epoch [2970/10000], Loss: 19.9471\n",
      "Epoch [2980/10000], Loss: 19.6591\n",
      "Epoch [2990/10000], Loss: 19.9106\n",
      "Epoch [3000/10000], Loss: 19.1526\n",
      "Epoch [3010/10000], Loss: 19.3237\n",
      "Epoch [3020/10000], Loss: 19.4725\n",
      "Epoch [3030/10000], Loss: 20.8044\n",
      "Epoch [3040/10000], Loss: 20.1882\n",
      "Epoch [3050/10000], Loss: 20.0999\n",
      "Epoch [3060/10000], Loss: 19.5209\n",
      "Epoch [3070/10000], Loss: 19.6071\n",
      "Epoch [3080/10000], Loss: 19.2250\n",
      "Epoch [3090/10000], Loss: 19.0432\n",
      "Epoch [3100/10000], Loss: 19.5575\n",
      "Epoch [3110/10000], Loss: 19.5022\n",
      "Epoch [3120/10000], Loss: 19.1089\n",
      "Epoch [3130/10000], Loss: 19.6846\n",
      "Epoch [3140/10000], Loss: 19.2940\n",
      "Epoch [3150/10000], Loss: 19.3003\n",
      "Epoch [3160/10000], Loss: 19.1723\n",
      "Epoch [3170/10000], Loss: 19.2157\n",
      "Epoch [3180/10000], Loss: 18.7696\n",
      "Epoch [3190/10000], Loss: 18.9654\n",
      "Epoch [3200/10000], Loss: 18.7907\n",
      "Epoch [3210/10000], Loss: 20.0112\n",
      "Epoch [3220/10000], Loss: 20.1188\n",
      "Epoch [3230/10000], Loss: 18.9114\n",
      "Epoch [3240/10000], Loss: 19.5325\n",
      "Epoch [3250/10000], Loss: 18.7361\n",
      "Epoch [3260/10000], Loss: 18.6623\n",
      "Epoch [3270/10000], Loss: 18.6746\n",
      "Epoch [3280/10000], Loss: 18.8810\n",
      "Epoch [3290/10000], Loss: 19.1017\n",
      "Epoch [3300/10000], Loss: 19.1543\n",
      "Epoch [3310/10000], Loss: 19.0144\n",
      "Epoch [3320/10000], Loss: 18.9230\n",
      "Epoch [3330/10000], Loss: 18.8572\n",
      "Epoch [3340/10000], Loss: 18.4579\n",
      "Epoch [3350/10000], Loss: 19.0003\n",
      "Epoch [3360/10000], Loss: 18.8320\n",
      "Epoch [3370/10000], Loss: 18.6854\n",
      "Epoch [3380/10000], Loss: 18.8672\n",
      "Epoch [3390/10000], Loss: 18.9385\n",
      "Epoch [3400/10000], Loss: 18.8719\n",
      "Epoch [3410/10000], Loss: 19.1816\n",
      "Epoch [3420/10000], Loss: 18.4099\n",
      "Epoch [3430/10000], Loss: 18.7340\n",
      "Epoch [3440/10000], Loss: 19.0929\n",
      "Epoch [3450/10000], Loss: 18.7278\n",
      "Epoch [3460/10000], Loss: 18.8187\n",
      "Epoch [3470/10000], Loss: 19.3433\n",
      "Epoch [3480/10000], Loss: 20.3683\n",
      "Epoch [3490/10000], Loss: 19.0753\n",
      "Epoch [3500/10000], Loss: 19.1341\n",
      "Epoch [3510/10000], Loss: 18.3896\n",
      "Epoch [3520/10000], Loss: 19.1919\n",
      "Epoch [3530/10000], Loss: 18.4713\n",
      "Epoch [3540/10000], Loss: 18.4114\n",
      "Epoch [3550/10000], Loss: 18.8615\n",
      "Epoch [3560/10000], Loss: 18.6389\n",
      "Epoch [3570/10000], Loss: 18.5495\n",
      "Epoch [3580/10000], Loss: 18.9467\n",
      "Epoch [3590/10000], Loss: 18.5827\n",
      "Epoch [3600/10000], Loss: 18.8474\n",
      "Epoch [3610/10000], Loss: 18.6503\n",
      "Epoch [3620/10000], Loss: 18.8418\n",
      "Epoch [3630/10000], Loss: 18.8285\n",
      "Epoch [3640/10000], Loss: 18.9065\n",
      "Epoch [3650/10000], Loss: 18.6171\n",
      "Epoch [3660/10000], Loss: 18.4688\n",
      "Epoch [3670/10000], Loss: 18.7974\n",
      "Epoch [3680/10000], Loss: 18.8610\n",
      "Epoch [3690/10000], Loss: 18.9690\n",
      "Epoch [3700/10000], Loss: 18.6497\n",
      "Epoch [3710/10000], Loss: 18.3110\n",
      "Epoch [3720/10000], Loss: 18.5719\n",
      "Epoch [3730/10000], Loss: 18.5550\n",
      "Epoch [3740/10000], Loss: 18.5666\n",
      "Epoch [3750/10000], Loss: 18.9840\n",
      "Epoch [3760/10000], Loss: 18.2379\n",
      "Epoch [3770/10000], Loss: 18.6132\n",
      "Epoch [3780/10000], Loss: 19.0532\n",
      "Epoch [3790/10000], Loss: 19.3742\n",
      "Epoch [3800/10000], Loss: 19.1584\n",
      "Epoch [3810/10000], Loss: 18.5586\n",
      "Epoch [3820/10000], Loss: 18.2916\n",
      "Epoch [3830/10000], Loss: 18.6627\n",
      "Epoch [3840/10000], Loss: 18.1894\n",
      "Epoch [3850/10000], Loss: 18.0228\n",
      "Epoch [3860/10000], Loss: 18.3361\n",
      "Epoch [3870/10000], Loss: 18.1286\n",
      "Epoch [3880/10000], Loss: 18.2779\n",
      "Epoch [3890/10000], Loss: 18.4975\n",
      "Epoch [3900/10000], Loss: 18.1458\n",
      "Epoch [3910/10000], Loss: 18.2694\n",
      "Epoch [3920/10000], Loss: 18.8097\n",
      "Epoch [3930/10000], Loss: 18.5253\n",
      "Epoch [3940/10000], Loss: 18.4844\n",
      "Epoch [3950/10000], Loss: 19.7879\n",
      "Epoch [3960/10000], Loss: 19.4689\n",
      "Epoch [3970/10000], Loss: 20.3643\n",
      "Epoch [3980/10000], Loss: 18.8367\n",
      "Epoch [3990/10000], Loss: 18.2967\n",
      "Epoch [4000/10000], Loss: 18.2978\n",
      "Epoch [4010/10000], Loss: 18.0852\n",
      "Epoch [4020/10000], Loss: 17.8809\n",
      "Epoch [4030/10000], Loss: 17.8896\n",
      "Epoch [4040/10000], Loss: 18.0650\n",
      "Epoch [4050/10000], Loss: 18.0268\n",
      "Epoch [4060/10000], Loss: 17.9848\n"
     ]
    },
    {
     "ename": "KeyboardInterrupt",
     "evalue": "",
     "output_type": "error",
     "traceback": [
      "\u001b[0;31m---------------------------------------------------------------------------\u001b[0m",
      "\u001b[0;31mKeyboardInterrupt\u001b[0m                         Traceback (most recent call last)",
      "Cell \u001b[0;32mIn[44], line 1\u001b[0m\n\u001b[0;32m----> 1\u001b[0m \u001b[43mtrain_mlp_regressor\u001b[49m\u001b[43m(\u001b[49m\u001b[43mmlp_regressor_bin_2\u001b[49m\u001b[43m,\u001b[49m\u001b[43m \u001b[49m\u001b[43moptimizer_bin_2\u001b[49m\u001b[43m,\u001b[49m\u001b[43m \u001b[49m\u001b[43mepochs\u001b[49m\u001b[38;5;241;43m=\u001b[39;49m\u001b[38;5;241;43m10000\u001b[39;49m\u001b[43m,\u001b[49m\u001b[43m \u001b[49m\u001b[43mbatch_size\u001b[49m\u001b[38;5;241;43m=\u001b[39;49m\u001b[38;5;241;43m500\u001b[39;49m\u001b[43m,\u001b[49m\u001b[43m \u001b[49m\u001b[43mX_train\u001b[49m\u001b[38;5;241;43m=\u001b[39;49m\u001b[43mX_bin_2_train\u001b[49m\u001b[38;5;241;43m.\u001b[39;49m\u001b[43mvalues\u001b[49m\u001b[43m \u001b[49m\u001b[38;5;28;43;01mif\u001b[39;49;00m\u001b[43m \u001b[49m\u001b[38;5;28;43misinstance\u001b[39;49m\u001b[43m(\u001b[49m\u001b[43mX_bin_2_train\u001b[49m\u001b[43m,\u001b[49m\u001b[43m \u001b[49m\u001b[43mpd\u001b[49m\u001b[38;5;241;43m.\u001b[39;49m\u001b[43mDataFrame\u001b[49m\u001b[43m)\u001b[49m\u001b[43m \u001b[49m\u001b[38;5;28;43;01melse\u001b[39;49;00m\u001b[43m \u001b[49m\u001b[43mX_bin_2_train\u001b[49m\u001b[43m,\u001b[49m\u001b[43m \u001b[49m\u001b[43mY_train\u001b[49m\u001b[38;5;241;43m=\u001b[39;49m\u001b[43mnp\u001b[49m\u001b[38;5;241;43m.\u001b[39;49m\u001b[43marray\u001b[49m\u001b[43m(\u001b[49m\u001b[43mY_bin_2_train\u001b[49m\u001b[43m)\u001b[49m\u001b[38;5;241;43m.\u001b[39;49m\u001b[43mreshape\u001b[49m\u001b[43m(\u001b[49m\u001b[38;5;241;43m-\u001b[39;49m\u001b[38;5;241;43m1\u001b[39;49m\u001b[43m,\u001b[49m\u001b[43m \u001b[49m\u001b[38;5;241;43m1\u001b[39;49m\u001b[43m)\u001b[49m\u001b[43m)\u001b[49m\n",
      "Cell \u001b[0;32mIn[35], line 65\u001b[0m, in \u001b[0;36mtrain_mlp_regressor\u001b[0;34m(regressor, optimizer, epochs, batch_size, X_train, Y_train)\u001b[0m\n\u001b[1;32m     63\u001b[0m     optimizer\u001b[38;5;241m.\u001b[39mzero_grad()\n\u001b[1;32m     64\u001b[0m     loss\u001b[38;5;241m.\u001b[39mbackward()\n\u001b[0;32m---> 65\u001b[0m     \u001b[43moptimizer\u001b[49m\u001b[38;5;241;43m.\u001b[39;49m\u001b[43mstep\u001b[49m\u001b[43m(\u001b[49m\u001b[43m)\u001b[49m\n\u001b[1;32m     67\u001b[0m \u001b[38;5;28;01mif\u001b[39;00m (epoch \u001b[38;5;241m+\u001b[39m \u001b[38;5;241m1\u001b[39m) \u001b[38;5;241m%\u001b[39m \u001b[38;5;241m10\u001b[39m \u001b[38;5;241m==\u001b[39m \u001b[38;5;241m0\u001b[39m:\n\u001b[1;32m     68\u001b[0m     \u001b[38;5;28mprint\u001b[39m(\u001b[38;5;124mf\u001b[39m\u001b[38;5;124m'\u001b[39m\u001b[38;5;124mEpoch [\u001b[39m\u001b[38;5;132;01m{\u001b[39;00mepoch\u001b[38;5;241m+\u001b[39m\u001b[38;5;241m1\u001b[39m\u001b[38;5;132;01m}\u001b[39;00m\u001b[38;5;124m/\u001b[39m\u001b[38;5;132;01m{\u001b[39;00mepochs\u001b[38;5;132;01m}\u001b[39;00m\u001b[38;5;124m], Loss: \u001b[39m\u001b[38;5;132;01m{\u001b[39;00mloss\u001b[38;5;241m.\u001b[39mitem()\u001b[38;5;132;01m:\u001b[39;00m\u001b[38;5;124m.4f\u001b[39m\u001b[38;5;132;01m}\u001b[39;00m\u001b[38;5;124m'\u001b[39m)\n",
      "File \u001b[0;32m~/miniconda3/envs/kasturi_ml_project/lib/python3.10/site-packages/torch/optim/optimizer.py:373\u001b[0m, in \u001b[0;36mOptimizer.profile_hook_step.<locals>.wrapper\u001b[0;34m(*args, **kwargs)\u001b[0m\n\u001b[1;32m    368\u001b[0m         \u001b[38;5;28;01melse\u001b[39;00m:\n\u001b[1;32m    369\u001b[0m             \u001b[38;5;28;01mraise\u001b[39;00m \u001b[38;5;167;01mRuntimeError\u001b[39;00m(\n\u001b[1;32m    370\u001b[0m                 \u001b[38;5;124mf\u001b[39m\u001b[38;5;124m\"\u001b[39m\u001b[38;5;132;01m{\u001b[39;00mfunc\u001b[38;5;132;01m}\u001b[39;00m\u001b[38;5;124m must return None or a tuple of (new_args, new_kwargs), but got \u001b[39m\u001b[38;5;132;01m{\u001b[39;00mresult\u001b[38;5;132;01m}\u001b[39;00m\u001b[38;5;124m.\u001b[39m\u001b[38;5;124m\"\u001b[39m\n\u001b[1;32m    371\u001b[0m             )\n\u001b[0;32m--> 373\u001b[0m out \u001b[38;5;241m=\u001b[39m \u001b[43mfunc\u001b[49m\u001b[43m(\u001b[49m\u001b[38;5;241;43m*\u001b[39;49m\u001b[43margs\u001b[49m\u001b[43m,\u001b[49m\u001b[43m \u001b[49m\u001b[38;5;241;43m*\u001b[39;49m\u001b[38;5;241;43m*\u001b[39;49m\u001b[43mkwargs\u001b[49m\u001b[43m)\u001b[49m\n\u001b[1;32m    374\u001b[0m \u001b[38;5;28mself\u001b[39m\u001b[38;5;241m.\u001b[39m_optimizer_step_code()\n\u001b[1;32m    376\u001b[0m \u001b[38;5;66;03m# call optimizer step post hooks\u001b[39;00m\n",
      "File \u001b[0;32m~/miniconda3/envs/kasturi_ml_project/lib/python3.10/site-packages/torch/optim/optimizer.py:76\u001b[0m, in \u001b[0;36m_use_grad_for_differentiable.<locals>._use_grad\u001b[0;34m(self, *args, **kwargs)\u001b[0m\n\u001b[1;32m     74\u001b[0m     torch\u001b[38;5;241m.\u001b[39mset_grad_enabled(\u001b[38;5;28mself\u001b[39m\u001b[38;5;241m.\u001b[39mdefaults[\u001b[38;5;124m'\u001b[39m\u001b[38;5;124mdifferentiable\u001b[39m\u001b[38;5;124m'\u001b[39m])\n\u001b[1;32m     75\u001b[0m     torch\u001b[38;5;241m.\u001b[39m_dynamo\u001b[38;5;241m.\u001b[39mgraph_break()\n\u001b[0;32m---> 76\u001b[0m     ret \u001b[38;5;241m=\u001b[39m \u001b[43mfunc\u001b[49m\u001b[43m(\u001b[49m\u001b[38;5;28;43mself\u001b[39;49m\u001b[43m,\u001b[49m\u001b[43m \u001b[49m\u001b[38;5;241;43m*\u001b[39;49m\u001b[43margs\u001b[49m\u001b[43m,\u001b[49m\u001b[43m \u001b[49m\u001b[38;5;241;43m*\u001b[39;49m\u001b[38;5;241;43m*\u001b[39;49m\u001b[43mkwargs\u001b[49m\u001b[43m)\u001b[49m\n\u001b[1;32m     77\u001b[0m \u001b[38;5;28;01mfinally\u001b[39;00m:\n\u001b[1;32m     78\u001b[0m     torch\u001b[38;5;241m.\u001b[39m_dynamo\u001b[38;5;241m.\u001b[39mgraph_break()\n",
      "File \u001b[0;32m~/miniconda3/envs/kasturi_ml_project/lib/python3.10/site-packages/torch/optim/adam.py:163\u001b[0m, in \u001b[0;36mAdam.step\u001b[0;34m(self, closure)\u001b[0m\n\u001b[1;32m    152\u001b[0m     beta1, beta2 \u001b[38;5;241m=\u001b[39m group[\u001b[38;5;124m'\u001b[39m\u001b[38;5;124mbetas\u001b[39m\u001b[38;5;124m'\u001b[39m]\n\u001b[1;32m    154\u001b[0m     \u001b[38;5;28mself\u001b[39m\u001b[38;5;241m.\u001b[39m_init_group(\n\u001b[1;32m    155\u001b[0m         group,\n\u001b[1;32m    156\u001b[0m         params_with_grad,\n\u001b[0;32m   (...)\u001b[0m\n\u001b[1;32m    160\u001b[0m         max_exp_avg_sqs,\n\u001b[1;32m    161\u001b[0m         state_steps)\n\u001b[0;32m--> 163\u001b[0m     \u001b[43madam\u001b[49m\u001b[43m(\u001b[49m\n\u001b[1;32m    164\u001b[0m \u001b[43m        \u001b[49m\u001b[43mparams_with_grad\u001b[49m\u001b[43m,\u001b[49m\n\u001b[1;32m    165\u001b[0m \u001b[43m        \u001b[49m\u001b[43mgrads\u001b[49m\u001b[43m,\u001b[49m\n\u001b[1;32m    166\u001b[0m \u001b[43m        \u001b[49m\u001b[43mexp_avgs\u001b[49m\u001b[43m,\u001b[49m\n\u001b[1;32m    167\u001b[0m \u001b[43m        \u001b[49m\u001b[43mexp_avg_sqs\u001b[49m\u001b[43m,\u001b[49m\n\u001b[1;32m    168\u001b[0m \u001b[43m        \u001b[49m\u001b[43mmax_exp_avg_sqs\u001b[49m\u001b[43m,\u001b[49m\n\u001b[1;32m    169\u001b[0m \u001b[43m        \u001b[49m\u001b[43mstate_steps\u001b[49m\u001b[43m,\u001b[49m\n\u001b[1;32m    170\u001b[0m \u001b[43m        \u001b[49m\u001b[43mamsgrad\u001b[49m\u001b[38;5;241;43m=\u001b[39;49m\u001b[43mgroup\u001b[49m\u001b[43m[\u001b[49m\u001b[38;5;124;43m'\u001b[39;49m\u001b[38;5;124;43mamsgrad\u001b[39;49m\u001b[38;5;124;43m'\u001b[39;49m\u001b[43m]\u001b[49m\u001b[43m,\u001b[49m\n\u001b[1;32m    171\u001b[0m \u001b[43m        \u001b[49m\u001b[43mbeta1\u001b[49m\u001b[38;5;241;43m=\u001b[39;49m\u001b[43mbeta1\u001b[49m\u001b[43m,\u001b[49m\n\u001b[1;32m    172\u001b[0m \u001b[43m        \u001b[49m\u001b[43mbeta2\u001b[49m\u001b[38;5;241;43m=\u001b[39;49m\u001b[43mbeta2\u001b[49m\u001b[43m,\u001b[49m\n\u001b[1;32m    173\u001b[0m \u001b[43m        \u001b[49m\u001b[43mlr\u001b[49m\u001b[38;5;241;43m=\u001b[39;49m\u001b[43mgroup\u001b[49m\u001b[43m[\u001b[49m\u001b[38;5;124;43m'\u001b[39;49m\u001b[38;5;124;43mlr\u001b[39;49m\u001b[38;5;124;43m'\u001b[39;49m\u001b[43m]\u001b[49m\u001b[43m,\u001b[49m\n\u001b[1;32m    174\u001b[0m \u001b[43m        \u001b[49m\u001b[43mweight_decay\u001b[49m\u001b[38;5;241;43m=\u001b[39;49m\u001b[43mgroup\u001b[49m\u001b[43m[\u001b[49m\u001b[38;5;124;43m'\u001b[39;49m\u001b[38;5;124;43mweight_decay\u001b[39;49m\u001b[38;5;124;43m'\u001b[39;49m\u001b[43m]\u001b[49m\u001b[43m,\u001b[49m\n\u001b[1;32m    175\u001b[0m \u001b[43m        \u001b[49m\u001b[43meps\u001b[49m\u001b[38;5;241;43m=\u001b[39;49m\u001b[43mgroup\u001b[49m\u001b[43m[\u001b[49m\u001b[38;5;124;43m'\u001b[39;49m\u001b[38;5;124;43meps\u001b[39;49m\u001b[38;5;124;43m'\u001b[39;49m\u001b[43m]\u001b[49m\u001b[43m,\u001b[49m\n\u001b[1;32m    176\u001b[0m \u001b[43m        \u001b[49m\u001b[43mmaximize\u001b[49m\u001b[38;5;241;43m=\u001b[39;49m\u001b[43mgroup\u001b[49m\u001b[43m[\u001b[49m\u001b[38;5;124;43m'\u001b[39;49m\u001b[38;5;124;43mmaximize\u001b[39;49m\u001b[38;5;124;43m'\u001b[39;49m\u001b[43m]\u001b[49m\u001b[43m,\u001b[49m\n\u001b[1;32m    177\u001b[0m \u001b[43m        \u001b[49m\u001b[43mforeach\u001b[49m\u001b[38;5;241;43m=\u001b[39;49m\u001b[43mgroup\u001b[49m\u001b[43m[\u001b[49m\u001b[38;5;124;43m'\u001b[39;49m\u001b[38;5;124;43mforeach\u001b[39;49m\u001b[38;5;124;43m'\u001b[39;49m\u001b[43m]\u001b[49m\u001b[43m,\u001b[49m\n\u001b[1;32m    178\u001b[0m \u001b[43m        \u001b[49m\u001b[43mcapturable\u001b[49m\u001b[38;5;241;43m=\u001b[39;49m\u001b[43mgroup\u001b[49m\u001b[43m[\u001b[49m\u001b[38;5;124;43m'\u001b[39;49m\u001b[38;5;124;43mcapturable\u001b[39;49m\u001b[38;5;124;43m'\u001b[39;49m\u001b[43m]\u001b[49m\u001b[43m,\u001b[49m\n\u001b[1;32m    179\u001b[0m \u001b[43m        \u001b[49m\u001b[43mdifferentiable\u001b[49m\u001b[38;5;241;43m=\u001b[39;49m\u001b[43mgroup\u001b[49m\u001b[43m[\u001b[49m\u001b[38;5;124;43m'\u001b[39;49m\u001b[38;5;124;43mdifferentiable\u001b[39;49m\u001b[38;5;124;43m'\u001b[39;49m\u001b[43m]\u001b[49m\u001b[43m,\u001b[49m\n\u001b[1;32m    180\u001b[0m \u001b[43m        \u001b[49m\u001b[43mfused\u001b[49m\u001b[38;5;241;43m=\u001b[39;49m\u001b[43mgroup\u001b[49m\u001b[43m[\u001b[49m\u001b[38;5;124;43m'\u001b[39;49m\u001b[38;5;124;43mfused\u001b[39;49m\u001b[38;5;124;43m'\u001b[39;49m\u001b[43m]\u001b[49m\u001b[43m,\u001b[49m\n\u001b[1;32m    181\u001b[0m \u001b[43m        \u001b[49m\u001b[43mgrad_scale\u001b[49m\u001b[38;5;241;43m=\u001b[39;49m\u001b[38;5;28;43mgetattr\u001b[39;49m\u001b[43m(\u001b[49m\u001b[38;5;28;43mself\u001b[39;49m\u001b[43m,\u001b[49m\u001b[43m \u001b[49m\u001b[38;5;124;43m\"\u001b[39;49m\u001b[38;5;124;43mgrad_scale\u001b[39;49m\u001b[38;5;124;43m\"\u001b[39;49m\u001b[43m,\u001b[49m\u001b[43m \u001b[49m\u001b[38;5;28;43;01mNone\u001b[39;49;00m\u001b[43m)\u001b[49m\u001b[43m,\u001b[49m\n\u001b[1;32m    182\u001b[0m \u001b[43m        \u001b[49m\u001b[43mfound_inf\u001b[49m\u001b[38;5;241;43m=\u001b[39;49m\u001b[38;5;28;43mgetattr\u001b[39;49m\u001b[43m(\u001b[49m\u001b[38;5;28;43mself\u001b[39;49m\u001b[43m,\u001b[49m\u001b[43m \u001b[49m\u001b[38;5;124;43m\"\u001b[39;49m\u001b[38;5;124;43mfound_inf\u001b[39;49m\u001b[38;5;124;43m\"\u001b[39;49m\u001b[43m,\u001b[49m\u001b[43m \u001b[49m\u001b[38;5;28;43;01mNone\u001b[39;49;00m\u001b[43m)\u001b[49m\u001b[43m,\u001b[49m\n\u001b[1;32m    183\u001b[0m \u001b[43m    \u001b[49m\u001b[43m)\u001b[49m\n\u001b[1;32m    185\u001b[0m \u001b[38;5;28;01mreturn\u001b[39;00m loss\n",
      "File \u001b[0;32m~/miniconda3/envs/kasturi_ml_project/lib/python3.10/site-packages/torch/optim/adam.py:311\u001b[0m, in \u001b[0;36madam\u001b[0;34m(params, grads, exp_avgs, exp_avg_sqs, max_exp_avg_sqs, state_steps, foreach, capturable, differentiable, fused, grad_scale, found_inf, amsgrad, beta1, beta2, lr, weight_decay, eps, maximize)\u001b[0m\n\u001b[1;32m    308\u001b[0m \u001b[38;5;28;01melse\u001b[39;00m:\n\u001b[1;32m    309\u001b[0m     func \u001b[38;5;241m=\u001b[39m _single_tensor_adam\n\u001b[0;32m--> 311\u001b[0m \u001b[43mfunc\u001b[49m\u001b[43m(\u001b[49m\u001b[43mparams\u001b[49m\u001b[43m,\u001b[49m\n\u001b[1;32m    312\u001b[0m \u001b[43m     \u001b[49m\u001b[43mgrads\u001b[49m\u001b[43m,\u001b[49m\n\u001b[1;32m    313\u001b[0m \u001b[43m     \u001b[49m\u001b[43mexp_avgs\u001b[49m\u001b[43m,\u001b[49m\n\u001b[1;32m    314\u001b[0m \u001b[43m     \u001b[49m\u001b[43mexp_avg_sqs\u001b[49m\u001b[43m,\u001b[49m\n\u001b[1;32m    315\u001b[0m \u001b[43m     \u001b[49m\u001b[43mmax_exp_avg_sqs\u001b[49m\u001b[43m,\u001b[49m\n\u001b[1;32m    316\u001b[0m \u001b[43m     \u001b[49m\u001b[43mstate_steps\u001b[49m\u001b[43m,\u001b[49m\n\u001b[1;32m    317\u001b[0m \u001b[43m     \u001b[49m\u001b[43mamsgrad\u001b[49m\u001b[38;5;241;43m=\u001b[39;49m\u001b[43mamsgrad\u001b[49m\u001b[43m,\u001b[49m\n\u001b[1;32m    318\u001b[0m \u001b[43m     \u001b[49m\u001b[43mbeta1\u001b[49m\u001b[38;5;241;43m=\u001b[39;49m\u001b[43mbeta1\u001b[49m\u001b[43m,\u001b[49m\n\u001b[1;32m    319\u001b[0m \u001b[43m     \u001b[49m\u001b[43mbeta2\u001b[49m\u001b[38;5;241;43m=\u001b[39;49m\u001b[43mbeta2\u001b[49m\u001b[43m,\u001b[49m\n\u001b[1;32m    320\u001b[0m \u001b[43m     \u001b[49m\u001b[43mlr\u001b[49m\u001b[38;5;241;43m=\u001b[39;49m\u001b[43mlr\u001b[49m\u001b[43m,\u001b[49m\n\u001b[1;32m    321\u001b[0m \u001b[43m     \u001b[49m\u001b[43mweight_decay\u001b[49m\u001b[38;5;241;43m=\u001b[39;49m\u001b[43mweight_decay\u001b[49m\u001b[43m,\u001b[49m\n\u001b[1;32m    322\u001b[0m \u001b[43m     \u001b[49m\u001b[43meps\u001b[49m\u001b[38;5;241;43m=\u001b[39;49m\u001b[43meps\u001b[49m\u001b[43m,\u001b[49m\n\u001b[1;32m    323\u001b[0m \u001b[43m     \u001b[49m\u001b[43mmaximize\u001b[49m\u001b[38;5;241;43m=\u001b[39;49m\u001b[43mmaximize\u001b[49m\u001b[43m,\u001b[49m\n\u001b[1;32m    324\u001b[0m \u001b[43m     \u001b[49m\u001b[43mcapturable\u001b[49m\u001b[38;5;241;43m=\u001b[39;49m\u001b[43mcapturable\u001b[49m\u001b[43m,\u001b[49m\n\u001b[1;32m    325\u001b[0m \u001b[43m     \u001b[49m\u001b[43mdifferentiable\u001b[49m\u001b[38;5;241;43m=\u001b[39;49m\u001b[43mdifferentiable\u001b[49m\u001b[43m,\u001b[49m\n\u001b[1;32m    326\u001b[0m \u001b[43m     \u001b[49m\u001b[43mgrad_scale\u001b[49m\u001b[38;5;241;43m=\u001b[39;49m\u001b[43mgrad_scale\u001b[49m\u001b[43m,\u001b[49m\n\u001b[1;32m    327\u001b[0m \u001b[43m     \u001b[49m\u001b[43mfound_inf\u001b[49m\u001b[38;5;241;43m=\u001b[39;49m\u001b[43mfound_inf\u001b[49m\u001b[43m)\u001b[49m\n",
      "File \u001b[0;32m~/miniconda3/envs/kasturi_ml_project/lib/python3.10/site-packages/torch/optim/adam.py:432\u001b[0m, in \u001b[0;36m_single_tensor_adam\u001b[0;34m(params, grads, exp_avgs, exp_avg_sqs, max_exp_avg_sqs, state_steps, grad_scale, found_inf, amsgrad, beta1, beta2, lr, weight_decay, eps, maximize, capturable, differentiable)\u001b[0m\n\u001b[1;32m    430\u001b[0m         denom \u001b[38;5;241m=\u001b[39m (max_exp_avg_sqs[i]\u001b[38;5;241m.\u001b[39msqrt() \u001b[38;5;241m/\u001b[39m bias_correction2_sqrt)\u001b[38;5;241m.\u001b[39madd_(eps)\n\u001b[1;32m    431\u001b[0m     \u001b[38;5;28;01melse\u001b[39;00m:\n\u001b[0;32m--> 432\u001b[0m         denom \u001b[38;5;241m=\u001b[39m (\u001b[43mexp_avg_sq\u001b[49m\u001b[38;5;241;43m.\u001b[39;49m\u001b[43msqrt\u001b[49m\u001b[43m(\u001b[49m\u001b[43m)\u001b[49m\u001b[43m \u001b[49m\u001b[38;5;241;43m/\u001b[39;49m\u001b[43m \u001b[49m\u001b[43mbias_correction2_sqrt\u001b[49m)\u001b[38;5;241m.\u001b[39madd_(eps)\n\u001b[1;32m    434\u001b[0m     param\u001b[38;5;241m.\u001b[39maddcdiv_(exp_avg, denom, value\u001b[38;5;241m=\u001b[39m\u001b[38;5;241m-\u001b[39mstep_size)\n\u001b[1;32m    436\u001b[0m \u001b[38;5;66;03m# Lastly, switch back to complex view\u001b[39;00m\n",
      "File \u001b[0;32m~/miniconda3/envs/kasturi_ml_project/lib/python3.10/site-packages/torch/utils/_device.py:77\u001b[0m, in \u001b[0;36mDeviceContext.__torch_function__\u001b[0;34m(self, func, types, args, kwargs)\u001b[0m\n\u001b[1;32m     75\u001b[0m \u001b[38;5;28;01mif\u001b[39;00m func \u001b[38;5;129;01min\u001b[39;00m _device_constructors() \u001b[38;5;129;01mand\u001b[39;00m kwargs\u001b[38;5;241m.\u001b[39mget(\u001b[38;5;124m'\u001b[39m\u001b[38;5;124mdevice\u001b[39m\u001b[38;5;124m'\u001b[39m) \u001b[38;5;129;01mis\u001b[39;00m \u001b[38;5;28;01mNone\u001b[39;00m:\n\u001b[1;32m     76\u001b[0m     kwargs[\u001b[38;5;124m'\u001b[39m\u001b[38;5;124mdevice\u001b[39m\u001b[38;5;124m'\u001b[39m] \u001b[38;5;241m=\u001b[39m \u001b[38;5;28mself\u001b[39m\u001b[38;5;241m.\u001b[39mdevice\n\u001b[0;32m---> 77\u001b[0m \u001b[38;5;28;01mreturn\u001b[39;00m \u001b[43mfunc\u001b[49m\u001b[43m(\u001b[49m\u001b[38;5;241;43m*\u001b[39;49m\u001b[43margs\u001b[49m\u001b[43m,\u001b[49m\u001b[43m \u001b[49m\u001b[38;5;241;43m*\u001b[39;49m\u001b[38;5;241;43m*\u001b[39;49m\u001b[43mkwargs\u001b[49m\u001b[43m)\u001b[49m\n",
      "\u001b[0;31mKeyboardInterrupt\u001b[0m: "
     ]
    }
   ],
   "source": [
    "train_mlp_regressor(mlp_regressor_bin_2, optimizer_bin_2, epochs=10000, batch_size=500, X_train=X_bin_2_train.values if isinstance(X_bin_2_train, pd.DataFrame) else X_bin_2_train, Y_train=np.array(Y_bin_2_train).reshape(-1, 1))"
   ]
  },
  {
   "cell_type": "code",
   "execution_count": 45,
   "metadata": {},
   "outputs": [
    {
     "name": "stderr",
     "output_type": "stream",
     "text": [
      "/Users/rithikkumars/miniconda3/envs/kasturi_ml_project/lib/python3.10/site-packages/torch/utils/_device.py:77: UserWarning:\n",
      "\n",
      "Using a target size (torch.Size([2324])) that is different to the input size (torch.Size([2324, 1])). This will likely lead to incorrect results due to broadcasting. Please ensure they have the same size.\n",
      "\n",
      "/Users/rithikkumars/miniconda3/envs/kasturi_ml_project/lib/python3.10/site-packages/torch/utils/_device.py:77: UserWarning:\n",
      "\n",
      "Using a target size (torch.Size([88])) that is different to the input size (torch.Size([88, 1])). This will likely lead to incorrect results due to broadcasting. Please ensure they have the same size.\n",
      "\n"
     ]
    },
    {
     "name": "stdout",
     "output_type": "stream",
     "text": [
      "Loss: 58.0764\n",
      "Loss: 169.2825\n"
     ]
    },
    {
     "data": {
      "image/png": "[encoded data removed]",
      "text/plain": [
       "<Figure size 640x480 with 1 Axes>"
      ]
     },
     "metadata": {},
     "output_type": "display_data"
    },
    {
     "data": {
      "image/png": "[encoded data removed]",
      "text/plain": [
       "<Figure size 1000x600 with 1 Axes>"
      ]
     },
     "metadata": {},
     "output_type": "display_data"
    },
    {
     "name": "stdout",
     "output_type": "stream",
     "text": [
      "The mean error is 2.6914802065404473 and the standard deviation of the errors is 11.085138197555434\n"
     ]
    },
    {
     "data": {
      "image/png": "[encoded data removed]",
      "text/plain": [
       "<Figure size 1000x600 with 1 Axes>"
      ]
     },
     "metadata": {},
     "output_type": "display_data"
    },
    {
     "data": {
      "image/png": "[encoded data removed]",
      "text/plain": [
       "<Figure size 640x480 with 1 Axes>"
      ]
     },
     "metadata": {},
     "output_type": "display_data"
    },
    {
     "data": {
      "image/png": "[encoded data removed]",
      "text/plain": [
       "<Figure size 1000x600 with 1 Axes>"
      ]
     },
     "metadata": {},
     "output_type": "display_data"
    },
    {
     "name": "stdout",
     "output_type": "stream",
     "text": [
      "The mean error is 76.44318181818181 and the standard deviation of the errors is 332.8168298422417\n"
     ]
    },
    {
     "data": {
      "image/png": "[encoded data removed]",
      "text/plain": [
       "<Figure size 1000x600 with 1 Axes>"
      ]
     },
     "metadata": {},
     "output_type": "display_data"
    }
   ],
   "source": [
    "\n",
    "# testing the MLP models\n",
    "y_pred_mlp_bin_1 = test_mlp_regressor(mlp_regressor_bin_1, X_bin_1_test.values if isinstance(X_bin_1_test, pd.DataFrame) else X_bin_1_test, np.array(Y_bin_1_test).reshape(-1, 1).squeeze())\n",
    "y_pred_mlp_bin_1 = np.rint(y_pred_mlp_bin_1).astype(int)\n",
    "\n",
    "y_pred_mlp_bin_2 = test_mlp_regressor(mlp_regressor_bin_2, X_bin_2_test.values if isinstance(X_bin_2_test, pd.DataFrame) else X_bin_2_test, np.array(Y_bin_2_test).reshape(-1, 1).squeeze())\n",
    "y_pred_mlp_bin_2 = np.rint(y_pred_mlp_bin_2).astype(int)\n",
    "\n",
    "Y_bin_1_test = np.rint(Y_bin_1_test).astype(int)\n",
    "Y_bin_2_test = np.rint(Y_bin_2_test).astype(int)\n",
    "\n",
    "# plotting the results\n",
    "plt.plot(np.floor(Y_bin_1_test//rounding_graph) * rounding_graph, np.floor(y_pred_mlp_bin_1//rounding_graph) * rounding_graph, 'o')\n",
    "accuracy_bin1 = calculate_accuracy(Y_bin_1_test, y_pred_mlp_bin_1, rounding)\n",
    "\n",
    "plt.xlabel('Actual')\n",
    "plt.ylabel('Predicted')\n",
    "plt.title('Accuracy (prediction error < {}) on Y<=250 bin: {}'.format(rounding, accuracy_bin1))\n",
    "plot_error_frequency(y_pred_mlp_bin_1, Y_bin_1_test, 'MLP', rounding)\n",
    "\n",
    "plt.plot(np.floor(Y_bin_2_test//rounding_graph) * rounding_graph, np.floor(y_pred_mlp_bin_2//rounding_graph) * rounding_graph, 'o')\n",
    "accuracy_bin2 = calculate_accuracy(Y_bin_2_test, y_pred_mlp_bin_2, rounding)\n",
    "\n",
    "plt.xlabel('Actual')\n",
    "plt.ylabel('Predicted')\n",
    "plt.title('Accuracy (prediction error < {}) on Y>250 bin: {}'.format(rounding, accuracy_bin2))\n",
    "plot_error_frequency(y_pred_mlp_bin_2, Y_bin_2_test, 'MLP', rounding)"
   ]
  }
 ],
 "metadata": {
  "kernelspec": {
   "display_name": "Python 3",
   "language": "python",
   "name": "python3"
  },
  "language_info": {
   "codemirror_mode": {
    "name": "ipython",
    "version": 3
   },
   "file_extension": ".py",
   "mimetype": "text/x-python",
   "name": "python",
   "nbconvert_exporter": "python",
   "pygments_lexer": "ipython3",
   "version": "3.10.13"
  },
  "orig_nbformat": 4
 },
 "nbformat": 4,
 "nbformat_minor": 2
}
