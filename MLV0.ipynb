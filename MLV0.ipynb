{
 "cells": [
  {
   "cell_type": "markdown",
   "metadata": {},
   "source": [
    "### Objectives\n",
    "\n",
    "First, create a graph representation of the information we have. \n",
    "This would be information about the elements, and the nodes. \n",
    "Using this, we will feed it into our SVM, or a Random Forest, and see from there onwards"
   ]
  },
  {
   "cell_type": "code",
   "execution_count": 1,
   "metadata": {},
   "outputs": [],
   "source": [
    "%load_ext autoreload \n",
    "%autoreload 2"
   ]
  },
  {
   "cell_type": "code",
   "execution_count": 2,
   "metadata": {},
   "outputs": [],
   "source": [
    "from Generate_Excel import *\n",
    "from MitoCode_Functions import open_file_dialog"
   ]
  },
  {
   "cell_type": "code",
   "execution_count": 3,
   "metadata": {},
   "outputs": [],
   "source": [
    "import pandas as pd\n",
    "import igraph as ig\n",
    "\n",
    "def Mitograph_Graph(FileName):\n",
    "    # Read information from the gnet file, and create a graph object\n",
    "    # generate a function that takes in the filename and gives out the graph\n",
    "    G = pd.read_table(FileName + '.gnet', skiprows=1, sep='\\t', names=['Source', 'Target', 'Length'])\n",
    "    graph = ig.Graph.TupleList(G.itertuples(index=False), directed=False, edge_attrs=['Length'])\n",
    "    layout = graph.layout_auto()  # Automatic layout calculation\n",
    "    graph.vs['degree'] = graph.degree()\n",
    "    # ig.plot(graph, layout=layout)\n",
    "    Vol = pd.read_table(FileName + '.cc', skiprows=0, sep='\\t')\n",
    "    Vol.columns = ['node', 'cc', 'vol_cc']\n",
    "\n",
    "    ids = [int(node['name']) for node in graph.vs]\n",
    "    graph.vs['cc_vol'] = [Vol.loc[Vol['node'] == node, 'vol_cc'].values[0] for node in ids]\n",
    "    graph.vs['cc'] = [Vol.loc[Vol['node'] == node, 'cc'].values[0] for node in ids]\n",
    "    return graph, Vol"
   ]
  },
  {
   "cell_type": "code",
   "execution_count": 4,
   "metadata": {},
   "outputs": [],
   "source": [
    "# n = pd.read_csv('/home/mitosim2/Desktop/czi_files/full_node_Table_.csv')\n",
    "# df = pd.read_csv('/home/mitosim2/Desktop/czi_files/full_Table_.csv')\n",
    "n = pd.read_csv('/Users/birat/Onedrive/Desktop/TCDD11S/full_Table_.csv')\n",
    "df = n"
   ]
  },
  {
   "cell_type": "code",
   "execution_count": 5,
   "metadata": {},
   "outputs": [],
   "source": [
    "cc_df = df[['cc_x', 'folder_name_x', 'cc_pixel_intensity_488', 'cc_pixel_intensity_405', 'cc_pixel_intensity_555', 'cc_pixel_intensity_ratio', \n",
    "            'cc_average_degree_excludeFreeEnds',\n",
    "             'cc_max_PK', 'diameter', 'cc_vol_from_img_(um3)', 'branches'\n",
    "            , 'nodes', 'edges']].drop_duplicates(subset = ['cc_x','folder_name_x'])\n",
    "\n",
    "# add Percentage Length\n",
    "# average edge length\n",
    "# Max edge length \n",
    "# Min edge length \n",
    "# CV of the edge length \n",
    "# Average PK \n",
    "\n",
    "import warnings\n",
    "from matplotlib import cm\n",
    "\n",
    "def plot_cc(main_df, df_dir, title = ''):\n",
    "\n",
    "    warnings.filterwarnings(\"ignore\", category=UserWarning)\n",
    "    # plt.clf()\n",
    "    cc_df = main_df[['folder_name_x','cc_x', 'cc_length_(um)', 'cc_max_PK', 'cc_vol_from_img_(um3)', 'branches', 'nodes', 'edges','cc_pixel_intensity_405', 'cc_pixel_intensity_488', 'cc_pixel_intensity_ratio', 'cc_average_degree_excludeFreeEnds', 'diameter', 'cc_average_connectivity']].drop_duplicates()\n",
    "    \n",
    "    cc_df['nodes_per_length'] = cc_df['nodes'] / cc_df['cc_length_(um)']\n",
    "    cc_df['edges_per_length'] = cc_df['edges'] / cc_df['cc_length_(um)']\n",
    "    cc_df['avgdegreeperl'] = cc_df['cc_average_degree_excludeFreeEnds']/cc_df['cc_length_(um)']\n",
    "    cc_df['avgpkperl'] = cc_df['cc_max_PK']/cc_df['cc_length_(um)']\n",
    "    cc_df['average_edge_length'] = cc_df\n",
    "    # cc_df = cc_df[cc_df['edges'] != 1]\n",
    "    a = cc_df.groupby(\"folder_name_x\")\n",
    "    dataframelist = [group for _, group in a]\n",
    "\n",
    "\n",
    "    fig, ax = plt.subplots(1, 7, figsize=(33.6, 4))\n",
    "    \n",
    "    fig.tight_layout(w_pad=2)\n",
    "    colors = cm.tab20(np.linspace(0, 1, len(dataframelist)))\n",
    "    i = -1\n",
    "    for df_index, df in enumerate(dataframelist):\n",
    "        edges = main_df[main_df['cc_x'] == df['cc_x'].values[0] and main_df['folder_name_x'] == df['folder_name_x'].values[0]]\n",
    "        df['average_edge_length'] = edges['element_'].mean() \n",
    "        \n",
    "        # ax.scatter(dat[:, 1], (datfunc),  color=colors[df_index])\n",
    "        # print(len(df['cc_length_(um)']), len(df['cc_pixel_intensity_488']))\n",
    "        # print(type(df['cc_length_(um)']), type(df['cc_pixel_intensity_488']))\n",
    "        # # drop nan values from df \n",
    "        # # df = df.dropna()\n",
    "        # print(len(df['cc_length_(um)']), len(df['cc_pixel_intensity_488']))\n",
    "        ax[0].scatter(df['cc_length_(um)'] ,df['cc_pixel_intensity_ratio'],color=colors[df_index], label=df['folder_name_x'].values[0].split('hr', 1)[-1], s= 12)\n",
    "        ax[1].scatter(df['nodes'],df['cc_pixel_intensity_ratio'],  color=colors[df_index], label=df['folder_name_x'].values[0].split('hr', 1)[-1], s= 12)\n",
    "        ax[2].scatter(df['edges'],df['cc_pixel_intensity_ratio'],  color=colors[df_index], label=df['folder_name_x'].values[0].split('hr', 1)[-1], s= 12)\n",
    "        ax[3].scatter(df['nodes_per_length'],df['cc_pixel_intensity_ratio'],  color=colors[df_index], label=df['folder_name_x'].values[0].split('hr', 1)[-1], s= 12)\n",
    "        ax[4].scatter(df['edges_per_length'],df['cc_pixel_intensity_ratio'],  color=colors[df_index], label=df['folder_name_x'].values[0].split('hr', 1)[-1], s= 12)\n",
    "        ax[5].scatter(df['avgdegreeperl'], df['cc_pixel_intensity_ratio'],  color=colors[df_index], label=df['folder_name_x'].values[0].split('hr', 1)[-1], s= 12)\n",
    "        ax[6].scatter(df['avgpkperl'], df['cc_pixel_intensity_ratio'],  color=colors[df_index], label=df['folder_name_x'].values[0].split('hr', 1)[-1], s= 12)\n",
    "\n",
    "    return cc_df\n"
   ]
  },
  {
   "cell_type": "code",
   "execution_count": null,
   "metadata": {},
   "outputs": [],
   "source": [
    "cc_df = df[['cc_x', 'folder_name_x', 'cc_pixel_intensity_488', 'cc_pixel_intensity_405', 'cc_pixel_intensity_555', 'cc_pixel_intensity_ratio', 'cc_average_degree_excludeFreeEnds',\n",
    "             'cc_max_PK', 'diameter', 'cc_vol_from_img_(um3)', 'branches'\n",
    "            , 'nodes', 'edges']].drop_duplicates(subset = ['cc_x','folder_name_x'])"
   ]
  },
  {
   "cell_type": "code",
   "execution_count": null,
   "metadata": {},
   "outputs": [],
   "source": [
    "cc_df = df[['cc_x', 'folder_name_x', 'cc_pixel_intensity_488', 'cc_pixel_intensity_405', 'cc_pixel_intensity_555', \n",
    "            'cc_pixel_intensity_ratio', 'cc_average_degree_excludeFreeEnds',\n",
    "             'cc_max_PK', 'diameter', 'cc_vol_from_img_(um3)', 'branches'\n",
    "            , 'nodes', 'edges']].drop_duplicates(subset = ['cc_x','folder_name_x'])\n",
    "\n",
    "ele_df = df[['line_id', 'folder_name_x', 'element_pixel_intensity_488', 'element_pixel_intensity_405', 'element_pixel_intensity_555', \n",
    "            'element_pixel_intensity_ratio', 'element_Volume_Voxel', 'element_length_(um)', 'element_average_width' ]].drop_duplicates(subset=['line_id', 'folder_name_x'])"
   ]
  },
  {
   "cell_type": "code",
   "execution_count": null,
   "metadata": {},
   "outputs": [
    {
     "data": {
      "text/html": [
       "<div>\n",
       "<style scoped>\n",
       "    .dataframe tbody tr th:only-of-type {\n",
       "        vertical-align: middle;\n",
       "    }\n",
       "\n",
       "    .dataframe tbody tr th {\n",
       "        vertical-align: top;\n",
       "    }\n",
       "\n",
       "    .dataframe thead th {\n",
       "        text-align: right;\n",
       "    }\n",
       "</style>\n",
       "<table border=\"1\" class=\"dataframe\">\n",
       "  <thead>\n",
       "    <tr style=\"text-align: right;\">\n",
       "      <th></th>\n",
       "      <th>element_pixel_intensity_488</th>\n",
       "      <th>element_pixel_intensity_405</th>\n",
       "      <th>element_pixel_intensity_ratio</th>\n",
       "      <th>element_Volume_Voxel</th>\n",
       "      <th>element_length_(um)</th>\n",
       "      <th>element_average_width</th>\n",
       "    </tr>\n",
       "  </thead>\n",
       "  <tbody>\n",
       "    <tr>\n",
       "      <th>0</th>\n",
       "      <td>400.375000</td>\n",
       "      <td>31.687500</td>\n",
       "      <td>0.079145</td>\n",
       "      <td>0.395035</td>\n",
       "      <td>1.563550</td>\n",
       "      <td>0.252653</td>\n",
       "    </tr>\n",
       "    <tr>\n",
       "      <th>4</th>\n",
       "      <td>245.700000</td>\n",
       "      <td>42.200000</td>\n",
       "      <td>0.171754</td>\n",
       "      <td>0.072792</td>\n",
       "      <td>0.421737</td>\n",
       "      <td>0.172600</td>\n",
       "    </tr>\n",
       "    <tr>\n",
       "      <th>9</th>\n",
       "      <td>897.437500</td>\n",
       "      <td>41.000000</td>\n",
       "      <td>0.045686</td>\n",
       "      <td>0.414276</td>\n",
       "      <td>2.014889</td>\n",
       "      <td>0.205607</td>\n",
       "    </tr>\n",
       "    <tr>\n",
       "      <th>13</th>\n",
       "      <td>884.785714</td>\n",
       "      <td>41.107143</td>\n",
       "      <td>0.046460</td>\n",
       "      <td>0.319226</td>\n",
       "      <td>1.307177</td>\n",
       "      <td>0.244210</td>\n",
       "    </tr>\n",
       "    <tr>\n",
       "      <th>20</th>\n",
       "      <td>709.788462</td>\n",
       "      <td>34.269231</td>\n",
       "      <td>0.048281</td>\n",
       "      <td>0.648523</td>\n",
       "      <td>2.133120</td>\n",
       "      <td>0.304025</td>\n",
       "    </tr>\n",
       "    <tr>\n",
       "      <th>...</th>\n",
       "      <td>...</td>\n",
       "      <td>...</td>\n",
       "      <td>...</td>\n",
       "      <td>...</td>\n",
       "      <td>...</td>\n",
       "      <td>...</td>\n",
       "    </tr>\n",
       "    <tr>\n",
       "      <th>259458</th>\n",
       "      <td>521.625000</td>\n",
       "      <td>13.250000</td>\n",
       "      <td>0.025401</td>\n",
       "      <td>0.047226</td>\n",
       "      <td>0.330596</td>\n",
       "      <td>0.142852</td>\n",
       "    </tr>\n",
       "    <tr>\n",
       "      <th>259462</th>\n",
       "      <td>499.416667</td>\n",
       "      <td>21.583333</td>\n",
       "      <td>0.043217</td>\n",
       "      <td>0.036582</td>\n",
       "      <td>0.208000</td>\n",
       "      <td>0.175873</td>\n",
       "    </tr>\n",
       "    <tr>\n",
       "      <th>259465</th>\n",
       "      <td>438.035714</td>\n",
       "      <td>39.107143</td>\n",
       "      <td>0.089278</td>\n",
       "      <td>0.228966</td>\n",
       "      <td>0.874160</td>\n",
       "      <td>0.261927</td>\n",
       "    </tr>\n",
       "    <tr>\n",
       "      <th>259472</th>\n",
       "      <td>327.625000</td>\n",
       "      <td>20.750000</td>\n",
       "      <td>0.063335</td>\n",
       "      <td>0.058393</td>\n",
       "      <td>0.312000</td>\n",
       "      <td>0.187158</td>\n",
       "    </tr>\n",
       "    <tr>\n",
       "      <th>259476</th>\n",
       "      <td>431.125000</td>\n",
       "      <td>22.125000</td>\n",
       "      <td>0.051319</td>\n",
       "      <td>0.044661</td>\n",
       "      <td>0.312000</td>\n",
       "      <td>0.143145</td>\n",
       "    </tr>\n",
       "  </tbody>\n",
       "</table>\n",
       "<p>35152 rows × 6 columns</p>\n",
       "</div>"
      ],
      "text/plain": [
       "        element_pixel_intensity_488  element_pixel_intensity_405  \\\n",
       "0                        400.375000                    31.687500   \n",
       "4                        245.700000                    42.200000   \n",
       "9                        897.437500                    41.000000   \n",
       "13                       884.785714                    41.107143   \n",
       "20                       709.788462                    34.269231   \n",
       "...                             ...                          ...   \n",
       "259458                   521.625000                    13.250000   \n",
       "259462                   499.416667                    21.583333   \n",
       "259465                   438.035714                    39.107143   \n",
       "259472                   327.625000                    20.750000   \n",
       "259476                   431.125000                    22.125000   \n",
       "\n",
       "        element_pixel_intensity_ratio  element_Volume_Voxel  \\\n",
       "0                            0.079145              0.395035   \n",
       "4                            0.171754              0.072792   \n",
       "9                            0.045686              0.414276   \n",
       "13                           0.046460              0.319226   \n",
       "20                           0.048281              0.648523   \n",
       "...                               ...                   ...   \n",
       "259458                       0.025401              0.047226   \n",
       "259462                       0.043217              0.036582   \n",
       "259465                       0.089278              0.228966   \n",
       "259472                       0.063335              0.058393   \n",
       "259476                       0.051319              0.044661   \n",
       "\n",
       "        element_length_(um)  element_average_width  \n",
       "0                  1.563550               0.252653  \n",
       "4                  0.421737               0.172600  \n",
       "9                  2.014889               0.205607  \n",
       "13                 1.307177               0.244210  \n",
       "20                 2.133120               0.304025  \n",
       "...                     ...                    ...  \n",
       "259458             0.330596               0.142852  \n",
       "259462             0.208000               0.175873  \n",
       "259465             0.874160               0.261927  \n",
       "259472             0.312000               0.187158  \n",
       "259476             0.312000               0.143145  \n",
       "\n",
       "[35152 rows x 6 columns]"
      ]
     },
     "execution_count": 77,
     "metadata": {},
     "output_type": "execute_result"
    }
   ],
   "source": [
    "ele_df.drop(['line_id', 'folder_name_x', 'element_pixel_intensity_555'], axis = 1)"
   ]
  },
  {
   "cell_type": "code",
   "execution_count": null,
   "metadata": {},
   "outputs": [],
   "source": [
    "ele_corr = ele_df.drop(['line_id', 'folder_name_x', 'element_pixel_intensity_555'], axis = 1).corr()\n",
    "ele_corr.to_csv('element_corr.csv')"
   ]
  },
  {
   "cell_type": "code",
   "execution_count": null,
   "metadata": {},
   "outputs": [],
   "source": [
    "cc_corr = cc_df.drop(['cc_x', 'folder_name_x'], axis = 1).corr()\n",
    "cc_corr.to_csv('cc_corr.csv')"
   ]
  },
  {
   "cell_type": "code",
   "execution_count": null,
   "metadata": {},
   "outputs": [
    {
     "data": {
      "text/html": [
       "<div>\n",
       "<style scoped>\n",
       "    .dataframe tbody tr th:only-of-type {\n",
       "        vertical-align: middle;\n",
       "    }\n",
       "\n",
       "    .dataframe tbody tr th {\n",
       "        vertical-align: top;\n",
       "    }\n",
       "\n",
       "    .dataframe thead th {\n",
       "        text-align: right;\n",
       "    }\n",
       "</style>\n",
       "<table border=\"1\" class=\"dataframe\">\n",
       "  <thead>\n",
       "    <tr style=\"text-align: right;\">\n",
       "      <th></th>\n",
       "      <th>cc_x</th>\n",
       "      <th>folder_name_x</th>\n",
       "      <th>cc_pixel_intensity_488</th>\n",
       "      <th>cc_pixel_intensity_405</th>\n",
       "      <th>cc_pixel_intensity_555</th>\n",
       "      <th>cc_pixel_intensity_ratio</th>\n",
       "      <th>cc_average_degree_excludeFreeEnds</th>\n",
       "      <th>cc_max_PK</th>\n",
       "      <th>diameter</th>\n",
       "      <th>cc_vol_from_img_(um3)</th>\n",
       "      <th>branches</th>\n",
       "      <th>nodes</th>\n",
       "      <th>edges</th>\n",
       "    </tr>\n",
       "  </thead>\n",
       "  <tbody>\n",
       "    <tr>\n",
       "      <th>0</th>\n",
       "      <td>0</td>\n",
       "      <td>Tol1hr3_2_S2</td>\n",
       "      <td>400.375000</td>\n",
       "      <td>31.687500</td>\n",
       "      <td>381.375000</td>\n",
       "      <td>0.079145</td>\n",
       "      <td>0.000000</td>\n",
       "      <td>0</td>\n",
       "      <td>0.273622</td>\n",
       "      <td>0.09194</td>\n",
       "      <td>1</td>\n",
       "      <td>2</td>\n",
       "      <td>1</td>\n",
       "    </tr>\n",
       "    <tr>\n",
       "      <th>4</th>\n",
       "      <td>1</td>\n",
       "      <td>Tol1hr3_2_S2</td>\n",
       "      <td>245.700000</td>\n",
       "      <td>42.200000</td>\n",
       "      <td>251.800000</td>\n",
       "      <td>0.171754</td>\n",
       "      <td>0.000000</td>\n",
       "      <td>2</td>\n",
       "      <td>0.383322</td>\n",
       "      <td>0.04867</td>\n",
       "      <td>1</td>\n",
       "      <td>2</td>\n",
       "      <td>1</td>\n",
       "    </tr>\n",
       "    <tr>\n",
       "      <th>9</th>\n",
       "      <td>2</td>\n",
       "      <td>Tol1hr3_2_S2</td>\n",
       "      <td>868.068120</td>\n",
       "      <td>50.390327</td>\n",
       "      <td>729.465032</td>\n",
       "      <td>0.058049</td>\n",
       "      <td>2.071429</td>\n",
       "      <td>9</td>\n",
       "      <td>0.484119</td>\n",
       "      <td>45.07027</td>\n",
       "      <td>60</td>\n",
       "      <td>140</td>\n",
       "      <td>175</td>\n",
       "    </tr>\n",
       "    <tr>\n",
       "      <th>1126</th>\n",
       "      <td>3</td>\n",
       "      <td>Tol1hr3_2_S2</td>\n",
       "      <td>715.049684</td>\n",
       "      <td>42.017089</td>\n",
       "      <td>612.081013</td>\n",
       "      <td>0.058761</td>\n",
       "      <td>1.850467</td>\n",
       "      <td>8</td>\n",
       "      <td>0.497718</td>\n",
       "      <td>31.25283</td>\n",
       "      <td>48</td>\n",
       "      <td>107</td>\n",
       "      <td>123</td>\n",
       "    </tr>\n",
       "    <tr>\n",
       "      <th>1923</th>\n",
       "      <td>4</td>\n",
       "      <td>Tol1hr3_2_S2</td>\n",
       "      <td>262.500000</td>\n",
       "      <td>4.062500</td>\n",
       "      <td>139.500000</td>\n",
       "      <td>0.015476</td>\n",
       "      <td>0.000000</td>\n",
       "      <td>2</td>\n",
       "      <td>0.514636</td>\n",
       "      <td>0.06490</td>\n",
       "      <td>1</td>\n",
       "      <td>2</td>\n",
       "      <td>1</td>\n",
       "    </tr>\n",
       "    <tr>\n",
       "      <th>...</th>\n",
       "      <td>...</td>\n",
       "      <td>...</td>\n",
       "      <td>...</td>\n",
       "      <td>...</td>\n",
       "      <td>...</td>\n",
       "      <td>...</td>\n",
       "      <td>...</td>\n",
       "      <td>...</td>\n",
       "      <td>...</td>\n",
       "      <td>...</td>\n",
       "      <td>...</td>\n",
       "      <td>...</td>\n",
       "      <td>...</td>\n",
       "    </tr>\n",
       "    <tr>\n",
       "      <th>259458</th>\n",
       "      <td>57</td>\n",
       "      <td>TCDD10nM4hr_5_4_S</td>\n",
       "      <td>521.625000</td>\n",
       "      <td>13.250000</td>\n",
       "      <td>172.125000</td>\n",
       "      <td>0.025401</td>\n",
       "      <td>0.000000</td>\n",
       "      <td>2</td>\n",
       "      <td>0.408182</td>\n",
       "      <td>0.04326</td>\n",
       "      <td>1</td>\n",
       "      <td>2</td>\n",
       "      <td>1</td>\n",
       "    </tr>\n",
       "    <tr>\n",
       "      <th>259462</th>\n",
       "      <td>58</td>\n",
       "      <td>TCDD10nM4hr_5_4_S</td>\n",
       "      <td>499.416667</td>\n",
       "      <td>21.583333</td>\n",
       "      <td>166.666667</td>\n",
       "      <td>0.043217</td>\n",
       "      <td>0.000000</td>\n",
       "      <td>2</td>\n",
       "      <td>0.481408</td>\n",
       "      <td>0.03786</td>\n",
       "      <td>1</td>\n",
       "      <td>2</td>\n",
       "      <td>1</td>\n",
       "    </tr>\n",
       "    <tr>\n",
       "      <th>259465</th>\n",
       "      <td>59</td>\n",
       "      <td>TCDD10nM4hr_5_4_S</td>\n",
       "      <td>438.035714</td>\n",
       "      <td>39.107143</td>\n",
       "      <td>137.357143</td>\n",
       "      <td>0.089278</td>\n",
       "      <td>0.000000</td>\n",
       "      <td>2</td>\n",
       "      <td>0.477941</td>\n",
       "      <td>0.15683</td>\n",
       "      <td>1</td>\n",
       "      <td>2</td>\n",
       "      <td>1</td>\n",
       "    </tr>\n",
       "    <tr>\n",
       "      <th>259472</th>\n",
       "      <td>60</td>\n",
       "      <td>TCDD10nM4hr_5_4_S</td>\n",
       "      <td>327.625000</td>\n",
       "      <td>20.750000</td>\n",
       "      <td>154.250000</td>\n",
       "      <td>0.063335</td>\n",
       "      <td>0.000000</td>\n",
       "      <td>2</td>\n",
       "      <td>0.420166</td>\n",
       "      <td>0.04326</td>\n",
       "      <td>1</td>\n",
       "      <td>2</td>\n",
       "      <td>1</td>\n",
       "    </tr>\n",
       "    <tr>\n",
       "      <th>259476</th>\n",
       "      <td>61</td>\n",
       "      <td>TCDD10nM4hr_5_4_S</td>\n",
       "      <td>431.125000</td>\n",
       "      <td>22.125000</td>\n",
       "      <td>121.062500</td>\n",
       "      <td>0.051319</td>\n",
       "      <td>0.000000</td>\n",
       "      <td>2</td>\n",
       "      <td>0.445665</td>\n",
       "      <td>0.04867</td>\n",
       "      <td>1</td>\n",
       "      <td>2</td>\n",
       "      <td>1</td>\n",
       "    </tr>\n",
       "  </tbody>\n",
       "</table>\n",
       "<p>10209 rows × 13 columns</p>\n",
       "</div>"
      ],
      "text/plain": [
       "        cc_x      folder_name_x  cc_pixel_intensity_488  \\\n",
       "0          0       Tol1hr3_2_S2              400.375000   \n",
       "4          1       Tol1hr3_2_S2              245.700000   \n",
       "9          2       Tol1hr3_2_S2              868.068120   \n",
       "1126       3       Tol1hr3_2_S2              715.049684   \n",
       "1923       4       Tol1hr3_2_S2              262.500000   \n",
       "...      ...                ...                     ...   \n",
       "259458    57  TCDD10nM4hr_5_4_S              521.625000   \n",
       "259462    58  TCDD10nM4hr_5_4_S              499.416667   \n",
       "259465    59  TCDD10nM4hr_5_4_S              438.035714   \n",
       "259472    60  TCDD10nM4hr_5_4_S              327.625000   \n",
       "259476    61  TCDD10nM4hr_5_4_S              431.125000   \n",
       "\n",
       "        cc_pixel_intensity_405  cc_pixel_intensity_555  \\\n",
       "0                    31.687500              381.375000   \n",
       "4                    42.200000              251.800000   \n",
       "9                    50.390327              729.465032   \n",
       "1126                 42.017089              612.081013   \n",
       "1923                  4.062500              139.500000   \n",
       "...                        ...                     ...   \n",
       "259458               13.250000              172.125000   \n",
       "259462               21.583333              166.666667   \n",
       "259465               39.107143              137.357143   \n",
       "259472               20.750000              154.250000   \n",
       "259476               22.125000              121.062500   \n",
       "\n",
       "        cc_pixel_intensity_ratio  cc_average_degree_excludeFreeEnds  \\\n",
       "0                       0.079145                           0.000000   \n",
       "4                       0.171754                           0.000000   \n",
       "9                       0.058049                           2.071429   \n",
       "1126                    0.058761                           1.850467   \n",
       "1923                    0.015476                           0.000000   \n",
       "...                          ...                                ...   \n",
       "259458                  0.025401                           0.000000   \n",
       "259462                  0.043217                           0.000000   \n",
       "259465                  0.089278                           0.000000   \n",
       "259472                  0.063335                           0.000000   \n",
       "259476                  0.051319                           0.000000   \n",
       "\n",
       "        cc_max_PK  diameter  cc_vol_from_img_(um3)  branches  nodes  edges  \n",
       "0               0  0.273622                0.09194         1      2      1  \n",
       "4               2  0.383322                0.04867         1      2      1  \n",
       "9               9  0.484119               45.07027        60    140    175  \n",
       "1126            8  0.497718               31.25283        48    107    123  \n",
       "1923            2  0.514636                0.06490         1      2      1  \n",
       "...           ...       ...                    ...       ...    ...    ...  \n",
       "259458          2  0.408182                0.04326         1      2      1  \n",
       "259462          2  0.481408                0.03786         1      2      1  \n",
       "259465          2  0.477941                0.15683         1      2      1  \n",
       "259472          2  0.420166                0.04326         1      2      1  \n",
       "259476          2  0.445665                0.04867         1      2      1  \n",
       "\n",
       "[10209 rows x 13 columns]"
      ]
     },
     "execution_count": 11,
     "metadata": {},
     "output_type": "execute_result"
    }
   ],
   "source": [
    "cc_df"
   ]
  },
  {
   "cell_type": "code",
   "execution_count": null,
   "metadata": {},
   "outputs": [],
   "source": [
    "eledf = df[['line_id', 'cc_x', 'element_Volume_Voxel', 'element_pixel_intensity_405', 'element_length_(um)', 'element_pixel_intensity_488', 'element_pixel_intensity_555' \n",
    "            ,'element_pixel_intensity_ratio', 'element_average_width', 'folder_name_x']].drop_duplicates(subset=['line_id', 'folder_name_x'])\n",
    "\n",
    "bigDf = n\n",
    "# rename folder_name_x to folder_name in eledf\n",
    "# eledf.rename(columns={'folder_name_x': 'folder_name'}, inplace=True)\n",
    "bigDf = pd.merge(bigDf, eledf, how='left', left_on=['line_id', 'folder_name'], right_on=['line_id', 'folder_name_x'])"
   ]
  },
  {
   "cell_type": "code",
   "execution_count": null,
   "metadata": {},
   "outputs": [
    {
     "data": {
      "text/html": [
       "<div>\n",
       "<style scoped>\n",
       "    .dataframe tbody tr th:only-of-type {\n",
       "        vertical-align: middle;\n",
       "    }\n",
       "\n",
       "    .dataframe tbody tr th {\n",
       "        vertical-align: top;\n",
       "    }\n",
       "\n",
       "    .dataframe thead th {\n",
       "        text-align: right;\n",
       "    }\n",
       "</style>\n",
       "<table border=\"1\" class=\"dataframe\">\n",
       "  <thead>\n",
       "    <tr style=\"text-align: right;\">\n",
       "      <th></th>\n",
       "      <th>Unnamed: 0</th>\n",
       "      <th>x</th>\n",
       "      <th>y</th>\n",
       "      <th>z</th>\n",
       "      <th>node</th>\n",
       "      <th>line_id</th>\n",
       "      <th>point_id</th>\n",
       "      <th>degree</th>\n",
       "      <th>cc</th>\n",
       "      <th>vol_cc</th>\n",
       "      <th>...</th>\n",
       "      <th>folder_name</th>\n",
       "      <th>cc_x</th>\n",
       "      <th>element_Volume_Voxel</th>\n",
       "      <th>element_pixel_intensity_405</th>\n",
       "      <th>element_length_(um)</th>\n",
       "      <th>element_pixel_intensity_488</th>\n",
       "      <th>element_pixel_intensity_555</th>\n",
       "      <th>element_pixel_intensity_ratio</th>\n",
       "      <th>element_average_width</th>\n",
       "      <th>folder_name_x</th>\n",
       "    </tr>\n",
       "  </thead>\n",
       "  <tbody>\n",
       "    <tr>\n",
       "      <th>0</th>\n",
       "      <td>0</td>\n",
       "      <td>17.680</td>\n",
       "      <td>14.144</td>\n",
       "      <td>9.5</td>\n",
       "      <td>0</td>\n",
       "      <td>421</td>\n",
       "      <td>4</td>\n",
       "      <td>1</td>\n",
       "      <td>1</td>\n",
       "      <td>0.04867</td>\n",
       "      <td>...</td>\n",
       "      <td>Tol1hr3_2_S2</td>\n",
       "      <td>1</td>\n",
       "      <td>0.072792</td>\n",
       "      <td>42.200000</td>\n",
       "      <td>0.421737</td>\n",
       "      <td>245.700000</td>\n",
       "      <td>251.800000</td>\n",
       "      <td>0.171754</td>\n",
       "      <td>0.172600</td>\n",
       "      <td>Tol1hr3_2_S2</td>\n",
       "    </tr>\n",
       "    <tr>\n",
       "      <th>1</th>\n",
       "      <td>1</td>\n",
       "      <td>17.992</td>\n",
       "      <td>13.936</td>\n",
       "      <td>9.5</td>\n",
       "      <td>1</td>\n",
       "      <td>421</td>\n",
       "      <td>0</td>\n",
       "      <td>1</td>\n",
       "      <td>1</td>\n",
       "      <td>0.04867</td>\n",
       "      <td>...</td>\n",
       "      <td>Tol1hr3_2_S2</td>\n",
       "      <td>1</td>\n",
       "      <td>0.072792</td>\n",
       "      <td>42.200000</td>\n",
       "      <td>0.421737</td>\n",
       "      <td>245.700000</td>\n",
       "      <td>251.800000</td>\n",
       "      <td>0.171754</td>\n",
       "      <td>0.172600</td>\n",
       "      <td>Tol1hr3_2_S2</td>\n",
       "    </tr>\n",
       "    <tr>\n",
       "      <th>2</th>\n",
       "      <td>2</td>\n",
       "      <td>14.352</td>\n",
       "      <td>10.296</td>\n",
       "      <td>9.5</td>\n",
       "      <td>2</td>\n",
       "      <td>420</td>\n",
       "      <td>3</td>\n",
       "      <td>1</td>\n",
       "      <td>4</td>\n",
       "      <td>0.06490</td>\n",
       "      <td>...</td>\n",
       "      <td>Tol1hr3_2_S2</td>\n",
       "      <td>4</td>\n",
       "      <td>0.055264</td>\n",
       "      <td>4.062500</td>\n",
       "      <td>0.312000</td>\n",
       "      <td>262.500000</td>\n",
       "      <td>139.500000</td>\n",
       "      <td>0.015476</td>\n",
       "      <td>0.177127</td>\n",
       "      <td>Tol1hr3_2_S2</td>\n",
       "    </tr>\n",
       "    <tr>\n",
       "      <th>3</th>\n",
       "      <td>3</td>\n",
       "      <td>14.352</td>\n",
       "      <td>9.984</td>\n",
       "      <td>9.5</td>\n",
       "      <td>3</td>\n",
       "      <td>420</td>\n",
       "      <td>0</td>\n",
       "      <td>1</td>\n",
       "      <td>4</td>\n",
       "      <td>0.06490</td>\n",
       "      <td>...</td>\n",
       "      <td>Tol1hr3_2_S2</td>\n",
       "      <td>4</td>\n",
       "      <td>0.055264</td>\n",
       "      <td>4.062500</td>\n",
       "      <td>0.312000</td>\n",
       "      <td>262.500000</td>\n",
       "      <td>139.500000</td>\n",
       "      <td>0.015476</td>\n",
       "      <td>0.177127</td>\n",
       "      <td>Tol1hr3_2_S2</td>\n",
       "    </tr>\n",
       "    <tr>\n",
       "      <th>4</th>\n",
       "      <td>4</td>\n",
       "      <td>7.384</td>\n",
       "      <td>9.984</td>\n",
       "      <td>9.5</td>\n",
       "      <td>4</td>\n",
       "      <td>399</td>\n",
       "      <td>13</td>\n",
       "      <td>1</td>\n",
       "      <td>3</td>\n",
       "      <td>31.25283</td>\n",
       "      <td>...</td>\n",
       "      <td>Tol1hr3_2_S2</td>\n",
       "      <td>3</td>\n",
       "      <td>0.984514</td>\n",
       "      <td>30.642857</td>\n",
       "      <td>2.816219</td>\n",
       "      <td>661.928571</td>\n",
       "      <td>414.428571</td>\n",
       "      <td>0.046293</td>\n",
       "      <td>0.349587</td>\n",
       "      <td>Tol1hr3_2_S2</td>\n",
       "    </tr>\n",
       "    <tr>\n",
       "      <th>...</th>\n",
       "      <td>...</td>\n",
       "      <td>...</td>\n",
       "      <td>...</td>\n",
       "      <td>...</td>\n",
       "      <td>...</td>\n",
       "      <td>...</td>\n",
       "      <td>...</td>\n",
       "      <td>...</td>\n",
       "      <td>...</td>\n",
       "      <td>...</td>\n",
       "      <td>...</td>\n",
       "      <td>...</td>\n",
       "      <td>...</td>\n",
       "      <td>...</td>\n",
       "      <td>...</td>\n",
       "      <td>...</td>\n",
       "      <td>...</td>\n",
       "      <td>...</td>\n",
       "      <td>...</td>\n",
       "      <td>...</td>\n",
       "      <td>...</td>\n",
       "    </tr>\n",
       "    <tr>\n",
       "      <th>70299</th>\n",
       "      <td>129</td>\n",
       "      <td>9.256</td>\n",
       "      <td>3.952</td>\n",
       "      <td>1.5</td>\n",
       "      <td>123</td>\n",
       "      <td>3</td>\n",
       "      <td>0</td>\n",
       "      <td>1</td>\n",
       "      <td>19</td>\n",
       "      <td>0.93018</td>\n",
       "      <td>...</td>\n",
       "      <td>TCDD10nM4hr_5_4_S</td>\n",
       "      <td>19</td>\n",
       "      <td>0.343969</td>\n",
       "      <td>46.666667</td>\n",
       "      <td>1.345169</td>\n",
       "      <td>530.583333</td>\n",
       "      <td>194.333333</td>\n",
       "      <td>0.087954</td>\n",
       "      <td>0.255707</td>\n",
       "      <td>TCDD10nM4hr_5_4_S</td>\n",
       "    </tr>\n",
       "    <tr>\n",
       "      <th>70300</th>\n",
       "      <td>130</td>\n",
       "      <td>0.312</td>\n",
       "      <td>3.848</td>\n",
       "      <td>1.5</td>\n",
       "      <td>124</td>\n",
       "      <td>2</td>\n",
       "      <td>0</td>\n",
       "      <td>1</td>\n",
       "      <td>54</td>\n",
       "      <td>0.35152</td>\n",
       "      <td>...</td>\n",
       "      <td>TCDD10nM4hr_5_4_S</td>\n",
       "      <td>54</td>\n",
       "      <td>0.405522</td>\n",
       "      <td>32.038462</td>\n",
       "      <td>1.590595</td>\n",
       "      <td>622.884615</td>\n",
       "      <td>295.480769</td>\n",
       "      <td>0.051436</td>\n",
       "      <td>0.254950</td>\n",
       "      <td>TCDD10nM4hr_5_4_S</td>\n",
       "    </tr>\n",
       "    <tr>\n",
       "      <th>70301</th>\n",
       "      <td>131</td>\n",
       "      <td>8.528</td>\n",
       "      <td>1.560</td>\n",
       "      <td>1.5</td>\n",
       "      <td>125</td>\n",
       "      <td>1</td>\n",
       "      <td>2</td>\n",
       "      <td>1</td>\n",
       "      <td>56</td>\n",
       "      <td>0.07571</td>\n",
       "      <td>...</td>\n",
       "      <td>TCDD10nM4hr_5_4_S</td>\n",
       "      <td>56</td>\n",
       "      <td>0.049245</td>\n",
       "      <td>23.750000</td>\n",
       "      <td>0.235862</td>\n",
       "      <td>293.833333</td>\n",
       "      <td>174.250000</td>\n",
       "      <td>0.080828</td>\n",
       "      <td>0.208787</td>\n",
       "      <td>TCDD10nM4hr_5_4_S</td>\n",
       "    </tr>\n",
       "    <tr>\n",
       "      <th>70302</th>\n",
       "      <td>132</td>\n",
       "      <td>8.632</td>\n",
       "      <td>1.352</td>\n",
       "      <td>1.5</td>\n",
       "      <td>126</td>\n",
       "      <td>1</td>\n",
       "      <td>0</td>\n",
       "      <td>1</td>\n",
       "      <td>56</td>\n",
       "      <td>0.07571</td>\n",
       "      <td>...</td>\n",
       "      <td>TCDD10nM4hr_5_4_S</td>\n",
       "      <td>56</td>\n",
       "      <td>0.049245</td>\n",
       "      <td>23.750000</td>\n",
       "      <td>0.235862</td>\n",
       "      <td>293.833333</td>\n",
       "      <td>174.250000</td>\n",
       "      <td>0.080828</td>\n",
       "      <td>0.208787</td>\n",
       "      <td>TCDD10nM4hr_5_4_S</td>\n",
       "    </tr>\n",
       "    <tr>\n",
       "      <th>70303</th>\n",
       "      <td>133</td>\n",
       "      <td>7.696</td>\n",
       "      <td>1.456</td>\n",
       "      <td>1.0</td>\n",
       "      <td>127</td>\n",
       "      <td>0</td>\n",
       "      <td>0</td>\n",
       "      <td>1</td>\n",
       "      <td>0</td>\n",
       "      <td>0.00000</td>\n",
       "      <td>...</td>\n",
       "      <td>TCDD10nM4hr_5_4_S</td>\n",
       "      <td>0</td>\n",
       "      <td>0.590135</td>\n",
       "      <td>21.125000</td>\n",
       "      <td>1.563550</td>\n",
       "      <td>274.187500</td>\n",
       "      <td>128.812500</td>\n",
       "      <td>0.077046</td>\n",
       "      <td>0.377433</td>\n",
       "      <td>TCDD10nM4hr_5_4_S</td>\n",
       "    </tr>\n",
       "  </tbody>\n",
       "</table>\n",
       "<p>70304 rows × 22 columns</p>\n",
       "</div>"
      ],
      "text/plain": [
       "       Unnamed: 0       x       y    z  node  line_id  point_id  degree  cc  \\\n",
       "0               0  17.680  14.144  9.5     0      421         4       1   1   \n",
       "1               1  17.992  13.936  9.5     1      421         0       1   1   \n",
       "2               2  14.352  10.296  9.5     2      420         3       1   4   \n",
       "3               3  14.352   9.984  9.5     3      420         0       1   4   \n",
       "4               4   7.384   9.984  9.5     4      399        13       1   3   \n",
       "...           ...     ...     ...  ...   ...      ...       ...     ...  ..   \n",
       "70299         129   9.256   3.952  1.5   123        3         0       1  19   \n",
       "70300         130   0.312   3.848  1.5   124        2         0       1  54   \n",
       "70301         131   8.528   1.560  1.5   125        1         2       1  56   \n",
       "70302         132   8.632   1.352  1.5   126        1         0       1  56   \n",
       "70303         133   7.696   1.456  1.0   127        0         0       1   0   \n",
       "\n",
       "         vol_cc  ...        folder_name  cc_x element_Volume_Voxel  \\\n",
       "0       0.04867  ...       Tol1hr3_2_S2     1             0.072792   \n",
       "1       0.04867  ...       Tol1hr3_2_S2     1             0.072792   \n",
       "2       0.06490  ...       Tol1hr3_2_S2     4             0.055264   \n",
       "3       0.06490  ...       Tol1hr3_2_S2     4             0.055264   \n",
       "4      31.25283  ...       Tol1hr3_2_S2     3             0.984514   \n",
       "...         ...  ...                ...   ...                  ...   \n",
       "70299   0.93018  ...  TCDD10nM4hr_5_4_S    19             0.343969   \n",
       "70300   0.35152  ...  TCDD10nM4hr_5_4_S    54             0.405522   \n",
       "70301   0.07571  ...  TCDD10nM4hr_5_4_S    56             0.049245   \n",
       "70302   0.07571  ...  TCDD10nM4hr_5_4_S    56             0.049245   \n",
       "70303   0.00000  ...  TCDD10nM4hr_5_4_S     0             0.590135   \n",
       "\n",
       "       element_pixel_intensity_405  element_length_(um)  \\\n",
       "0                        42.200000             0.421737   \n",
       "1                        42.200000             0.421737   \n",
       "2                         4.062500             0.312000   \n",
       "3                         4.062500             0.312000   \n",
       "4                        30.642857             2.816219   \n",
       "...                            ...                  ...   \n",
       "70299                    46.666667             1.345169   \n",
       "70300                    32.038462             1.590595   \n",
       "70301                    23.750000             0.235862   \n",
       "70302                    23.750000             0.235862   \n",
       "70303                    21.125000             1.563550   \n",
       "\n",
       "       element_pixel_intensity_488  element_pixel_intensity_555  \\\n",
       "0                       245.700000                   251.800000   \n",
       "1                       245.700000                   251.800000   \n",
       "2                       262.500000                   139.500000   \n",
       "3                       262.500000                   139.500000   \n",
       "4                       661.928571                   414.428571   \n",
       "...                            ...                          ...   \n",
       "70299                   530.583333                   194.333333   \n",
       "70300                   622.884615                   295.480769   \n",
       "70301                   293.833333                   174.250000   \n",
       "70302                   293.833333                   174.250000   \n",
       "70303                   274.187500                   128.812500   \n",
       "\n",
       "       element_pixel_intensity_ratio  element_average_width      folder_name_x  \n",
       "0                           0.171754               0.172600       Tol1hr3_2_S2  \n",
       "1                           0.171754               0.172600       Tol1hr3_2_S2  \n",
       "2                           0.015476               0.177127       Tol1hr3_2_S2  \n",
       "3                           0.015476               0.177127       Tol1hr3_2_S2  \n",
       "4                           0.046293               0.349587       Tol1hr3_2_S2  \n",
       "...                              ...                    ...                ...  \n",
       "70299                       0.087954               0.255707  TCDD10nM4hr_5_4_S  \n",
       "70300                       0.051436               0.254950  TCDD10nM4hr_5_4_S  \n",
       "70301                       0.080828               0.208787  TCDD10nM4hr_5_4_S  \n",
       "70302                       0.080828               0.208787  TCDD10nM4hr_5_4_S  \n",
       "70303                       0.077046               0.377433  TCDD10nM4hr_5_4_S  \n",
       "\n",
       "[70304 rows x 22 columns]"
      ]
     },
     "execution_count": 72,
     "metadata": {},
     "output_type": "execute_result"
    }
   ],
   "source": [
    "bigDf"
   ]
  },
  {
   "cell_type": "code",
   "execution_count": null,
   "metadata": {},
   "outputs": [
    {
     "ename": "KeyError",
     "evalue": "\"['node_2'] not in index\"",
     "output_type": "error",
     "traceback": [
      "\u001b[0;31m---------------------------------------------------------------------------\u001b[0m",
      "\u001b[0;31mKeyError\u001b[0m                                  Traceback (most recent call last)",
      "Cell \u001b[0;32mIn[73], line 1\u001b[0m\n\u001b[0;32m----> 1\u001b[0m bigDf \u001b[39m=\u001b[39m bigDf[[\u001b[39m'\u001b[39;49m\u001b[39mline_id\u001b[39;49m\u001b[39m'\u001b[39;49m, \u001b[39m'\u001b[39;49m\u001b[39mfolder_name_x\u001b[39;49m\u001b[39m'\u001b[39;49m, \u001b[39m'\u001b[39;49m\u001b[39mnode\u001b[39;49m\u001b[39m'\u001b[39;49m, \u001b[39m'\u001b[39;49m\u001b[39mnode_2\u001b[39;49m\u001b[39m'\u001b[39;49m, \u001b[39m'\u001b[39;49m\u001b[39melement_pixel_intensity_488\u001b[39;49m\u001b[39m'\u001b[39;49m, \u001b[39m'\u001b[39;49m\u001b[39melement_pixel_intensity_405\u001b[39;49m\u001b[39m'\u001b[39;49m, \u001b[39m'\u001b[39;49m\u001b[39melement_pixel_intensity_555\u001b[39;49m\u001b[39m'\u001b[39;49m, \u001b[39m'\u001b[39;49m\u001b[39melement_length_(um)\u001b[39;49m\u001b[39m'\u001b[39;49m, \u001b[39m'\u001b[39;49m\u001b[39melement_average_width\u001b[39;49m\u001b[39m'\u001b[39;49m]]\n",
      "File \u001b[0;32m~/.local/lib/python3.10/site-packages/pandas/core/frame.py:3902\u001b[0m, in \u001b[0;36mDataFrame.__getitem__\u001b[0;34m(self, key)\u001b[0m\n\u001b[1;32m   3900\u001b[0m     \u001b[39mif\u001b[39;00m is_iterator(key):\n\u001b[1;32m   3901\u001b[0m         key \u001b[39m=\u001b[39m \u001b[39mlist\u001b[39m(key)\n\u001b[0;32m-> 3902\u001b[0m     indexer \u001b[39m=\u001b[39m \u001b[39mself\u001b[39;49m\u001b[39m.\u001b[39;49mcolumns\u001b[39m.\u001b[39;49m_get_indexer_strict(key, \u001b[39m\"\u001b[39;49m\u001b[39mcolumns\u001b[39;49m\u001b[39m\"\u001b[39;49m)[\u001b[39m1\u001b[39m]\n\u001b[1;32m   3904\u001b[0m \u001b[39m# take() does not accept boolean indexers\u001b[39;00m\n\u001b[1;32m   3905\u001b[0m \u001b[39mif\u001b[39;00m \u001b[39mgetattr\u001b[39m(indexer, \u001b[39m\"\u001b[39m\u001b[39mdtype\u001b[39m\u001b[39m\"\u001b[39m, \u001b[39mNone\u001b[39;00m) \u001b[39m==\u001b[39m \u001b[39mbool\u001b[39m:\n",
      "File \u001b[0;32m~/.local/lib/python3.10/site-packages/pandas/core/indexes/base.py:6114\u001b[0m, in \u001b[0;36mIndex._get_indexer_strict\u001b[0;34m(self, key, axis_name)\u001b[0m\n\u001b[1;32m   6111\u001b[0m \u001b[39melse\u001b[39;00m:\n\u001b[1;32m   6112\u001b[0m     keyarr, indexer, new_indexer \u001b[39m=\u001b[39m \u001b[39mself\u001b[39m\u001b[39m.\u001b[39m_reindex_non_unique(keyarr)\n\u001b[0;32m-> 6114\u001b[0m \u001b[39mself\u001b[39;49m\u001b[39m.\u001b[39;49m_raise_if_missing(keyarr, indexer, axis_name)\n\u001b[1;32m   6116\u001b[0m keyarr \u001b[39m=\u001b[39m \u001b[39mself\u001b[39m\u001b[39m.\u001b[39mtake(indexer)\n\u001b[1;32m   6117\u001b[0m \u001b[39mif\u001b[39;00m \u001b[39misinstance\u001b[39m(key, Index):\n\u001b[1;32m   6118\u001b[0m     \u001b[39m# GH 42790 - Preserve name from an Index\u001b[39;00m\n",
      "File \u001b[0;32m~/.local/lib/python3.10/site-packages/pandas/core/indexes/base.py:6178\u001b[0m, in \u001b[0;36mIndex._raise_if_missing\u001b[0;34m(self, key, indexer, axis_name)\u001b[0m\n\u001b[1;32m   6175\u001b[0m     \u001b[39mraise\u001b[39;00m \u001b[39mKeyError\u001b[39;00m(\u001b[39mf\u001b[39m\u001b[39m\"\u001b[39m\u001b[39mNone of [\u001b[39m\u001b[39m{\u001b[39;00mkey\u001b[39m}\u001b[39;00m\u001b[39m] are in the [\u001b[39m\u001b[39m{\u001b[39;00maxis_name\u001b[39m}\u001b[39;00m\u001b[39m]\u001b[39m\u001b[39m\"\u001b[39m)\n\u001b[1;32m   6177\u001b[0m not_found \u001b[39m=\u001b[39m \u001b[39mlist\u001b[39m(ensure_index(key)[missing_mask\u001b[39m.\u001b[39mnonzero()[\u001b[39m0\u001b[39m]]\u001b[39m.\u001b[39munique())\n\u001b[0;32m-> 6178\u001b[0m \u001b[39mraise\u001b[39;00m \u001b[39mKeyError\u001b[39;00m(\u001b[39mf\u001b[39m\u001b[39m\"\u001b[39m\u001b[39m{\u001b[39;00mnot_found\u001b[39m}\u001b[39;00m\u001b[39m not in index\u001b[39m\u001b[39m\"\u001b[39m)\n",
      "\u001b[0;31mKeyError\u001b[0m: \"['node_2'] not in index\""
     ]
    }
   ],
   "source": [
    "bigDf = bigDf[['line_id', 'folder_name_x', 'node', 'node_2', 'element_pixel_intensity_488', 'element_pixel_intensity_405', 'element_pixel_intensity_555', 'element_length_(um)', 'element_average_width']]"
   ]
  },
  {
   "cell_type": "code",
   "execution_count": null,
   "metadata": {},
   "outputs": [
    {
     "ename": "KeyError",
     "evalue": "Index(['folder_name'], dtype='object')",
     "output_type": "error",
     "traceback": [
      "\u001b[0;31m---------------------------------------------------------------------------\u001b[0m",
      "\u001b[0;31mKeyError\u001b[0m                                  Traceback (most recent call last)",
      "\u001b[0;32m/tmp/ipykernel_430379/1071924153.py\u001b[0m in \u001b[0;36m?\u001b[0;34m()\u001b[0m\n\u001b[0;32m----> 1\u001b[0;31m \u001b[0mcc_df\u001b[0m \u001b[0;34m=\u001b[0m \u001b[0mdf\u001b[0m\u001b[0;34m.\u001b[0m\u001b[0mdrop_duplicates\u001b[0m\u001b[0;34m(\u001b[0m\u001b[0msubset\u001b[0m\u001b[0;34m=\u001b[0m\u001b[0;34m[\u001b[0m\u001b[0;34m'cc_x'\u001b[0m\u001b[0;34m,\u001b[0m \u001b[0;34m'folder_name'\u001b[0m\u001b[0;34m]\u001b[0m\u001b[0;34m)\u001b[0m\u001b[0;34m\u001b[0m\u001b[0;34m\u001b[0m\u001b[0m\n\u001b[0m",
      "\u001b[0;32m~/.local/lib/python3.10/site-packages/pandas/core/frame.py\u001b[0m in \u001b[0;36m?\u001b[0;34m(self, subset, keep, inplace, ignore_index)\u001b[0m\n\u001b[1;32m   6565\u001b[0m \u001b[0;34m\u001b[0m\u001b[0m\n\u001b[1;32m   6566\u001b[0m         \u001b[0minplace\u001b[0m \u001b[0;34m=\u001b[0m \u001b[0mvalidate_bool_kwarg\u001b[0m\u001b[0;34m(\u001b[0m\u001b[0minplace\u001b[0m\u001b[0;34m,\u001b[0m \u001b[0;34m\"inplace\"\u001b[0m\u001b[0;34m)\u001b[0m\u001b[0;34m\u001b[0m\u001b[0;34m\u001b[0m\u001b[0m\n\u001b[1;32m   6567\u001b[0m         \u001b[0mignore_index\u001b[0m \u001b[0;34m=\u001b[0m \u001b[0mvalidate_bool_kwarg\u001b[0m\u001b[0;34m(\u001b[0m\u001b[0mignore_index\u001b[0m\u001b[0;34m,\u001b[0m \u001b[0;34m\"ignore_index\"\u001b[0m\u001b[0;34m)\u001b[0m\u001b[0;34m\u001b[0m\u001b[0;34m\u001b[0m\u001b[0m\n\u001b[1;32m   6568\u001b[0m \u001b[0;34m\u001b[0m\u001b[0m\n\u001b[0;32m-> 6569\u001b[0;31m         \u001b[0mresult\u001b[0m \u001b[0;34m=\u001b[0m \u001b[0mself\u001b[0m\u001b[0;34m[\u001b[0m\u001b[0;34m-\u001b[0m\u001b[0mself\u001b[0m\u001b[0;34m.\u001b[0m\u001b[0mduplicated\u001b[0m\u001b[0;34m(\u001b[0m\u001b[0msubset\u001b[0m\u001b[0;34m,\u001b[0m \u001b[0mkeep\u001b[0m\u001b[0;34m=\u001b[0m\u001b[0mkeep\u001b[0m\u001b[0;34m)\u001b[0m\u001b[0;34m]\u001b[0m\u001b[0;34m\u001b[0m\u001b[0;34m\u001b[0m\u001b[0m\n\u001b[0m\u001b[1;32m   6570\u001b[0m         \u001b[0;32mif\u001b[0m \u001b[0mignore_index\u001b[0m\u001b[0;34m:\u001b[0m\u001b[0;34m\u001b[0m\u001b[0;34m\u001b[0m\u001b[0m\n\u001b[1;32m   6571\u001b[0m             \u001b[0mresult\u001b[0m\u001b[0;34m.\u001b[0m\u001b[0mindex\u001b[0m \u001b[0;34m=\u001b[0m \u001b[0mdefault_index\u001b[0m\u001b[0;34m(\u001b[0m\u001b[0mlen\u001b[0m\u001b[0;34m(\u001b[0m\u001b[0mresult\u001b[0m\u001b[0;34m)\u001b[0m\u001b[0;34m)\u001b[0m\u001b[0;34m\u001b[0m\u001b[0;34m\u001b[0m\u001b[0m\n\u001b[1;32m   6572\u001b[0m \u001b[0;34m\u001b[0m\u001b[0m\n",
      "\u001b[0;32m~/.local/lib/python3.10/site-packages/pandas/core/frame.py\u001b[0m in \u001b[0;36m?\u001b[0;34m(self, subset, keep)\u001b[0m\n\u001b[1;32m   6697\u001b[0m         \u001b[0;31m# Otherwise, raise a KeyError, same as if you try to __getitem__ with a\u001b[0m\u001b[0;34m\u001b[0m\u001b[0;34m\u001b[0m\u001b[0m\n\u001b[1;32m   6698\u001b[0m         \u001b[0;31m# key that doesn't exist.\u001b[0m\u001b[0;34m\u001b[0m\u001b[0;34m\u001b[0m\u001b[0m\n\u001b[1;32m   6699\u001b[0m         \u001b[0mdiff\u001b[0m \u001b[0;34m=\u001b[0m \u001b[0mset\u001b[0m\u001b[0;34m(\u001b[0m\u001b[0msubset\u001b[0m\u001b[0;34m)\u001b[0m \u001b[0;34m-\u001b[0m \u001b[0mset\u001b[0m\u001b[0;34m(\u001b[0m\u001b[0mself\u001b[0m\u001b[0;34m.\u001b[0m\u001b[0mcolumns\u001b[0m\u001b[0;34m)\u001b[0m\u001b[0;34m\u001b[0m\u001b[0;34m\u001b[0m\u001b[0m\n\u001b[1;32m   6700\u001b[0m         \u001b[0;32mif\u001b[0m \u001b[0mdiff\u001b[0m\u001b[0;34m:\u001b[0m\u001b[0;34m\u001b[0m\u001b[0;34m\u001b[0m\u001b[0m\n\u001b[0;32m-> 6701\u001b[0;31m             \u001b[0;32mraise\u001b[0m \u001b[0mKeyError\u001b[0m\u001b[0;34m(\u001b[0m\u001b[0mIndex\u001b[0m\u001b[0;34m(\u001b[0m\u001b[0mdiff\u001b[0m\u001b[0;34m)\u001b[0m\u001b[0;34m)\u001b[0m\u001b[0;34m\u001b[0m\u001b[0;34m\u001b[0m\u001b[0m\n\u001b[0m\u001b[1;32m   6702\u001b[0m \u001b[0;34m\u001b[0m\u001b[0m\n\u001b[1;32m   6703\u001b[0m         \u001b[0;32mif\u001b[0m \u001b[0mlen\u001b[0m\u001b[0;34m(\u001b[0m\u001b[0msubset\u001b[0m\u001b[0;34m)\u001b[0m \u001b[0;34m==\u001b[0m \u001b[0;36m1\u001b[0m \u001b[0;32mand\u001b[0m \u001b[0mself\u001b[0m\u001b[0;34m.\u001b[0m\u001b[0mcolumns\u001b[0m\u001b[0;34m.\u001b[0m\u001b[0mis_unique\u001b[0m\u001b[0;34m:\u001b[0m\u001b[0;34m\u001b[0m\u001b[0;34m\u001b[0m\u001b[0m\n\u001b[1;32m   6704\u001b[0m             \u001b[0;31m# GH#45236 This is faster than get_group_index below\u001b[0m\u001b[0;34m\u001b[0m\u001b[0;34m\u001b[0m\u001b[0m\n",
      "\u001b[0;31mKeyError\u001b[0m: Index(['folder_name'], dtype='object')"
     ]
    }
   ],
   "source": [
    "cc_df = df.drop_duplicates(subset=['cc_x', 'folder_name'])"
   ]
  },
  {
   "cell_type": "code",
   "execution_count": null,
   "metadata": {},
   "outputs": [
    {
     "data": {
      "text/plain": [
       "Index(['cc_x', 'cc_pixel_intensity_488', 'cc_pixel_intensity_405',\n",
       "       'element_pixel_intensity_ratio', 'element_pixel_intensity_488',\n",
       "       'element_pixel_intensity_405', 'element_length_(um)',\n",
       "       'element_average_width', 'branches', 'nodes', 'edges', 'cc_max_PK',\n",
       "       'cc_length_(um)'],\n",
       "      dtype='object')"
      ]
     },
     "execution_count": 39,
     "metadata": {},
     "output_type": "execute_result"
    }
   ],
   "source": [
    "df.columns"
   ]
  },
  {
   "cell_type": "code",
   "execution_count": null,
   "metadata": {},
   "outputs": [
    {
     "name": "stderr",
     "output_type": "stream",
     "text": [
      "/tmp/ipykernel_416380/698579016.py:1: SettingWithCopyWarning: \n",
      "A value is trying to be set on a copy of a slice from a DataFrame\n",
      "\n",
      "See the caveats in the documentation: https://pandas.pydata.org/pandas-docs/stable/user_guide/indexing.html#returning-a-view-versus-a-copy\n",
      "  df.drop(['folder_name_x', 'line_id'], axis=1, inplace=True)\n"
     ]
    }
   ],
   "source": [
    "df.drop(['folder_name_x', 'line_id'], axis=1, inplace=True)"
   ]
  },
  {
   "cell_type": "code",
   "execution_count": null,
   "metadata": {},
   "outputs": [
    {
     "name": "stderr",
     "output_type": "stream",
     "text": [
      "/tmp/ipykernel_416380/3937549250.py:1: SettingWithCopyWarning: \n",
      "A value is trying to be set on a copy of a slice from a DataFrame\n",
      "\n",
      "See the caveats in the documentation: https://pandas.pydata.org/pandas-docs/stable/user_guide/indexing.html#returning-a-view-versus-a-copy\n",
      "  df.drop('cc_pixel_intensity_488', axis=1, inplace=True)\n"
     ]
    }
   ],
   "source": [
    "df.drop('cc_pixel_intensity_488', axis=1, inplace=True)"
   ]
  },
  {
   "cell_type": "code",
   "execution_count": null,
   "metadata": {},
   "outputs": [
    {
     "data": {
      "text/html": [
       "<div>\n",
       "<style scoped>\n",
       "    .dataframe tbody tr th:only-of-type {\n",
       "        vertical-align: middle;\n",
       "    }\n",
       "\n",
       "    .dataframe tbody tr th {\n",
       "        vertical-align: top;\n",
       "    }\n",
       "\n",
       "    .dataframe thead th {\n",
       "        text-align: right;\n",
       "    }\n",
       "</style>\n",
       "<table border=\"1\" class=\"dataframe\">\n",
       "  <thead>\n",
       "    <tr style=\"text-align: right;\">\n",
       "      <th></th>\n",
       "      <th>cc_pixel_intensity_405</th>\n",
       "      <th>branches</th>\n",
       "      <th>nodes</th>\n",
       "      <th>edges</th>\n",
       "      <th>cc_max_PK</th>\n",
       "      <th>cc_length_(um)</th>\n",
       "    </tr>\n",
       "  </thead>\n",
       "  <tbody>\n",
       "    <tr>\n",
       "      <th>0</th>\n",
       "      <td>19.500000</td>\n",
       "      <td>1</td>\n",
       "      <td>2</td>\n",
       "      <td>1</td>\n",
       "      <td>2</td>\n",
       "      <td>0.87492</td>\n",
       "    </tr>\n",
       "    <tr>\n",
       "      <th>6</th>\n",
       "      <td>22.156250</td>\n",
       "      <td>1</td>\n",
       "      <td>2</td>\n",
       "      <td>1</td>\n",
       "      <td>2</td>\n",
       "      <td>0.93847</td>\n",
       "    </tr>\n",
       "    <tr>\n",
       "      <th>14</th>\n",
       "      <td>12.906250</td>\n",
       "      <td>1</td>\n",
       "      <td>2</td>\n",
       "      <td>1</td>\n",
       "      <td>2</td>\n",
       "      <td>0.97180</td>\n",
       "    </tr>\n",
       "    <tr>\n",
       "      <th>22</th>\n",
       "      <td>6.250000</td>\n",
       "      <td>1</td>\n",
       "      <td>2</td>\n",
       "      <td>1</td>\n",
       "      <td>2</td>\n",
       "      <td>0.23586</td>\n",
       "    </tr>\n",
       "    <tr>\n",
       "      <th>25</th>\n",
       "      <td>7.312500</td>\n",
       "      <td>1</td>\n",
       "      <td>2</td>\n",
       "      <td>1</td>\n",
       "      <td>2</td>\n",
       "      <td>0.31200</td>\n",
       "    </tr>\n",
       "    <tr>\n",
       "      <th>...</th>\n",
       "      <td>...</td>\n",
       "      <td>...</td>\n",
       "      <td>...</td>\n",
       "      <td>...</td>\n",
       "      <td>...</td>\n",
       "      <td>...</td>\n",
       "    </tr>\n",
       "    <tr>\n",
       "      <th>2091</th>\n",
       "      <td>31.500000</td>\n",
       "      <td>1</td>\n",
       "      <td>2</td>\n",
       "      <td>1</td>\n",
       "      <td>2</td>\n",
       "      <td>0.42324</td>\n",
       "    </tr>\n",
       "    <tr>\n",
       "      <th>2095</th>\n",
       "      <td>10.333333</td>\n",
       "      <td>1</td>\n",
       "      <td>2</td>\n",
       "      <td>1</td>\n",
       "      <td>2</td>\n",
       "      <td>0.20800</td>\n",
       "    </tr>\n",
       "    <tr>\n",
       "      <th>2098</th>\n",
       "      <td>30.000000</td>\n",
       "      <td>1</td>\n",
       "      <td>2</td>\n",
       "      <td>1</td>\n",
       "      <td>2</td>\n",
       "      <td>0.23586</td>\n",
       "    </tr>\n",
       "    <tr>\n",
       "      <th>2101</th>\n",
       "      <td>41.500000</td>\n",
       "      <td>1</td>\n",
       "      <td>2</td>\n",
       "      <td>1</td>\n",
       "      <td>2</td>\n",
       "      <td>0.20800</td>\n",
       "    </tr>\n",
       "    <tr>\n",
       "      <th>2104</th>\n",
       "      <td>38.250000</td>\n",
       "      <td>1</td>\n",
       "      <td>2</td>\n",
       "      <td>1</td>\n",
       "      <td>2</td>\n",
       "      <td>0.44123</td>\n",
       "    </tr>\n",
       "  </tbody>\n",
       "</table>\n",
       "<p>1295 rows × 6 columns</p>\n",
       "</div>"
      ],
      "text/plain": [
       "      cc_pixel_intensity_405  branches  nodes  edges  cc_max_PK  \\\n",
       "0                  19.500000         1      2      1          2   \n",
       "6                  22.156250         1      2      1          2   \n",
       "14                 12.906250         1      2      1          2   \n",
       "22                  6.250000         1      2      1          2   \n",
       "25                  7.312500         1      2      1          2   \n",
       "...                      ...       ...    ...    ...        ...   \n",
       "2091               31.500000         1      2      1          2   \n",
       "2095               10.333333         1      2      1          2   \n",
       "2098               30.000000         1      2      1          2   \n",
       "2101               41.500000         1      2      1          2   \n",
       "2104               38.250000         1      2      1          2   \n",
       "\n",
       "      cc_length_(um)  \n",
       "0            0.87492  \n",
       "6            0.93847  \n",
       "14           0.97180  \n",
       "22           0.23586  \n",
       "25           0.31200  \n",
       "...              ...  \n",
       "2091         0.42324  \n",
       "2095         0.20800  \n",
       "2098         0.23586  \n",
       "2101         0.20800  \n",
       "2104         0.44123  \n",
       "\n",
       "[1295 rows x 6 columns]"
      ]
     },
     "execution_count": 54,
     "metadata": {},
     "output_type": "execute_result"
    }
   ],
   "source": [
    "df"
   ]
  },
  {
   "cell_type": "code",
   "execution_count": null,
   "metadata": {},
   "outputs": [],
   "source": []
  },
  {
   "cell_type": "code",
   "execution_count": null,
   "metadata": {},
   "outputs": [
    {
     "ename": "NameError",
     "evalue": "name 'bigDf' is not defined",
     "output_type": "error",
     "traceback": [
      "\u001b[0;31m---------------------------------------------------------------------------\u001b[0m",
      "\u001b[0;31mNameError\u001b[0m                                 Traceback (most recent call last)",
      "Cell \u001b[0;32mIn[70], line 1\u001b[0m\n\u001b[0;32m----> 1\u001b[0m graph \u001b[39m=\u001b[39m ig\u001b[39m.\u001b[39mGraph\u001b[39m.\u001b[39mTupleList(bigDf\u001b[39m.\u001b[39mitertuples(index\u001b[39m=\u001b[39m\u001b[39mFalse\u001b[39;00m), directed\u001b[39m=\u001b[39m\u001b[39mFalse\u001b[39;00m, edge_attrs\u001b[39m=\u001b[39m[\u001b[39m'\u001b[39m\u001b[39mline_id\u001b[39m\u001b[39m'\u001b[39m, \u001b[39m'\u001b[39m\u001b[39melement_pixel_intensity_ratio\u001b[39m\u001b[39m'\u001b[39m, \u001b[39m'\u001b[39m\u001b[39melement_pixel_intensity_405\u001b[39m\u001b[39m'\u001b[39m, \u001b[39m'\u001b[39m\u001b[39melement_length_(um)\u001b[39m\u001b[39m'\u001b[39m, \u001b[39m'\u001b[39m\u001b[39melement_pixel_intensity_488\u001b[39m\u001b[39m'\u001b[39m])\n\u001b[1;32m      3\u001b[0m \u001b[39m# ids = [int(node['name']) for node in graph.vs]\u001b[39;00m\n\u001b[1;32m      4\u001b[0m \u001b[39m# graph.vs['cc_vol'] = [df.loc[df['node'] == node, 'degree'].values[0] for node in ids]\u001b[39;00m\n\u001b[1;32m      5\u001b[0m \u001b[39m# graph.vs['488'] = [df.loc[df['node'] == node, 'pixel_intensity_488'].values[0] for node in ids]\u001b[39;00m\n\u001b[1;32m      6\u001b[0m \u001b[39m# graph.vs['405'] = [df.loc[df['node'] == node, 'pixel_intensity_405'].values[0] for node in ids]\u001b[39;00m\n\u001b[1;32m      7\u001b[0m \u001b[39m# graph.vs['ratio'] = [df.loc[df['node'] == node, 'pixel_intensity_ratio'].values[0] for node in ids]\u001b[39;00m\n\u001b[1;32m      8\u001b[0m \u001b[39m# graph.vs['structural'] = [df.loc[df['node'] == node, 'pixel_intensity_555'].values[0] for node in ids]\u001b[39;00m\n",
      "\u001b[0;31mNameError\u001b[0m: name 'bigDf' is not defined"
     ]
    }
   ],
   "source": [
    "graph = ig.Graph.TupleList(bigDf.itertuples(index=False), directed=False, edge_attrs=['line_id', 'element_pixel_intensity_ratio', 'element_pixel_intensity_405', 'element_length_(um)', 'element_pixel_intensity_488'])\n",
    "\n",
    "# ids = [int(node['name']) for node in graph.vs]\n",
    "# graph.vs['cc_vol'] = [df.loc[df['node'] == node, 'degree'].values[0] for node in ids]\n",
    "# graph.vs['488'] = [df.loc[df['node'] == node, 'pixel_intensity_488'].values[0] for node in ids]\n",
    "# graph.vs['405'] = [df.loc[df['node'] == node, 'pixel_intensity_405'].values[0] for node in ids]\n",
    "# graph.vs['ratio'] = [df.loc[df['node'] == node, 'pixel_intensity_ratio'].values[0] for node in ids]\n",
    "# graph.vs['structural'] = [df.loc[df['node'] == node, 'pixel_intensity_555'].values[0] for node in ids]"
   ]
  },
  {
   "cell_type": "code",
   "execution_count": null,
   "metadata": {},
   "outputs": [
    {
     "ename": "KeyError",
     "evalue": "Index(['line_id', 'folder_name_x'], dtype='object')",
     "output_type": "error",
     "traceback": [
      "\u001b[0;31m---------------------------------------------------------------------------\u001b[0m",
      "\u001b[0;31mKeyError\u001b[0m                                  Traceback (most recent call last)",
      "\u001b[0;32m/tmp/ipykernel_430379/1674676046.py\u001b[0m in \u001b[0;36m?\u001b[0;34m()\u001b[0m\n\u001b[0;32m----> 1\u001b[0;31m \u001b[0mdf\u001b[0m\u001b[0;34m.\u001b[0m\u001b[0mdrop_duplicates\u001b[0m\u001b[0;34m(\u001b[0m\u001b[0msubset\u001b[0m\u001b[0;34m=\u001b[0m\u001b[0;34m[\u001b[0m\u001b[0;34m'line_id'\u001b[0m\u001b[0;34m,\u001b[0m \u001b[0;34m'folder_name_x'\u001b[0m\u001b[0;34m,\u001b[0m \u001b[0;34m'cc_x'\u001b[0m\u001b[0;34m]\u001b[0m\u001b[0;34m,\u001b[0m \u001b[0minplace\u001b[0m\u001b[0;34m=\u001b[0m\u001b[0;32mTrue\u001b[0m\u001b[0;34m)\u001b[0m\u001b[0;34m\u001b[0m\u001b[0;34m\u001b[0m\u001b[0m\n\u001b[0m",
      "\u001b[0;32m~/.local/lib/python3.10/site-packages/pandas/core/frame.py\u001b[0m in \u001b[0;36m?\u001b[0;34m(self, subset, keep, inplace, ignore_index)\u001b[0m\n\u001b[1;32m   6565\u001b[0m \u001b[0;34m\u001b[0m\u001b[0m\n\u001b[1;32m   6566\u001b[0m         \u001b[0minplace\u001b[0m \u001b[0;34m=\u001b[0m \u001b[0mvalidate_bool_kwarg\u001b[0m\u001b[0;34m(\u001b[0m\u001b[0minplace\u001b[0m\u001b[0;34m,\u001b[0m \u001b[0;34m\"inplace\"\u001b[0m\u001b[0;34m)\u001b[0m\u001b[0;34m\u001b[0m\u001b[0;34m\u001b[0m\u001b[0m\n\u001b[1;32m   6567\u001b[0m         \u001b[0mignore_index\u001b[0m \u001b[0;34m=\u001b[0m \u001b[0mvalidate_bool_kwarg\u001b[0m\u001b[0;34m(\u001b[0m\u001b[0mignore_index\u001b[0m\u001b[0;34m,\u001b[0m \u001b[0;34m\"ignore_index\"\u001b[0m\u001b[0;34m)\u001b[0m\u001b[0;34m\u001b[0m\u001b[0;34m\u001b[0m\u001b[0m\n\u001b[1;32m   6568\u001b[0m \u001b[0;34m\u001b[0m\u001b[0m\n\u001b[0;32m-> 6569\u001b[0;31m         \u001b[0mresult\u001b[0m \u001b[0;34m=\u001b[0m \u001b[0mself\u001b[0m\u001b[0;34m[\u001b[0m\u001b[0;34m-\u001b[0m\u001b[0mself\u001b[0m\u001b[0;34m.\u001b[0m\u001b[0mduplicated\u001b[0m\u001b[0;34m(\u001b[0m\u001b[0msubset\u001b[0m\u001b[0;34m,\u001b[0m \u001b[0mkeep\u001b[0m\u001b[0;34m=\u001b[0m\u001b[0mkeep\u001b[0m\u001b[0;34m)\u001b[0m\u001b[0;34m]\u001b[0m\u001b[0;34m\u001b[0m\u001b[0;34m\u001b[0m\u001b[0m\n\u001b[0m\u001b[1;32m   6570\u001b[0m         \u001b[0;32mif\u001b[0m \u001b[0mignore_index\u001b[0m\u001b[0;34m:\u001b[0m\u001b[0;34m\u001b[0m\u001b[0;34m\u001b[0m\u001b[0m\n\u001b[1;32m   6571\u001b[0m             \u001b[0mresult\u001b[0m\u001b[0;34m.\u001b[0m\u001b[0mindex\u001b[0m \u001b[0;34m=\u001b[0m \u001b[0mdefault_index\u001b[0m\u001b[0;34m(\u001b[0m\u001b[0mlen\u001b[0m\u001b[0;34m(\u001b[0m\u001b[0mresult\u001b[0m\u001b[0;34m)\u001b[0m\u001b[0;34m)\u001b[0m\u001b[0;34m\u001b[0m\u001b[0;34m\u001b[0m\u001b[0m\n\u001b[1;32m   6572\u001b[0m \u001b[0;34m\u001b[0m\u001b[0m\n",
      "\u001b[0;32m~/.local/lib/python3.10/site-packages/pandas/core/frame.py\u001b[0m in \u001b[0;36m?\u001b[0;34m(self, subset, keep)\u001b[0m\n\u001b[1;32m   6697\u001b[0m         \u001b[0;31m# Otherwise, raise a KeyError, same as if you try to __getitem__ with a\u001b[0m\u001b[0;34m\u001b[0m\u001b[0;34m\u001b[0m\u001b[0m\n\u001b[1;32m   6698\u001b[0m         \u001b[0;31m# key that doesn't exist.\u001b[0m\u001b[0;34m\u001b[0m\u001b[0;34m\u001b[0m\u001b[0m\n\u001b[1;32m   6699\u001b[0m         \u001b[0mdiff\u001b[0m \u001b[0;34m=\u001b[0m \u001b[0mset\u001b[0m\u001b[0;34m(\u001b[0m\u001b[0msubset\u001b[0m\u001b[0;34m)\u001b[0m \u001b[0;34m-\u001b[0m \u001b[0mset\u001b[0m\u001b[0;34m(\u001b[0m\u001b[0mself\u001b[0m\u001b[0;34m.\u001b[0m\u001b[0mcolumns\u001b[0m\u001b[0;34m)\u001b[0m\u001b[0;34m\u001b[0m\u001b[0;34m\u001b[0m\u001b[0m\n\u001b[1;32m   6700\u001b[0m         \u001b[0;32mif\u001b[0m \u001b[0mdiff\u001b[0m\u001b[0;34m:\u001b[0m\u001b[0;34m\u001b[0m\u001b[0;34m\u001b[0m\u001b[0m\n\u001b[0;32m-> 6701\u001b[0;31m             \u001b[0;32mraise\u001b[0m \u001b[0mKeyError\u001b[0m\u001b[0;34m(\u001b[0m\u001b[0mIndex\u001b[0m\u001b[0;34m(\u001b[0m\u001b[0mdiff\u001b[0m\u001b[0;34m)\u001b[0m\u001b[0;34m)\u001b[0m\u001b[0;34m\u001b[0m\u001b[0;34m\u001b[0m\u001b[0m\n\u001b[0m\u001b[1;32m   6702\u001b[0m \u001b[0;34m\u001b[0m\u001b[0m\n\u001b[1;32m   6703\u001b[0m         \u001b[0;32mif\u001b[0m \u001b[0mlen\u001b[0m\u001b[0;34m(\u001b[0m\u001b[0msubset\u001b[0m\u001b[0;34m)\u001b[0m \u001b[0;34m==\u001b[0m \u001b[0;36m1\u001b[0m \u001b[0;32mand\u001b[0m \u001b[0mself\u001b[0m\u001b[0;34m.\u001b[0m\u001b[0mcolumns\u001b[0m\u001b[0;34m.\u001b[0m\u001b[0mis_unique\u001b[0m\u001b[0;34m:\u001b[0m\u001b[0;34m\u001b[0m\u001b[0;34m\u001b[0m\u001b[0m\n\u001b[1;32m   6704\u001b[0m             \u001b[0;31m# GH#45236 This is faster than get_group_index below\u001b[0m\u001b[0;34m\u001b[0m\u001b[0;34m\u001b[0m\u001b[0m\n",
      "\u001b[0;31mKeyError\u001b[0m: Index(['line_id', 'folder_name_x'], dtype='object')"
     ]
    }
   ],
   "source": [
    "df.drop_duplicates(subset=['line_id', 'folder_name_x', 'cc_x'], inplace=True)"
   ]
  },
  {
   "cell_type": "code",
   "execution_count": null,
   "metadata": {},
   "outputs": [],
   "source": [
    "corr = df.corr()"
   ]
  },
  {
   "cell_type": "code",
   "execution_count": null,
   "metadata": {},
   "outputs": [],
   "source": [
    "n = pd.read_csv('/home/mitosim2/Desktop/czi_files/full_node_Table_.csv')\n",
    "df = pd.read_csv('/home/mitosim2/Desktop/czi_files/full_Table_.csv')"
   ]
  },
  {
   "cell_type": "code",
   "execution_count": null,
   "metadata": {},
   "outputs": [],
   "source": [
    "cc_df = df[['cc_x', 'folder_name_x', 'cc_pixel_intensity_488', 'cc_pixel_intensity_405', 'cc_pixel_intensity_ratio',\n",
    "            'cc_pixel_intensity_555',  'cc_average_degree_excludeFreeEnds',\n",
    "             'cc_max_PK', 'diameter', 'cc_vol_from_img_(um3)', 'branches'\n",
    "            , 'nodes', 'edges']].drop_duplicates(subset = ['cc_x','folder_name_x'])\n",
    "\n",
    "ele_df = df[['line_id', 'folder_name_x', 'element_pixel_intensity_488', 'element_pixel_intensity_405', 'element_pixel_intensity_555', \n",
    "            'element_pixel_intensity_ratio', 'element_Volume_Voxel', 'element_length_(um)', 'element_average_width' ]].drop_duplicates(subset=['line_id', 'folder_name_x'])"
   ]
  },
  {
   "cell_type": "code",
   "execution_count": null,
   "metadata": {},
   "outputs": [],
   "source": [
    "import pandas as pd\n",
    "from sklearn.model_selection import train_test_split\n",
    "from sklearn.svm import SVC\n",
    "from sklearn.metrics import accuracy_score, classification_report\n"
   ]
  },
  {
   "cell_type": "code",
   "execution_count": null,
   "metadata": {},
   "outputs": [],
   "source": [
    "# make cc_df only the first 1000 entries \n",
    "cc_df = cc_df[:1000]"
   ]
  },
  {
   "cell_type": "code",
   "execution_count": null,
   "metadata": {},
   "outputs": [],
   "source": [
    "cc_df['cc_pixel_intensity_488'] = cc_df['cc_pixel_intensity_488'].astype(int)"
   ]
  },
  {
   "cell_type": "code",
   "execution_count": null,
   "metadata": {},
   "outputs": [
    {
     "name": "stderr",
     "output_type": "stream",
     "text": [
      "/home/mitosim2/.local/lib/python3.10/site-packages/sklearn/metrics/_classification.py:1469: UndefinedMetricWarning: Precision and F-score are ill-defined and being set to 0.0 in labels with no predicted samples. Use `zero_division` parameter to control this behavior.\n",
      "  _warn_prf(average, modifier, msg_start, len(result))\n",
      "/home/mitosim2/.local/lib/python3.10/site-packages/sklearn/metrics/_classification.py:1469: UndefinedMetricWarning: Recall and F-score are ill-defined and being set to 0.0 in labels with no true samples. Use `zero_division` parameter to control this behavior.\n",
      "  _warn_prf(average, modifier, msg_start, len(result))\n",
      "/home/mitosim2/.local/lib/python3.10/site-packages/sklearn/metrics/_classification.py:1469: UndefinedMetricWarning: Precision and F-score are ill-defined and being set to 0.0 in labels with no predicted samples. Use `zero_division` parameter to control this behavior.\n",
      "  _warn_prf(average, modifier, msg_start, len(result))\n",
      "/home/mitosim2/.local/lib/python3.10/site-packages/sklearn/metrics/_classification.py:1469: UndefinedMetricWarning: Recall and F-score are ill-defined and being set to 0.0 in labels with no true samples. Use `zero_division` parameter to control this behavior.\n",
      "  _warn_prf(average, modifier, msg_start, len(result))\n",
      "/home/mitosim2/.local/lib/python3.10/site-packages/sklearn/metrics/_classification.py:1469: UndefinedMetricWarning: Precision and F-score are ill-defined and being set to 0.0 in labels with no predicted samples. Use `zero_division` parameter to control this behavior.\n",
      "  _warn_prf(average, modifier, msg_start, len(result))\n",
      "/home/mitosim2/.local/lib/python3.10/site-packages/sklearn/metrics/_classification.py:1469: UndefinedMetricWarning: Recall and F-score are ill-defined and being set to 0.0 in labels with no true samples. Use `zero_division` parameter to control this behavior.\n",
      "  _warn_prf(average, modifier, msg_start, len(result))\n"
     ]
    },
    {
     "data": {
      "text/plain": [
       "Text(0, 0.5, 'Predicted')"
      ]
     },
     "execution_count": 57,
     "metadata": {},
     "output_type": "execute_result"
    },
    {
     "data": {
      "image/png": "[encoded data removed]",
      "text/plain": [
       "<Figure size 640x480 with 1 Axes>"
      ]
     },
     "metadata": {},
     "output_type": "display_data"
    }
   ],
   "source": [
    "X = cc_df.drop(['cc_pixel_intensity_488', 'cc_pixel_intensity_405', 'cc_x', 'folder_name_x'], axis=1)  # Adjust 'target_column' to your actual target column name\n",
    "y = cc_df['cc_pixel_intensity_488']\n",
    "\n",
    "X_train, X_test, y_train, y_test = train_test_split(X, y, test_size=0.2, random_state=42)\n",
    "\n",
    "\n",
    "\n",
    "svm_model = SVC(kernel='linear')  # You can choose different kernels like 'rbf', 'poly', etc.\n",
    "svm_model.fit(X_train, y_train)\n",
    "\n",
    "y_pred = svm_model.predict(X_test)\n",
    "accuracy = accuracy_score(y_test, y_pred)\n",
    "classification_rep = classification_report(y_test, y_pred)\n",
    "\n",
    "plt.plot(y_test, y_pred, 'o')\n",
    "plt.title('Accuracy: {}'.format(accuracy))\n",
    "plt.xlabel('Actual')\n",
    "plt.ylabel('Predicted')\n"
   ]
  },
  {
   "cell_type": "code",
   "execution_count": null,
   "metadata": {},
   "outputs": [
    {
     "name": "stderr",
     "output_type": "stream",
     "text": [
      "/home/mitosim2/.local/lib/python3.10/site-packages/sklearn/metrics/_classification.py:1469: UndefinedMetricWarning: Precision and F-score are ill-defined and being set to 0.0 in labels with no predicted samples. Use `zero_division` parameter to control this behavior.\n",
      "  _warn_prf(average, modifier, msg_start, len(result))\n",
      "/home/mitosim2/.local/lib/python3.10/site-packages/sklearn/metrics/_classification.py:1469: UndefinedMetricWarning: Recall and F-score are ill-defined and being set to 0.0 in labels with no true samples. Use `zero_division` parameter to control this behavior.\n",
      "  _warn_prf(average, modifier, msg_start, len(result))\n",
      "/home/mitosim2/.local/lib/python3.10/site-packages/sklearn/metrics/_classification.py:1469: UndefinedMetricWarning: Precision and F-score are ill-defined and being set to 0.0 in labels with no predicted samples. Use `zero_division` parameter to control this behavior.\n",
      "  _warn_prf(average, modifier, msg_start, len(result))\n",
      "/home/mitosim2/.local/lib/python3.10/site-packages/sklearn/metrics/_classification.py:1469: UndefinedMetricWarning: Recall and F-score are ill-defined and being set to 0.0 in labels with no true samples. Use `zero_division` parameter to control this behavior.\n",
      "  _warn_prf(average, modifier, msg_start, len(result))\n",
      "/home/mitosim2/.local/lib/python3.10/site-packages/sklearn/metrics/_classification.py:1469: UndefinedMetricWarning: Precision and F-score are ill-defined and being set to 0.0 in labels with no predicted samples. Use `zero_division` parameter to control this behavior.\n",
      "  _warn_prf(average, modifier, msg_start, len(result))\n",
      "/home/mitosim2/.local/lib/python3.10/site-packages/sklearn/metrics/_classification.py:1469: UndefinedMetricWarning: Recall and F-score are ill-defined and being set to 0.0 in labels with no true samples. Use `zero_division` parameter to control this behavior.\n",
      "  _warn_prf(average, modifier, msg_start, len(result))\n"
     ]
    },
    {
     "data": {
      "text/plain": [
       "Text(0, 0.5, 'Predicted')"
      ]
     },
     "execution_count": 26,
     "metadata": {},
     "output_type": "execute_result"
    },
    {
     "data": {
      "image/png": "[encoded data removed]",
      "text/plain": [
       "<Figure size 640x480 with 1 Axes>"
      ]
     },
     "metadata": {},
     "output_type": "display_data"
    }
   ],
   "source": [
    "xx"
   ]
  },
  {
   "cell_type": "code",
   "execution_count": null,
   "metadata": {},
   "outputs": [
    {
     "data": {
      "text/plain": [
       "Text(0, 0.5, 'pred')"
      ]
     },
     "execution_count": 28,
     "metadata": {},
     "output_type": "execute_result"
    },
    {
     "data": {
      "image/png": "[encoded data removed]",
      "text/plain": [
       "<Figure size 640x480 with 1 Axes>"
      ]
     },
     "metadata": {},
     "output_type": "display_data"
    }
   ],
   "source": [
    "plt.scatter(y_test, y_pred)\n",
    "plt.xlabel('test')\n",
    "plt.ylabel('pred')"
   ]
  },
  {
   "cell_type": "code",
   "execution_count": null,
   "metadata": {},
   "outputs": [
    {
     "name": "stderr",
     "output_type": "stream",
     "text": [
      "/home/mitosim2/.local/lib/python3.10/site-packages/sklearn/metrics/_classification.py:1469: UndefinedMetricWarning: Precision and F-score are ill-defined and being set to 0.0 in labels with no predicted samples. Use `zero_division` parameter to control this behavior.\n",
      "  _warn_prf(average, modifier, msg_start, len(result))\n",
      "/home/mitosim2/.local/lib/python3.10/site-packages/sklearn/metrics/_classification.py:1469: UndefinedMetricWarning: Recall and F-score are ill-defined and being set to 0.0 in labels with no true samples. Use `zero_division` parameter to control this behavior.\n",
      "  _warn_prf(average, modifier, msg_start, len(result))\n",
      "/home/mitosim2/.local/lib/python3.10/site-packages/sklearn/metrics/_classification.py:1469: UndefinedMetricWarning: Precision and F-score are ill-defined and being set to 0.0 in labels with no predicted samples. Use `zero_division` parameter to control this behavior.\n",
      "  _warn_prf(average, modifier, msg_start, len(result))\n",
      "/home/mitosim2/.local/lib/python3.10/site-packages/sklearn/metrics/_classification.py:1469: UndefinedMetricWarning: Recall and F-score are ill-defined and being set to 0.0 in labels with no true samples. Use `zero_division` parameter to control this behavior.\n",
      "  _warn_prf(average, modifier, msg_start, len(result))\n",
      "/home/mitosim2/.local/lib/python3.10/site-packages/sklearn/metrics/_classification.py:1469: UndefinedMetricWarning: Precision and F-score are ill-defined and being set to 0.0 in labels with no predicted samples. Use `zero_division` parameter to control this behavior.\n",
      "  _warn_prf(average, modifier, msg_start, len(result))\n",
      "/home/mitosim2/.local/lib/python3.10/site-packages/sklearn/metrics/_classification.py:1469: UndefinedMetricWarning: Recall and F-score are ill-defined and being set to 0.0 in labels with no true samples. Use `zero_division` parameter to control this behavior.\n",
      "  _warn_prf(average, modifier, msg_start, len(result))\n"
     ]
    },
    {
     "data": {
      "text/plain": [
       "Text(0, 0.5, 'Predicted')"
      ]
     },
     "execution_count": 61,
     "metadata": {},
     "output_type": "execute_result"
    },
    {
     "data": {
      "image/png": "[encoded data removed]",
      "text/plain": [
       "<Figure size 640x480 with 1 Axes>"
      ]
     },
     "metadata": {},
     "output_type": "display_data"
    }
   ],
   "source": [
    "ele_df = ele_df[:1000]\n",
    "ele_df['element_pixel_intensity_488'] = ele_df['element_pixel_intensity_488'].astype(int)\n",
    "\n",
    "X = ele_df.drop(['element_pixel_intensity_405', 'line_id', 'folder_name_x', 'element_pixel_intensity_488', 'element_pixel_intensity_ratio'], axis=1)  # Adjust 'target_column' to your actual target column name\n",
    "y = ele_df['element_pixel_intensity_488']\n",
    "\n",
    "X_train, X_test, y_train, y_test = train_test_split(X, y, test_size=0.2, random_state=42)\n",
    "\n",
    "svm_model = SVC(kernel='linear')  # You can choose different kernels like 'rbf', 'poly', etc.\n",
    "svm_model.fit(X_train, y_train)\n",
    "\n",
    "y_pred = svm_model.predict(X_test)\n",
    "accuracy = accuracy_score(y_test, y_pred)\n",
    "classification_rep = classification_report(y_test, y_pred)\n",
    "\n",
    "plt.plot(y_test, y_pred, 'o')\n",
    "plt.title('Accuracy: {}'.format(accuracy))\n",
    "plt.xlabel('Actual')\n",
    "plt.ylabel('Predicted')"
   ]
  },
  {
   "cell_type": "code",
   "execution_count": null,
   "metadata": {},
   "outputs": [
    {
     "data": {
      "text/plain": [
       "Text(0.5, 1.0, 'Accuracy: 0.005')"
      ]
     },
     "execution_count": 69,
     "metadata": {},
     "output_type": "execute_result"
    },
    {
     "data": {
      "image/png": "[encoded data removed]",
      "text/plain": [
       "<Figure size 640x480 with 1 Axes>"
      ]
     },
     "metadata": {},
     "output_type": "display_data"
    }
   ],
   "source": [
    "# do the same for random forest\n",
    "from sklearn.ensemble import RandomForestClassifier\n",
    "\n",
    "rf_model = RandomForestClassifier(n_estimators=300, max_depth=7, random_state=0)\n",
    "rf_model.fit(X_train, y_train)\n",
    "\n",
    "y_pred = rf_model.predict(X_test)\n",
    "accuracy = accuracy_score(y_test, y_pred)\n",
    "\n",
    "plt.plot(y_test, y_pred, 'o')\n",
    "plt.title('Accuracy: {}'.format(accuracy))\n",
    "\n"
   ]
  },
  {
   "cell_type": "code",
   "execution_count": 3,
   "metadata": {},
   "outputs": [
    {
     "ename": "IndexError",
     "evalue": "string index out of range",
     "output_type": "error",
     "traceback": [
      "\u001b[1;31m---------------------------------------------------------------------------\u001b[0m",
      "\u001b[1;31mIndexError\u001b[0m                                Traceback (most recent call last)",
      "\u001b[1;32mc:\\Users\\birat\\OneDrive\\Desktop\\ML-Project\\MLV0.ipynb Cell 35\u001b[0m line \u001b[0;36m<cell line: 9>\u001b[1;34m()\u001b[0m\n\u001b[0;32m      <a href='vscode-notebook-cell:/c%3A/Users/birat/OneDrive/Desktop/ML-Project/MLV0.ipynb#X46sZmlsZQ%3D%3D?line=4'>5</a>\u001b[0m                 \u001b[39mreturn\u001b[39;00m \u001b[39m1\u001b[39m \u001b[39m+\u001b[39m findRepeats(x[i\u001b[39m+\u001b[39m\u001b[39m1\u001b[39m:])\n\u001b[0;32m      <a href='vscode-notebook-cell:/c%3A/Users/birat/OneDrive/Desktop/ML-Project/MLV0.ipynb#X46sZmlsZQ%3D%3D?line=6'>7</a>\u001b[0m     \u001b[39mreturn\u001b[39;00m \u001b[39m0\u001b[39m\n\u001b[1;32m----> <a href='vscode-notebook-cell:/c%3A/Users/birat/OneDrive/Desktop/ML-Project/MLV0.ipynb#X46sZmlsZQ%3D%3D?line=8'>9</a>\u001b[0m findRepeats(\u001b[39m'\u001b[39;49m\u001b[39mabababab\u001b[39;49m\u001b[39m'\u001b[39;49m)\n",
      "\u001b[1;32mc:\\Users\\birat\\OneDrive\\Desktop\\ML-Project\\MLV0.ipynb Cell 35\u001b[0m line \u001b[0;36mfindRepeats\u001b[1;34m(x)\u001b[0m\n\u001b[0;32m      <a href='vscode-notebook-cell:/c%3A/Users/birat/OneDrive/Desktop/ML-Project/MLV0.ipynb#X46sZmlsZQ%3D%3D?line=0'>1</a>\u001b[0m \u001b[39mdef\u001b[39;00m \u001b[39mfindRepeats\u001b[39m(x):\n\u001b[0;32m      <a href='vscode-notebook-cell:/c%3A/Users/birat/OneDrive/Desktop/ML-Project/MLV0.ipynb#X46sZmlsZQ%3D%3D?line=1'>2</a>\u001b[0m     \u001b[39mfor\u001b[39;00m i \u001b[39min\u001b[39;00m \u001b[39mrange\u001b[39m(\u001b[39mlen\u001b[39m(x)):\n\u001b[1;32m----> <a href='vscode-notebook-cell:/c%3A/Users/birat/OneDrive/Desktop/ML-Project/MLV0.ipynb#X46sZmlsZQ%3D%3D?line=2'>3</a>\u001b[0m         \u001b[39mif\u001b[39;00m x[i] \u001b[39m==\u001b[39m x[i\u001b[39m+\u001b[39;49m\u001b[39m1\u001b[39;49m]:\n\u001b[0;32m      <a href='vscode-notebook-cell:/c%3A/Users/birat/OneDrive/Desktop/ML-Project/MLV0.ipynb#X46sZmlsZQ%3D%3D?line=3'>4</a>\u001b[0m             \u001b[39mif\u001b[39;00m i \u001b[39m<\u001b[39m \u001b[39mlen\u001b[39m(x)\u001b[39m-\u001b[39m\u001b[39m2\u001b[39m:\n\u001b[0;32m      <a href='vscode-notebook-cell:/c%3A/Users/birat/OneDrive/Desktop/ML-Project/MLV0.ipynb#X46sZmlsZQ%3D%3D?line=4'>5</a>\u001b[0m                 \u001b[39mreturn\u001b[39;00m \u001b[39m1\u001b[39m \u001b[39m+\u001b[39m findRepeats(x[i\u001b[39m+\u001b[39m\u001b[39m1\u001b[39m:])\n",
      "\u001b[1;31mIndexError\u001b[0m: string index out of range"
     ]
    }
   ],
   "source": [
    "def findRepeats(x):\n",
    "    for i in range(len(x)):\n",
    "        if x[i] == x[i+1]:\n",
    "            if i < len(x)-2:\n",
    "                return 1 + findRepeats(x[i+1:])\n",
    "            \n",
    "    return 0\n",
    "\n",
    "findRepeats('abababab')"
   ]
  },
  {
   "cell_type": "code",
   "execution_count": 5,
   "metadata": {},
   "outputs": [
    {
     "data": {
      "text/plain": [
       "[2, 4]"
      ]
     },
     "execution_count": 5,
     "metadata": {},
     "output_type": "execute_result"
    }
   ],
   "source": [
    "# 2-b \n",
    "def giveKlist(X, k): \n",
    "    nlist = []\n",
    "    indexes_to_add = len(X)//k \n",
    "    for i in range(1, indexes_to_add+1):\n",
    "        nlist.append(X[i*k-1])\n",
    "    return nlist\n",
    "\n",
    "giveKlist([1, 2, 3, 4, 5], 2)"
   ]
  },
  {
   "cell_type": "code",
   "execution_count": 11,
   "metadata": {},
   "outputs": [
    {
     "data": {
      "text/plain": [
       "4"
      ]
     },
     "execution_count": 11,
     "metadata": {},
     "output_type": "execute_result"
    }
   ],
   "source": [
    "#2-c \n",
    "def convertBase(val, k): \n",
    "    # get val in base 1: \n",
    "    base1 = val * 10 \n",
    "    # convert base1 to base k\n",
    "    for i in range(0, 10): \n",
    "        if base1 < i**k: \n",
    "            break\n",
    "    return i\n",
    "convertBase(1, 2)"
   ]
  },
  {
   "cell_type": "code",
   "execution_count": 13,
   "metadata": {},
   "outputs": [
    {
     "data": {
      "text/plain": [
       "['H', 'H', 'T', 'T', 'H', 'H', 'H', 'H', 'T', 'H']"
      ]
     },
     "execution_count": 13,
     "metadata": {},
     "output_type": "execute_result"
    }
   ],
   "source": [
    "#2-d \n",
    "import random \n",
    "def tossCoins(p, t): \n",
    "    # p is probability of heads \n",
    "    # t is number of tosses\n",
    "    resultList = []\n",
    "    for i in range(0, t): \n",
    "        if random.random() < p: \n",
    "            resultList.append('H')\n",
    "        else: \n",
    "            resultList.append('T')\n",
    "    return resultList\n",
    "tossCoins(0.7, 10)"
   ]
  },
  {
   "cell_type": "code",
   "execution_count": 16,
   "metadata": {},
   "outputs": [
    {
     "data": {
      "text/plain": [
       "[1, 6, 2, 3, 4, 5]"
      ]
     },
     "execution_count": 16,
     "metadata": {},
     "output_type": "execute_result"
    }
   ],
   "source": [
    "#2-e\n",
    "def printArr(A, B): \n",
    "    len1 = len(A)\n",
    "    len2 = len(B)\n",
    "    longer_len = max(len1, len2)\n",
    "    smaller_len = min(len1, len2)\n",
    "    npList = []\n",
    "    for i in range(0, smaller_len): \n",
    "        npList.append(A[i])\n",
    "        npList.append(B[i])\n",
    "    if len1 > len2: \n",
    "        for i in range(smaller_len, longer_len): \n",
    "            npList.append(A[i])\n",
    "    else:\n",
    "        for i in range(smaller_len, longer_len): \n",
    "            npList.append(B[i])\n",
    "\n",
    "    return npList        "
   ]
  },
  {
   "cell_type": "code",
   "execution_count": 18,
   "metadata": {},
   "outputs": [],
   "source": [
    "#2-f\n",
    "def printMany(x, k): \n",
    "    # turn int into string  \n",
    "    x = str(x)\n",
    "    return k * x\n"
   ]
  },
  {
   "cell_type": "code",
   "execution_count": 20,
   "metadata": {},
   "outputs": [],
   "source": [
    "#2-g\n",
    "def reverseString(x): \n",
    "    return x[::-1]\n"
   ]
  },
  {
   "cell_type": "code",
   "execution_count": 68,
   "metadata": {},
   "outputs": [
    {
     "name": "stdout",
     "output_type": "stream",
     "text": [
      "[1, 3, 5, 7, 9, 11]\n",
      "fedcba\n"
     ]
    },
    {
     "data": {
      "text/plain": [
       "'f1e2d3c4b5a6'"
      ]
     },
     "execution_count": 68,
     "metadata": {},
     "output_type": "execute_result"
    }
   ],
   "source": [
    "#2-h\n",
    "\n",
    "def reverseSkipNum(x):\n",
    "    # find index position of the numbers\n",
    "    indexes = []\n",
    "    for i in range(len(x)): \n",
    "        if x[i].isdigit(): \n",
    "            indexes.append(i)\n",
    "    print(indexes)\n",
    "    newstr = ''\n",
    "    # remove the numbers from the string\n",
    "    for i in range(len(x)): \n",
    "        if i not in indexes: \n",
    "            newstr += x[i]\n",
    "    # reverse newstr: \n",
    "    newstr = newstr[::-1]\n",
    "    print(newstr)\n",
    "    neweststr = ''\n",
    "    k = 0\n",
    "    for i in range(len(x)): \n",
    "        if i in indexes:\n",
    "            neweststr += x[i]\n",
    "        else: \n",
    "            neweststr += newstr[k]\n",
    "            k = k + 1\n",
    "    return neweststr\n",
    "reverseSkipNum('a1b2c3d4e5f6')"
   ]
  },
  {
   "cell_type": "code",
   "execution_count": 55,
   "metadata": {},
   "outputs": [
    {
     "data": {
      "text/plain": [
       "'f'"
      ]
     },
     "execution_count": 55,
     "metadata": {},
     "output_type": "execute_result"
    }
   ],
   "source": [
    "def harmonicSum(n):\n",
    "    sum = 0\n",
    "    for i in range(1, n+1): \n",
    "        sum += 1/i\n",
    "    return sum\n",
    "\n",
    "def inverseAdd(x, y): \n",
    "    return harmonicSum(x)/harmonicSum(y)"
   ]
  },
  {
   "cell_type": "code",
   "execution_count": 27,
   "metadata": {},
   "outputs": [
    {
     "ename": "TypeError",
     "evalue": "must be str or None, not bool",
     "output_type": "error",
     "traceback": [
      "\u001b[1;31m---------------------------------------------------------------------------\u001b[0m",
      "\u001b[1;31mTypeError\u001b[0m                                 Traceback (most recent call last)",
      "\u001b[1;32mc:\\Users\\birat\\OneDrive\\Desktop\\ML-Project\\MLV0.ipynb Cell 43\u001b[0m line \u001b[0;36m<cell line: 2>\u001b[1;34m()\u001b[0m\n\u001b[0;32m      <a href='vscode-notebook-cell:/c%3A/Users/birat/OneDrive/Desktop/ML-Project/MLV0.ipynb#X60sZmlsZQ%3D%3D?line=0'>1</a>\u001b[0m a \u001b[39m=\u001b[39m \u001b[39m'\u001b[39m\u001b[39m1a3rf35\u001b[39m\u001b[39m'\u001b[39m\n\u001b[1;32m----> <a href='vscode-notebook-cell:/c%3A/Users/birat/OneDrive/Desktop/ML-Project/MLV0.ipynb#X60sZmlsZQ%3D%3D?line=1'>2</a>\u001b[0m a\u001b[39m.\u001b[39;49msplit(\u001b[39mtype\u001b[39;49m(a) \u001b[39m==\u001b[39;49m \u001b[39mint\u001b[39;49m)\n",
      "\u001b[1;31mTypeError\u001b[0m: must be str or None, not bool"
     ]
    }
   ],
   "source": [
    "a = '1a3rf35'\n",
    "# split string at int\n",
    "intList = []\n",
    "for i in a: \n",
    "    if type(i) == int: \n",
    "        intList.append(i)"
   ]
  }
 ],
 "metadata": {
  "kernelspec": {
   "display_name": "Python 3",
   "language": "python",
   "name": "python3"
  },
  "language_info": {
   "codemirror_mode": {
    "name": "ipython",
    "version": 3
   },
   "file_extension": ".py",
   "mimetype": "text/x-python",
   "name": "python",
   "nbconvert_exporter": "python",
   "pygments_lexer": "ipython3",
   "version": "3.10.11"
  },
  "orig_nbformat": 4
 },
 "nbformat": 4,
 "nbformat_minor": 2
}
