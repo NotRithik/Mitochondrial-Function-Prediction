{
 "cells": [
  {
   "cell_type": "markdown",
   "metadata": {},
   "source": [
    "### Objectives\n",
    "\n",
    "First, create a graph representation of the information we have. \n",
    "This would be information about the elements, and the nodes. \n",
    "Using this, we will feed it into our SVM, or a Random Forest, and see from there onwards"
   ]
  },
  {
   "cell_type": "code",
   "execution_count": 1,
   "metadata": {},
   "outputs": [],
   "source": [
    "import pandas as pd\n",
    "import numpy as np\n",
    "from sklearn.model_selection import train_test_split\n",
    "from sklearn.svm import SVC\n",
    "from sklearn.metrics import accuracy_score, classification_report\n",
    "from sklearn.decomposition import PCA\n",
    "import matplotlib.pyplot as plt\n",
    "from sklearn.preprocessing import StandardScaler\n",
    "\n",
    "import re\n",
    "\n",
    "import torch\n",
    "import torch.nn as nn\n",
    "import numpy as np\n",
    "import ast\n",
    "import io\n",
    "\n",
    "import plotly.graph_objs as go\n",
    "\n",
    "# Set up torch to use CUDA or MPS if either are available\n",
    "device = torch.device('cuda:0')  if torch.cuda.is_available() else torch.device('mps:0') if torch.backends.mps.is_available() else torch.device('cpu')\n",
    "torch.set_default_device(device)\n",
    "\n",
    "USE_NEW_FEATURES = True\n",
    "TRAIN_SVM = False\n",
    "TRAIN_RF = False\n",
    "\n",
    "MLP_MODEL_PATH = './mlp_regressor.pth'\n",
    "LOAD_MLP_MODEL = False\n",
    "SAVE_MLP_MODEL = True"
   ]
  },
  {
   "cell_type": "code",
   "execution_count": 2,
   "metadata": {},
   "outputs": [],
   "source": [
    "# n = pd.read_csv('./full_node_Table_.csv')\n",
    "df = pd.read_csv('./full_Table_.csv')"
   ]
  },
  {
   "cell_type": "code",
   "execution_count": 3,
   "metadata": {},
   "outputs": [],
   "source": [
    "if(not USE_NEW_FEATURES):\n",
    "    cc_df = df.sample(n=1000, random_state=42)\n",
    "    # cc_df = df\n",
    "\n",
    "    # cc_df['cc_pixel_intensity_488'] = cc_df['cc_pixel_intensity_488'].astype(int)\n",
    "    cc_df['element_pixel_intensity_488'] = cc_df['element_pixel_intensity_488'].replace(0, 0.001)\n",
    "\n",
    "    X = cc_df.drop(['cc_pixel_intensity_488', 'cc_pixel_intensity_405', 'cc_x', 'folder_name_x', 'degree_distribution', 'folder_name_x.1', 'folder_name_y', 'x_y', 'y_y', 'z_y', 'node', 'degree', 'cc_y', 'vol_cc', 'avg_PK_Of_element', 'element_connectivity', 'cc_average_connectivity', 'pixel_intensity_488',\n",
    "    'pixel_intensity_405',\n",
    "    'pixel_intensity_ratio',\n",
    "    # 'pixel_intensity_555',\n",
    "    'element_pixel_intensity_488',\n",
    "    'element_pixel_intensity_405',\n",
    "    'element_pixel_intensity_ratio'], axis=1)  # Adjust 'target_column' to your actual target column name\n",
    "    # Print rows that have NaN in any column, and print that column name\n",
    "    pd.set_option('display.max_rows', 5000)\n",
    "    pd.set_option('display.max_columns', 500)\n",
    "    pd.set_option('display.width', 150)\n",
    "\n",
    "    # For any rows that contain a NaN in X, drop it in X and drop the corresponding row in Y.\n",
    "    # This is done by getting the row index where X is NaN and dropping the same index in both X and Y\n",
    "    nan_rows = X.isna().any(axis=1)\n",
    "    X = X.dropna()\n",
    "\n",
    "    # replace element_pixel_intensity_488 0 values with 0.001\n",
    "\n",
    "    cc_df['element_pixel_intensity_405_488_ratio'] = (np.array(cc_df['element_pixel_intensity_405']) / np.array(cc_df['element_pixel_intensity_488']))*1000\n",
    "    cc_df.fillna(0, inplace=True)\n",
    "    cc_df['element_pixel_intensity_405_488_ratio'] = cc_df['element_pixel_intensity_405_488_ratio'].astype(int)\n",
    "\n",
    "\n",
    "    y = cc_df['element_pixel_intensity_405_488_ratio']\n",
    "    y = y[~nan_rows]\n",
    "\n",
    "    X_train, X_test, y_train, y_test = train_test_split(X, y, test_size=0.2, random_state=42)\n",
    "\n",
    "    y_train = y_train.to_numpy()\n",
    "\n",
    "    # for x in X_train.columns:\n",
    "    #     print(x)\n",
    "\n",
    "    # y_test=y_test.to_numpy()\n",
    "    # print(y)"
   ]
  },
  {
   "cell_type": "code",
   "execution_count": 4,
   "metadata": {},
   "outputs": [],
   "source": [
    "def get_pca_transformation_and_scaled_dataset(dataset, x_principal_components):\n",
    "    # Standardizing the features\n",
    "    standardized_data = StandardScaler().fit_transform(dataset)\n",
    "\n",
    "    # Perform PCA\n",
    "    pca = PCA(n_components=x_principal_components)\n",
    "    principal_components = pca.fit_transform(standardized_data)\n",
    "\n",
    "    # Create a DataFrame with the principal components\n",
    "    columns = [f'PC{i+1}' for i in range(x_principal_components)]\n",
    "    principal_df = pd.DataFrame(data=principal_components, columns=columns)\n",
    "    \n",
    "    # Explained variance for each PC\n",
    "    explained_var = pca.explained_variance_ratio_\n",
    "\n",
    "    # Plot for explained variance of each PC\n",
    "    fig1 = go.Figure(data=go.Bar(x=columns, y=explained_var, marker_color='darkred'))\n",
    "    fig1.update_layout(title='Explained Variance by Each Principal Component',\n",
    "                       xaxis_title='Principal Components',\n",
    "                       yaxis_title='Explained Variance Ratio')\n",
    "    fig1.show()\n",
    "\n",
    "    # Plot for cumulative explained variance\n",
    "    cumulative_var = explained_var.cumsum()\n",
    "    fig2 = go.Figure(data=go.Scatter(x=columns, y=cumulative_var, marker_color='darkred'))\n",
    "    fig2.update_layout(title='Cumulative Explained Variance by Principal Components',\n",
    "                       xaxis_title='Principal Components',\n",
    "                       yaxis_title='Cumulative Explained Variance Ratio')\n",
    "    fig2.show()\n",
    "\n",
    "    total_explained_variance = cumulative_var[-1]\n",
    "    print(f\"Total explained variance by the first {x_principal_components} principal components: {total_explained_variance:.2f}\")\n",
    "\n",
    "    return principal_df, pca\n"
   ]
  },
  {
   "cell_type": "code",
   "execution_count": 5,
   "metadata": {},
   "outputs": [],
   "source": [
    "def feature_contribution_to_variance(pca, explained_var, feature_names, drop_angle_edge_contributions=True):\n",
    "    # Transpose pca.components_ to align with explained_var for dot product\n",
    "    feature_contributions = pca.components_.T ** 2\n",
    "    total_feature_contributions = np.dot(feature_contributions, explained_var)\n",
    "\n",
    "    if len(feature_names) != len(total_feature_contributions):\n",
    "        raise ValueError(\"The number of features does not match the length of the contributions array.\")\n",
    "\n",
    "    # Create a DataFrame for contributions\n",
    "    contributions_df = pd.DataFrame({\n",
    "        'Feature': feature_names,\n",
    "        'Contribution': total_feature_contributions * 100\n",
    "    })\n",
    "\n",
    "    # Drop 'Angle_X_X' or 'edge_X' contributions if flag is True\n",
    "    if drop_angle_edge_contributions:\n",
    "        # Regular expression for matching 'Angle_X_X' or 'edge_X'\n",
    "        regex_pattern = r\"^(Angle_\\d+_\\d+|edge_\\d+)$\"\n",
    "\n",
    "        # Filter out rows where 'Feature' matches the pattern\n",
    "        contributions_df = contributions_df[~contributions_df['Feature'].str.match(regex_pattern)]\n",
    "\n",
    "    # Sort by contribution in descending order\n",
    "    sorted_contributions = contributions_df.sort_values(by='Contribution', ascending=False)\n",
    "    return sorted_contributions\n"
   ]
  },
  {
   "cell_type": "code",
   "execution_count": 6,
   "metadata": {},
   "outputs": [],
   "source": [
    "def plot_feature_contributions(sorted_contributions):\n",
    "    fig = go.Figure(data=go.Bar(\n",
    "        x=sorted_contributions['Feature'],\n",
    "        y=sorted_contributions['Contribution'],\n",
    "        marker_color='darkblue'\n",
    "    ))\n",
    "    fig.update_layout(\n",
    "        title='Percentage Contribution of Each Feature to Total Variance',\n",
    "        xaxis_title='Features',\n",
    "        yaxis_title='Percentage Contribution'\n",
    "    )\n",
    "    fig.show()"
   ]
  },
  {
   "cell_type": "code",
   "execution_count": 19,
   "metadata": {},
   "outputs": [
    {
     "name": "stderr",
     "output_type": "stream",
     "text": [
      "/var/folders/_8/5153zj6d6w51qcltyf2wlg740000gn/T/ipykernel_4775/590273560.py:84: PerformanceWarning: DataFrame is highly fragmented.  This is usually the result of calling `frame.insert` many times, which has poor performance.  Consider joining all columns at once using pd.concat(axis=1) instead. To get a de-fragmented frame, use `newframe = frame.copy()`\n",
      "  data['element_pixel_intensity_405_488_ratio'] = ((np.array(data['element_pixel_intensity_405']) / np.array(data['element_pixel_intensity_488']))*1000).copy()\n"
     ]
    }
   ],
   "source": [
    "datafrac = 1\n",
    "# This cell reads the data from the CSV file and cleans it up\n",
    "\n",
    "if(USE_NEW_FEATURES):\n",
    "\n",
    "    # Set pandas options to display all columns and rows\n",
    "    pd.set_option('display.max_rows', None)\n",
    "    pd.set_option('display.max_columns', None)\n",
    "    pd.set_option('display.width', None)\n",
    "\n",
    "    csv_file_path = 'full_Table_All_Cells_With_Angles_And_Edges_CLEANED.csv'\n",
    "    buffer = io.StringIO()\n",
    "\n",
    "    # Open and process the CSV file, to strip entries so that numbers aren't read as strings by read_csv and column names have no leading/trailing whitespaces\n",
    "    with open(csv_file_path, 'r') as file:\n",
    "        for line in file:\n",
    "            cleaned_line = ','.join(cell.strip() for cell in line.split(','))\n",
    "            buffer.write(cleaned_line + '\\n')\n",
    "\n",
    "    # Move the buffer cursor to the start\n",
    "    buffer.seek(0)\n",
    "\n",
    "    # Read the cleaned data into pandas\n",
    "    data = pd.read_csv(buffer)\n",
    "    edge_columns = [col for col in data.columns if col.startswith('edge_') and col.split('_')[-1].isdigit()]\n",
    "    # Replace empty entries with 0 in these columns\n",
    "    data[edge_columns] = data[edge_columns].fillna(0)\n",
    "\n",
    "    # Not sure if these folder names are required for segregating the dataset, so for now dropping them\n",
    "    # data = data.drop(columns=['folder_name_x', 'folder_name_x.1', 'folder_name_y'])\n",
    "    data = data.drop(columns=['folder_name_x.1']) # 'folder_name_x' not dropping here, dropping in sample_data\n",
    "    \n",
    "    # Make each string in folder_name_y correspond to an integer instead\n",
    "    unique_strings = data['folder_name_y'].unique()\n",
    "    string_to_int_mapping = {string: i+1 for i, string in enumerate(unique_strings)}\n",
    "    \n",
    "    data['folder_name_y'] = data['folder_name_y'].replace(string_to_int_mapping)\n",
    "    \n",
    "    # For now, we aren't using the 555 channel either\n",
    "    data = data.drop(columns=['element_pixel_intensity_555'])\n",
    "\n",
    "    # These fields seem to be not implemented either:\n",
    "    data = data.drop(columns=[\"Unnamed: 0_x\", \"x\", \"y\" ,\"z\" ,\"node_x\" ,\"degree_x\" ,\"vol_cc_x\" ,\"avg_PK_Of_element_x\" ,\"element_connectivity_x\" ,\"Unnamed: 0_y\"])\n",
    "\n",
    "    # The next few lines of code are to convert the degree_distribution column to columns labelled node_degree_0, node_degree_1, etc. till node_degree_MAX\n",
    "    def str_to_dict(s):\n",
    "        try:\n",
    "            return ast.literal_eval(s)\n",
    "        except ValueError:\n",
    "            return {}\n",
    "    # Apply the function to the 'degree_distribution' column\n",
    "    data['degree_distribution'] = data['degree_distribution'].apply(str_to_dict)\n",
    "        \n",
    "    # Find the highest node degree in the DataFrame\n",
    "    max_degree = max(degree for row in data['degree_distribution'] for degree in row.keys())\n",
    "\n",
    "    # Create a DataFrame for new columns\n",
    "    new_columns = pd.DataFrame({f'node_degree_{i}': 0 for i in range(1, max_degree + 1)}, index=data.index)\n",
    "\n",
    "    # Concatenate with the original DataFrame\n",
    "    data = pd.concat([data, new_columns], axis=1)\n",
    "        \n",
    "    # Function to update the degree columns for a row\n",
    "    def update_degrees(row):\n",
    "        for degree, count in row['degree_distribution'].items():\n",
    "            row[f'node_degree_{degree}'] = count\n",
    "        return row\n",
    "\n",
    "    # Apply the function to each row\n",
    "    data = data.apply(update_degrees, axis=1)\n",
    "    data = data.drop(columns=['degree_distribution'])\n",
    "    # Now we should have columns labelled node_degree_0, node_degree_1, etc. till node_degree_MAX and dropped the degree_distribution column\n",
    "\n",
    "    data['cc_average_connectivity'] = data['cc_average_connectivity'].replace([np.inf, -np.inf], 0)\n",
    "\n",
    "    # Drop rows that have NaN values in columns 'clustering coefficient', 'pixel_intensity_ratio', 'vol_cc_y', 'x_y', 'y_y', 'z_y'\n",
    "    # data = data.dropna(subset=['clustering coefficient', 'pixel_intensity_ratio', 'vol_cc_y', 'x_y', 'y_y', 'z_y'])\n",
    "\n",
    "    # data['element_pixel_intensity_488'] = data['element_pixel_intensity_488'].replace(0, 0.001)\n",
    "    # drop 0 values of 488, those rows are just bad\n",
    "    data['element_pixel_intensity_488'] = data['element_pixel_intensity_488'].replace(0, np.nan)\n",
    "    data = data.dropna(subset=['element_pixel_intensity_488'])\n",
    "    \n",
    "    data['element_pixel_intensity_405_488_ratio'] = ((np.array(data['element_pixel_intensity_405']) / np.array(data['element_pixel_intensity_488']))*1000).copy()\n",
    "    # Replace any remaining NaN's with 0\n",
    "    data.fillna(0, inplace=True)\n",
    "\n",
    "    # Train on small subset of data to see if it works first\n",
    "    sample_data = data.sample(frac=datafrac ,random_state=1049)\n",
    "    sample_data = sample_data.drop(columns=['folder_name_x'])\n",
    "    \n",
    "\n",
    "    # Split the data into training and testing sets\n",
    "    X = sample_data.drop(columns=['element_pixel_intensity_488'])\n",
    "    X = X.drop(['cc_pixel_intensity_488',\n",
    "                'cc_pixel_intensity_405',\n",
    "                'cc_x', 'x_y', 'y_y', 'z_y', 'cc_y',\n",
    "                'pixel_intensity_405',\n",
    "                'pixel_intensity_ratio',\n",
    "                # 'pixel_intensity_555',\n",
    "                'element_pixel_intensity_405',\n",
    "                'element_pixel_intensity_ratio',\n",
    "                'cc_average_connectivity',\n",
    "                # 'cc_pixel_intensity_555',\n",
    "                'cc_pixel_intensity_ratio', \n",
    "                'pixel_intensity',\n",
    "                'pixel_intensity_488'], axis=1)\n",
    "    \n",
    "    xlabels = X.columns\n",
    "    with open(\"training_feature_list_excl_angles_and_edges.txt\", \"w\") as file:\n",
    "        for thing in xlabels:\n",
    "            if \"Angle\" not in thing and \"edge\" not in thing:\n",
    "                file.write(thing + \"\\n\")\n",
    "    \n",
    "    \n",
    "    columns_with_NaN = sample_data.columns.to_series()[sample_data.apply(lambda x: np.isnan(x).any())]\n",
    "    if(len(columns_with_NaN) > 0):\n",
    "        print(columns_with_NaN.values)\n",
    "        raise Exception('Columns with NaN values found in dataset, can\\'t train model on it directly')\n",
    "    \n",
    "    non_numerical_columns = sample_data.select_dtypes(exclude=['int', 'float', 'double']).columns\n",
    "    # Print the non-numerical column names\n",
    "    if(len(non_numerical_columns) > 0):\n",
    "        print(non_numerical_columns)\n",
    "        raise Exception('Non-numerical columns found in dataset, can\\'t train model on it directly')\n",
    "    \n",
    "    # Print any columns with values like infinity\n",
    "    columns_with_infinity = sample_data.columns.to_series()[sample_data.apply(lambda x: np.isinf(x).any())]\n",
    "    if(len(columns_with_infinity) > 0):\n",
    "        print(columns_with_infinity)\n",
    "        raise Exception('Columns with infinity values found in dataset, can\\'t train model on it directly')"
   ]
  },
  {
   "cell_type": "code",
   "execution_count": 21,
   "metadata": {},
   "outputs": [
    {
     "name": "stdout",
     "output_type": "stream",
     "text": [
      "Data successfully written to ./imageNames_ratios.csv\n"
     ]
    },
    {
     "name": "stderr",
     "output_type": "stream",
     "text": [
      "/var/folders/_8/5153zj6d6w51qcltyf2wlg740000gn/T/ipykernel_4775/186198619.py:2: PerformanceWarning: DataFrame is highly fragmented.  This is usually the result of calling `frame.insert` many times, which has poor performance.  Consider joining all columns at once using pd.concat(axis=1) instead. To get a de-fragmented frame, use `newframe = frame.copy()`\n",
      "  data['file_name'] = data.apply(lambda row: f\"{row['folder_name_x']}_{row['cc_x']}.tif\", axis=1)\n"
     ]
    }
   ],
   "source": [
    "# Adding a new column for file names in the DataFrame\n",
    "data['file_name'] = data.apply(lambda row: f\"{row['folder_name_x']}_{row['cc_x']}.tif\", axis=1)\n",
    "\n",
    "# Selecting only the required columns\n",
    "output_data = data[['file_name', 'element_pixel_intensity_405_488_ratio']]\n",
    "\n",
    "# Writing the selected data to a CSV file\n",
    "output_data.to_csv(\"./imageNames_ratios.csv\", index=False)\n",
    "\n",
    "print(\"Data successfully written to ./imageNames_ratios.csv\")\n"
   ]
  },
  {
   "cell_type": "code",
   "execution_count": 8,
   "metadata": {},
   "outputs": [
    {
     "data": {
      "application/vnd.plotly.v1+json": {
       "config": {
        "plotlyServerURL": "https://plot.ly"
       },
       "data": [
        {
         "marker": {
          "color": "darkred"
         },
         "type": "bar",
         "x": [
          "PC1",
          "PC2",
          "PC3",
          "PC4",
          "PC5",
          "PC6",
          "PC7",
          "PC8",
          "PC9",
          "PC10",
          "PC11",
          "PC12",
          "PC13",
          "PC14",
          "PC15",
          "PC16",
          "PC17",
          "PC18",
          "PC19",
          "PC20",
          "PC21",
          "PC22",
          "PC23",
          "PC24",
          "PC25",
          "PC26",
          "PC27",
          "PC28",
          "PC29",
          "PC30",
          "PC31",
          "PC32",
          "PC33",
          "PC34",
          "PC35",
          "PC36",
          "PC37",
          "PC38",
          "PC39",
          "PC40",
          "PC41",
          "PC42",
          "PC43",
          "PC44",
          "PC45",
          "PC46",
          "PC47",
          "PC48",
          "PC49",
          "PC50",
          "PC51",
          "PC52",
          "PC53",
          "PC54",
          "PC55",
          "PC56",
          "PC57",
          "PC58",
          "PC59",
          "PC60",
          "PC61",
          "PC62",
          "PC63",
          "PC64",
          "PC65",
          "PC66",
          "PC67",
          "PC68",
          "PC69",
          "PC70",
          "PC71",
          "PC72",
          "PC73",
          "PC74",
          "PC75",
          "PC76",
          "PC77",
          "PC78",
          "PC79",
          "PC80",
          "PC81",
          "PC82",
          "PC83",
          "PC84",
          "PC85",
          "PC86",
          "PC87",
          "PC88",
          "PC89",
          "PC90",
          "PC91",
          "PC92",
          "PC93",
          "PC94",
          "PC95",
          "PC96",
          "PC97",
          "PC98",
          "PC99",
          "PC100",
          "PC101",
          "PC102",
          "PC103",
          "PC104",
          "PC105",
          "PC106",
          "PC107",
          "PC108",
          "PC109",
          "PC110",
          "PC111",
          "PC112",
          "PC113",
          "PC114",
          "PC115",
          "PC116",
          "PC117",
          "PC118",
          "PC119",
          "PC120",
          "PC121",
          "PC122",
          "PC123",
          "PC124",
          "PC125",
          "PC126",
          "PC127",
          "PC128",
          "PC129",
          "PC130",
          "PC131",
          "PC132",
          "PC133",
          "PC134",
          "PC135",
          "PC136",
          "PC137",
          "PC138",
          "PC139",
          "PC140",
          "PC141",
          "PC142",
          "PC143",
          "PC144",
          "PC145",
          "PC146",
          "PC147",
          "PC148",
          "PC149",
          "PC150",
          "PC151",
          "PC152",
          "PC153",
          "PC154",
          "PC155",
          "PC156",
          "PC157",
          "PC158",
          "PC159",
          "PC160",
          "PC161",
          "PC162",
          "PC163",
          "PC164",
          "PC165",
          "PC166",
          "PC167",
          "PC168",
          "PC169",
          "PC170",
          "PC171",
          "PC172",
          "PC173",
          "PC174",
          "PC175",
          "PC176",
          "PC177",
          "PC178",
          "PC179",
          "PC180",
          "PC181",
          "PC182",
          "PC183",
          "PC184",
          "PC185",
          "PC186",
          "PC187",
          "PC188",
          "PC189",
          "PC190",
          "PC191",
          "PC192",
          "PC193",
          "PC194",
          "PC195",
          "PC196",
          "PC197",
          "PC198",
          "PC199",
          "PC200",
          "PC201",
          "PC202",
          "PC203",
          "PC204",
          "PC205",
          "PC206",
          "PC207",
          "PC208",
          "PC209",
          "PC210",
          "PC211",
          "PC212",
          "PC213",
          "PC214",
          "PC215",
          "PC216",
          "PC217",
          "PC218",
          "PC219",
          "PC220",
          "PC221",
          "PC222",
          "PC223",
          "PC224",
          "PC225",
          "PC226",
          "PC227",
          "PC228",
          "PC229",
          "PC230",
          "PC231",
          "PC232",
          "PC233",
          "PC234",
          "PC235",
          "PC236",
          "PC237",
          "PC238",
          "PC239",
          "PC240",
          "PC241",
          "PC242",
          "PC243",
          "PC244",
          "PC245",
          "PC246",
          "PC247",
          "PC248",
          "PC249",
          "PC250",
          "PC251",
          "PC252",
          "PC253",
          "PC254",
          "PC255",
          "PC256"
         ],
         "y": [
          0.08921000477470123,
          0.03796375181003236,
          0.019775117444658877,
          0.014410300905690728,
          0.011857571082155927,
          0.011279361705600661,
          0.010366535406218859,
          0.010123207378530709,
          0.009974255479464051,
          0.009693377856722366,
          0.009472881097936365,
          0.00929424538579788,
          0.009175162410565641,
          0.008977425184681267,
          0.008870417053645262,
          0.008656392079896442,
          0.008478045342137887,
          0.008380951396846529,
          0.008328198783962765,
          0.008277494026458084,
          0.00811677450382548,
          0.008059187728123337,
          0.007916143304066545,
          0.007846938223937033,
          0.0077882488839449765,
          0.007621248418095659,
          0.007573492274701079,
          0.007547714613528402,
          0.00744433742367753,
          0.007404234973562664,
          0.007380491899979999,
          0.0073132089830323255,
          0.0072015501819579246,
          0.007164639225852489,
          0.007071339138232296,
          0.006992709327471922,
          0.006906606892591552,
          0.006801090009723193,
          0.006747974380884644,
          0.006712847742896518,
          0.006623793110633869,
          0.0065942299606380275,
          0.00655864604770441,
          0.006495173748904581,
          0.006439332849265079,
          0.006398861293999982,
          0.006317892898756792,
          0.006278931099397173,
          0.0062096400556672865,
          0.006156264078009858,
          0.006052961926643727,
          0.006024461275049417,
          0.005940339759889064,
          0.005889766032047123,
          0.005787465163838205,
          0.005740406840822874,
          0.005701535002643334,
          0.005622825293705281,
          0.0055708784937566905,
          0.005533835043432163,
          0.0054003814261263635,
          0.005379275662962681,
          0.005334451061816209,
          0.005268485899243637,
          0.005224540364096377,
          0.005199159532965414,
          0.005160308510140975,
          0.005131354635396957,
          0.005030063724095635,
          0.005008923205042427,
          0.004914199937798231,
          0.0048641617405565515,
          0.004834695811219937,
          0.004774227371089651,
          0.004733187253005266,
          0.004679992871939675,
          0.0046437698704258484,
          0.00457682607617197,
          0.004463195877136437,
          0.004439719304208844,
          0.0043315473567629645,
          0.0042997667554632935,
          0.004240405988894376,
          0.004193915977133533,
          0.004135864081439844,
          0.004090015378132935,
          0.004038118210238908,
          0.003910668346809006,
          0.0038696593678009886,
          0.003809574785767578,
          0.003783252373039597,
          0.003704068235815332,
          0.00363367655808689,
          0.0036078582836032687,
          0.0035673194513388697,
          0.003506307067558168,
          0.003467538195997198,
          0.003381452755184697,
          0.0033790034376908022,
          0.003257074313807537,
          0.003236659984934934,
          0.0031824916308389258,
          0.0031497382160136584,
          0.003109857010298616,
          0.003066347930621571,
          0.003031959640078536,
          0.002980834226853257,
          0.0029436656360080013,
          0.0029102269396421325,
          0.0028603008442125515,
          0.0028436446116052176,
          0.00280892686212416,
          0.00279570901831384,
          0.0027502571857702827,
          0.0027163796867384683,
          0.00265791728191596,
          0.002619262018176957,
          0.002612461896517035,
          0.0025742083216922815,
          0.0024996532486782743,
          0.002469663086331375,
          0.00244151439669798,
          0.0024324249487818516,
          0.00238314903269281,
          0.0023596027499726345,
          0.002287667725328511,
          0.0022758172190368666,
          0.002224802956842931,
          0.002203990671541391,
          0.0021923843117052644,
          0.002129749497724193,
          0.002099603319494883,
          0.0020850960252068148,
          0.0020667931427220416,
          0.0020331297853586833,
          0.0020000776708383574,
          0.001989435768789642,
          0.0019602967619074658,
          0.0019258638194681787,
          0.0018730121244138452,
          0.001847104655390773,
          0.0017883731242759938,
          0.0017802295779643707,
          0.0017509471631426223,
          0.0017184940762519215,
          0.0016658445127721137,
          0.0016544907094248563,
          0.0016281147951676363,
          0.0016020196310045673,
          0.0015779594905916089,
          0.0015677671051875061,
          0.0015379175993996724,
          0.0015336760893888545,
          0.001514330693792585,
          0.0014950132509406783,
          0.0014647935980144815,
          0.00145184000353035,
          0.0014201527312815384,
          0.001405253542869675,
          0.0013877773572759868,
          0.00135022418162488,
          0.0013346307493478642,
          0.0013096869586207377,
          0.0012919328510406917,
          0.0012852317420277207,
          0.0012671047199072083,
          0.001260155901881842,
          0.0012490841572741394,
          0.0012222646219171727,
          0.0012072564359123833,
          0.0011992434412494693,
          0.0011614527423809244,
          0.0011546666386709373,
          0.0011441889683837208,
          0.001128164237818653,
          0.0011188297805013877,
          0.001111448777797393,
          0.0010946728307676251,
          0.0010894273624444603,
          0.001069737183495788,
          0.0010480117748365113,
          0.0010395179825704798,
          0.0010118280496918708,
          0.0009935183577927061,
          0.0009800242380927676,
          0.0009773812813525038,
          0.0009723856116158393,
          0.0009504226970229591,
          0.000924307269834407,
          0.0009207567087858869,
          0.0008998872886752627,
          0.0008963193276608502,
          0.00088105697714967,
          0.0008711365437218969,
          0.0008647470783877106,
          0.0008461535132920501,
          0.0008448108277716262,
          0.0008286446811257232,
          0.0008144479504122673,
          0.0008027055304945103,
          0.0007834686074634342,
          0.0007830790269782448,
          0.0007685880804690437,
          0.0007646366094500445,
          0.000753585701811124,
          0.0007407418077426045,
          0.0007343645511260499,
          0.0007296428026756948,
          0.0007242479814272334,
          0.0007168463211036213,
          0.0007063492642717467,
          0.0006963199685507167,
          0.0006878378900607118,
          0.0006786119111006549,
          0.0006728325155709732,
          0.0006717871807772541,
          0.0006614344919272161,
          0.0006541757601453054,
          0.0006414130780783909,
          0.0006383574873843211,
          0.0006353080244419602,
          0.000626602076116185,
          0.0006174158070311751,
          0.00061358995409905,
          0.0006014854220119509,
          0.0005969284572181174,
          0.00059375356282963,
          0.0005777383526904479,
          0.0005750824109505275,
          0.0005678627850765286,
          0.0005555147629667148,
          0.0005499598818563411,
          0.0005459509770106092,
          0.000543146815123649,
          0.0005339538369702505,
          0.0005294490961897275,
          0.00052400854011143,
          0.0005204991531239576,
          0.0005108387032165408,
          0.0005073397201883986,
          0.0005050570716758776,
          0.0004920827433440811,
          0.00048542640402455574,
          0.00048268150406876936,
          0.00048002823280672845,
          0.0004730474032707236,
          0.0004708609611069647,
          0.00046532615055938225,
          0.00045976603329520786,
          0.00045481752180486624,
          0.00045338596943979385,
          0.00044704808547055595,
          0.0004433200290018073,
          0.0004378674732176894,
          0.00043235397471052633,
          0.0004215169122463753
         ]
        }
       ],
       "layout": {
        "template": {
         "data": {
          "bar": [
           {
            "error_x": {
             "color": "#2a3f5f"
            },
            "error_y": {
             "color": "#2a3f5f"
            },
            "marker": {
             "line": {
              "color": "#E5ECF6",
              "width": 0.5
             },
             "pattern": {
              "fillmode": "overlay",
              "size": 10,
              "solidity": 0.2
             }
            },
            "type": "bar"
           }
          ],
          "barpolar": [
           {
            "marker": {
             "line": {
              "color": "#E5ECF6",
              "width": 0.5
             },
             "pattern": {
              "fillmode": "overlay",
              "size": 10,
              "solidity": 0.2
             }
            },
            "type": "barpolar"
           }
          ],
          "carpet": [
           {
            "aaxis": {
             "endlinecolor": "#2a3f5f",
             "gridcolor": "white",
             "linecolor": "white",
             "minorgridcolor": "white",
             "startlinecolor": "#2a3f5f"
            },
            "baxis": {
             "endlinecolor": "#2a3f5f",
             "gridcolor": "white",
             "linecolor": "white",
             "minorgridcolor": "white",
             "startlinecolor": "#2a3f5f"
            },
            "type": "carpet"
           }
          ],
          "choropleth": [
           {
            "colorbar": {
             "outlinewidth": 0,
             "ticks": ""
            },
            "type": "choropleth"
           }
          ],
          "contour": [
           {
            "colorbar": {
             "outlinewidth": 0,
             "ticks": ""
            },
            "colorscale": [
             [
              0,
              "#0d0887"
             ],
             [
              0.1111111111111111,
              "#46039f"
             ],
             [
              0.2222222222222222,
              "#7201a8"
             ],
             [
              0.3333333333333333,
              "#9c179e"
             ],
             [
              0.4444444444444444,
              "#bd3786"
             ],
             [
              0.5555555555555556,
              "#d8576b"
             ],
             [
              0.6666666666666666,
              "#ed7953"
             ],
             [
              0.7777777777777778,
              "#fb9f3a"
             ],
             [
              0.8888888888888888,
              "#fdca26"
             ],
             [
              1,
              "#f0f921"
             ]
            ],
            "type": "contour"
           }
          ],
          "contourcarpet": [
           {
            "colorbar": {
             "outlinewidth": 0,
             "ticks": ""
            },
            "type": "contourcarpet"
           }
          ],
          "heatmap": [
           {
            "colorbar": {
             "outlinewidth": 0,
             "ticks": ""
            },
            "colorscale": [
             [
              0,
              "#0d0887"
             ],
             [
              0.1111111111111111,
              "#46039f"
             ],
             [
              0.2222222222222222,
              "#7201a8"
             ],
             [
              0.3333333333333333,
              "#9c179e"
             ],
             [
              0.4444444444444444,
              "#bd3786"
             ],
             [
              0.5555555555555556,
              "#d8576b"
             ],
             [
              0.6666666666666666,
              "#ed7953"
             ],
             [
              0.7777777777777778,
              "#fb9f3a"
             ],
             [
              0.8888888888888888,
              "#fdca26"
             ],
             [
              1,
              "#f0f921"
             ]
            ],
            "type": "heatmap"
           }
          ],
          "heatmapgl": [
           {
            "colorbar": {
             "outlinewidth": 0,
             "ticks": ""
            },
            "colorscale": [
             [
              0,
              "#0d0887"
             ],
             [
              0.1111111111111111,
              "#46039f"
             ],
             [
              0.2222222222222222,
              "#7201a8"
             ],
             [
              0.3333333333333333,
              "#9c179e"
             ],
             [
              0.4444444444444444,
              "#bd3786"
             ],
             [
              0.5555555555555556,
              "#d8576b"
             ],
             [
              0.6666666666666666,
              "#ed7953"
             ],
             [
              0.7777777777777778,
              "#fb9f3a"
             ],
             [
              0.8888888888888888,
              "#fdca26"
             ],
             [
              1,
              "#f0f921"
             ]
            ],
            "type": "heatmapgl"
           }
          ],
          "histogram": [
           {
            "marker": {
             "pattern": {
              "fillmode": "overlay",
              "size": 10,
              "solidity": 0.2
             }
            },
            "type": "histogram"
           }
          ],
          "histogram2d": [
           {
            "colorbar": {
             "outlinewidth": 0,
             "ticks": ""
            },
            "colorscale": [
             [
              0,
              "#0d0887"
             ],
             [
              0.1111111111111111,
              "#46039f"
             ],
             [
              0.2222222222222222,
              "#7201a8"
             ],
             [
              0.3333333333333333,
              "#9c179e"
             ],
             [
              0.4444444444444444,
              "#bd3786"
             ],
             [
              0.5555555555555556,
              "#d8576b"
             ],
             [
              0.6666666666666666,
              "#ed7953"
             ],
             [
              0.7777777777777778,
              "#fb9f3a"
             ],
             [
              0.8888888888888888,
              "#fdca26"
             ],
             [
              1,
              "#f0f921"
             ]
            ],
            "type": "histogram2d"
           }
          ],
          "histogram2dcontour": [
           {
            "colorbar": {
             "outlinewidth": 0,
             "ticks": ""
            },
            "colorscale": [
             [
              0,
              "#0d0887"
             ],
             [
              0.1111111111111111,
              "#46039f"
             ],
             [
              0.2222222222222222,
              "#7201a8"
             ],
             [
              0.3333333333333333,
              "#9c179e"
             ],
             [
              0.4444444444444444,
              "#bd3786"
             ],
             [
              0.5555555555555556,
              "#d8576b"
             ],
             [
              0.6666666666666666,
              "#ed7953"
             ],
             [
              0.7777777777777778,
              "#fb9f3a"
             ],
             [
              0.8888888888888888,
              "#fdca26"
             ],
             [
              1,
              "#f0f921"
             ]
            ],
            "type": "histogram2dcontour"
           }
          ],
          "mesh3d": [
           {
            "colorbar": {
             "outlinewidth": 0,
             "ticks": ""
            },
            "type": "mesh3d"
           }
          ],
          "parcoords": [
           {
            "line": {
             "colorbar": {
              "outlinewidth": 0,
              "ticks": ""
             }
            },
            "type": "parcoords"
           }
          ],
          "pie": [
           {
            "automargin": true,
            "type": "pie"
           }
          ],
          "scatter": [
           {
            "fillpattern": {
             "fillmode": "overlay",
             "size": 10,
             "solidity": 0.2
            },
            "type": "scatter"
           }
          ],
          "scatter3d": [
           {
            "line": {
             "colorbar": {
              "outlinewidth": 0,
              "ticks": ""
             }
            },
            "marker": {
             "colorbar": {
              "outlinewidth": 0,
              "ticks": ""
             }
            },
            "type": "scatter3d"
           }
          ],
          "scattercarpet": [
           {
            "marker": {
             "colorbar": {
              "outlinewidth": 0,
              "ticks": ""
             }
            },
            "type": "scattercarpet"
           }
          ],
          "scattergeo": [
           {
            "marker": {
             "colorbar": {
              "outlinewidth": 0,
              "ticks": ""
             }
            },
            "type": "scattergeo"
           }
          ],
          "scattergl": [
           {
            "marker": {
             "colorbar": {
              "outlinewidth": 0,
              "ticks": ""
             }
            },
            "type": "scattergl"
           }
          ],
          "scattermapbox": [
           {
            "marker": {
             "colorbar": {
              "outlinewidth": 0,
              "ticks": ""
             }
            },
            "type": "scattermapbox"
           }
          ],
          "scatterpolar": [
           {
            "marker": {
             "colorbar": {
              "outlinewidth": 0,
              "ticks": ""
             }
            },
            "type": "scatterpolar"
           }
          ],
          "scatterpolargl": [
           {
            "marker": {
             "colorbar": {
              "outlinewidth": 0,
              "ticks": ""
             }
            },
            "type": "scatterpolargl"
           }
          ],
          "scatterternary": [
           {
            "marker": {
             "colorbar": {
              "outlinewidth": 0,
              "ticks": ""
             }
            },
            "type": "scatterternary"
           }
          ],
          "surface": [
           {
            "colorbar": {
             "outlinewidth": 0,
             "ticks": ""
            },
            "colorscale": [
             [
              0,
              "#0d0887"
             ],
             [
              0.1111111111111111,
              "#46039f"
             ],
             [
              0.2222222222222222,
              "#7201a8"
             ],
             [
              0.3333333333333333,
              "#9c179e"
             ],
             [
              0.4444444444444444,
              "#bd3786"
             ],
             [
              0.5555555555555556,
              "#d8576b"
             ],
             [
              0.6666666666666666,
              "#ed7953"
             ],
             [
              0.7777777777777778,
              "#fb9f3a"
             ],
             [
              0.8888888888888888,
              "#fdca26"
             ],
             [
              1,
              "#f0f921"
             ]
            ],
            "type": "surface"
           }
          ],
          "table": [
           {
            "cells": {
             "fill": {
              "color": "#EBF0F8"
             },
             "line": {
              "color": "white"
             }
            },
            "header": {
             "fill": {
              "color": "#C8D4E3"
             },
             "line": {
              "color": "white"
             }
            },
            "type": "table"
           }
          ]
         },
         "layout": {
          "annotationdefaults": {
           "arrowcolor": "#2a3f5f",
           "arrowhead": 0,
           "arrowwidth": 1
          },
          "autotypenumbers": "strict",
          "coloraxis": {
           "colorbar": {
            "outlinewidth": 0,
            "ticks": ""
           }
          },
          "colorscale": {
           "diverging": [
            [
             0,
             "#8e0152"
            ],
            [
             0.1,
             "#c51b7d"
            ],
            [
             0.2,
             "#de77ae"
            ],
            [
             0.3,
             "#f1b6da"
            ],
            [
             0.4,
             "#fde0ef"
            ],
            [
             0.5,
             "#f7f7f7"
            ],
            [
             0.6,
             "#e6f5d0"
            ],
            [
             0.7,
             "#b8e186"
            ],
            [
             0.8,
             "#7fbc41"
            ],
            [
             0.9,
             "#4d9221"
            ],
            [
             1,
             "#276419"
            ]
           ],
           "sequential": [
            [
             0,
             "#0d0887"
            ],
            [
             0.1111111111111111,
             "#46039f"
            ],
            [
             0.2222222222222222,
             "#7201a8"
            ],
            [
             0.3333333333333333,
             "#9c179e"
            ],
            [
             0.4444444444444444,
             "#bd3786"
            ],
            [
             0.5555555555555556,
             "#d8576b"
            ],
            [
             0.6666666666666666,
             "#ed7953"
            ],
            [
             0.7777777777777778,
             "#fb9f3a"
            ],
            [
             0.8888888888888888,
             "#fdca26"
            ],
            [
             1,
             "#f0f921"
            ]
           ],
           "sequentialminus": [
            [
             0,
             "#0d0887"
            ],
            [
             0.1111111111111111,
             "#46039f"
            ],
            [
             0.2222222222222222,
             "#7201a8"
            ],
            [
             0.3333333333333333,
             "#9c179e"
            ],
            [
             0.4444444444444444,
             "#bd3786"
            ],
            [
             0.5555555555555556,
             "#d8576b"
            ],
            [
             0.6666666666666666,
             "#ed7953"
            ],
            [
             0.7777777777777778,
             "#fb9f3a"
            ],
            [
             0.8888888888888888,
             "#fdca26"
            ],
            [
             1,
             "#f0f921"
            ]
           ]
          },
          "colorway": [
           "#636efa",
           "#EF553B",
           "#00cc96",
           "#ab63fa",
           "#FFA15A",
           "#19d3f3",
           "#FF6692",
           "#B6E880",
           "#FF97FF",
           "#FECB52"
          ],
          "font": {
           "color": "#2a3f5f"
          },
          "geo": {
           "bgcolor": "white",
           "lakecolor": "white",
           "landcolor": "#E5ECF6",
           "showlakes": true,
           "showland": true,
           "subunitcolor": "white"
          },
          "hoverlabel": {
           "align": "left"
          },
          "hovermode": "closest",
          "mapbox": {
           "style": "light"
          },
          "paper_bgcolor": "white",
          "plot_bgcolor": "#E5ECF6",
          "polar": {
           "angularaxis": {
            "gridcolor": "white",
            "linecolor": "white",
            "ticks": ""
           },
           "bgcolor": "#E5ECF6",
           "radialaxis": {
            "gridcolor": "white",
            "linecolor": "white",
            "ticks": ""
           }
          },
          "scene": {
           "xaxis": {
            "backgroundcolor": "#E5ECF6",
            "gridcolor": "white",
            "gridwidth": 2,
            "linecolor": "white",
            "showbackground": true,
            "ticks": "",
            "zerolinecolor": "white"
           },
           "yaxis": {
            "backgroundcolor": "#E5ECF6",
            "gridcolor": "white",
            "gridwidth": 2,
            "linecolor": "white",
            "showbackground": true,
            "ticks": "",
            "zerolinecolor": "white"
           },
           "zaxis": {
            "backgroundcolor": "#E5ECF6",
            "gridcolor": "white",
            "gridwidth": 2,
            "linecolor": "white",
            "showbackground": true,
            "ticks": "",
            "zerolinecolor": "white"
           }
          },
          "shapedefaults": {
           "line": {
            "color": "#2a3f5f"
           }
          },
          "ternary": {
           "aaxis": {
            "gridcolor": "white",
            "linecolor": "white",
            "ticks": ""
           },
           "baxis": {
            "gridcolor": "white",
            "linecolor": "white",
            "ticks": ""
           },
           "bgcolor": "#E5ECF6",
           "caxis": {
            "gridcolor": "white",
            "linecolor": "white",
            "ticks": ""
           }
          },
          "title": {
           "x": 0.05
          },
          "xaxis": {
           "automargin": true,
           "gridcolor": "white",
           "linecolor": "white",
           "ticks": "",
           "title": {
            "standoff": 15
           },
           "zerolinecolor": "white",
           "zerolinewidth": 2
          },
          "yaxis": {
           "automargin": true,
           "gridcolor": "white",
           "linecolor": "white",
           "ticks": "",
           "title": {
            "standoff": 15
           },
           "zerolinecolor": "white",
           "zerolinewidth": 2
          }
         }
        },
        "title": {
         "text": "Explained Variance by Each Principal Component"
        },
        "xaxis": {
         "title": {
          "text": "Principal Components"
         }
        },
        "yaxis": {
         "title": {
          "text": "Explained Variance Ratio"
         }
        }
       }
      }
     },
     "metadata": {},
     "output_type": "display_data"
    },
    {
     "data": {
      "application/vnd.plotly.v1+json": {
       "config": {
        "plotlyServerURL": "https://plot.ly"
       },
       "data": [
        {
         "marker": {
          "color": "darkred"
         },
         "type": "scatter",
         "x": [
          "PC1",
          "PC2",
          "PC3",
          "PC4",
          "PC5",
          "PC6",
          "PC7",
          "PC8",
          "PC9",
          "PC10",
          "PC11",
          "PC12",
          "PC13",
          "PC14",
          "PC15",
          "PC16",
          "PC17",
          "PC18",
          "PC19",
          "PC20",
          "PC21",
          "PC22",
          "PC23",
          "PC24",
          "PC25",
          "PC26",
          "PC27",
          "PC28",
          "PC29",
          "PC30",
          "PC31",
          "PC32",
          "PC33",
          "PC34",
          "PC35",
          "PC36",
          "PC37",
          "PC38",
          "PC39",
          "PC40",
          "PC41",
          "PC42",
          "PC43",
          "PC44",
          "PC45",
          "PC46",
          "PC47",
          "PC48",
          "PC49",
          "PC50",
          "PC51",
          "PC52",
          "PC53",
          "PC54",
          "PC55",
          "PC56",
          "PC57",
          "PC58",
          "PC59",
          "PC60",
          "PC61",
          "PC62",
          "PC63",
          "PC64",
          "PC65",
          "PC66",
          "PC67",
          "PC68",
          "PC69",
          "PC70",
          "PC71",
          "PC72",
          "PC73",
          "PC74",
          "PC75",
          "PC76",
          "PC77",
          "PC78",
          "PC79",
          "PC80",
          "PC81",
          "PC82",
          "PC83",
          "PC84",
          "PC85",
          "PC86",
          "PC87",
          "PC88",
          "PC89",
          "PC90",
          "PC91",
          "PC92",
          "PC93",
          "PC94",
          "PC95",
          "PC96",
          "PC97",
          "PC98",
          "PC99",
          "PC100",
          "PC101",
          "PC102",
          "PC103",
          "PC104",
          "PC105",
          "PC106",
          "PC107",
          "PC108",
          "PC109",
          "PC110",
          "PC111",
          "PC112",
          "PC113",
          "PC114",
          "PC115",
          "PC116",
          "PC117",
          "PC118",
          "PC119",
          "PC120",
          "PC121",
          "PC122",
          "PC123",
          "PC124",
          "PC125",
          "PC126",
          "PC127",
          "PC128",
          "PC129",
          "PC130",
          "PC131",
          "PC132",
          "PC133",
          "PC134",
          "PC135",
          "PC136",
          "PC137",
          "PC138",
          "PC139",
          "PC140",
          "PC141",
          "PC142",
          "PC143",
          "PC144",
          "PC145",
          "PC146",
          "PC147",
          "PC148",
          "PC149",
          "PC150",
          "PC151",
          "PC152",
          "PC153",
          "PC154",
          "PC155",
          "PC156",
          "PC157",
          "PC158",
          "PC159",
          "PC160",
          "PC161",
          "PC162",
          "PC163",
          "PC164",
          "PC165",
          "PC166",
          "PC167",
          "PC168",
          "PC169",
          "PC170",
          "PC171",
          "PC172",
          "PC173",
          "PC174",
          "PC175",
          "PC176",
          "PC177",
          "PC178",
          "PC179",
          "PC180",
          "PC181",
          "PC182",
          "PC183",
          "PC184",
          "PC185",
          "PC186",
          "PC187",
          "PC188",
          "PC189",
          "PC190",
          "PC191",
          "PC192",
          "PC193",
          "PC194",
          "PC195",
          "PC196",
          "PC197",
          "PC198",
          "PC199",
          "PC200",
          "PC201",
          "PC202",
          "PC203",
          "PC204",
          "PC205",
          "PC206",
          "PC207",
          "PC208",
          "PC209",
          "PC210",
          "PC211",
          "PC212",
          "PC213",
          "PC214",
          "PC215",
          "PC216",
          "PC217",
          "PC218",
          "PC219",
          "PC220",
          "PC221",
          "PC222",
          "PC223",
          "PC224",
          "PC225",
          "PC226",
          "PC227",
          "PC228",
          "PC229",
          "PC230",
          "PC231",
          "PC232",
          "PC233",
          "PC234",
          "PC235",
          "PC236",
          "PC237",
          "PC238",
          "PC239",
          "PC240",
          "PC241",
          "PC242",
          "PC243",
          "PC244",
          "PC245",
          "PC246",
          "PC247",
          "PC248",
          "PC249",
          "PC250",
          "PC251",
          "PC252",
          "PC253",
          "PC254",
          "PC255",
          "PC256"
         ],
         "y": [
          0.08921000477470123,
          0.1271737565847336,
          0.14694887402939247,
          0.1613591749350832,
          0.17321674601723913,
          0.18449610772283978,
          0.19486264312905863,
          0.20498585050758933,
          0.21496010598705337,
          0.22465348384377573,
          0.2341263649417121,
          0.24342061032750997,
          0.2525957727380756,
          0.26157319792275685,
          0.2704436149764021,
          0.27910000705629856,
          0.2875780523984364,
          0.29595900379528295,
          0.3042872025792457,
          0.3125646966057038,
          0.32068147110952927,
          0.32874065883765263,
          0.33665680214171917,
          0.34450374036565623,
          0.3522919892496012,
          0.35991323766769684,
          0.3674867299423979,
          0.37503444455592627,
          0.3824787819796038,
          0.38988301695316646,
          0.3972635088531465,
          0.4045767178361788,
          0.4117782680181368,
          0.41894290724398925,
          0.4260142463822215,
          0.43300695570969344,
          0.439913562602285,
          0.44671465261200816,
          0.4534626269928928,
          0.46017547473578935,
          0.4667992678464232,
          0.47339349780706125,
          0.47995214385476564,
          0.4864473176036702,
          0.4928866504529353,
          0.49928551174693525,
          0.5056034046456921,
          0.5118823357450892,
          0.5180919758007565,
          0.5242482398787663,
          0.5303012018054101,
          0.5363256630804595,
          0.5422660028403485,
          0.5481557688723957,
          0.5539432340362339,
          0.5596836408770568,
          0.5653851758797002,
          0.5710080011734054,
          0.5765788796671621,
          0.5821127147105943,
          0.5875130961367206,
          0.5928923717996833,
          0.5982268228614995,
          0.6034953087607432,
          0.6087198491248396,
          0.613919008657805,
          0.619079317167946,
          0.6242106718033429,
          0.6292407355274385,
          0.634249658732481,
          0.6391638586702791,
          0.6440280204108357,
          0.6488627162220557,
          0.6536369435931454,
          0.6583701308461507,
          0.6630501237180904,
          0.6676938935885162,
          0.6722707196646881,
          0.6767339155418245,
          0.6811736348460333,
          0.6855051822027963,
          0.6898049489582596,
          0.694045354947154,
          0.6982392709242875,
          0.7023751350057273,
          0.7064651503838603,
          0.7105032685940992,
          0.7144139369409082,
          0.7182835963087092,
          0.7220931710944768,
          0.7258764234675164,
          0.7295804917033317,
          0.7332141682614186,
          0.7368220265450218,
          0.7403893459963607,
          0.7438956530639189,
          0.7473631912599161,
          0.7507446440151008,
          0.7541236474527916,
          0.7573807217665991,
          0.760617381751534,
          0.763799873382373,
          0.7669496115983866,
          0.7700594686086852,
          0.7731258165393068,
          0.7761577761793853,
          0.7791386104062386,
          0.7820822760422466,
          0.7849925029818887,
          0.7878528038261012,
          0.7906964484377065,
          0.7935053752998307,
          0.7963010843181445,
          0.7990513415039148,
          0.8017677211906532,
          0.8044256384725692,
          0.8070449004907462,
          0.8096573623872632,
          0.8122315707089555,
          0.8147312239576338,
          0.8172008870439651,
          0.819642401440663,
          0.8220748263894448,
          0.8244579754221376,
          0.8268175781721102,
          0.8291052458974387,
          0.8313810631164756,
          0.8336058660733185,
          0.83580985674486,
          0.8380022410565653,
          0.8401319905542894,
          0.8422315938737843,
          0.8443166898989911,
          0.8463834830417132,
          0.8484166128270718,
          0.8504166904979101,
          0.8524061262666998,
          0.8543664230286072,
          0.8562922868480753,
          0.8581652989724892,
          0.8600124036278799,
          0.8618007767521559,
          0.8635810063301204,
          0.865331953493263,
          0.8670504475695149,
          0.868716292082287,
          0.8703707827917118,
          0.8719988975868794,
          0.873600917217884,
          0.8751788767084756,
          0.8767466438136631,
          0.8782845614130628,
          0.8798182375024516,
          0.8813325681962442,
          0.8828275814471849,
          0.8842923750451993,
          0.8857442150487297,
          0.8871643677800112,
          0.8885696213228809,
          0.8899573986801569,
          0.8913076228617818,
          0.8926422536111296,
          0.8939519405697504,
          0.895243873420791,
          0.8965291051628188,
          0.897796209882726,
          0.8990563657846079,
          0.900305449941882,
          0.9015277145637992,
          0.9027349709997116,
          0.903934214440961,
          0.9050956671833419,
          0.9062503338220128,
          0.9073945227903966,
          0.9085226870282153,
          0.9096415168087166,
          0.910752965586514,
          0.9118476384172816,
          0.912937065779726,
          0.9140068029632218,
          0.9150548147380583,
          0.9160943327206288,
          0.9171061607703207,
          0.9180996791281134,
          0.9190797033662061,
          0.9200570846475586,
          0.9210294702591745,
          0.9219798929561974,
          0.9229042002260318,
          0.9238249569348177,
          0.924724844223493,
          0.9256211635511539,
          0.9265022205283036,
          0.9273733570720255,
          0.9282381041504132,
          0.9290842576637053,
          0.9299290684914769,
          0.9307577131726027,
          0.931572161123015,
          0.9323748666535095,
          0.933158335260973,
          0.9339414142879513,
          0.9347100023684204,
          0.9354746389778704,
          0.9362282246796816,
          0.9369689664874242,
          0.9377033310385503,
          0.938432973841226,
          0.9391572218226533,
          0.9398740681437568,
          0.9405804174080286,
          0.9412767373765792,
          0.9419645752666399,
          0.9426431871777405,
          0.9433160196933115,
          0.9439878068740887,
          0.9446492413660159,
          0.9453034171261612,
          0.9459448302042396,
          0.9465831876916239,
          0.9472184957160659,
          0.9478450977921821,
          0.9484625135992133,
          0.9490761035533124,
          0.9496775889753244,
          0.9502745174325425,
          0.9508682709953722,
          0.9514460093480627,
          0.9520210917590132,
          0.9525889545440896,
          0.9531444693070563,
          0.9536944291889127,
          0.9542403801659233,
          0.954783526981047,
          0.9553174808180173,
          0.9558469299142069,
          0.9563709384543184,
          0.9568914376074423,
          0.9574022763106589,
          0.9579096160308472,
          0.9584146731025232,
          0.9589067558458673,
          0.9593921822498919,
          0.9598748637539606,
          0.9603548919867673,
          0.960827939390038,
          0.9612988003511449,
          0.9617641265017043,
          0.9622238925349995,
          0.9626787100568044,
          0.9631320960262442,
          0.9635791441117147,
          0.9640224641407166,
          0.9644603316139343,
          0.9648926855886448,
          0.9653142025008912
         ]
        }
       ],
       "layout": {
        "template": {
         "data": {
          "bar": [
           {
            "error_x": {
             "color": "#2a3f5f"
            },
            "error_y": {
             "color": "#2a3f5f"
            },
            "marker": {
             "line": {
              "color": "#E5ECF6",
              "width": 0.5
             },
             "pattern": {
              "fillmode": "overlay",
              "size": 10,
              "solidity": 0.2
             }
            },
            "type": "bar"
           }
          ],
          "barpolar": [
           {
            "marker": {
             "line": {
              "color": "#E5ECF6",
              "width": 0.5
             },
             "pattern": {
              "fillmode": "overlay",
              "size": 10,
              "solidity": 0.2
             }
            },
            "type": "barpolar"
           }
          ],
          "carpet": [
           {
            "aaxis": {
             "endlinecolor": "#2a3f5f",
             "gridcolor": "white",
             "linecolor": "white",
             "minorgridcolor": "white",
             "startlinecolor": "#2a3f5f"
            },
            "baxis": {
             "endlinecolor": "#2a3f5f",
             "gridcolor": "white",
             "linecolor": "white",
             "minorgridcolor": "white",
             "startlinecolor": "#2a3f5f"
            },
            "type": "carpet"
           }
          ],
          "choropleth": [
           {
            "colorbar": {
             "outlinewidth": 0,
             "ticks": ""
            },
            "type": "choropleth"
           }
          ],
          "contour": [
           {
            "colorbar": {
             "outlinewidth": 0,
             "ticks": ""
            },
            "colorscale": [
             [
              0,
              "#0d0887"
             ],
             [
              0.1111111111111111,
              "#46039f"
             ],
             [
              0.2222222222222222,
              "#7201a8"
             ],
             [
              0.3333333333333333,
              "#9c179e"
             ],
             [
              0.4444444444444444,
              "#bd3786"
             ],
             [
              0.5555555555555556,
              "#d8576b"
             ],
             [
              0.6666666666666666,
              "#ed7953"
             ],
             [
              0.7777777777777778,
              "#fb9f3a"
             ],
             [
              0.8888888888888888,
              "#fdca26"
             ],
             [
              1,
              "#f0f921"
             ]
            ],
            "type": "contour"
           }
          ],
          "contourcarpet": [
           {
            "colorbar": {
             "outlinewidth": 0,
             "ticks": ""
            },
            "type": "contourcarpet"
           }
          ],
          "heatmap": [
           {
            "colorbar": {
             "outlinewidth": 0,
             "ticks": ""
            },
            "colorscale": [
             [
              0,
              "#0d0887"
             ],
             [
              0.1111111111111111,
              "#46039f"
             ],
             [
              0.2222222222222222,
              "#7201a8"
             ],
             [
              0.3333333333333333,
              "#9c179e"
             ],
             [
              0.4444444444444444,
              "#bd3786"
             ],
             [
              0.5555555555555556,
              "#d8576b"
             ],
             [
              0.6666666666666666,
              "#ed7953"
             ],
             [
              0.7777777777777778,
              "#fb9f3a"
             ],
             [
              0.8888888888888888,
              "#fdca26"
             ],
             [
              1,
              "#f0f921"
             ]
            ],
            "type": "heatmap"
           }
          ],
          "heatmapgl": [
           {
            "colorbar": {
             "outlinewidth": 0,
             "ticks": ""
            },
            "colorscale": [
             [
              0,
              "#0d0887"
             ],
             [
              0.1111111111111111,
              "#46039f"
             ],
             [
              0.2222222222222222,
              "#7201a8"
             ],
             [
              0.3333333333333333,
              "#9c179e"
             ],
             [
              0.4444444444444444,
              "#bd3786"
             ],
             [
              0.5555555555555556,
              "#d8576b"
             ],
             [
              0.6666666666666666,
              "#ed7953"
             ],
             [
              0.7777777777777778,
              "#fb9f3a"
             ],
             [
              0.8888888888888888,
              "#fdca26"
             ],
             [
              1,
              "#f0f921"
             ]
            ],
            "type": "heatmapgl"
           }
          ],
          "histogram": [
           {
            "marker": {
             "pattern": {
              "fillmode": "overlay",
              "size": 10,
              "solidity": 0.2
             }
            },
            "type": "histogram"
           }
          ],
          "histogram2d": [
           {
            "colorbar": {
             "outlinewidth": 0,
             "ticks": ""
            },
            "colorscale": [
             [
              0,
              "#0d0887"
             ],
             [
              0.1111111111111111,
              "#46039f"
             ],
             [
              0.2222222222222222,
              "#7201a8"
             ],
             [
              0.3333333333333333,
              "#9c179e"
             ],
             [
              0.4444444444444444,
              "#bd3786"
             ],
             [
              0.5555555555555556,
              "#d8576b"
             ],
             [
              0.6666666666666666,
              "#ed7953"
             ],
             [
              0.7777777777777778,
              "#fb9f3a"
             ],
             [
              0.8888888888888888,
              "#fdca26"
             ],
             [
              1,
              "#f0f921"
             ]
            ],
            "type": "histogram2d"
           }
          ],
          "histogram2dcontour": [
           {
            "colorbar": {
             "outlinewidth": 0,
             "ticks": ""
            },
            "colorscale": [
             [
              0,
              "#0d0887"
             ],
             [
              0.1111111111111111,
              "#46039f"
             ],
             [
              0.2222222222222222,
              "#7201a8"
             ],
             [
              0.3333333333333333,
              "#9c179e"
             ],
             [
              0.4444444444444444,
              "#bd3786"
             ],
             [
              0.5555555555555556,
              "#d8576b"
             ],
             [
              0.6666666666666666,
              "#ed7953"
             ],
             [
              0.7777777777777778,
              "#fb9f3a"
             ],
             [
              0.8888888888888888,
              "#fdca26"
             ],
             [
              1,
              "#f0f921"
             ]
            ],
            "type": "histogram2dcontour"
           }
          ],
          "mesh3d": [
           {
            "colorbar": {
             "outlinewidth": 0,
             "ticks": ""
            },
            "type": "mesh3d"
           }
          ],
          "parcoords": [
           {
            "line": {
             "colorbar": {
              "outlinewidth": 0,
              "ticks": ""
             }
            },
            "type": "parcoords"
           }
          ],
          "pie": [
           {
            "automargin": true,
            "type": "pie"
           }
          ],
          "scatter": [
           {
            "fillpattern": {
             "fillmode": "overlay",
             "size": 10,
             "solidity": 0.2
            },
            "type": "scatter"
           }
          ],
          "scatter3d": [
           {
            "line": {
             "colorbar": {
              "outlinewidth": 0,
              "ticks": ""
             }
            },
            "marker": {
             "colorbar": {
              "outlinewidth": 0,
              "ticks": ""
             }
            },
            "type": "scatter3d"
           }
          ],
          "scattercarpet": [
           {
            "marker": {
             "colorbar": {
              "outlinewidth": 0,
              "ticks": ""
             }
            },
            "type": "scattercarpet"
           }
          ],
          "scattergeo": [
           {
            "marker": {
             "colorbar": {
              "outlinewidth": 0,
              "ticks": ""
             }
            },
            "type": "scattergeo"
           }
          ],
          "scattergl": [
           {
            "marker": {
             "colorbar": {
              "outlinewidth": 0,
              "ticks": ""
             }
            },
            "type": "scattergl"
           }
          ],
          "scattermapbox": [
           {
            "marker": {
             "colorbar": {
              "outlinewidth": 0,
              "ticks": ""
             }
            },
            "type": "scattermapbox"
           }
          ],
          "scatterpolar": [
           {
            "marker": {
             "colorbar": {
              "outlinewidth": 0,
              "ticks": ""
             }
            },
            "type": "scatterpolar"
           }
          ],
          "scatterpolargl": [
           {
            "marker": {
             "colorbar": {
              "outlinewidth": 0,
              "ticks": ""
             }
            },
            "type": "scatterpolargl"
           }
          ],
          "scatterternary": [
           {
            "marker": {
             "colorbar": {
              "outlinewidth": 0,
              "ticks": ""
             }
            },
            "type": "scatterternary"
           }
          ],
          "surface": [
           {
            "colorbar": {
             "outlinewidth": 0,
             "ticks": ""
            },
            "colorscale": [
             [
              0,
              "#0d0887"
             ],
             [
              0.1111111111111111,
              "#46039f"
             ],
             [
              0.2222222222222222,
              "#7201a8"
             ],
             [
              0.3333333333333333,
              "#9c179e"
             ],
             [
              0.4444444444444444,
              "#bd3786"
             ],
             [
              0.5555555555555556,
              "#d8576b"
             ],
             [
              0.6666666666666666,
              "#ed7953"
             ],
             [
              0.7777777777777778,
              "#fb9f3a"
             ],
             [
              0.8888888888888888,
              "#fdca26"
             ],
             [
              1,
              "#f0f921"
             ]
            ],
            "type": "surface"
           }
          ],
          "table": [
           {
            "cells": {
             "fill": {
              "color": "#EBF0F8"
             },
             "line": {
              "color": "white"
             }
            },
            "header": {
             "fill": {
              "color": "#C8D4E3"
             },
             "line": {
              "color": "white"
             }
            },
            "type": "table"
           }
          ]
         },
         "layout": {
          "annotationdefaults": {
           "arrowcolor": "#2a3f5f",
           "arrowhead": 0,
           "arrowwidth": 1
          },
          "autotypenumbers": "strict",
          "coloraxis": {
           "colorbar": {
            "outlinewidth": 0,
            "ticks": ""
           }
          },
          "colorscale": {
           "diverging": [
            [
             0,
             "#8e0152"
            ],
            [
             0.1,
             "#c51b7d"
            ],
            [
             0.2,
             "#de77ae"
            ],
            [
             0.3,
             "#f1b6da"
            ],
            [
             0.4,
             "#fde0ef"
            ],
            [
             0.5,
             "#f7f7f7"
            ],
            [
             0.6,
             "#e6f5d0"
            ],
            [
             0.7,
             "#b8e186"
            ],
            [
             0.8,
             "#7fbc41"
            ],
            [
             0.9,
             "#4d9221"
            ],
            [
             1,
             "#276419"
            ]
           ],
           "sequential": [
            [
             0,
             "#0d0887"
            ],
            [
             0.1111111111111111,
             "#46039f"
            ],
            [
             0.2222222222222222,
             "#7201a8"
            ],
            [
             0.3333333333333333,
             "#9c179e"
            ],
            [
             0.4444444444444444,
             "#bd3786"
            ],
            [
             0.5555555555555556,
             "#d8576b"
            ],
            [
             0.6666666666666666,
             "#ed7953"
            ],
            [
             0.7777777777777778,
             "#fb9f3a"
            ],
            [
             0.8888888888888888,
             "#fdca26"
            ],
            [
             1,
             "#f0f921"
            ]
           ],
           "sequentialminus": [
            [
             0,
             "#0d0887"
            ],
            [
             0.1111111111111111,
             "#46039f"
            ],
            [
             0.2222222222222222,
             "#7201a8"
            ],
            [
             0.3333333333333333,
             "#9c179e"
            ],
            [
             0.4444444444444444,
             "#bd3786"
            ],
            [
             0.5555555555555556,
             "#d8576b"
            ],
            [
             0.6666666666666666,
             "#ed7953"
            ],
            [
             0.7777777777777778,
             "#fb9f3a"
            ],
            [
             0.8888888888888888,
             "#fdca26"
            ],
            [
             1,
             "#f0f921"
            ]
           ]
          },
          "colorway": [
           "#636efa",
           "#EF553B",
           "#00cc96",
           "#ab63fa",
           "#FFA15A",
           "#19d3f3",
           "#FF6692",
           "#B6E880",
           "#FF97FF",
           "#FECB52"
          ],
          "font": {
           "color": "#2a3f5f"
          },
          "geo": {
           "bgcolor": "white",
           "lakecolor": "white",
           "landcolor": "#E5ECF6",
           "showlakes": true,
           "showland": true,
           "subunitcolor": "white"
          },
          "hoverlabel": {
           "align": "left"
          },
          "hovermode": "closest",
          "mapbox": {
           "style": "light"
          },
          "paper_bgcolor": "white",
          "plot_bgcolor": "#E5ECF6",
          "polar": {
           "angularaxis": {
            "gridcolor": "white",
            "linecolor": "white",
            "ticks": ""
           },
           "bgcolor": "#E5ECF6",
           "radialaxis": {
            "gridcolor": "white",
            "linecolor": "white",
            "ticks": ""
           }
          },
          "scene": {
           "xaxis": {
            "backgroundcolor": "#E5ECF6",
            "gridcolor": "white",
            "gridwidth": 2,
            "linecolor": "white",
            "showbackground": true,
            "ticks": "",
            "zerolinecolor": "white"
           },
           "yaxis": {
            "backgroundcolor": "#E5ECF6",
            "gridcolor": "white",
            "gridwidth": 2,
            "linecolor": "white",
            "showbackground": true,
            "ticks": "",
            "zerolinecolor": "white"
           },
           "zaxis": {
            "backgroundcolor": "#E5ECF6",
            "gridcolor": "white",
            "gridwidth": 2,
            "linecolor": "white",
            "showbackground": true,
            "ticks": "",
            "zerolinecolor": "white"
           }
          },
          "shapedefaults": {
           "line": {
            "color": "#2a3f5f"
           }
          },
          "ternary": {
           "aaxis": {
            "gridcolor": "white",
            "linecolor": "white",
            "ticks": ""
           },
           "baxis": {
            "gridcolor": "white",
            "linecolor": "white",
            "ticks": ""
           },
           "bgcolor": "#E5ECF6",
           "caxis": {
            "gridcolor": "white",
            "linecolor": "white",
            "ticks": ""
           }
          },
          "title": {
           "x": 0.05
          },
          "xaxis": {
           "automargin": true,
           "gridcolor": "white",
           "linecolor": "white",
           "ticks": "",
           "title": {
            "standoff": 15
           },
           "zerolinecolor": "white",
           "zerolinewidth": 2
          },
          "yaxis": {
           "automargin": true,
           "gridcolor": "white",
           "linecolor": "white",
           "ticks": "",
           "title": {
            "standoff": 15
           },
           "zerolinecolor": "white",
           "zerolinewidth": 2
          }
         }
        },
        "title": {
         "text": "Cumulative Explained Variance by Principal Components"
        },
        "xaxis": {
         "title": {
          "text": "Principal Components"
         }
        },
        "yaxis": {
         "title": {
          "text": "Cumulative Explained Variance Ratio"
         }
        }
       }
      }
     },
     "metadata": {},
     "output_type": "display_data"
    },
    {
     "name": "stdout",
     "output_type": "stream",
     "text": [
      "Total explained variance by the first 256 principal components: 0.97\n"
     ]
    },
    {
     "data": {
      "application/vnd.plotly.v1+json": {
       "config": {
        "plotlyServerURL": "https://plot.ly"
       },
       "data": [
        {
         "marker": {
          "color": "darkblue"
         },
         "type": "bar",
         "x": [
          "edges",
          "nodes",
          "node_degree_10",
          "cc_length_(um)",
          "node_degree_9",
          "node_degree_8",
          "node_degree_3",
          "vol_cc_y",
          "cc_vol_from_img_(um3)",
          "branches",
          "node_degree_1",
          "order",
          "pathLength",
          "x_x",
          "x_pixel",
          "center_x",
          "node_degree_11",
          "cc_center_x",
          "node_degree_4",
          "node_degree_7",
          "center_y",
          "y_x",
          "cc_center_y",
          "node_degree_5",
          "z_x",
          "z_pixel",
          "center_z",
          "node_degree_6",
          "cc_center_z",
          "element_connectivity_y",
          "element_Volume_Voxel",
          "element_length_(um)",
          "cc_average_degree_excludeFreeEnds",
          "avg_PK_Of_element_y",
          "distance_to_center",
          "matching_index",
          "point_id",
          "density",
          "cc_max_PK",
          "node_degree_0",
          "pixel_intensity_555",
          "cc_pixel_intensity_555",
          "element_average_width",
          "line_id",
          "node_y",
          "diameter",
          "node_degree_2",
          "width_(um)",
          "clustering coefficient",
          "degree_y",
          "y_pixel",
          "Angle_Flag",
          "distance",
          "coeff_of_variance_cc",
          "coeff_of_variance_line_id",
          "folder_name_y"
         ],
         "y": [
          0.02142995228495943,
          0.02141898792735554,
          0.0214130501042693,
          0.02140754571990581,
          0.021399094138715352,
          0.02139337905793389,
          0.02138605444477374,
          0.021376494264561646,
          0.021376333459483858,
          0.02134840990951773,
          0.02134743846487506,
          0.021296915797992234,
          0.021195553034143968,
          0.02118789911676665,
          0.021187898461020066,
          0.02118775962398499,
          0.02118210150281547,
          0.0211631760850203,
          0.021143025402315184,
          0.021049802569627178,
          0.020912355360141768,
          0.020903952901411837,
          0.020891094126797034,
          0.020853886268177763,
          0.02068094351822233,
          0.020680093763563858,
          0.02064466378972573,
          0.020567504386470585,
          0.020528029967508965,
          0.02027087472377494,
          0.020040503931875762,
          0.01982552127247638,
          0.019612581855404244,
          0.01942352910428992,
          0.019020938867484172,
          0.018148158685330318,
          0.01801748980760588,
          0.01682210515521083,
          0.016028926075835646,
          0.014674596070558396,
          0.014635684855708353,
          0.014634145617122426,
          0.014535047331441965,
          0.013501231046314732,
          0.01287038488480919,
          0.01174521118819333,
          0.010675328710966155,
          0.00974977385005542,
          0.007821480878435944,
          0.0063459347020552465,
          0.005645315315993001,
          0.004639158409221151,
          0.004540917871986721,
          0.0037609736171682613,
          0.002415565782934012,
          0.000978384923214426
         ]
        }
       ],
       "layout": {
        "template": {
         "data": {
          "bar": [
           {
            "error_x": {
             "color": "#2a3f5f"
            },
            "error_y": {
             "color": "#2a3f5f"
            },
            "marker": {
             "line": {
              "color": "#E5ECF6",
              "width": 0.5
             },
             "pattern": {
              "fillmode": "overlay",
              "size": 10,
              "solidity": 0.2
             }
            },
            "type": "bar"
           }
          ],
          "barpolar": [
           {
            "marker": {
             "line": {
              "color": "#E5ECF6",
              "width": 0.5
             },
             "pattern": {
              "fillmode": "overlay",
              "size": 10,
              "solidity": 0.2
             }
            },
            "type": "barpolar"
           }
          ],
          "carpet": [
           {
            "aaxis": {
             "endlinecolor": "#2a3f5f",
             "gridcolor": "white",
             "linecolor": "white",
             "minorgridcolor": "white",
             "startlinecolor": "#2a3f5f"
            },
            "baxis": {
             "endlinecolor": "#2a3f5f",
             "gridcolor": "white",
             "linecolor": "white",
             "minorgridcolor": "white",
             "startlinecolor": "#2a3f5f"
            },
            "type": "carpet"
           }
          ],
          "choropleth": [
           {
            "colorbar": {
             "outlinewidth": 0,
             "ticks": ""
            },
            "type": "choropleth"
           }
          ],
          "contour": [
           {
            "colorbar": {
             "outlinewidth": 0,
             "ticks": ""
            },
            "colorscale": [
             [
              0,
              "#0d0887"
             ],
             [
              0.1111111111111111,
              "#46039f"
             ],
             [
              0.2222222222222222,
              "#7201a8"
             ],
             [
              0.3333333333333333,
              "#9c179e"
             ],
             [
              0.4444444444444444,
              "#bd3786"
             ],
             [
              0.5555555555555556,
              "#d8576b"
             ],
             [
              0.6666666666666666,
              "#ed7953"
             ],
             [
              0.7777777777777778,
              "#fb9f3a"
             ],
             [
              0.8888888888888888,
              "#fdca26"
             ],
             [
              1,
              "#f0f921"
             ]
            ],
            "type": "contour"
           }
          ],
          "contourcarpet": [
           {
            "colorbar": {
             "outlinewidth": 0,
             "ticks": ""
            },
            "type": "contourcarpet"
           }
          ],
          "heatmap": [
           {
            "colorbar": {
             "outlinewidth": 0,
             "ticks": ""
            },
            "colorscale": [
             [
              0,
              "#0d0887"
             ],
             [
              0.1111111111111111,
              "#46039f"
             ],
             [
              0.2222222222222222,
              "#7201a8"
             ],
             [
              0.3333333333333333,
              "#9c179e"
             ],
             [
              0.4444444444444444,
              "#bd3786"
             ],
             [
              0.5555555555555556,
              "#d8576b"
             ],
             [
              0.6666666666666666,
              "#ed7953"
             ],
             [
              0.7777777777777778,
              "#fb9f3a"
             ],
             [
              0.8888888888888888,
              "#fdca26"
             ],
             [
              1,
              "#f0f921"
             ]
            ],
            "type": "heatmap"
           }
          ],
          "heatmapgl": [
           {
            "colorbar": {
             "outlinewidth": 0,
             "ticks": ""
            },
            "colorscale": [
             [
              0,
              "#0d0887"
             ],
             [
              0.1111111111111111,
              "#46039f"
             ],
             [
              0.2222222222222222,
              "#7201a8"
             ],
             [
              0.3333333333333333,
              "#9c179e"
             ],
             [
              0.4444444444444444,
              "#bd3786"
             ],
             [
              0.5555555555555556,
              "#d8576b"
             ],
             [
              0.6666666666666666,
              "#ed7953"
             ],
             [
              0.7777777777777778,
              "#fb9f3a"
             ],
             [
              0.8888888888888888,
              "#fdca26"
             ],
             [
              1,
              "#f0f921"
             ]
            ],
            "type": "heatmapgl"
           }
          ],
          "histogram": [
           {
            "marker": {
             "pattern": {
              "fillmode": "overlay",
              "size": 10,
              "solidity": 0.2
             }
            },
            "type": "histogram"
           }
          ],
          "histogram2d": [
           {
            "colorbar": {
             "outlinewidth": 0,
             "ticks": ""
            },
            "colorscale": [
             [
              0,
              "#0d0887"
             ],
             [
              0.1111111111111111,
              "#46039f"
             ],
             [
              0.2222222222222222,
              "#7201a8"
             ],
             [
              0.3333333333333333,
              "#9c179e"
             ],
             [
              0.4444444444444444,
              "#bd3786"
             ],
             [
              0.5555555555555556,
              "#d8576b"
             ],
             [
              0.6666666666666666,
              "#ed7953"
             ],
             [
              0.7777777777777778,
              "#fb9f3a"
             ],
             [
              0.8888888888888888,
              "#fdca26"
             ],
             [
              1,
              "#f0f921"
             ]
            ],
            "type": "histogram2d"
           }
          ],
          "histogram2dcontour": [
           {
            "colorbar": {
             "outlinewidth": 0,
             "ticks": ""
            },
            "colorscale": [
             [
              0,
              "#0d0887"
             ],
             [
              0.1111111111111111,
              "#46039f"
             ],
             [
              0.2222222222222222,
              "#7201a8"
             ],
             [
              0.3333333333333333,
              "#9c179e"
             ],
             [
              0.4444444444444444,
              "#bd3786"
             ],
             [
              0.5555555555555556,
              "#d8576b"
             ],
             [
              0.6666666666666666,
              "#ed7953"
             ],
             [
              0.7777777777777778,
              "#fb9f3a"
             ],
             [
              0.8888888888888888,
              "#fdca26"
             ],
             [
              1,
              "#f0f921"
             ]
            ],
            "type": "histogram2dcontour"
           }
          ],
          "mesh3d": [
           {
            "colorbar": {
             "outlinewidth": 0,
             "ticks": ""
            },
            "type": "mesh3d"
           }
          ],
          "parcoords": [
           {
            "line": {
             "colorbar": {
              "outlinewidth": 0,
              "ticks": ""
             }
            },
            "type": "parcoords"
           }
          ],
          "pie": [
           {
            "automargin": true,
            "type": "pie"
           }
          ],
          "scatter": [
           {
            "fillpattern": {
             "fillmode": "overlay",
             "size": 10,
             "solidity": 0.2
            },
            "type": "scatter"
           }
          ],
          "scatter3d": [
           {
            "line": {
             "colorbar": {
              "outlinewidth": 0,
              "ticks": ""
             }
            },
            "marker": {
             "colorbar": {
              "outlinewidth": 0,
              "ticks": ""
             }
            },
            "type": "scatter3d"
           }
          ],
          "scattercarpet": [
           {
            "marker": {
             "colorbar": {
              "outlinewidth": 0,
              "ticks": ""
             }
            },
            "type": "scattercarpet"
           }
          ],
          "scattergeo": [
           {
            "marker": {
             "colorbar": {
              "outlinewidth": 0,
              "ticks": ""
             }
            },
            "type": "scattergeo"
           }
          ],
          "scattergl": [
           {
            "marker": {
             "colorbar": {
              "outlinewidth": 0,
              "ticks": ""
             }
            },
            "type": "scattergl"
           }
          ],
          "scattermapbox": [
           {
            "marker": {
             "colorbar": {
              "outlinewidth": 0,
              "ticks": ""
             }
            },
            "type": "scattermapbox"
           }
          ],
          "scatterpolar": [
           {
            "marker": {
             "colorbar": {
              "outlinewidth": 0,
              "ticks": ""
             }
            },
            "type": "scatterpolar"
           }
          ],
          "scatterpolargl": [
           {
            "marker": {
             "colorbar": {
              "outlinewidth": 0,
              "ticks": ""
             }
            },
            "type": "scatterpolargl"
           }
          ],
          "scatterternary": [
           {
            "marker": {
             "colorbar": {
              "outlinewidth": 0,
              "ticks": ""
             }
            },
            "type": "scatterternary"
           }
          ],
          "surface": [
           {
            "colorbar": {
             "outlinewidth": 0,
             "ticks": ""
            },
            "colorscale": [
             [
              0,
              "#0d0887"
             ],
             [
              0.1111111111111111,
              "#46039f"
             ],
             [
              0.2222222222222222,
              "#7201a8"
             ],
             [
              0.3333333333333333,
              "#9c179e"
             ],
             [
              0.4444444444444444,
              "#bd3786"
             ],
             [
              0.5555555555555556,
              "#d8576b"
             ],
             [
              0.6666666666666666,
              "#ed7953"
             ],
             [
              0.7777777777777778,
              "#fb9f3a"
             ],
             [
              0.8888888888888888,
              "#fdca26"
             ],
             [
              1,
              "#f0f921"
             ]
            ],
            "type": "surface"
           }
          ],
          "table": [
           {
            "cells": {
             "fill": {
              "color": "#EBF0F8"
             },
             "line": {
              "color": "white"
             }
            },
            "header": {
             "fill": {
              "color": "#C8D4E3"
             },
             "line": {
              "color": "white"
             }
            },
            "type": "table"
           }
          ]
         },
         "layout": {
          "annotationdefaults": {
           "arrowcolor": "#2a3f5f",
           "arrowhead": 0,
           "arrowwidth": 1
          },
          "autotypenumbers": "strict",
          "coloraxis": {
           "colorbar": {
            "outlinewidth": 0,
            "ticks": ""
           }
          },
          "colorscale": {
           "diverging": [
            [
             0,
             "#8e0152"
            ],
            [
             0.1,
             "#c51b7d"
            ],
            [
             0.2,
             "#de77ae"
            ],
            [
             0.3,
             "#f1b6da"
            ],
            [
             0.4,
             "#fde0ef"
            ],
            [
             0.5,
             "#f7f7f7"
            ],
            [
             0.6,
             "#e6f5d0"
            ],
            [
             0.7,
             "#b8e186"
            ],
            [
             0.8,
             "#7fbc41"
            ],
            [
             0.9,
             "#4d9221"
            ],
            [
             1,
             "#276419"
            ]
           ],
           "sequential": [
            [
             0,
             "#0d0887"
            ],
            [
             0.1111111111111111,
             "#46039f"
            ],
            [
             0.2222222222222222,
             "#7201a8"
            ],
            [
             0.3333333333333333,
             "#9c179e"
            ],
            [
             0.4444444444444444,
             "#bd3786"
            ],
            [
             0.5555555555555556,
             "#d8576b"
            ],
            [
             0.6666666666666666,
             "#ed7953"
            ],
            [
             0.7777777777777778,
             "#fb9f3a"
            ],
            [
             0.8888888888888888,
             "#fdca26"
            ],
            [
             1,
             "#f0f921"
            ]
           ],
           "sequentialminus": [
            [
             0,
             "#0d0887"
            ],
            [
             0.1111111111111111,
             "#46039f"
            ],
            [
             0.2222222222222222,
             "#7201a8"
            ],
            [
             0.3333333333333333,
             "#9c179e"
            ],
            [
             0.4444444444444444,
             "#bd3786"
            ],
            [
             0.5555555555555556,
             "#d8576b"
            ],
            [
             0.6666666666666666,
             "#ed7953"
            ],
            [
             0.7777777777777778,
             "#fb9f3a"
            ],
            [
             0.8888888888888888,
             "#fdca26"
            ],
            [
             1,
             "#f0f921"
            ]
           ]
          },
          "colorway": [
           "#636efa",
           "#EF553B",
           "#00cc96",
           "#ab63fa",
           "#FFA15A",
           "#19d3f3",
           "#FF6692",
           "#B6E880",
           "#FF97FF",
           "#FECB52"
          ],
          "font": {
           "color": "#2a3f5f"
          },
          "geo": {
           "bgcolor": "white",
           "lakecolor": "white",
           "landcolor": "#E5ECF6",
           "showlakes": true,
           "showland": true,
           "subunitcolor": "white"
          },
          "hoverlabel": {
           "align": "left"
          },
          "hovermode": "closest",
          "mapbox": {
           "style": "light"
          },
          "paper_bgcolor": "white",
          "plot_bgcolor": "#E5ECF6",
          "polar": {
           "angularaxis": {
            "gridcolor": "white",
            "linecolor": "white",
            "ticks": ""
           },
           "bgcolor": "#E5ECF6",
           "radialaxis": {
            "gridcolor": "white",
            "linecolor": "white",
            "ticks": ""
           }
          },
          "scene": {
           "xaxis": {
            "backgroundcolor": "#E5ECF6",
            "gridcolor": "white",
            "gridwidth": 2,
            "linecolor": "white",
            "showbackground": true,
            "ticks": "",
            "zerolinecolor": "white"
           },
           "yaxis": {
            "backgroundcolor": "#E5ECF6",
            "gridcolor": "white",
            "gridwidth": 2,
            "linecolor": "white",
            "showbackground": true,
            "ticks": "",
            "zerolinecolor": "white"
           },
           "zaxis": {
            "backgroundcolor": "#E5ECF6",
            "gridcolor": "white",
            "gridwidth": 2,
            "linecolor": "white",
            "showbackground": true,
            "ticks": "",
            "zerolinecolor": "white"
           }
          },
          "shapedefaults": {
           "line": {
            "color": "#2a3f5f"
           }
          },
          "ternary": {
           "aaxis": {
            "gridcolor": "white",
            "linecolor": "white",
            "ticks": ""
           },
           "baxis": {
            "gridcolor": "white",
            "linecolor": "white",
            "ticks": ""
           },
           "bgcolor": "#E5ECF6",
           "caxis": {
            "gridcolor": "white",
            "linecolor": "white",
            "ticks": ""
           }
          },
          "title": {
           "x": 0.05
          },
          "xaxis": {
           "automargin": true,
           "gridcolor": "white",
           "linecolor": "white",
           "ticks": "",
           "title": {
            "standoff": 15
           },
           "zerolinecolor": "white",
           "zerolinewidth": 2
          },
          "yaxis": {
           "automargin": true,
           "gridcolor": "white",
           "linecolor": "white",
           "ticks": "",
           "title": {
            "standoff": 15
           },
           "zerolinecolor": "white",
           "zerolinewidth": 2
          }
         }
        },
        "title": {
         "text": "Percentage Contribution of Each Feature to Total Variance"
        },
        "xaxis": {
         "title": {
          "text": "Features"
         }
        },
        "yaxis": {
         "title": {
          "text": "Percentage Contribution"
         }
        }
       }
      }
     },
     "metadata": {},
     "output_type": "display_data"
    },
    {
     "name": "stdout",
     "output_type": "stream",
     "text": [
      "The training data shapes are: (9644, 256) (9644,) and the testing data shapes are: (2412, 256) (2412,)\n",
      "The cumulative contributions of all features to the variation is: 0.9529331599875241 %\n"
     ]
    }
   ],
   "source": [
    "if(USE_NEW_FEATURES):\n",
    "    X_transformed_pca, dataset_pca_sklearn_obj = get_pca_transformation_and_scaled_dataset(X, 256)\n",
    "    \n",
    "    explained_var = dataset_pca_sklearn_obj.explained_variance_ratio_\n",
    "\n",
    "    # Calculate and sort feature contributions\n",
    "    feature_contributions = feature_contribution_to_variance(dataset_pca_sklearn_obj, explained_var, X.columns)\n",
    "    plot_feature_contributions(feature_contributions)\n",
    "    \n",
    "    # We're basically predicting\n",
    "    # (405 / 488) * 1000\n",
    "\n",
    "    Y = sample_data['element_pixel_intensity_405_488_ratio']\n",
    "\n",
    "    # Perform standardization on X and Y\n",
    "    # scalerX = StandardScaler()\n",
    "    # scalerY = StandardScaler()\n",
    "\n",
    "    y = np.rint(Y).astype(int)\n",
    "\n",
    "    X_train, X_test, y_train, y_test = train_test_split(X_transformed_pca, y, test_size=0.2, random_state=42)\n",
    "\n",
    "    print(\"The training data shapes are:\", X_train.shape, y_train.shape, \"and the testing data shapes are:\", X_test.shape, y_test.shape)\n",
    "    print(\"The cumulative contributions of all features to the variation is:\", feature_contributions['Contribution'].sum(), \"%\")"
   ]
  },
  {
   "cell_type": "code",
   "execution_count": null,
   "metadata": {},
   "outputs": [],
   "source": [
    "def plot_error_frequency(y_pred, y_test, classifier_title, rounding):\n",
    "    rounding_ = rounding//2\n",
    "    \n",
    "    # Calculate errors\n",
    "    errors = (abs(y_pred - y_test) < rounding_)\n",
    "\n",
    "    # Extract labels where errors occurred\n",
    "    error_labels = y_test[errors]\n",
    "\n",
    "    # Calculate frequency of each label\n",
    "    unique_labels, counts = np.unique(error_labels, return_counts=True)\n",
    "\n",
    "    # Creating a dictionary of label frequencies for errors\n",
    "    label_error_frequency = dict(zip(unique_labels, counts))\n",
    "\n",
    "    # Finding the range of all possible labels (from min to max in y_test and y_pred)\n",
    "    all_labels = np.unique(np.concatenate((y_test, y_pred)))\n",
    "    min_label = min(all_labels)\n",
    "    max_label = max(all_labels)\n",
    "\n",
    "    # Filling in frequencies for labels that did not have errors\n",
    "    for label in range(min_label, max_label + 1):\n",
    "        if label not in label_error_frequency:\n",
    "            label_error_frequency[label] = 0\n",
    "\n",
    "    # Sorting the dictionary for plotting\n",
    "    sorted_label_error_frequency = dict(sorted(label_error_frequency.items()))\n",
    "\n",
    "    xticks = np.arange(min_label, max_label + 1, 50)\n",
    "\n",
    "    # Plotting the error frequency\n",
    "    plt.figure(figsize=(10, 6))\n",
    "    plt.bar(sorted_label_error_frequency.keys(), sorted_label_error_frequency.values())\n",
    "    plt.xlabel('Prediction')\n",
    "    plt.ylabel('Error Frequency')\n",
    "    plt.title('Error Frequency Distribution for ' + str(classifier_title) + ' for errors >= {} ({} in either direction)'.format(rounding, rounding_))\n",
    "    plt.xticks(xticks, rotation='vertical')  # Set x-ticks to show every 50th label and rotate them vertically\n",
    "    plt.show()\n",
    "\n",
    "    # Calculating mean and standard deviation of absolute errors\n",
    "    absolute_errors = np.abs(y_pred - y_test)\n",
    "    mean_error = np.mean(absolute_errors)\n",
    "    std_error = np.std(absolute_errors)\n",
    "    print(\"The mean error is\", mean_error, \"and the standard deviation of the errors is\", std_error)\n",
    "\n",
    "    # Plotting absolute error for each label\n",
    "    plt.figure(figsize=(10, 6))\n",
    "    for label in all_labels:\n",
    "        label_errors = absolute_errors[y_test == label]\n",
    "        plt.bar([label]*len(label_errors), label_errors, color='r')\n",
    "    plt.xlabel('Prediction')\n",
    "    plt.ylabel('Absolute Error')\n",
    "    plt.title('Absolute Error for Each Label in ' + str(classifier_title))\n",
    "    plt.xticks(xticks, rotation='vertical')\n",
    "    plt.show()\n"
   ]
  },
  {
   "cell_type": "code",
   "execution_count": null,
   "metadata": {},
   "outputs": [],
   "source": [
    "def calculate_accuracy(y_test, y_pred, rounding):\n",
    "    y_test = y_test.values\n",
    "    rounding = rounding//2\n",
    "    # print(y_pred)\n",
    "    assert(len(y_test) == len(y_pred))\n",
    "    num_predictions = len(y_test)\n",
    "    num_correct_predictions = 0\n",
    "    for i in range(len(y_test)):\n",
    "        if abs(y_test[i] - y_pred[i]) <= rounding:\n",
    "            num_correct_predictions += 1\n",
    "    \n",
    "    return num_correct_predictions/num_predictions"
   ]
  },
  {
   "cell_type": "code",
   "execution_count": null,
   "metadata": {},
   "outputs": [],
   "source": [
    "# For y_train and y_test, round down to nearest 10\n",
    "# y_train = (np.floor(y_train / 10) * 10).astype(int)\n",
    "# y_test = (np.floor(y_test / 10) * 10).astype(int)\n",
    "\n",
    "# Noticed weird behaviour with SVM:\n",
    "# If y_train and y_test are not rounded down to nearest 10,\n",
    "# then the training takes LONGER (it just wouldn't finish training on my mac)\n",
    "# even though it means there are 10 times fewer classifiers to train?\n",
    "# (also yes, doing that means the output would not be a regression but a classification,\n",
    "# and outputs would be classified into groups of 10, as in the model would tell you whether the\n",
    "# functional parameter is between 0-10, 10-20, 20-30, etc.)\n",
    "\n",
    "# Also it was not possible to get the SVM to train on my MAC for datasets above 10k rows (10k including training and testing split)\n",
    "# Training just never finished if I tried that, even if I left it running overnight.\n",
    "\n",
    "# This makes sense though because with more classes (i.e discrete functional parameter values in this case),\n",
    "# the training time grows quadratically as that many more classifiers need to be trained.\n",
    "\n",
    "# print(y_train, y_test)\n",
    "\n",
    "if(TRAIN_SVM):\n",
    "\n",
    "    svm_model = SVC(kernel='linear')  # You can choose different kernels like 'rbf', 'poly', etc.\n",
    "    svm_model.fit(X_train, y_train)\n",
    "\n",
    "\n",
    "    y_pred = svm_model.predict(X_test)\n",
    "\n",
    "    print(pd.DataFrame({'Actual': y_test, 'Predicted': y_pred}))\n",
    "\n",
    "    rounding = 50\n",
    "\n",
    "    accuracy = calculate_accuracy(y_test, y_pred, rounding)\n",
    "    classification_rep = classification_report(y_test, y_pred)\n",
    "\n",
    "    plt.plot(y_test, y_pred, 'o')\n",
    "    plt.title('Accuracy: ' + str(accuracy) + ' with rounding factor ' + str(rounding))\n",
    "    plt.xlabel('Actual')\n",
    "    plt.ylabel('Predicted')\n",
    "\n",
    "    y_pred_svm = y_pred\n",
    "    \n",
    "    # Create a DataFrame with the test and pred values\n",
    "    df = pd.DataFrame({'Test': y_test, 'Pred': y_pred_svm})\n",
    "\n",
    "    # Save the DataFrame to a CSV file\n",
    "    df.to_csv('svm_test_pred.csv', index=False)\n"
   ]
  },
  {
   "cell_type": "code",
   "execution_count": null,
   "metadata": {},
   "outputs": [],
   "source": [
    "if(TRAIN_SVM):\n",
    "    plot_error_frequency(y_pred_svm, y_test, 'SVC', rounding)"
   ]
  },
  {
   "cell_type": "code",
   "execution_count": null,
   "metadata": {},
   "outputs": [],
   "source": [
    "if(TRAIN_RF):\n",
    "\n",
    "    # do the same for random forest\n",
    "    from sklearn.ensemble import RandomForestClassifier\n",
    "\n",
    "    rf_model = RandomForestClassifier(n_estimators=300, max_depth=7, random_state=0)\n",
    "    rf_model.fit(X_train, y_train)\n",
    "\n",
    "    rounding = 50\n",
    "    \n",
    "    y_pred = rf_model.predict(X_test)\n",
    "    accuracy = calculate_accuracy(y_test, y_pred, rounding)\n",
    "\n",
    "    plt.plot(y_test, y_pred, 'o')\n",
    "    plt.xlabel(\"Actual value\")\n",
    "    plt.ylabel(\"Predicted value\")\n",
    "    plt.title('Accuracy: {} with rounding factor {}'.format(accuracy, rounding))\n",
    "\n",
    "    y_pred_rf = y_pred\n",
    "    \n",
    "    # Create a DataFrame with the test and pred values\n",
    "    df = pd.DataFrame({'Test': y_test, 'Pred': y_pred_rf})\n",
    "\n",
    "    # Save the DataFrame to a CSV file\n",
    "    df.to_csv('rf_test_pred.csv', index=False)"
   ]
  },
  {
   "cell_type": "code",
   "execution_count": null,
   "metadata": {},
   "outputs": [],
   "source": [
    "if(TRAIN_RF):\n",
    "    plot_error_frequency(y_pred_rf, y_test, 'Random Forest', rounding)"
   ]
  },
  {
   "cell_type": "code",
   "execution_count": null,
   "metadata": {},
   "outputs": [],
   "source": [
    "\n",
    "# Used the plotly library as this is much nicer looking, and the graph is more interactive and works well with Jupyter Notebooks\n",
    "\n",
    "def plot_absolute_error_plotly(y_pred_model1, y_pred_model2, y_test, model_title1, model_title_2):\n",
    "    def calculate_error_frequency(y_pred):\n",
    "        incorrect = y_pred != y_test\n",
    "\n",
    "        unique_predictions, counts = np.unique(y_pred[incorrect], return_counts=True)\n",
    "        error_freq = dict(zip(unique_predictions, counts))\n",
    "\n",
    "        return error_freq\n",
    "\n",
    "    error_freq_svc = calculate_error_frequency(y_pred_model1)\n",
    "    error_freq_rf = calculate_error_frequency(y_pred_model2)\n",
    "\n",
    "    all_labels = np.unique(np.concatenate((y_pred_model1, y_pred_model2)))\n",
    "    all_labels.sort()\n",
    "\n",
    "    svc_freq = [error_freq_svc.get(label, 0) for label in all_labels]\n",
    "    rf_freq = [error_freq_rf.get(label, 0) for label in all_labels]\n",
    "\n",
    "    fig = go.Figure(data=[\n",
    "        go.Bar(name=model_title1, x=all_labels, y=svc_freq),\n",
    "        go.Bar(name=model_title_2, x=all_labels, y=rf_freq)\n",
    "    ])\n",
    "\n",
    "    fig.update_layout(\n",
    "        barmode='group',\n",
    "        title='Prediction Error Frequency',\n",
    "        xaxis_title='Predicted Label',\n",
    "        yaxis_title='Frequency of Incorrect Predictions',\n",
    "        xaxis=dict(type='category')\n",
    "    )\n",
    "\n",
    "    fig.show()\n",
    "\n",
    "\n",
    "def plot_error_label_frequency_plotly(y_pred_model1, y_pred_model2, y_test, model_title1, model_title2):\n",
    "    labels = np.unique(y_test)\n",
    "    errors_svc = [np.sum((y_pred_model1 != y_test) & (y_test == label)) for label in labels]\n",
    "    errors_rf = [np.sum((y_pred_model2 != y_test) & (y_test == label)) for label in labels]\n",
    "\n",
    "    bar_width = max(0.5, 30 / len(labels))\n",
    "\n",
    "    fig = go.Figure(data=[\n",
    "        go.Bar(name=model_title1, x=labels, y=errors_svc, width=bar_width, marker_color='blue', marker_line_color='blue', marker_line_width=1.5, opacity=1),\n",
    "        go.Bar(name=model_title2, x=labels, y=errors_rf, width=bar_width, marker_color='red', marker_line_color='red', marker_line_width=1.5, opacity=1)\n",
    "    ])\n",
    "    \n",
    "    fig.update_layout(\n",
    "        barmode='group',\n",
    "        title='Error Frequency per Label',\n",
    "        xaxis_title='Labels',\n",
    "        yaxis_title='Number of Errors',\n",
    "        xaxis=dict(tickmode='array', tickvals=labels[::10]),\n",
    "        plot_bgcolor='rgba(255, 255, 255, 1)',\n",
    "        font=dict(\n",
    "            size=12,  # You can adjust the size of the text here for better visibility\n",
    "        )\n",
    "    )\n",
    "    fig.show()\n"
   ]
  },
  {
   "cell_type": "code",
   "execution_count": null,
   "metadata": {},
   "outputs": [],
   "source": [
    "if(TRAIN_RF and TRAIN_SVM):\n",
    "    plot_absolute_error_plotly(y_pred_svm, y_pred_rf, y_test, 'SVC', 'Random Forest')\n",
    "    plot_error_label_frequency_plotly(y_pred_svm, y_pred_rf, y_test, 'SVC', 'Random Forest')"
   ]
  },
  {
   "cell_type": "code",
   "execution_count": null,
   "metadata": {},
   "outputs": [],
   "source": [
    "# Data distribution\n",
    "# Basically plot the frequency of ocurrence of each value\n",
    "# of the functional parameter in the dataset inputted to the models\n",
    "\n",
    "# This is only plotting the subset in the training set, and not in the entire dataset\n",
    "\n",
    "def plot_data_distribution(y):\n",
    "    # Calculate the frequency of each value in the y_test array\n",
    "    unique_values, counts = np.unique(y, return_counts=True)\n",
    "\n",
    "    # Create the bar chart\n",
    "    fig = go.Figure(data=go.Bar(x=unique_values, y=counts))\n",
    "\n",
    "    # Update the layout for a better visual representation\n",
    "    fig.update_layout(\n",
    "        title='Data Distribution',\n",
    "        xaxis_title='Unique Values',\n",
    "        yaxis_title='Frequency',\n",
    "        xaxis=dict(type='category'),  # Treat unique values as discrete categories\n",
    "        yaxis=dict(title='Frequency'),  # You can also set the range or scale of the y-axis if needed\n",
    "    )\n",
    "\n",
    "    fig.show()\n",
    "    print(\"The mean of the data distribution is\", np.mean(y_train), \"and the standard deviation is\", np.std(y_train))"
   ]
  },
  {
   "cell_type": "code",
   "execution_count": null,
   "metadata": {},
   "outputs": [
    {
     "data": {
      "application/vnd.plotly.v1+json": {
       "config": {
        "plotlyServerURL": "https://plot.ly"
       },
       "data": [
        {
         "type": "bar",
         "x": [
          0,
          2,
          5,
          6,
          7,
          8,
          9,
          10,
          11,
          12,
          13,
          14,
          15,
          16,
          17,
          18,
          19,
          20,
          21,
          22,
          23,
          24,
          25,
          26,
          27,
          28,
          29,
          30,
          31,
          32,
          33,
          34,
          35,
          36,
          37,
          38,
          39,
          40,
          41,
          42,
          43,
          44,
          45,
          46,
          47,
          48,
          49,
          50,
          51,
          52,
          53,
          54,
          55,
          56,
          57,
          58,
          59,
          60,
          61,
          62,
          63,
          64,
          65,
          66,
          67,
          68,
          69,
          70,
          71,
          72,
          73,
          74,
          75,
          76,
          77,
          78,
          79,
          80,
          81,
          82,
          83,
          84,
          85,
          86,
          87,
          88,
          89,
          90,
          91,
          92,
          93,
          94,
          95,
          96,
          97,
          98,
          99,
          100,
          101,
          102,
          103,
          104,
          105,
          106,
          107,
          108,
          109,
          110,
          111,
          112,
          113,
          114,
          115,
          116,
          117,
          118,
          119,
          120,
          121,
          122,
          123,
          124,
          125,
          126,
          127,
          128,
          129,
          130,
          131,
          132,
          133,
          134,
          135,
          136,
          137,
          138,
          139,
          140,
          141,
          142,
          143,
          144,
          145,
          146,
          147,
          148,
          149,
          150,
          151,
          152,
          153,
          154,
          155,
          156,
          157,
          158,
          159,
          160,
          161,
          162,
          163,
          164,
          165,
          166,
          167,
          168,
          169,
          170,
          171,
          172,
          173,
          174,
          175,
          176,
          177,
          178,
          179,
          180,
          181,
          182,
          183,
          184,
          185,
          186,
          187,
          188,
          189,
          190,
          191,
          192,
          193,
          194,
          195,
          196,
          197,
          198,
          199,
          200,
          201,
          202,
          203,
          204,
          205,
          206,
          207,
          208,
          209,
          210,
          211,
          212,
          213,
          214,
          215,
          216,
          217,
          218,
          219,
          220,
          221,
          222,
          223,
          224,
          225,
          226,
          227,
          228,
          229,
          230,
          231,
          232,
          233,
          234,
          235,
          236,
          237,
          238,
          239,
          240,
          241,
          242,
          243,
          244,
          245,
          246,
          247,
          248,
          249,
          250,
          251,
          252,
          253,
          254,
          255,
          256,
          257,
          258,
          259,
          260,
          261,
          262,
          263,
          264,
          265,
          266,
          267,
          268,
          269,
          270,
          271,
          272,
          273,
          274,
          275,
          276,
          277,
          278,
          279,
          280,
          281,
          282,
          283,
          284,
          285,
          286,
          287,
          288,
          289,
          292,
          293,
          294,
          295,
          296,
          297,
          298,
          299,
          300,
          301,
          302,
          303,
          304,
          305,
          306,
          307,
          308,
          309,
          310,
          311,
          312,
          314,
          315,
          316,
          317,
          318,
          319,
          320,
          321,
          323,
          325,
          326,
          327,
          328,
          329,
          330,
          331,
          332,
          333,
          334,
          335,
          336,
          337,
          338,
          339,
          341,
          342,
          343,
          344,
          345,
          346,
          348,
          349,
          350,
          351,
          355,
          356,
          357,
          358,
          359,
          360,
          361,
          362,
          363,
          364,
          365,
          366,
          367,
          368,
          369,
          370,
          372,
          375,
          377,
          378,
          379,
          380,
          381,
          382,
          385,
          387,
          388,
          391,
          392,
          393,
          395,
          399,
          401,
          402,
          404,
          407,
          410,
          412,
          416,
          418,
          419,
          420,
          422,
          425,
          429,
          431,
          433,
          440,
          443,
          451,
          452,
          453,
          457,
          467,
          469,
          471,
          473,
          474,
          478,
          480,
          485,
          487,
          492,
          495,
          502,
          504,
          505,
          516,
          517,
          533,
          569,
          573,
          581,
          585,
          591,
          598,
          603,
          607,
          619,
          622,
          655,
          726,
          795,
          847,
          972,
          1022,
          1063,
          1102,
          1160,
          1344,
          1438,
          1527,
          2368,
          2556,
          3161
         ],
         "y": [
          1,
          1,
          1,
          3,
          3,
          1,
          3,
          1,
          4,
          4,
          7,
          7,
          13,
          14,
          14,
          12,
          16,
          14,
          23,
          22,
          31,
          30,
          21,
          31,
          51,
          29,
          42,
          55,
          46,
          49,
          57,
          77,
          75,
          81,
          76,
          77,
          73,
          89,
          107,
          100,
          92,
          105,
          104,
          123,
          100,
          116,
          134,
          115,
          113,
          116,
          128,
          128,
          143,
          112,
          118,
          127,
          108,
          112,
          116,
          119,
          116,
          108,
          126,
          107,
          91,
          102,
          88,
          121,
          105,
          112,
          89,
          99,
          87,
          92,
          97,
          97,
          101,
          84,
          95,
          89,
          87,
          83,
          84,
          87,
          107,
          81,
          85,
          90,
          80,
          76,
          75,
          79,
          76,
          75,
          61,
          65,
          56,
          60,
          64,
          68,
          74,
          55,
          73,
          59,
          50,
          57,
          46,
          70,
          50,
          58,
          52,
          55,
          52,
          47,
          76,
          64,
          50,
          47,
          50,
          60,
          48,
          42,
          49,
          42,
          49,
          59,
          49,
          56,
          53,
          46,
          53,
          47,
          39,
          41,
          54,
          41,
          62,
          51,
          47,
          43,
          44,
          34,
          39,
          43,
          39,
          38,
          49,
          51,
          46,
          28,
          43,
          40,
          40,
          25,
          36,
          41,
          33,
          37,
          33,
          27,
          41,
          39,
          33,
          37,
          30,
          26,
          37,
          34,
          35,
          28,
          22,
          27,
          35,
          28,
          35,
          22,
          26,
          27,
          18,
          15,
          27,
          24,
          31,
          32,
          19,
          21,
          25,
          25,
          21,
          22,
          19,
          18,
          22,
          22,
          16,
          13,
          17,
          12,
          15,
          28,
          17,
          19,
          9,
          18,
          9,
          21,
          10,
          12,
          18,
          19,
          11,
          12,
          10,
          13,
          10,
          19,
          16,
          13,
          18,
          7,
          4,
          11,
          13,
          8,
          6,
          8,
          8,
          6,
          9,
          4,
          9,
          8,
          5,
          6,
          7,
          12,
          11,
          8,
          4,
          4,
          7,
          4,
          7,
          6,
          3,
          8,
          3,
          6,
          7,
          9,
          8,
          4,
          9,
          8,
          3,
          5,
          5,
          9,
          6,
          7,
          4,
          6,
          3,
          5,
          6,
          5,
          4,
          4,
          2,
          4,
          4,
          1,
          5,
          3,
          6,
          4,
          5,
          5,
          1,
          2,
          2,
          3,
          6,
          5,
          1,
          2,
          4,
          1,
          4,
          2,
          2,
          2,
          4,
          6,
          3,
          3,
          3,
          7,
          4,
          6,
          1,
          3,
          3,
          2,
          2,
          3,
          1,
          2,
          1,
          4,
          2,
          1,
          2,
          3,
          2,
          3,
          3,
          3,
          1,
          1,
          2,
          1,
          3,
          4,
          2,
          2,
          2,
          1,
          2,
          1,
          1,
          1,
          1,
          1,
          1,
          5,
          2,
          1,
          2,
          1,
          2,
          1,
          1,
          1,
          2,
          1,
          2,
          1,
          1,
          1,
          2,
          3,
          2,
          2,
          4,
          2,
          2,
          2,
          1,
          1,
          2,
          1,
          1,
          1,
          3,
          3,
          2,
          2,
          4,
          3,
          3,
          1,
          1,
          1,
          1,
          2,
          1,
          1,
          2,
          1,
          3,
          1,
          1,
          1,
          1,
          2,
          1,
          1,
          1,
          1,
          1,
          1,
          1,
          1,
          1,
          1,
          1,
          1,
          1,
          1,
          1,
          1,
          1,
          2,
          1,
          1,
          1,
          1,
          1,
          1,
          1,
          1,
          1,
          1,
          1,
          1,
          1,
          1,
          1,
          1,
          1,
          1,
          1,
          1,
          1,
          1,
          1,
          1,
          1,
          1,
          1,
          1,
          1,
          1,
          1,
          1,
          1
         ]
        }
       ],
       "layout": {
        "template": {
         "data": {
          "bar": [
           {
            "error_x": {
             "color": "#2a3f5f"
            },
            "error_y": {
             "color": "#2a3f5f"
            },
            "marker": {
             "line": {
              "color": "#E5ECF6",
              "width": 0.5
             },
             "pattern": {
              "fillmode": "overlay",
              "size": 10,
              "solidity": 0.2
             }
            },
            "type": "bar"
           }
          ],
          "barpolar": [
           {
            "marker": {
             "line": {
              "color": "#E5ECF6",
              "width": 0.5
             },
             "pattern": {
              "fillmode": "overlay",
              "size": 10,
              "solidity": 0.2
             }
            },
            "type": "barpolar"
           }
          ],
          "carpet": [
           {
            "aaxis": {
             "endlinecolor": "#2a3f5f",
             "gridcolor": "white",
             "linecolor": "white",
             "minorgridcolor": "white",
             "startlinecolor": "#2a3f5f"
            },
            "baxis": {
             "endlinecolor": "#2a3f5f",
             "gridcolor": "white",
             "linecolor": "white",
             "minorgridcolor": "white",
             "startlinecolor": "#2a3f5f"
            },
            "type": "carpet"
           }
          ],
          "choropleth": [
           {
            "colorbar": {
             "outlinewidth": 0,
             "ticks": ""
            },
            "type": "choropleth"
           }
          ],
          "contour": [
           {
            "colorbar": {
             "outlinewidth": 0,
             "ticks": ""
            },
            "colorscale": [
             [
              0,
              "#0d0887"
             ],
             [
              0.1111111111111111,
              "#46039f"
             ],
             [
              0.2222222222222222,
              "#7201a8"
             ],
             [
              0.3333333333333333,
              "#9c179e"
             ],
             [
              0.4444444444444444,
              "#bd3786"
             ],
             [
              0.5555555555555556,
              "#d8576b"
             ],
             [
              0.6666666666666666,
              "#ed7953"
             ],
             [
              0.7777777777777778,
              "#fb9f3a"
             ],
             [
              0.8888888888888888,
              "#fdca26"
             ],
             [
              1,
              "#f0f921"
             ]
            ],
            "type": "contour"
           }
          ],
          "contourcarpet": [
           {
            "colorbar": {
             "outlinewidth": 0,
             "ticks": ""
            },
            "type": "contourcarpet"
           }
          ],
          "heatmap": [
           {
            "colorbar": {
             "outlinewidth": 0,
             "ticks": ""
            },
            "colorscale": [
             [
              0,
              "#0d0887"
             ],
             [
              0.1111111111111111,
              "#46039f"
             ],
             [
              0.2222222222222222,
              "#7201a8"
             ],
             [
              0.3333333333333333,
              "#9c179e"
             ],
             [
              0.4444444444444444,
              "#bd3786"
             ],
             [
              0.5555555555555556,
              "#d8576b"
             ],
             [
              0.6666666666666666,
              "#ed7953"
             ],
             [
              0.7777777777777778,
              "#fb9f3a"
             ],
             [
              0.8888888888888888,
              "#fdca26"
             ],
             [
              1,
              "#f0f921"
             ]
            ],
            "type": "heatmap"
           }
          ],
          "heatmapgl": [
           {
            "colorbar": {
             "outlinewidth": 0,
             "ticks": ""
            },
            "colorscale": [
             [
              0,
              "#0d0887"
             ],
             [
              0.1111111111111111,
              "#46039f"
             ],
             [
              0.2222222222222222,
              "#7201a8"
             ],
             [
              0.3333333333333333,
              "#9c179e"
             ],
             [
              0.4444444444444444,
              "#bd3786"
             ],
             [
              0.5555555555555556,
              "#d8576b"
             ],
             [
              0.6666666666666666,
              "#ed7953"
             ],
             [
              0.7777777777777778,
              "#fb9f3a"
             ],
             [
              0.8888888888888888,
              "#fdca26"
             ],
             [
              1,
              "#f0f921"
             ]
            ],
            "type": "heatmapgl"
           }
          ],
          "histogram": [
           {
            "marker": {
             "pattern": {
              "fillmode": "overlay",
              "size": 10,
              "solidity": 0.2
             }
            },
            "type": "histogram"
           }
          ],
          "histogram2d": [
           {
            "colorbar": {
             "outlinewidth": 0,
             "ticks": ""
            },
            "colorscale": [
             [
              0,
              "#0d0887"
             ],
             [
              0.1111111111111111,
              "#46039f"
             ],
             [
              0.2222222222222222,
              "#7201a8"
             ],
             [
              0.3333333333333333,
              "#9c179e"
             ],
             [
              0.4444444444444444,
              "#bd3786"
             ],
             [
              0.5555555555555556,
              "#d8576b"
             ],
             [
              0.6666666666666666,
              "#ed7953"
             ],
             [
              0.7777777777777778,
              "#fb9f3a"
             ],
             [
              0.8888888888888888,
              "#fdca26"
             ],
             [
              1,
              "#f0f921"
             ]
            ],
            "type": "histogram2d"
           }
          ],
          "histogram2dcontour": [
           {
            "colorbar": {
             "outlinewidth": 0,
             "ticks": ""
            },
            "colorscale": [
             [
              0,
              "#0d0887"
             ],
             [
              0.1111111111111111,
              "#46039f"
             ],
             [
              0.2222222222222222,
              "#7201a8"
             ],
             [
              0.3333333333333333,
              "#9c179e"
             ],
             [
              0.4444444444444444,
              "#bd3786"
             ],
             [
              0.5555555555555556,
              "#d8576b"
             ],
             [
              0.6666666666666666,
              "#ed7953"
             ],
             [
              0.7777777777777778,
              "#fb9f3a"
             ],
             [
              0.8888888888888888,
              "#fdca26"
             ],
             [
              1,
              "#f0f921"
             ]
            ],
            "type": "histogram2dcontour"
           }
          ],
          "mesh3d": [
           {
            "colorbar": {
             "outlinewidth": 0,
             "ticks": ""
            },
            "type": "mesh3d"
           }
          ],
          "parcoords": [
           {
            "line": {
             "colorbar": {
              "outlinewidth": 0,
              "ticks": ""
             }
            },
            "type": "parcoords"
           }
          ],
          "pie": [
           {
            "automargin": true,
            "type": "pie"
           }
          ],
          "scatter": [
           {
            "fillpattern": {
             "fillmode": "overlay",
             "size": 10,
             "solidity": 0.2
            },
            "type": "scatter"
           }
          ],
          "scatter3d": [
           {
            "line": {
             "colorbar": {
              "outlinewidth": 0,
              "ticks": ""
             }
            },
            "marker": {
             "colorbar": {
              "outlinewidth": 0,
              "ticks": ""
             }
            },
            "type": "scatter3d"
           }
          ],
          "scattercarpet": [
           {
            "marker": {
             "colorbar": {
              "outlinewidth": 0,
              "ticks": ""
             }
            },
            "type": "scattercarpet"
           }
          ],
          "scattergeo": [
           {
            "marker": {
             "colorbar": {
              "outlinewidth": 0,
              "ticks": ""
             }
            },
            "type": "scattergeo"
           }
          ],
          "scattergl": [
           {
            "marker": {
             "colorbar": {
              "outlinewidth": 0,
              "ticks": ""
             }
            },
            "type": "scattergl"
           }
          ],
          "scattermapbox": [
           {
            "marker": {
             "colorbar": {
              "outlinewidth": 0,
              "ticks": ""
             }
            },
            "type": "scattermapbox"
           }
          ],
          "scatterpolar": [
           {
            "marker": {
             "colorbar": {
              "outlinewidth": 0,
              "ticks": ""
             }
            },
            "type": "scatterpolar"
           }
          ],
          "scatterpolargl": [
           {
            "marker": {
             "colorbar": {
              "outlinewidth": 0,
              "ticks": ""
             }
            },
            "type": "scatterpolargl"
           }
          ],
          "scatterternary": [
           {
            "marker": {
             "colorbar": {
              "outlinewidth": 0,
              "ticks": ""
             }
            },
            "type": "scatterternary"
           }
          ],
          "surface": [
           {
            "colorbar": {
             "outlinewidth": 0,
             "ticks": ""
            },
            "colorscale": [
             [
              0,
              "#0d0887"
             ],
             [
              0.1111111111111111,
              "#46039f"
             ],
             [
              0.2222222222222222,
              "#7201a8"
             ],
             [
              0.3333333333333333,
              "#9c179e"
             ],
             [
              0.4444444444444444,
              "#bd3786"
             ],
             [
              0.5555555555555556,
              "#d8576b"
             ],
             [
              0.6666666666666666,
              "#ed7953"
             ],
             [
              0.7777777777777778,
              "#fb9f3a"
             ],
             [
              0.8888888888888888,
              "#fdca26"
             ],
             [
              1,
              "#f0f921"
             ]
            ],
            "type": "surface"
           }
          ],
          "table": [
           {
            "cells": {
             "fill": {
              "color": "#EBF0F8"
             },
             "line": {
              "color": "white"
             }
            },
            "header": {
             "fill": {
              "color": "#C8D4E3"
             },
             "line": {
              "color": "white"
             }
            },
            "type": "table"
           }
          ]
         },
         "layout": {
          "annotationdefaults": {
           "arrowcolor": "#2a3f5f",
           "arrowhead": 0,
           "arrowwidth": 1
          },
          "autotypenumbers": "strict",
          "coloraxis": {
           "colorbar": {
            "outlinewidth": 0,
            "ticks": ""
           }
          },
          "colorscale": {
           "diverging": [
            [
             0,
             "#8e0152"
            ],
            [
             0.1,
             "#c51b7d"
            ],
            [
             0.2,
             "#de77ae"
            ],
            [
             0.3,
             "#f1b6da"
            ],
            [
             0.4,
             "#fde0ef"
            ],
            [
             0.5,
             "#f7f7f7"
            ],
            [
             0.6,
             "#e6f5d0"
            ],
            [
             0.7,
             "#b8e186"
            ],
            [
             0.8,
             "#7fbc41"
            ],
            [
             0.9,
             "#4d9221"
            ],
            [
             1,
             "#276419"
            ]
           ],
           "sequential": [
            [
             0,
             "#0d0887"
            ],
            [
             0.1111111111111111,
             "#46039f"
            ],
            [
             0.2222222222222222,
             "#7201a8"
            ],
            [
             0.3333333333333333,
             "#9c179e"
            ],
            [
             0.4444444444444444,
             "#bd3786"
            ],
            [
             0.5555555555555556,
             "#d8576b"
            ],
            [
             0.6666666666666666,
             "#ed7953"
            ],
            [
             0.7777777777777778,
             "#fb9f3a"
            ],
            [
             0.8888888888888888,
             "#fdca26"
            ],
            [
             1,
             "#f0f921"
            ]
           ],
           "sequentialminus": [
            [
             0,
             "#0d0887"
            ],
            [
             0.1111111111111111,
             "#46039f"
            ],
            [
             0.2222222222222222,
             "#7201a8"
            ],
            [
             0.3333333333333333,
             "#9c179e"
            ],
            [
             0.4444444444444444,
             "#bd3786"
            ],
            [
             0.5555555555555556,
             "#d8576b"
            ],
            [
             0.6666666666666666,
             "#ed7953"
            ],
            [
             0.7777777777777778,
             "#fb9f3a"
            ],
            [
             0.8888888888888888,
             "#fdca26"
            ],
            [
             1,
             "#f0f921"
            ]
           ]
          },
          "colorway": [
           "#636efa",
           "#EF553B",
           "#00cc96",
           "#ab63fa",
           "#FFA15A",
           "#19d3f3",
           "#FF6692",
           "#B6E880",
           "#FF97FF",
           "#FECB52"
          ],
          "font": {
           "color": "#2a3f5f"
          },
          "geo": {
           "bgcolor": "white",
           "lakecolor": "white",
           "landcolor": "#E5ECF6",
           "showlakes": true,
           "showland": true,
           "subunitcolor": "white"
          },
          "hoverlabel": {
           "align": "left"
          },
          "hovermode": "closest",
          "mapbox": {
           "style": "light"
          },
          "paper_bgcolor": "white",
          "plot_bgcolor": "#E5ECF6",
          "polar": {
           "angularaxis": {
            "gridcolor": "white",
            "linecolor": "white",
            "ticks": ""
           },
           "bgcolor": "#E5ECF6",
           "radialaxis": {
            "gridcolor": "white",
            "linecolor": "white",
            "ticks": ""
           }
          },
          "scene": {
           "xaxis": {
            "backgroundcolor": "#E5ECF6",
            "gridcolor": "white",
            "gridwidth": 2,
            "linecolor": "white",
            "showbackground": true,
            "ticks": "",
            "zerolinecolor": "white"
           },
           "yaxis": {
            "backgroundcolor": "#E5ECF6",
            "gridcolor": "white",
            "gridwidth": 2,
            "linecolor": "white",
            "showbackground": true,
            "ticks": "",
            "zerolinecolor": "white"
           },
           "zaxis": {
            "backgroundcolor": "#E5ECF6",
            "gridcolor": "white",
            "gridwidth": 2,
            "linecolor": "white",
            "showbackground": true,
            "ticks": "",
            "zerolinecolor": "white"
           }
          },
          "shapedefaults": {
           "line": {
            "color": "#2a3f5f"
           }
          },
          "ternary": {
           "aaxis": {
            "gridcolor": "white",
            "linecolor": "white",
            "ticks": ""
           },
           "baxis": {
            "gridcolor": "white",
            "linecolor": "white",
            "ticks": ""
           },
           "bgcolor": "#E5ECF6",
           "caxis": {
            "gridcolor": "white",
            "linecolor": "white",
            "ticks": ""
           }
          },
          "title": {
           "x": 0.05
          },
          "xaxis": {
           "automargin": true,
           "gridcolor": "white",
           "linecolor": "white",
           "ticks": "",
           "title": {
            "standoff": 15
           },
           "zerolinecolor": "white",
           "zerolinewidth": 2
          },
          "yaxis": {
           "automargin": true,
           "gridcolor": "white",
           "linecolor": "white",
           "ticks": "",
           "title": {
            "standoff": 15
           },
           "zerolinecolor": "white",
           "zerolinewidth": 2
          }
         }
        },
        "title": {
         "text": "Data Distribution"
        },
        "xaxis": {
         "title": {
          "text": "Unique Values"
         },
         "type": "category"
        },
        "yaxis": {
         "title": {
          "text": "Frequency"
         }
        }
       }
      }
     },
     "metadata": {},
     "output_type": "display_data"
    },
    {
     "name": "stdout",
     "output_type": "stream",
     "text": [
      "The mean of the data distribution is 105.6053504769805 and the standard deviation is 81.9564000560846\n"
     ]
    }
   ],
   "source": [
    "\n",
    "plot_data_distribution(y)"
   ]
  },
  {
   "cell_type": "code",
   "execution_count": null,
   "metadata": {},
   "outputs": [],
   "source": [
    "# Define the MLP regressor class\n",
    "class MLPRegressor(nn.Module):\n",
    "    def __init__(self, input_size, hidden_size):\n",
    "        super().__init__()\n",
    "        self.fc1 = nn.Linear(input_size, hidden_size)\n",
    "        self.fc2 = nn.Linear(hidden_size, hidden_size//2)\n",
    "        self.fc3 = nn.Linear(hidden_size//2, 1)\n",
    "\n",
    "    def forward(self, x):\n",
    "        x = torch.tanh(self.fc1(x))\n",
    "        x = torch.relu(self.fc2(x))\n",
    "        x = self.fc3(x)\n",
    "        return x\n",
    "\n",
    "# Create an instance of the MLP regressor\n",
    "input_size = X_train.shape[1]\n",
    "# hidden_size = int((X_train.shape[1] + 1) / 2)\n",
    "hidden_size = input_size\n",
    "mlp_regressor = MLPRegressor(input_size, hidden_size).to(device)\n",
    "if(LOAD_MLP_MODEL):\n",
    "    try:\n",
    "        mlp_regressor.load_state_dict(torch.load(MLP_MODEL_PATH))\n",
    "    except Exception as e:\n",
    "        print(\"Couldn't load model\")\n",
    "        print(e)\n",
    "\n",
    "# Define the loss function and optimizer\n",
    "criterion = nn.SmoothL1Loss()\n",
    "optimizer = torch.optim.Adam(mlp_regressor.parameters(), lr=0.001, weight_decay=1e-5)\n",
    "\n",
    "def create_batches(X, Y, batch_size):\n",
    "    num_batches = int(np.ceil(X.shape[0] / batch_size))\n",
    "    batches = []\n",
    "\n",
    "    for i in range(num_batches):\n",
    "        start = i * batch_size\n",
    "        end = start + batch_size\n",
    "        X_batch = X[start:end]\n",
    "        Y_batch = Y[start:end]\n",
    "        batches.append((X_batch, Y_batch))\n",
    "\n",
    "    return batches\n",
    "\n",
    "# Train the MLP regressor\n",
    "def train_mlp_regressor(regressor, optimizer, epochs, batch_size, X_train, Y_train):\n",
    "    # Convert the training data to PyTorch tensors\n",
    "    X_train_tensor = torch.tensor(X_train, dtype=torch.float32)\n",
    "    Y_train_tensor = torch.tensor(Y_train, dtype=torch.float32)\n",
    "\n",
    "    # Create manual batches\n",
    "    train_batches = create_batches(X_train_tensor, Y_train_tensor, batch_size)\n",
    "\n",
    "    for epoch in range(epochs):\n",
    "        for X_batch, Y_batch in train_batches:\n",
    "            # Move batch to the device\n",
    "            X_batch, Y_batch = X_batch.to(device), Y_batch.to(device)\n",
    "\n",
    "            # Forward pass\n",
    "            outputs = regressor(X_batch)\n",
    "            loss = criterion(outputs, Y_batch)\n",
    "\n",
    "            # Backward and optimize\n",
    "            optimizer.zero_grad()\n",
    "            loss.backward()\n",
    "            optimizer.step()\n",
    "\n",
    "        if (epoch + 1) % 10 == 0:\n",
    "            print(f'Epoch [{epoch+1}/{epochs}], Loss: {loss.item():.4f}')\n",
    "\n",
    "        \n",
    "def test_mlp_regressor(regressor, X_test, Y_test):\n",
    "    # Convert the testing data to PyTorch tensors\n",
    "    X_test_tensor = torch.tensor(X_test, dtype=torch.float32)\n",
    "    Y_test_tensor = torch.tensor(Y_test, dtype=torch.float32).squeeze()\n",
    "\n",
    "    # Test the MLP regressor\n",
    "    with torch.no_grad():\n",
    "        outputs = regressor(X_test_tensor)\n",
    "        loss = criterion(outputs, Y_test_tensor)\n",
    "        print(f'Loss: {loss.item():.4f}')\n",
    "        \n",
    "    # Convert the predictions to a NumPy array\n",
    "    return outputs.cpu().detach().numpy().squeeze()"
   ]
  },
  {
   "cell_type": "code",
   "execution_count": null,
   "metadata": {},
   "outputs": [
    {
     "name": "stdout",
     "output_type": "stream",
     "text": [
      "Epoch [10/7000], Loss: 45.5429\n",
      "Epoch [20/7000], Loss: 45.2101\n",
      "Epoch [30/7000], Loss: 44.9264\n",
      "Epoch [40/7000], Loss: 44.6169\n",
      "Epoch [50/7000], Loss: 43.6483\n",
      "Epoch [60/7000], Loss: 42.7349\n",
      "Epoch [70/7000], Loss: 42.3602\n",
      "Epoch [80/7000], Loss: 42.0200\n",
      "Epoch [90/7000], Loss: 41.6281\n",
      "Epoch [100/7000], Loss: 41.3981\n",
      "Epoch [110/7000], Loss: 41.6619\n",
      "Epoch [120/7000], Loss: 40.9275\n",
      "Epoch [130/7000], Loss: 40.7086\n",
      "Epoch [140/7000], Loss: 40.6786\n",
      "Epoch [150/7000], Loss: 40.6872\n",
      "Epoch [160/7000], Loss: 40.0651\n",
      "Epoch [170/7000], Loss: 39.1113\n",
      "Epoch [180/7000], Loss: 38.5569\n",
      "Epoch [190/7000], Loss: 39.0661\n",
      "Epoch [200/7000], Loss: 38.4773\n",
      "Epoch [210/7000], Loss: 37.2180\n",
      "Epoch [220/7000], Loss: 36.9654\n",
      "Epoch [230/7000], Loss: 36.6381\n",
      "Epoch [240/7000], Loss: 36.4089\n",
      "Epoch [250/7000], Loss: 35.9526\n",
      "Epoch [260/7000], Loss: 36.1229\n",
      "Epoch [270/7000], Loss: 35.3675\n",
      "Epoch [280/7000], Loss: 35.4089\n",
      "Epoch [290/7000], Loss: 34.3976\n",
      "Epoch [300/7000], Loss: 34.4660\n",
      "Epoch [310/7000], Loss: 34.0472\n",
      "Epoch [320/7000], Loss: 34.0638\n",
      "Epoch [330/7000], Loss: 33.2987\n",
      "Epoch [340/7000], Loss: 32.9510\n",
      "Epoch [350/7000], Loss: 33.3137\n",
      "Epoch [360/7000], Loss: 33.0681\n",
      "Epoch [370/7000], Loss: 32.4197\n",
      "Epoch [380/7000], Loss: 31.8032\n",
      "Epoch [390/7000], Loss: 32.7661\n",
      "Epoch [400/7000], Loss: 31.6924\n",
      "Epoch [410/7000], Loss: 31.6483\n",
      "Epoch [420/7000], Loss: 31.0156\n",
      "Epoch [430/7000], Loss: 31.3840\n",
      "Epoch [440/7000], Loss: 30.2936\n",
      "Epoch [450/7000], Loss: 30.0985\n",
      "Epoch [460/7000], Loss: 29.6963\n",
      "Epoch [470/7000], Loss: 30.2603\n",
      "Epoch [480/7000], Loss: 29.3230\n",
      "Epoch [490/7000], Loss: 29.1354\n",
      "Epoch [500/7000], Loss: 28.5261\n",
      "Epoch [510/7000], Loss: 28.0181\n",
      "Epoch [520/7000], Loss: 28.1433\n",
      "Epoch [530/7000], Loss: 28.2670\n",
      "Epoch [540/7000], Loss: 28.0163\n",
      "Epoch [550/7000], Loss: 27.7254\n",
      "Epoch [560/7000], Loss: 27.1467\n",
      "Epoch [570/7000], Loss: 26.9090\n",
      "Epoch [580/7000], Loss: 26.2866\n",
      "Epoch [590/7000], Loss: 26.1269\n",
      "Epoch [600/7000], Loss: 26.0437\n",
      "Epoch [610/7000], Loss: 25.7566\n",
      "Epoch [620/7000], Loss: 26.0352\n",
      "Epoch [630/7000], Loss: 25.1672\n",
      "Epoch [640/7000], Loss: 24.8156\n",
      "Epoch [650/7000], Loss: 26.1982\n",
      "Epoch [660/7000], Loss: 26.1527\n",
      "Epoch [670/7000], Loss: 26.0965\n",
      "Epoch [680/7000], Loss: 26.1143\n",
      "Epoch [690/7000], Loss: 25.8173\n",
      "Epoch [700/7000], Loss: 25.2777\n",
      "Epoch [710/7000], Loss: 24.2049\n",
      "Epoch [720/7000], Loss: 23.9401\n",
      "Epoch [730/7000], Loss: 24.0211\n",
      "Epoch [740/7000], Loss: 23.5867\n",
      "Epoch [750/7000], Loss: 23.5747\n",
      "Epoch [760/7000], Loss: 24.0095\n",
      "Epoch [770/7000], Loss: 23.9671\n",
      "Epoch [780/7000], Loss: 23.0933\n",
      "Epoch [790/7000], Loss: 23.0506\n",
      "Epoch [800/7000], Loss: 22.6122\n",
      "Epoch [810/7000], Loss: 22.8032\n",
      "Epoch [820/7000], Loss: 22.5283\n",
      "Epoch [830/7000], Loss: 23.0934\n",
      "Epoch [840/7000], Loss: 23.7162\n",
      "Epoch [850/7000], Loss: 23.8922\n",
      "Epoch [860/7000], Loss: 23.3322\n",
      "Epoch [870/7000], Loss: 23.3217\n",
      "Epoch [880/7000], Loss: 23.4774\n",
      "Epoch [890/7000], Loss: 23.2642\n",
      "Epoch [900/7000], Loss: 23.0449\n",
      "Epoch [910/7000], Loss: 22.8025\n",
      "Epoch [920/7000], Loss: 21.8153\n",
      "Epoch [930/7000], Loss: 21.3139\n",
      "Epoch [940/7000], Loss: 21.2949\n",
      "Epoch [950/7000], Loss: 21.1599\n",
      "Epoch [960/7000], Loss: 20.6604\n",
      "Epoch [970/7000], Loss: 21.4100\n",
      "Epoch [980/7000], Loss: 21.7171\n",
      "Epoch [990/7000], Loss: 20.7749\n",
      "Epoch [1000/7000], Loss: 21.3360\n",
      "Epoch [1010/7000], Loss: 22.0791\n",
      "Epoch [1020/7000], Loss: 20.3198\n",
      "Epoch [1030/7000], Loss: 20.6799\n",
      "Epoch [1040/7000], Loss: 21.5565\n",
      "Epoch [1050/7000], Loss: 21.3692\n",
      "Epoch [1060/7000], Loss: 21.0153\n",
      "Epoch [1070/7000], Loss: 19.9738\n",
      "Epoch [1080/7000], Loss: 20.8507\n",
      "Epoch [1090/7000], Loss: 22.1847\n",
      "Epoch [1100/7000], Loss: 21.6556\n",
      "Epoch [1110/7000], Loss: 21.7868\n",
      "Epoch [1120/7000], Loss: 20.1134\n",
      "Epoch [1130/7000], Loss: 19.7127\n",
      "Epoch [1140/7000], Loss: 19.5512\n",
      "Epoch [1150/7000], Loss: 20.4439\n",
      "Epoch [1160/7000], Loss: 20.0738\n",
      "Epoch [1170/7000], Loss: 19.2667\n",
      "Epoch [1180/7000], Loss: 21.3678\n",
      "Epoch [1190/7000], Loss: 19.2245\n",
      "Epoch [1200/7000], Loss: 19.0675\n",
      "Epoch [1210/7000], Loss: 18.9636\n",
      "Epoch [1220/7000], Loss: 18.9640\n",
      "Epoch [1230/7000], Loss: 20.9633\n",
      "Epoch [1240/7000], Loss: 20.1403\n",
      "Epoch [1250/7000], Loss: 18.6448\n",
      "Epoch [1260/7000], Loss: 19.1435\n",
      "Epoch [1270/7000], Loss: 18.1392\n",
      "Epoch [1280/7000], Loss: 20.5368\n",
      "Epoch [1290/7000], Loss: 18.1615\n",
      "Epoch [1300/7000], Loss: 18.3346\n",
      "Epoch [1310/7000], Loss: 17.8712\n",
      "Epoch [1320/7000], Loss: 19.8500\n",
      "Epoch [1330/7000], Loss: 19.0110\n",
      "Epoch [1340/7000], Loss: 18.3643\n",
      "Epoch [1350/7000], Loss: 17.0927\n",
      "Epoch [1360/7000], Loss: 19.8401\n",
      "Epoch [1370/7000], Loss: 18.1330\n",
      "Epoch [1380/7000], Loss: 17.9597\n",
      "Epoch [1390/7000], Loss: 17.2148\n",
      "Epoch [1400/7000], Loss: 19.8735\n",
      "Epoch [1410/7000], Loss: 17.5987\n",
      "Epoch [1420/7000], Loss: 16.9495\n",
      "Epoch [1430/7000], Loss: 18.7262\n",
      "Epoch [1440/7000], Loss: 19.9273\n",
      "Epoch [1450/7000], Loss: 17.4965\n",
      "Epoch [1460/7000], Loss: 17.0810\n",
      "Epoch [1470/7000], Loss: 17.3503\n",
      "Epoch [1480/7000], Loss: 20.1692\n",
      "Epoch [1490/7000], Loss: 17.1207\n",
      "Epoch [1500/7000], Loss: 16.0831\n",
      "Epoch [1510/7000], Loss: 18.4701\n",
      "Epoch [1520/7000], Loss: 17.0681\n",
      "Epoch [1530/7000], Loss: 18.2271\n",
      "Epoch [1540/7000], Loss: 16.3515\n",
      "Epoch [1550/7000], Loss: 18.7205\n",
      "Epoch [1560/7000], Loss: 16.2637\n",
      "Epoch [1570/7000], Loss: 18.2339\n",
      "Epoch [1580/7000], Loss: 16.8371\n",
      "Epoch [1590/7000], Loss: 18.4517\n",
      "Epoch [1600/7000], Loss: 16.7373\n",
      "Epoch [1610/7000], Loss: 15.7652\n",
      "Epoch [1620/7000], Loss: 16.8755\n",
      "Epoch [1630/7000], Loss: 18.2839\n",
      "Epoch [1640/7000], Loss: 15.5067\n",
      "Epoch [1650/7000], Loss: 15.2852\n",
      "Epoch [1660/7000], Loss: 17.0201\n",
      "Epoch [1670/7000], Loss: 16.1379\n",
      "Epoch [1680/7000], Loss: 18.4281\n",
      "Epoch [1690/7000], Loss: 14.9563\n",
      "Epoch [1700/7000], Loss: 17.1781\n",
      "Epoch [1710/7000], Loss: 15.4847\n",
      "Epoch [1720/7000], Loss: 16.5202\n",
      "Epoch [1730/7000], Loss: 14.9824\n",
      "Epoch [1740/7000], Loss: 17.4676\n",
      "Epoch [1750/7000], Loss: 14.7151\n",
      "Epoch [1760/7000], Loss: 16.4893\n",
      "Epoch [1770/7000], Loss: 15.6341\n",
      "Epoch [1780/7000], Loss: 15.6972\n",
      "Epoch [1790/7000], Loss: 17.1506\n",
      "Epoch [1800/7000], Loss: 16.6376\n",
      "Epoch [1810/7000], Loss: 16.4209\n",
      "Epoch [1820/7000], Loss: 15.2876\n",
      "Epoch [1830/7000], Loss: 14.4048\n",
      "Epoch [1840/7000], Loss: 15.9105\n",
      "Epoch [1850/7000], Loss: 14.2196\n",
      "Epoch [1860/7000], Loss: 17.0735\n",
      "Epoch [1870/7000], Loss: 14.1729\n",
      "Epoch [1880/7000], Loss: 16.5324\n",
      "Epoch [1890/7000], Loss: 13.9992\n",
      "Epoch [1900/7000], Loss: 13.9086\n",
      "Epoch [1910/7000], Loss: 16.0409\n",
      "Epoch [1920/7000], Loss: 16.0685\n",
      "Epoch [1930/7000], Loss: 15.1478\n",
      "Epoch [1940/7000], Loss: 13.6317\n",
      "Epoch [1950/7000], Loss: 13.7138\n",
      "Epoch [1960/7000], Loss: 15.6213\n",
      "Epoch [1970/7000], Loss: 13.5987\n",
      "Epoch [1980/7000], Loss: 13.3835\n",
      "Epoch [1990/7000], Loss: 14.8523\n",
      "Epoch [2000/7000], Loss: 15.0260\n",
      "Epoch [2010/7000], Loss: 15.5487\n",
      "Epoch [2020/7000], Loss: 13.7343\n",
      "Epoch [2030/7000], Loss: 13.6985\n",
      "Epoch [2040/7000], Loss: 13.4665\n",
      "Epoch [2050/7000], Loss: 13.2787\n",
      "Epoch [2060/7000], Loss: 14.5775\n",
      "Epoch [2070/7000], Loss: 15.3797\n",
      "Epoch [2080/7000], Loss: 14.6913\n",
      "Epoch [2090/7000], Loss: 13.6496\n",
      "Epoch [2100/7000], Loss: 13.6850\n",
      "Epoch [2110/7000], Loss: 13.4598\n",
      "Epoch [2120/7000], Loss: 13.9299\n",
      "Epoch [2130/7000], Loss: 15.8396\n",
      "Epoch [2140/7000], Loss: 14.0731\n",
      "Epoch [2150/7000], Loss: 15.4280\n",
      "Epoch [2160/7000], Loss: 13.9960\n",
      "Epoch [2170/7000], Loss: 15.0952\n",
      "Epoch [2180/7000], Loss: 13.5450\n",
      "Epoch [2190/7000], Loss: 14.4659\n",
      "Epoch [2200/7000], Loss: 12.6899\n",
      "Epoch [2210/7000], Loss: 12.6802\n",
      "Epoch [2220/7000], Loss: 12.2917\n",
      "Epoch [2230/7000], Loss: 12.5228\n",
      "Epoch [2240/7000], Loss: 13.3236\n",
      "Epoch [2250/7000], Loss: 12.1767\n",
      "Epoch [2260/7000], Loss: 13.3083\n",
      "Epoch [2270/7000], Loss: 16.0614\n",
      "Epoch [2280/7000], Loss: 11.6260\n",
      "Epoch [2290/7000], Loss: 11.5655\n",
      "Epoch [2300/7000], Loss: 13.4206\n",
      "Epoch [2310/7000], Loss: 13.7335\n",
      "Epoch [2320/7000], Loss: 14.3747\n",
      "Epoch [2330/7000], Loss: 12.2441\n",
      "Epoch [2340/7000], Loss: 11.9606\n",
      "Epoch [2350/7000], Loss: 11.4608\n",
      "Epoch [2360/7000], Loss: 12.0726\n",
      "Epoch [2370/7000], Loss: 12.9943\n",
      "Epoch [2380/7000], Loss: 12.9996\n",
      "Epoch [2390/7000], Loss: 11.3530\n",
      "Epoch [2400/7000], Loss: 12.3654\n",
      "Epoch [2410/7000], Loss: 12.8616\n",
      "Epoch [2420/7000], Loss: 12.9440\n",
      "Epoch [2430/7000], Loss: 11.9128\n",
      "Epoch [2440/7000], Loss: 11.8853\n",
      "Epoch [2450/7000], Loss: 12.0176\n",
      "Epoch [2460/7000], Loss: 11.5444\n",
      "Epoch [2470/7000], Loss: 11.9814\n",
      "Epoch [2480/7000], Loss: 11.9174\n",
      "Epoch [2490/7000], Loss: 10.9151\n",
      "Epoch [2500/7000], Loss: 10.9640\n",
      "Epoch [2510/7000], Loss: 12.8718\n",
      "Epoch [2520/7000], Loss: 11.1126\n",
      "Epoch [2530/7000], Loss: 12.3585\n",
      "Epoch [2540/7000], Loss: 11.2668\n",
      "Epoch [2550/7000], Loss: 11.9357\n",
      "Epoch [2560/7000], Loss: 11.0997\n",
      "Epoch [2570/7000], Loss: 12.6030\n",
      "Epoch [2580/7000], Loss: 11.3853\n",
      "Epoch [2590/7000], Loss: 11.9993\n",
      "Epoch [2600/7000], Loss: 11.3806\n",
      "Epoch [2610/7000], Loss: 12.0001\n",
      "Epoch [2620/7000], Loss: 10.9986\n",
      "Epoch [2630/7000], Loss: 11.8979\n",
      "Epoch [2640/7000], Loss: 10.9808\n",
      "Epoch [2650/7000], Loss: 10.3381\n",
      "Epoch [2660/7000], Loss: 11.8802\n",
      "Epoch [2670/7000], Loss: 10.3991\n",
      "Epoch [2680/7000], Loss: 12.3025\n",
      "Epoch [2690/7000], Loss: 11.6831\n",
      "Epoch [2700/7000], Loss: 10.6211\n",
      "Epoch [2710/7000], Loss: 10.2468\n",
      "Epoch [2720/7000], Loss: 10.6304\n",
      "Epoch [2730/7000], Loss: 10.9749\n",
      "Epoch [2740/7000], Loss: 10.8808\n",
      "Epoch [2750/7000], Loss: 10.5009\n",
      "Epoch [2760/7000], Loss: 11.9634\n",
      "Epoch [2770/7000], Loss: 10.3236\n",
      "Epoch [2780/7000], Loss: 10.5300\n",
      "Epoch [2790/7000], Loss: 13.9104\n",
      "Epoch [2800/7000], Loss: 15.2363\n",
      "Epoch [2810/7000], Loss: 10.0263\n",
      "Epoch [2820/7000], Loss: 10.6161\n",
      "Epoch [2830/7000], Loss: 9.8842\n",
      "Epoch [2840/7000], Loss: 10.5336\n",
      "Epoch [2850/7000], Loss: 9.9541\n",
      "Epoch [2860/7000], Loss: 9.8049\n",
      "Epoch [2870/7000], Loss: 9.4010\n",
      "Epoch [2880/7000], Loss: 10.6825\n",
      "Epoch [2890/7000], Loss: 9.4608\n",
      "Epoch [2900/7000], Loss: 9.5166\n",
      "Epoch [2910/7000], Loss: 9.4438\n",
      "Epoch [2920/7000], Loss: 10.5971\n",
      "Epoch [2930/7000], Loss: 9.5699\n",
      "Epoch [2940/7000], Loss: 11.6847\n",
      "Epoch [2950/7000], Loss: 9.7004\n",
      "Epoch [2960/7000], Loss: 9.9118\n",
      "Epoch [2970/7000], Loss: 12.1158\n",
      "Epoch [2980/7000], Loss: 10.0530\n",
      "Epoch [2990/7000], Loss: 11.4474\n",
      "Epoch [3000/7000], Loss: 9.6013\n",
      "Epoch [3010/7000], Loss: 13.2300\n",
      "Epoch [3020/7000], Loss: 14.0195\n",
      "Epoch [3030/7000], Loss: 9.4731\n",
      "Epoch [3040/7000], Loss: 9.5969\n",
      "Epoch [3050/7000], Loss: 9.0565\n",
      "Epoch [3060/7000], Loss: 9.3925\n",
      "Epoch [3070/7000], Loss: 9.7418\n",
      "Epoch [3080/7000], Loss: 8.9696\n",
      "Epoch [3090/7000], Loss: 9.0303\n",
      "Epoch [3100/7000], Loss: 9.1781\n",
      "Epoch [3110/7000], Loss: 8.5811\n",
      "Epoch [3120/7000], Loss: 12.9968\n",
      "Epoch [3130/7000], Loss: 8.8363\n",
      "Epoch [3140/7000], Loss: 8.9552\n",
      "Epoch [3150/7000], Loss: 8.9217\n",
      "Epoch [3160/7000], Loss: 10.5372\n",
      "Epoch [3170/7000], Loss: 8.7313\n",
      "Epoch [3180/7000], Loss: 10.1069\n",
      "Epoch [3190/7000], Loss: 8.7459\n",
      "Epoch [3200/7000], Loss: 9.3289\n",
      "Epoch [3210/7000], Loss: 8.4578\n",
      "Epoch [3220/7000], Loss: 11.4846\n",
      "Epoch [3230/7000], Loss: 8.5965\n",
      "Epoch [3240/7000], Loss: 8.5167\n",
      "Epoch [3250/7000], Loss: 8.1475\n",
      "Epoch [3260/7000], Loss: 9.4067\n",
      "Epoch [3270/7000], Loss: 8.8673\n",
      "Epoch [3280/7000], Loss: 13.3513\n",
      "Epoch [3290/7000], Loss: 12.8599\n",
      "Epoch [3300/7000], Loss: 9.8171\n",
      "Epoch [3310/7000], Loss: 12.9061\n",
      "Epoch [3320/7000], Loss: 12.4201\n",
      "Epoch [3330/7000], Loss: 10.7973\n",
      "Epoch [3340/7000], Loss: 11.9141\n",
      "Epoch [3350/7000], Loss: 13.1534\n",
      "Epoch [3360/7000], Loss: 7.9325\n",
      "Epoch [3370/7000], Loss: 8.2697\n",
      "Epoch [3380/7000], Loss: 9.0315\n",
      "Epoch [3390/7000], Loss: 8.3251\n",
      "Epoch [3400/7000], Loss: 9.5557\n",
      "Epoch [3410/7000], Loss: 8.2642\n",
      "Epoch [3420/7000], Loss: 7.9770\n",
      "Epoch [3430/7000], Loss: 9.7006\n",
      "Epoch [3440/7000], Loss: 7.8792\n",
      "Epoch [3450/7000], Loss: 9.4953\n",
      "Epoch [3460/7000], Loss: 8.1623\n",
      "Epoch [3470/7000], Loss: 10.9235\n",
      "Epoch [3480/7000], Loss: 14.1723\n",
      "Epoch [3490/7000], Loss: 8.1862\n",
      "Epoch [3500/7000], Loss: 8.5104\n",
      "Epoch [3510/7000], Loss: 8.5622\n",
      "Epoch [3520/7000], Loss: 7.9502\n",
      "Epoch [3530/7000], Loss: 8.5141\n",
      "Epoch [3540/7000], Loss: 8.6049\n",
      "Epoch [3550/7000], Loss: 8.0647\n",
      "Epoch [3560/7000], Loss: 7.5802\n",
      "Epoch [3570/7000], Loss: 7.9268\n",
      "Epoch [3580/7000], Loss: 7.4451\n",
      "Epoch [3590/7000], Loss: 9.2277\n",
      "Epoch [3600/7000], Loss: 7.7604\n",
      "Epoch [3610/7000], Loss: 9.6160\n",
      "Epoch [3620/7000], Loss: 8.5070\n",
      "Epoch [3630/7000], Loss: 8.4249\n",
      "Epoch [3640/7000], Loss: 9.7592\n",
      "Epoch [3650/7000], Loss: 9.9621\n",
      "Epoch [3660/7000], Loss: 8.4816\n",
      "Epoch [3670/7000], Loss: 11.8644\n",
      "Epoch [3680/7000], Loss: 8.9393\n",
      "Epoch [3690/7000], Loss: 12.5180\n",
      "Epoch [3700/7000], Loss: 10.4364\n",
      "Epoch [3710/7000], Loss: 7.3353\n",
      "Epoch [3720/7000], Loss: 7.5875\n",
      "Epoch [3730/7000], Loss: 7.5572\n",
      "Epoch [3740/7000], Loss: 7.8817\n",
      "Epoch [3750/7000], Loss: 8.7036\n",
      "Epoch [3760/7000], Loss: 7.4788\n",
      "Epoch [3770/7000], Loss: 7.7569\n",
      "Epoch [3780/7000], Loss: 7.2162\n",
      "Epoch [3790/7000], Loss: 8.0833\n",
      "Epoch [3800/7000], Loss: 6.9462\n",
      "Epoch [3810/7000], Loss: 10.5504\n",
      "Epoch [3820/7000], Loss: 6.9006\n",
      "Epoch [3830/7000], Loss: 10.5412\n",
      "Epoch [3840/7000], Loss: 6.9413\n",
      "Epoch [3850/7000], Loss: 8.6540\n",
      "Epoch [3860/7000], Loss: 7.2112\n",
      "Epoch [3870/7000], Loss: 8.0955\n",
      "Epoch [3880/7000], Loss: 7.9925\n",
      "Epoch [3890/7000], Loss: 11.4224\n",
      "Epoch [3900/7000], Loss: 11.1502\n",
      "Epoch [3910/7000], Loss: 11.7100\n",
      "Epoch [3920/7000], Loss: 7.3648\n",
      "Epoch [3930/7000], Loss: 7.5278\n",
      "Epoch [3940/7000], Loss: 7.2775\n",
      "Epoch [3950/7000], Loss: 8.5183\n",
      "Epoch [3960/7000], Loss: 7.0626\n",
      "Epoch [3970/7000], Loss: 10.9986\n",
      "Epoch [3980/7000], Loss: 8.0027\n",
      "Epoch [3990/7000], Loss: 8.3498\n",
      "Epoch [4000/7000], Loss: 9.4134\n",
      "Epoch [4010/7000], Loss: 12.6031\n",
      "Epoch [4020/7000], Loss: 11.0588\n",
      "Epoch [4030/7000], Loss: 8.3781\n",
      "Epoch [4040/7000], Loss: 7.0840\n",
      "Epoch [4050/7000], Loss: 7.1421\n",
      "Epoch [4060/7000], Loss: 6.9042\n",
      "Epoch [4070/7000], Loss: 6.8176\n",
      "Epoch [4080/7000], Loss: 6.6928\n",
      "Epoch [4090/7000], Loss: 7.7193\n",
      "Epoch [4100/7000], Loss: 6.6621\n",
      "Epoch [4110/7000], Loss: 8.1657\n",
      "Epoch [4120/7000], Loss: 6.9046\n",
      "Epoch [4130/7000], Loss: 7.8398\n",
      "Epoch [4140/7000], Loss: 6.7954\n",
      "Epoch [4150/7000], Loss: 6.8866\n",
      "Epoch [4160/7000], Loss: 6.6805\n",
      "Epoch [4170/7000], Loss: 7.3142\n",
      "Epoch [4180/7000], Loss: 7.8445\n",
      "Epoch [4190/7000], Loss: 8.6053\n",
      "Epoch [4200/7000], Loss: 6.9649\n",
      "Epoch [4210/7000], Loss: 6.6953\n",
      "Epoch [4220/7000], Loss: 6.8109\n",
      "Epoch [4230/7000], Loss: 6.7076\n",
      "Epoch [4240/7000], Loss: 6.8728\n",
      "Epoch [4250/7000], Loss: 6.7079\n",
      "Epoch [4260/7000], Loss: 6.4467\n",
      "Epoch [4270/7000], Loss: 12.0310\n",
      "Epoch [4280/7000], Loss: 7.8288\n",
      "Epoch [4290/7000], Loss: 12.3017\n",
      "Epoch [4300/7000], Loss: 11.3620\n",
      "Epoch [4310/7000], Loss: 6.8677\n",
      "Epoch [4320/7000], Loss: 7.2566\n",
      "Epoch [4330/7000], Loss: 7.0821\n",
      "Epoch [4340/7000], Loss: 6.6755\n",
      "Epoch [4350/7000], Loss: 6.2919\n",
      "Epoch [4360/7000], Loss: 10.4585\n",
      "Epoch [4370/7000], Loss: 9.9906\n",
      "Epoch [4380/7000], Loss: 10.1639\n",
      "Epoch [4390/7000], Loss: 6.9067\n",
      "Epoch [4400/7000], Loss: 6.8623\n",
      "Epoch [4410/7000], Loss: 7.1444\n",
      "Epoch [4420/7000], Loss: 6.2273\n",
      "Epoch [4430/7000], Loss: 11.6088\n",
      "Epoch [4440/7000], Loss: 6.8478\n",
      "Epoch [4450/7000], Loss: 6.5692\n",
      "Epoch [4460/7000], Loss: 6.2812\n",
      "Epoch [4470/7000], Loss: 6.0719\n",
      "Epoch [4480/7000], Loss: 6.2783\n",
      "Epoch [4490/7000], Loss: 7.7880\n",
      "Epoch [4500/7000], Loss: 11.9920\n",
      "Epoch [4510/7000], Loss: 6.7244\n",
      "Epoch [4520/7000], Loss: 5.9695\n",
      "Epoch [4530/7000], Loss: 6.0714\n",
      "Epoch [4540/7000], Loss: 9.1583\n",
      "Epoch [4550/7000], Loss: 6.7970\n",
      "Epoch [4560/7000], Loss: 6.2159\n",
      "Epoch [4570/7000], Loss: 5.8258\n",
      "Epoch [4580/7000], Loss: 8.3747\n",
      "Epoch [4590/7000], Loss: 7.0693\n",
      "Epoch [4600/7000], Loss: 6.9147\n",
      "Epoch [4610/7000], Loss: 6.3709\n",
      "Epoch [4620/7000], Loss: 6.1906\n",
      "Epoch [4630/7000], Loss: 6.6282\n",
      "Epoch [4640/7000], Loss: 5.7579\n",
      "Epoch [4650/7000], Loss: 6.2800\n",
      "Epoch [4660/7000], Loss: 7.7891\n",
      "Epoch [4670/7000], Loss: 11.1204\n",
      "Epoch [4680/7000], Loss: 7.9769\n",
      "Epoch [4690/7000], Loss: 10.7117\n",
      "Epoch [4700/7000], Loss: 10.8455\n",
      "Epoch [4710/7000], Loss: 6.3567\n",
      "Epoch [4720/7000], Loss: 6.4156\n",
      "Epoch [4730/7000], Loss: 6.0691\n",
      "Epoch [4740/7000], Loss: 7.7702\n",
      "Epoch [4750/7000], Loss: 6.8556\n",
      "Epoch [4760/7000], Loss: 6.1970\n",
      "Epoch [4770/7000], Loss: 7.5260\n",
      "Epoch [4780/7000], Loss: 6.4314\n",
      "Epoch [4790/7000], Loss: 11.9800\n",
      "Epoch [4800/7000], Loss: 6.3134\n",
      "Epoch [4810/7000], Loss: 6.2820\n",
      "Epoch [4820/7000], Loss: 5.6831\n",
      "Epoch [4830/7000], Loss: 5.8609\n",
      "Epoch [4840/7000], Loss: 6.2607\n",
      "Epoch [4850/7000], Loss: 5.9262\n",
      "Epoch [4860/7000], Loss: 6.2341\n",
      "Epoch [4870/7000], Loss: 5.8232\n",
      "Epoch [4880/7000], Loss: 5.4522\n",
      "Epoch [4890/7000], Loss: 6.6669\n",
      "Epoch [4900/7000], Loss: 6.0911\n",
      "Epoch [4910/7000], Loss: 7.9099\n",
      "Epoch [4920/7000], Loss: 5.7934\n",
      "Epoch [4930/7000], Loss: 6.2926\n",
      "Epoch [4940/7000], Loss: 5.8991\n",
      "Epoch [4950/7000], Loss: 9.7155\n",
      "Epoch [4960/7000], Loss: 6.6394\n",
      "Epoch [4970/7000], Loss: 6.1336\n",
      "Epoch [4980/7000], Loss: 5.1357\n",
      "Epoch [4990/7000], Loss: 5.9032\n",
      "Epoch [5000/7000], Loss: 5.8773\n",
      "Epoch [5010/7000], Loss: 6.2928\n",
      "Epoch [5020/7000], Loss: 6.1424\n",
      "Epoch [5030/7000], Loss: 5.5722\n",
      "Epoch [5040/7000], Loss: 5.7369\n",
      "Epoch [5050/7000], Loss: 6.1166\n",
      "Epoch [5060/7000], Loss: 6.1687\n",
      "Epoch [5070/7000], Loss: 7.1746\n",
      "Epoch [5080/7000], Loss: 5.7486\n",
      "Epoch [5090/7000], Loss: 6.1812\n",
      "Epoch [5100/7000], Loss: 6.7491\n",
      "Epoch [5110/7000], Loss: 14.5723\n",
      "Epoch [5120/7000], Loss: 6.1277\n",
      "Epoch [5130/7000], Loss: 5.9238\n",
      "Epoch [5140/7000], Loss: 5.3100\n",
      "Epoch [5150/7000], Loss: 5.6169\n",
      "Epoch [5160/7000], Loss: 5.4879\n",
      "Epoch [5170/7000], Loss: 5.8661\n",
      "Epoch [5180/7000], Loss: 5.2209\n",
      "Epoch [5190/7000], Loss: 6.0241\n",
      "Epoch [5200/7000], Loss: 5.8503\n",
      "Epoch [5210/7000], Loss: 12.4260\n",
      "Epoch [5220/7000], Loss: 6.2642\n",
      "Epoch [5230/7000], Loss: 5.5815\n",
      "Epoch [5240/7000], Loss: 5.9026\n",
      "Epoch [5250/7000], Loss: 6.0550\n",
      "Epoch [5260/7000], Loss: 5.2334\n",
      "Epoch [5270/7000], Loss: 6.0762\n",
      "Epoch [5280/7000], Loss: 6.1574\n",
      "Epoch [5290/7000], Loss: 7.5880\n",
      "Epoch [5300/7000], Loss: 5.2894\n",
      "Epoch [5310/7000], Loss: 5.0027\n",
      "Epoch [5320/7000], Loss: 5.5495\n",
      "Epoch [5330/7000], Loss: 4.9618\n",
      "Epoch [5340/7000], Loss: 5.1517\n",
      "Epoch [5350/7000], Loss: 11.4730\n",
      "Epoch [5360/7000], Loss: 5.1356\n",
      "Epoch [5370/7000], Loss: 6.1884\n",
      "Epoch [5380/7000], Loss: 5.0756\n",
      "Epoch [5390/7000], Loss: 7.1767\n",
      "Epoch [5400/7000], Loss: 6.1496\n",
      "Epoch [5410/7000], Loss: 5.5919\n",
      "Epoch [5420/7000], Loss: 5.5935\n",
      "Epoch [5430/7000], Loss: 5.9162\n",
      "Epoch [5440/7000], Loss: 4.7808\n",
      "Epoch [5450/7000], Loss: 6.2658\n",
      "Epoch [5460/7000], Loss: 17.1267\n",
      "Epoch [5470/7000], Loss: 6.5843\n",
      "Epoch [5480/7000], Loss: 5.9220\n",
      "Epoch [5490/7000], Loss: 4.9656\n",
      "Epoch [5500/7000], Loss: 5.4049\n",
      "Epoch [5510/7000], Loss: 5.1956\n",
      "Epoch [5520/7000], Loss: 4.7701\n",
      "Epoch [5530/7000], Loss: 10.6257\n",
      "Epoch [5540/7000], Loss: 5.4309\n",
      "Epoch [5550/7000], Loss: 14.4239\n",
      "Epoch [5560/7000], Loss: 5.1656\n",
      "Epoch [5570/7000], Loss: 6.0822\n",
      "Epoch [5580/7000], Loss: 12.6203\n",
      "Epoch [5590/7000], Loss: 4.9274\n",
      "Epoch [5600/7000], Loss: 5.5179\n",
      "Epoch [5610/7000], Loss: 4.9644\n",
      "Epoch [5620/7000], Loss: 5.1102\n",
      "Epoch [5630/7000], Loss: 8.6301\n",
      "Epoch [5640/7000], Loss: 5.1552\n",
      "Epoch [5650/7000], Loss: 5.0674\n",
      "Epoch [5660/7000], Loss: 5.1717\n",
      "Epoch [5670/7000], Loss: 5.2055\n",
      "Epoch [5680/7000], Loss: 6.2513\n",
      "Epoch [5690/7000], Loss: 4.3699\n",
      "Epoch [5700/7000], Loss: 6.1141\n",
      "Epoch [5710/7000], Loss: 13.2930\n",
      "Epoch [5720/7000], Loss: 5.5521\n",
      "Epoch [5730/7000], Loss: 5.1384\n",
      "Epoch [5740/7000], Loss: 4.9351\n",
      "Epoch [5750/7000], Loss: 5.1872\n",
      "Epoch [5760/7000], Loss: 5.6317\n",
      "Epoch [5770/7000], Loss: 5.0029\n",
      "Epoch [5780/7000], Loss: 6.9060\n",
      "Epoch [5790/7000], Loss: 5.8904\n",
      "Epoch [5800/7000], Loss: 5.1969\n",
      "Epoch [5810/7000], Loss: 5.2195\n",
      "Epoch [5820/7000], Loss: 4.7398\n",
      "Epoch [5830/7000], Loss: 4.1302\n",
      "Epoch [5840/7000], Loss: 5.6119\n",
      "Epoch [5850/7000], Loss: 4.6467\n",
      "Epoch [5860/7000], Loss: 4.6935\n",
      "Epoch [5870/7000], Loss: 5.3737\n",
      "Epoch [5880/7000], Loss: 4.6901\n",
      "Epoch [5890/7000], Loss: 4.6066\n",
      "Epoch [5900/7000], Loss: 5.1542\n",
      "Epoch [5910/7000], Loss: 4.3160\n",
      "Epoch [5920/7000], Loss: 4.2764\n",
      "Epoch [5930/7000], Loss: 6.5680\n",
      "Epoch [5940/7000], Loss: 4.9600\n",
      "Epoch [5950/7000], Loss: 4.4424\n",
      "Epoch [5960/7000], Loss: 5.3847\n",
      "Epoch [5970/7000], Loss: 5.4735\n",
      "Epoch [5980/7000], Loss: 4.9208\n",
      "Epoch [5990/7000], Loss: 4.1762\n",
      "Epoch [6000/7000], Loss: 5.1898\n",
      "Epoch [6010/7000], Loss: 4.2739\n",
      "Epoch [6020/7000], Loss: 7.9816\n",
      "Epoch [6030/7000], Loss: 4.5527\n",
      "Epoch [6040/7000], Loss: 5.5707\n",
      "Epoch [6050/7000], Loss: 4.3225\n",
      "Epoch [6060/7000], Loss: 4.4678\n",
      "Epoch [6070/7000], Loss: 5.5025\n",
      "Epoch [6080/7000], Loss: 6.8084\n",
      "Epoch [6090/7000], Loss: 4.7245\n",
      "Epoch [6100/7000], Loss: 5.7565\n",
      "Epoch [6110/7000], Loss: 4.9525\n",
      "Epoch [6120/7000], Loss: 4.6499\n",
      "Epoch [6130/7000], Loss: 8.6793\n",
      "Epoch [6140/7000], Loss: 4.1835\n",
      "Epoch [6150/7000], Loss: 5.6964\n",
      "Epoch [6160/7000], Loss: 4.2273\n",
      "Epoch [6170/7000], Loss: 6.0245\n",
      "Epoch [6180/7000], Loss: 5.1373\n",
      "Epoch [6190/7000], Loss: 4.6693\n",
      "Epoch [6200/7000], Loss: 5.9519\n",
      "Epoch [6210/7000], Loss: 5.7483\n",
      "Epoch [6220/7000], Loss: 4.4174\n",
      "Epoch [6230/7000], Loss: 4.4548\n",
      "Epoch [6240/7000], Loss: 4.1900\n",
      "Epoch [6250/7000], Loss: 5.8236\n",
      "Epoch [6260/7000], Loss: 7.5053\n",
      "Epoch [6270/7000], Loss: 5.0963\n",
      "Epoch [6280/7000], Loss: 4.0731\n",
      "Epoch [6290/7000], Loss: 4.1653\n",
      "Epoch [6300/7000], Loss: 5.2897\n",
      "Epoch [6310/7000], Loss: 3.7091\n",
      "Epoch [6320/7000], Loss: 9.8662\n",
      "Epoch [6330/7000], Loss: 4.6662\n",
      "Epoch [6340/7000], Loss: 5.1598\n",
      "Epoch [6350/7000], Loss: 4.8456\n",
      "Epoch [6360/7000], Loss: 6.4562\n",
      "Epoch [6370/7000], Loss: 4.0891\n",
      "Epoch [6380/7000], Loss: 6.3332\n",
      "Epoch [6390/7000], Loss: 3.6424\n",
      "Epoch [6400/7000], Loss: 4.7779\n",
      "Epoch [6410/7000], Loss: 3.5589\n",
      "Epoch [6420/7000], Loss: 3.7579\n",
      "Epoch [6430/7000], Loss: 4.2157\n",
      "Epoch [6440/7000], Loss: 11.5817\n",
      "Epoch [6450/7000], Loss: 3.8591\n",
      "Epoch [6460/7000], Loss: 6.0589\n",
      "Epoch [6470/7000], Loss: 3.9448\n",
      "Epoch [6480/7000], Loss: 4.4501\n",
      "Epoch [6490/7000], Loss: 5.2900\n",
      "Epoch [6500/7000], Loss: 4.5289\n",
      "Epoch [6510/7000], Loss: 4.1877\n",
      "Epoch [6520/7000], Loss: 4.4658\n",
      "Epoch [6530/7000], Loss: 3.7361\n",
      "Epoch [6540/7000], Loss: 8.7587\n",
      "Epoch [6550/7000], Loss: 4.7639\n",
      "Epoch [6560/7000], Loss: 5.3815\n",
      "Epoch [6570/7000], Loss: 5.7238\n",
      "Epoch [6580/7000], Loss: 4.6842\n",
      "Epoch [6590/7000], Loss: 4.6945\n",
      "Epoch [6600/7000], Loss: 4.4796\n",
      "Epoch [6610/7000], Loss: 4.7339\n",
      "Epoch [6620/7000], Loss: 3.3846\n",
      "Epoch [6630/7000], Loss: 3.9728\n",
      "Epoch [6640/7000], Loss: 4.0486\n",
      "Epoch [6650/7000], Loss: 4.3776\n",
      "Epoch [6660/7000], Loss: 4.3345\n",
      "Epoch [6670/7000], Loss: 3.9895\n",
      "Epoch [6680/7000], Loss: 4.2981\n",
      "Epoch [6690/7000], Loss: 4.4339\n",
      "Epoch [6700/7000], Loss: 5.7204\n",
      "Epoch [6710/7000], Loss: 8.4027\n",
      "Epoch [6720/7000], Loss: 3.8851\n",
      "Epoch [6730/7000], Loss: 9.9327\n",
      "Epoch [6740/7000], Loss: 4.2654\n",
      "Epoch [6750/7000], Loss: 3.9815\n",
      "Epoch [6760/7000], Loss: 3.7273\n",
      "Epoch [6770/7000], Loss: 8.5041\n",
      "Epoch [6780/7000], Loss: 4.2213\n",
      "Epoch [6790/7000], Loss: 6.4264\n",
      "Epoch [6800/7000], Loss: 4.3827\n",
      "Epoch [6810/7000], Loss: 10.2629\n",
      "Epoch [6820/7000], Loss: 3.4718\n",
      "Epoch [6830/7000], Loss: 4.7409\n",
      "Epoch [6840/7000], Loss: 3.8334\n",
      "Epoch [6850/7000], Loss: 3.6846\n",
      "Epoch [6860/7000], Loss: 4.5342\n",
      "Epoch [6870/7000], Loss: 4.2787\n",
      "Epoch [6880/7000], Loss: 3.5248\n",
      "Epoch [6890/7000], Loss: 5.6668\n",
      "Epoch [6900/7000], Loss: 3.9448\n",
      "Epoch [6910/7000], Loss: 7.2361\n",
      "Epoch [6920/7000], Loss: 7.0070\n",
      "Epoch [6930/7000], Loss: 3.8894\n",
      "Epoch [6940/7000], Loss: 4.4732\n",
      "Epoch [6950/7000], Loss: 4.1735\n",
      "Epoch [6960/7000], Loss: 3.9744\n",
      "Epoch [6970/7000], Loss: 5.3000\n",
      "Epoch [6980/7000], Loss: 3.9859\n",
      "Epoch [6990/7000], Loss: 5.4607\n",
      "Epoch [7000/7000], Loss: 4.5563\n"
     ]
    }
   ],
   "source": [
    "if(not LOAD_MLP_MODEL):\n",
    "    train_mlp_regressor(mlp_regressor, optimizer, epochs=7000, batch_size=500, X_train=X_train.values if isinstance(X_train, pd.DataFrame) else X_train, Y_train=np.array(y_train).reshape(-1, 1))\n",
    "# Interrupt this cell whenever it feels like this model has trained enough"
   ]
  },
  {
   "cell_type": "code",
   "execution_count": null,
   "metadata": {},
   "outputs": [],
   "source": [
    "# Save model to disk\n",
    "if(SAVE_MLP_MODEL):\n",
    "    torch.save(mlp_regressor.state_dict(), MLP_MODEL_PATH)"
   ]
  },
  {
   "cell_type": "code",
   "execution_count": null,
   "metadata": {},
   "outputs": [
    {
     "name": "stderr",
     "output_type": "stream",
     "text": [
      "/Users/rithikkumars/miniconda3/envs/kasturi_ml_project/lib/python3.10/site-packages/torch/utils/_device.py:77: UserWarning:\n",
      "\n",
      "Using a target size (torch.Size([2412])) that is different to the input size (torch.Size([2412, 1])). This will likely lead to incorrect results due to broadcasting. Please ensure they have the same size.\n",
      "\n"
     ]
    },
    {
     "name": "stdout",
     "output_type": "stream",
     "text": [
      "Loss: 72.6515\n"
     ]
    },
    {
     "data": {
      "text/plain": [
       "Text(0.5, 1.0, 'Accuracy (prediction error < 50): 0.30638474295190715')"
      ]
     },
     "execution_count": 75,
     "metadata": {},
     "output_type": "execute_result"
    },
    {
     "data": {
      "image/png": "[encoded data removed]",
      "text/plain": [
       "<Figure size 640x480 with 1 Axes>"
      ]
     },
     "metadata": {},
     "output_type": "display_data"
    }
   ],
   "source": [
    "\n",
    "y_pred_mlp = test_mlp_regressor(mlp_regressor, X_test.values if isinstance(X_test, pd.DataFrame) else X_test, np.array(y_test).reshape(-1, 1).squeeze())\n",
    "y_pred_mlp = np.rint(y_pred_mlp).astype(int)\n",
    "\n",
    "rounding_graph = 1\n",
    "rounding = 50\n",
    "\n",
    "plt.plot(np.floor(y_test//rounding_graph) * rounding_graph, np.floor(y_pred_mlp//rounding_graph) * rounding_graph, 'o')\n",
    "# accuracy = accuracy_score(np.floor(y_test//rounding) * rounding, np.floor(y_pred_mlp//rounding) * rounding)\n",
    "accuracy = calculate_accuracy(y_test, y_pred_mlp, rounding)\n",
    "\n",
    "plt.xlabel('Actual')\n",
    "plt.ylabel('Predicted')\n",
    "plt.title('Accuracy (prediction error < {}): {}'.format(rounding, accuracy))"
   ]
  },
  {
   "cell_type": "code",
   "execution_count": null,
   "metadata": {},
   "outputs": [],
   "source": [
    "\n",
    "# y_pred_mlp = test_mlp_regressor(X_train.values if isinstance(X_train, pd.DataFrame) else X_train, np.array(y_train).reshape(-1, 1).squeeze())\n",
    "# y_pred_mlp = np.rint(y_pred_mlp).astype(int)\n",
    "\n",
    "# rounding = 10\n",
    "\n",
    "# plt.plot(np.floor(y_train//rounding) * rounding, np.floor(y_pred_mlp//rounding) * rounding, 'o')\n",
    "# accuracy = accuracy_score(np.floor(y_train//rounding) * rounding, np.floor(y_pred_mlp//rounding) * rounding)\n",
    "\n",
    "# plt.xlabel('Actual')\n",
    "# plt.ylabel('Predicted')\n",
    "# plt.title('Accuracy (within nearest {}): {}'.format(rounding, accuracy))"
   ]
  },
  {
   "cell_type": "code",
   "execution_count": null,
   "metadata": {},
   "outputs": [
    {
     "data": {
      "image/png": "[encoded data removed]",
      "text/plain": [
       "<Figure size 1000x600 with 1 Axes>"
      ]
     },
     "metadata": {},
     "output_type": "display_data"
    },
    {
     "name": "stdout",
     "output_type": "stream",
     "text": [
      "The mean error is 66.43615257048093 and the standard deviation of the errors is 99.243016236733\n"
     ]
    },
    {
     "data": {
      "image/png": "[encoded data removed]",
      "text/plain": [
       "<Figure size 1000x600 with 1 Axes>"
      ]
     },
     "metadata": {},
     "output_type": "display_data"
    }
   ],
   "source": [
    "plot_error_frequency(y_pred_mlp, y_test, 'MLP', rounding)"
   ]
  },
  {
   "cell_type": "code",
   "execution_count": null,
   "metadata": {},
   "outputs": [
    {
     "data": {
      "application/vnd.plotly.v1+json": {
       "config": {
        "plotlyServerURL": "https://plot.ly"
       },
       "data": [
        {
         "type": "bar",
         "x": [
          0,
          2,
          5,
          6,
          7,
          8,
          9,
          10,
          11,
          12,
          13,
          14,
          15,
          16,
          17,
          18,
          19,
          20,
          21,
          22,
          23,
          24,
          25,
          26,
          27,
          28,
          29,
          30,
          31,
          32,
          33,
          34,
          35,
          36,
          37,
          38,
          39,
          40,
          41,
          42,
          43,
          44,
          45,
          46,
          47,
          48,
          49,
          50,
          51,
          52,
          53,
          54,
          55,
          56,
          57,
          58,
          59,
          60,
          61,
          62,
          63,
          64,
          65,
          66,
          67,
          68,
          69,
          70,
          71,
          72,
          73,
          74,
          75,
          76,
          77,
          78,
          79,
          80,
          81,
          82,
          83,
          84,
          85,
          86,
          87,
          88,
          89,
          90,
          91,
          92,
          93,
          94,
          95,
          96,
          97,
          98,
          99,
          100,
          101,
          102,
          103,
          104,
          105,
          106,
          107,
          108,
          109,
          110,
          111,
          112,
          113,
          114,
          115,
          116,
          117,
          118,
          119,
          120,
          121,
          122,
          123,
          124,
          125,
          126,
          127,
          128,
          129,
          130,
          131,
          132,
          133,
          134,
          135,
          136,
          137,
          138,
          139,
          140,
          141,
          142,
          143,
          144,
          145,
          146,
          147,
          148,
          149,
          150,
          151,
          152,
          153,
          154,
          155,
          156,
          157,
          158,
          159,
          160,
          161,
          162,
          163,
          164,
          165,
          166,
          167,
          168,
          169,
          170,
          171,
          172,
          173,
          174,
          175,
          176,
          177,
          178,
          179,
          180,
          181,
          182,
          183,
          184,
          185,
          186,
          187,
          188,
          189,
          190,
          191,
          192,
          193,
          194,
          195,
          196,
          197,
          198,
          199,
          200,
          201,
          202,
          203,
          204,
          205,
          206,
          207,
          208,
          209,
          210,
          211,
          212,
          213,
          214,
          215,
          216,
          217,
          218,
          219,
          220,
          221,
          222,
          223,
          224,
          225,
          226,
          227,
          228,
          229,
          230,
          231,
          232,
          233,
          234,
          235,
          236,
          237,
          238,
          239,
          240,
          241,
          242,
          243,
          244,
          245,
          246,
          247,
          248,
          249,
          250,
          251,
          252,
          253,
          254,
          255,
          256,
          257,
          258,
          259,
          260,
          261,
          262,
          263,
          264,
          265,
          266,
          267,
          268,
          269,
          270,
          271,
          272,
          273,
          274,
          275,
          276,
          277,
          278,
          279,
          280,
          281,
          282,
          283,
          284,
          285,
          286,
          287,
          288,
          289,
          292,
          293,
          294,
          295,
          296,
          297,
          298,
          299,
          300,
          301,
          302,
          303,
          304,
          305,
          306,
          307,
          308,
          309,
          310,
          311,
          312,
          314,
          315,
          316,
          317,
          318,
          319,
          320,
          321,
          323,
          325,
          326,
          327,
          328,
          329,
          330,
          331,
          332,
          333,
          334,
          335,
          336,
          337,
          338,
          339,
          341,
          342,
          343,
          344,
          345,
          346,
          348,
          349,
          350,
          351,
          355,
          356,
          357,
          358,
          359,
          360,
          361,
          362,
          363,
          364,
          365,
          366,
          367,
          368,
          369,
          370,
          372,
          375,
          377,
          378,
          379,
          380,
          381,
          382,
          385,
          387,
          388,
          391,
          392,
          393,
          395,
          399,
          401,
          402,
          404,
          407,
          410,
          412,
          416,
          418,
          419,
          420,
          422,
          425,
          429,
          431,
          433,
          440,
          443,
          451,
          452,
          453,
          457,
          467,
          469,
          471,
          473,
          474,
          478,
          480,
          485,
          487,
          492,
          495,
          502,
          504,
          505,
          516,
          517,
          533,
          569,
          573,
          581,
          585,
          591,
          598,
          603,
          607,
          619,
          622,
          655,
          726,
          795,
          847,
          972,
          1022,
          1063,
          1102,
          1160,
          1344,
          1438,
          1527,
          2368,
          2556,
          3161
         ],
         "y": [
          1,
          1,
          1,
          3,
          3,
          1,
          3,
          1,
          4,
          4,
          7,
          7,
          13,
          14,
          14,
          12,
          16,
          14,
          23,
          22,
          31,
          30,
          21,
          31,
          51,
          29,
          42,
          55,
          46,
          49,
          57,
          77,
          75,
          81,
          76,
          77,
          73,
          89,
          107,
          100,
          92,
          105,
          104,
          123,
          100,
          116,
          134,
          115,
          113,
          116,
          128,
          128,
          143,
          112,
          118,
          127,
          108,
          112,
          116,
          119,
          116,
          108,
          126,
          107,
          91,
          102,
          88,
          121,
          105,
          112,
          89,
          99,
          87,
          92,
          97,
          97,
          101,
          84,
          95,
          89,
          87,
          83,
          84,
          87,
          107,
          81,
          85,
          90,
          80,
          76,
          75,
          79,
          76,
          75,
          61,
          65,
          56,
          60,
          64,
          68,
          74,
          55,
          73,
          59,
          50,
          57,
          46,
          70,
          50,
          58,
          52,
          55,
          52,
          47,
          76,
          64,
          50,
          47,
          50,
          60,
          48,
          42,
          49,
          42,
          49,
          59,
          49,
          56,
          53,
          46,
          53,
          47,
          39,
          41,
          54,
          41,
          62,
          51,
          47,
          43,
          44,
          34,
          39,
          43,
          39,
          38,
          49,
          51,
          46,
          28,
          43,
          40,
          40,
          25,
          36,
          41,
          33,
          37,
          33,
          27,
          41,
          39,
          33,
          37,
          30,
          26,
          37,
          34,
          35,
          28,
          22,
          27,
          35,
          28,
          35,
          22,
          26,
          27,
          18,
          15,
          27,
          24,
          31,
          32,
          19,
          21,
          25,
          25,
          21,
          22,
          19,
          18,
          22,
          22,
          16,
          13,
          17,
          12,
          15,
          28,
          17,
          19,
          9,
          18,
          9,
          21,
          10,
          12,
          18,
          19,
          11,
          12,
          10,
          13,
          10,
          19,
          16,
          13,
          18,
          7,
          4,
          11,
          13,
          8,
          6,
          8,
          8,
          6,
          9,
          4,
          9,
          8,
          5,
          6,
          7,
          12,
          11,
          8,
          4,
          4,
          7,
          4,
          7,
          6,
          3,
          8,
          3,
          6,
          7,
          9,
          8,
          4,
          9,
          8,
          3,
          5,
          5,
          9,
          6,
          7,
          4,
          6,
          3,
          5,
          6,
          5,
          4,
          4,
          2,
          4,
          4,
          1,
          5,
          3,
          6,
          4,
          5,
          5,
          1,
          2,
          2,
          3,
          6,
          5,
          1,
          2,
          4,
          1,
          4,
          2,
          2,
          2,
          4,
          6,
          3,
          3,
          3,
          7,
          4,
          6,
          1,
          3,
          3,
          2,
          2,
          3,
          1,
          2,
          1,
          4,
          2,
          1,
          2,
          3,
          2,
          3,
          3,
          3,
          1,
          1,
          2,
          1,
          3,
          4,
          2,
          2,
          2,
          1,
          2,
          1,
          1,
          1,
          1,
          1,
          1,
          5,
          2,
          1,
          2,
          1,
          2,
          1,
          1,
          1,
          2,
          1,
          2,
          1,
          1,
          1,
          2,
          3,
          2,
          2,
          4,
          2,
          2,
          2,
          1,
          1,
          2,
          1,
          1,
          1,
          3,
          3,
          2,
          2,
          4,
          3,
          3,
          1,
          1,
          1,
          1,
          2,
          1,
          1,
          2,
          1,
          3,
          1,
          1,
          1,
          1,
          2,
          1,
          1,
          1,
          1,
          1,
          1,
          1,
          1,
          1,
          1,
          1,
          1,
          1,
          1,
          1,
          1,
          1,
          2,
          1,
          1,
          1,
          1,
          1,
          1,
          1,
          1,
          1,
          1,
          1,
          1,
          1,
          1,
          1,
          1,
          1,
          1,
          1,
          1,
          1,
          1,
          1,
          1,
          1,
          1,
          1,
          1,
          1,
          1,
          1,
          1,
          1
         ]
        }
       ],
       "layout": {
        "template": {
         "data": {
          "bar": [
           {
            "error_x": {
             "color": "#2a3f5f"
            },
            "error_y": {
             "color": "#2a3f5f"
            },
            "marker": {
             "line": {
              "color": "#E5ECF6",
              "width": 0.5
             },
             "pattern": {
              "fillmode": "overlay",
              "size": 10,
              "solidity": 0.2
             }
            },
            "type": "bar"
           }
          ],
          "barpolar": [
           {
            "marker": {
             "line": {
              "color": "#E5ECF6",
              "width": 0.5
             },
             "pattern": {
              "fillmode": "overlay",
              "size": 10,
              "solidity": 0.2
             }
            },
            "type": "barpolar"
           }
          ],
          "carpet": [
           {
            "aaxis": {
             "endlinecolor": "#2a3f5f",
             "gridcolor": "white",
             "linecolor": "white",
             "minorgridcolor": "white",
             "startlinecolor": "#2a3f5f"
            },
            "baxis": {
             "endlinecolor": "#2a3f5f",
             "gridcolor": "white",
             "linecolor": "white",
             "minorgridcolor": "white",
             "startlinecolor": "#2a3f5f"
            },
            "type": "carpet"
           }
          ],
          "choropleth": [
           {
            "colorbar": {
             "outlinewidth": 0,
             "ticks": ""
            },
            "type": "choropleth"
           }
          ],
          "contour": [
           {
            "colorbar": {
             "outlinewidth": 0,
             "ticks": ""
            },
            "colorscale": [
             [
              0,
              "#0d0887"
             ],
             [
              0.1111111111111111,
              "#46039f"
             ],
             [
              0.2222222222222222,
              "#7201a8"
             ],
             [
              0.3333333333333333,
              "#9c179e"
             ],
             [
              0.4444444444444444,
              "#bd3786"
             ],
             [
              0.5555555555555556,
              "#d8576b"
             ],
             [
              0.6666666666666666,
              "#ed7953"
             ],
             [
              0.7777777777777778,
              "#fb9f3a"
             ],
             [
              0.8888888888888888,
              "#fdca26"
             ],
             [
              1,
              "#f0f921"
             ]
            ],
            "type": "contour"
           }
          ],
          "contourcarpet": [
           {
            "colorbar": {
             "outlinewidth": 0,
             "ticks": ""
            },
            "type": "contourcarpet"
           }
          ],
          "heatmap": [
           {
            "colorbar": {
             "outlinewidth": 0,
             "ticks": ""
            },
            "colorscale": [
             [
              0,
              "#0d0887"
             ],
             [
              0.1111111111111111,
              "#46039f"
             ],
             [
              0.2222222222222222,
              "#7201a8"
             ],
             [
              0.3333333333333333,
              "#9c179e"
             ],
             [
              0.4444444444444444,
              "#bd3786"
             ],
             [
              0.5555555555555556,
              "#d8576b"
             ],
             [
              0.6666666666666666,
              "#ed7953"
             ],
             [
              0.7777777777777778,
              "#fb9f3a"
             ],
             [
              0.8888888888888888,
              "#fdca26"
             ],
             [
              1,
              "#f0f921"
             ]
            ],
            "type": "heatmap"
           }
          ],
          "heatmapgl": [
           {
            "colorbar": {
             "outlinewidth": 0,
             "ticks": ""
            },
            "colorscale": [
             [
              0,
              "#0d0887"
             ],
             [
              0.1111111111111111,
              "#46039f"
             ],
             [
              0.2222222222222222,
              "#7201a8"
             ],
             [
              0.3333333333333333,
              "#9c179e"
             ],
             [
              0.4444444444444444,
              "#bd3786"
             ],
             [
              0.5555555555555556,
              "#d8576b"
             ],
             [
              0.6666666666666666,
              "#ed7953"
             ],
             [
              0.7777777777777778,
              "#fb9f3a"
             ],
             [
              0.8888888888888888,
              "#fdca26"
             ],
             [
              1,
              "#f0f921"
             ]
            ],
            "type": "heatmapgl"
           }
          ],
          "histogram": [
           {
            "marker": {
             "pattern": {
              "fillmode": "overlay",
              "size": 10,
              "solidity": 0.2
             }
            },
            "type": "histogram"
           }
          ],
          "histogram2d": [
           {
            "colorbar": {
             "outlinewidth": 0,
             "ticks": ""
            },
            "colorscale": [
             [
              0,
              "#0d0887"
             ],
             [
              0.1111111111111111,
              "#46039f"
             ],
             [
              0.2222222222222222,
              "#7201a8"
             ],
             [
              0.3333333333333333,
              "#9c179e"
             ],
             [
              0.4444444444444444,
              "#bd3786"
             ],
             [
              0.5555555555555556,
              "#d8576b"
             ],
             [
              0.6666666666666666,
              "#ed7953"
             ],
             [
              0.7777777777777778,
              "#fb9f3a"
             ],
             [
              0.8888888888888888,
              "#fdca26"
             ],
             [
              1,
              "#f0f921"
             ]
            ],
            "type": "histogram2d"
           }
          ],
          "histogram2dcontour": [
           {
            "colorbar": {
             "outlinewidth": 0,
             "ticks": ""
            },
            "colorscale": [
             [
              0,
              "#0d0887"
             ],
             [
              0.1111111111111111,
              "#46039f"
             ],
             [
              0.2222222222222222,
              "#7201a8"
             ],
             [
              0.3333333333333333,
              "#9c179e"
             ],
             [
              0.4444444444444444,
              "#bd3786"
             ],
             [
              0.5555555555555556,
              "#d8576b"
             ],
             [
              0.6666666666666666,
              "#ed7953"
             ],
             [
              0.7777777777777778,
              "#fb9f3a"
             ],
             [
              0.8888888888888888,
              "#fdca26"
             ],
             [
              1,
              "#f0f921"
             ]
            ],
            "type": "histogram2dcontour"
           }
          ],
          "mesh3d": [
           {
            "colorbar": {
             "outlinewidth": 0,
             "ticks": ""
            },
            "type": "mesh3d"
           }
          ],
          "parcoords": [
           {
            "line": {
             "colorbar": {
              "outlinewidth": 0,
              "ticks": ""
             }
            },
            "type": "parcoords"
           }
          ],
          "pie": [
           {
            "automargin": true,
            "type": "pie"
           }
          ],
          "scatter": [
           {
            "fillpattern": {
             "fillmode": "overlay",
             "size": 10,
             "solidity": 0.2
            },
            "type": "scatter"
           }
          ],
          "scatter3d": [
           {
            "line": {
             "colorbar": {
              "outlinewidth": 0,
              "ticks": ""
             }
            },
            "marker": {
             "colorbar": {
              "outlinewidth": 0,
              "ticks": ""
             }
            },
            "type": "scatter3d"
           }
          ],
          "scattercarpet": [
           {
            "marker": {
             "colorbar": {
              "outlinewidth": 0,
              "ticks": ""
             }
            },
            "type": "scattercarpet"
           }
          ],
          "scattergeo": [
           {
            "marker": {
             "colorbar": {
              "outlinewidth": 0,
              "ticks": ""
             }
            },
            "type": "scattergeo"
           }
          ],
          "scattergl": [
           {
            "marker": {
             "colorbar": {
              "outlinewidth": 0,
              "ticks": ""
             }
            },
            "type": "scattergl"
           }
          ],
          "scattermapbox": [
           {
            "marker": {
             "colorbar": {
              "outlinewidth": 0,
              "ticks": ""
             }
            },
            "type": "scattermapbox"
           }
          ],
          "scatterpolar": [
           {
            "marker": {
             "colorbar": {
              "outlinewidth": 0,
              "ticks": ""
             }
            },
            "type": "scatterpolar"
           }
          ],
          "scatterpolargl": [
           {
            "marker": {
             "colorbar": {
              "outlinewidth": 0,
              "ticks": ""
             }
            },
            "type": "scatterpolargl"
           }
          ],
          "scatterternary": [
           {
            "marker": {
             "colorbar": {
              "outlinewidth": 0,
              "ticks": ""
             }
            },
            "type": "scatterternary"
           }
          ],
          "surface": [
           {
            "colorbar": {
             "outlinewidth": 0,
             "ticks": ""
            },
            "colorscale": [
             [
              0,
              "#0d0887"
             ],
             [
              0.1111111111111111,
              "#46039f"
             ],
             [
              0.2222222222222222,
              "#7201a8"
             ],
             [
              0.3333333333333333,
              "#9c179e"
             ],
             [
              0.4444444444444444,
              "#bd3786"
             ],
             [
              0.5555555555555556,
              "#d8576b"
             ],
             [
              0.6666666666666666,
              "#ed7953"
             ],
             [
              0.7777777777777778,
              "#fb9f3a"
             ],
             [
              0.8888888888888888,
              "#fdca26"
             ],
             [
              1,
              "#f0f921"
             ]
            ],
            "type": "surface"
           }
          ],
          "table": [
           {
            "cells": {
             "fill": {
              "color": "#EBF0F8"
             },
             "line": {
              "color": "white"
             }
            },
            "header": {
             "fill": {
              "color": "#C8D4E3"
             },
             "line": {
              "color": "white"
             }
            },
            "type": "table"
           }
          ]
         },
         "layout": {
          "annotationdefaults": {
           "arrowcolor": "#2a3f5f",
           "arrowhead": 0,
           "arrowwidth": 1
          },
          "autotypenumbers": "strict",
          "coloraxis": {
           "colorbar": {
            "outlinewidth": 0,
            "ticks": ""
           }
          },
          "colorscale": {
           "diverging": [
            [
             0,
             "#8e0152"
            ],
            [
             0.1,
             "#c51b7d"
            ],
            [
             0.2,
             "#de77ae"
            ],
            [
             0.3,
             "#f1b6da"
            ],
            [
             0.4,
             "#fde0ef"
            ],
            [
             0.5,
             "#f7f7f7"
            ],
            [
             0.6,
             "#e6f5d0"
            ],
            [
             0.7,
             "#b8e186"
            ],
            [
             0.8,
             "#7fbc41"
            ],
            [
             0.9,
             "#4d9221"
            ],
            [
             1,
             "#276419"
            ]
           ],
           "sequential": [
            [
             0,
             "#0d0887"
            ],
            [
             0.1111111111111111,
             "#46039f"
            ],
            [
             0.2222222222222222,
             "#7201a8"
            ],
            [
             0.3333333333333333,
             "#9c179e"
            ],
            [
             0.4444444444444444,
             "#bd3786"
            ],
            [
             0.5555555555555556,
             "#d8576b"
            ],
            [
             0.6666666666666666,
             "#ed7953"
            ],
            [
             0.7777777777777778,
             "#fb9f3a"
            ],
            [
             0.8888888888888888,
             "#fdca26"
            ],
            [
             1,
             "#f0f921"
            ]
           ],
           "sequentialminus": [
            [
             0,
             "#0d0887"
            ],
            [
             0.1111111111111111,
             "#46039f"
            ],
            [
             0.2222222222222222,
             "#7201a8"
            ],
            [
             0.3333333333333333,
             "#9c179e"
            ],
            [
             0.4444444444444444,
             "#bd3786"
            ],
            [
             0.5555555555555556,
             "#d8576b"
            ],
            [
             0.6666666666666666,
             "#ed7953"
            ],
            [
             0.7777777777777778,
             "#fb9f3a"
            ],
            [
             0.8888888888888888,
             "#fdca26"
            ],
            [
             1,
             "#f0f921"
            ]
           ]
          },
          "colorway": [
           "#636efa",
           "#EF553B",
           "#00cc96",
           "#ab63fa",
           "#FFA15A",
           "#19d3f3",
           "#FF6692",
           "#B6E880",
           "#FF97FF",
           "#FECB52"
          ],
          "font": {
           "color": "#2a3f5f"
          },
          "geo": {
           "bgcolor": "white",
           "lakecolor": "white",
           "landcolor": "#E5ECF6",
           "showlakes": true,
           "showland": true,
           "subunitcolor": "white"
          },
          "hoverlabel": {
           "align": "left"
          },
          "hovermode": "closest",
          "mapbox": {
           "style": "light"
          },
          "paper_bgcolor": "white",
          "plot_bgcolor": "#E5ECF6",
          "polar": {
           "angularaxis": {
            "gridcolor": "white",
            "linecolor": "white",
            "ticks": ""
           },
           "bgcolor": "#E5ECF6",
           "radialaxis": {
            "gridcolor": "white",
            "linecolor": "white",
            "ticks": ""
           }
          },
          "scene": {
           "xaxis": {
            "backgroundcolor": "#E5ECF6",
            "gridcolor": "white",
            "gridwidth": 2,
            "linecolor": "white",
            "showbackground": true,
            "ticks": "",
            "zerolinecolor": "white"
           },
           "yaxis": {
            "backgroundcolor": "#E5ECF6",
            "gridcolor": "white",
            "gridwidth": 2,
            "linecolor": "white",
            "showbackground": true,
            "ticks": "",
            "zerolinecolor": "white"
           },
           "zaxis": {
            "backgroundcolor": "#E5ECF6",
            "gridcolor": "white",
            "gridwidth": 2,
            "linecolor": "white",
            "showbackground": true,
            "ticks": "",
            "zerolinecolor": "white"
           }
          },
          "shapedefaults": {
           "line": {
            "color": "#2a3f5f"
           }
          },
          "ternary": {
           "aaxis": {
            "gridcolor": "white",
            "linecolor": "white",
            "ticks": ""
           },
           "baxis": {
            "gridcolor": "white",
            "linecolor": "white",
            "ticks": ""
           },
           "bgcolor": "#E5ECF6",
           "caxis": {
            "gridcolor": "white",
            "linecolor": "white",
            "ticks": ""
           }
          },
          "title": {
           "x": 0.05
          },
          "xaxis": {
           "automargin": true,
           "gridcolor": "white",
           "linecolor": "white",
           "ticks": "",
           "title": {
            "standoff": 15
           },
           "zerolinecolor": "white",
           "zerolinewidth": 2
          },
          "yaxis": {
           "automargin": true,
           "gridcolor": "white",
           "linecolor": "white",
           "ticks": "",
           "title": {
            "standoff": 15
           },
           "zerolinecolor": "white",
           "zerolinewidth": 2
          }
         }
        },
        "title": {
         "text": "Data Distribution"
        },
        "xaxis": {
         "title": {
          "text": "Unique Values"
         },
         "type": "category"
        },
        "yaxis": {
         "title": {
          "text": "Frequency"
         }
        }
       }
      }
     },
     "metadata": {},
     "output_type": "display_data"
    },
    {
     "name": "stdout",
     "output_type": "stream",
     "text": [
      "The mean of the data distribution is 105.6053504769805 and the standard deviation is 81.9564000560846\n"
     ]
    }
   ],
   "source": [
    "plot_data_distribution(y)"
   ]
  },
  {
   "cell_type": "code",
   "execution_count": null,
   "metadata": {},
   "outputs": [],
   "source": [
    "# Create a DataFrame with the test and pred values\n",
    "df = pd.DataFrame({'Test': y_test, 'Pred': y_pred_mlp})\n",
    "\n",
    "# Save the DataFrame to a CSV file\n",
    "df.to_csv('mlp_test_pred.csv', index=False)"
   ]
  },
  {
   "cell_type": "code",
   "execution_count": null,
   "metadata": {},
   "outputs": [],
   "source": [
    "# split data into different bins, one for data below y <= 250 and one for data y > 250.\n",
    "# then, for bin y <= 250, split into test and train sets. do the same for bin y > 250.\n",
    "# train 2 different MLP models based on MLP regressor module. graph out the results after all this.\n",
    "\n",
    "# X, Y are the full data set\n",
    "\n",
    "# splitting the data into bins of y <=250 and y > 250\n",
    "\n",
    "# print(X.shape, Y.shape)\n",
    "\n",
    "# print(Y <= 250)\n",
    "\n",
    "X_bin_1 = X[Y.values <= 250]\n",
    "Y_bin_1 = Y[Y.values <= 250]\n",
    "\n",
    "X_bin_2 = X[Y.values > 250]\n",
    "Y_bin_2 = Y[Y.values > 250]\n",
    "\n",
    "# splitting the data into test and train sets\n",
    "X_bin_1_train, X_bin_1_test, Y_bin_1_train, Y_bin_1_test = train_test_split(X_bin_1, Y_bin_1, test_size=0.2, random_state=42)\n",
    "X_bin_2_train, X_bin_2_test, Y_bin_2_train, Y_bin_2_test = train_test_split(X_bin_2, Y_bin_2, test_size=0.2, random_state=42)\n",
    "\n",
    "# training the MLP models\n",
    "mlp_regressor_bin_1 = MLPRegressor(input_size, hidden_size).to(device)\n",
    "mlp_regressor_bin_2 = MLPRegressor(input_size, hidden_size).to(device)\n",
    "\n",
    "# optimizers for both the bins\n",
    "optimizer_bin_1 = torch.optim.Adam(mlp_regressor_bin_1.parameters(), lr=0.001, weight_decay=1e-5)\n",
    "optimizer_bin_2 = torch.optim.Adam(mlp_regressor_bin_2.parameters(), lr=0.001, weight_decay=1e-5)"
   ]
  },
  {
   "cell_type": "code",
   "execution_count": null,
   "metadata": {},
   "outputs": [
    {
     "name": "stdout",
     "output_type": "stream",
     "text": [
      "Epoch [10/4000], Loss: 40.7826\n",
      "Epoch [20/4000], Loss: 40.6058\n",
      "Epoch [30/4000], Loss: 40.1965\n",
      "Epoch [40/4000], Loss: 39.1512\n",
      "Epoch [50/4000], Loss: 37.8234\n",
      "Epoch [60/4000], Loss: 37.5762\n",
      "Epoch [70/4000], Loss: 37.1888\n",
      "Epoch [80/4000], Loss: 36.9021\n",
      "Epoch [90/4000], Loss: 36.8214\n",
      "Epoch [100/4000], Loss: 36.6522\n",
      "Epoch [110/4000], Loss: 36.4664\n",
      "Epoch [120/4000], Loss: 36.4122\n",
      "Epoch [130/4000], Loss: 36.1404\n",
      "Epoch [140/4000], Loss: 36.4654\n",
      "Epoch [150/4000], Loss: 35.6749\n",
      "Epoch [160/4000], Loss: 35.9964\n",
      "Epoch [170/4000], Loss: 35.1143\n",
      "Epoch [180/4000], Loss: 34.8257\n",
      "Epoch [190/4000], Loss: 34.4845\n",
      "Epoch [200/4000], Loss: 34.2892\n",
      "Epoch [210/4000], Loss: 34.0995\n",
      "Epoch [220/4000], Loss: 33.6191\n",
      "Epoch [230/4000], Loss: 33.4802\n",
      "Epoch [240/4000], Loss: 33.2885\n",
      "Epoch [250/4000], Loss: 33.1400\n",
      "Epoch [260/4000], Loss: 32.9482\n",
      "Epoch [270/4000], Loss: 32.4767\n",
      "Epoch [280/4000], Loss: 32.2445\n",
      "Epoch [290/4000], Loss: 32.5732\n",
      "Epoch [300/4000], Loss: 32.8356\n",
      "Epoch [310/4000], Loss: 31.9164\n",
      "Epoch [320/4000], Loss: 31.4802\n",
      "Epoch [330/4000], Loss: 31.6971\n",
      "Epoch [340/4000], Loss: 31.7162\n",
      "Epoch [350/4000], Loss: 31.1286\n",
      "Epoch [360/4000], Loss: 30.8938\n",
      "Epoch [370/4000], Loss: 30.8916\n",
      "Epoch [380/4000], Loss: 30.5868\n",
      "Epoch [390/4000], Loss: 30.5603\n",
      "Epoch [400/4000], Loss: 29.8887\n",
      "Epoch [410/4000], Loss: 30.0527\n",
      "Epoch [420/4000], Loss: 29.8018\n",
      "Epoch [430/4000], Loss: 29.5598\n",
      "Epoch [440/4000], Loss: 29.4765\n",
      "Epoch [450/4000], Loss: 29.4300\n",
      "Epoch [460/4000], Loss: 28.9035\n",
      "Epoch [470/4000], Loss: 29.2243\n",
      "Epoch [480/4000], Loss: 28.6710\n",
      "Epoch [490/4000], Loss: 28.6218\n",
      "Epoch [500/4000], Loss: 29.2026\n",
      "Epoch [510/4000], Loss: 28.3687\n",
      "Epoch [520/4000], Loss: 28.3887\n",
      "Epoch [530/4000], Loss: 28.4757\n",
      "Epoch [540/4000], Loss: 27.8443\n",
      "Epoch [550/4000], Loss: 27.6192\n",
      "Epoch [560/4000], Loss: 28.3873\n",
      "Epoch [570/4000], Loss: 28.3242\n",
      "Epoch [580/4000], Loss: 27.4488\n",
      "Epoch [590/4000], Loss: 27.1034\n",
      "Epoch [600/4000], Loss: 27.2025\n",
      "Epoch [610/4000], Loss: 27.0637\n",
      "Epoch [620/4000], Loss: 26.4518\n",
      "Epoch [630/4000], Loss: 26.1164\n",
      "Epoch [640/4000], Loss: 26.2977\n",
      "Epoch [650/4000], Loss: 27.4276\n",
      "Epoch [660/4000], Loss: 27.0498\n",
      "Epoch [670/4000], Loss: 26.0913\n",
      "Epoch [680/4000], Loss: 25.8671\n",
      "Epoch [690/4000], Loss: 25.7454\n",
      "Epoch [700/4000], Loss: 25.4955\n",
      "Epoch [710/4000], Loss: 25.2813\n",
      "Epoch [720/4000], Loss: 25.8412\n",
      "Epoch [730/4000], Loss: 26.2880\n",
      "Epoch [740/4000], Loss: 24.7441\n",
      "Epoch [750/4000], Loss: 25.0168\n",
      "Epoch [760/4000], Loss: 24.9762\n",
      "Epoch [770/4000], Loss: 24.6705\n",
      "Epoch [780/4000], Loss: 24.9343\n",
      "Epoch [790/4000], Loss: 26.2841\n",
      "Epoch [800/4000], Loss: 24.1876\n",
      "Epoch [810/4000], Loss: 24.4107\n",
      "Epoch [820/4000], Loss: 24.6414\n",
      "Epoch [830/4000], Loss: 24.1537\n",
      "Epoch [840/4000], Loss: 25.2446\n",
      "Epoch [850/4000], Loss: 25.5657\n",
      "Epoch [860/4000], Loss: 23.7448\n",
      "Epoch [870/4000], Loss: 23.7477\n",
      "Epoch [880/4000], Loss: 23.8989\n",
      "Epoch [890/4000], Loss: 25.3576\n",
      "Epoch [900/4000], Loss: 23.6732\n",
      "Epoch [910/4000], Loss: 23.7091\n",
      "Epoch [920/4000], Loss: 23.6857\n",
      "Epoch [930/4000], Loss: 23.3382\n",
      "Epoch [940/4000], Loss: 24.7564\n",
      "Epoch [950/4000], Loss: 22.9695\n",
      "Epoch [960/4000], Loss: 23.2290\n",
      "Epoch [970/4000], Loss: 22.9311\n",
      "Epoch [980/4000], Loss: 24.0299\n",
      "Epoch [990/4000], Loss: 22.7524\n",
      "Epoch [1000/4000], Loss: 23.0095\n",
      "Epoch [1010/4000], Loss: 23.0720\n",
      "Epoch [1020/4000], Loss: 22.7540\n",
      "Epoch [1030/4000], Loss: 23.3476\n",
      "Epoch [1040/4000], Loss: 22.9400\n",
      "Epoch [1050/4000], Loss: 22.6805\n",
      "Epoch [1060/4000], Loss: 22.8604\n",
      "Epoch [1070/4000], Loss: 22.2276\n",
      "Epoch [1080/4000], Loss: 22.9874\n",
      "Epoch [1090/4000], Loss: 23.0392\n",
      "Epoch [1100/4000], Loss: 22.2628\n",
      "Epoch [1110/4000], Loss: 22.1416\n",
      "Epoch [1120/4000], Loss: 22.4606\n",
      "Epoch [1130/4000], Loss: 22.3695\n",
      "Epoch [1140/4000], Loss: 22.5289\n",
      "Epoch [1150/4000], Loss: 21.8818\n",
      "Epoch [1160/4000], Loss: 22.0194\n",
      "Epoch [1170/4000], Loss: 22.0929\n",
      "Epoch [1180/4000], Loss: 21.9484\n",
      "Epoch [1190/4000], Loss: 21.7180\n",
      "Epoch [1200/4000], Loss: 21.5733\n",
      "Epoch [1210/4000], Loss: 22.1406\n",
      "Epoch [1220/4000], Loss: 22.0028\n",
      "Epoch [1230/4000], Loss: 21.2434\n",
      "Epoch [1240/4000], Loss: 21.7225\n",
      "Epoch [1250/4000], Loss: 20.9525\n",
      "Epoch [1260/4000], Loss: 21.4778\n",
      "Epoch [1270/4000], Loss: 21.2071\n",
      "Epoch [1280/4000], Loss: 21.1780\n",
      "Epoch [1290/4000], Loss: 20.6052\n",
      "Epoch [1300/4000], Loss: 21.5372\n",
      "Epoch [1310/4000], Loss: 21.2386\n",
      "Epoch [1320/4000], Loss: 20.7572\n",
      "Epoch [1330/4000], Loss: 21.2684\n",
      "Epoch [1340/4000], Loss: 20.4825\n",
      "Epoch [1350/4000], Loss: 21.5251\n",
      "Epoch [1360/4000], Loss: 20.7033\n",
      "Epoch [1370/4000], Loss: 21.0769\n",
      "Epoch [1380/4000], Loss: 20.5975\n",
      "Epoch [1390/4000], Loss: 20.5747\n",
      "Epoch [1400/4000], Loss: 21.4697\n",
      "Epoch [1410/4000], Loss: 20.8031\n",
      "Epoch [1420/4000], Loss: 19.9701\n",
      "Epoch [1430/4000], Loss: 20.6154\n",
      "Epoch [1440/4000], Loss: 20.0613\n",
      "Epoch [1450/4000], Loss: 21.7468\n",
      "Epoch [1460/4000], Loss: 19.7521\n",
      "Epoch [1470/4000], Loss: 20.9309\n",
      "Epoch [1480/4000], Loss: 19.8958\n",
      "Epoch [1490/4000], Loss: 20.1288\n",
      "Epoch [1500/4000], Loss: 20.4151\n",
      "Epoch [1510/4000], Loss: 19.8409\n",
      "Epoch [1520/4000], Loss: 19.8475\n",
      "Epoch [1530/4000], Loss: 21.2086\n",
      "Epoch [1540/4000], Loss: 20.1876\n",
      "Epoch [1550/4000], Loss: 20.0161\n",
      "Epoch [1560/4000], Loss: 19.9411\n",
      "Epoch [1570/4000], Loss: 19.6577\n",
      "Epoch [1580/4000], Loss: 21.4016\n",
      "Epoch [1590/4000], Loss: 19.8402\n",
      "Epoch [1600/4000], Loss: 19.6161\n",
      "Epoch [1610/4000], Loss: 20.4291\n",
      "Epoch [1620/4000], Loss: 20.2127\n",
      "Epoch [1630/4000], Loss: 19.2057\n",
      "Epoch [1640/4000], Loss: 19.2659\n",
      "Epoch [1650/4000], Loss: 19.7043\n",
      "Epoch [1660/4000], Loss: 18.7208\n",
      "Epoch [1670/4000], Loss: 18.9219\n",
      "Epoch [1680/4000], Loss: 19.8277\n",
      "Epoch [1690/4000], Loss: 20.1975\n",
      "Epoch [1700/4000], Loss: 18.6823\n",
      "Epoch [1710/4000], Loss: 19.4519\n",
      "Epoch [1720/4000], Loss: 18.3712\n",
      "Epoch [1730/4000], Loss: 20.3597\n",
      "Epoch [1740/4000], Loss: 18.7857\n",
      "Epoch [1750/4000], Loss: 19.3618\n",
      "Epoch [1760/4000], Loss: 18.4473\n",
      "Epoch [1770/4000], Loss: 19.7640\n",
      "Epoch [1780/4000], Loss: 19.7627\n",
      "Epoch [1790/4000], Loss: 18.8032\n",
      "Epoch [1800/4000], Loss: 19.0815\n",
      "Epoch [1810/4000], Loss: 18.5449\n",
      "Epoch [1820/4000], Loss: 20.0331\n",
      "Epoch [1830/4000], Loss: 17.8331\n",
      "Epoch [1840/4000], Loss: 18.9609\n",
      "Epoch [1850/4000], Loss: 18.0169\n",
      "Epoch [1860/4000], Loss: 19.7841\n",
      "Epoch [1870/4000], Loss: 18.2976\n",
      "Epoch [1880/4000], Loss: 18.5706\n",
      "Epoch [1890/4000], Loss: 18.4922\n",
      "Epoch [1900/4000], Loss: 19.3432\n",
      "Epoch [1910/4000], Loss: 17.4846\n",
      "Epoch [1920/4000], Loss: 18.8398\n",
      "Epoch [1930/4000], Loss: 18.8235\n",
      "Epoch [1940/4000], Loss: 17.9198\n",
      "Epoch [1950/4000], Loss: 19.2862\n",
      "Epoch [1960/4000], Loss: 18.1313\n",
      "Epoch [1970/4000], Loss: 18.0583\n",
      "Epoch [1980/4000], Loss: 18.8414\n",
      "Epoch [1990/4000], Loss: 17.3700\n",
      "Epoch [2000/4000], Loss: 18.0834\n",
      "Epoch [2010/4000], Loss: 20.2659\n",
      "Epoch [2020/4000], Loss: 17.1504\n",
      "Epoch [2030/4000], Loss: 18.0729\n",
      "Epoch [2040/4000], Loss: 18.8461\n",
      "Epoch [2050/4000], Loss: 17.3165\n",
      "Epoch [2060/4000], Loss: 17.4881\n",
      "Epoch [2070/4000], Loss: 18.2924\n",
      "Epoch [2080/4000], Loss: 17.7799\n",
      "Epoch [2090/4000], Loss: 17.0483\n",
      "Epoch [2100/4000], Loss: 17.4778\n",
      "Epoch [2110/4000], Loss: 19.5097\n",
      "Epoch [2120/4000], Loss: 16.9946\n",
      "Epoch [2130/4000], Loss: 17.2005\n",
      "Epoch [2140/4000], Loss: 17.7169\n",
      "Epoch [2150/4000], Loss: 17.2472\n",
      "Epoch [2160/4000], Loss: 17.1881\n",
      "Epoch [2170/4000], Loss: 19.2885\n",
      "Epoch [2180/4000], Loss: 16.3595\n",
      "Epoch [2190/4000], Loss: 17.2055\n",
      "Epoch [2200/4000], Loss: 17.9973\n",
      "Epoch [2210/4000], Loss: 18.4917\n",
      "Epoch [2220/4000], Loss: 16.1619\n",
      "Epoch [2230/4000], Loss: 17.2924\n",
      "Epoch [2240/4000], Loss: 17.6143\n",
      "Epoch [2250/4000], Loss: 17.7640\n",
      "Epoch [2260/4000], Loss: 16.9225\n",
      "Epoch [2270/4000], Loss: 16.5129\n",
      "Epoch [2280/4000], Loss: 19.2857\n",
      "Epoch [2290/4000], Loss: 16.3266\n",
      "Epoch [2300/4000], Loss: 16.4786\n",
      "Epoch [2310/4000], Loss: 18.1097\n",
      "Epoch [2320/4000], Loss: 16.9941\n",
      "Epoch [2330/4000], Loss: 16.4626\n",
      "Epoch [2340/4000], Loss: 16.5545\n",
      "Epoch [2350/4000], Loss: 18.3763\n",
      "Epoch [2360/4000], Loss: 17.3699\n",
      "Epoch [2370/4000], Loss: 16.7516\n",
      "Epoch [2380/4000], Loss: 16.4142\n",
      "Epoch [2390/4000], Loss: 17.8320\n",
      "Epoch [2400/4000], Loss: 17.2474\n",
      "Epoch [2410/4000], Loss: 16.6901\n",
      "Epoch [2420/4000], Loss: 17.3262\n",
      "Epoch [2430/4000], Loss: 16.0411\n",
      "Epoch [2440/4000], Loss: 16.5411\n",
      "Epoch [2450/4000], Loss: 16.3135\n",
      "Epoch [2460/4000], Loss: 18.1658\n",
      "Epoch [2470/4000], Loss: 15.8117\n",
      "Epoch [2480/4000], Loss: 16.8332\n",
      "Epoch [2490/4000], Loss: 16.3155\n",
      "Epoch [2500/4000], Loss: 18.1961\n",
      "Epoch [2510/4000], Loss: 16.0877\n",
      "Epoch [2520/4000], Loss: 16.6764\n",
      "Epoch [2530/4000], Loss: 16.2975\n",
      "Epoch [2540/4000], Loss: 18.1963\n",
      "Epoch [2550/4000], Loss: 16.3464\n",
      "Epoch [2560/4000], Loss: 16.5923\n",
      "Epoch [2570/4000], Loss: 15.7235\n",
      "Epoch [2580/4000], Loss: 17.7640\n",
      "Epoch [2590/4000], Loss: 15.6952\n",
      "Epoch [2600/4000], Loss: 15.7114\n",
      "Epoch [2610/4000], Loss: 17.2505\n",
      "Epoch [2620/4000], Loss: 15.6129\n",
      "Epoch [2630/4000], Loss: 15.8424\n",
      "Epoch [2640/4000], Loss: 17.8874\n",
      "Epoch [2650/4000], Loss: 15.6289\n",
      "Epoch [2660/4000], Loss: 16.8477\n",
      "Epoch [2670/4000], Loss: 15.7440\n",
      "Epoch [2680/4000], Loss: 17.6154\n",
      "Epoch [2690/4000], Loss: 15.3776\n",
      "Epoch [2700/4000], Loss: 16.4673\n",
      "Epoch [2710/4000], Loss: 16.3095\n",
      "Epoch [2720/4000], Loss: 17.3465\n",
      "Epoch [2730/4000], Loss: 15.3385\n",
      "Epoch [2740/4000], Loss: 16.2206\n",
      "Epoch [2750/4000], Loss: 16.6836\n",
      "Epoch [2760/4000], Loss: 16.7127\n",
      "Epoch [2770/4000], Loss: 15.9009\n",
      "Epoch [2780/4000], Loss: 15.4083\n",
      "Epoch [2790/4000], Loss: 17.1353\n",
      "Epoch [2800/4000], Loss: 16.7369\n",
      "Epoch [2810/4000], Loss: 15.1416\n",
      "Epoch [2820/4000], Loss: 16.1571\n",
      "Epoch [2830/4000], Loss: 16.0188\n",
      "Epoch [2840/4000], Loss: 17.0386\n",
      "Epoch [2850/4000], Loss: 15.4229\n",
      "Epoch [2860/4000], Loss: 15.7155\n",
      "Epoch [2870/4000], Loss: 15.3362\n",
      "Epoch [2880/4000], Loss: 16.7243\n",
      "Epoch [2890/4000], Loss: 16.1786\n",
      "Epoch [2900/4000], Loss: 14.9391\n",
      "Epoch [2910/4000], Loss: 15.9208\n",
      "Epoch [2920/4000], Loss: 16.5276\n",
      "Epoch [2930/4000], Loss: 16.1343\n",
      "Epoch [2940/4000], Loss: 14.7657\n",
      "Epoch [2950/4000], Loss: 15.8017\n",
      "Epoch [2960/4000], Loss: 15.4373\n",
      "Epoch [2970/4000], Loss: 16.9813\n",
      "Epoch [2980/4000], Loss: 16.4316\n",
      "Epoch [2990/4000], Loss: 14.6973\n",
      "Epoch [3000/4000], Loss: 15.9302\n",
      "Epoch [3010/4000], Loss: 15.3441\n",
      "Epoch [3020/4000], Loss: 16.9167\n",
      "Epoch [3030/4000], Loss: 16.4628\n",
      "Epoch [3040/4000], Loss: 14.7758\n",
      "Epoch [3050/4000], Loss: 15.0446\n",
      "Epoch [3060/4000], Loss: 15.5649\n",
      "Epoch [3070/4000], Loss: 15.4538\n",
      "Epoch [3080/4000], Loss: 17.1343\n",
      "Epoch [3090/4000], Loss: 15.8692\n",
      "Epoch [3100/4000], Loss: 14.2262\n",
      "Epoch [3110/4000], Loss: 15.3967\n",
      "Epoch [3120/4000], Loss: 15.2083\n",
      "Epoch [3130/4000], Loss: 16.2226\n",
      "Epoch [3140/4000], Loss: 16.8249\n",
      "Epoch [3150/4000], Loss: 15.4437\n",
      "Epoch [3160/4000], Loss: 14.1174\n",
      "Epoch [3170/4000], Loss: 15.3661\n",
      "Epoch [3180/4000], Loss: 15.2786\n",
      "Epoch [3190/4000], Loss: 15.9386\n",
      "Epoch [3200/4000], Loss: 16.6237\n",
      "Epoch [3210/4000], Loss: 15.3213\n",
      "Epoch [3220/4000], Loss: 14.2046\n",
      "Epoch [3230/4000], Loss: 15.1766\n",
      "Epoch [3240/4000], Loss: 14.8488\n",
      "Epoch [3250/4000], Loss: 16.2918\n",
      "Epoch [3260/4000], Loss: 16.4948\n",
      "Epoch [3270/4000], Loss: 15.4955\n",
      "Epoch [3280/4000], Loss: 13.8937\n",
      "Epoch [3290/4000], Loss: 14.6902\n",
      "Epoch [3300/4000], Loss: 14.5690\n",
      "Epoch [3310/4000], Loss: 15.0514\n",
      "Epoch [3320/4000], Loss: 16.6154\n",
      "Epoch [3330/4000], Loss: 15.9988\n",
      "Epoch [3340/4000], Loss: 13.6738\n",
      "Epoch [3350/4000], Loss: 14.8970\n",
      "Epoch [3360/4000], Loss: 14.4023\n",
      "Epoch [3370/4000], Loss: 15.6085\n",
      "Epoch [3380/4000], Loss: 16.4858\n",
      "Epoch [3390/4000], Loss: 14.5888\n",
      "Epoch [3400/4000], Loss: 13.7956\n",
      "Epoch [3410/4000], Loss: 14.8809\n",
      "Epoch [3420/4000], Loss: 14.7800\n",
      "Epoch [3430/4000], Loss: 15.4866\n",
      "Epoch [3440/4000], Loss: 16.9170\n",
      "Epoch [3450/4000], Loss: 16.4503\n",
      "Epoch [3460/4000], Loss: 14.3973\n",
      "Epoch [3470/4000], Loss: 13.4624\n",
      "Epoch [3480/4000], Loss: 14.4150\n",
      "Epoch [3490/4000], Loss: 14.6284\n",
      "Epoch [3500/4000], Loss: 16.2846\n",
      "Epoch [3510/4000], Loss: 16.8387\n",
      "Epoch [3520/4000], Loss: 15.0332\n",
      "Epoch [3530/4000], Loss: 13.4827\n",
      "Epoch [3540/4000], Loss: 13.8515\n",
      "Epoch [3550/4000], Loss: 14.3278\n",
      "Epoch [3560/4000], Loss: 14.7544\n",
      "Epoch [3570/4000], Loss: 15.7546\n",
      "Epoch [3580/4000], Loss: 16.8136\n",
      "Epoch [3590/4000], Loss: 15.1419\n",
      "Epoch [3600/4000], Loss: 13.4873\n",
      "Epoch [3610/4000], Loss: 13.6767\n",
      "Epoch [3620/4000], Loss: 14.3848\n",
      "Epoch [3630/4000], Loss: 14.7722\n",
      "Epoch [3640/4000], Loss: 16.4032\n",
      "Epoch [3650/4000], Loss: 16.2726\n",
      "Epoch [3660/4000], Loss: 13.5561\n",
      "Epoch [3670/4000], Loss: 13.3363\n",
      "Epoch [3680/4000], Loss: 13.1638\n",
      "Epoch [3690/4000], Loss: 13.8315\n",
      "Epoch [3700/4000], Loss: 13.8734\n",
      "Epoch [3710/4000], Loss: 14.7494\n",
      "Epoch [3720/4000], Loss: 16.5128\n",
      "Epoch [3730/4000], Loss: 17.1172\n",
      "Epoch [3740/4000], Loss: 15.9621\n",
      "Epoch [3750/4000], Loss: 14.3586\n",
      "Epoch [3760/4000], Loss: 13.3100\n",
      "Epoch [3770/4000], Loss: 12.9213\n",
      "Epoch [3780/4000], Loss: 13.0235\n",
      "Epoch [3790/4000], Loss: 13.5270\n",
      "Epoch [3800/4000], Loss: 13.6888\n",
      "Epoch [3810/4000], Loss: 13.8584\n",
      "Epoch [3820/4000], Loss: 16.0997\n",
      "Epoch [3830/4000], Loss: 17.1420\n",
      "Epoch [3840/4000], Loss: 16.2631\n",
      "Epoch [3850/4000], Loss: 14.2867\n",
      "Epoch [3860/4000], Loss: 12.9017\n",
      "Epoch [3870/4000], Loss: 13.0508\n",
      "Epoch [3880/4000], Loss: 13.3334\n",
      "Epoch [3890/4000], Loss: 13.6996\n",
      "Epoch [3900/4000], Loss: 12.9989\n",
      "Epoch [3910/4000], Loss: 12.7769\n",
      "Epoch [3920/4000], Loss: 13.5958\n",
      "Epoch [3930/4000], Loss: 15.8218\n",
      "Epoch [3940/4000], Loss: 17.1084\n",
      "Epoch [3950/4000], Loss: 16.9997\n",
      "Epoch [3960/4000], Loss: 15.0811\n",
      "Epoch [3970/4000], Loss: 14.5676\n",
      "Epoch [3980/4000], Loss: 13.5213\n",
      "Epoch [3990/4000], Loss: 13.3349\n",
      "Epoch [4000/4000], Loss: 13.0020\n"
     ]
    }
   ],
   "source": [
    "# print(mlp_regressor_bin_1)\n",
    "# for x in X_bin_1_train.values:\n",
    "#     for i in x:\n",
    "#         print(i, end=' ')\n",
    "#     print(\"\")\n",
    "# print(Y_bin_1_train.values)\n",
    "\n",
    "train_mlp_regressor(mlp_regressor_bin_1, optimizer_bin_1, epochs=4000, batch_size=500, X_train=X_bin_1_train.values if isinstance(X_bin_1_train, pd.DataFrame) else X_bin_1_train, Y_train=np.array(Y_bin_1_train).reshape(-1, 1))"
   ]
  },
  {
   "cell_type": "code",
   "execution_count": null,
   "metadata": {},
   "outputs": [
    {
     "name": "stdout",
     "output_type": "stream",
     "text": [
      "Epoch [10/10000], Loss: 342.7955\n",
      "Epoch [20/10000], Loss: 338.1837\n",
      "Epoch [30/10000], Loss: 328.0016\n",
      "Epoch [40/10000], Loss: 311.2648\n",
      "Epoch [50/10000], Loss: 287.8324\n",
      "Epoch [60/10000], Loss: 257.7818\n",
      "Epoch [70/10000], Loss: 221.0987\n",
      "Epoch [80/10000], Loss: 177.7383\n",
      "Epoch [90/10000], Loss: 127.5287\n",
      "Epoch [100/10000], Loss: 93.7297\n",
      "Epoch [110/10000], Loss: 90.2884\n",
      "Epoch [120/10000], Loss: 84.7981\n",
      "Epoch [130/10000], Loss: 77.1033\n",
      "Epoch [140/10000], Loss: 73.9888\n",
      "Epoch [150/10000], Loss: 73.8352\n",
      "Epoch [160/10000], Loss: 73.7106\n",
      "Epoch [170/10000], Loss: 73.5603\n",
      "Epoch [180/10000], Loss: 73.5035\n",
      "Epoch [190/10000], Loss: 73.4646\n",
      "Epoch [200/10000], Loss: 73.4204\n",
      "Epoch [210/10000], Loss: 73.3749\n",
      "Epoch [220/10000], Loss: 73.3103\n",
      "Epoch [230/10000], Loss: 73.2461\n",
      "Epoch [240/10000], Loss: 73.1817\n",
      "Epoch [250/10000], Loss: 73.1008\n",
      "Epoch [260/10000], Loss: 73.0011\n",
      "Epoch [270/10000], Loss: 72.8927\n",
      "Epoch [280/10000], Loss: 72.7621\n",
      "Epoch [290/10000], Loss: 72.6007\n",
      "Epoch [300/10000], Loss: 72.4082\n",
      "Epoch [310/10000], Loss: 72.2267\n",
      "Epoch [320/10000], Loss: 72.0610\n",
      "Epoch [330/10000], Loss: 71.8928\n",
      "Epoch [340/10000], Loss: 71.7246\n",
      "Epoch [350/10000], Loss: 71.5223\n",
      "Epoch [360/10000], Loss: 71.3233\n",
      "Epoch [370/10000], Loss: 71.1395\n",
      "Epoch [380/10000], Loss: 70.9199\n",
      "Epoch [390/10000], Loss: 70.6856\n",
      "Epoch [400/10000], Loss: 70.4405\n",
      "Epoch [410/10000], Loss: 70.1716\n",
      "Epoch [420/10000], Loss: 69.8712\n",
      "Epoch [430/10000], Loss: 69.5752\n",
      "Epoch [440/10000], Loss: 69.2663\n",
      "Epoch [450/10000], Loss: 68.9565\n",
      "Epoch [460/10000], Loss: 68.6326\n",
      "Epoch [470/10000], Loss: 68.3088\n",
      "Epoch [480/10000], Loss: 67.9571\n",
      "Epoch [490/10000], Loss: 67.6162\n",
      "Epoch [500/10000], Loss: 67.2254\n",
      "Epoch [510/10000], Loss: 66.8258\n",
      "Epoch [520/10000], Loss: 66.4243\n",
      "Epoch [530/10000], Loss: 66.0184\n",
      "Epoch [540/10000], Loss: 65.5612\n",
      "Epoch [550/10000], Loss: 65.0786\n",
      "Epoch [560/10000], Loss: 64.6531\n",
      "Epoch [570/10000], Loss: 64.2596\n",
      "Epoch [580/10000], Loss: 63.8273\n",
      "Epoch [590/10000], Loss: 63.4132\n",
      "Epoch [600/10000], Loss: 62.9821\n",
      "Epoch [610/10000], Loss: 62.5458\n",
      "Epoch [620/10000], Loss: 62.0852\n",
      "Epoch [630/10000], Loss: 61.5229\n",
      "Epoch [640/10000], Loss: 61.0569\n",
      "Epoch [650/10000], Loss: 60.5861\n",
      "Epoch [660/10000], Loss: 60.1525\n",
      "Epoch [670/10000], Loss: 59.7367\n",
      "Epoch [680/10000], Loss: 59.3400\n",
      "Epoch [690/10000], Loss: 58.9521\n",
      "Epoch [700/10000], Loss: 58.5598\n",
      "Epoch [710/10000], Loss: 58.1778\n",
      "Epoch [720/10000], Loss: 57.7709\n",
      "Epoch [730/10000], Loss: 57.3857\n",
      "Epoch [740/10000], Loss: 57.0675\n",
      "Epoch [750/10000], Loss: 56.7198\n",
      "Epoch [760/10000], Loss: 56.3233\n",
      "Epoch [770/10000], Loss: 55.8555\n",
      "Epoch [780/10000], Loss: 55.4877\n",
      "Epoch [790/10000], Loss: 55.1556\n",
      "Epoch [800/10000], Loss: 54.8231\n",
      "Epoch [810/10000], Loss: 54.5131\n",
      "Epoch [820/10000], Loss: 54.2218\n",
      "Epoch [830/10000], Loss: 53.9730\n",
      "Epoch [840/10000], Loss: 53.6577\n",
      "Epoch [850/10000], Loss: 53.3889\n",
      "Epoch [860/10000], Loss: 53.1088\n",
      "Epoch [870/10000], Loss: 52.8335\n",
      "Epoch [880/10000], Loss: 52.5711\n",
      "Epoch [890/10000], Loss: 52.3264\n",
      "Epoch [900/10000], Loss: 52.0677\n",
      "Epoch [910/10000], Loss: 51.8911\n",
      "Epoch [920/10000], Loss: 51.6550\n",
      "Epoch [930/10000], Loss: 51.4721\n",
      "Epoch [940/10000], Loss: 51.2544\n",
      "Epoch [950/10000], Loss: 51.0424\n",
      "Epoch [960/10000], Loss: 50.8456\n",
      "Epoch [970/10000], Loss: 50.6464\n",
      "Epoch [980/10000], Loss: 50.4608\n",
      "Epoch [990/10000], Loss: 50.2293\n",
      "Epoch [1000/10000], Loss: 49.9941\n",
      "Epoch [1010/10000], Loss: 49.8897\n",
      "Epoch [1020/10000], Loss: 49.6084\n",
      "Epoch [1030/10000], Loss: 49.3697\n",
      "Epoch [1040/10000], Loss: 49.1511\n",
      "Epoch [1050/10000], Loss: 49.0101\n",
      "Epoch [1060/10000], Loss: 48.7730\n",
      "Epoch [1070/10000], Loss: 48.6003\n",
      "Epoch [1080/10000], Loss: 48.3950\n",
      "Epoch [1090/10000], Loss: 48.1966\n",
      "Epoch [1100/10000], Loss: 48.0233\n",
      "Epoch [1110/10000], Loss: 47.8667\n",
      "Epoch [1120/10000], Loss: 47.7115\n",
      "Epoch [1130/10000], Loss: 47.5630\n",
      "Epoch [1140/10000], Loss: 47.4052\n",
      "Epoch [1150/10000], Loss: 47.2454\n",
      "Epoch [1160/10000], Loss: 47.0948\n",
      "Epoch [1170/10000], Loss: 46.9891\n",
      "Epoch [1180/10000], Loss: 46.8265\n",
      "Epoch [1190/10000], Loss: 46.6666\n",
      "Epoch [1200/10000], Loss: 46.4928\n",
      "Epoch [1210/10000], Loss: 46.3377\n",
      "Epoch [1220/10000], Loss: 46.1965\n",
      "Epoch [1230/10000], Loss: 46.0634\n",
      "Epoch [1240/10000], Loss: 45.9843\n",
      "Epoch [1250/10000], Loss: 45.8119\n",
      "Epoch [1260/10000], Loss: 45.6763\n",
      "Epoch [1270/10000], Loss: 45.5661\n",
      "Epoch [1280/10000], Loss: 45.4821\n",
      "Epoch [1290/10000], Loss: 45.2998\n",
      "Epoch [1300/10000], Loss: 45.2076\n",
      "Epoch [1310/10000], Loss: 45.0802\n",
      "Epoch [1320/10000], Loss: 44.9490\n",
      "Epoch [1330/10000], Loss: 44.8269\n",
      "Epoch [1340/10000], Loss: 44.7110\n",
      "Epoch [1350/10000], Loss: 44.6891\n",
      "Epoch [1360/10000], Loss: 44.5039\n",
      "Epoch [1370/10000], Loss: 44.3713\n",
      "Epoch [1380/10000], Loss: 44.2923\n",
      "Epoch [1390/10000], Loss: 44.0703\n",
      "Epoch [1400/10000], Loss: 43.9435\n",
      "Epoch [1410/10000], Loss: 43.8438\n",
      "Epoch [1420/10000], Loss: 43.6824\n",
      "Epoch [1430/10000], Loss: 43.5664\n",
      "Epoch [1440/10000], Loss: 43.4433\n",
      "Epoch [1450/10000], Loss: 43.3226\n",
      "Epoch [1460/10000], Loss: 43.2096\n",
      "Epoch [1470/10000], Loss: 43.1146\n",
      "Epoch [1480/10000], Loss: 43.0121\n",
      "Epoch [1490/10000], Loss: 42.8903\n",
      "Epoch [1500/10000], Loss: 42.7587\n",
      "Epoch [1510/10000], Loss: 42.6899\n",
      "Epoch [1520/10000], Loss: 42.5751\n",
      "Epoch [1530/10000], Loss: 42.4671\n",
      "Epoch [1540/10000], Loss: 42.2493\n",
      "Epoch [1550/10000], Loss: 42.1773\n",
      "Epoch [1560/10000], Loss: 42.0815\n",
      "Epoch [1570/10000], Loss: 41.9922\n",
      "Epoch [1580/10000], Loss: 41.9064\n",
      "Epoch [1590/10000], Loss: 41.8132\n",
      "Epoch [1600/10000], Loss: 41.6931\n",
      "Epoch [1610/10000], Loss: 41.5938\n",
      "Epoch [1620/10000], Loss: 41.3255\n",
      "Epoch [1630/10000], Loss: 41.2086\n",
      "Epoch [1640/10000], Loss: 41.1003\n",
      "Epoch [1650/10000], Loss: 40.9590\n",
      "Epoch [1660/10000], Loss: 40.8662\n",
      "Epoch [1670/10000], Loss: 40.7568\n",
      "Epoch [1680/10000], Loss: 40.6599\n",
      "Epoch [1690/10000], Loss: 40.5345\n",
      "Epoch [1700/10000], Loss: 40.4441\n",
      "Epoch [1710/10000], Loss: 40.3644\n",
      "Epoch [1720/10000], Loss: 40.2877\n",
      "Epoch [1730/10000], Loss: 40.2173\n",
      "Epoch [1740/10000], Loss: 40.0802\n",
      "Epoch [1750/10000], Loss: 39.9774\n",
      "Epoch [1760/10000], Loss: 39.8708\n",
      "Epoch [1770/10000], Loss: 39.7147\n",
      "Epoch [1780/10000], Loss: 39.6218\n",
      "Epoch [1790/10000], Loss: 39.4934\n",
      "Epoch [1800/10000], Loss: 39.3890\n",
      "Epoch [1810/10000], Loss: 39.2797\n",
      "Epoch [1820/10000], Loss: 39.1495\n",
      "Epoch [1830/10000], Loss: 39.0878\n",
      "Epoch [1840/10000], Loss: 38.9830\n",
      "Epoch [1850/10000], Loss: 38.8703\n",
      "Epoch [1860/10000], Loss: 38.7362\n",
      "Epoch [1870/10000], Loss: 38.6718\n",
      "Epoch [1880/10000], Loss: 38.5836\n",
      "Epoch [1890/10000], Loss: 38.5085\n",
      "Epoch [1900/10000], Loss: 38.4000\n",
      "Epoch [1910/10000], Loss: 38.2409\n",
      "Epoch [1920/10000], Loss: 38.1364\n",
      "Epoch [1930/10000], Loss: 38.0545\n",
      "Epoch [1940/10000], Loss: 37.9585\n",
      "Epoch [1950/10000], Loss: 37.8766\n",
      "Epoch [1960/10000], Loss: 37.8153\n",
      "Epoch [1970/10000], Loss: 37.7784\n",
      "Epoch [1980/10000], Loss: 37.6723\n",
      "Epoch [1990/10000], Loss: 37.5415\n",
      "Epoch [2000/10000], Loss: 37.3989\n",
      "Epoch [2010/10000], Loss: 37.2732\n",
      "Epoch [2020/10000], Loss: 37.1891\n",
      "Epoch [2030/10000], Loss: 37.1159\n",
      "Epoch [2040/10000], Loss: 37.0388\n",
      "Epoch [2050/10000], Loss: 36.9872\n",
      "Epoch [2060/10000], Loss: 36.9492\n",
      "Epoch [2070/10000], Loss: 36.8357\n",
      "Epoch [2080/10000], Loss: 36.7134\n",
      "Epoch [2090/10000], Loss: 36.6527\n",
      "Epoch [2100/10000], Loss: 36.5646\n",
      "Epoch [2110/10000], Loss: 36.4576\n",
      "Epoch [2120/10000], Loss: 36.3210\n",
      "Epoch [2130/10000], Loss: 36.2220\n",
      "Epoch [2140/10000], Loss: 36.1295\n",
      "Epoch [2150/10000], Loss: 35.9681\n",
      "Epoch [2160/10000], Loss: 35.8621\n",
      "Epoch [2170/10000], Loss: 35.7626\n",
      "Epoch [2180/10000], Loss: 35.8898\n",
      "Epoch [2190/10000], Loss: 35.6867\n",
      "Epoch [2200/10000], Loss: 35.5198\n",
      "Epoch [2210/10000], Loss: 35.4670\n",
      "Epoch [2220/10000], Loss: 35.3925\n",
      "Epoch [2230/10000], Loss: 35.2952\n",
      "Epoch [2240/10000], Loss: 35.0998\n",
      "Epoch [2250/10000], Loss: 35.0340\n",
      "Epoch [2260/10000], Loss: 35.1697\n",
      "Epoch [2270/10000], Loss: 34.9015\n",
      "Epoch [2280/10000], Loss: 34.7574\n",
      "Epoch [2290/10000], Loss: 34.7100\n",
      "Epoch [2300/10000], Loss: 34.7616\n",
      "Epoch [2310/10000], Loss: 34.4982\n",
      "Epoch [2320/10000], Loss: 34.4392\n",
      "Epoch [2330/10000], Loss: 34.4070\n",
      "Epoch [2340/10000], Loss: 34.2734\n",
      "Epoch [2350/10000], Loss: 34.1715\n",
      "Epoch [2360/10000], Loss: 34.0755\n",
      "Epoch [2370/10000], Loss: 34.0311\n",
      "Epoch [2380/10000], Loss: 33.9710\n",
      "Epoch [2390/10000], Loss: 33.8519\n",
      "Epoch [2400/10000], Loss: 33.7835\n",
      "Epoch [2410/10000], Loss: 33.6800\n",
      "Epoch [2420/10000], Loss: 33.5770\n",
      "Epoch [2430/10000], Loss: 33.4733\n",
      "Epoch [2440/10000], Loss: 33.4195\n",
      "Epoch [2450/10000], Loss: 33.3299\n",
      "Epoch [2460/10000], Loss: 33.3573\n",
      "Epoch [2470/10000], Loss: 33.2407\n",
      "Epoch [2480/10000], Loss: 33.1219\n",
      "Epoch [2490/10000], Loss: 32.9109\n",
      "Epoch [2500/10000], Loss: 32.7970\n",
      "Epoch [2510/10000], Loss: 32.7067\n",
      "Epoch [2520/10000], Loss: 32.6104\n",
      "Epoch [2530/10000], Loss: 32.7952\n",
      "Epoch [2540/10000], Loss: 32.4458\n",
      "Epoch [2550/10000], Loss: 32.4410\n",
      "Epoch [2560/10000], Loss: 32.3620\n",
      "Epoch [2570/10000], Loss: 32.2883\n",
      "Epoch [2580/10000], Loss: 32.2330\n",
      "Epoch [2590/10000], Loss: 32.1171\n",
      "Epoch [2600/10000], Loss: 31.9746\n",
      "Epoch [2610/10000], Loss: 31.8075\n",
      "Epoch [2620/10000], Loss: 31.6885\n",
      "Epoch [2630/10000], Loss: 31.6945\n",
      "Epoch [2640/10000], Loss: 31.5250\n",
      "Epoch [2650/10000], Loss: 31.5983\n",
      "Epoch [2660/10000], Loss: 31.3054\n",
      "Epoch [2670/10000], Loss: 31.1922\n",
      "Epoch [2680/10000], Loss: 31.1142\n",
      "Epoch [2690/10000], Loss: 31.0532\n",
      "Epoch [2700/10000], Loss: 30.9544\n",
      "Epoch [2710/10000], Loss: 30.8562\n",
      "Epoch [2720/10000], Loss: 30.8880\n",
      "Epoch [2730/10000], Loss: 30.6506\n",
      "Epoch [2740/10000], Loss: 30.5720\n",
      "Epoch [2750/10000], Loss: 30.6327\n",
      "Epoch [2760/10000], Loss: 30.3719\n",
      "Epoch [2770/10000], Loss: 30.3829\n",
      "Epoch [2780/10000], Loss: 30.2647\n",
      "Epoch [2790/10000], Loss: 30.1725\n",
      "Epoch [2800/10000], Loss: 30.0897\n",
      "Epoch [2810/10000], Loss: 30.0674\n",
      "Epoch [2820/10000], Loss: 30.0603\n",
      "Epoch [2830/10000], Loss: 29.8792\n",
      "Epoch [2840/10000], Loss: 29.8247\n",
      "Epoch [2850/10000], Loss: 29.7684\n",
      "Epoch [2860/10000], Loss: 29.6474\n",
      "Epoch [2870/10000], Loss: 29.5376\n",
      "Epoch [2880/10000], Loss: 29.4526\n",
      "Epoch [2890/10000], Loss: 29.3040\n",
      "Epoch [2900/10000], Loss: 29.1473\n",
      "Epoch [2910/10000], Loss: 29.0525\n",
      "Epoch [2920/10000], Loss: 28.9710\n",
      "Epoch [2930/10000], Loss: 28.9029\n",
      "Epoch [2940/10000], Loss: 28.8114\n",
      "Epoch [2950/10000], Loss: 28.7803\n",
      "Epoch [2960/10000], Loss: 28.6965\n",
      "Epoch [2970/10000], Loss: 28.5725\n",
      "Epoch [2980/10000], Loss: 28.4911\n",
      "Epoch [2990/10000], Loss: 28.4262\n",
      "Epoch [3000/10000], Loss: 28.3681\n",
      "Epoch [3010/10000], Loss: 28.4080\n",
      "Epoch [3020/10000], Loss: 28.1514\n",
      "Epoch [3030/10000], Loss: 28.1848\n",
      "Epoch [3040/10000], Loss: 28.1468\n",
      "Epoch [3050/10000], Loss: 27.9579\n",
      "Epoch [3060/10000], Loss: 27.7884\n",
      "Epoch [3070/10000], Loss: 27.7449\n",
      "Epoch [3080/10000], Loss: 27.6968\n",
      "Epoch [3090/10000], Loss: 27.5890\n",
      "Epoch [3100/10000], Loss: 27.5434\n",
      "Epoch [3110/10000], Loss: 27.4048\n",
      "Epoch [3120/10000], Loss: 27.2994\n",
      "Epoch [3130/10000], Loss: 27.3120\n",
      "Epoch [3140/10000], Loss: 27.3885\n",
      "Epoch [3150/10000], Loss: 27.0718\n",
      "Epoch [3160/10000], Loss: 26.9934\n",
      "Epoch [3170/10000], Loss: 26.9098\n",
      "Epoch [3180/10000], Loss: 27.0482\n",
      "Epoch [3190/10000], Loss: 27.0887\n",
      "Epoch [3200/10000], Loss: 26.9669\n",
      "Epoch [3210/10000], Loss: 26.8750\n",
      "Epoch [3220/10000], Loss: 26.6473\n",
      "Epoch [3230/10000], Loss: 26.5369\n",
      "Epoch [3240/10000], Loss: 26.3459\n",
      "Epoch [3250/10000], Loss: 26.2589\n",
      "Epoch [3260/10000], Loss: 26.1936\n",
      "Epoch [3270/10000], Loss: 26.2334\n",
      "Epoch [3280/10000], Loss: 26.0535\n",
      "Epoch [3290/10000], Loss: 25.9152\n",
      "Epoch [3300/10000], Loss: 25.8811\n",
      "Epoch [3310/10000], Loss: 25.7456\n",
      "Epoch [3320/10000], Loss: 25.7080\n",
      "Epoch [3330/10000], Loss: 25.7172\n",
      "Epoch [3340/10000], Loss: 25.7336\n",
      "Epoch [3350/10000], Loss: 25.5903\n",
      "Epoch [3360/10000], Loss: 25.5257\n",
      "Epoch [3370/10000], Loss: 25.3527\n",
      "Epoch [3380/10000], Loss: 25.1703\n",
      "Epoch [3390/10000], Loss: 25.1542\n",
      "Epoch [3400/10000], Loss: 25.0096\n",
      "Epoch [3410/10000], Loss: 24.9201\n",
      "Epoch [3420/10000], Loss: 24.8789\n",
      "Epoch [3430/10000], Loss: 24.8087\n",
      "Epoch [3440/10000], Loss: 24.7718\n",
      "Epoch [3450/10000], Loss: 24.7385\n",
      "Epoch [3460/10000], Loss: 24.7281\n",
      "Epoch [3470/10000], Loss: 24.7013\n",
      "Epoch [3480/10000], Loss: 24.4921\n",
      "Epoch [3490/10000], Loss: 24.4223\n",
      "Epoch [3500/10000], Loss: 24.3490\n",
      "Epoch [3510/10000], Loss: 24.3558\n",
      "Epoch [3520/10000], Loss: 24.5216\n",
      "Epoch [3530/10000], Loss: 24.2709\n",
      "Epoch [3540/10000], Loss: 24.2419\n",
      "Epoch [3550/10000], Loss: 24.1052\n",
      "Epoch [3560/10000], Loss: 24.1269\n",
      "Epoch [3570/10000], Loss: 23.9571\n",
      "Epoch [3580/10000], Loss: 24.0064\n",
      "Epoch [3590/10000], Loss: 23.7258\n",
      "Epoch [3600/10000], Loss: 23.7202\n",
      "Epoch [3610/10000], Loss: 23.6464\n",
      "Epoch [3620/10000], Loss: 23.5630\n",
      "Epoch [3630/10000], Loss: 23.5101\n",
      "Epoch [3640/10000], Loss: 23.4857\n",
      "Epoch [3650/10000], Loss: 23.4290\n",
      "Epoch [3660/10000], Loss: 23.3489\n",
      "Epoch [3670/10000], Loss: 23.2954\n",
      "Epoch [3680/10000], Loss: 23.3379\n",
      "Epoch [3690/10000], Loss: 23.2656\n",
      "Epoch [3700/10000], Loss: 23.2042\n",
      "Epoch [3710/10000], Loss: 23.0409\n",
      "Epoch [3720/10000], Loss: 22.9060\n",
      "Epoch [3730/10000], Loss: 22.8469\n",
      "Epoch [3740/10000], Loss: 22.7670\n",
      "Epoch [3750/10000], Loss: 22.6820\n",
      "Epoch [3760/10000], Loss: 22.6517\n",
      "Epoch [3770/10000], Loss: 22.5790\n",
      "Epoch [3780/10000], Loss: 22.5349\n",
      "Epoch [3790/10000], Loss: 22.4303\n",
      "Epoch [3800/10000], Loss: 22.5582\n",
      "Epoch [3810/10000], Loss: 22.3022\n",
      "Epoch [3820/10000], Loss: 22.2407\n",
      "Epoch [3830/10000], Loss: 22.1528\n",
      "Epoch [3840/10000], Loss: 22.0916\n",
      "Epoch [3850/10000], Loss: 22.2020\n",
      "Epoch [3860/10000], Loss: 21.9978\n",
      "Epoch [3870/10000], Loss: 21.9490\n",
      "Epoch [3880/10000], Loss: 22.0070\n",
      "Epoch [3890/10000], Loss: 21.8889\n",
      "Epoch [3900/10000], Loss: 21.7029\n",
      "Epoch [3910/10000], Loss: 21.8506\n",
      "Epoch [3920/10000], Loss: 21.5631\n",
      "Epoch [3930/10000], Loss: 21.6576\n",
      "Epoch [3940/10000], Loss: 21.4824\n",
      "Epoch [3950/10000], Loss: 21.4716\n",
      "Epoch [3960/10000], Loss: 21.5449\n",
      "Epoch [3970/10000], Loss: 21.4992\n",
      "Epoch [3980/10000], Loss: 21.3116\n",
      "Epoch [3990/10000], Loss: 21.2712\n",
      "Epoch [4000/10000], Loss: 21.1836\n",
      "Epoch [4010/10000], Loss: 21.0704\n",
      "Epoch [4020/10000], Loss: 20.9667\n",
      "Epoch [4030/10000], Loss: 20.9357\n",
      "Epoch [4040/10000], Loss: 20.8952\n",
      "Epoch [4050/10000], Loss: 20.8434\n",
      "Epoch [4060/10000], Loss: 20.7462\n",
      "Epoch [4070/10000], Loss: 20.6718\n",
      "Epoch [4080/10000], Loss: 20.6521\n",
      "Epoch [4090/10000], Loss: 20.6639\n",
      "Epoch [4100/10000], Loss: 20.5133\n",
      "Epoch [4110/10000], Loss: 20.4442\n",
      "Epoch [4120/10000], Loss: 20.3718\n",
      "Epoch [4130/10000], Loss: 20.4089\n",
      "Epoch [4140/10000], Loss: 20.2955\n",
      "Epoch [4150/10000], Loss: 20.2884\n",
      "Epoch [4160/10000], Loss: 20.2232\n",
      "Epoch [4170/10000], Loss: 20.2272\n",
      "Epoch [4180/10000], Loss: 20.2616\n",
      "Epoch [4190/10000], Loss: 20.1999\n",
      "Epoch [4200/10000], Loss: 20.1292\n",
      "Epoch [4210/10000], Loss: 20.0581\n",
      "Epoch [4220/10000], Loss: 20.0188\n",
      "Epoch [4230/10000], Loss: 19.8750\n",
      "Epoch [4240/10000], Loss: 19.8592\n",
      "Epoch [4250/10000], Loss: 19.7590\n",
      "Epoch [4260/10000], Loss: 19.7616\n",
      "Epoch [4270/10000], Loss: 19.7702\n",
      "Epoch [4280/10000], Loss: 19.7736\n",
      "Epoch [4290/10000], Loss: 19.6772\n",
      "Epoch [4300/10000], Loss: 19.6112\n",
      "Epoch [4310/10000], Loss: 19.5770\n",
      "Epoch [4320/10000], Loss: 19.4891\n",
      "Epoch [4330/10000], Loss: 19.5071\n",
      "Epoch [4340/10000], Loss: 19.4410\n",
      "Epoch [4350/10000], Loss: 19.3878\n",
      "Epoch [4360/10000], Loss: 19.3217\n",
      "Epoch [4370/10000], Loss: 19.3090\n",
      "Epoch [4380/10000], Loss: 19.3046\n",
      "Epoch [4390/10000], Loss: 19.2308\n",
      "Epoch [4400/10000], Loss: 19.1767\n",
      "Epoch [4410/10000], Loss: 19.0678\n",
      "Epoch [4420/10000], Loss: 18.9733\n",
      "Epoch [4430/10000], Loss: 18.9305\n",
      "Epoch [4440/10000], Loss: 18.9002\n",
      "Epoch [4450/10000], Loss: 18.8472\n",
      "Epoch [4460/10000], Loss: 18.7844\n",
      "Epoch [4470/10000], Loss: 18.7505\n",
      "Epoch [4480/10000], Loss: 18.7325\n",
      "Epoch [4490/10000], Loss: 18.6374\n",
      "Epoch [4500/10000], Loss: 18.6857\n",
      "Epoch [4510/10000], Loss: 18.6829\n",
      "Epoch [4520/10000], Loss: 18.7361\n",
      "Epoch [4530/10000], Loss: 18.5352\n",
      "Epoch [4540/10000], Loss: 18.4059\n",
      "Epoch [4550/10000], Loss: 18.3640\n",
      "Epoch [4560/10000], Loss: 18.3594\n",
      "Epoch [4570/10000], Loss: 18.2825\n",
      "Epoch [4580/10000], Loss: 18.2844\n",
      "Epoch [4590/10000], Loss: 18.3166\n",
      "Epoch [4600/10000], Loss: 18.2079\n",
      "Epoch [4610/10000], Loss: 18.1675\n",
      "Epoch [4620/10000], Loss: 18.1405\n",
      "Epoch [4630/10000], Loss: 18.1198\n",
      "Epoch [4640/10000], Loss: 18.1316\n",
      "Epoch [4650/10000], Loss: 18.1457\n",
      "Epoch [4660/10000], Loss: 18.0802\n",
      "Epoch [4670/10000], Loss: 18.0854\n",
      "Epoch [4680/10000], Loss: 17.8118\n",
      "Epoch [4690/10000], Loss: 17.8200\n",
      "Epoch [4700/10000], Loss: 17.9332\n",
      "Epoch [4710/10000], Loss: 17.7852\n",
      "Epoch [4720/10000], Loss: 17.7542\n",
      "Epoch [4730/10000], Loss: 17.6946\n",
      "Epoch [4740/10000], Loss: 17.6082\n",
      "Epoch [4750/10000], Loss: 17.5483\n",
      "Epoch [4760/10000], Loss: 17.5212\n",
      "Epoch [4770/10000], Loss: 17.4952\n",
      "Epoch [4780/10000], Loss: 17.4932\n",
      "Epoch [4790/10000], Loss: 17.4183\n",
      "Epoch [4800/10000], Loss: 17.3487\n",
      "Epoch [4810/10000], Loss: 17.2701\n",
      "Epoch [4820/10000], Loss: 17.2708\n",
      "Epoch [4830/10000], Loss: 17.2078\n",
      "Epoch [4840/10000], Loss: 17.1646\n",
      "Epoch [4850/10000], Loss: 17.1348\n",
      "Epoch [4860/10000], Loss: 17.4234\n",
      "Epoch [4870/10000], Loss: 17.0879\n",
      "Epoch [4880/10000], Loss: 17.0112\n",
      "Epoch [4890/10000], Loss: 17.0962\n",
      "Epoch [4900/10000], Loss: 17.1257\n",
      "Epoch [4910/10000], Loss: 17.0957\n",
      "Epoch [4920/10000], Loss: 17.0792\n",
      "Epoch [4930/10000], Loss: 16.9578\n",
      "Epoch [4940/10000], Loss: 16.8681\n",
      "Epoch [4950/10000], Loss: 16.8315\n",
      "Epoch [4960/10000], Loss: 16.7876\n",
      "Epoch [4970/10000], Loss: 16.8175\n",
      "Epoch [4980/10000], Loss: 16.6860\n",
      "Epoch [4990/10000], Loss: 16.6642\n",
      "Epoch [5000/10000], Loss: 16.6299\n",
      "Epoch [5010/10000], Loss: 16.6607\n",
      "Epoch [5020/10000], Loss: 16.6941\n",
      "Epoch [5030/10000], Loss: 16.4886\n",
      "Epoch [5040/10000], Loss: 16.4848\n",
      "Epoch [5050/10000], Loss: 16.6471\n",
      "Epoch [5060/10000], Loss: 16.4830\n",
      "Epoch [5070/10000], Loss: 16.5216\n",
      "Epoch [5080/10000], Loss: 16.4215\n",
      "Epoch [5090/10000], Loss: 16.3481\n",
      "Epoch [5100/10000], Loss: 16.3595\n",
      "Epoch [5110/10000], Loss: 16.3451\n",
      "Epoch [5120/10000], Loss: 16.3212\n",
      "Epoch [5130/10000], Loss: 16.3425\n",
      "Epoch [5140/10000], Loss: 16.3139\n",
      "Epoch [5150/10000], Loss: 16.1513\n",
      "Epoch [5160/10000], Loss: 16.0797\n",
      "Epoch [5170/10000], Loss: 16.0806\n",
      "Epoch [5180/10000], Loss: 15.9806\n",
      "Epoch [5190/10000], Loss: 15.9699\n",
      "Epoch [5200/10000], Loss: 16.1803\n",
      "Epoch [5210/10000], Loss: 16.1443\n",
      "Epoch [5220/10000], Loss: 16.0182\n",
      "Epoch [5230/10000], Loss: 16.0589\n",
      "Epoch [5240/10000], Loss: 15.8826\n",
      "Epoch [5250/10000], Loss: 15.8912\n",
      "Epoch [5260/10000], Loss: 15.9012\n",
      "Epoch [5270/10000], Loss: 15.8404\n",
      "Epoch [5280/10000], Loss: 15.7340\n",
      "Epoch [5290/10000], Loss: 15.6710\n",
      "Epoch [5300/10000], Loss: 15.7441\n",
      "Epoch [5310/10000], Loss: 15.7141\n",
      "Epoch [5320/10000], Loss: 15.7162\n",
      "Epoch [5330/10000], Loss: 15.6861\n",
      "Epoch [5340/10000], Loss: 15.6313\n",
      "Epoch [5350/10000], Loss: 15.5787\n",
      "Epoch [5360/10000], Loss: 15.4875\n",
      "Epoch [5370/10000], Loss: 15.4322\n",
      "Epoch [5380/10000], Loss: 15.3982\n",
      "Epoch [5390/10000], Loss: 15.4573\n",
      "Epoch [5400/10000], Loss: 15.4519\n",
      "Epoch [5410/10000], Loss: 15.2513\n",
      "Epoch [5420/10000], Loss: 15.2577\n",
      "Epoch [5430/10000], Loss: 15.2750\n",
      "Epoch [5440/10000], Loss: 15.4745\n",
      "Epoch [5450/10000], Loss: 15.1558\n",
      "Epoch [5460/10000], Loss: 15.4068\n",
      "Epoch [5470/10000], Loss: 15.3341\n",
      "Epoch [5480/10000], Loss: 15.2624\n",
      "Epoch [5490/10000], Loss: 15.2416\n",
      "Epoch [5500/10000], Loss: 15.1225\n",
      "Epoch [5510/10000], Loss: 15.0724\n",
      "Epoch [5520/10000], Loss: 14.9713\n",
      "Epoch [5530/10000], Loss: 14.9425\n",
      "Epoch [5540/10000], Loss: 14.9331\n",
      "Epoch [5550/10000], Loss: 14.8681\n",
      "Epoch [5560/10000], Loss: 14.9317\n",
      "Epoch [5570/10000], Loss: 14.9056\n",
      "Epoch [5580/10000], Loss: 14.8358\n",
      "Epoch [5590/10000], Loss: 14.8382\n",
      "Epoch [5600/10000], Loss: 14.7737\n",
      "Epoch [5610/10000], Loss: 14.7352\n",
      "Epoch [5620/10000], Loss: 14.7537\n",
      "Epoch [5630/10000], Loss: 14.7018\n",
      "Epoch [5640/10000], Loss: 14.7308\n",
      "Epoch [5650/10000], Loss: 14.7258\n",
      "Epoch [5660/10000], Loss: 14.6233\n",
      "Epoch [5670/10000], Loss: 14.5253\n",
      "Epoch [5680/10000], Loss: 14.5760\n",
      "Epoch [5690/10000], Loss: 14.4618\n",
      "Epoch [5700/10000], Loss: 14.6377\n",
      "Epoch [5710/10000], Loss: 14.6026\n",
      "Epoch [5720/10000], Loss: 14.5051\n",
      "Epoch [5730/10000], Loss: 14.5132\n",
      "Epoch [5740/10000], Loss: 14.4336\n",
      "Epoch [5750/10000], Loss: 14.3740\n",
      "Epoch [5760/10000], Loss: 14.3107\n",
      "Epoch [5770/10000], Loss: 14.2989\n",
      "Epoch [5780/10000], Loss: 14.2973\n",
      "Epoch [5790/10000], Loss: 14.2921\n",
      "Epoch [5800/10000], Loss: 14.2035\n",
      "Epoch [5810/10000], Loss: 14.1434\n",
      "Epoch [5820/10000], Loss: 14.1570\n",
      "Epoch [5830/10000], Loss: 14.2400\n",
      "Epoch [5840/10000], Loss: 14.1661\n",
      "Epoch [5850/10000], Loss: 14.3636\n",
      "Epoch [5860/10000], Loss: 14.2702\n",
      "Epoch [5870/10000], Loss: 14.1509\n",
      "Epoch [5880/10000], Loss: 14.0768\n",
      "Epoch [5890/10000], Loss: 14.0288\n",
      "Epoch [5900/10000], Loss: 14.0516\n",
      "Epoch [5910/10000], Loss: 13.9538\n",
      "Epoch [5920/10000], Loss: 13.9634\n",
      "Epoch [5930/10000], Loss: 13.9474\n",
      "Epoch [5940/10000], Loss: 13.9171\n",
      "Epoch [5950/10000], Loss: 13.9045\n",
      "Epoch [5960/10000], Loss: 13.8784\n",
      "Epoch [5970/10000], Loss: 13.8717\n",
      "Epoch [5980/10000], Loss: 13.8383\n",
      "Epoch [5990/10000], Loss: 13.7585\n",
      "Epoch [6000/10000], Loss: 13.6907\n",
      "Epoch [6010/10000], Loss: 13.6414\n",
      "Epoch [6020/10000], Loss: 13.5734\n",
      "Epoch [6030/10000], Loss: 13.5821\n",
      "Epoch [6040/10000], Loss: 13.5349\n",
      "Epoch [6050/10000], Loss: 13.5551\n",
      "Epoch [6060/10000], Loss: 13.5453\n",
      "Epoch [6070/10000], Loss: 13.5636\n",
      "Epoch [6080/10000], Loss: 13.5650\n",
      "Epoch [6090/10000], Loss: 13.4854\n",
      "Epoch [6100/10000], Loss: 13.3744\n",
      "Epoch [6110/10000], Loss: 13.3592\n",
      "Epoch [6120/10000], Loss: 13.3572\n",
      "Epoch [6130/10000], Loss: 13.4111\n",
      "Epoch [6140/10000], Loss: 13.3864\n",
      "Epoch [6150/10000], Loss: 13.2940\n",
      "Epoch [6160/10000], Loss: 13.2270\n",
      "Epoch [6170/10000], Loss: 13.2067\n",
      "Epoch [6180/10000], Loss: 13.2396\n",
      "Epoch [6190/10000], Loss: 13.1391\n",
      "Epoch [6200/10000], Loss: 13.1926\n",
      "Epoch [6210/10000], Loss: 13.2311\n",
      "Epoch [6220/10000], Loss: 13.0948\n",
      "Epoch [6230/10000], Loss: 13.0165\n",
      "Epoch [6240/10000], Loss: 13.0026\n",
      "Epoch [6250/10000], Loss: 13.1389\n",
      "Epoch [6260/10000], Loss: 12.9373\n",
      "Epoch [6270/10000], Loss: 12.9678\n",
      "Epoch [6280/10000], Loss: 12.9690\n",
      "Epoch [6290/10000], Loss: 12.8908\n",
      "Epoch [6300/10000], Loss: 12.8871\n",
      "Epoch [6310/10000], Loss: 12.9119\n",
      "Epoch [6320/10000], Loss: 12.9253\n",
      "Epoch [6330/10000], Loss: 12.9025\n",
      "Epoch [6340/10000], Loss: 12.8205\n",
      "Epoch [6350/10000], Loss: 12.7397\n",
      "Epoch [6360/10000], Loss: 12.7243\n",
      "Epoch [6370/10000], Loss: 12.8323\n",
      "Epoch [6380/10000], Loss: 12.7909\n",
      "Epoch [6390/10000], Loss: 12.7067\n",
      "Epoch [6400/10000], Loss: 12.5983\n",
      "Epoch [6410/10000], Loss: 12.5913\n",
      "Epoch [6420/10000], Loss: 12.7213\n",
      "Epoch [6430/10000], Loss: 12.4847\n",
      "Epoch [6440/10000], Loss: 12.4557\n",
      "Epoch [6450/10000], Loss: 12.5189\n",
      "Epoch [6460/10000], Loss: 12.5999\n",
      "Epoch [6470/10000], Loss: 12.4583\n",
      "Epoch [6480/10000], Loss: 12.3615\n",
      "Epoch [6490/10000], Loss: 12.3812\n",
      "Epoch [6500/10000], Loss: 12.3510\n",
      "Epoch [6510/10000], Loss: 12.2925\n",
      "Epoch [6520/10000], Loss: 12.2450\n",
      "Epoch [6530/10000], Loss: 12.3230\n",
      "Epoch [6540/10000], Loss: 12.2127\n",
      "Epoch [6550/10000], Loss: 12.2605\n",
      "Epoch [6560/10000], Loss: 12.2247\n",
      "Epoch [6570/10000], Loss: 12.2719\n",
      "Epoch [6580/10000], Loss: 12.2568\n",
      "Epoch [6590/10000], Loss: 12.1715\n",
      "Epoch [6600/10000], Loss: 12.1079\n",
      "Epoch [6610/10000], Loss: 12.1198\n",
      "Epoch [6620/10000], Loss: 12.0709\n",
      "Epoch [6630/10000], Loss: 12.0751\n",
      "Epoch [6640/10000], Loss: 12.1351\n",
      "Epoch [6650/10000], Loss: 12.0548\n",
      "Epoch [6660/10000], Loss: 12.0180\n",
      "Epoch [6670/10000], Loss: 11.9440\n",
      "Epoch [6680/10000], Loss: 11.8556\n",
      "Epoch [6690/10000], Loss: 11.9013\n",
      "Epoch [6700/10000], Loss: 11.9383\n",
      "Epoch [6710/10000], Loss: 11.9110\n",
      "Epoch [6720/10000], Loss: 11.7584\n",
      "Epoch [6730/10000], Loss: 11.7110\n",
      "Epoch [6740/10000], Loss: 11.7498\n",
      "Epoch [6750/10000], Loss: 11.8544\n",
      "Epoch [6760/10000], Loss: 11.6758\n",
      "Epoch [6770/10000], Loss: 11.6087\n",
      "Epoch [6780/10000], Loss: 11.6688\n",
      "Epoch [6790/10000], Loss: 11.6426\n",
      "Epoch [6800/10000], Loss: 11.6021\n",
      "Epoch [6810/10000], Loss: 11.6537\n",
      "Epoch [6820/10000], Loss: 11.6422\n",
      "Epoch [6830/10000], Loss: 11.6025\n",
      "Epoch [6840/10000], Loss: 11.5840\n",
      "Epoch [6850/10000], Loss: 11.5718\n",
      "Epoch [6860/10000], Loss: 11.5193\n",
      "Epoch [6870/10000], Loss: 11.4486\n",
      "Epoch [6880/10000], Loss: 11.4008\n",
      "Epoch [6890/10000], Loss: 11.3902\n",
      "Epoch [6900/10000], Loss: 11.4422\n",
      "Epoch [6910/10000], Loss: 11.4373\n",
      "Epoch [6920/10000], Loss: 11.3567\n",
      "Epoch [6930/10000], Loss: 11.3138\n",
      "Epoch [6940/10000], Loss: 11.2355\n",
      "Epoch [6950/10000], Loss: 11.3361\n",
      "Epoch [6960/10000], Loss: 11.4280\n",
      "Epoch [6970/10000], Loss: 11.2430\n",
      "Epoch [6980/10000], Loss: 11.2395\n",
      "Epoch [6990/10000], Loss: 11.2542\n",
      "Epoch [7000/10000], Loss: 11.2206\n",
      "Epoch [7010/10000], Loss: 11.2301\n",
      "Epoch [7020/10000], Loss: 11.2883\n",
      "Epoch [7030/10000], Loss: 11.2819\n",
      "Epoch [7040/10000], Loss: 11.2411\n",
      "Epoch [7050/10000], Loss: 11.1874\n",
      "Epoch [7060/10000], Loss: 11.1677\n",
      "Epoch [7070/10000], Loss: 11.1999\n",
      "Epoch [7080/10000], Loss: 11.1392\n",
      "Epoch [7090/10000], Loss: 11.1208\n",
      "Epoch [7100/10000], Loss: 11.0990\n",
      "Epoch [7110/10000], Loss: 11.1450\n",
      "Epoch [7120/10000], Loss: 11.1979\n",
      "Epoch [7130/10000], Loss: 11.2147\n",
      "Epoch [7140/10000], Loss: 11.2015\n",
      "Epoch [7150/10000], Loss: 11.0661\n",
      "Epoch [7160/10000], Loss: 11.0221\n",
      "Epoch [7170/10000], Loss: 11.0284\n",
      "Epoch [7180/10000], Loss: 11.0305\n",
      "Epoch [7190/10000], Loss: 11.0511\n",
      "Epoch [7200/10000], Loss: 11.1070\n",
      "Epoch [7210/10000], Loss: 11.0891\n",
      "Epoch [7220/10000], Loss: 11.0891\n",
      "Epoch [7230/10000], Loss: 10.9889\n",
      "Epoch [7240/10000], Loss: 10.9317\n",
      "Epoch [7250/10000], Loss: 10.8890\n",
      "Epoch [7260/10000], Loss: 10.8959\n",
      "Epoch [7270/10000], Loss: 10.9573\n",
      "Epoch [7280/10000], Loss: 10.9880\n",
      "Epoch [7290/10000], Loss: 11.0272\n",
      "Epoch [7300/10000], Loss: 10.9276\n",
      "Epoch [7310/10000], Loss: 10.8618\n",
      "Epoch [7320/10000], Loss: 10.8748\n",
      "Epoch [7330/10000], Loss: 10.8895\n",
      "Epoch [7340/10000], Loss: 10.8559\n",
      "Epoch [7350/10000], Loss: 10.8481\n",
      "Epoch [7360/10000], Loss: 10.8401\n",
      "Epoch [7370/10000], Loss: 10.9358\n",
      "Epoch [7380/10000], Loss: 10.8305\n",
      "Epoch [7390/10000], Loss: 10.7579\n",
      "Epoch [7400/10000], Loss: 10.7478\n",
      "Epoch [7410/10000], Loss: 10.7367\n",
      "Epoch [7420/10000], Loss: 10.8189\n",
      "Epoch [7430/10000], Loss: 10.8182\n",
      "Epoch [7440/10000], Loss: 10.7583\n",
      "Epoch [7450/10000], Loss: 10.7242\n",
      "Epoch [7460/10000], Loss: 10.6867\n",
      "Epoch [7470/10000], Loss: 10.6566\n",
      "Epoch [7480/10000], Loss: 10.7390\n",
      "Epoch [7490/10000], Loss: 10.7470\n",
      "Epoch [7500/10000], Loss: 10.7232\n",
      "Epoch [7510/10000], Loss: 10.6115\n",
      "Epoch [7520/10000], Loss: 10.5994\n",
      "Epoch [7530/10000], Loss: 10.6859\n",
      "Epoch [7540/10000], Loss: 10.6877\n",
      "Epoch [7550/10000], Loss: 10.7072\n",
      "Epoch [7560/10000], Loss: 10.5990\n",
      "Epoch [7570/10000], Loss: 10.5632\n",
      "Epoch [7580/10000], Loss: 10.5874\n",
      "Epoch [7590/10000], Loss: 10.5851\n",
      "Epoch [7600/10000], Loss: 10.6145\n",
      "Epoch [7610/10000], Loss: 10.5605\n",
      "Epoch [7620/10000], Loss: 10.4950\n",
      "Epoch [7630/10000], Loss: 10.5424\n",
      "Epoch [7640/10000], Loss: 10.5645\n",
      "Epoch [7650/10000], Loss: 10.5393\n",
      "Epoch [7660/10000], Loss: 10.4488\n",
      "Epoch [7670/10000], Loss: 10.4409\n",
      "Epoch [7680/10000], Loss: 10.4512\n",
      "Epoch [7690/10000], Loss: 10.4517\n",
      "Epoch [7700/10000], Loss: 10.4567\n",
      "Epoch [7710/10000], Loss: 10.4579\n",
      "Epoch [7720/10000], Loss: 10.4937\n",
      "Epoch [7730/10000], Loss: 10.4645\n",
      "Epoch [7740/10000], Loss: 10.3931\n",
      "Epoch [7750/10000], Loss: 10.4227\n",
      "Epoch [7760/10000], Loss: 10.3859\n",
      "Epoch [7770/10000], Loss: 10.4236\n",
      "Epoch [7780/10000], Loss: 10.4127\n",
      "Epoch [7790/10000], Loss: 10.3404\n",
      "Epoch [7800/10000], Loss: 10.3180\n",
      "Epoch [7810/10000], Loss: 10.3834\n",
      "Epoch [7820/10000], Loss: 10.3287\n",
      "Epoch [7830/10000], Loss: 10.2550\n",
      "Epoch [7840/10000], Loss: 10.3299\n",
      "Epoch [7850/10000], Loss: 10.3221\n",
      "Epoch [7860/10000], Loss: 10.2583\n",
      "Epoch [7870/10000], Loss: 10.1849\n",
      "Epoch [7880/10000], Loss: 10.2610\n",
      "Epoch [7890/10000], Loss: 10.3133\n",
      "Epoch [7900/10000], Loss: 10.2065\n",
      "Epoch [7910/10000], Loss: 10.1569\n",
      "Epoch [7920/10000], Loss: 10.2103\n",
      "Epoch [7930/10000], Loss: 10.1638\n",
      "Epoch [7940/10000], Loss: 10.1605\n",
      "Epoch [7950/10000], Loss: 10.2343\n",
      "Epoch [7960/10000], Loss: 10.0871\n",
      "Epoch [7970/10000], Loss: 10.1575\n",
      "Epoch [7980/10000], Loss: 10.1704\n",
      "Epoch [7990/10000], Loss: 10.2504\n",
      "Epoch [8000/10000], Loss: 10.2093\n",
      "Epoch [8010/10000], Loss: 10.1078\n",
      "Epoch [8020/10000], Loss: 10.0727\n",
      "Epoch [8030/10000], Loss: 10.1246\n",
      "Epoch [8040/10000], Loss: 10.1817\n",
      "Epoch [8050/10000], Loss: 10.0624\n",
      "Epoch [8060/10000], Loss: 10.0703\n",
      "Epoch [8070/10000], Loss: 9.9774\n",
      "Epoch [8080/10000], Loss: 10.1623\n",
      "Epoch [8090/10000], Loss: 9.9641\n",
      "Epoch [8100/10000], Loss: 9.9676\n",
      "Epoch [8110/10000], Loss: 9.9899\n",
      "Epoch [8120/10000], Loss: 9.9678\n",
      "Epoch [8130/10000], Loss: 9.9578\n",
      "Epoch [8140/10000], Loss: 10.0021\n",
      "Epoch [8150/10000], Loss: 10.0162\n",
      "Epoch [8160/10000], Loss: 9.9285\n",
      "Epoch [8170/10000], Loss: 9.9003\n",
      "Epoch [8180/10000], Loss: 9.8900\n",
      "Epoch [8190/10000], Loss: 9.8807\n",
      "Epoch [8200/10000], Loss: 9.9058\n",
      "Epoch [8210/10000], Loss: 9.9859\n",
      "Epoch [8220/10000], Loss: 9.8438\n",
      "Epoch [8230/10000], Loss: 9.8584\n",
      "Epoch [8240/10000], Loss: 9.8271\n",
      "Epoch [8250/10000], Loss: 9.8063\n",
      "Epoch [8260/10000], Loss: 9.8909\n",
      "Epoch [8270/10000], Loss: 9.9326\n",
      "Epoch [8280/10000], Loss: 9.8824\n",
      "Epoch [8290/10000], Loss: 9.7973\n",
      "Epoch [8300/10000], Loss: 9.8289\n",
      "Epoch [8310/10000], Loss: 9.7977\n",
      "Epoch [8320/10000], Loss: 9.7920\n",
      "Epoch [8330/10000], Loss: 9.8572\n",
      "Epoch [8340/10000], Loss: 9.7911\n",
      "Epoch [8350/10000], Loss: 9.7420\n",
      "Epoch [8360/10000], Loss: 9.7102\n",
      "Epoch [8370/10000], Loss: 9.7496\n",
      "Epoch [8380/10000], Loss: 9.7888\n",
      "Epoch [8390/10000], Loss: 9.6369\n",
      "Epoch [8400/10000], Loss: 9.7439\n",
      "Epoch [8410/10000], Loss: 9.7988\n",
      "Epoch [8420/10000], Loss: 9.8196\n",
      "Epoch [8430/10000], Loss: 9.6728\n",
      "Epoch [8440/10000], Loss: 9.6263\n",
      "Epoch [8450/10000], Loss: 9.6194\n",
      "Epoch [8460/10000], Loss: 9.6726\n",
      "Epoch [8470/10000], Loss: 9.6983\n",
      "Epoch [8480/10000], Loss: 9.7007\n",
      "Epoch [8490/10000], Loss: 9.6562\n",
      "Epoch [8500/10000], Loss: 9.6242\n",
      "Epoch [8510/10000], Loss: 9.5834\n",
      "Epoch [8520/10000], Loss: 9.5752\n",
      "Epoch [8530/10000], Loss: 9.6670\n",
      "Epoch [8540/10000], Loss: 9.6014\n",
      "Epoch [8550/10000], Loss: 9.5070\n",
      "Epoch [8560/10000], Loss: 9.5120\n",
      "Epoch [8570/10000], Loss: 9.6181\n",
      "Epoch [8580/10000], Loss: 9.4883\n",
      "Epoch [8590/10000], Loss: 9.4214\n",
      "Epoch [8600/10000], Loss: 9.5308\n",
      "Epoch [8610/10000], Loss: 9.4934\n",
      "Epoch [8620/10000], Loss: 9.5041\n",
      "Epoch [8630/10000], Loss: 9.5557\n",
      "Epoch [8640/10000], Loss: 9.5124\n",
      "Epoch [8650/10000], Loss: 9.4082\n",
      "Epoch [8660/10000], Loss: 9.4213\n",
      "Epoch [8670/10000], Loss: 9.4615\n",
      "Epoch [8680/10000], Loss: 9.5124\n",
      "Epoch [8690/10000], Loss: 9.4486\n",
      "Epoch [8700/10000], Loss: 9.3935\n",
      "Epoch [8710/10000], Loss: 9.4124\n",
      "Epoch [8720/10000], Loss: 9.4843\n",
      "Epoch [8730/10000], Loss: 9.3927\n",
      "Epoch [8740/10000], Loss: 9.3355\n",
      "Epoch [8750/10000], Loss: 9.3727\n",
      "Epoch [8760/10000], Loss: 9.3767\n",
      "Epoch [8770/10000], Loss: 9.3886\n",
      "Epoch [8780/10000], Loss: 9.3117\n",
      "Epoch [8790/10000], Loss: 9.3621\n",
      "Epoch [8800/10000], Loss: 9.3824\n",
      "Epoch [8810/10000], Loss: 9.3155\n",
      "Epoch [8820/10000], Loss: 9.2867\n",
      "Epoch [8830/10000], Loss: 9.2696\n",
      "Epoch [8840/10000], Loss: 9.2796\n",
      "Epoch [8850/10000], Loss: 9.3383\n",
      "Epoch [8860/10000], Loss: 9.2861\n",
      "Epoch [8870/10000], Loss: 9.2111\n",
      "Epoch [8880/10000], Loss: 9.1817\n",
      "Epoch [8890/10000], Loss: 9.2905\n",
      "Epoch [8900/10000], Loss: 9.2644\n",
      "Epoch [8910/10000], Loss: 9.2217\n",
      "Epoch [8920/10000], Loss: 9.2117\n",
      "Epoch [8930/10000], Loss: 9.1533\n",
      "Epoch [8940/10000], Loss: 9.1928\n",
      "Epoch [8950/10000], Loss: 9.2621\n",
      "Epoch [8960/10000], Loss: 9.2365\n",
      "Epoch [8970/10000], Loss: 9.1709\n",
      "Epoch [8980/10000], Loss: 9.0921\n",
      "Epoch [8990/10000], Loss: 9.1028\n",
      "Epoch [9000/10000], Loss: 9.2304\n",
      "Epoch [9010/10000], Loss: 9.0745\n",
      "Epoch [9020/10000], Loss: 9.0496\n",
      "Epoch [9030/10000], Loss: 9.1230\n",
      "Epoch [9040/10000], Loss: 9.1321\n",
      "Epoch [9050/10000], Loss: 9.1331\n",
      "Epoch [9060/10000], Loss: 9.0754\n",
      "Epoch [9070/10000], Loss: 9.0056\n",
      "Epoch [9080/10000], Loss: 8.9998\n",
      "Epoch [9090/10000], Loss: 9.1257\n",
      "Epoch [9100/10000], Loss: 9.0095\n",
      "Epoch [9110/10000], Loss: 8.9709\n",
      "Epoch [9120/10000], Loss: 8.9888\n",
      "Epoch [9130/10000], Loss: 9.1650\n",
      "Epoch [9140/10000], Loss: 9.0652\n",
      "Epoch [9150/10000], Loss: 8.9564\n",
      "Epoch [9160/10000], Loss: 8.9069\n",
      "Epoch [9170/10000], Loss: 8.9570\n",
      "Epoch [9180/10000], Loss: 9.0388\n",
      "Epoch [9190/10000], Loss: 8.9414\n",
      "Epoch [9200/10000], Loss: 8.9251\n",
      "Epoch [9210/10000], Loss: 8.9687\n",
      "Epoch [9220/10000], Loss: 8.9682\n",
      "Epoch [9230/10000], Loss: 8.8867\n",
      "Epoch [9240/10000], Loss: 8.9441\n",
      "Epoch [9250/10000], Loss: 8.9765\n",
      "Epoch [9260/10000], Loss: 8.8571\n",
      "Epoch [9270/10000], Loss: 8.9235\n",
      "Epoch [9280/10000], Loss: 8.8890\n",
      "Epoch [9290/10000], Loss: 8.8328\n",
      "Epoch [9300/10000], Loss: 8.8665\n",
      "Epoch [9310/10000], Loss: 8.8479\n",
      "Epoch [9320/10000], Loss: 8.8054\n",
      "Epoch [9330/10000], Loss: 8.8281\n",
      "Epoch [9340/10000], Loss: 8.9298\n",
      "Epoch [9350/10000], Loss: 8.6894\n",
      "Epoch [9360/10000], Loss: 8.8193\n",
      "Epoch [9370/10000], Loss: 8.9250\n",
      "Epoch [9380/10000], Loss: 8.6907\n",
      "Epoch [9390/10000], Loss: 8.6877\n",
      "Epoch [9400/10000], Loss: 8.7189\n",
      "Epoch [9410/10000], Loss: 8.8113\n",
      "Epoch [9420/10000], Loss: 8.7779\n",
      "Epoch [9430/10000], Loss: 8.7841\n",
      "Epoch [9440/10000], Loss: 8.7784\n",
      "Epoch [9450/10000], Loss: 8.8130\n",
      "Epoch [9460/10000], Loss: 8.7389\n",
      "Epoch [9470/10000], Loss: 8.6607\n",
      "Epoch [9480/10000], Loss: 8.6795\n",
      "Epoch [9490/10000], Loss: 8.6724\n",
      "Epoch [9500/10000], Loss: 8.8385\n",
      "Epoch [9510/10000], Loss: 8.6412\n",
      "Epoch [9520/10000], Loss: 8.5848\n",
      "Epoch [9530/10000], Loss: 8.5725\n",
      "Epoch [9540/10000], Loss: 8.5887\n",
      "Epoch [9550/10000], Loss: 8.6492\n",
      "Epoch [9560/10000], Loss: 8.7838\n",
      "Epoch [9570/10000], Loss: 8.7603\n",
      "Epoch [9580/10000], Loss: 8.6693\n",
      "Epoch [9590/10000], Loss: 8.5338\n",
      "Epoch [9600/10000], Loss: 8.5313\n",
      "Epoch [9610/10000], Loss: 8.5532\n",
      "Epoch [9620/10000], Loss: 8.5268\n",
      "Epoch [9630/10000], Loss: 8.5586\n",
      "Epoch [9640/10000], Loss: 8.5454\n",
      "Epoch [9650/10000], Loss: 8.5525\n",
      "Epoch [9660/10000], Loss: 8.5744\n",
      "Epoch [9670/10000], Loss: 8.6301\n",
      "Epoch [9680/10000], Loss: 8.6226\n",
      "Epoch [9690/10000], Loss: 8.6042\n",
      "Epoch [9700/10000], Loss: 8.4890\n",
      "Epoch [9710/10000], Loss: 8.4552\n",
      "Epoch [9720/10000], Loss: 8.4599\n",
      "Epoch [9730/10000], Loss: 8.5201\n",
      "Epoch [9740/10000], Loss: 8.5749\n",
      "Epoch [9750/10000], Loss: 8.5191\n",
      "Epoch [9760/10000], Loss: 8.5514\n",
      "Epoch [9770/10000], Loss: 8.4367\n",
      "Epoch [9780/10000], Loss: 8.4170\n",
      "Epoch [9790/10000], Loss: 8.4048\n",
      "Epoch [9800/10000], Loss: 8.3922\n",
      "Epoch [9810/10000], Loss: 8.3945\n",
      "Epoch [9820/10000], Loss: 8.4029\n",
      "Epoch [9830/10000], Loss: 8.4387\n",
      "Epoch [9840/10000], Loss: 8.4579\n",
      "Epoch [9850/10000], Loss: 8.4707\n",
      "Epoch [9860/10000], Loss: 8.4363\n",
      "Epoch [9870/10000], Loss: 8.3017\n",
      "Epoch [9880/10000], Loss: 8.3186\n",
      "Epoch [9890/10000], Loss: 8.3181\n",
      "Epoch [9900/10000], Loss: 8.3384\n",
      "Epoch [9910/10000], Loss: 8.5019\n",
      "Epoch [9920/10000], Loss: 8.4157\n",
      "Epoch [9930/10000], Loss: 8.3211\n",
      "Epoch [9940/10000], Loss: 8.2628\n",
      "Epoch [9950/10000], Loss: 8.2473\n",
      "Epoch [9960/10000], Loss: 8.2823\n",
      "Epoch [9970/10000], Loss: 8.3346\n",
      "Epoch [9980/10000], Loss: 8.3772\n",
      "Epoch [9990/10000], Loss: 8.3031\n",
      "Epoch [10000/10000], Loss: 8.2779\n"
     ]
    }
   ],
   "source": [
    "train_mlp_regressor(mlp_regressor_bin_2, optimizer_bin_2, epochs=10000, batch_size=500, X_train=X_bin_2_train.values if isinstance(X_bin_2_train, pd.DataFrame) else X_bin_2_train, Y_train=np.array(Y_bin_2_train).reshape(-1, 1))"
   ]
  },
  {
   "cell_type": "code",
   "execution_count": null,
   "metadata": {},
   "outputs": [
    {
     "name": "stderr",
     "output_type": "stream",
     "text": [
      "/Users/rithikkumars/miniconda3/envs/kasturi_ml_project/lib/python3.10/site-packages/torch/utils/_device.py:77: UserWarning:\n",
      "\n",
      "Using a target size (torch.Size([2324])) that is different to the input size (torch.Size([2324, 1])). This will likely lead to incorrect results due to broadcasting. Please ensure they have the same size.\n",
      "\n"
     ]
    },
    {
     "name": "stdout",
     "output_type": "stream",
     "text": [
      "Loss: 57.2262\n",
      "Loss: 214.3464\n"
     ]
    },
    {
     "name": "stderr",
     "output_type": "stream",
     "text": [
      "/Users/rithikkumars/miniconda3/envs/kasturi_ml_project/lib/python3.10/site-packages/torch/utils/_device.py:77: UserWarning:\n",
      "\n",
      "Using a target size (torch.Size([88])) that is different to the input size (torch.Size([88, 1])). This will likely lead to incorrect results due to broadcasting. Please ensure they have the same size.\n",
      "\n"
     ]
    },
    {
     "data": {
      "image/png": "[encoded data removed]",
      "text/plain": [
       "<Figure size 640x480 with 1 Axes>"
      ]
     },
     "metadata": {},
     "output_type": "display_data"
    },
    {
     "data": {
      "image/png": "[encoded data removed]",
      "text/plain": [
       "<Figure size 1000x600 with 1 Axes>"
      ]
     },
     "metadata": {},
     "output_type": "display_data"
    },
    {
     "name": "stdout",
     "output_type": "stream",
     "text": [
      "The mean error is 52.59724612736661 and the standard deviation of the errors is 72.61028475339208\n"
     ]
    },
    {
     "data": {
      "image/png": "[encoded data removed]",
      "text/plain": [
       "<Figure size 1000x600 with 1 Axes>"
      ]
     },
     "metadata": {},
     "output_type": "display_data"
    },
    {
     "data": {
      "image/png": "[encoded data removed]",
      "text/plain": [
       "<Figure size 640x480 with 1 Axes>"
      ]
     },
     "metadata": {},
     "output_type": "display_data"
    },
    {
     "data": {
      "image/png": "[encoded data removed]",
      "text/plain": [
       "<Figure size 1000x600 with 1 Axes>"
      ]
     },
     "metadata": {},
     "output_type": "display_data"
    },
    {
     "name": "stdout",
     "output_type": "stream",
     "text": [
      "The mean error is 195.0340909090909 and the standard deviation of the errors is 372.3754352087431\n"
     ]
    },
    {
     "data": {
      "image/png": "[encoded data removed]",
      "text/plain": [
       "<Figure size 1000x600 with 1 Axes>"
      ]
     },
     "metadata": {},
     "output_type": "display_data"
    }
   ],
   "source": [
    "\n",
    "# testing the MLP models\n",
    "y_pred_mlp_bin_1 = test_mlp_regressor(mlp_regressor_bin_1, X_bin_1_test.values if isinstance(X_bin_1_test, pd.DataFrame) else X_bin_1_test, np.array(Y_bin_1_test).reshape(-1, 1).squeeze())\n",
    "y_pred_mlp_bin_1 = np.rint(y_pred_mlp_bin_1).astype(int)\n",
    "\n",
    "y_pred_mlp_bin_2 = test_mlp_regressor(mlp_regressor_bin_2, X_bin_2_test.values if isinstance(X_bin_2_test, pd.DataFrame) else X_bin_2_test, np.array(Y_bin_2_test).reshape(-1, 1).squeeze())\n",
    "y_pred_mlp_bin_2 = np.rint(y_pred_mlp_bin_2).astype(int)\n",
    "\n",
    "Y_bin_1_test = np.rint(Y_bin_1_test).astype(int)\n",
    "Y_bin_2_test = np.rint(Y_bin_2_test).astype(int)\n",
    "\n",
    "# plotting the results\n",
    "plt.plot(np.floor(Y_bin_1_test//rounding_graph) * rounding_graph, np.floor(y_pred_mlp_bin_1//rounding_graph) * rounding_graph, 'o')\n",
    "accuracy_bin1 = calculate_accuracy(Y_bin_1_test, y_pred_mlp_bin_1, rounding)\n",
    "\n",
    "plt.xlabel('Actual')\n",
    "plt.ylabel('Predicted')\n",
    "plt.title('Accuracy (prediction error < {}) on Y<=250 bin: {}'.format(rounding, accuracy_bin1))\n",
    "plot_error_frequency(y_pred_mlp_bin_1, Y_bin_1_test, 'MLP', rounding)\n",
    "\n",
    "plt.plot(np.floor(Y_bin_2_test//rounding_graph) * rounding_graph, np.floor(y_pred_mlp_bin_2//rounding_graph) * rounding_graph, 'o')\n",
    "accuracy_bin2 = calculate_accuracy(Y_bin_2_test, y_pred_mlp_bin_2, rounding)\n",
    "\n",
    "plt.xlabel('Actual')\n",
    "plt.ylabel('Predicted')\n",
    "plt.title('Accuracy (prediction error < {}) on Y>250 bin: {}'.format(rounding, accuracy_bin2))\n",
    "plot_error_frequency(y_pred_mlp_bin_2, Y_bin_2_test, 'MLP', rounding)"
   ]
  }
 ],
 "metadata": {
  "kernelspec": {
   "display_name": "Python 3",
   "language": "python",
   "name": "python3"
  },
  "language_info": {
   "codemirror_mode": {
    "name": "ipython",
    "version": 3
   },
   "file_extension": ".py",
   "mimetype": "text/x-python",
   "name": "python",
   "nbconvert_exporter": "python",
   "pygments_lexer": "ipython3",
   "version": "3.10.13"
  },
  "orig_nbformat": 4
 },
 "nbformat": 4,
 "nbformat_minor": 2
}
