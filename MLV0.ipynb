{
 "cells": [
  {
   "cell_type": "markdown",
   "metadata": {},
   "source": [
    "### Objectives\n",
    "\n",
    "First, create a graph representation of the information we have. \n",
    "This would be information about the elements, and the nodes. \n",
    "Using this, we will feed it into our SVM, or a Random Forest, and see from there onwards"
   ]
  },
  {
   "cell_type": "code",
   "execution_count": 22,
   "metadata": {},
   "outputs": [],
   "source": [
    "import pandas as pd\n",
    "import numpy as np\n",
    "from sklearn.model_selection import train_test_split\n",
    "from sklearn.svm import SVC\n",
    "from sklearn.metrics import accuracy_score, classification_report\n",
    "from sklearn.decomposition import PCA\n",
    "import matplotlib.pyplot as plt\n",
    "from sklearn.preprocessing import StandardScaler\n",
    "\n",
    "import re\n",
    "\n",
    "import torch\n",
    "import torch.nn as nn\n",
    "import numpy as np\n",
    "import ast\n",
    "import io\n",
    "\n",
    "import plotly.graph_objs as go\n",
    "\n",
    "# Set up torch to use CUDA or MPS if either are available\n",
    "device = torch.device('cuda:0')  if torch.cuda.is_available() else torch.device('mps:0') if torch.backends.mps.is_available() else torch.device('cpu')\n",
    "torch.set_default_device(device)\n",
    "\n",
    "USE_NEW_FEATURES = True\n",
    "USE_ONLY_3D_CNN_FEATURES = True\n",
    "TRAIN_SVM = False\n",
    "TRAIN_RF = False\n",
    "\n",
    "MLP_MODEL_PATH = './mlp_regressor.pth'\n",
    "LOAD_MLP_MODEL = False\n",
    "SAVE_MLP_MODEL = False"
   ]
  },
  {
   "cell_type": "code",
   "execution_count": 23,
   "metadata": {},
   "outputs": [],
   "source": [
    "# n = pd.read_csv('./full_node_Table_.csv')\n",
    "df = pd.read_csv('./full_Table_.csv')"
   ]
  },
  {
   "cell_type": "code",
   "execution_count": 24,
   "metadata": {},
   "outputs": [],
   "source": [
    "if(not USE_NEW_FEATURES):\n",
    "    cc_df = df.sample(n=1000, random_state=42)\n",
    "    # cc_df = df\n",
    "\n",
    "    # cc_df['cc_pixel_intensity_488'] = cc_df['cc_pixel_intensity_488'].astype(int)\n",
    "    cc_df['element_pixel_intensity_488'] = cc_df['element_pixel_intensity_488'].replace(0, 0.001)\n",
    "\n",
    "    X = cc_df.drop(['cc_pixel_intensity_488', 'cc_pixel_intensity_405', 'cc_x', 'folder_name_x', 'degree_distribution', 'folder_name_x.1', 'folder_name_y', 'x_y', 'y_y', 'z_y', 'node', 'degree', 'cc_y', 'vol_cc', 'avg_PK_Of_element', 'element_connectivity', 'cc_average_connectivity', 'pixel_intensity_488',\n",
    "    'pixel_intensity_405',\n",
    "    'pixel_intensity_ratio',\n",
    "    # 'pixel_intensity_555',\n",
    "    'element_pixel_intensity_488',\n",
    "    'element_pixel_intensity_405',\n",
    "    'element_pixel_intensity_ratio'], axis=1)  # Adjust 'target_column' to your actual target column name\n",
    "    # Print rows that have NaN in any column, and print that column name\n",
    "    pd.set_option('display.max_rows', 5000)\n",
    "    pd.set_option('display.max_columns', 500)\n",
    "    pd.set_option('display.width', 150)\n",
    "\n",
    "    # For any rows that contain a NaN in X, drop it in X and drop the corresponding row in Y.\n",
    "    # This is done by getting the row index where X is NaN and dropping the same index in both X and Y\n",
    "    nan_rows = X.isna().any(axis=1)\n",
    "    X = X.dropna()\n",
    "\n",
    "    # replace element_pixel_intensity_488 0 values with 0.001\n",
    "\n",
    "    cc_df['cc_pixel_intensity_405_488_ratio'] = (np.array(cc_df['cc_pixel_intensity_405']) / np.array(cc_df['cc_pixel_intensity_488']))*1000\n",
    "    cc_df.fillna(0, inplace=True)\n",
    "    cc_df['cc_pixel_intensity_405_488_ratio'] = cc_df['cc_pixel_intensity_405_488_ratio'].astype(int)\n",
    "\n",
    "\n",
    "    y = cc_df['cc_pixel_intensity_405_488_ratio']\n",
    "    y = y[~nan_rows]\n",
    "\n",
    "    X_train, X_test, y_train, y_test = train_test_split(X, y, test_size=0.2, random_state=42)\n",
    "\n",
    "    y_train = y_train.to_numpy()\n",
    "\n",
    "    # for x in X_train.columns:\n",
    "    #     print(x)\n",
    "\n",
    "    # y_test=y_test.to_numpy()\n",
    "    # print(y)"
   ]
  },
  {
   "cell_type": "code",
   "execution_count": 25,
   "metadata": {},
   "outputs": [],
   "source": [
    "def get_pca_transformation_and_scaled_dataset(dataset, x_principal_components):\n",
    "    # Standardizing the features\n",
    "    standardized_data = StandardScaler().fit_transform(dataset)\n",
    "\n",
    "    # Perform PCA\n",
    "    pca = PCA(n_components=x_principal_components)\n",
    "    principal_components = pca.fit_transform(standardized_data)\n",
    "\n",
    "    # Create a DataFrame with the principal components\n",
    "    columns = [f'PC{i+1}' for i in range(x_principal_components)]\n",
    "    principal_df = pd.DataFrame(data=principal_components, columns=columns)\n",
    "    \n",
    "    # Explained variance for each PC\n",
    "    explained_var = pca.explained_variance_ratio_\n",
    "\n",
    "    # Plot for explained variance of each PC\n",
    "    fig1 = go.Figure(data=go.Bar(x=columns, y=explained_var, marker_color='darkred'))\n",
    "    fig1.update_layout(title='Explained Variance by Each Principal Component',\n",
    "                       xaxis_title='Principal Components',\n",
    "                       yaxis_title='Explained Variance Ratio')\n",
    "    fig1.show()\n",
    "\n",
    "    # Plot for cumulative explained variance\n",
    "    cumulative_var = explained_var.cumsum()\n",
    "    fig2 = go.Figure(data=go.Scatter(x=columns, y=cumulative_var, marker_color='darkred'))\n",
    "    fig2.update_layout(title='Cumulative Explained Variance by Principal Components',\n",
    "                       xaxis_title='Principal Components',\n",
    "                       yaxis_title='Cumulative Explained Variance Ratio')\n",
    "    fig2.show()\n",
    "\n",
    "    total_explained_variance = cumulative_var[-1]\n",
    "    print(f\"Total explained variance by the first {x_principal_components} principal components: {total_explained_variance:.2f}\")\n",
    "\n",
    "    return principal_df, pca\n"
   ]
  },
  {
   "cell_type": "code",
   "execution_count": 26,
   "metadata": {},
   "outputs": [],
   "source": [
    "def feature_contribution_to_variance(pca, explained_var, feature_names, drop_angle_edge_contributions=True):\n",
    "    # Transpose pca.components_ to align with explained_var for dot product\n",
    "    feature_contributions = pca.components_.T ** 2\n",
    "    total_feature_contributions = np.dot(feature_contributions, explained_var)\n",
    "\n",
    "    if len(feature_names) != len(total_feature_contributions):\n",
    "        raise ValueError(\"The number of features does not match the length of the contributions array.\")\n",
    "\n",
    "    # Create a DataFrame for contributions\n",
    "    contributions_df = pd.DataFrame({\n",
    "        'Feature': feature_names,\n",
    "        'Contribution': total_feature_contributions * 100\n",
    "    })\n",
    "\n",
    "    # Drop 'Angle_X_X' or 'edge_X' contributions if flag is True\n",
    "    if drop_angle_edge_contributions:\n",
    "        # Regular expression for matching 'Angle_X_X' or 'edge_X'\n",
    "        regex_pattern = r\"^(Angle_\\d+_\\d+|edge_\\d+)$\"\n",
    "\n",
    "        # Filter out rows where 'Feature' matches the pattern\n",
    "        contributions_df = contributions_df[~contributions_df['Feature'].str.match(regex_pattern)]\n",
    "\n",
    "    # Sort by contribution in descending order\n",
    "    sorted_contributions = contributions_df.sort_values(by='Contribution', ascending=False)\n",
    "    return sorted_contributions\n"
   ]
  },
  {
   "cell_type": "code",
   "execution_count": 27,
   "metadata": {},
   "outputs": [],
   "source": [
    "def plot_feature_contributions(sorted_contributions):\n",
    "    fig = go.Figure(data=go.Bar(\n",
    "        x=sorted_contributions['Feature'],\n",
    "        y=sorted_contributions['Contribution'],\n",
    "        marker_color='darkblue'\n",
    "    ))\n",
    "    fig.update_layout(\n",
    "        title='Percentage Contribution of Each Feature to Total Variance',\n",
    "        xaxis_title='Features',\n",
    "        yaxis_title='Percentage Contribution'\n",
    "    )\n",
    "    fig.show()"
   ]
  },
  {
   "cell_type": "code",
   "execution_count": 28,
   "metadata": {},
   "outputs": [
    {
     "name": "stderr",
     "output_type": "stream",
     "text": [
      "/var/folders/_8/5153zj6d6w51qcltyf2wlg740000gn/T/ipykernel_77551/2030168835.py:84: PerformanceWarning:\n",
      "\n",
      "DataFrame is highly fragmented.  This is usually the result of calling `frame.insert` many times, which has poor performance.  Consider joining all columns at once using pd.concat(axis=1) instead. To get a de-fragmented frame, use `newframe = frame.copy()`\n",
      "\n",
      "/var/folders/_8/5153zj6d6w51qcltyf2wlg740000gn/T/ipykernel_77551/2030168835.py:88: PerformanceWarning:\n",
      "\n",
      "DataFrame is highly fragmented.  This is usually the result of calling `frame.insert` many times, which has poor performance.  Consider joining all columns at once using pd.concat(axis=1) instead. To get a de-fragmented frame, use `newframe = frame.copy()`\n",
      "\n"
     ]
    }
   ],
   "source": [
    "datafrac = 1\n",
    "# This cell reads the data from the CSV file and cleans it up\n",
    "\n",
    "if(USE_NEW_FEATURES):\n",
    "\n",
    "    # Set pandas options to display all columns and rows\n",
    "    pd.set_option('display.max_rows', None)\n",
    "    pd.set_option('display.max_columns', None)\n",
    "    pd.set_option('display.width', None)\n",
    "\n",
    "    csv_file_path = 'full_Table_All_Cells_With_Angles_And_Edges_CLEANED.csv'\n",
    "    buffer = io.StringIO()\n",
    "\n",
    "    # Open and process the CSV file, to strip entries so that numbers aren't read as strings by read_csv and column names have no leading/trailing whitespaces\n",
    "    with open(csv_file_path, 'r') as file:\n",
    "        for line in file:\n",
    "            cleaned_line = ','.join(cell.strip() for cell in line.split(','))\n",
    "            buffer.write(cleaned_line + '\\n')\n",
    "\n",
    "    # Move the buffer cursor to the start\n",
    "    buffer.seek(0)\n",
    "\n",
    "    # Read the cleaned data into pandas\n",
    "    data = pd.read_csv(buffer)\n",
    "    edge_columns = [col for col in data.columns if col.startswith('edge_') and col.split('_')[-1].isdigit()]\n",
    "    # Replace empty entries with 0 in these columns\n",
    "    data[edge_columns] = data[edge_columns].fillna(0)\n",
    "\n",
    "    # Not sure if these folder names are required for segregating the dataset, so for now dropping them\n",
    "    # data = data.drop(columns=['folder_name_x', 'folder_name_x.1', 'folder_name_y'])\n",
    "    data = data.drop(columns=['folder_name_x.1']) # 'folder_name_x' not dropping here, dropping in sample_data\n",
    "    \n",
    "    # Make each string in folder_name_y correspond to an integer instead\n",
    "    unique_strings = data['folder_name_y'].unique()\n",
    "    string_to_int_mapping = {string: i+1 for i, string in enumerate(unique_strings)}\n",
    "    \n",
    "    data['folder_name_y'] = data['folder_name_y'].replace(string_to_int_mapping)\n",
    "    \n",
    "    # For now, we aren't using the 555 channel either\n",
    "    data = data.drop(columns=['element_pixel_intensity_555'])\n",
    "\n",
    "    # These fields seem to be not implemented either:\n",
    "    data = data.drop(columns=[\"Unnamed: 0_x\", \"x\", \"y\" ,\"z\" ,\"node_x\" ,\"degree_x\" ,\"vol_cc_x\" ,\"avg_PK_Of_element_x\" ,\"element_connectivity_x\" ,\"Unnamed: 0_y\"])\n",
    "\n",
    "    # The next few lines of code are to convert the degree_distribution column to columns labelled node_degree_0, node_degree_1, etc. till node_degree_MAX\n",
    "    def str_to_dict(s):\n",
    "        try:\n",
    "            return ast.literal_eval(s)\n",
    "        except ValueError:\n",
    "            return {}\n",
    "    # Apply the function to the 'degree_distribution' column\n",
    "    data['degree_distribution'] = data['degree_distribution'].apply(str_to_dict)\n",
    "        \n",
    "    # Find the highest node degree in the DataFrame\n",
    "    max_degree = max(degree for row in data['degree_distribution'] for degree in row.keys())\n",
    "\n",
    "    # Create a DataFrame for new columns\n",
    "    new_columns = pd.DataFrame({f'node_degree_{i}': 0 for i in range(1, max_degree + 1)}, index=data.index)\n",
    "\n",
    "    # Concatenate with the original DataFrame\n",
    "    data = pd.concat([data, new_columns], axis=1)\n",
    "        \n",
    "    # Function to update the degree columns for a row\n",
    "    def update_degrees(row):\n",
    "        for degree, count in row['degree_distribution'].items():\n",
    "            row[f'node_degree_{degree}'] = count\n",
    "        return row\n",
    "\n",
    "    # Apply the function to each row\n",
    "    data = data.apply(update_degrees, axis=1)\n",
    "    data = data.drop(columns=['degree_distribution'])\n",
    "    # Now we should have columns labelled node_degree_0, node_degree_1, etc. till node_degree_MAX and dropped the degree_distribution column\n",
    "\n",
    "    data['cc_average_connectivity'] = data['cc_average_connectivity'].replace([np.inf, -np.inf], 0)\n",
    "\n",
    "    # Drop rows that have NaN values in columns 'clustering coefficient', 'pixel_intensity_ratio', 'vol_cc_y', 'x_y', 'y_y', 'z_y'\n",
    "    # data = data.dropna(subset=['clustering coefficient', 'pixel_intensity_ratio', 'vol_cc_y', 'x_y', 'y_y', 'z_y'])\n",
    "\n",
    "    # data['element_pixel_intensity_488'] = data['element_pixel_intensity_488'].replace(0, 0.001)\n",
    "    # drop 0 values of 488, those rows are just bad\n",
    "    data['cc_pixel_intensity_488'] = data['cc_pixel_intensity_488'].replace(0, np.nan)\n",
    "    data = data.dropna(subset=['cc_pixel_intensity_488'])\n",
    "    \n",
    "    data['cc_pixel_intensity_405_488_ratio'] = ((np.array(data['cc_pixel_intensity_405']) / np.array(data['cc_pixel_intensity_488']))*1000).copy()\n",
    "\n",
    "    # Add feature vectors from CNN obtained image vectors\n",
    "    feature_vectors_df = pd.read_csv('image_feature_vectors.csv')\n",
    "    data['image_name'] = data['folder_name_x'] + '_' + data['cc_x'].astype(str)\n",
    "    data = pd.merge(data, feature_vectors_df, left_on='image_name', right_on='Image Name', how='left')\n",
    "    data.drop('Image Name', axis=1, inplace=True)\n",
    "    data.drop('image_name', axis=1, inplace=True)\n",
    "    \n",
    "    if(USE_ONLY_3D_CNN_FEATURES):\n",
    "        angle_columns = data.filter(regex='^Angle_\\d+_\\d+$').columns\n",
    "        edge_columns = data.filter(regex='^edge_\\d+$').columns\n",
    "        columns_to_drop = angle_columns.union(edge_columns).union(['Angle_Flag'])\n",
    "        data.drop(columns=columns_to_drop, inplace=True)\n",
    "    \n",
    "    # Replace any remaining NaN's with 0\n",
    "    data.fillna(0, inplace=True)\n",
    "\n",
    "    # Train on small subset of data to see if it works first, if datafrac <1\n",
    "    sample_data = data.sample(frac=datafrac ,random_state=1049)\n",
    "    sample_data = sample_data.drop(columns=['folder_name_x'])\n",
    "    \n",
    "\n",
    "    # Split the data into training and testing sets\n",
    "    X = sample_data.drop(columns=['element_pixel_intensity_488'])\n",
    "    X = X.drop(['cc_pixel_intensity_488',\n",
    "                'cc_pixel_intensity_405',\n",
    "                'cc_x', 'x_y', 'y_y', 'z_y', 'cc_y',\n",
    "                'pixel_intensity_405',\n",
    "                'pixel_intensity_ratio',\n",
    "                # 'pixel_intensity_555',\n",
    "                'element_pixel_intensity_405',\n",
    "                'element_pixel_intensity_ratio',\n",
    "                'cc_average_connectivity',\n",
    "                # 'cc_pixel_intensity_555',\n",
    "                'cc_pixel_intensity_ratio', \n",
    "                'pixel_intensity',\n",
    "                'pixel_intensity_488'], axis=1)\n",
    "    \n",
    "    xlabels = X.columns\n",
    "    with open(\"training_feature_list_excl_angles_and_edges.txt\", \"w\") as file:\n",
    "        for thing in xlabels:\n",
    "            if \"Angle\" not in thing and \"edge\" not in thing:\n",
    "                file.write(thing + \"\\n\")\n",
    "    \n",
    "    columns_with_NaN = sample_data.columns.to_series()[sample_data.apply(lambda x: np.isnan(x).any())]\n",
    "    if(len(columns_with_NaN) > 0):\n",
    "        print(columns_with_NaN.values)\n",
    "        raise Exception('Columns with NaN values found in dataset, can\\'t train model on it directly')\n",
    "    \n",
    "    non_numerical_columns = sample_data.select_dtypes(exclude=['int', 'float', 'double']).columns\n",
    "    # Print the non-numerical column names\n",
    "    if(len(non_numerical_columns) > 0):\n",
    "        print(non_numerical_columns)\n",
    "        raise Exception('Non-numerical columns found in dataset, can\\'t train model on it directly')\n",
    "    \n",
    "    # Print any columns with values like infinity\n",
    "    columns_with_infinity = sample_data.columns.to_series()[sample_data.apply(lambda x: np.isinf(x).any())]\n",
    "    if(len(columns_with_infinity) > 0):\n",
    "        print(columns_with_infinity)\n",
    "        raise Exception('Columns with infinity values found in dataset, can\\'t train model on it directly')"
   ]
  },
  {
   "cell_type": "code",
   "execution_count": 29,
   "metadata": {},
   "outputs": [
    {
     "name": "stdout",
     "output_type": "stream",
     "text": [
      "Data successfully written to ./imageNames_ratios.csv\n"
     ]
    }
   ],
   "source": [
    "# Adding a new column for file names in the DataFrame\n",
    "data['file_name'] = data.apply(lambda row: f\"{row['folder_name_x']}_{row['cc_x']}.tif\", axis=1)\n",
    "\n",
    "# Selecting only the required columns\n",
    "output_data = data[['file_name', 'cc_pixel_intensity_405_488_ratio']]\n",
    "\n",
    "# Writing the selected data to a CSV file\n",
    "output_data.to_csv(\"./imageNames_ratios.csv\", index=False)\n",
    "\n",
    "print(\"Data successfully written to ./imageNames_ratios.csv\")\n"
   ]
  },
  {
   "cell_type": "code",
   "execution_count": 30,
   "metadata": {},
   "outputs": [
    {
     "data": {
      "application/vnd.plotly.v1+json": {
       "config": {
        "plotlyServerURL": "https://plot.ly"
       },
       "data": [
        {
         "marker": {
          "color": "darkred"
         },
         "type": "bar",
         "x": [
          "PC1",
          "PC2",
          "PC3",
          "PC4",
          "PC5",
          "PC6",
          "PC7",
          "PC8",
          "PC9",
          "PC10",
          "PC11",
          "PC12",
          "PC13",
          "PC14",
          "PC15",
          "PC16",
          "PC17",
          "PC18",
          "PC19",
          "PC20",
          "PC21",
          "PC22",
          "PC23",
          "PC24",
          "PC25",
          "PC26",
          "PC27",
          "PC28",
          "PC29",
          "PC30",
          "PC31",
          "PC32",
          "PC33",
          "PC34",
          "PC35",
          "PC36",
          "PC37",
          "PC38",
          "PC39",
          "PC40",
          "PC41",
          "PC42",
          "PC43",
          "PC44",
          "PC45",
          "PC46",
          "PC47",
          "PC48",
          "PC49",
          "PC50",
          "PC51",
          "PC52",
          "PC53",
          "PC54",
          "PC55",
          "PC56",
          "PC57",
          "PC58",
          "PC59",
          "PC60",
          "PC61",
          "PC62",
          "PC63",
          "PC64",
          "PC65",
          "PC66",
          "PC67",
          "PC68",
          "PC69",
          "PC70",
          "PC71",
          "PC72",
          "PC73",
          "PC74",
          "PC75",
          "PC76",
          "PC77",
          "PC78",
          "PC79",
          "PC80",
          "PC81",
          "PC82",
          "PC83",
          "PC84",
          "PC85",
          "PC86",
          "PC87",
          "PC88",
          "PC89",
          "PC90",
          "PC91",
          "PC92",
          "PC93",
          "PC94",
          "PC95",
          "PC96",
          "PC97",
          "PC98",
          "PC99",
          "PC100",
          "PC101",
          "PC102",
          "PC103",
          "PC104",
          "PC105",
          "PC106",
          "PC107",
          "PC108",
          "PC109",
          "PC110",
          "PC111",
          "PC112",
          "PC113",
          "PC114",
          "PC115",
          "PC116",
          "PC117",
          "PC118",
          "PC119",
          "PC120",
          "PC121",
          "PC122",
          "PC123",
          "PC124",
          "PC125",
          "PC126",
          "PC127",
          "PC128",
          "PC129",
          "PC130",
          "PC131",
          "PC132",
          "PC133",
          "PC134",
          "PC135",
          "PC136",
          "PC137",
          "PC138",
          "PC139",
          "PC140",
          "PC141",
          "PC142",
          "PC143",
          "PC144",
          "PC145",
          "PC146",
          "PC147",
          "PC148",
          "PC149",
          "PC150",
          "PC151",
          "PC152",
          "PC153",
          "PC154",
          "PC155",
          "PC156",
          "PC157",
          "PC158",
          "PC159",
          "PC160",
          "PC161",
          "PC162",
          "PC163",
          "PC164",
          "PC165",
          "PC166",
          "PC167",
          "PC168",
          "PC169",
          "PC170",
          "PC171",
          "PC172",
          "PC173",
          "PC174",
          "PC175",
          "PC176",
          "PC177",
          "PC178",
          "PC179",
          "PC180",
          "PC181",
          "PC182",
          "PC183",
          "PC184"
         ],
         "y": [
          0.6500679564265857,
          0.09898913251125037,
          0.030154524005957275,
          0.027854196976283673,
          0.02248229197959095,
          0.018374588995876687,
          0.017459732476697607,
          0.015474255172332618,
          0.012175118534459168,
          0.008395786492410033,
          0.007078475796761624,
          0.006650167365448172,
          0.0064814710585396115,
          0.005669574742026689,
          0.005599211931099469,
          0.005392179374132145,
          0.005229285415653153,
          0.0049634693853297576,
          0.004721729580551548,
          0.004656333666712392,
          0.004413438192795748,
          0.00409710328592453,
          0.0037446315969315077,
          0.0035377614979605794,
          0.003361720631302341,
          0.0029254218563399418,
          0.002711484720367826,
          0.002572638612906521,
          0.0020781266898252824,
          0.0017342140746245034,
          0.0016819560462991736,
          0.0016291742903683274,
          0.0014603405573328447,
          0.0013914925223258046,
          0.0009201419523879467,
          0.0007081076107690825,
          0.000608924923438435,
          0.0005840121437179133,
          0.000524090757235812,
          0.00034448976430992244,
          0.00028272644380170905,
          0.000208369627009603,
          0.00010024109547509524,
          0.00008435030580702459,
          0.00007741235917898405,
          0.00006828964318781304,
          0.00006119676555012976,
          0.00003894669496795503,
          0.00003570325439265062,
          0.00002864424731145068,
          0.000024190763513943185,
          0.000016713444016116654,
          0.000014603588107325751,
          0.000012067526663238697,
          0.000010173859220897055,
          0.000008697644040640744,
          0.000005426685651109159,
          0.000005077516798432793,
          0.000003834731707399003,
          0.0000028061163595749082,
          0.000002665169873228566,
          0.0000020255243677550967,
          0.000001178329861609384,
          0.000001116343176161372,
          8.101692159710022e-7,
          7.27639788520629e-7,
          6.198545274154587e-7,
          5.325126592248138e-7,
          2.8379833814423896e-7,
          2.6276161008347305e-7,
          2.3451442672588756e-7,
          2.127108834554941e-7,
          1.48480082970118e-7,
          1.363110460569698e-7,
          1.2056839657766718e-7,
          8.6137839003189e-8,
          8.154272304690492e-8,
          7.272573724484742e-8,
          5.916769212635701e-8,
          4.5530139796362456e-8,
          3.919049518575702e-8,
          3.225353575167622e-8,
          2.8211280532944667e-8,
          2.6710862997226198e-8,
          2.4749718496398943e-8,
          2.3695428055510707e-8,
          2.024848756522494e-8,
          1.7608020277077743e-8,
          1.4575060199853358e-8,
          1.3002508029358254e-8,
          1.1575834245588637e-8,
          1.02988992341509e-8,
          8.513013148700355e-9,
          7.310712756460264e-9,
          6.396869851795734e-9,
          5.366054865450036e-9,
          5.171299260490421e-9,
          5.1088479881935584e-9,
          4.441728297988812e-9,
          4.024332735922891e-9,
          3.690944334867956e-9,
          3.491533969585802e-9,
          3.224554161111804e-9,
          3.1179868435896693e-9,
          3.0991063251588155e-9,
          2.5424067039502836e-9,
          2.210540549571596e-9,
          1.9526842367023276e-9,
          1.91015738420613e-9,
          1.654528377722646e-9,
          1.3645129526514151e-9,
          1.331350622432789e-9,
          1.2766358422588484e-9,
          1.2248206753225336e-9,
          1.0318888416817058e-9,
          9.71451371376749e-10,
          9.054665142696133e-10,
          7.935023658797926e-10,
          7.597969552482438e-10,
          7.109108815070195e-10,
          6.143926243497614e-10,
          5.950734027654557e-10,
          5.392722262614262e-10,
          5.330159840086366e-10,
          4.532922013846745e-10,
          4.242631541660429e-10,
          3.960938948904713e-10,
          3.7994161224123524e-10,
          3.5391411916708136e-10,
          3.327678821742697e-10,
          2.99548442780054e-10,
          2.850409924755242e-10,
          2.6441565481879987e-10,
          2.4275037762501986e-10,
          2.2402118232686855e-10,
          2.1611913097348526e-10,
          1.9325919698702304e-10,
          1.711896508319131e-10,
          1.5975477990126685e-10,
          1.5338322310931727e-10,
          1.3798904497469064e-10,
          1.2712031494584896e-10,
          1.1700764486008764e-10,
          1.024987925302823e-10,
          9.895733580384818e-11,
          9.073290836054142e-11,
          8.576625619925579e-11,
          8.15782584813857e-11,
          7.550837456537257e-11,
          6.913006738968492e-11,
          6.44416430105433e-11,
          5.99520306146479e-11,
          5.4016111375877205e-11,
          4.995414787251339e-11,
          4.649344457863261e-11,
          4.435465328456991e-11,
          3.75271805982743e-11,
          3.682587323737219e-11,
          3.368531377283372e-11,
          3.030392238646068e-11,
          2.951023592622296e-11,
          2.7304544538191183e-11,
          2.5207481468706306e-11,
          2.023429878066262e-11,
          1.9560694391450748e-11,
          1.6913584325587815e-11,
          1.630459970179479e-11,
          1.5090192371320906e-11,
          1.4014156040824089e-11,
          1.3609098888419073e-11,
          1.1870030700301071e-11,
          1.1057038160987915e-11,
          9.919603222558993e-12,
          9.201763983465965e-12,
          7.955406009892785e-12,
          6.390732279351398e-12,
          6.270463932956046e-12,
          5.591386560979858e-12,
          4.9172821931370164e-12,
          4.800890265825215e-12,
          3.842257183238438e-12,
          2.8324084613420154e-12,
          2.594701567324985e-12,
          1.875918254814357e-12
         ]
        }
       ],
       "layout": {
        "template": {
         "data": {
          "bar": [
           {
            "error_x": {
             "color": "#2a3f5f"
            },
            "error_y": {
             "color": "#2a3f5f"
            },
            "marker": {
             "line": {
              "color": "#E5ECF6",
              "width": 0.5
             },
             "pattern": {
              "fillmode": "overlay",
              "size": 10,
              "solidity": 0.2
             }
            },
            "type": "bar"
           }
          ],
          "barpolar": [
           {
            "marker": {
             "line": {
              "color": "#E5ECF6",
              "width": 0.5
             },
             "pattern": {
              "fillmode": "overlay",
              "size": 10,
              "solidity": 0.2
             }
            },
            "type": "barpolar"
           }
          ],
          "carpet": [
           {
            "aaxis": {
             "endlinecolor": "#2a3f5f",
             "gridcolor": "white",
             "linecolor": "white",
             "minorgridcolor": "white",
             "startlinecolor": "#2a3f5f"
            },
            "baxis": {
             "endlinecolor": "#2a3f5f",
             "gridcolor": "white",
             "linecolor": "white",
             "minorgridcolor": "white",
             "startlinecolor": "#2a3f5f"
            },
            "type": "carpet"
           }
          ],
          "choropleth": [
           {
            "colorbar": {
             "outlinewidth": 0,
             "ticks": ""
            },
            "type": "choropleth"
           }
          ],
          "contour": [
           {
            "colorbar": {
             "outlinewidth": 0,
             "ticks": ""
            },
            "colorscale": [
             [
              0,
              "#0d0887"
             ],
             [
              0.1111111111111111,
              "#46039f"
             ],
             [
              0.2222222222222222,
              "#7201a8"
             ],
             [
              0.3333333333333333,
              "#9c179e"
             ],
             [
              0.4444444444444444,
              "#bd3786"
             ],
             [
              0.5555555555555556,
              "#d8576b"
             ],
             [
              0.6666666666666666,
              "#ed7953"
             ],
             [
              0.7777777777777778,
              "#fb9f3a"
             ],
             [
              0.8888888888888888,
              "#fdca26"
             ],
             [
              1,
              "#f0f921"
             ]
            ],
            "type": "contour"
           }
          ],
          "contourcarpet": [
           {
            "colorbar": {
             "outlinewidth": 0,
             "ticks": ""
            },
            "type": "contourcarpet"
           }
          ],
          "heatmap": [
           {
            "colorbar": {
             "outlinewidth": 0,
             "ticks": ""
            },
            "colorscale": [
             [
              0,
              "#0d0887"
             ],
             [
              0.1111111111111111,
              "#46039f"
             ],
             [
              0.2222222222222222,
              "#7201a8"
             ],
             [
              0.3333333333333333,
              "#9c179e"
             ],
             [
              0.4444444444444444,
              "#bd3786"
             ],
             [
              0.5555555555555556,
              "#d8576b"
             ],
             [
              0.6666666666666666,
              "#ed7953"
             ],
             [
              0.7777777777777778,
              "#fb9f3a"
             ],
             [
              0.8888888888888888,
              "#fdca26"
             ],
             [
              1,
              "#f0f921"
             ]
            ],
            "type": "heatmap"
           }
          ],
          "heatmapgl": [
           {
            "colorbar": {
             "outlinewidth": 0,
             "ticks": ""
            },
            "colorscale": [
             [
              0,
              "#0d0887"
             ],
             [
              0.1111111111111111,
              "#46039f"
             ],
             [
              0.2222222222222222,
              "#7201a8"
             ],
             [
              0.3333333333333333,
              "#9c179e"
             ],
             [
              0.4444444444444444,
              "#bd3786"
             ],
             [
              0.5555555555555556,
              "#d8576b"
             ],
             [
              0.6666666666666666,
              "#ed7953"
             ],
             [
              0.7777777777777778,
              "#fb9f3a"
             ],
             [
              0.8888888888888888,
              "#fdca26"
             ],
             [
              1,
              "#f0f921"
             ]
            ],
            "type": "heatmapgl"
           }
          ],
          "histogram": [
           {
            "marker": {
             "pattern": {
              "fillmode": "overlay",
              "size": 10,
              "solidity": 0.2
             }
            },
            "type": "histogram"
           }
          ],
          "histogram2d": [
           {
            "colorbar": {
             "outlinewidth": 0,
             "ticks": ""
            },
            "colorscale": [
             [
              0,
              "#0d0887"
             ],
             [
              0.1111111111111111,
              "#46039f"
             ],
             [
              0.2222222222222222,
              "#7201a8"
             ],
             [
              0.3333333333333333,
              "#9c179e"
             ],
             [
              0.4444444444444444,
              "#bd3786"
             ],
             [
              0.5555555555555556,
              "#d8576b"
             ],
             [
              0.6666666666666666,
              "#ed7953"
             ],
             [
              0.7777777777777778,
              "#fb9f3a"
             ],
             [
              0.8888888888888888,
              "#fdca26"
             ],
             [
              1,
              "#f0f921"
             ]
            ],
            "type": "histogram2d"
           }
          ],
          "histogram2dcontour": [
           {
            "colorbar": {
             "outlinewidth": 0,
             "ticks": ""
            },
            "colorscale": [
             [
              0,
              "#0d0887"
             ],
             [
              0.1111111111111111,
              "#46039f"
             ],
             [
              0.2222222222222222,
              "#7201a8"
             ],
             [
              0.3333333333333333,
              "#9c179e"
             ],
             [
              0.4444444444444444,
              "#bd3786"
             ],
             [
              0.5555555555555556,
              "#d8576b"
             ],
             [
              0.6666666666666666,
              "#ed7953"
             ],
             [
              0.7777777777777778,
              "#fb9f3a"
             ],
             [
              0.8888888888888888,
              "#fdca26"
             ],
             [
              1,
              "#f0f921"
             ]
            ],
            "type": "histogram2dcontour"
           }
          ],
          "mesh3d": [
           {
            "colorbar": {
             "outlinewidth": 0,
             "ticks": ""
            },
            "type": "mesh3d"
           }
          ],
          "parcoords": [
           {
            "line": {
             "colorbar": {
              "outlinewidth": 0,
              "ticks": ""
             }
            },
            "type": "parcoords"
           }
          ],
          "pie": [
           {
            "automargin": true,
            "type": "pie"
           }
          ],
          "scatter": [
           {
            "fillpattern": {
             "fillmode": "overlay",
             "size": 10,
             "solidity": 0.2
            },
            "type": "scatter"
           }
          ],
          "scatter3d": [
           {
            "line": {
             "colorbar": {
              "outlinewidth": 0,
              "ticks": ""
             }
            },
            "marker": {
             "colorbar": {
              "outlinewidth": 0,
              "ticks": ""
             }
            },
            "type": "scatter3d"
           }
          ],
          "scattercarpet": [
           {
            "marker": {
             "colorbar": {
              "outlinewidth": 0,
              "ticks": ""
             }
            },
            "type": "scattercarpet"
           }
          ],
          "scattergeo": [
           {
            "marker": {
             "colorbar": {
              "outlinewidth": 0,
              "ticks": ""
             }
            },
            "type": "scattergeo"
           }
          ],
          "scattergl": [
           {
            "marker": {
             "colorbar": {
              "outlinewidth": 0,
              "ticks": ""
             }
            },
            "type": "scattergl"
           }
          ],
          "scattermapbox": [
           {
            "marker": {
             "colorbar": {
              "outlinewidth": 0,
              "ticks": ""
             }
            },
            "type": "scattermapbox"
           }
          ],
          "scatterpolar": [
           {
            "marker": {
             "colorbar": {
              "outlinewidth": 0,
              "ticks": ""
             }
            },
            "type": "scatterpolar"
           }
          ],
          "scatterpolargl": [
           {
            "marker": {
             "colorbar": {
              "outlinewidth": 0,
              "ticks": ""
             }
            },
            "type": "scatterpolargl"
           }
          ],
          "scatterternary": [
           {
            "marker": {
             "colorbar": {
              "outlinewidth": 0,
              "ticks": ""
             }
            },
            "type": "scatterternary"
           }
          ],
          "surface": [
           {
            "colorbar": {
             "outlinewidth": 0,
             "ticks": ""
            },
            "colorscale": [
             [
              0,
              "#0d0887"
             ],
             [
              0.1111111111111111,
              "#46039f"
             ],
             [
              0.2222222222222222,
              "#7201a8"
             ],
             [
              0.3333333333333333,
              "#9c179e"
             ],
             [
              0.4444444444444444,
              "#bd3786"
             ],
             [
              0.5555555555555556,
              "#d8576b"
             ],
             [
              0.6666666666666666,
              "#ed7953"
             ],
             [
              0.7777777777777778,
              "#fb9f3a"
             ],
             [
              0.8888888888888888,
              "#fdca26"
             ],
             [
              1,
              "#f0f921"
             ]
            ],
            "type": "surface"
           }
          ],
          "table": [
           {
            "cells": {
             "fill": {
              "color": "#EBF0F8"
             },
             "line": {
              "color": "white"
             }
            },
            "header": {
             "fill": {
              "color": "#C8D4E3"
             },
             "line": {
              "color": "white"
             }
            },
            "type": "table"
           }
          ]
         },
         "layout": {
          "annotationdefaults": {
           "arrowcolor": "#2a3f5f",
           "arrowhead": 0,
           "arrowwidth": 1
          },
          "autotypenumbers": "strict",
          "coloraxis": {
           "colorbar": {
            "outlinewidth": 0,
            "ticks": ""
           }
          },
          "colorscale": {
           "diverging": [
            [
             0,
             "#8e0152"
            ],
            [
             0.1,
             "#c51b7d"
            ],
            [
             0.2,
             "#de77ae"
            ],
            [
             0.3,
             "#f1b6da"
            ],
            [
             0.4,
             "#fde0ef"
            ],
            [
             0.5,
             "#f7f7f7"
            ],
            [
             0.6,
             "#e6f5d0"
            ],
            [
             0.7,
             "#b8e186"
            ],
            [
             0.8,
             "#7fbc41"
            ],
            [
             0.9,
             "#4d9221"
            ],
            [
             1,
             "#276419"
            ]
           ],
           "sequential": [
            [
             0,
             "#0d0887"
            ],
            [
             0.1111111111111111,
             "#46039f"
            ],
            [
             0.2222222222222222,
             "#7201a8"
            ],
            [
             0.3333333333333333,
             "#9c179e"
            ],
            [
             0.4444444444444444,
             "#bd3786"
            ],
            [
             0.5555555555555556,
             "#d8576b"
            ],
            [
             0.6666666666666666,
             "#ed7953"
            ],
            [
             0.7777777777777778,
             "#fb9f3a"
            ],
            [
             0.8888888888888888,
             "#fdca26"
            ],
            [
             1,
             "#f0f921"
            ]
           ],
           "sequentialminus": [
            [
             0,
             "#0d0887"
            ],
            [
             0.1111111111111111,
             "#46039f"
            ],
            [
             0.2222222222222222,
             "#7201a8"
            ],
            [
             0.3333333333333333,
             "#9c179e"
            ],
            [
             0.4444444444444444,
             "#bd3786"
            ],
            [
             0.5555555555555556,
             "#d8576b"
            ],
            [
             0.6666666666666666,
             "#ed7953"
            ],
            [
             0.7777777777777778,
             "#fb9f3a"
            ],
            [
             0.8888888888888888,
             "#fdca26"
            ],
            [
             1,
             "#f0f921"
            ]
           ]
          },
          "colorway": [
           "#636efa",
           "#EF553B",
           "#00cc96",
           "#ab63fa",
           "#FFA15A",
           "#19d3f3",
           "#FF6692",
           "#B6E880",
           "#FF97FF",
           "#FECB52"
          ],
          "font": {
           "color": "#2a3f5f"
          },
          "geo": {
           "bgcolor": "white",
           "lakecolor": "white",
           "landcolor": "#E5ECF6",
           "showlakes": true,
           "showland": true,
           "subunitcolor": "white"
          },
          "hoverlabel": {
           "align": "left"
          },
          "hovermode": "closest",
          "mapbox": {
           "style": "light"
          },
          "paper_bgcolor": "white",
          "plot_bgcolor": "#E5ECF6",
          "polar": {
           "angularaxis": {
            "gridcolor": "white",
            "linecolor": "white",
            "ticks": ""
           },
           "bgcolor": "#E5ECF6",
           "radialaxis": {
            "gridcolor": "white",
            "linecolor": "white",
            "ticks": ""
           }
          },
          "scene": {
           "xaxis": {
            "backgroundcolor": "#E5ECF6",
            "gridcolor": "white",
            "gridwidth": 2,
            "linecolor": "white",
            "showbackground": true,
            "ticks": "",
            "zerolinecolor": "white"
           },
           "yaxis": {
            "backgroundcolor": "#E5ECF6",
            "gridcolor": "white",
            "gridwidth": 2,
            "linecolor": "white",
            "showbackground": true,
            "ticks": "",
            "zerolinecolor": "white"
           },
           "zaxis": {
            "backgroundcolor": "#E5ECF6",
            "gridcolor": "white",
            "gridwidth": 2,
            "linecolor": "white",
            "showbackground": true,
            "ticks": "",
            "zerolinecolor": "white"
           }
          },
          "shapedefaults": {
           "line": {
            "color": "#2a3f5f"
           }
          },
          "ternary": {
           "aaxis": {
            "gridcolor": "white",
            "linecolor": "white",
            "ticks": ""
           },
           "baxis": {
            "gridcolor": "white",
            "linecolor": "white",
            "ticks": ""
           },
           "bgcolor": "#E5ECF6",
           "caxis": {
            "gridcolor": "white",
            "linecolor": "white",
            "ticks": ""
           }
          },
          "title": {
           "x": 0.05
          },
          "xaxis": {
           "automargin": true,
           "gridcolor": "white",
           "linecolor": "white",
           "ticks": "",
           "title": {
            "standoff": 15
           },
           "zerolinecolor": "white",
           "zerolinewidth": 2
          },
          "yaxis": {
           "automargin": true,
           "gridcolor": "white",
           "linecolor": "white",
           "ticks": "",
           "title": {
            "standoff": 15
           },
           "zerolinecolor": "white",
           "zerolinewidth": 2
          }
         }
        },
        "title": {
         "text": "Explained Variance by Each Principal Component"
        },
        "xaxis": {
         "title": {
          "text": "Principal Components"
         }
        },
        "yaxis": {
         "title": {
          "text": "Explained Variance Ratio"
         }
        }
       }
      }
     },
     "metadata": {},
     "output_type": "display_data"
    },
    {
     "data": {
      "application/vnd.plotly.v1+json": {
       "config": {
        "plotlyServerURL": "https://plot.ly"
       },
       "data": [
        {
         "marker": {
          "color": "darkred"
         },
         "type": "scatter",
         "x": [
          "PC1",
          "PC2",
          "PC3",
          "PC4",
          "PC5",
          "PC6",
          "PC7",
          "PC8",
          "PC9",
          "PC10",
          "PC11",
          "PC12",
          "PC13",
          "PC14",
          "PC15",
          "PC16",
          "PC17",
          "PC18",
          "PC19",
          "PC20",
          "PC21",
          "PC22",
          "PC23",
          "PC24",
          "PC25",
          "PC26",
          "PC27",
          "PC28",
          "PC29",
          "PC30",
          "PC31",
          "PC32",
          "PC33",
          "PC34",
          "PC35",
          "PC36",
          "PC37",
          "PC38",
          "PC39",
          "PC40",
          "PC41",
          "PC42",
          "PC43",
          "PC44",
          "PC45",
          "PC46",
          "PC47",
          "PC48",
          "PC49",
          "PC50",
          "PC51",
          "PC52",
          "PC53",
          "PC54",
          "PC55",
          "PC56",
          "PC57",
          "PC58",
          "PC59",
          "PC60",
          "PC61",
          "PC62",
          "PC63",
          "PC64",
          "PC65",
          "PC66",
          "PC67",
          "PC68",
          "PC69",
          "PC70",
          "PC71",
          "PC72",
          "PC73",
          "PC74",
          "PC75",
          "PC76",
          "PC77",
          "PC78",
          "PC79",
          "PC80",
          "PC81",
          "PC82",
          "PC83",
          "PC84",
          "PC85",
          "PC86",
          "PC87",
          "PC88",
          "PC89",
          "PC90",
          "PC91",
          "PC92",
          "PC93",
          "PC94",
          "PC95",
          "PC96",
          "PC97",
          "PC98",
          "PC99",
          "PC100",
          "PC101",
          "PC102",
          "PC103",
          "PC104",
          "PC105",
          "PC106",
          "PC107",
          "PC108",
          "PC109",
          "PC110",
          "PC111",
          "PC112",
          "PC113",
          "PC114",
          "PC115",
          "PC116",
          "PC117",
          "PC118",
          "PC119",
          "PC120",
          "PC121",
          "PC122",
          "PC123",
          "PC124",
          "PC125",
          "PC126",
          "PC127",
          "PC128",
          "PC129",
          "PC130",
          "PC131",
          "PC132",
          "PC133",
          "PC134",
          "PC135",
          "PC136",
          "PC137",
          "PC138",
          "PC139",
          "PC140",
          "PC141",
          "PC142",
          "PC143",
          "PC144",
          "PC145",
          "PC146",
          "PC147",
          "PC148",
          "PC149",
          "PC150",
          "PC151",
          "PC152",
          "PC153",
          "PC154",
          "PC155",
          "PC156",
          "PC157",
          "PC158",
          "PC159",
          "PC160",
          "PC161",
          "PC162",
          "PC163",
          "PC164",
          "PC165",
          "PC166",
          "PC167",
          "PC168",
          "PC169",
          "PC170",
          "PC171",
          "PC172",
          "PC173",
          "PC174",
          "PC175",
          "PC176",
          "PC177",
          "PC178",
          "PC179",
          "PC180",
          "PC181",
          "PC182",
          "PC183",
          "PC184"
         ],
         "y": [
          0.6500679564265857,
          0.7490570889378361,
          0.7792116129437934,
          0.807065809920077,
          0.829548101899668,
          0.8479226908955447,
          0.8653824233722424,
          0.880856678544575,
          0.8930317970790341,
          0.9014275835714441,
          0.9085060593682057,
          0.9151562267336539,
          0.9216376977921935,
          0.9273072725342202,
          0.9329064844653197,
          0.9382986638394518,
          0.943527949255105,
          0.9484914186404347,
          0.9532131482209862,
          0.9578694818876986,
          0.9622829200804943,
          0.9663800233664188,
          0.9701246549633503,
          0.9736624164613109,
          0.9770241370926133,
          0.9799495589489532,
          0.982661043669321,
          0.9852336822822276,
          0.987311808972053,
          0.9890460230466774,
          0.9907279790929766,
          0.992357153383345,
          0.9938174939406778,
          0.9952089864630036,
          0.9961291284153916,
          0.9968372360261607,
          0.9974461609495991,
          0.9980301730933171,
          0.9985542638505529,
          0.9988987536148628,
          0.9991814800586645,
          0.9993898496856741,
          0.9994900907811493,
          0.9995744410869563,
          0.9996518534461353,
          0.9997201430893231,
          0.9997813398548733,
          0.9998202865498412,
          0.9998559898042338,
          0.9998846340515453,
          0.9999088248150592,
          0.9999255382590753,
          0.9999401418471826,
          0.9999522093738459,
          0.9999623832330667,
          0.9999710808771074,
          0.9999765075627585,
          0.9999815850795569,
          0.9999854198112643,
          0.9999882259276239,
          0.9999908910974972,
          0.999992916621865,
          0.9999940949517265,
          0.9999952112949027,
          0.9999960214641186,
          0.9999967491039071,
          0.9999973689584345,
          0.9999979014710937,
          0.9999981852694318,
          0.999998448031042,
          0.9999986825454688,
          0.9999988952563522,
          0.9999990437364352,
          0.9999991800474812,
          0.9999993006158778,
          0.9999993867537168,
          0.9999994682964398,
          0.999999541022177,
          0.9999996001898691,
          0.9999996457200089,
          0.9999996849105041,
          0.9999997171640398,
          0.9999997453753203,
          0.9999997720861833,
          0.9999997968359018,
          0.9999998205313299,
          0.9999998407798174,
          0.9999998583878377,
          0.9999998729628978,
          0.9999998859654059,
          0.9999998975412402,
          0.9999999078401395,
          0.9999999163531527,
          0.9999999236638654,
          0.9999999300607352,
          0.99999993542679,
          0.9999999405980893,
          0.9999999457069373,
          0.9999999501486656,
          0.9999999541729984,
          0.9999999578639427,
          0.9999999613554766,
          0.9999999645800308,
          0.9999999676980177,
          0.999999970797124,
          0.9999999733395307,
          0.9999999755500713,
          0.9999999775027555,
          0.9999999794129129,
          0.9999999810674413,
          0.9999999824319542,
          0.9999999837633048,
          0.9999999850399406,
          0.9999999862647613,
          0.9999999872966501,
          0.9999999882681014,
          0.9999999891735679,
          0.9999999899670703,
          0.9999999907268673,
          0.9999999914377782,
          0.9999999920521708,
          0.9999999926472443,
          0.9999999931865164,
          0.9999999937195324,
          0.9999999941728246,
          0.9999999945970878,
          0.9999999949931817,
          0.9999999953731233,
          0.9999999957270375,
          0.9999999960598054,
          0.9999999963593539,
          0.9999999966443949,
          0.9999999969088105,
          0.9999999971515608,
          0.999999997375582,
          0.9999999975917011,
          0.9999999977849603,
          0.9999999979561499,
          0.9999999981159047,
          0.9999999982692879,
          0.9999999984072769,
          0.9999999985343972,
          0.9999999986514049,
          0.9999999987539037,
          0.999999998852861,
          0.9999999989435938,
          0.9999999990293601,
          0.9999999991109384,
          0.9999999991864468,
          0.9999999992555768,
          0.9999999993200185,
          0.9999999993799705,
          0.9999999994339867,
          0.9999999994839408,
          0.9999999995304343,
          0.9999999995747889,
          0.9999999996123161,
          0.999999999649142,
          0.9999999996828273,
          0.9999999997131311,
          0.9999999997426414,
          0.9999999997699459,
          0.9999999997951534,
          0.9999999998153877,
          0.9999999998349484,
          0.9999999998518619,
          0.9999999998681666,
          0.9999999998832567,
          0.9999999998972708,
          0.99999999991088,
          0.99999999992275,
          0.9999999999338071,
          0.9999999999437267,
          0.9999999999529284,
          0.9999999999608838,
          0.9999999999672746,
          0.999999999973545,
          0.9999999999791365,
          0.9999999999840538,
          0.9999999999888547,
          0.999999999992697,
          0.9999999999955294,
          0.9999999999981241,
          1
         ]
        }
       ],
       "layout": {
        "template": {
         "data": {
          "bar": [
           {
            "error_x": {
             "color": "#2a3f5f"
            },
            "error_y": {
             "color": "#2a3f5f"
            },
            "marker": {
             "line": {
              "color": "#E5ECF6",
              "width": 0.5
             },
             "pattern": {
              "fillmode": "overlay",
              "size": 10,
              "solidity": 0.2
             }
            },
            "type": "bar"
           }
          ],
          "barpolar": [
           {
            "marker": {
             "line": {
              "color": "#E5ECF6",
              "width": 0.5
             },
             "pattern": {
              "fillmode": "overlay",
              "size": 10,
              "solidity": 0.2
             }
            },
            "type": "barpolar"
           }
          ],
          "carpet": [
           {
            "aaxis": {
             "endlinecolor": "#2a3f5f",
             "gridcolor": "white",
             "linecolor": "white",
             "minorgridcolor": "white",
             "startlinecolor": "#2a3f5f"
            },
            "baxis": {
             "endlinecolor": "#2a3f5f",
             "gridcolor": "white",
             "linecolor": "white",
             "minorgridcolor": "white",
             "startlinecolor": "#2a3f5f"
            },
            "type": "carpet"
           }
          ],
          "choropleth": [
           {
            "colorbar": {
             "outlinewidth": 0,
             "ticks": ""
            },
            "type": "choropleth"
           }
          ],
          "contour": [
           {
            "colorbar": {
             "outlinewidth": 0,
             "ticks": ""
            },
            "colorscale": [
             [
              0,
              "#0d0887"
             ],
             [
              0.1111111111111111,
              "#46039f"
             ],
             [
              0.2222222222222222,
              "#7201a8"
             ],
             [
              0.3333333333333333,
              "#9c179e"
             ],
             [
              0.4444444444444444,
              "#bd3786"
             ],
             [
              0.5555555555555556,
              "#d8576b"
             ],
             [
              0.6666666666666666,
              "#ed7953"
             ],
             [
              0.7777777777777778,
              "#fb9f3a"
             ],
             [
              0.8888888888888888,
              "#fdca26"
             ],
             [
              1,
              "#f0f921"
             ]
            ],
            "type": "contour"
           }
          ],
          "contourcarpet": [
           {
            "colorbar": {
             "outlinewidth": 0,
             "ticks": ""
            },
            "type": "contourcarpet"
           }
          ],
          "heatmap": [
           {
            "colorbar": {
             "outlinewidth": 0,
             "ticks": ""
            },
            "colorscale": [
             [
              0,
              "#0d0887"
             ],
             [
              0.1111111111111111,
              "#46039f"
             ],
             [
              0.2222222222222222,
              "#7201a8"
             ],
             [
              0.3333333333333333,
              "#9c179e"
             ],
             [
              0.4444444444444444,
              "#bd3786"
             ],
             [
              0.5555555555555556,
              "#d8576b"
             ],
             [
              0.6666666666666666,
              "#ed7953"
             ],
             [
              0.7777777777777778,
              "#fb9f3a"
             ],
             [
              0.8888888888888888,
              "#fdca26"
             ],
             [
              1,
              "#f0f921"
             ]
            ],
            "type": "heatmap"
           }
          ],
          "heatmapgl": [
           {
            "colorbar": {
             "outlinewidth": 0,
             "ticks": ""
            },
            "colorscale": [
             [
              0,
              "#0d0887"
             ],
             [
              0.1111111111111111,
              "#46039f"
             ],
             [
              0.2222222222222222,
              "#7201a8"
             ],
             [
              0.3333333333333333,
              "#9c179e"
             ],
             [
              0.4444444444444444,
              "#bd3786"
             ],
             [
              0.5555555555555556,
              "#d8576b"
             ],
             [
              0.6666666666666666,
              "#ed7953"
             ],
             [
              0.7777777777777778,
              "#fb9f3a"
             ],
             [
              0.8888888888888888,
              "#fdca26"
             ],
             [
              1,
              "#f0f921"
             ]
            ],
            "type": "heatmapgl"
           }
          ],
          "histogram": [
           {
            "marker": {
             "pattern": {
              "fillmode": "overlay",
              "size": 10,
              "solidity": 0.2
             }
            },
            "type": "histogram"
           }
          ],
          "histogram2d": [
           {
            "colorbar": {
             "outlinewidth": 0,
             "ticks": ""
            },
            "colorscale": [
             [
              0,
              "#0d0887"
             ],
             [
              0.1111111111111111,
              "#46039f"
             ],
             [
              0.2222222222222222,
              "#7201a8"
             ],
             [
              0.3333333333333333,
              "#9c179e"
             ],
             [
              0.4444444444444444,
              "#bd3786"
             ],
             [
              0.5555555555555556,
              "#d8576b"
             ],
             [
              0.6666666666666666,
              "#ed7953"
             ],
             [
              0.7777777777777778,
              "#fb9f3a"
             ],
             [
              0.8888888888888888,
              "#fdca26"
             ],
             [
              1,
              "#f0f921"
             ]
            ],
            "type": "histogram2d"
           }
          ],
          "histogram2dcontour": [
           {
            "colorbar": {
             "outlinewidth": 0,
             "ticks": ""
            },
            "colorscale": [
             [
              0,
              "#0d0887"
             ],
             [
              0.1111111111111111,
              "#46039f"
             ],
             [
              0.2222222222222222,
              "#7201a8"
             ],
             [
              0.3333333333333333,
              "#9c179e"
             ],
             [
              0.4444444444444444,
              "#bd3786"
             ],
             [
              0.5555555555555556,
              "#d8576b"
             ],
             [
              0.6666666666666666,
              "#ed7953"
             ],
             [
              0.7777777777777778,
              "#fb9f3a"
             ],
             [
              0.8888888888888888,
              "#fdca26"
             ],
             [
              1,
              "#f0f921"
             ]
            ],
            "type": "histogram2dcontour"
           }
          ],
          "mesh3d": [
           {
            "colorbar": {
             "outlinewidth": 0,
             "ticks": ""
            },
            "type": "mesh3d"
           }
          ],
          "parcoords": [
           {
            "line": {
             "colorbar": {
              "outlinewidth": 0,
              "ticks": ""
             }
            },
            "type": "parcoords"
           }
          ],
          "pie": [
           {
            "automargin": true,
            "type": "pie"
           }
          ],
          "scatter": [
           {
            "fillpattern": {
             "fillmode": "overlay",
             "size": 10,
             "solidity": 0.2
            },
            "type": "scatter"
           }
          ],
          "scatter3d": [
           {
            "line": {
             "colorbar": {
              "outlinewidth": 0,
              "ticks": ""
             }
            },
            "marker": {
             "colorbar": {
              "outlinewidth": 0,
              "ticks": ""
             }
            },
            "type": "scatter3d"
           }
          ],
          "scattercarpet": [
           {
            "marker": {
             "colorbar": {
              "outlinewidth": 0,
              "ticks": ""
             }
            },
            "type": "scattercarpet"
           }
          ],
          "scattergeo": [
           {
            "marker": {
             "colorbar": {
              "outlinewidth": 0,
              "ticks": ""
             }
            },
            "type": "scattergeo"
           }
          ],
          "scattergl": [
           {
            "marker": {
             "colorbar": {
              "outlinewidth": 0,
              "ticks": ""
             }
            },
            "type": "scattergl"
           }
          ],
          "scattermapbox": [
           {
            "marker": {
             "colorbar": {
              "outlinewidth": 0,
              "ticks": ""
             }
            },
            "type": "scattermapbox"
           }
          ],
          "scatterpolar": [
           {
            "marker": {
             "colorbar": {
              "outlinewidth": 0,
              "ticks": ""
             }
            },
            "type": "scatterpolar"
           }
          ],
          "scatterpolargl": [
           {
            "marker": {
             "colorbar": {
              "outlinewidth": 0,
              "ticks": ""
             }
            },
            "type": "scatterpolargl"
           }
          ],
          "scatterternary": [
           {
            "marker": {
             "colorbar": {
              "outlinewidth": 0,
              "ticks": ""
             }
            },
            "type": "scatterternary"
           }
          ],
          "surface": [
           {
            "colorbar": {
             "outlinewidth": 0,
             "ticks": ""
            },
            "colorscale": [
             [
              0,
              "#0d0887"
             ],
             [
              0.1111111111111111,
              "#46039f"
             ],
             [
              0.2222222222222222,
              "#7201a8"
             ],
             [
              0.3333333333333333,
              "#9c179e"
             ],
             [
              0.4444444444444444,
              "#bd3786"
             ],
             [
              0.5555555555555556,
              "#d8576b"
             ],
             [
              0.6666666666666666,
              "#ed7953"
             ],
             [
              0.7777777777777778,
              "#fb9f3a"
             ],
             [
              0.8888888888888888,
              "#fdca26"
             ],
             [
              1,
              "#f0f921"
             ]
            ],
            "type": "surface"
           }
          ],
          "table": [
           {
            "cells": {
             "fill": {
              "color": "#EBF0F8"
             },
             "line": {
              "color": "white"
             }
            },
            "header": {
             "fill": {
              "color": "#C8D4E3"
             },
             "line": {
              "color": "white"
             }
            },
            "type": "table"
           }
          ]
         },
         "layout": {
          "annotationdefaults": {
           "arrowcolor": "#2a3f5f",
           "arrowhead": 0,
           "arrowwidth": 1
          },
          "autotypenumbers": "strict",
          "coloraxis": {
           "colorbar": {
            "outlinewidth": 0,
            "ticks": ""
           }
          },
          "colorscale": {
           "diverging": [
            [
             0,
             "#8e0152"
            ],
            [
             0.1,
             "#c51b7d"
            ],
            [
             0.2,
             "#de77ae"
            ],
            [
             0.3,
             "#f1b6da"
            ],
            [
             0.4,
             "#fde0ef"
            ],
            [
             0.5,
             "#f7f7f7"
            ],
            [
             0.6,
             "#e6f5d0"
            ],
            [
             0.7,
             "#b8e186"
            ],
            [
             0.8,
             "#7fbc41"
            ],
            [
             0.9,
             "#4d9221"
            ],
            [
             1,
             "#276419"
            ]
           ],
           "sequential": [
            [
             0,
             "#0d0887"
            ],
            [
             0.1111111111111111,
             "#46039f"
            ],
            [
             0.2222222222222222,
             "#7201a8"
            ],
            [
             0.3333333333333333,
             "#9c179e"
            ],
            [
             0.4444444444444444,
             "#bd3786"
            ],
            [
             0.5555555555555556,
             "#d8576b"
            ],
            [
             0.6666666666666666,
             "#ed7953"
            ],
            [
             0.7777777777777778,
             "#fb9f3a"
            ],
            [
             0.8888888888888888,
             "#fdca26"
            ],
            [
             1,
             "#f0f921"
            ]
           ],
           "sequentialminus": [
            [
             0,
             "#0d0887"
            ],
            [
             0.1111111111111111,
             "#46039f"
            ],
            [
             0.2222222222222222,
             "#7201a8"
            ],
            [
             0.3333333333333333,
             "#9c179e"
            ],
            [
             0.4444444444444444,
             "#bd3786"
            ],
            [
             0.5555555555555556,
             "#d8576b"
            ],
            [
             0.6666666666666666,
             "#ed7953"
            ],
            [
             0.7777777777777778,
             "#fb9f3a"
            ],
            [
             0.8888888888888888,
             "#fdca26"
            ],
            [
             1,
             "#f0f921"
            ]
           ]
          },
          "colorway": [
           "#636efa",
           "#EF553B",
           "#00cc96",
           "#ab63fa",
           "#FFA15A",
           "#19d3f3",
           "#FF6692",
           "#B6E880",
           "#FF97FF",
           "#FECB52"
          ],
          "font": {
           "color": "#2a3f5f"
          },
          "geo": {
           "bgcolor": "white",
           "lakecolor": "white",
           "landcolor": "#E5ECF6",
           "showlakes": true,
           "showland": true,
           "subunitcolor": "white"
          },
          "hoverlabel": {
           "align": "left"
          },
          "hovermode": "closest",
          "mapbox": {
           "style": "light"
          },
          "paper_bgcolor": "white",
          "plot_bgcolor": "#E5ECF6",
          "polar": {
           "angularaxis": {
            "gridcolor": "white",
            "linecolor": "white",
            "ticks": ""
           },
           "bgcolor": "#E5ECF6",
           "radialaxis": {
            "gridcolor": "white",
            "linecolor": "white",
            "ticks": ""
           }
          },
          "scene": {
           "xaxis": {
            "backgroundcolor": "#E5ECF6",
            "gridcolor": "white",
            "gridwidth": 2,
            "linecolor": "white",
            "showbackground": true,
            "ticks": "",
            "zerolinecolor": "white"
           },
           "yaxis": {
            "backgroundcolor": "#E5ECF6",
            "gridcolor": "white",
            "gridwidth": 2,
            "linecolor": "white",
            "showbackground": true,
            "ticks": "",
            "zerolinecolor": "white"
           },
           "zaxis": {
            "backgroundcolor": "#E5ECF6",
            "gridcolor": "white",
            "gridwidth": 2,
            "linecolor": "white",
            "showbackground": true,
            "ticks": "",
            "zerolinecolor": "white"
           }
          },
          "shapedefaults": {
           "line": {
            "color": "#2a3f5f"
           }
          },
          "ternary": {
           "aaxis": {
            "gridcolor": "white",
            "linecolor": "white",
            "ticks": ""
           },
           "baxis": {
            "gridcolor": "white",
            "linecolor": "white",
            "ticks": ""
           },
           "bgcolor": "#E5ECF6",
           "caxis": {
            "gridcolor": "white",
            "linecolor": "white",
            "ticks": ""
           }
          },
          "title": {
           "x": 0.05
          },
          "xaxis": {
           "automargin": true,
           "gridcolor": "white",
           "linecolor": "white",
           "ticks": "",
           "title": {
            "standoff": 15
           },
           "zerolinecolor": "white",
           "zerolinewidth": 2
          },
          "yaxis": {
           "automargin": true,
           "gridcolor": "white",
           "linecolor": "white",
           "ticks": "",
           "title": {
            "standoff": 15
           },
           "zerolinecolor": "white",
           "zerolinewidth": 2
          }
         }
        },
        "title": {
         "text": "Cumulative Explained Variance by Principal Components"
        },
        "xaxis": {
         "title": {
          "text": "Principal Components"
         }
        },
        "yaxis": {
         "title": {
          "text": "Cumulative Explained Variance Ratio"
         }
        }
       }
      }
     },
     "metadata": {},
     "output_type": "display_data"
    },
    {
     "name": "stdout",
     "output_type": "stream",
     "text": [
      "Total explained variance by the first 184 principal components: 1.00\n"
     ]
    },
    {
     "data": {
      "application/vnd.plotly.v1+json": {
       "config": {
        "plotlyServerURL": "https://plot.ly"
       },
       "data": [
        {
         "marker": {
          "color": "darkblue"
         },
         "type": "bar",
         "x": [
          "element_connectivity_y",
          "node_degree_1",
          "branches",
          "density",
          "cc_max_PK",
          "clustering coefficient",
          "degree_y",
          "pathLength",
          "cc_pixel_intensity_555",
          "distance_to_center",
          "center_y",
          "coeff_of_variance_cc",
          "cc_center_z",
          "element_length_(um)",
          "element_average_width",
          "element_Volume_Voxel",
          "cc_center_x",
          "coeff_of_variance_line_id",
          "cc_center_y",
          "Dim 107",
          "Dim 35",
          "cc_pixel_intensity_405_488_ratio",
          "Dim 84",
          "Dim 7",
          "Dim 55",
          "Dim 26",
          "Dim 23",
          "Dim 128",
          "Dim 86",
          "Dim 59",
          "Dim 22",
          "Dim 28",
          "Dim 51",
          "Dim 70",
          "Dim 75",
          "Dim 79",
          "Dim 81",
          "Dim 46",
          "Dim 102",
          "Dim 85",
          "Dim 87",
          "Dim 121",
          "Dim 119",
          "Dim 24",
          "Dim 95",
          "Dim 97",
          "Dim 61",
          "Dim 18",
          "Dim 71",
          "Dim 108",
          "Dim 110",
          "Dim 112",
          "Dim 113",
          "Dim 13",
          "Dim 91",
          "Dim 123",
          "Dim 104",
          "Dim 15",
          "Dim 92",
          "Dim 27",
          "Dim 32",
          "Dim 34",
          "Dim 89",
          "Dim 103",
          "Dim 120",
          "Dim 14",
          "Dim 37",
          "Dim 11",
          "Dim 2",
          "Dim 41",
          "Dim 25",
          "Dim 10",
          "Dim 45",
          "Dim 53",
          "Dim 90",
          "Dim 100",
          "Dim 69",
          "Dim 72",
          "Dim 88",
          "node_degree_2",
          "Dim 73",
          "Dim 36",
          "folder_name_y",
          "Dim 19",
          "Dim 44",
          "Dim 49",
          "Dim 63",
          "Dim 43",
          "Dim 47",
          "Dim 38",
          "Dim 12",
          "Dim 82",
          "Dim 126",
          "Dim 74",
          "Dim 76",
          "Dim 99",
          "Dim 5",
          "Dim 101",
          "Dim 111",
          "Dim 17",
          "Dim 124",
          "Dim 116",
          "Dim 57",
          "Dim 94",
          "Dim 62",
          "Dim 60",
          "Dim 67",
          "Dim 30",
          "Dim 39",
          "Dim 8",
          "Dim 4",
          "Dim 33",
          "Dim 106",
          "Dim 83",
          "Dim 118",
          "Dim 50",
          "Dim 40",
          "Dim 68",
          "Dim 125",
          "Dim 52",
          "Dim 64",
          "edges",
          "point_id",
          "Dim 16",
          "Dim 9",
          "Dim 117",
          "Dim 54",
          "Dim 20",
          "Dim 77",
          "Dim 80",
          "Dim 122",
          "Dim 65",
          "Dim 98",
          "Dim 93",
          "y_pixel",
          "Dim 21",
          "Dim 114",
          "Dim 48",
          "Dim 42",
          "Dim 105",
          "Dim 6",
          "Dim 3",
          "Dim 127",
          "y_x",
          "Dim 78",
          "Dim 31",
          "Dim 109",
          "Dim 115",
          "Dim 66",
          "Dim 96",
          "node_degree_3",
          "vol_cc_y",
          "width_(um)",
          "Dim 58",
          "Dim 29",
          "node_degree_10",
          "cc_vol_from_img_(um3)",
          "node_degree_8",
          "Dim 56",
          "x_x",
          "cc_length_(um)",
          "node_degree_0",
          "diameter",
          "Dim 1",
          "node_degree_4",
          "node_degree_7",
          "node_degree_11",
          "node_degree_9",
          "distance",
          "x_pixel",
          "node_degree_6",
          "center_x",
          "node_y",
          "nodes",
          "line_id",
          "node_degree_5",
          "order",
          "cc_average_degree_excludeFreeEnds",
          "pixel_intensity_555",
          "center_z",
          "z_pixel",
          "z_x",
          "matching_index",
          "avg_PK_Of_element_y"
         ],
         "y": [
          0.5434782608696088,
          0.5434782608695814,
          0.5434782608695805,
          0.5434782608695774,
          0.5434782608695768,
          0.5434782608695767,
          0.5434782608695745,
          0.5434782608695725,
          0.5434782608695702,
          0.5434782608695697,
          0.5434782608695676,
          0.5434782608695674,
          0.5434782608695674,
          0.5434782608695671,
          0.5434782608695671,
          0.543478260869567,
          0.5434782608695667,
          0.5434782608695666,
          0.5434782608695666,
          0.5434782608695665,
          0.5434782608695665,
          0.5434782608695663,
          0.5434782608695663,
          0.5434782608695663,
          0.5434782608695662,
          0.5434782608695662,
          0.5434782608695662,
          0.5434782608695661,
          0.5434782608695661,
          0.5434782608695661,
          0.5434782608695661,
          0.5434782608695661,
          0.543478260869566,
          0.543478260869566,
          0.543478260869566,
          0.543478260869566,
          0.543478260869566,
          0.543478260869566,
          0.543478260869566,
          0.543478260869566,
          0.543478260869566,
          0.543478260869566,
          0.543478260869566,
          0.543478260869566,
          0.5434782608695659,
          0.5434782608695659,
          0.5434782608695659,
          0.5434782608695659,
          0.5434782608695659,
          0.5434782608695659,
          0.5434782608695659,
          0.5434782608695659,
          0.5434782608695659,
          0.5434782608695659,
          0.5434782608695659,
          0.5434782608695659,
          0.5434782608695659,
          0.5434782608695657,
          0.5434782608695657,
          0.5434782608695657,
          0.5434782608695657,
          0.5434782608695657,
          0.5434782608695657,
          0.5434782608695657,
          0.5434782608695657,
          0.5434782608695657,
          0.5434782608695657,
          0.5434782608695657,
          0.5434782608695657,
          0.5434782608695656,
          0.5434782608695656,
          0.5434782608695656,
          0.5434782608695656,
          0.5434782608695656,
          0.5434782608695656,
          0.5434782608695656,
          0.5434782608695656,
          0.5434782608695655,
          0.5434782608695655,
          0.5434782608695655,
          0.5434782608695655,
          0.5434782608695655,
          0.5434782608695655,
          0.5434782608695655,
          0.5434782608695655,
          0.5434782608695655,
          0.5434782608695654,
          0.5434782608695654,
          0.5434782608695654,
          0.5434782608695654,
          0.5434782608695654,
          0.5434782608695654,
          0.5434782608695654,
          0.5434782608695654,
          0.5434782608695654,
          0.5434782608695654,
          0.5434782608695654,
          0.5434782608695654,
          0.5434782608695654,
          0.5434782608695654,
          0.5434782608695654,
          0.5434782608695654,
          0.5434782608695654,
          0.5434782608695653,
          0.5434782608695653,
          0.5434782608695653,
          0.5434782608695653,
          0.5434782608695653,
          0.5434782608695653,
          0.5434782608695653,
          0.5434782608695653,
          0.5434782608695652,
          0.5434782608695652,
          0.5434782608695652,
          0.5434782608695652,
          0.5434782608695652,
          0.5434782608695652,
          0.5434782608695652,
          0.5434782608695651,
          0.5434782608695651,
          0.5434782608695651,
          0.5434782608695651,
          0.5434782608695651,
          0.5434782608695651,
          0.5434782608695651,
          0.5434782608695651,
          0.5434782608695651,
          0.5434782608695651,
          0.543478260869565,
          0.543478260869565,
          0.543478260869565,
          0.543478260869565,
          0.5434782608695649,
          0.5434782608695649,
          0.5434782608695649,
          0.5434782608695649,
          0.5434782608695647,
          0.5434782608695647,
          0.5434782608695647,
          0.5434782608695647,
          0.5434782608695647,
          0.5434782608695647,
          0.5434782608695647,
          0.5434782608695647,
          0.5434782608695646,
          0.5434782608695646,
          0.5434782608695646,
          0.5434782608695644,
          0.5434782608695643,
          0.5434782608695643,
          0.5434782608695642,
          0.5434782608695641,
          0.5434782608695641,
          0.543478260869564,
          0.5434782608695639,
          0.5434782608695639,
          0.5434782608695639,
          0.5434782608695639,
          0.5434782608695634,
          0.5434782608695634,
          0.5434782608695634,
          0.5434782608695632,
          0.5434782608695631,
          0.543478260869563,
          0.5434782608695629,
          0.5434782608695627,
          0.5434782608695627,
          0.5434782608695626,
          0.5434782608695626,
          0.5434782608695626,
          0.5434782608695625,
          0.5434782608695624,
          0.5434782608695624,
          0.5434782608695623,
          0.5434782608695623,
          0.543478260869562,
          0.543478260869562,
          0.5434782608695619,
          0.5434782608695617,
          0.5434782608695605,
          0.5434782608695604,
          0.5434782608695604,
          0.5434782608695583,
          0.5434782608695438
         ]
        }
       ],
       "layout": {
        "template": {
         "data": {
          "bar": [
           {
            "error_x": {
             "color": "#2a3f5f"
            },
            "error_y": {
             "color": "#2a3f5f"
            },
            "marker": {
             "line": {
              "color": "#E5ECF6",
              "width": 0.5
             },
             "pattern": {
              "fillmode": "overlay",
              "size": 10,
              "solidity": 0.2
             }
            },
            "type": "bar"
           }
          ],
          "barpolar": [
           {
            "marker": {
             "line": {
              "color": "#E5ECF6",
              "width": 0.5
             },
             "pattern": {
              "fillmode": "overlay",
              "size": 10,
              "solidity": 0.2
             }
            },
            "type": "barpolar"
           }
          ],
          "carpet": [
           {
            "aaxis": {
             "endlinecolor": "#2a3f5f",
             "gridcolor": "white",
             "linecolor": "white",
             "minorgridcolor": "white",
             "startlinecolor": "#2a3f5f"
            },
            "baxis": {
             "endlinecolor": "#2a3f5f",
             "gridcolor": "white",
             "linecolor": "white",
             "minorgridcolor": "white",
             "startlinecolor": "#2a3f5f"
            },
            "type": "carpet"
           }
          ],
          "choropleth": [
           {
            "colorbar": {
             "outlinewidth": 0,
             "ticks": ""
            },
            "type": "choropleth"
           }
          ],
          "contour": [
           {
            "colorbar": {
             "outlinewidth": 0,
             "ticks": ""
            },
            "colorscale": [
             [
              0,
              "#0d0887"
             ],
             [
              0.1111111111111111,
              "#46039f"
             ],
             [
              0.2222222222222222,
              "#7201a8"
             ],
             [
              0.3333333333333333,
              "#9c179e"
             ],
             [
              0.4444444444444444,
              "#bd3786"
             ],
             [
              0.5555555555555556,
              "#d8576b"
             ],
             [
              0.6666666666666666,
              "#ed7953"
             ],
             [
              0.7777777777777778,
              "#fb9f3a"
             ],
             [
              0.8888888888888888,
              "#fdca26"
             ],
             [
              1,
              "#f0f921"
             ]
            ],
            "type": "contour"
           }
          ],
          "contourcarpet": [
           {
            "colorbar": {
             "outlinewidth": 0,
             "ticks": ""
            },
            "type": "contourcarpet"
           }
          ],
          "heatmap": [
           {
            "colorbar": {
             "outlinewidth": 0,
             "ticks": ""
            },
            "colorscale": [
             [
              0,
              "#0d0887"
             ],
             [
              0.1111111111111111,
              "#46039f"
             ],
             [
              0.2222222222222222,
              "#7201a8"
             ],
             [
              0.3333333333333333,
              "#9c179e"
             ],
             [
              0.4444444444444444,
              "#bd3786"
             ],
             [
              0.5555555555555556,
              "#d8576b"
             ],
             [
              0.6666666666666666,
              "#ed7953"
             ],
             [
              0.7777777777777778,
              "#fb9f3a"
             ],
             [
              0.8888888888888888,
              "#fdca26"
             ],
             [
              1,
              "#f0f921"
             ]
            ],
            "type": "heatmap"
           }
          ],
          "heatmapgl": [
           {
            "colorbar": {
             "outlinewidth": 0,
             "ticks": ""
            },
            "colorscale": [
             [
              0,
              "#0d0887"
             ],
             [
              0.1111111111111111,
              "#46039f"
             ],
             [
              0.2222222222222222,
              "#7201a8"
             ],
             [
              0.3333333333333333,
              "#9c179e"
             ],
             [
              0.4444444444444444,
              "#bd3786"
             ],
             [
              0.5555555555555556,
              "#d8576b"
             ],
             [
              0.6666666666666666,
              "#ed7953"
             ],
             [
              0.7777777777777778,
              "#fb9f3a"
             ],
             [
              0.8888888888888888,
              "#fdca26"
             ],
             [
              1,
              "#f0f921"
             ]
            ],
            "type": "heatmapgl"
           }
          ],
          "histogram": [
           {
            "marker": {
             "pattern": {
              "fillmode": "overlay",
              "size": 10,
              "solidity": 0.2
             }
            },
            "type": "histogram"
           }
          ],
          "histogram2d": [
           {
            "colorbar": {
             "outlinewidth": 0,
             "ticks": ""
            },
            "colorscale": [
             [
              0,
              "#0d0887"
             ],
             [
              0.1111111111111111,
              "#46039f"
             ],
             [
              0.2222222222222222,
              "#7201a8"
             ],
             [
              0.3333333333333333,
              "#9c179e"
             ],
             [
              0.4444444444444444,
              "#bd3786"
             ],
             [
              0.5555555555555556,
              "#d8576b"
             ],
             [
              0.6666666666666666,
              "#ed7953"
             ],
             [
              0.7777777777777778,
              "#fb9f3a"
             ],
             [
              0.8888888888888888,
              "#fdca26"
             ],
             [
              1,
              "#f0f921"
             ]
            ],
            "type": "histogram2d"
           }
          ],
          "histogram2dcontour": [
           {
            "colorbar": {
             "outlinewidth": 0,
             "ticks": ""
            },
            "colorscale": [
             [
              0,
              "#0d0887"
             ],
             [
              0.1111111111111111,
              "#46039f"
             ],
             [
              0.2222222222222222,
              "#7201a8"
             ],
             [
              0.3333333333333333,
              "#9c179e"
             ],
             [
              0.4444444444444444,
              "#bd3786"
             ],
             [
              0.5555555555555556,
              "#d8576b"
             ],
             [
              0.6666666666666666,
              "#ed7953"
             ],
             [
              0.7777777777777778,
              "#fb9f3a"
             ],
             [
              0.8888888888888888,
              "#fdca26"
             ],
             [
              1,
              "#f0f921"
             ]
            ],
            "type": "histogram2dcontour"
           }
          ],
          "mesh3d": [
           {
            "colorbar": {
             "outlinewidth": 0,
             "ticks": ""
            },
            "type": "mesh3d"
           }
          ],
          "parcoords": [
           {
            "line": {
             "colorbar": {
              "outlinewidth": 0,
              "ticks": ""
             }
            },
            "type": "parcoords"
           }
          ],
          "pie": [
           {
            "automargin": true,
            "type": "pie"
           }
          ],
          "scatter": [
           {
            "fillpattern": {
             "fillmode": "overlay",
             "size": 10,
             "solidity": 0.2
            },
            "type": "scatter"
           }
          ],
          "scatter3d": [
           {
            "line": {
             "colorbar": {
              "outlinewidth": 0,
              "ticks": ""
             }
            },
            "marker": {
             "colorbar": {
              "outlinewidth": 0,
              "ticks": ""
             }
            },
            "type": "scatter3d"
           }
          ],
          "scattercarpet": [
           {
            "marker": {
             "colorbar": {
              "outlinewidth": 0,
              "ticks": ""
             }
            },
            "type": "scattercarpet"
           }
          ],
          "scattergeo": [
           {
            "marker": {
             "colorbar": {
              "outlinewidth": 0,
              "ticks": ""
             }
            },
            "type": "scattergeo"
           }
          ],
          "scattergl": [
           {
            "marker": {
             "colorbar": {
              "outlinewidth": 0,
              "ticks": ""
             }
            },
            "type": "scattergl"
           }
          ],
          "scattermapbox": [
           {
            "marker": {
             "colorbar": {
              "outlinewidth": 0,
              "ticks": ""
             }
            },
            "type": "scattermapbox"
           }
          ],
          "scatterpolar": [
           {
            "marker": {
             "colorbar": {
              "outlinewidth": 0,
              "ticks": ""
             }
            },
            "type": "scatterpolar"
           }
          ],
          "scatterpolargl": [
           {
            "marker": {
             "colorbar": {
              "outlinewidth": 0,
              "ticks": ""
             }
            },
            "type": "scatterpolargl"
           }
          ],
          "scatterternary": [
           {
            "marker": {
             "colorbar": {
              "outlinewidth": 0,
              "ticks": ""
             }
            },
            "type": "scatterternary"
           }
          ],
          "surface": [
           {
            "colorbar": {
             "outlinewidth": 0,
             "ticks": ""
            },
            "colorscale": [
             [
              0,
              "#0d0887"
             ],
             [
              0.1111111111111111,
              "#46039f"
             ],
             [
              0.2222222222222222,
              "#7201a8"
             ],
             [
              0.3333333333333333,
              "#9c179e"
             ],
             [
              0.4444444444444444,
              "#bd3786"
             ],
             [
              0.5555555555555556,
              "#d8576b"
             ],
             [
              0.6666666666666666,
              "#ed7953"
             ],
             [
              0.7777777777777778,
              "#fb9f3a"
             ],
             [
              0.8888888888888888,
              "#fdca26"
             ],
             [
              1,
              "#f0f921"
             ]
            ],
            "type": "surface"
           }
          ],
          "table": [
           {
            "cells": {
             "fill": {
              "color": "#EBF0F8"
             },
             "line": {
              "color": "white"
             }
            },
            "header": {
             "fill": {
              "color": "#C8D4E3"
             },
             "line": {
              "color": "white"
             }
            },
            "type": "table"
           }
          ]
         },
         "layout": {
          "annotationdefaults": {
           "arrowcolor": "#2a3f5f",
           "arrowhead": 0,
           "arrowwidth": 1
          },
          "autotypenumbers": "strict",
          "coloraxis": {
           "colorbar": {
            "outlinewidth": 0,
            "ticks": ""
           }
          },
          "colorscale": {
           "diverging": [
            [
             0,
             "#8e0152"
            ],
            [
             0.1,
             "#c51b7d"
            ],
            [
             0.2,
             "#de77ae"
            ],
            [
             0.3,
             "#f1b6da"
            ],
            [
             0.4,
             "#fde0ef"
            ],
            [
             0.5,
             "#f7f7f7"
            ],
            [
             0.6,
             "#e6f5d0"
            ],
            [
             0.7,
             "#b8e186"
            ],
            [
             0.8,
             "#7fbc41"
            ],
            [
             0.9,
             "#4d9221"
            ],
            [
             1,
             "#276419"
            ]
           ],
           "sequential": [
            [
             0,
             "#0d0887"
            ],
            [
             0.1111111111111111,
             "#46039f"
            ],
            [
             0.2222222222222222,
             "#7201a8"
            ],
            [
             0.3333333333333333,
             "#9c179e"
            ],
            [
             0.4444444444444444,
             "#bd3786"
            ],
            [
             0.5555555555555556,
             "#d8576b"
            ],
            [
             0.6666666666666666,
             "#ed7953"
            ],
            [
             0.7777777777777778,
             "#fb9f3a"
            ],
            [
             0.8888888888888888,
             "#fdca26"
            ],
            [
             1,
             "#f0f921"
            ]
           ],
           "sequentialminus": [
            [
             0,
             "#0d0887"
            ],
            [
             0.1111111111111111,
             "#46039f"
            ],
            [
             0.2222222222222222,
             "#7201a8"
            ],
            [
             0.3333333333333333,
             "#9c179e"
            ],
            [
             0.4444444444444444,
             "#bd3786"
            ],
            [
             0.5555555555555556,
             "#d8576b"
            ],
            [
             0.6666666666666666,
             "#ed7953"
            ],
            [
             0.7777777777777778,
             "#fb9f3a"
            ],
            [
             0.8888888888888888,
             "#fdca26"
            ],
            [
             1,
             "#f0f921"
            ]
           ]
          },
          "colorway": [
           "#636efa",
           "#EF553B",
           "#00cc96",
           "#ab63fa",
           "#FFA15A",
           "#19d3f3",
           "#FF6692",
           "#B6E880",
           "#FF97FF",
           "#FECB52"
          ],
          "font": {
           "color": "#2a3f5f"
          },
          "geo": {
           "bgcolor": "white",
           "lakecolor": "white",
           "landcolor": "#E5ECF6",
           "showlakes": true,
           "showland": true,
           "subunitcolor": "white"
          },
          "hoverlabel": {
           "align": "left"
          },
          "hovermode": "closest",
          "mapbox": {
           "style": "light"
          },
          "paper_bgcolor": "white",
          "plot_bgcolor": "#E5ECF6",
          "polar": {
           "angularaxis": {
            "gridcolor": "white",
            "linecolor": "white",
            "ticks": ""
           },
           "bgcolor": "#E5ECF6",
           "radialaxis": {
            "gridcolor": "white",
            "linecolor": "white",
            "ticks": ""
           }
          },
          "scene": {
           "xaxis": {
            "backgroundcolor": "#E5ECF6",
            "gridcolor": "white",
            "gridwidth": 2,
            "linecolor": "white",
            "showbackground": true,
            "ticks": "",
            "zerolinecolor": "white"
           },
           "yaxis": {
            "backgroundcolor": "#E5ECF6",
            "gridcolor": "white",
            "gridwidth": 2,
            "linecolor": "white",
            "showbackground": true,
            "ticks": "",
            "zerolinecolor": "white"
           },
           "zaxis": {
            "backgroundcolor": "#E5ECF6",
            "gridcolor": "white",
            "gridwidth": 2,
            "linecolor": "white",
            "showbackground": true,
            "ticks": "",
            "zerolinecolor": "white"
           }
          },
          "shapedefaults": {
           "line": {
            "color": "#2a3f5f"
           }
          },
          "ternary": {
           "aaxis": {
            "gridcolor": "white",
            "linecolor": "white",
            "ticks": ""
           },
           "baxis": {
            "gridcolor": "white",
            "linecolor": "white",
            "ticks": ""
           },
           "bgcolor": "#E5ECF6",
           "caxis": {
            "gridcolor": "white",
            "linecolor": "white",
            "ticks": ""
           }
          },
          "title": {
           "x": 0.05
          },
          "xaxis": {
           "automargin": true,
           "gridcolor": "white",
           "linecolor": "white",
           "ticks": "",
           "title": {
            "standoff": 15
           },
           "zerolinecolor": "white",
           "zerolinewidth": 2
          },
          "yaxis": {
           "automargin": true,
           "gridcolor": "white",
           "linecolor": "white",
           "ticks": "",
           "title": {
            "standoff": 15
           },
           "zerolinecolor": "white",
           "zerolinewidth": 2
          }
         }
        },
        "title": {
         "text": "Percentage Contribution of Each Feature to Total Variance"
        },
        "xaxis": {
         "title": {
          "text": "Features"
         }
        },
        "yaxis": {
         "title": {
          "text": "Percentage Contribution"
         }
        }
       }
      }
     },
     "metadata": {},
     "output_type": "display_data"
    },
    {
     "name": "stdout",
     "output_type": "stream",
     "text": [
      "The training data shapes are: (9645, 184) (9645,) and the testing data shapes are: (2412, 184) (2412,)\n",
      "The cumulative contributions of all features to the variation is: 100.00000000000009 %\n"
     ]
    }
   ],
   "source": [
    "if(USE_NEW_FEATURES):\n",
    "    # X_transformed_pca, dataset_pca_sklearn_obj = get_pca_transformation_and_scaled_dataset(X, 256)\n",
    "    # now without the insane number of features from the sparse matrix from Angle_x_y and edge_x, there are only 184 features\n",
    "    # because we are now using the CNN image vectors\n",
    "    \n",
    "    X_transformed_pca, dataset_pca_sklearn_obj = get_pca_transformation_and_scaled_dataset(X, 184)\n",
    "    \n",
    "    explained_var = dataset_pca_sklearn_obj.explained_variance_ratio_\n",
    "\n",
    "    # Calculate and sort feature contributions\n",
    "    feature_contributions = feature_contribution_to_variance(dataset_pca_sklearn_obj, explained_var, X.columns)\n",
    "    plot_feature_contributions(feature_contributions)\n",
    "    \n",
    "    # We're basically predicting\n",
    "    # (405 / 488) * 1000\n",
    "\n",
    "    Y = sample_data['cc_pixel_intensity_405_488_ratio']\n",
    "\n",
    "    # Perform standardization on X and Y\n",
    "    # scalerX = StandardScaler()\n",
    "    # scalerY = StandardScaler()\n",
    "\n",
    "    y = np.rint(Y).astype(int)\n",
    "\n",
    "    X_train, X_test, y_train, y_test = train_test_split(X_transformed_pca, y, test_size=0.2, random_state=42)\n",
    "\n",
    "    print(\"The training data shapes are:\", X_train.shape, y_train.shape, \"and the testing data shapes are:\", X_test.shape, y_test.shape)\n",
    "    print(\"The cumulative contributions of all features to the variation is:\", feature_contributions['Contribution'].sum(), \"%\")"
   ]
  },
  {
   "cell_type": "code",
   "execution_count": 31,
   "metadata": {},
   "outputs": [],
   "source": [
    "def plot_error_frequency(y_pred, y_test, classifier_title, rounding):\n",
    "    rounding_ = rounding//2\n",
    "    \n",
    "    # Calculate errors\n",
    "    errors = (abs(y_pred - y_test) < rounding_)\n",
    "\n",
    "    # Extract labels where errors occurred\n",
    "    error_labels = y_test[errors]\n",
    "\n",
    "    # Calculate frequency of each label\n",
    "    unique_labels, counts = np.unique(error_labels, return_counts=True)\n",
    "\n",
    "    # Creating a dictionary of label frequencies for errors\n",
    "    label_error_frequency = dict(zip(unique_labels, counts))\n",
    "\n",
    "    # Finding the range of all possible labels (from min to max in y_test and y_pred)\n",
    "    all_labels = np.unique(np.concatenate((y_test, y_pred)))\n",
    "    min_label = min(all_labels)\n",
    "    max_label = max(all_labels)\n",
    "\n",
    "    # Filling in frequencies for labels that did not have errors\n",
    "    for label in range(min_label, max_label + 1):\n",
    "        if label not in label_error_frequency:\n",
    "            label_error_frequency[label] = 0\n",
    "\n",
    "    # Sorting the dictionary for plotting\n",
    "    sorted_label_error_frequency = dict(sorted(label_error_frequency.items()))\n",
    "\n",
    "    xticks = np.arange(min_label, max_label + 1, 50)\n",
    "\n",
    "    # Plotting the error frequency\n",
    "    plt.figure(figsize=(10, 6))\n",
    "    plt.bar(sorted_label_error_frequency.keys(), sorted_label_error_frequency.values())\n",
    "    plt.xlabel('Prediction')\n",
    "    plt.ylabel('Error Frequency')\n",
    "    plt.title('Error Frequency Distribution for ' + str(classifier_title) + ' for errors >= {} ({} in either direction)'.format(rounding, rounding_))\n",
    "    plt.xticks(xticks, rotation='vertical')  # Set x-ticks to show every 50th label and rotate them vertically\n",
    "    plt.show()\n",
    "\n",
    "    # Calculating mean and standard deviation of absolute errors\n",
    "    absolute_errors = np.abs(y_pred - y_test)\n",
    "    mean_error = np.mean(absolute_errors)\n",
    "    std_error = np.std(absolute_errors)\n",
    "    print(\"The mean error is\", mean_error, \"and the standard deviation of the errors is\", std_error)\n",
    "\n",
    "    # Plotting absolute error for each label\n",
    "    plt.figure(figsize=(10, 6))\n",
    "    for label in all_labels:\n",
    "        label_errors = absolute_errors[y_test == label]\n",
    "        plt.bar([label]*len(label_errors), label_errors, color='r')\n",
    "    plt.xlabel('Prediction')\n",
    "    plt.ylabel('Absolute Error')\n",
    "    plt.title('Absolute Error for Each Label in ' + str(classifier_title))\n",
    "    plt.xticks(xticks, rotation='vertical')\n",
    "    plt.show()\n"
   ]
  },
  {
   "cell_type": "code",
   "execution_count": 32,
   "metadata": {},
   "outputs": [],
   "source": [
    "def calculate_accuracy(y_test, y_pred, rounding):\n",
    "    y_test = y_test.values\n",
    "    rounding = rounding//2\n",
    "    # print(y_pred)\n",
    "    assert(len(y_test) == len(y_pred))\n",
    "    num_predictions = len(y_test)\n",
    "    num_correct_predictions = 0\n",
    "    for i in range(len(y_test)):\n",
    "        if abs(y_test[i] - y_pred[i]) <= rounding:\n",
    "            num_correct_predictions += 1\n",
    "    \n",
    "    return num_correct_predictions/num_predictions"
   ]
  },
  {
   "cell_type": "code",
   "execution_count": 33,
   "metadata": {},
   "outputs": [],
   "source": [
    "# For y_train and y_test, round down to nearest 10\n",
    "# y_train = (np.floor(y_train / 10) * 10).astype(int)\n",
    "# y_test = (np.floor(y_test / 10) * 10).astype(int)\n",
    "\n",
    "# Noticed weird behaviour with SVM:\n",
    "# If y_train and y_test are not rounded down to nearest 10,\n",
    "# then the training takes LONGER (it just wouldn't finish training on my mac)\n",
    "# even though it means there are 10 times fewer classifiers to train?\n",
    "# (also yes, doing that means the output would not be a regression but a classification,\n",
    "# and outputs would be classified into groups of 10, as in the model would tell you whether the\n",
    "# functional parameter is between 0-10, 10-20, 20-30, etc.)\n",
    "\n",
    "# Also it was not possible to get the SVM to train on my MAC for datasets above 10k rows (10k including training and testing split)\n",
    "# Training just never finished if I tried that, even if I left it running overnight.\n",
    "\n",
    "# This makes sense though because with more classes (i.e discrete functional parameter values in this case),\n",
    "# the training time grows quadratically as that many more classifiers need to be trained.\n",
    "\n",
    "# print(y_train, y_test)\n",
    "\n",
    "if(TRAIN_SVM):\n",
    "\n",
    "    svm_model = SVC(kernel='linear')  # You can choose different kernels like 'rbf', 'poly', etc.\n",
    "    svm_model.fit(X_train, y_train)\n",
    "\n",
    "\n",
    "    y_pred = svm_model.predict(X_test)\n",
    "\n",
    "    print(pd.DataFrame({'Actual': y_test, 'Predicted': y_pred}))\n",
    "\n",
    "    rounding = 50\n",
    "\n",
    "    accuracy = calculate_accuracy(y_test, y_pred, rounding)\n",
    "    classification_rep = classification_report(y_test, y_pred)\n",
    "\n",
    "    plt.plot(y_test, y_pred, 'o')\n",
    "    plt.title('Accuracy: ' + str(accuracy) + ' with rounding factor ' + str(rounding))\n",
    "    plt.xlabel('Actual')\n",
    "    plt.ylabel('Predicted')\n",
    "\n",
    "    y_pred_svm = y_pred\n",
    "    \n",
    "    # Create a DataFrame with the test and pred values\n",
    "    df = pd.DataFrame({'Test': y_test, 'Pred': y_pred_svm})\n",
    "\n",
    "    # Save the DataFrame to a CSV file\n",
    "    df.to_csv('svm_test_pred.csv', index=False)\n"
   ]
  },
  {
   "cell_type": "code",
   "execution_count": 34,
   "metadata": {},
   "outputs": [],
   "source": [
    "if(TRAIN_SVM):\n",
    "    plot_error_frequency(y_pred_svm, y_test, 'SVC', rounding)"
   ]
  },
  {
   "cell_type": "code",
   "execution_count": 35,
   "metadata": {},
   "outputs": [],
   "source": [
    "if(TRAIN_RF):\n",
    "\n",
    "    # do the same for random forest\n",
    "    from sklearn.ensemble import RandomForestClassifier\n",
    "\n",
    "    rf_model = RandomForestClassifier(n_estimators=300, max_depth=7, random_state=0)\n",
    "    rf_model.fit(X_train, y_train)\n",
    "\n",
    "    rounding = 50\n",
    "    \n",
    "    y_pred = rf_model.predict(X_test)\n",
    "    accuracy = calculate_accuracy(y_test, y_pred, rounding)\n",
    "\n",
    "    plt.plot(y_test, y_pred, 'o')\n",
    "    plt.xlabel(\"Actual value\")\n",
    "    plt.ylabel(\"Predicted value\")\n",
    "    plt.title('Accuracy: {} with rounding factor {}'.format(accuracy, rounding))\n",
    "\n",
    "    y_pred_rf = y_pred\n",
    "    \n",
    "    # Create a DataFrame with the test and pred values\n",
    "    df = pd.DataFrame({'Test': y_test, 'Pred': y_pred_rf})\n",
    "\n",
    "    # Save the DataFrame to a CSV file\n",
    "    df.to_csv('rf_test_pred.csv', index=False)"
   ]
  },
  {
   "cell_type": "code",
   "execution_count": 36,
   "metadata": {},
   "outputs": [],
   "source": [
    "if(TRAIN_RF):\n",
    "    plot_error_frequency(y_pred_rf, y_test, 'Random Forest', rounding)"
   ]
  },
  {
   "cell_type": "code",
   "execution_count": 37,
   "metadata": {},
   "outputs": [],
   "source": [
    "\n",
    "# Used the plotly library as this is much nicer looking, and the graph is more interactive and works well with Jupyter Notebooks\n",
    "\n",
    "def plot_absolute_error_plotly(y_pred_model1, y_pred_model2, y_test, model_title1, model_title_2):\n",
    "    def calculate_error_frequency(y_pred):\n",
    "        incorrect = y_pred != y_test\n",
    "\n",
    "        unique_predictions, counts = np.unique(y_pred[incorrect], return_counts=True)\n",
    "        error_freq = dict(zip(unique_predictions, counts))\n",
    "\n",
    "        return error_freq\n",
    "\n",
    "    error_freq_svc = calculate_error_frequency(y_pred_model1)\n",
    "    error_freq_rf = calculate_error_frequency(y_pred_model2)\n",
    "\n",
    "    all_labels = np.unique(np.concatenate((y_pred_model1, y_pred_model2)))\n",
    "    all_labels.sort()\n",
    "\n",
    "    svc_freq = [error_freq_svc.get(label, 0) for label in all_labels]\n",
    "    rf_freq = [error_freq_rf.get(label, 0) for label in all_labels]\n",
    "\n",
    "    fig = go.Figure(data=[\n",
    "        go.Bar(name=model_title1, x=all_labels, y=svc_freq),\n",
    "        go.Bar(name=model_title_2, x=all_labels, y=rf_freq)\n",
    "    ])\n",
    "\n",
    "    fig.update_layout(\n",
    "        barmode='group',\n",
    "        title='Prediction Error Frequency',\n",
    "        xaxis_title='Predicted Label',\n",
    "        yaxis_title='Frequency of Incorrect Predictions',\n",
    "        xaxis=dict(type='category')\n",
    "    )\n",
    "\n",
    "    fig.show()\n",
    "\n",
    "\n",
    "def plot_error_label_frequency_plotly(y_pred_model1, y_pred_model2, y_test, model_title1, model_title2):\n",
    "    labels = np.unique(y_test)\n",
    "    errors_svc = [np.sum((y_pred_model1 != y_test) & (y_test == label)) for label in labels]\n",
    "    errors_rf = [np.sum((y_pred_model2 != y_test) & (y_test == label)) for label in labels]\n",
    "\n",
    "    bar_width = max(0.5, 30 / len(labels))\n",
    "\n",
    "    fig = go.Figure(data=[\n",
    "        go.Bar(name=model_title1, x=labels, y=errors_svc, width=bar_width, marker_color='blue', marker_line_color='blue', marker_line_width=1.5, opacity=1),\n",
    "        go.Bar(name=model_title2, x=labels, y=errors_rf, width=bar_width, marker_color='red', marker_line_color='red', marker_line_width=1.5, opacity=1)\n",
    "    ])\n",
    "    \n",
    "    fig.update_layout(\n",
    "        barmode='group',\n",
    "        title='Error Frequency per Label',\n",
    "        xaxis_title='Labels',\n",
    "        yaxis_title='Number of Errors',\n",
    "        xaxis=dict(tickmode='array', tickvals=labels[::10]),\n",
    "        plot_bgcolor='rgba(255, 255, 255, 1)',\n",
    "        font=dict(\n",
    "            size=12,  # You can adjust the size of the text here for better visibility\n",
    "        )\n",
    "    )\n",
    "    fig.show()\n"
   ]
  },
  {
   "cell_type": "code",
   "execution_count": 38,
   "metadata": {},
   "outputs": [],
   "source": [
    "if(TRAIN_RF and TRAIN_SVM):\n",
    "    plot_absolute_error_plotly(y_pred_svm, y_pred_rf, y_test, 'SVC', 'Random Forest')\n",
    "    plot_error_label_frequency_plotly(y_pred_svm, y_pred_rf, y_test, 'SVC', 'Random Forest')"
   ]
  },
  {
   "cell_type": "code",
   "execution_count": 39,
   "metadata": {},
   "outputs": [],
   "source": [
    "# Data distribution\n",
    "# Basically plot the frequency of ocurrence of each value\n",
    "# of the functional parameter in the dataset inputted to the models\n",
    "\n",
    "# This is only plotting the subset in the training set, and not in the entire dataset\n",
    "\n",
    "def plot_data_distribution(y):\n",
    "    # Calculate the frequency of each value in the y_test array\n",
    "    unique_values, counts = np.unique(y, return_counts=True)\n",
    "\n",
    "    # Create the bar chart\n",
    "    fig = go.Figure(data=go.Bar(x=unique_values, y=counts))\n",
    "\n",
    "    # Update the layout for a better visual representation\n",
    "    fig.update_layout(\n",
    "        title='Data Distribution',\n",
    "        xaxis_title='Unique Values',\n",
    "        yaxis_title='Frequency',\n",
    "        xaxis=dict(type='category'),  # Treat unique values as discrete categories\n",
    "        yaxis=dict(title='Frequency'),  # You can also set the range or scale of the y-axis if needed\n",
    "    )\n",
    "\n",
    "    fig.show()\n",
    "    print(\"The mean of the data distribution is\", np.mean(y_train), \"and the standard deviation is\", np.std(y_train))"
   ]
  },
  {
   "cell_type": "code",
   "execution_count": 40,
   "metadata": {},
   "outputs": [
    {
     "data": {
      "application/vnd.plotly.v1+json": {
       "config": {
        "plotlyServerURL": "https://plot.ly"
       },
       "data": [
        {
         "type": "bar",
         "x": [
          0,
          2,
          5,
          6,
          7,
          8,
          9,
          10,
          11,
          12,
          13,
          14,
          15,
          16,
          17,
          18,
          19,
          20,
          21,
          22,
          23,
          24,
          25,
          26,
          27,
          28,
          29,
          30,
          31,
          32,
          33,
          34,
          35,
          36,
          37,
          38,
          39,
          40,
          41,
          42,
          43,
          44,
          45,
          46,
          47,
          48,
          49,
          50,
          51,
          52,
          53,
          54,
          55,
          56,
          57,
          58,
          59,
          60,
          61,
          62,
          63,
          64,
          65,
          66,
          67,
          68,
          69,
          70,
          71,
          72,
          73,
          74,
          75,
          76,
          77,
          78,
          79,
          80,
          81,
          82,
          83,
          84,
          85,
          86,
          87,
          88,
          89,
          90,
          91,
          92,
          93,
          94,
          95,
          96,
          97,
          98,
          99,
          100,
          101,
          102,
          103,
          104,
          105,
          106,
          107,
          108,
          109,
          110,
          111,
          112,
          113,
          114,
          115,
          116,
          117,
          118,
          119,
          120,
          121,
          122,
          123,
          124,
          125,
          126,
          127,
          128,
          129,
          130,
          131,
          132,
          133,
          134,
          135,
          136,
          137,
          138,
          139,
          140,
          141,
          142,
          143,
          144,
          145,
          146,
          147,
          148,
          149,
          150,
          151,
          152,
          153,
          154,
          155,
          156,
          157,
          158,
          159,
          160,
          161,
          162,
          163,
          164,
          165,
          166,
          167,
          168,
          169,
          170,
          171,
          172,
          173,
          174,
          175,
          176,
          177,
          178,
          179,
          180,
          181,
          182,
          183,
          184,
          185,
          186,
          187,
          188,
          189,
          190,
          191,
          192,
          193,
          194,
          195,
          196,
          197,
          198,
          199,
          200,
          201,
          202,
          203,
          204,
          205,
          206,
          207,
          208,
          209,
          210,
          211,
          212,
          213,
          214,
          215,
          216,
          217,
          218,
          219,
          220,
          221,
          222,
          223,
          224,
          225,
          226,
          227,
          228,
          229,
          230,
          231,
          232,
          233,
          234,
          235,
          236,
          237,
          238,
          239,
          240,
          241,
          242,
          243,
          244,
          245,
          246,
          247,
          248,
          249,
          250,
          251,
          252,
          253,
          254,
          255,
          256,
          257,
          258,
          259,
          260,
          261,
          262,
          263,
          264,
          265,
          266,
          267,
          268,
          269,
          270,
          271,
          272,
          273,
          274,
          275,
          276,
          277,
          278,
          279,
          280,
          281,
          282,
          283,
          284,
          285,
          286,
          287,
          288,
          289,
          292,
          293,
          294,
          295,
          296,
          297,
          298,
          299,
          300,
          301,
          302,
          303,
          304,
          305,
          306,
          307,
          308,
          309,
          310,
          311,
          312,
          314,
          315,
          316,
          317,
          319,
          320,
          321,
          322,
          323,
          325,
          326,
          327,
          328,
          329,
          330,
          331,
          332,
          333,
          334,
          335,
          336,
          337,
          339,
          341,
          342,
          343,
          344,
          345,
          346,
          348,
          349,
          350,
          351,
          355,
          356,
          357,
          358,
          359,
          360,
          361,
          362,
          363,
          364,
          365,
          366,
          367,
          368,
          369,
          370,
          375,
          377,
          378,
          379,
          380,
          381,
          382,
          385,
          387,
          388,
          391,
          392,
          393,
          395,
          399,
          401,
          402,
          404,
          407,
          410,
          412,
          416,
          418,
          419,
          420,
          422,
          425,
          429,
          431,
          433,
          440,
          443,
          451,
          452,
          453,
          457,
          467,
          471,
          473,
          474,
          478,
          480,
          487,
          492,
          495,
          499,
          504,
          505,
          516,
          517,
          533,
          566,
          569,
          581,
          585,
          591,
          598,
          603,
          619,
          622,
          624,
          655,
          726,
          795,
          847,
          851,
          972,
          1022,
          1041,
          1063,
          1093,
          1102,
          1438,
          1527,
          2368,
          2560,
          3161
         ],
         "y": [
          1,
          1,
          1,
          3,
          3,
          1,
          3,
          1,
          4,
          4,
          7,
          7,
          12,
          14,
          13,
          9,
          13,
          13,
          18,
          20,
          31,
          25,
          20,
          32,
          51,
          26,
          42,
          49,
          50,
          44,
          63,
          65,
          73,
          74,
          70,
          78,
          73,
          90,
          97,
          97,
          89,
          108,
          106,
          130,
          103,
          119,
          127,
          103,
          109,
          119,
          134,
          123,
          143,
          116,
          129,
          132,
          107,
          118,
          116,
          117,
          124,
          109,
          137,
          106,
          106,
          104,
          97,
          138,
          104,
          101,
          90,
          104,
          101,
          108,
          100,
          101,
          107,
          90,
          88,
          80,
          92,
          87,
          81,
          86,
          97,
          87,
          78,
          80,
          85,
          78,
          72,
          85,
          77,
          65,
          66,
          65,
          48,
          67,
          60,
          71,
          78,
          68,
          68,
          65,
          52,
          57,
          59,
          65,
          49,
          54,
          53,
          57,
          45,
          49,
          78,
          60,
          52,
          45,
          46,
          59,
          54,
          40,
          55,
          43,
          45,
          62,
          51,
          50,
          51,
          46,
          53,
          46,
          43,
          41,
          51,
          41,
          73,
          42,
          54,
          41,
          41,
          35,
          46,
          43,
          38,
          43,
          54,
          53,
          54,
          33,
          37,
          35,
          44,
          26,
          41,
          40,
          36,
          36,
          34,
          23,
          41,
          34,
          34,
          44,
          29,
          27,
          37,
          30,
          28,
          30,
          21,
          33,
          32,
          26,
          34,
          20,
          24,
          26,
          17,
          20,
          28,
          26,
          32,
          28,
          17,
          20,
          19,
          24,
          22,
          18,
          19,
          15,
          21,
          24,
          18,
          16,
          14,
          13,
          13,
          25,
          19,
          13,
          12,
          17,
          12,
          21,
          10,
          10,
          16,
          15,
          12,
          6,
          12,
          15,
          7,
          16,
          16,
          12,
          15,
          7,
          4,
          12,
          11,
          8,
          3,
          8,
          8,
          5,
          12,
          3,
          6,
          5,
          3,
          6,
          8,
          13,
          11,
          6,
          4,
          2,
          6,
          3,
          7,
          6,
          4,
          7,
          3,
          3,
          7,
          7,
          5,
          3,
          7,
          10,
          2,
          6,
          5,
          7,
          5,
          6,
          5,
          6,
          3,
          5,
          4,
          5,
          3,
          3,
          2,
          4,
          3,
          1,
          5,
          3,
          5,
          4,
          4,
          4,
          2,
          3,
          3,
          3,
          6,
          5,
          1,
          3,
          2,
          2,
          4,
          3,
          2,
          2,
          4,
          5,
          3,
          3,
          3,
          7,
          4,
          5,
          1,
          4,
          3,
          3,
          1,
          4,
          1,
          2,
          1,
          4,
          2,
          1,
          2,
          2,
          4,
          1,
          2,
          3,
          1,
          1,
          1,
          1,
          4,
          4,
          2,
          2,
          2,
          1,
          2,
          1,
          2,
          1,
          1,
          1,
          5,
          2,
          1,
          3,
          1,
          1,
          1,
          1,
          1,
          2,
          1,
          1,
          1,
          1,
          1,
          2,
          3,
          2,
          2,
          4,
          1,
          2,
          2,
          2,
          2,
          1,
          1,
          1,
          2,
          2,
          1,
          2,
          4,
          3,
          2,
          1,
          1,
          1,
          2,
          2,
          1,
          1,
          2,
          1,
          2,
          1,
          1,
          1,
          1,
          2,
          1,
          1,
          1,
          1,
          1,
          1,
          1,
          1,
          1,
          1,
          1,
          1,
          1,
          1,
          1,
          2,
          1,
          1,
          1,
          1,
          1,
          1,
          1,
          1,
          1,
          1,
          1,
          1,
          1,
          1,
          1,
          1,
          1,
          1,
          1,
          1,
          1,
          1,
          1,
          1,
          1,
          1,
          1,
          1,
          1,
          1,
          1,
          1,
          1,
          1
         ]
        }
       ],
       "layout": {
        "template": {
         "data": {
          "bar": [
           {
            "error_x": {
             "color": "#2a3f5f"
            },
            "error_y": {
             "color": "#2a3f5f"
            },
            "marker": {
             "line": {
              "color": "#E5ECF6",
              "width": 0.5
             },
             "pattern": {
              "fillmode": "overlay",
              "size": 10,
              "solidity": 0.2
             }
            },
            "type": "bar"
           }
          ],
          "barpolar": [
           {
            "marker": {
             "line": {
              "color": "#E5ECF6",
              "width": 0.5
             },
             "pattern": {
              "fillmode": "overlay",
              "size": 10,
              "solidity": 0.2
             }
            },
            "type": "barpolar"
           }
          ],
          "carpet": [
           {
            "aaxis": {
             "endlinecolor": "#2a3f5f",
             "gridcolor": "white",
             "linecolor": "white",
             "minorgridcolor": "white",
             "startlinecolor": "#2a3f5f"
            },
            "baxis": {
             "endlinecolor": "#2a3f5f",
             "gridcolor": "white",
             "linecolor": "white",
             "minorgridcolor": "white",
             "startlinecolor": "#2a3f5f"
            },
            "type": "carpet"
           }
          ],
          "choropleth": [
           {
            "colorbar": {
             "outlinewidth": 0,
             "ticks": ""
            },
            "type": "choropleth"
           }
          ],
          "contour": [
           {
            "colorbar": {
             "outlinewidth": 0,
             "ticks": ""
            },
            "colorscale": [
             [
              0,
              "#0d0887"
             ],
             [
              0.1111111111111111,
              "#46039f"
             ],
             [
              0.2222222222222222,
              "#7201a8"
             ],
             [
              0.3333333333333333,
              "#9c179e"
             ],
             [
              0.4444444444444444,
              "#bd3786"
             ],
             [
              0.5555555555555556,
              "#d8576b"
             ],
             [
              0.6666666666666666,
              "#ed7953"
             ],
             [
              0.7777777777777778,
              "#fb9f3a"
             ],
             [
              0.8888888888888888,
              "#fdca26"
             ],
             [
              1,
              "#f0f921"
             ]
            ],
            "type": "contour"
           }
          ],
          "contourcarpet": [
           {
            "colorbar": {
             "outlinewidth": 0,
             "ticks": ""
            },
            "type": "contourcarpet"
           }
          ],
          "heatmap": [
           {
            "colorbar": {
             "outlinewidth": 0,
             "ticks": ""
            },
            "colorscale": [
             [
              0,
              "#0d0887"
             ],
             [
              0.1111111111111111,
              "#46039f"
             ],
             [
              0.2222222222222222,
              "#7201a8"
             ],
             [
              0.3333333333333333,
              "#9c179e"
             ],
             [
              0.4444444444444444,
              "#bd3786"
             ],
             [
              0.5555555555555556,
              "#d8576b"
             ],
             [
              0.6666666666666666,
              "#ed7953"
             ],
             [
              0.7777777777777778,
              "#fb9f3a"
             ],
             [
              0.8888888888888888,
              "#fdca26"
             ],
             [
              1,
              "#f0f921"
             ]
            ],
            "type": "heatmap"
           }
          ],
          "heatmapgl": [
           {
            "colorbar": {
             "outlinewidth": 0,
             "ticks": ""
            },
            "colorscale": [
             [
              0,
              "#0d0887"
             ],
             [
              0.1111111111111111,
              "#46039f"
             ],
             [
              0.2222222222222222,
              "#7201a8"
             ],
             [
              0.3333333333333333,
              "#9c179e"
             ],
             [
              0.4444444444444444,
              "#bd3786"
             ],
             [
              0.5555555555555556,
              "#d8576b"
             ],
             [
              0.6666666666666666,
              "#ed7953"
             ],
             [
              0.7777777777777778,
              "#fb9f3a"
             ],
             [
              0.8888888888888888,
              "#fdca26"
             ],
             [
              1,
              "#f0f921"
             ]
            ],
            "type": "heatmapgl"
           }
          ],
          "histogram": [
           {
            "marker": {
             "pattern": {
              "fillmode": "overlay",
              "size": 10,
              "solidity": 0.2
             }
            },
            "type": "histogram"
           }
          ],
          "histogram2d": [
           {
            "colorbar": {
             "outlinewidth": 0,
             "ticks": ""
            },
            "colorscale": [
             [
              0,
              "#0d0887"
             ],
             [
              0.1111111111111111,
              "#46039f"
             ],
             [
              0.2222222222222222,
              "#7201a8"
             ],
             [
              0.3333333333333333,
              "#9c179e"
             ],
             [
              0.4444444444444444,
              "#bd3786"
             ],
             [
              0.5555555555555556,
              "#d8576b"
             ],
             [
              0.6666666666666666,
              "#ed7953"
             ],
             [
              0.7777777777777778,
              "#fb9f3a"
             ],
             [
              0.8888888888888888,
              "#fdca26"
             ],
             [
              1,
              "#f0f921"
             ]
            ],
            "type": "histogram2d"
           }
          ],
          "histogram2dcontour": [
           {
            "colorbar": {
             "outlinewidth": 0,
             "ticks": ""
            },
            "colorscale": [
             [
              0,
              "#0d0887"
             ],
             [
              0.1111111111111111,
              "#46039f"
             ],
             [
              0.2222222222222222,
              "#7201a8"
             ],
             [
              0.3333333333333333,
              "#9c179e"
             ],
             [
              0.4444444444444444,
              "#bd3786"
             ],
             [
              0.5555555555555556,
              "#d8576b"
             ],
             [
              0.6666666666666666,
              "#ed7953"
             ],
             [
              0.7777777777777778,
              "#fb9f3a"
             ],
             [
              0.8888888888888888,
              "#fdca26"
             ],
             [
              1,
              "#f0f921"
             ]
            ],
            "type": "histogram2dcontour"
           }
          ],
          "mesh3d": [
           {
            "colorbar": {
             "outlinewidth": 0,
             "ticks": ""
            },
            "type": "mesh3d"
           }
          ],
          "parcoords": [
           {
            "line": {
             "colorbar": {
              "outlinewidth": 0,
              "ticks": ""
             }
            },
            "type": "parcoords"
           }
          ],
          "pie": [
           {
            "automargin": true,
            "type": "pie"
           }
          ],
          "scatter": [
           {
            "fillpattern": {
             "fillmode": "overlay",
             "size": 10,
             "solidity": 0.2
            },
            "type": "scatter"
           }
          ],
          "scatter3d": [
           {
            "line": {
             "colorbar": {
              "outlinewidth": 0,
              "ticks": ""
             }
            },
            "marker": {
             "colorbar": {
              "outlinewidth": 0,
              "ticks": ""
             }
            },
            "type": "scatter3d"
           }
          ],
          "scattercarpet": [
           {
            "marker": {
             "colorbar": {
              "outlinewidth": 0,
              "ticks": ""
             }
            },
            "type": "scattercarpet"
           }
          ],
          "scattergeo": [
           {
            "marker": {
             "colorbar": {
              "outlinewidth": 0,
              "ticks": ""
             }
            },
            "type": "scattergeo"
           }
          ],
          "scattergl": [
           {
            "marker": {
             "colorbar": {
              "outlinewidth": 0,
              "ticks": ""
             }
            },
            "type": "scattergl"
           }
          ],
          "scattermapbox": [
           {
            "marker": {
             "colorbar": {
              "outlinewidth": 0,
              "ticks": ""
             }
            },
            "type": "scattermapbox"
           }
          ],
          "scatterpolar": [
           {
            "marker": {
             "colorbar": {
              "outlinewidth": 0,
              "ticks": ""
             }
            },
            "type": "scatterpolar"
           }
          ],
          "scatterpolargl": [
           {
            "marker": {
             "colorbar": {
              "outlinewidth": 0,
              "ticks": ""
             }
            },
            "type": "scatterpolargl"
           }
          ],
          "scatterternary": [
           {
            "marker": {
             "colorbar": {
              "outlinewidth": 0,
              "ticks": ""
             }
            },
            "type": "scatterternary"
           }
          ],
          "surface": [
           {
            "colorbar": {
             "outlinewidth": 0,
             "ticks": ""
            },
            "colorscale": [
             [
              0,
              "#0d0887"
             ],
             [
              0.1111111111111111,
              "#46039f"
             ],
             [
              0.2222222222222222,
              "#7201a8"
             ],
             [
              0.3333333333333333,
              "#9c179e"
             ],
             [
              0.4444444444444444,
              "#bd3786"
             ],
             [
              0.5555555555555556,
              "#d8576b"
             ],
             [
              0.6666666666666666,
              "#ed7953"
             ],
             [
              0.7777777777777778,
              "#fb9f3a"
             ],
             [
              0.8888888888888888,
              "#fdca26"
             ],
             [
              1,
              "#f0f921"
             ]
            ],
            "type": "surface"
           }
          ],
          "table": [
           {
            "cells": {
             "fill": {
              "color": "#EBF0F8"
             },
             "line": {
              "color": "white"
             }
            },
            "header": {
             "fill": {
              "color": "#C8D4E3"
             },
             "line": {
              "color": "white"
             }
            },
            "type": "table"
           }
          ]
         },
         "layout": {
          "annotationdefaults": {
           "arrowcolor": "#2a3f5f",
           "arrowhead": 0,
           "arrowwidth": 1
          },
          "autotypenumbers": "strict",
          "coloraxis": {
           "colorbar": {
            "outlinewidth": 0,
            "ticks": ""
           }
          },
          "colorscale": {
           "diverging": [
            [
             0,
             "#8e0152"
            ],
            [
             0.1,
             "#c51b7d"
            ],
            [
             0.2,
             "#de77ae"
            ],
            [
             0.3,
             "#f1b6da"
            ],
            [
             0.4,
             "#fde0ef"
            ],
            [
             0.5,
             "#f7f7f7"
            ],
            [
             0.6,
             "#e6f5d0"
            ],
            [
             0.7,
             "#b8e186"
            ],
            [
             0.8,
             "#7fbc41"
            ],
            [
             0.9,
             "#4d9221"
            ],
            [
             1,
             "#276419"
            ]
           ],
           "sequential": [
            [
             0,
             "#0d0887"
            ],
            [
             0.1111111111111111,
             "#46039f"
            ],
            [
             0.2222222222222222,
             "#7201a8"
            ],
            [
             0.3333333333333333,
             "#9c179e"
            ],
            [
             0.4444444444444444,
             "#bd3786"
            ],
            [
             0.5555555555555556,
             "#d8576b"
            ],
            [
             0.6666666666666666,
             "#ed7953"
            ],
            [
             0.7777777777777778,
             "#fb9f3a"
            ],
            [
             0.8888888888888888,
             "#fdca26"
            ],
            [
             1,
             "#f0f921"
            ]
           ],
           "sequentialminus": [
            [
             0,
             "#0d0887"
            ],
            [
             0.1111111111111111,
             "#46039f"
            ],
            [
             0.2222222222222222,
             "#7201a8"
            ],
            [
             0.3333333333333333,
             "#9c179e"
            ],
            [
             0.4444444444444444,
             "#bd3786"
            ],
            [
             0.5555555555555556,
             "#d8576b"
            ],
            [
             0.6666666666666666,
             "#ed7953"
            ],
            [
             0.7777777777777778,
             "#fb9f3a"
            ],
            [
             0.8888888888888888,
             "#fdca26"
            ],
            [
             1,
             "#f0f921"
            ]
           ]
          },
          "colorway": [
           "#636efa",
           "#EF553B",
           "#00cc96",
           "#ab63fa",
           "#FFA15A",
           "#19d3f3",
           "#FF6692",
           "#B6E880",
           "#FF97FF",
           "#FECB52"
          ],
          "font": {
           "color": "#2a3f5f"
          },
          "geo": {
           "bgcolor": "white",
           "lakecolor": "white",
           "landcolor": "#E5ECF6",
           "showlakes": true,
           "showland": true,
           "subunitcolor": "white"
          },
          "hoverlabel": {
           "align": "left"
          },
          "hovermode": "closest",
          "mapbox": {
           "style": "light"
          },
          "paper_bgcolor": "white",
          "plot_bgcolor": "#E5ECF6",
          "polar": {
           "angularaxis": {
            "gridcolor": "white",
            "linecolor": "white",
            "ticks": ""
           },
           "bgcolor": "#E5ECF6",
           "radialaxis": {
            "gridcolor": "white",
            "linecolor": "white",
            "ticks": ""
           }
          },
          "scene": {
           "xaxis": {
            "backgroundcolor": "#E5ECF6",
            "gridcolor": "white",
            "gridwidth": 2,
            "linecolor": "white",
            "showbackground": true,
            "ticks": "",
            "zerolinecolor": "white"
           },
           "yaxis": {
            "backgroundcolor": "#E5ECF6",
            "gridcolor": "white",
            "gridwidth": 2,
            "linecolor": "white",
            "showbackground": true,
            "ticks": "",
            "zerolinecolor": "white"
           },
           "zaxis": {
            "backgroundcolor": "#E5ECF6",
            "gridcolor": "white",
            "gridwidth": 2,
            "linecolor": "white",
            "showbackground": true,
            "ticks": "",
            "zerolinecolor": "white"
           }
          },
          "shapedefaults": {
           "line": {
            "color": "#2a3f5f"
           }
          },
          "ternary": {
           "aaxis": {
            "gridcolor": "white",
            "linecolor": "white",
            "ticks": ""
           },
           "baxis": {
            "gridcolor": "white",
            "linecolor": "white",
            "ticks": ""
           },
           "bgcolor": "#E5ECF6",
           "caxis": {
            "gridcolor": "white",
            "linecolor": "white",
            "ticks": ""
           }
          },
          "title": {
           "x": 0.05
          },
          "xaxis": {
           "automargin": true,
           "gridcolor": "white",
           "linecolor": "white",
           "ticks": "",
           "title": {
            "standoff": 15
           },
           "zerolinecolor": "white",
           "zerolinewidth": 2
          },
          "yaxis": {
           "automargin": true,
           "gridcolor": "white",
           "linecolor": "white",
           "ticks": "",
           "title": {
            "standoff": 15
           },
           "zerolinecolor": "white",
           "zerolinewidth": 2
          }
         }
        },
        "title": {
         "text": "Data Distribution"
        },
        "xaxis": {
         "title": {
          "text": "Unique Values"
         },
         "type": "category"
        },
        "yaxis": {
         "title": {
          "text": "Frequency"
         }
        }
       }
      }
     },
     "metadata": {},
     "output_type": "display_data"
    },
    {
     "name": "stdout",
     "output_type": "stream",
     "text": [
      "The mean of the data distribution is 105.08958009331259 and the standard deviation is 85.14467095781269\n"
     ]
    }
   ],
   "source": [
    "\n",
    "plot_data_distribution(y)"
   ]
  },
  {
   "cell_type": "code",
   "execution_count": 41,
   "metadata": {},
   "outputs": [],
   "source": [
    "# Define the MLP regressor class\n",
    "class MLPRegressor(nn.Module):\n",
    "    def __init__(self, input_size, hidden_size):\n",
    "        super().__init__()\n",
    "        self.fc1 = nn.Linear(input_size, hidden_size)\n",
    "        self.fc2 = nn.Linear(hidden_size, hidden_size//2)\n",
    "        self.fc3 = nn.Linear(hidden_size//2, 1)\n",
    "\n",
    "    def forward(self, x):\n",
    "        x = torch.tanh(self.fc1(x))\n",
    "        x = torch.relu(self.fc2(x))\n",
    "        x = self.fc3(x)\n",
    "        return x\n",
    "\n",
    "# Create an instance of the MLP regressor\n",
    "input_size = X_train.shape[1]\n",
    "# hidden_size = int((X_train.shape[1] + 1) / 2)\n",
    "hidden_size = input_size\n",
    "mlp_regressor = MLPRegressor(input_size, hidden_size).to(device)\n",
    "if(LOAD_MLP_MODEL):\n",
    "    try:\n",
    "        mlp_regressor.load_state_dict(torch.load(MLP_MODEL_PATH))\n",
    "    except Exception as e:\n",
    "        print(\"Couldn't load model\")\n",
    "        print(e)\n",
    "\n",
    "# Define the loss function and optimizer\n",
    "criterion = nn.SmoothL1Loss()\n",
    "optimizer = torch.optim.Adam(mlp_regressor.parameters(), lr=0.001, weight_decay=1e-5)\n",
    "\n",
    "def create_batches(X, Y, batch_size):\n",
    "    num_batches = int(np.ceil(X.shape[0] / batch_size))\n",
    "    batches = []\n",
    "\n",
    "    for i in range(num_batches):\n",
    "        start = i * batch_size\n",
    "        end = start + batch_size\n",
    "        X_batch = X[start:end]\n",
    "        Y_batch = Y[start:end]\n",
    "        batches.append((X_batch, Y_batch))\n",
    "\n",
    "    return batches\n",
    "\n",
    "# Train the MLP regressor\n",
    "def train_mlp_regressor(regressor, optimizer, epochs, batch_size, X_train, Y_train):\n",
    "    # Convert the training data to PyTorch tensors\n",
    "    X_train_tensor = torch.tensor(X_train, dtype=torch.float32)\n",
    "    Y_train_tensor = torch.tensor(Y_train, dtype=torch.float32)\n",
    "\n",
    "    # Create manual batches\n",
    "    train_batches = create_batches(X_train_tensor, Y_train_tensor, batch_size)\n",
    "\n",
    "    for epoch in range(epochs):\n",
    "        for X_batch, Y_batch in train_batches:\n",
    "            # Move batch to the device\n",
    "            X_batch, Y_batch = X_batch.to(device), Y_batch.to(device)\n",
    "\n",
    "            # Forward pass\n",
    "            outputs = regressor(X_batch)\n",
    "            loss = criterion(outputs, Y_batch)\n",
    "\n",
    "            # Backward and optimize\n",
    "            optimizer.zero_grad()\n",
    "            loss.backward()\n",
    "            optimizer.step()\n",
    "\n",
    "        if (epoch + 1) % 10 == 0:\n",
    "            print(f'Epoch [{epoch+1}/{epochs}], Loss: {loss.item():.4f}')\n",
    "\n",
    "        \n",
    "def test_mlp_regressor(regressor, X_test, Y_test):\n",
    "    # Convert the testing data to PyTorch tensors\n",
    "    X_test_tensor = torch.tensor(X_test, dtype=torch.float32)\n",
    "    Y_test_tensor = torch.tensor(Y_test, dtype=torch.float32).squeeze()\n",
    "\n",
    "    # Test the MLP regressor\n",
    "    with torch.no_grad():\n",
    "        outputs = regressor(X_test_tensor)\n",
    "        loss = criterion(outputs, Y_test_tensor)\n",
    "        print(f'Loss: {loss.item():.4f}')\n",
    "        \n",
    "    # Convert the predictions to a NumPy array\n",
    "    return outputs.cpu().detach().numpy().squeeze()"
   ]
  },
  {
   "cell_type": "code",
   "execution_count": 42,
   "metadata": {},
   "outputs": [
    {
     "name": "stdout",
     "output_type": "stream",
     "text": [
      "Epoch [10/7000], Loss: 16.9743\n",
      "Epoch [20/7000], Loss: 10.6998\n",
      "Epoch [30/7000], Loss: 6.8643\n",
      "Epoch [40/7000], Loss: 4.0988\n",
      "Epoch [50/7000], Loss: 2.1640\n",
      "Epoch [60/7000], Loss: 1.5880\n",
      "Epoch [70/7000], Loss: 1.3481\n",
      "Epoch [80/7000], Loss: 1.1955\n",
      "Epoch [90/7000], Loss: 0.9712\n",
      "Epoch [100/7000], Loss: 0.8345\n",
      "Epoch [110/7000], Loss: 0.7156\n",
      "Epoch [120/7000], Loss: 0.6637\n",
      "Epoch [130/7000], Loss: 0.6323\n",
      "Epoch [140/7000], Loss: 0.5534\n",
      "Epoch [150/7000], Loss: 0.5526\n",
      "Epoch [160/7000], Loss: 0.7624\n",
      "Epoch [170/7000], Loss: 0.5020\n",
      "Epoch [180/7000], Loss: 0.5074\n",
      "Epoch [190/7000], Loss: 0.3263\n",
      "Epoch [200/7000], Loss: 0.5168\n",
      "Epoch [210/7000], Loss: 0.4458\n",
      "Epoch [220/7000], Loss: 0.3811\n",
      "Epoch [230/7000], Loss: 0.3421\n",
      "Epoch [240/7000], Loss: 0.3400\n",
      "Epoch [250/7000], Loss: 0.4652\n"
     ]
    },
    {
     "ename": "KeyboardInterrupt",
     "evalue": "",
     "output_type": "error",
     "traceback": [
      "\u001b[0;31m---------------------------------------------------------------------------\u001b[0m",
      "\u001b[0;31mKeyboardInterrupt\u001b[0m                         Traceback (most recent call last)",
      "Cell \u001b[0;32mIn[42], line 2\u001b[0m\n\u001b[1;32m      1\u001b[0m \u001b[38;5;28;01mif\u001b[39;00m(\u001b[38;5;129;01mnot\u001b[39;00m LOAD_MLP_MODEL):\n\u001b[0;32m----> 2\u001b[0m     \u001b[43mtrain_mlp_regressor\u001b[49m\u001b[43m(\u001b[49m\u001b[43mmlp_regressor\u001b[49m\u001b[43m,\u001b[49m\u001b[43m \u001b[49m\u001b[43moptimizer\u001b[49m\u001b[43m,\u001b[49m\u001b[43m \u001b[49m\u001b[43mepochs\u001b[49m\u001b[38;5;241;43m=\u001b[39;49m\u001b[38;5;241;43m7000\u001b[39;49m\u001b[43m,\u001b[49m\u001b[43m \u001b[49m\u001b[43mbatch_size\u001b[49m\u001b[38;5;241;43m=\u001b[39;49m\u001b[38;5;241;43m500\u001b[39;49m\u001b[43m,\u001b[49m\u001b[43m \u001b[49m\u001b[43mX_train\u001b[49m\u001b[38;5;241;43m=\u001b[39;49m\u001b[43mX_train\u001b[49m\u001b[38;5;241;43m.\u001b[39;49m\u001b[43mvalues\u001b[49m\u001b[43m \u001b[49m\u001b[38;5;28;43;01mif\u001b[39;49;00m\u001b[43m \u001b[49m\u001b[38;5;28;43misinstance\u001b[39;49m\u001b[43m(\u001b[49m\u001b[43mX_train\u001b[49m\u001b[43m,\u001b[49m\u001b[43m \u001b[49m\u001b[43mpd\u001b[49m\u001b[38;5;241;43m.\u001b[39;49m\u001b[43mDataFrame\u001b[49m\u001b[43m)\u001b[49m\u001b[43m \u001b[49m\u001b[38;5;28;43;01melse\u001b[39;49;00m\u001b[43m \u001b[49m\u001b[43mX_train\u001b[49m\u001b[43m,\u001b[49m\u001b[43m \u001b[49m\u001b[43mY_train\u001b[49m\u001b[38;5;241;43m=\u001b[39;49m\u001b[43mnp\u001b[49m\u001b[38;5;241;43m.\u001b[39;49m\u001b[43marray\u001b[49m\u001b[43m(\u001b[49m\u001b[43my_train\u001b[49m\u001b[43m)\u001b[49m\u001b[38;5;241;43m.\u001b[39;49m\u001b[43mreshape\u001b[49m\u001b[43m(\u001b[49m\u001b[38;5;241;43m-\u001b[39;49m\u001b[38;5;241;43m1\u001b[39;49m\u001b[43m,\u001b[49m\u001b[43m \u001b[49m\u001b[38;5;241;43m1\u001b[39;49m\u001b[43m)\u001b[49m\u001b[43m)\u001b[49m\n\u001b[1;32m      3\u001b[0m \u001b[38;5;66;03m# Interrupt this cell whenever it feels like this model has trained enough\u001b[39;00m\n",
      "Cell \u001b[0;32mIn[41], line 65\u001b[0m, in \u001b[0;36mtrain_mlp_regressor\u001b[0;34m(regressor, optimizer, epochs, batch_size, X_train, Y_train)\u001b[0m\n\u001b[1;32m     63\u001b[0m     optimizer\u001b[38;5;241m.\u001b[39mzero_grad()\n\u001b[1;32m     64\u001b[0m     loss\u001b[38;5;241m.\u001b[39mbackward()\n\u001b[0;32m---> 65\u001b[0m     \u001b[43moptimizer\u001b[49m\u001b[38;5;241;43m.\u001b[39;49m\u001b[43mstep\u001b[49m\u001b[43m(\u001b[49m\u001b[43m)\u001b[49m\n\u001b[1;32m     67\u001b[0m \u001b[38;5;28;01mif\u001b[39;00m (epoch \u001b[38;5;241m+\u001b[39m \u001b[38;5;241m1\u001b[39m) \u001b[38;5;241m%\u001b[39m \u001b[38;5;241m10\u001b[39m \u001b[38;5;241m==\u001b[39m \u001b[38;5;241m0\u001b[39m:\n\u001b[1;32m     68\u001b[0m     \u001b[38;5;28mprint\u001b[39m(\u001b[38;5;124mf\u001b[39m\u001b[38;5;124m'\u001b[39m\u001b[38;5;124mEpoch [\u001b[39m\u001b[38;5;132;01m{\u001b[39;00mepoch\u001b[38;5;241m+\u001b[39m\u001b[38;5;241m1\u001b[39m\u001b[38;5;132;01m}\u001b[39;00m\u001b[38;5;124m/\u001b[39m\u001b[38;5;132;01m{\u001b[39;00mepochs\u001b[38;5;132;01m}\u001b[39;00m\u001b[38;5;124m], Loss: \u001b[39m\u001b[38;5;132;01m{\u001b[39;00mloss\u001b[38;5;241m.\u001b[39mitem()\u001b[38;5;132;01m:\u001b[39;00m\u001b[38;5;124m.4f\u001b[39m\u001b[38;5;132;01m}\u001b[39;00m\u001b[38;5;124m'\u001b[39m)\n",
      "File \u001b[0;32m~/miniconda3/envs/kasturi_ml_project/lib/python3.10/site-packages/torch/optim/optimizer.py:373\u001b[0m, in \u001b[0;36mOptimizer.profile_hook_step.<locals>.wrapper\u001b[0;34m(*args, **kwargs)\u001b[0m\n\u001b[1;32m    368\u001b[0m         \u001b[38;5;28;01melse\u001b[39;00m:\n\u001b[1;32m    369\u001b[0m             \u001b[38;5;28;01mraise\u001b[39;00m \u001b[38;5;167;01mRuntimeError\u001b[39;00m(\n\u001b[1;32m    370\u001b[0m                 \u001b[38;5;124mf\u001b[39m\u001b[38;5;124m\"\u001b[39m\u001b[38;5;132;01m{\u001b[39;00mfunc\u001b[38;5;132;01m}\u001b[39;00m\u001b[38;5;124m must return None or a tuple of (new_args, new_kwargs), but got \u001b[39m\u001b[38;5;132;01m{\u001b[39;00mresult\u001b[38;5;132;01m}\u001b[39;00m\u001b[38;5;124m.\u001b[39m\u001b[38;5;124m\"\u001b[39m\n\u001b[1;32m    371\u001b[0m             )\n\u001b[0;32m--> 373\u001b[0m out \u001b[38;5;241m=\u001b[39m \u001b[43mfunc\u001b[49m\u001b[43m(\u001b[49m\u001b[38;5;241;43m*\u001b[39;49m\u001b[43margs\u001b[49m\u001b[43m,\u001b[49m\u001b[43m \u001b[49m\u001b[38;5;241;43m*\u001b[39;49m\u001b[38;5;241;43m*\u001b[39;49m\u001b[43mkwargs\u001b[49m\u001b[43m)\u001b[49m\n\u001b[1;32m    374\u001b[0m \u001b[38;5;28mself\u001b[39m\u001b[38;5;241m.\u001b[39m_optimizer_step_code()\n\u001b[1;32m    376\u001b[0m \u001b[38;5;66;03m# call optimizer step post hooks\u001b[39;00m\n",
      "File \u001b[0;32m~/miniconda3/envs/kasturi_ml_project/lib/python3.10/site-packages/torch/optim/optimizer.py:76\u001b[0m, in \u001b[0;36m_use_grad_for_differentiable.<locals>._use_grad\u001b[0;34m(self, *args, **kwargs)\u001b[0m\n\u001b[1;32m     74\u001b[0m     torch\u001b[38;5;241m.\u001b[39mset_grad_enabled(\u001b[38;5;28mself\u001b[39m\u001b[38;5;241m.\u001b[39mdefaults[\u001b[38;5;124m'\u001b[39m\u001b[38;5;124mdifferentiable\u001b[39m\u001b[38;5;124m'\u001b[39m])\n\u001b[1;32m     75\u001b[0m     torch\u001b[38;5;241m.\u001b[39m_dynamo\u001b[38;5;241m.\u001b[39mgraph_break()\n\u001b[0;32m---> 76\u001b[0m     ret \u001b[38;5;241m=\u001b[39m \u001b[43mfunc\u001b[49m\u001b[43m(\u001b[49m\u001b[38;5;28;43mself\u001b[39;49m\u001b[43m,\u001b[49m\u001b[43m \u001b[49m\u001b[38;5;241;43m*\u001b[39;49m\u001b[43margs\u001b[49m\u001b[43m,\u001b[49m\u001b[43m \u001b[49m\u001b[38;5;241;43m*\u001b[39;49m\u001b[38;5;241;43m*\u001b[39;49m\u001b[43mkwargs\u001b[49m\u001b[43m)\u001b[49m\n\u001b[1;32m     77\u001b[0m \u001b[38;5;28;01mfinally\u001b[39;00m:\n\u001b[1;32m     78\u001b[0m     torch\u001b[38;5;241m.\u001b[39m_dynamo\u001b[38;5;241m.\u001b[39mgraph_break()\n",
      "File \u001b[0;32m~/miniconda3/envs/kasturi_ml_project/lib/python3.10/site-packages/torch/optim/adam.py:163\u001b[0m, in \u001b[0;36mAdam.step\u001b[0;34m(self, closure)\u001b[0m\n\u001b[1;32m    152\u001b[0m     beta1, beta2 \u001b[38;5;241m=\u001b[39m group[\u001b[38;5;124m'\u001b[39m\u001b[38;5;124mbetas\u001b[39m\u001b[38;5;124m'\u001b[39m]\n\u001b[1;32m    154\u001b[0m     \u001b[38;5;28mself\u001b[39m\u001b[38;5;241m.\u001b[39m_init_group(\n\u001b[1;32m    155\u001b[0m         group,\n\u001b[1;32m    156\u001b[0m         params_with_grad,\n\u001b[0;32m   (...)\u001b[0m\n\u001b[1;32m    160\u001b[0m         max_exp_avg_sqs,\n\u001b[1;32m    161\u001b[0m         state_steps)\n\u001b[0;32m--> 163\u001b[0m     \u001b[43madam\u001b[49m\u001b[43m(\u001b[49m\n\u001b[1;32m    164\u001b[0m \u001b[43m        \u001b[49m\u001b[43mparams_with_grad\u001b[49m\u001b[43m,\u001b[49m\n\u001b[1;32m    165\u001b[0m \u001b[43m        \u001b[49m\u001b[43mgrads\u001b[49m\u001b[43m,\u001b[49m\n\u001b[1;32m    166\u001b[0m \u001b[43m        \u001b[49m\u001b[43mexp_avgs\u001b[49m\u001b[43m,\u001b[49m\n\u001b[1;32m    167\u001b[0m \u001b[43m        \u001b[49m\u001b[43mexp_avg_sqs\u001b[49m\u001b[43m,\u001b[49m\n\u001b[1;32m    168\u001b[0m \u001b[43m        \u001b[49m\u001b[43mmax_exp_avg_sqs\u001b[49m\u001b[43m,\u001b[49m\n\u001b[1;32m    169\u001b[0m \u001b[43m        \u001b[49m\u001b[43mstate_steps\u001b[49m\u001b[43m,\u001b[49m\n\u001b[1;32m    170\u001b[0m \u001b[43m        \u001b[49m\u001b[43mamsgrad\u001b[49m\u001b[38;5;241;43m=\u001b[39;49m\u001b[43mgroup\u001b[49m\u001b[43m[\u001b[49m\u001b[38;5;124;43m'\u001b[39;49m\u001b[38;5;124;43mamsgrad\u001b[39;49m\u001b[38;5;124;43m'\u001b[39;49m\u001b[43m]\u001b[49m\u001b[43m,\u001b[49m\n\u001b[1;32m    171\u001b[0m \u001b[43m        \u001b[49m\u001b[43mbeta1\u001b[49m\u001b[38;5;241;43m=\u001b[39;49m\u001b[43mbeta1\u001b[49m\u001b[43m,\u001b[49m\n\u001b[1;32m    172\u001b[0m \u001b[43m        \u001b[49m\u001b[43mbeta2\u001b[49m\u001b[38;5;241;43m=\u001b[39;49m\u001b[43mbeta2\u001b[49m\u001b[43m,\u001b[49m\n\u001b[1;32m    173\u001b[0m \u001b[43m        \u001b[49m\u001b[43mlr\u001b[49m\u001b[38;5;241;43m=\u001b[39;49m\u001b[43mgroup\u001b[49m\u001b[43m[\u001b[49m\u001b[38;5;124;43m'\u001b[39;49m\u001b[38;5;124;43mlr\u001b[39;49m\u001b[38;5;124;43m'\u001b[39;49m\u001b[43m]\u001b[49m\u001b[43m,\u001b[49m\n\u001b[1;32m    174\u001b[0m \u001b[43m        \u001b[49m\u001b[43mweight_decay\u001b[49m\u001b[38;5;241;43m=\u001b[39;49m\u001b[43mgroup\u001b[49m\u001b[43m[\u001b[49m\u001b[38;5;124;43m'\u001b[39;49m\u001b[38;5;124;43mweight_decay\u001b[39;49m\u001b[38;5;124;43m'\u001b[39;49m\u001b[43m]\u001b[49m\u001b[43m,\u001b[49m\n\u001b[1;32m    175\u001b[0m \u001b[43m        \u001b[49m\u001b[43meps\u001b[49m\u001b[38;5;241;43m=\u001b[39;49m\u001b[43mgroup\u001b[49m\u001b[43m[\u001b[49m\u001b[38;5;124;43m'\u001b[39;49m\u001b[38;5;124;43meps\u001b[39;49m\u001b[38;5;124;43m'\u001b[39;49m\u001b[43m]\u001b[49m\u001b[43m,\u001b[49m\n\u001b[1;32m    176\u001b[0m \u001b[43m        \u001b[49m\u001b[43mmaximize\u001b[49m\u001b[38;5;241;43m=\u001b[39;49m\u001b[43mgroup\u001b[49m\u001b[43m[\u001b[49m\u001b[38;5;124;43m'\u001b[39;49m\u001b[38;5;124;43mmaximize\u001b[39;49m\u001b[38;5;124;43m'\u001b[39;49m\u001b[43m]\u001b[49m\u001b[43m,\u001b[49m\n\u001b[1;32m    177\u001b[0m \u001b[43m        \u001b[49m\u001b[43mforeach\u001b[49m\u001b[38;5;241;43m=\u001b[39;49m\u001b[43mgroup\u001b[49m\u001b[43m[\u001b[49m\u001b[38;5;124;43m'\u001b[39;49m\u001b[38;5;124;43mforeach\u001b[39;49m\u001b[38;5;124;43m'\u001b[39;49m\u001b[43m]\u001b[49m\u001b[43m,\u001b[49m\n\u001b[1;32m    178\u001b[0m \u001b[43m        \u001b[49m\u001b[43mcapturable\u001b[49m\u001b[38;5;241;43m=\u001b[39;49m\u001b[43mgroup\u001b[49m\u001b[43m[\u001b[49m\u001b[38;5;124;43m'\u001b[39;49m\u001b[38;5;124;43mcapturable\u001b[39;49m\u001b[38;5;124;43m'\u001b[39;49m\u001b[43m]\u001b[49m\u001b[43m,\u001b[49m\n\u001b[1;32m    179\u001b[0m \u001b[43m        \u001b[49m\u001b[43mdifferentiable\u001b[49m\u001b[38;5;241;43m=\u001b[39;49m\u001b[43mgroup\u001b[49m\u001b[43m[\u001b[49m\u001b[38;5;124;43m'\u001b[39;49m\u001b[38;5;124;43mdifferentiable\u001b[39;49m\u001b[38;5;124;43m'\u001b[39;49m\u001b[43m]\u001b[49m\u001b[43m,\u001b[49m\n\u001b[1;32m    180\u001b[0m \u001b[43m        \u001b[49m\u001b[43mfused\u001b[49m\u001b[38;5;241;43m=\u001b[39;49m\u001b[43mgroup\u001b[49m\u001b[43m[\u001b[49m\u001b[38;5;124;43m'\u001b[39;49m\u001b[38;5;124;43mfused\u001b[39;49m\u001b[38;5;124;43m'\u001b[39;49m\u001b[43m]\u001b[49m\u001b[43m,\u001b[49m\n\u001b[1;32m    181\u001b[0m \u001b[43m        \u001b[49m\u001b[43mgrad_scale\u001b[49m\u001b[38;5;241;43m=\u001b[39;49m\u001b[38;5;28;43mgetattr\u001b[39;49m\u001b[43m(\u001b[49m\u001b[38;5;28;43mself\u001b[39;49m\u001b[43m,\u001b[49m\u001b[43m \u001b[49m\u001b[38;5;124;43m\"\u001b[39;49m\u001b[38;5;124;43mgrad_scale\u001b[39;49m\u001b[38;5;124;43m\"\u001b[39;49m\u001b[43m,\u001b[49m\u001b[43m \u001b[49m\u001b[38;5;28;43;01mNone\u001b[39;49;00m\u001b[43m)\u001b[49m\u001b[43m,\u001b[49m\n\u001b[1;32m    182\u001b[0m \u001b[43m        \u001b[49m\u001b[43mfound_inf\u001b[49m\u001b[38;5;241;43m=\u001b[39;49m\u001b[38;5;28;43mgetattr\u001b[39;49m\u001b[43m(\u001b[49m\u001b[38;5;28;43mself\u001b[39;49m\u001b[43m,\u001b[49m\u001b[43m \u001b[49m\u001b[38;5;124;43m\"\u001b[39;49m\u001b[38;5;124;43mfound_inf\u001b[39;49m\u001b[38;5;124;43m\"\u001b[39;49m\u001b[43m,\u001b[49m\u001b[43m \u001b[49m\u001b[38;5;28;43;01mNone\u001b[39;49;00m\u001b[43m)\u001b[49m\u001b[43m,\u001b[49m\n\u001b[1;32m    183\u001b[0m \u001b[43m    \u001b[49m\u001b[43m)\u001b[49m\n\u001b[1;32m    185\u001b[0m \u001b[38;5;28;01mreturn\u001b[39;00m loss\n",
      "File \u001b[0;32m~/miniconda3/envs/kasturi_ml_project/lib/python3.10/site-packages/torch/optim/adam.py:311\u001b[0m, in \u001b[0;36madam\u001b[0;34m(params, grads, exp_avgs, exp_avg_sqs, max_exp_avg_sqs, state_steps, foreach, capturable, differentiable, fused, grad_scale, found_inf, amsgrad, beta1, beta2, lr, weight_decay, eps, maximize)\u001b[0m\n\u001b[1;32m    308\u001b[0m \u001b[38;5;28;01melse\u001b[39;00m:\n\u001b[1;32m    309\u001b[0m     func \u001b[38;5;241m=\u001b[39m _single_tensor_adam\n\u001b[0;32m--> 311\u001b[0m \u001b[43mfunc\u001b[49m\u001b[43m(\u001b[49m\u001b[43mparams\u001b[49m\u001b[43m,\u001b[49m\n\u001b[1;32m    312\u001b[0m \u001b[43m     \u001b[49m\u001b[43mgrads\u001b[49m\u001b[43m,\u001b[49m\n\u001b[1;32m    313\u001b[0m \u001b[43m     \u001b[49m\u001b[43mexp_avgs\u001b[49m\u001b[43m,\u001b[49m\n\u001b[1;32m    314\u001b[0m \u001b[43m     \u001b[49m\u001b[43mexp_avg_sqs\u001b[49m\u001b[43m,\u001b[49m\n\u001b[1;32m    315\u001b[0m \u001b[43m     \u001b[49m\u001b[43mmax_exp_avg_sqs\u001b[49m\u001b[43m,\u001b[49m\n\u001b[1;32m    316\u001b[0m \u001b[43m     \u001b[49m\u001b[43mstate_steps\u001b[49m\u001b[43m,\u001b[49m\n\u001b[1;32m    317\u001b[0m \u001b[43m     \u001b[49m\u001b[43mamsgrad\u001b[49m\u001b[38;5;241;43m=\u001b[39;49m\u001b[43mamsgrad\u001b[49m\u001b[43m,\u001b[49m\n\u001b[1;32m    318\u001b[0m \u001b[43m     \u001b[49m\u001b[43mbeta1\u001b[49m\u001b[38;5;241;43m=\u001b[39;49m\u001b[43mbeta1\u001b[49m\u001b[43m,\u001b[49m\n\u001b[1;32m    319\u001b[0m \u001b[43m     \u001b[49m\u001b[43mbeta2\u001b[49m\u001b[38;5;241;43m=\u001b[39;49m\u001b[43mbeta2\u001b[49m\u001b[43m,\u001b[49m\n\u001b[1;32m    320\u001b[0m \u001b[43m     \u001b[49m\u001b[43mlr\u001b[49m\u001b[38;5;241;43m=\u001b[39;49m\u001b[43mlr\u001b[49m\u001b[43m,\u001b[49m\n\u001b[1;32m    321\u001b[0m \u001b[43m     \u001b[49m\u001b[43mweight_decay\u001b[49m\u001b[38;5;241;43m=\u001b[39;49m\u001b[43mweight_decay\u001b[49m\u001b[43m,\u001b[49m\n\u001b[1;32m    322\u001b[0m \u001b[43m     \u001b[49m\u001b[43meps\u001b[49m\u001b[38;5;241;43m=\u001b[39;49m\u001b[43meps\u001b[49m\u001b[43m,\u001b[49m\n\u001b[1;32m    323\u001b[0m \u001b[43m     \u001b[49m\u001b[43mmaximize\u001b[49m\u001b[38;5;241;43m=\u001b[39;49m\u001b[43mmaximize\u001b[49m\u001b[43m,\u001b[49m\n\u001b[1;32m    324\u001b[0m \u001b[43m     \u001b[49m\u001b[43mcapturable\u001b[49m\u001b[38;5;241;43m=\u001b[39;49m\u001b[43mcapturable\u001b[49m\u001b[43m,\u001b[49m\n\u001b[1;32m    325\u001b[0m \u001b[43m     \u001b[49m\u001b[43mdifferentiable\u001b[49m\u001b[38;5;241;43m=\u001b[39;49m\u001b[43mdifferentiable\u001b[49m\u001b[43m,\u001b[49m\n\u001b[1;32m    326\u001b[0m \u001b[43m     \u001b[49m\u001b[43mgrad_scale\u001b[49m\u001b[38;5;241;43m=\u001b[39;49m\u001b[43mgrad_scale\u001b[49m\u001b[43m,\u001b[49m\n\u001b[1;32m    327\u001b[0m \u001b[43m     \u001b[49m\u001b[43mfound_inf\u001b[49m\u001b[38;5;241;43m=\u001b[39;49m\u001b[43mfound_inf\u001b[49m\u001b[43m)\u001b[49m\n",
      "File \u001b[0;32m~/miniconda3/envs/kasturi_ml_project/lib/python3.10/site-packages/torch/optim/adam.py:434\u001b[0m, in \u001b[0;36m_single_tensor_adam\u001b[0;34m(params, grads, exp_avgs, exp_avg_sqs, max_exp_avg_sqs, state_steps, grad_scale, found_inf, amsgrad, beta1, beta2, lr, weight_decay, eps, maximize, capturable, differentiable)\u001b[0m\n\u001b[1;32m    431\u001b[0m     \u001b[38;5;28;01melse\u001b[39;00m:\n\u001b[1;32m    432\u001b[0m         denom \u001b[38;5;241m=\u001b[39m (exp_avg_sq\u001b[38;5;241m.\u001b[39msqrt() \u001b[38;5;241m/\u001b[39m bias_correction2_sqrt)\u001b[38;5;241m.\u001b[39madd_(eps)\n\u001b[0;32m--> 434\u001b[0m     \u001b[43mparam\u001b[49m\u001b[38;5;241;43m.\u001b[39;49m\u001b[43maddcdiv_\u001b[49m\u001b[43m(\u001b[49m\u001b[43mexp_avg\u001b[49m\u001b[43m,\u001b[49m\u001b[43m \u001b[49m\u001b[43mdenom\u001b[49m\u001b[43m,\u001b[49m\u001b[43m \u001b[49m\u001b[43mvalue\u001b[49m\u001b[38;5;241;43m=\u001b[39;49m\u001b[38;5;241;43m-\u001b[39;49m\u001b[43mstep_size\u001b[49m\u001b[43m)\u001b[49m\n\u001b[1;32m    436\u001b[0m \u001b[38;5;66;03m# Lastly, switch back to complex view\u001b[39;00m\n\u001b[1;32m    437\u001b[0m \u001b[38;5;28;01mif\u001b[39;00m amsgrad \u001b[38;5;129;01mand\u001b[39;00m torch\u001b[38;5;241m.\u001b[39mis_complex(params[i]):\n",
      "File \u001b[0;32m~/miniconda3/envs/kasturi_ml_project/lib/python3.10/site-packages/torch/utils/_device.py:77\u001b[0m, in \u001b[0;36mDeviceContext.__torch_function__\u001b[0;34m(self, func, types, args, kwargs)\u001b[0m\n\u001b[1;32m     75\u001b[0m \u001b[38;5;28;01mif\u001b[39;00m func \u001b[38;5;129;01min\u001b[39;00m _device_constructors() \u001b[38;5;129;01mand\u001b[39;00m kwargs\u001b[38;5;241m.\u001b[39mget(\u001b[38;5;124m'\u001b[39m\u001b[38;5;124mdevice\u001b[39m\u001b[38;5;124m'\u001b[39m) \u001b[38;5;129;01mis\u001b[39;00m \u001b[38;5;28;01mNone\u001b[39;00m:\n\u001b[1;32m     76\u001b[0m     kwargs[\u001b[38;5;124m'\u001b[39m\u001b[38;5;124mdevice\u001b[39m\u001b[38;5;124m'\u001b[39m] \u001b[38;5;241m=\u001b[39m \u001b[38;5;28mself\u001b[39m\u001b[38;5;241m.\u001b[39mdevice\n\u001b[0;32m---> 77\u001b[0m \u001b[38;5;28;01mreturn\u001b[39;00m \u001b[43mfunc\u001b[49m\u001b[43m(\u001b[49m\u001b[38;5;241;43m*\u001b[39;49m\u001b[43margs\u001b[49m\u001b[43m,\u001b[49m\u001b[43m \u001b[49m\u001b[38;5;241;43m*\u001b[39;49m\u001b[38;5;241;43m*\u001b[39;49m\u001b[43mkwargs\u001b[49m\u001b[43m)\u001b[49m\n",
      "\u001b[0;31mKeyboardInterrupt\u001b[0m: "
     ]
    }
   ],
   "source": [
    "if(not LOAD_MLP_MODEL):\n",
    "    train_mlp_regressor(mlp_regressor, optimizer, epochs=7000, batch_size=500, X_train=X_train.values if isinstance(X_train, pd.DataFrame) else X_train, Y_train=np.array(y_train).reshape(-1, 1))\n",
    "# Interrupt this cell whenever it feels like this model has trained enough"
   ]
  },
  {
   "cell_type": "code",
   "execution_count": null,
   "metadata": {},
   "outputs": [],
   "source": [
    "# Save model to disk\n",
    "if(SAVE_MLP_MODEL):\n",
    "    torch.save(mlp_regressor.state_dict(), MLP_MODEL_PATH)"
   ]
  },
  {
   "cell_type": "code",
   "execution_count": 43,
   "metadata": {},
   "outputs": [
    {
     "name": "stderr",
     "output_type": "stream",
     "text": [
      "/Users/rithikkumars/miniconda3/envs/kasturi_ml_project/lib/python3.10/site-packages/torch/utils/_device.py:77: UserWarning:\n",
      "\n",
      "Using a target size (torch.Size([2412])) that is different to the input size (torch.Size([2412, 1])). This will likely lead to incorrect results due to broadcasting. Please ensure they have the same size.\n",
      "\n"
     ]
    },
    {
     "name": "stdout",
     "output_type": "stream",
     "text": [
      "Loss: 69.2172\n"
     ]
    },
    {
     "data": {
      "text/plain": [
       "Text(0.5, 1.0, 'Accuracy (prediction error < 50): 0.9933665008291874')"
      ]
     },
     "execution_count": 43,
     "metadata": {},
     "output_type": "execute_result"
    },
    {
     "data": {
      "image/png": "[encoded data removed]",
      "text/plain": [
       "<Figure size 640x480 with 1 Axes>"
      ]
     },
     "metadata": {},
     "output_type": "display_data"
    }
   ],
   "source": [
    "\n",
    "y_pred_mlp = test_mlp_regressor(mlp_regressor, X_test.values if isinstance(X_test, pd.DataFrame) else X_test, np.array(y_test).reshape(-1, 1).squeeze())\n",
    "y_pred_mlp = np.rint(y_pred_mlp).astype(int)\n",
    "\n",
    "rounding_graph = 1\n",
    "rounding = 50\n",
    "\n",
    "plt.plot(np.floor(y_test//rounding_graph) * rounding_graph, np.floor(y_pred_mlp//rounding_graph) * rounding_graph, 'o')\n",
    "# accuracy = accuracy_score(np.floor(y_test//rounding) * rounding, np.floor(y_pred_mlp//rounding) * rounding)\n",
    "accuracy = calculate_accuracy(y_test, y_pred_mlp, rounding)\n",
    "\n",
    "plt.xlabel('Actual')\n",
    "plt.ylabel('Predicted')\n",
    "plt.title('Accuracy (prediction error < {}): {}'.format(rounding, accuracy))"
   ]
  },
  {
   "cell_type": "code",
   "execution_count": null,
   "metadata": {},
   "outputs": [],
   "source": [
    "\n",
    "# y_pred_mlp = test_mlp_regressor(X_train.values if isinstance(X_train, pd.DataFrame) else X_train, np.array(y_train).reshape(-1, 1).squeeze())\n",
    "# y_pred_mlp = np.rint(y_pred_mlp).astype(int)\n",
    "\n",
    "# rounding = 10\n",
    "\n",
    "# plt.plot(np.floor(y_train//rounding) * rounding, np.floor(y_pred_mlp//rounding) * rounding, 'o')\n",
    "# accuracy = accuracy_score(np.floor(y_train//rounding) * rounding, np.floor(y_pred_mlp//rounding) * rounding)\n",
    "\n",
    "# plt.xlabel('Actual')\n",
    "# plt.ylabel('Predicted')\n",
    "# plt.title('Accuracy (within nearest {}): {}'.format(rounding, accuracy))"
   ]
  },
  {
   "cell_type": "code",
   "execution_count": 44,
   "metadata": {},
   "outputs": [
    {
     "data": {
      "image/png": "[encoded data removed]",
      "text/plain": [
       "<Figure size 1000x600 with 1 Axes>"
      ]
     },
     "metadata": {},
     "output_type": "display_data"
    },
    {
     "name": "stdout",
     "output_type": "stream",
     "text": [
      "The mean error is 1.5746268656716418 and the standard deviation of the errors is 14.693575032946557\n"
     ]
    },
    {
     "data": {
      "image/png": "[encoded data removed]",
      "text/plain": [
       "<Figure size 1000x600 with 1 Axes>"
      ]
     },
     "metadata": {},
     "output_type": "display_data"
    }
   ],
   "source": [
    "plot_error_frequency(y_pred_mlp, y_test, 'MLP', rounding)"
   ]
  },
  {
   "cell_type": "code",
   "execution_count": 45,
   "metadata": {},
   "outputs": [
    {
     "data": {
      "application/vnd.plotly.v1+json": {
       "config": {
        "plotlyServerURL": "https://plot.ly"
       },
       "data": [
        {
         "type": "bar",
         "x": [
          0,
          2,
          5,
          6,
          7,
          8,
          9,
          10,
          11,
          12,
          13,
          14,
          15,
          16,
          17,
          18,
          19,
          20,
          21,
          22,
          23,
          24,
          25,
          26,
          27,
          28,
          29,
          30,
          31,
          32,
          33,
          34,
          35,
          36,
          37,
          38,
          39,
          40,
          41,
          42,
          43,
          44,
          45,
          46,
          47,
          48,
          49,
          50,
          51,
          52,
          53,
          54,
          55,
          56,
          57,
          58,
          59,
          60,
          61,
          62,
          63,
          64,
          65,
          66,
          67,
          68,
          69,
          70,
          71,
          72,
          73,
          74,
          75,
          76,
          77,
          78,
          79,
          80,
          81,
          82,
          83,
          84,
          85,
          86,
          87,
          88,
          89,
          90,
          91,
          92,
          93,
          94,
          95,
          96,
          97,
          98,
          99,
          100,
          101,
          102,
          103,
          104,
          105,
          106,
          107,
          108,
          109,
          110,
          111,
          112,
          113,
          114,
          115,
          116,
          117,
          118,
          119,
          120,
          121,
          122,
          123,
          124,
          125,
          126,
          127,
          128,
          129,
          130,
          131,
          132,
          133,
          134,
          135,
          136,
          137,
          138,
          139,
          140,
          141,
          142,
          143,
          144,
          145,
          146,
          147,
          148,
          149,
          150,
          151,
          152,
          153,
          154,
          155,
          156,
          157,
          158,
          159,
          160,
          161,
          162,
          163,
          164,
          165,
          166,
          167,
          168,
          169,
          170,
          171,
          172,
          173,
          174,
          175,
          176,
          177,
          178,
          179,
          180,
          181,
          182,
          183,
          184,
          185,
          186,
          187,
          188,
          189,
          190,
          191,
          192,
          193,
          194,
          195,
          196,
          197,
          198,
          199,
          200,
          201,
          202,
          203,
          204,
          205,
          206,
          207,
          208,
          209,
          210,
          211,
          212,
          213,
          214,
          215,
          216,
          217,
          218,
          219,
          220,
          221,
          222,
          223,
          224,
          225,
          226,
          227,
          228,
          229,
          230,
          231,
          232,
          233,
          234,
          235,
          236,
          237,
          238,
          239,
          240,
          241,
          242,
          243,
          244,
          245,
          246,
          247,
          248,
          249,
          250,
          251,
          252,
          253,
          254,
          255,
          256,
          257,
          258,
          259,
          260,
          261,
          262,
          263,
          264,
          265,
          266,
          267,
          268,
          269,
          270,
          271,
          272,
          273,
          274,
          275,
          276,
          277,
          278,
          279,
          280,
          281,
          282,
          283,
          284,
          285,
          286,
          287,
          288,
          289,
          292,
          293,
          294,
          295,
          296,
          297,
          298,
          299,
          300,
          301,
          302,
          303,
          304,
          305,
          306,
          307,
          308,
          309,
          310,
          311,
          312,
          314,
          315,
          316,
          317,
          319,
          320,
          321,
          322,
          323,
          325,
          326,
          327,
          328,
          329,
          330,
          331,
          332,
          333,
          334,
          335,
          336,
          337,
          339,
          341,
          342,
          343,
          344,
          345,
          346,
          348,
          349,
          350,
          351,
          355,
          356,
          357,
          358,
          359,
          360,
          361,
          362,
          363,
          364,
          365,
          366,
          367,
          368,
          369,
          370,
          375,
          377,
          378,
          379,
          380,
          381,
          382,
          385,
          387,
          388,
          391,
          392,
          393,
          395,
          399,
          401,
          402,
          404,
          407,
          410,
          412,
          416,
          418,
          419,
          420,
          422,
          425,
          429,
          431,
          433,
          440,
          443,
          451,
          452,
          453,
          457,
          467,
          471,
          473,
          474,
          478,
          480,
          487,
          492,
          495,
          499,
          504,
          505,
          516,
          517,
          533,
          566,
          569,
          581,
          585,
          591,
          598,
          603,
          619,
          622,
          624,
          655,
          726,
          795,
          847,
          851,
          972,
          1022,
          1041,
          1063,
          1093,
          1102,
          1438,
          1527,
          2368,
          2560,
          3161
         ],
         "y": [
          1,
          1,
          1,
          3,
          3,
          1,
          3,
          1,
          4,
          4,
          7,
          7,
          12,
          14,
          13,
          9,
          13,
          13,
          18,
          20,
          31,
          25,
          20,
          32,
          51,
          26,
          42,
          49,
          50,
          44,
          63,
          65,
          73,
          74,
          70,
          78,
          73,
          90,
          97,
          97,
          89,
          108,
          106,
          130,
          103,
          119,
          127,
          103,
          109,
          119,
          134,
          123,
          143,
          116,
          129,
          132,
          107,
          118,
          116,
          117,
          124,
          109,
          137,
          106,
          106,
          104,
          97,
          138,
          104,
          101,
          90,
          104,
          101,
          108,
          100,
          101,
          107,
          90,
          88,
          80,
          92,
          87,
          81,
          86,
          97,
          87,
          78,
          80,
          85,
          78,
          72,
          85,
          77,
          65,
          66,
          65,
          48,
          67,
          60,
          71,
          78,
          68,
          68,
          65,
          52,
          57,
          59,
          65,
          49,
          54,
          53,
          57,
          45,
          49,
          78,
          60,
          52,
          45,
          46,
          59,
          54,
          40,
          55,
          43,
          45,
          62,
          51,
          50,
          51,
          46,
          53,
          46,
          43,
          41,
          51,
          41,
          73,
          42,
          54,
          41,
          41,
          35,
          46,
          43,
          38,
          43,
          54,
          53,
          54,
          33,
          37,
          35,
          44,
          26,
          41,
          40,
          36,
          36,
          34,
          23,
          41,
          34,
          34,
          44,
          29,
          27,
          37,
          30,
          28,
          30,
          21,
          33,
          32,
          26,
          34,
          20,
          24,
          26,
          17,
          20,
          28,
          26,
          32,
          28,
          17,
          20,
          19,
          24,
          22,
          18,
          19,
          15,
          21,
          24,
          18,
          16,
          14,
          13,
          13,
          25,
          19,
          13,
          12,
          17,
          12,
          21,
          10,
          10,
          16,
          15,
          12,
          6,
          12,
          15,
          7,
          16,
          16,
          12,
          15,
          7,
          4,
          12,
          11,
          8,
          3,
          8,
          8,
          5,
          12,
          3,
          6,
          5,
          3,
          6,
          8,
          13,
          11,
          6,
          4,
          2,
          6,
          3,
          7,
          6,
          4,
          7,
          3,
          3,
          7,
          7,
          5,
          3,
          7,
          10,
          2,
          6,
          5,
          7,
          5,
          6,
          5,
          6,
          3,
          5,
          4,
          5,
          3,
          3,
          2,
          4,
          3,
          1,
          5,
          3,
          5,
          4,
          4,
          4,
          2,
          3,
          3,
          3,
          6,
          5,
          1,
          3,
          2,
          2,
          4,
          3,
          2,
          2,
          4,
          5,
          3,
          3,
          3,
          7,
          4,
          5,
          1,
          4,
          3,
          3,
          1,
          4,
          1,
          2,
          1,
          4,
          2,
          1,
          2,
          2,
          4,
          1,
          2,
          3,
          1,
          1,
          1,
          1,
          4,
          4,
          2,
          2,
          2,
          1,
          2,
          1,
          2,
          1,
          1,
          1,
          5,
          2,
          1,
          3,
          1,
          1,
          1,
          1,
          1,
          2,
          1,
          1,
          1,
          1,
          1,
          2,
          3,
          2,
          2,
          4,
          1,
          2,
          2,
          2,
          2,
          1,
          1,
          1,
          2,
          2,
          1,
          2,
          4,
          3,
          2,
          1,
          1,
          1,
          2,
          2,
          1,
          1,
          2,
          1,
          2,
          1,
          1,
          1,
          1,
          2,
          1,
          1,
          1,
          1,
          1,
          1,
          1,
          1,
          1,
          1,
          1,
          1,
          1,
          1,
          1,
          2,
          1,
          1,
          1,
          1,
          1,
          1,
          1,
          1,
          1,
          1,
          1,
          1,
          1,
          1,
          1,
          1,
          1,
          1,
          1,
          1,
          1,
          1,
          1,
          1,
          1,
          1,
          1,
          1,
          1,
          1,
          1,
          1,
          1,
          1
         ]
        }
       ],
       "layout": {
        "template": {
         "data": {
          "bar": [
           {
            "error_x": {
             "color": "#2a3f5f"
            },
            "error_y": {
             "color": "#2a3f5f"
            },
            "marker": {
             "line": {
              "color": "#E5ECF6",
              "width": 0.5
             },
             "pattern": {
              "fillmode": "overlay",
              "size": 10,
              "solidity": 0.2
             }
            },
            "type": "bar"
           }
          ],
          "barpolar": [
           {
            "marker": {
             "line": {
              "color": "#E5ECF6",
              "width": 0.5
             },
             "pattern": {
              "fillmode": "overlay",
              "size": 10,
              "solidity": 0.2
             }
            },
            "type": "barpolar"
           }
          ],
          "carpet": [
           {
            "aaxis": {
             "endlinecolor": "#2a3f5f",
             "gridcolor": "white",
             "linecolor": "white",
             "minorgridcolor": "white",
             "startlinecolor": "#2a3f5f"
            },
            "baxis": {
             "endlinecolor": "#2a3f5f",
             "gridcolor": "white",
             "linecolor": "white",
             "minorgridcolor": "white",
             "startlinecolor": "#2a3f5f"
            },
            "type": "carpet"
           }
          ],
          "choropleth": [
           {
            "colorbar": {
             "outlinewidth": 0,
             "ticks": ""
            },
            "type": "choropleth"
           }
          ],
          "contour": [
           {
            "colorbar": {
             "outlinewidth": 0,
             "ticks": ""
            },
            "colorscale": [
             [
              0,
              "#0d0887"
             ],
             [
              0.1111111111111111,
              "#46039f"
             ],
             [
              0.2222222222222222,
              "#7201a8"
             ],
             [
              0.3333333333333333,
              "#9c179e"
             ],
             [
              0.4444444444444444,
              "#bd3786"
             ],
             [
              0.5555555555555556,
              "#d8576b"
             ],
             [
              0.6666666666666666,
              "#ed7953"
             ],
             [
              0.7777777777777778,
              "#fb9f3a"
             ],
             [
              0.8888888888888888,
              "#fdca26"
             ],
             [
              1,
              "#f0f921"
             ]
            ],
            "type": "contour"
           }
          ],
          "contourcarpet": [
           {
            "colorbar": {
             "outlinewidth": 0,
             "ticks": ""
            },
            "type": "contourcarpet"
           }
          ],
          "heatmap": [
           {
            "colorbar": {
             "outlinewidth": 0,
             "ticks": ""
            },
            "colorscale": [
             [
              0,
              "#0d0887"
             ],
             [
              0.1111111111111111,
              "#46039f"
             ],
             [
              0.2222222222222222,
              "#7201a8"
             ],
             [
              0.3333333333333333,
              "#9c179e"
             ],
             [
              0.4444444444444444,
              "#bd3786"
             ],
             [
              0.5555555555555556,
              "#d8576b"
             ],
             [
              0.6666666666666666,
              "#ed7953"
             ],
             [
              0.7777777777777778,
              "#fb9f3a"
             ],
             [
              0.8888888888888888,
              "#fdca26"
             ],
             [
              1,
              "#f0f921"
             ]
            ],
            "type": "heatmap"
           }
          ],
          "heatmapgl": [
           {
            "colorbar": {
             "outlinewidth": 0,
             "ticks": ""
            },
            "colorscale": [
             [
              0,
              "#0d0887"
             ],
             [
              0.1111111111111111,
              "#46039f"
             ],
             [
              0.2222222222222222,
              "#7201a8"
             ],
             [
              0.3333333333333333,
              "#9c179e"
             ],
             [
              0.4444444444444444,
              "#bd3786"
             ],
             [
              0.5555555555555556,
              "#d8576b"
             ],
             [
              0.6666666666666666,
              "#ed7953"
             ],
             [
              0.7777777777777778,
              "#fb9f3a"
             ],
             [
              0.8888888888888888,
              "#fdca26"
             ],
             [
              1,
              "#f0f921"
             ]
            ],
            "type": "heatmapgl"
           }
          ],
          "histogram": [
           {
            "marker": {
             "pattern": {
              "fillmode": "overlay",
              "size": 10,
              "solidity": 0.2
             }
            },
            "type": "histogram"
           }
          ],
          "histogram2d": [
           {
            "colorbar": {
             "outlinewidth": 0,
             "ticks": ""
            },
            "colorscale": [
             [
              0,
              "#0d0887"
             ],
             [
              0.1111111111111111,
              "#46039f"
             ],
             [
              0.2222222222222222,
              "#7201a8"
             ],
             [
              0.3333333333333333,
              "#9c179e"
             ],
             [
              0.4444444444444444,
              "#bd3786"
             ],
             [
              0.5555555555555556,
              "#d8576b"
             ],
             [
              0.6666666666666666,
              "#ed7953"
             ],
             [
              0.7777777777777778,
              "#fb9f3a"
             ],
             [
              0.8888888888888888,
              "#fdca26"
             ],
             [
              1,
              "#f0f921"
             ]
            ],
            "type": "histogram2d"
           }
          ],
          "histogram2dcontour": [
           {
            "colorbar": {
             "outlinewidth": 0,
             "ticks": ""
            },
            "colorscale": [
             [
              0,
              "#0d0887"
             ],
             [
              0.1111111111111111,
              "#46039f"
             ],
             [
              0.2222222222222222,
              "#7201a8"
             ],
             [
              0.3333333333333333,
              "#9c179e"
             ],
             [
              0.4444444444444444,
              "#bd3786"
             ],
             [
              0.5555555555555556,
              "#d8576b"
             ],
             [
              0.6666666666666666,
              "#ed7953"
             ],
             [
              0.7777777777777778,
              "#fb9f3a"
             ],
             [
              0.8888888888888888,
              "#fdca26"
             ],
             [
              1,
              "#f0f921"
             ]
            ],
            "type": "histogram2dcontour"
           }
          ],
          "mesh3d": [
           {
            "colorbar": {
             "outlinewidth": 0,
             "ticks": ""
            },
            "type": "mesh3d"
           }
          ],
          "parcoords": [
           {
            "line": {
             "colorbar": {
              "outlinewidth": 0,
              "ticks": ""
             }
            },
            "type": "parcoords"
           }
          ],
          "pie": [
           {
            "automargin": true,
            "type": "pie"
           }
          ],
          "scatter": [
           {
            "fillpattern": {
             "fillmode": "overlay",
             "size": 10,
             "solidity": 0.2
            },
            "type": "scatter"
           }
          ],
          "scatter3d": [
           {
            "line": {
             "colorbar": {
              "outlinewidth": 0,
              "ticks": ""
             }
            },
            "marker": {
             "colorbar": {
              "outlinewidth": 0,
              "ticks": ""
             }
            },
            "type": "scatter3d"
           }
          ],
          "scattercarpet": [
           {
            "marker": {
             "colorbar": {
              "outlinewidth": 0,
              "ticks": ""
             }
            },
            "type": "scattercarpet"
           }
          ],
          "scattergeo": [
           {
            "marker": {
             "colorbar": {
              "outlinewidth": 0,
              "ticks": ""
             }
            },
            "type": "scattergeo"
           }
          ],
          "scattergl": [
           {
            "marker": {
             "colorbar": {
              "outlinewidth": 0,
              "ticks": ""
             }
            },
            "type": "scattergl"
           }
          ],
          "scattermapbox": [
           {
            "marker": {
             "colorbar": {
              "outlinewidth": 0,
              "ticks": ""
             }
            },
            "type": "scattermapbox"
           }
          ],
          "scatterpolar": [
           {
            "marker": {
             "colorbar": {
              "outlinewidth": 0,
              "ticks": ""
             }
            },
            "type": "scatterpolar"
           }
          ],
          "scatterpolargl": [
           {
            "marker": {
             "colorbar": {
              "outlinewidth": 0,
              "ticks": ""
             }
            },
            "type": "scatterpolargl"
           }
          ],
          "scatterternary": [
           {
            "marker": {
             "colorbar": {
              "outlinewidth": 0,
              "ticks": ""
             }
            },
            "type": "scatterternary"
           }
          ],
          "surface": [
           {
            "colorbar": {
             "outlinewidth": 0,
             "ticks": ""
            },
            "colorscale": [
             [
              0,
              "#0d0887"
             ],
             [
              0.1111111111111111,
              "#46039f"
             ],
             [
              0.2222222222222222,
              "#7201a8"
             ],
             [
              0.3333333333333333,
              "#9c179e"
             ],
             [
              0.4444444444444444,
              "#bd3786"
             ],
             [
              0.5555555555555556,
              "#d8576b"
             ],
             [
              0.6666666666666666,
              "#ed7953"
             ],
             [
              0.7777777777777778,
              "#fb9f3a"
             ],
             [
              0.8888888888888888,
              "#fdca26"
             ],
             [
              1,
              "#f0f921"
             ]
            ],
            "type": "surface"
           }
          ],
          "table": [
           {
            "cells": {
             "fill": {
              "color": "#EBF0F8"
             },
             "line": {
              "color": "white"
             }
            },
            "header": {
             "fill": {
              "color": "#C8D4E3"
             },
             "line": {
              "color": "white"
             }
            },
            "type": "table"
           }
          ]
         },
         "layout": {
          "annotationdefaults": {
           "arrowcolor": "#2a3f5f",
           "arrowhead": 0,
           "arrowwidth": 1
          },
          "autotypenumbers": "strict",
          "coloraxis": {
           "colorbar": {
            "outlinewidth": 0,
            "ticks": ""
           }
          },
          "colorscale": {
           "diverging": [
            [
             0,
             "#8e0152"
            ],
            [
             0.1,
             "#c51b7d"
            ],
            [
             0.2,
             "#de77ae"
            ],
            [
             0.3,
             "#f1b6da"
            ],
            [
             0.4,
             "#fde0ef"
            ],
            [
             0.5,
             "#f7f7f7"
            ],
            [
             0.6,
             "#e6f5d0"
            ],
            [
             0.7,
             "#b8e186"
            ],
            [
             0.8,
             "#7fbc41"
            ],
            [
             0.9,
             "#4d9221"
            ],
            [
             1,
             "#276419"
            ]
           ],
           "sequential": [
            [
             0,
             "#0d0887"
            ],
            [
             0.1111111111111111,
             "#46039f"
            ],
            [
             0.2222222222222222,
             "#7201a8"
            ],
            [
             0.3333333333333333,
             "#9c179e"
            ],
            [
             0.4444444444444444,
             "#bd3786"
            ],
            [
             0.5555555555555556,
             "#d8576b"
            ],
            [
             0.6666666666666666,
             "#ed7953"
            ],
            [
             0.7777777777777778,
             "#fb9f3a"
            ],
            [
             0.8888888888888888,
             "#fdca26"
            ],
            [
             1,
             "#f0f921"
            ]
           ],
           "sequentialminus": [
            [
             0,
             "#0d0887"
            ],
            [
             0.1111111111111111,
             "#46039f"
            ],
            [
             0.2222222222222222,
             "#7201a8"
            ],
            [
             0.3333333333333333,
             "#9c179e"
            ],
            [
             0.4444444444444444,
             "#bd3786"
            ],
            [
             0.5555555555555556,
             "#d8576b"
            ],
            [
             0.6666666666666666,
             "#ed7953"
            ],
            [
             0.7777777777777778,
             "#fb9f3a"
            ],
            [
             0.8888888888888888,
             "#fdca26"
            ],
            [
             1,
             "#f0f921"
            ]
           ]
          },
          "colorway": [
           "#636efa",
           "#EF553B",
           "#00cc96",
           "#ab63fa",
           "#FFA15A",
           "#19d3f3",
           "#FF6692",
           "#B6E880",
           "#FF97FF",
           "#FECB52"
          ],
          "font": {
           "color": "#2a3f5f"
          },
          "geo": {
           "bgcolor": "white",
           "lakecolor": "white",
           "landcolor": "#E5ECF6",
           "showlakes": true,
           "showland": true,
           "subunitcolor": "white"
          },
          "hoverlabel": {
           "align": "left"
          },
          "hovermode": "closest",
          "mapbox": {
           "style": "light"
          },
          "paper_bgcolor": "white",
          "plot_bgcolor": "#E5ECF6",
          "polar": {
           "angularaxis": {
            "gridcolor": "white",
            "linecolor": "white",
            "ticks": ""
           },
           "bgcolor": "#E5ECF6",
           "radialaxis": {
            "gridcolor": "white",
            "linecolor": "white",
            "ticks": ""
           }
          },
          "scene": {
           "xaxis": {
            "backgroundcolor": "#E5ECF6",
            "gridcolor": "white",
            "gridwidth": 2,
            "linecolor": "white",
            "showbackground": true,
            "ticks": "",
            "zerolinecolor": "white"
           },
           "yaxis": {
            "backgroundcolor": "#E5ECF6",
            "gridcolor": "white",
            "gridwidth": 2,
            "linecolor": "white",
            "showbackground": true,
            "ticks": "",
            "zerolinecolor": "white"
           },
           "zaxis": {
            "backgroundcolor": "#E5ECF6",
            "gridcolor": "white",
            "gridwidth": 2,
            "linecolor": "white",
            "showbackground": true,
            "ticks": "",
            "zerolinecolor": "white"
           }
          },
          "shapedefaults": {
           "line": {
            "color": "#2a3f5f"
           }
          },
          "ternary": {
           "aaxis": {
            "gridcolor": "white",
            "linecolor": "white",
            "ticks": ""
           },
           "baxis": {
            "gridcolor": "white",
            "linecolor": "white",
            "ticks": ""
           },
           "bgcolor": "#E5ECF6",
           "caxis": {
            "gridcolor": "white",
            "linecolor": "white",
            "ticks": ""
           }
          },
          "title": {
           "x": 0.05
          },
          "xaxis": {
           "automargin": true,
           "gridcolor": "white",
           "linecolor": "white",
           "ticks": "",
           "title": {
            "standoff": 15
           },
           "zerolinecolor": "white",
           "zerolinewidth": 2
          },
          "yaxis": {
           "automargin": true,
           "gridcolor": "white",
           "linecolor": "white",
           "ticks": "",
           "title": {
            "standoff": 15
           },
           "zerolinecolor": "white",
           "zerolinewidth": 2
          }
         }
        },
        "title": {
         "text": "Data Distribution"
        },
        "xaxis": {
         "title": {
          "text": "Unique Values"
         },
         "type": "category"
        },
        "yaxis": {
         "title": {
          "text": "Frequency"
         }
        }
       }
      }
     },
     "metadata": {},
     "output_type": "display_data"
    },
    {
     "name": "stdout",
     "output_type": "stream",
     "text": [
      "The mean of the data distribution is 105.08958009331259 and the standard deviation is 85.14467095781269\n"
     ]
    }
   ],
   "source": [
    "plot_data_distribution(y)"
   ]
  },
  {
   "cell_type": "code",
   "execution_count": 46,
   "metadata": {},
   "outputs": [],
   "source": [
    "# Create a DataFrame with the test and pred values\n",
    "df = pd.DataFrame({'Test': y_test, 'Pred': y_pred_mlp})\n",
    "\n",
    "# Save the DataFrame to a CSV file\n",
    "df.to_csv('mlp_test_pred.csv', index=False)"
   ]
  },
  {
   "cell_type": "code",
   "execution_count": 47,
   "metadata": {},
   "outputs": [],
   "source": [
    "# split data into different bins, one for data below y <= 250 and one for data y > 250.\n",
    "# then, for bin y <= 250, split into test and train sets. do the same for bin y > 250.\n",
    "# train 2 different MLP models based on MLP regressor module. graph out the results after all this.\n",
    "\n",
    "# X, Y are the full data set\n",
    "\n",
    "# splitting the data into bins of y <=250 and y > 250\n",
    "\n",
    "# print(X.shape, Y.shape)\n",
    "\n",
    "# print(Y <= 250)\n",
    "\n",
    "X_bin_1 = X[Y.values <= 250]\n",
    "Y_bin_1 = Y[Y.values <= 250]\n",
    "\n",
    "X_bin_2 = X[Y.values > 250]\n",
    "Y_bin_2 = Y[Y.values > 250]\n",
    "\n",
    "# splitting the data into test and train sets\n",
    "X_bin_1_train, X_bin_1_test, Y_bin_1_train, Y_bin_1_test = train_test_split(X_bin_1, Y_bin_1, test_size=0.2, random_state=42)\n",
    "X_bin_2_train, X_bin_2_test, Y_bin_2_train, Y_bin_2_test = train_test_split(X_bin_2, Y_bin_2, test_size=0.2, random_state=42)\n",
    "\n",
    "# training the MLP models\n",
    "mlp_regressor_bin_1 = MLPRegressor(input_size, hidden_size).to(device)\n",
    "mlp_regressor_bin_2 = MLPRegressor(input_size, hidden_size).to(device)\n",
    "\n",
    "# optimizers for both the bins\n",
    "optimizer_bin_1 = torch.optim.Adam(mlp_regressor_bin_1.parameters(), lr=0.001, weight_decay=1e-5)\n",
    "optimizer_bin_2 = torch.optim.Adam(mlp_regressor_bin_2.parameters(), lr=0.001, weight_decay=1e-5)"
   ]
  },
  {
   "cell_type": "code",
   "execution_count": 48,
   "metadata": {},
   "outputs": [
    {
     "name": "stdout",
     "output_type": "stream",
     "text": [
      "Epoch [10/4000], Loss: 34.1779\n",
      "Epoch [20/4000], Loss: 12.2959\n",
      "Epoch [30/4000], Loss: 4.6517\n",
      "Epoch [40/4000], Loss: 2.5030\n",
      "Epoch [50/4000], Loss: 2.4426\n",
      "Epoch [60/4000], Loss: 2.1561\n",
      "Epoch [70/4000], Loss: 1.8938\n",
      "Epoch [80/4000], Loss: 1.8980\n",
      "Epoch [90/4000], Loss: 1.6426\n",
      "Epoch [100/4000], Loss: 2.1490\n",
      "Epoch [110/4000], Loss: 1.8051\n",
      "Epoch [120/4000], Loss: 1.3986\n",
      "Epoch [130/4000], Loss: 1.7700\n",
      "Epoch [140/4000], Loss: 1.7710\n",
      "Epoch [150/4000], Loss: 1.2971\n",
      "Epoch [160/4000], Loss: 1.4671\n",
      "Epoch [170/4000], Loss: 1.5310\n",
      "Epoch [180/4000], Loss: 1.7865\n",
      "Epoch [190/4000], Loss: 1.3530\n",
      "Epoch [200/4000], Loss: 1.4985\n"
     ]
    },
    {
     "ename": "KeyboardInterrupt",
     "evalue": "",
     "output_type": "error",
     "traceback": [
      "\u001b[0;31m---------------------------------------------------------------------------\u001b[0m",
      "\u001b[0;31mKeyboardInterrupt\u001b[0m                         Traceback (most recent call last)",
      "Cell \u001b[0;32mIn[48], line 8\u001b[0m\n\u001b[1;32m      1\u001b[0m \u001b[38;5;66;03m# print(mlp_regressor_bin_1)\u001b[39;00m\n\u001b[1;32m      2\u001b[0m \u001b[38;5;66;03m# for x in X_bin_1_train.values:\u001b[39;00m\n\u001b[1;32m      3\u001b[0m \u001b[38;5;66;03m#     for i in x:\u001b[39;00m\n\u001b[1;32m      4\u001b[0m \u001b[38;5;66;03m#         print(i, end=' ')\u001b[39;00m\n\u001b[1;32m      5\u001b[0m \u001b[38;5;66;03m#     print(\"\")\u001b[39;00m\n\u001b[1;32m      6\u001b[0m \u001b[38;5;66;03m# print(Y_bin_1_train.values)\u001b[39;00m\n\u001b[0;32m----> 8\u001b[0m \u001b[43mtrain_mlp_regressor\u001b[49m\u001b[43m(\u001b[49m\u001b[43mmlp_regressor_bin_1\u001b[49m\u001b[43m,\u001b[49m\u001b[43m \u001b[49m\u001b[43moptimizer_bin_1\u001b[49m\u001b[43m,\u001b[49m\u001b[43m \u001b[49m\u001b[43mepochs\u001b[49m\u001b[38;5;241;43m=\u001b[39;49m\u001b[38;5;241;43m4000\u001b[39;49m\u001b[43m,\u001b[49m\u001b[43m \u001b[49m\u001b[43mbatch_size\u001b[49m\u001b[38;5;241;43m=\u001b[39;49m\u001b[38;5;241;43m500\u001b[39;49m\u001b[43m,\u001b[49m\u001b[43m \u001b[49m\u001b[43mX_train\u001b[49m\u001b[38;5;241;43m=\u001b[39;49m\u001b[43mX_bin_1_train\u001b[49m\u001b[38;5;241;43m.\u001b[39;49m\u001b[43mvalues\u001b[49m\u001b[43m \u001b[49m\u001b[38;5;28;43;01mif\u001b[39;49;00m\u001b[43m \u001b[49m\u001b[38;5;28;43misinstance\u001b[39;49m\u001b[43m(\u001b[49m\u001b[43mX_bin_1_train\u001b[49m\u001b[43m,\u001b[49m\u001b[43m \u001b[49m\u001b[43mpd\u001b[49m\u001b[38;5;241;43m.\u001b[39;49m\u001b[43mDataFrame\u001b[49m\u001b[43m)\u001b[49m\u001b[43m \u001b[49m\u001b[38;5;28;43;01melse\u001b[39;49;00m\u001b[43m \u001b[49m\u001b[43mX_bin_1_train\u001b[49m\u001b[43m,\u001b[49m\u001b[43m \u001b[49m\u001b[43mY_train\u001b[49m\u001b[38;5;241;43m=\u001b[39;49m\u001b[43mnp\u001b[49m\u001b[38;5;241;43m.\u001b[39;49m\u001b[43marray\u001b[49m\u001b[43m(\u001b[49m\u001b[43mY_bin_1_train\u001b[49m\u001b[43m)\u001b[49m\u001b[38;5;241;43m.\u001b[39;49m\u001b[43mreshape\u001b[49m\u001b[43m(\u001b[49m\u001b[38;5;241;43m-\u001b[39;49m\u001b[38;5;241;43m1\u001b[39;49m\u001b[43m,\u001b[49m\u001b[43m \u001b[49m\u001b[38;5;241;43m1\u001b[39;49m\u001b[43m)\u001b[49m\u001b[43m)\u001b[49m\n",
      "Cell \u001b[0;32mIn[41], line 65\u001b[0m, in \u001b[0;36mtrain_mlp_regressor\u001b[0;34m(regressor, optimizer, epochs, batch_size, X_train, Y_train)\u001b[0m\n\u001b[1;32m     63\u001b[0m     optimizer\u001b[38;5;241m.\u001b[39mzero_grad()\n\u001b[1;32m     64\u001b[0m     loss\u001b[38;5;241m.\u001b[39mbackward()\n\u001b[0;32m---> 65\u001b[0m     \u001b[43moptimizer\u001b[49m\u001b[38;5;241;43m.\u001b[39;49m\u001b[43mstep\u001b[49m\u001b[43m(\u001b[49m\u001b[43m)\u001b[49m\n\u001b[1;32m     67\u001b[0m \u001b[38;5;28;01mif\u001b[39;00m (epoch \u001b[38;5;241m+\u001b[39m \u001b[38;5;241m1\u001b[39m) \u001b[38;5;241m%\u001b[39m \u001b[38;5;241m10\u001b[39m \u001b[38;5;241m==\u001b[39m \u001b[38;5;241m0\u001b[39m:\n\u001b[1;32m     68\u001b[0m     \u001b[38;5;28mprint\u001b[39m(\u001b[38;5;124mf\u001b[39m\u001b[38;5;124m'\u001b[39m\u001b[38;5;124mEpoch [\u001b[39m\u001b[38;5;132;01m{\u001b[39;00mepoch\u001b[38;5;241m+\u001b[39m\u001b[38;5;241m1\u001b[39m\u001b[38;5;132;01m}\u001b[39;00m\u001b[38;5;124m/\u001b[39m\u001b[38;5;132;01m{\u001b[39;00mepochs\u001b[38;5;132;01m}\u001b[39;00m\u001b[38;5;124m], Loss: \u001b[39m\u001b[38;5;132;01m{\u001b[39;00mloss\u001b[38;5;241m.\u001b[39mitem()\u001b[38;5;132;01m:\u001b[39;00m\u001b[38;5;124m.4f\u001b[39m\u001b[38;5;132;01m}\u001b[39;00m\u001b[38;5;124m'\u001b[39m)\n",
      "File \u001b[0;32m~/miniconda3/envs/kasturi_ml_project/lib/python3.10/site-packages/torch/optim/optimizer.py:373\u001b[0m, in \u001b[0;36mOptimizer.profile_hook_step.<locals>.wrapper\u001b[0;34m(*args, **kwargs)\u001b[0m\n\u001b[1;32m    368\u001b[0m         \u001b[38;5;28;01melse\u001b[39;00m:\n\u001b[1;32m    369\u001b[0m             \u001b[38;5;28;01mraise\u001b[39;00m \u001b[38;5;167;01mRuntimeError\u001b[39;00m(\n\u001b[1;32m    370\u001b[0m                 \u001b[38;5;124mf\u001b[39m\u001b[38;5;124m\"\u001b[39m\u001b[38;5;132;01m{\u001b[39;00mfunc\u001b[38;5;132;01m}\u001b[39;00m\u001b[38;5;124m must return None or a tuple of (new_args, new_kwargs), but got \u001b[39m\u001b[38;5;132;01m{\u001b[39;00mresult\u001b[38;5;132;01m}\u001b[39;00m\u001b[38;5;124m.\u001b[39m\u001b[38;5;124m\"\u001b[39m\n\u001b[1;32m    371\u001b[0m             )\n\u001b[0;32m--> 373\u001b[0m out \u001b[38;5;241m=\u001b[39m \u001b[43mfunc\u001b[49m\u001b[43m(\u001b[49m\u001b[38;5;241;43m*\u001b[39;49m\u001b[43margs\u001b[49m\u001b[43m,\u001b[49m\u001b[43m \u001b[49m\u001b[38;5;241;43m*\u001b[39;49m\u001b[38;5;241;43m*\u001b[39;49m\u001b[43mkwargs\u001b[49m\u001b[43m)\u001b[49m\n\u001b[1;32m    374\u001b[0m \u001b[38;5;28mself\u001b[39m\u001b[38;5;241m.\u001b[39m_optimizer_step_code()\n\u001b[1;32m    376\u001b[0m \u001b[38;5;66;03m# call optimizer step post hooks\u001b[39;00m\n",
      "File \u001b[0;32m~/miniconda3/envs/kasturi_ml_project/lib/python3.10/site-packages/torch/optim/optimizer.py:76\u001b[0m, in \u001b[0;36m_use_grad_for_differentiable.<locals>._use_grad\u001b[0;34m(self, *args, **kwargs)\u001b[0m\n\u001b[1;32m     74\u001b[0m     torch\u001b[38;5;241m.\u001b[39mset_grad_enabled(\u001b[38;5;28mself\u001b[39m\u001b[38;5;241m.\u001b[39mdefaults[\u001b[38;5;124m'\u001b[39m\u001b[38;5;124mdifferentiable\u001b[39m\u001b[38;5;124m'\u001b[39m])\n\u001b[1;32m     75\u001b[0m     torch\u001b[38;5;241m.\u001b[39m_dynamo\u001b[38;5;241m.\u001b[39mgraph_break()\n\u001b[0;32m---> 76\u001b[0m     ret \u001b[38;5;241m=\u001b[39m \u001b[43mfunc\u001b[49m\u001b[43m(\u001b[49m\u001b[38;5;28;43mself\u001b[39;49m\u001b[43m,\u001b[49m\u001b[43m \u001b[49m\u001b[38;5;241;43m*\u001b[39;49m\u001b[43margs\u001b[49m\u001b[43m,\u001b[49m\u001b[43m \u001b[49m\u001b[38;5;241;43m*\u001b[39;49m\u001b[38;5;241;43m*\u001b[39;49m\u001b[43mkwargs\u001b[49m\u001b[43m)\u001b[49m\n\u001b[1;32m     77\u001b[0m \u001b[38;5;28;01mfinally\u001b[39;00m:\n\u001b[1;32m     78\u001b[0m     torch\u001b[38;5;241m.\u001b[39m_dynamo\u001b[38;5;241m.\u001b[39mgraph_break()\n",
      "File \u001b[0;32m~/miniconda3/envs/kasturi_ml_project/lib/python3.10/site-packages/torch/optim/adam.py:163\u001b[0m, in \u001b[0;36mAdam.step\u001b[0;34m(self, closure)\u001b[0m\n\u001b[1;32m    152\u001b[0m     beta1, beta2 \u001b[38;5;241m=\u001b[39m group[\u001b[38;5;124m'\u001b[39m\u001b[38;5;124mbetas\u001b[39m\u001b[38;5;124m'\u001b[39m]\n\u001b[1;32m    154\u001b[0m     \u001b[38;5;28mself\u001b[39m\u001b[38;5;241m.\u001b[39m_init_group(\n\u001b[1;32m    155\u001b[0m         group,\n\u001b[1;32m    156\u001b[0m         params_with_grad,\n\u001b[0;32m   (...)\u001b[0m\n\u001b[1;32m    160\u001b[0m         max_exp_avg_sqs,\n\u001b[1;32m    161\u001b[0m         state_steps)\n\u001b[0;32m--> 163\u001b[0m     \u001b[43madam\u001b[49m\u001b[43m(\u001b[49m\n\u001b[1;32m    164\u001b[0m \u001b[43m        \u001b[49m\u001b[43mparams_with_grad\u001b[49m\u001b[43m,\u001b[49m\n\u001b[1;32m    165\u001b[0m \u001b[43m        \u001b[49m\u001b[43mgrads\u001b[49m\u001b[43m,\u001b[49m\n\u001b[1;32m    166\u001b[0m \u001b[43m        \u001b[49m\u001b[43mexp_avgs\u001b[49m\u001b[43m,\u001b[49m\n\u001b[1;32m    167\u001b[0m \u001b[43m        \u001b[49m\u001b[43mexp_avg_sqs\u001b[49m\u001b[43m,\u001b[49m\n\u001b[1;32m    168\u001b[0m \u001b[43m        \u001b[49m\u001b[43mmax_exp_avg_sqs\u001b[49m\u001b[43m,\u001b[49m\n\u001b[1;32m    169\u001b[0m \u001b[43m        \u001b[49m\u001b[43mstate_steps\u001b[49m\u001b[43m,\u001b[49m\n\u001b[1;32m    170\u001b[0m \u001b[43m        \u001b[49m\u001b[43mamsgrad\u001b[49m\u001b[38;5;241;43m=\u001b[39;49m\u001b[43mgroup\u001b[49m\u001b[43m[\u001b[49m\u001b[38;5;124;43m'\u001b[39;49m\u001b[38;5;124;43mamsgrad\u001b[39;49m\u001b[38;5;124;43m'\u001b[39;49m\u001b[43m]\u001b[49m\u001b[43m,\u001b[49m\n\u001b[1;32m    171\u001b[0m \u001b[43m        \u001b[49m\u001b[43mbeta1\u001b[49m\u001b[38;5;241;43m=\u001b[39;49m\u001b[43mbeta1\u001b[49m\u001b[43m,\u001b[49m\n\u001b[1;32m    172\u001b[0m \u001b[43m        \u001b[49m\u001b[43mbeta2\u001b[49m\u001b[38;5;241;43m=\u001b[39;49m\u001b[43mbeta2\u001b[49m\u001b[43m,\u001b[49m\n\u001b[1;32m    173\u001b[0m \u001b[43m        \u001b[49m\u001b[43mlr\u001b[49m\u001b[38;5;241;43m=\u001b[39;49m\u001b[43mgroup\u001b[49m\u001b[43m[\u001b[49m\u001b[38;5;124;43m'\u001b[39;49m\u001b[38;5;124;43mlr\u001b[39;49m\u001b[38;5;124;43m'\u001b[39;49m\u001b[43m]\u001b[49m\u001b[43m,\u001b[49m\n\u001b[1;32m    174\u001b[0m \u001b[43m        \u001b[49m\u001b[43mweight_decay\u001b[49m\u001b[38;5;241;43m=\u001b[39;49m\u001b[43mgroup\u001b[49m\u001b[43m[\u001b[49m\u001b[38;5;124;43m'\u001b[39;49m\u001b[38;5;124;43mweight_decay\u001b[39;49m\u001b[38;5;124;43m'\u001b[39;49m\u001b[43m]\u001b[49m\u001b[43m,\u001b[49m\n\u001b[1;32m    175\u001b[0m \u001b[43m        \u001b[49m\u001b[43meps\u001b[49m\u001b[38;5;241;43m=\u001b[39;49m\u001b[43mgroup\u001b[49m\u001b[43m[\u001b[49m\u001b[38;5;124;43m'\u001b[39;49m\u001b[38;5;124;43meps\u001b[39;49m\u001b[38;5;124;43m'\u001b[39;49m\u001b[43m]\u001b[49m\u001b[43m,\u001b[49m\n\u001b[1;32m    176\u001b[0m \u001b[43m        \u001b[49m\u001b[43mmaximize\u001b[49m\u001b[38;5;241;43m=\u001b[39;49m\u001b[43mgroup\u001b[49m\u001b[43m[\u001b[49m\u001b[38;5;124;43m'\u001b[39;49m\u001b[38;5;124;43mmaximize\u001b[39;49m\u001b[38;5;124;43m'\u001b[39;49m\u001b[43m]\u001b[49m\u001b[43m,\u001b[49m\n\u001b[1;32m    177\u001b[0m \u001b[43m        \u001b[49m\u001b[43mforeach\u001b[49m\u001b[38;5;241;43m=\u001b[39;49m\u001b[43mgroup\u001b[49m\u001b[43m[\u001b[49m\u001b[38;5;124;43m'\u001b[39;49m\u001b[38;5;124;43mforeach\u001b[39;49m\u001b[38;5;124;43m'\u001b[39;49m\u001b[43m]\u001b[49m\u001b[43m,\u001b[49m\n\u001b[1;32m    178\u001b[0m \u001b[43m        \u001b[49m\u001b[43mcapturable\u001b[49m\u001b[38;5;241;43m=\u001b[39;49m\u001b[43mgroup\u001b[49m\u001b[43m[\u001b[49m\u001b[38;5;124;43m'\u001b[39;49m\u001b[38;5;124;43mcapturable\u001b[39;49m\u001b[38;5;124;43m'\u001b[39;49m\u001b[43m]\u001b[49m\u001b[43m,\u001b[49m\n\u001b[1;32m    179\u001b[0m \u001b[43m        \u001b[49m\u001b[43mdifferentiable\u001b[49m\u001b[38;5;241;43m=\u001b[39;49m\u001b[43mgroup\u001b[49m\u001b[43m[\u001b[49m\u001b[38;5;124;43m'\u001b[39;49m\u001b[38;5;124;43mdifferentiable\u001b[39;49m\u001b[38;5;124;43m'\u001b[39;49m\u001b[43m]\u001b[49m\u001b[43m,\u001b[49m\n\u001b[1;32m    180\u001b[0m \u001b[43m        \u001b[49m\u001b[43mfused\u001b[49m\u001b[38;5;241;43m=\u001b[39;49m\u001b[43mgroup\u001b[49m\u001b[43m[\u001b[49m\u001b[38;5;124;43m'\u001b[39;49m\u001b[38;5;124;43mfused\u001b[39;49m\u001b[38;5;124;43m'\u001b[39;49m\u001b[43m]\u001b[49m\u001b[43m,\u001b[49m\n\u001b[1;32m    181\u001b[0m \u001b[43m        \u001b[49m\u001b[43mgrad_scale\u001b[49m\u001b[38;5;241;43m=\u001b[39;49m\u001b[38;5;28;43mgetattr\u001b[39;49m\u001b[43m(\u001b[49m\u001b[38;5;28;43mself\u001b[39;49m\u001b[43m,\u001b[49m\u001b[43m \u001b[49m\u001b[38;5;124;43m\"\u001b[39;49m\u001b[38;5;124;43mgrad_scale\u001b[39;49m\u001b[38;5;124;43m\"\u001b[39;49m\u001b[43m,\u001b[49m\u001b[43m \u001b[49m\u001b[38;5;28;43;01mNone\u001b[39;49;00m\u001b[43m)\u001b[49m\u001b[43m,\u001b[49m\n\u001b[1;32m    182\u001b[0m \u001b[43m        \u001b[49m\u001b[43mfound_inf\u001b[49m\u001b[38;5;241;43m=\u001b[39;49m\u001b[38;5;28;43mgetattr\u001b[39;49m\u001b[43m(\u001b[49m\u001b[38;5;28;43mself\u001b[39;49m\u001b[43m,\u001b[49m\u001b[43m \u001b[49m\u001b[38;5;124;43m\"\u001b[39;49m\u001b[38;5;124;43mfound_inf\u001b[39;49m\u001b[38;5;124;43m\"\u001b[39;49m\u001b[43m,\u001b[49m\u001b[43m \u001b[49m\u001b[38;5;28;43;01mNone\u001b[39;49;00m\u001b[43m)\u001b[49m\u001b[43m,\u001b[49m\n\u001b[1;32m    183\u001b[0m \u001b[43m    \u001b[49m\u001b[43m)\u001b[49m\n\u001b[1;32m    185\u001b[0m \u001b[38;5;28;01mreturn\u001b[39;00m loss\n",
      "File \u001b[0;32m~/miniconda3/envs/kasturi_ml_project/lib/python3.10/site-packages/torch/optim/adam.py:311\u001b[0m, in \u001b[0;36madam\u001b[0;34m(params, grads, exp_avgs, exp_avg_sqs, max_exp_avg_sqs, state_steps, foreach, capturable, differentiable, fused, grad_scale, found_inf, amsgrad, beta1, beta2, lr, weight_decay, eps, maximize)\u001b[0m\n\u001b[1;32m    308\u001b[0m \u001b[38;5;28;01melse\u001b[39;00m:\n\u001b[1;32m    309\u001b[0m     func \u001b[38;5;241m=\u001b[39m _single_tensor_adam\n\u001b[0;32m--> 311\u001b[0m \u001b[43mfunc\u001b[49m\u001b[43m(\u001b[49m\u001b[43mparams\u001b[49m\u001b[43m,\u001b[49m\n\u001b[1;32m    312\u001b[0m \u001b[43m     \u001b[49m\u001b[43mgrads\u001b[49m\u001b[43m,\u001b[49m\n\u001b[1;32m    313\u001b[0m \u001b[43m     \u001b[49m\u001b[43mexp_avgs\u001b[49m\u001b[43m,\u001b[49m\n\u001b[1;32m    314\u001b[0m \u001b[43m     \u001b[49m\u001b[43mexp_avg_sqs\u001b[49m\u001b[43m,\u001b[49m\n\u001b[1;32m    315\u001b[0m \u001b[43m     \u001b[49m\u001b[43mmax_exp_avg_sqs\u001b[49m\u001b[43m,\u001b[49m\n\u001b[1;32m    316\u001b[0m \u001b[43m     \u001b[49m\u001b[43mstate_steps\u001b[49m\u001b[43m,\u001b[49m\n\u001b[1;32m    317\u001b[0m \u001b[43m     \u001b[49m\u001b[43mamsgrad\u001b[49m\u001b[38;5;241;43m=\u001b[39;49m\u001b[43mamsgrad\u001b[49m\u001b[43m,\u001b[49m\n\u001b[1;32m    318\u001b[0m \u001b[43m     \u001b[49m\u001b[43mbeta1\u001b[49m\u001b[38;5;241;43m=\u001b[39;49m\u001b[43mbeta1\u001b[49m\u001b[43m,\u001b[49m\n\u001b[1;32m    319\u001b[0m \u001b[43m     \u001b[49m\u001b[43mbeta2\u001b[49m\u001b[38;5;241;43m=\u001b[39;49m\u001b[43mbeta2\u001b[49m\u001b[43m,\u001b[49m\n\u001b[1;32m    320\u001b[0m \u001b[43m     \u001b[49m\u001b[43mlr\u001b[49m\u001b[38;5;241;43m=\u001b[39;49m\u001b[43mlr\u001b[49m\u001b[43m,\u001b[49m\n\u001b[1;32m    321\u001b[0m \u001b[43m     \u001b[49m\u001b[43mweight_decay\u001b[49m\u001b[38;5;241;43m=\u001b[39;49m\u001b[43mweight_decay\u001b[49m\u001b[43m,\u001b[49m\n\u001b[1;32m    322\u001b[0m \u001b[43m     \u001b[49m\u001b[43meps\u001b[49m\u001b[38;5;241;43m=\u001b[39;49m\u001b[43meps\u001b[49m\u001b[43m,\u001b[49m\n\u001b[1;32m    323\u001b[0m \u001b[43m     \u001b[49m\u001b[43mmaximize\u001b[49m\u001b[38;5;241;43m=\u001b[39;49m\u001b[43mmaximize\u001b[49m\u001b[43m,\u001b[49m\n\u001b[1;32m    324\u001b[0m \u001b[43m     \u001b[49m\u001b[43mcapturable\u001b[49m\u001b[38;5;241;43m=\u001b[39;49m\u001b[43mcapturable\u001b[49m\u001b[43m,\u001b[49m\n\u001b[1;32m    325\u001b[0m \u001b[43m     \u001b[49m\u001b[43mdifferentiable\u001b[49m\u001b[38;5;241;43m=\u001b[39;49m\u001b[43mdifferentiable\u001b[49m\u001b[43m,\u001b[49m\n\u001b[1;32m    326\u001b[0m \u001b[43m     \u001b[49m\u001b[43mgrad_scale\u001b[49m\u001b[38;5;241;43m=\u001b[39;49m\u001b[43mgrad_scale\u001b[49m\u001b[43m,\u001b[49m\n\u001b[1;32m    327\u001b[0m \u001b[43m     \u001b[49m\u001b[43mfound_inf\u001b[49m\u001b[38;5;241;43m=\u001b[39;49m\u001b[43mfound_inf\u001b[49m\u001b[43m)\u001b[49m\n",
      "File \u001b[0;32m~/miniconda3/envs/kasturi_ml_project/lib/python3.10/site-packages/torch/optim/adam.py:384\u001b[0m, in \u001b[0;36m_single_tensor_adam\u001b[0;34m(params, grads, exp_avgs, exp_avg_sqs, max_exp_avg_sqs, state_steps, grad_scale, found_inf, amsgrad, beta1, beta2, lr, weight_decay, eps, maximize, capturable, differentiable)\u001b[0m\n\u001b[1;32m    381\u001b[0m     param \u001b[38;5;241m=\u001b[39m torch\u001b[38;5;241m.\u001b[39mview_as_real(param)\n\u001b[1;32m    383\u001b[0m \u001b[38;5;66;03m# Decay the first and second moment running average coefficient\u001b[39;00m\n\u001b[0;32m--> 384\u001b[0m \u001b[43mexp_avg\u001b[49m\u001b[38;5;241;43m.\u001b[39;49m\u001b[43mlerp_\u001b[49m\u001b[43m(\u001b[49m\u001b[43mgrad\u001b[49m\u001b[43m,\u001b[49m\u001b[43m \u001b[49m\u001b[38;5;241;43m1\u001b[39;49m\u001b[43m \u001b[49m\u001b[38;5;241;43m-\u001b[39;49m\u001b[43m \u001b[49m\u001b[43mbeta1\u001b[49m\u001b[43m)\u001b[49m\n\u001b[1;32m    385\u001b[0m exp_avg_sq\u001b[38;5;241m.\u001b[39mmul_(beta2)\u001b[38;5;241m.\u001b[39maddcmul_(grad, grad\u001b[38;5;241m.\u001b[39mconj(), value\u001b[38;5;241m=\u001b[39m\u001b[38;5;241m1\u001b[39m \u001b[38;5;241m-\u001b[39m beta2)\n\u001b[1;32m    387\u001b[0m \u001b[38;5;28;01mif\u001b[39;00m capturable \u001b[38;5;129;01mor\u001b[39;00m differentiable:\n",
      "File \u001b[0;32m~/miniconda3/envs/kasturi_ml_project/lib/python3.10/site-packages/torch/utils/_device.py:77\u001b[0m, in \u001b[0;36mDeviceContext.__torch_function__\u001b[0;34m(self, func, types, args, kwargs)\u001b[0m\n\u001b[1;32m     75\u001b[0m \u001b[38;5;28;01mif\u001b[39;00m func \u001b[38;5;129;01min\u001b[39;00m _device_constructors() \u001b[38;5;129;01mand\u001b[39;00m kwargs\u001b[38;5;241m.\u001b[39mget(\u001b[38;5;124m'\u001b[39m\u001b[38;5;124mdevice\u001b[39m\u001b[38;5;124m'\u001b[39m) \u001b[38;5;129;01mis\u001b[39;00m \u001b[38;5;28;01mNone\u001b[39;00m:\n\u001b[1;32m     76\u001b[0m     kwargs[\u001b[38;5;124m'\u001b[39m\u001b[38;5;124mdevice\u001b[39m\u001b[38;5;124m'\u001b[39m] \u001b[38;5;241m=\u001b[39m \u001b[38;5;28mself\u001b[39m\u001b[38;5;241m.\u001b[39mdevice\n\u001b[0;32m---> 77\u001b[0m \u001b[38;5;28;01mreturn\u001b[39;00m \u001b[43mfunc\u001b[49m\u001b[43m(\u001b[49m\u001b[38;5;241;43m*\u001b[39;49m\u001b[43margs\u001b[49m\u001b[43m,\u001b[49m\u001b[43m \u001b[49m\u001b[38;5;241;43m*\u001b[39;49m\u001b[38;5;241;43m*\u001b[39;49m\u001b[43mkwargs\u001b[49m\u001b[43m)\u001b[49m\n",
      "\u001b[0;31mKeyboardInterrupt\u001b[0m: "
     ]
    }
   ],
   "source": [
    "# print(mlp_regressor_bin_1)\n",
    "# for x in X_bin_1_train.values:\n",
    "#     for i in x:\n",
    "#         print(i, end=' ')\n",
    "#     print(\"\")\n",
    "# print(Y_bin_1_train.values)\n",
    "\n",
    "train_mlp_regressor(mlp_regressor_bin_1, optimizer_bin_1, epochs=4000, batch_size=500, X_train=X_bin_1_train.values if isinstance(X_bin_1_train, pd.DataFrame) else X_bin_1_train, Y_train=np.array(Y_bin_1_train).reshape(-1, 1))"
   ]
  },
  {
   "cell_type": "code",
   "execution_count": 49,
   "metadata": {},
   "outputs": [
    {
     "name": "stdout",
     "output_type": "stream",
     "text": [
      "Epoch [10/10000], Loss: 353.9771\n",
      "Epoch [20/10000], Loss: 346.3389\n",
      "Epoch [30/10000], Loss: 335.4767\n",
      "Epoch [40/10000], Loss: 320.9936\n",
      "Epoch [50/10000], Loss: 302.4822\n",
      "Epoch [60/10000], Loss: 279.6659\n",
      "Epoch [70/10000], Loss: 252.2451\n",
      "Epoch [80/10000], Loss: 220.0720\n",
      "Epoch [90/10000], Loss: 182.9954\n",
      "Epoch [100/10000], Loss: 140.9053\n",
      "Epoch [110/10000], Loss: 97.1618\n",
      "Epoch [120/10000], Loss: 82.6988\n",
      "Epoch [130/10000], Loss: 77.5919\n",
      "Epoch [140/10000], Loss: 75.5753\n",
      "Epoch [150/10000], Loss: 73.8734\n",
      "Epoch [160/10000], Loss: 72.2894\n",
      "Epoch [170/10000], Loss: 71.0881\n",
      "Epoch [180/10000], Loss: 70.0842\n",
      "Epoch [190/10000], Loss: 68.9165\n",
      "Epoch [200/10000], Loss: 67.5343\n",
      "Epoch [210/10000], Loss: 66.9596\n",
      "Epoch [220/10000], Loss: 65.8138\n",
      "Epoch [230/10000], Loss: 64.7623\n",
      "Epoch [240/10000], Loss: 63.6464\n",
      "Epoch [250/10000], Loss: 62.5984\n",
      "Epoch [260/10000], Loss: 61.8031\n",
      "Epoch [270/10000], Loss: 61.0624\n",
      "Epoch [280/10000], Loss: 59.9334\n",
      "Epoch [290/10000], Loss: 59.3068\n",
      "Epoch [300/10000], Loss: 58.3286\n",
      "Epoch [310/10000], Loss: 57.4556\n",
      "Epoch [320/10000], Loss: 56.7860\n",
      "Epoch [330/10000], Loss: 55.9890\n",
      "Epoch [340/10000], Loss: 55.5708\n",
      "Epoch [350/10000], Loss: 54.6662\n",
      "Epoch [360/10000], Loss: 54.1412\n",
      "Epoch [370/10000], Loss: 53.6131\n",
      "Epoch [380/10000], Loss: 53.3257\n",
      "Epoch [390/10000], Loss: 52.4378\n",
      "Epoch [400/10000], Loss: 51.4845\n",
      "Epoch [410/10000], Loss: 51.0464\n",
      "Epoch [420/10000], Loss: 50.3445\n",
      "Epoch [430/10000], Loss: 49.7270\n",
      "Epoch [440/10000], Loss: 49.0928\n",
      "Epoch [450/10000], Loss: 49.4657\n",
      "Epoch [460/10000], Loss: 48.4241\n",
      "Epoch [470/10000], Loss: 48.1453\n",
      "Epoch [480/10000], Loss: 48.0070\n",
      "Epoch [490/10000], Loss: 47.4435\n",
      "Epoch [500/10000], Loss: 46.6548\n",
      "Epoch [510/10000], Loss: 46.3935\n",
      "Epoch [520/10000], Loss: 45.9209\n",
      "Epoch [530/10000], Loss: 46.4707\n",
      "Epoch [540/10000], Loss: 46.0437\n",
      "Epoch [550/10000], Loss: 45.1062\n",
      "Epoch [560/10000], Loss: 44.6206\n",
      "Epoch [570/10000], Loss: 44.7937\n",
      "Epoch [580/10000], Loss: 44.2175\n",
      "Epoch [590/10000], Loss: 44.6802\n",
      "Epoch [600/10000], Loss: 44.0221\n",
      "Epoch [610/10000], Loss: 43.6446\n",
      "Epoch [620/10000], Loss: 43.2312\n",
      "Epoch [630/10000], Loss: 42.9869\n",
      "Epoch [640/10000], Loss: 43.3275\n",
      "Epoch [650/10000], Loss: 43.3791\n",
      "Epoch [660/10000], Loss: 42.1143\n",
      "Epoch [670/10000], Loss: 42.7576\n",
      "Epoch [680/10000], Loss: 42.4714\n",
      "Epoch [690/10000], Loss: 41.5244\n",
      "Epoch [700/10000], Loss: 41.4041\n",
      "Epoch [710/10000], Loss: 41.0366\n",
      "Epoch [720/10000], Loss: 40.4231\n",
      "Epoch [730/10000], Loss: 40.0908\n",
      "Epoch [740/10000], Loss: 40.1439\n",
      "Epoch [750/10000], Loss: 40.7601\n",
      "Epoch [760/10000], Loss: 40.1544\n",
      "Epoch [770/10000], Loss: 39.6638\n",
      "Epoch [780/10000], Loss: 39.0173\n",
      "Epoch [790/10000], Loss: 38.9809\n",
      "Epoch [800/10000], Loss: 38.8098\n",
      "Epoch [810/10000], Loss: 39.2882\n",
      "Epoch [820/10000], Loss: 38.6675\n",
      "Epoch [830/10000], Loss: 40.2351\n",
      "Epoch [840/10000], Loss: 38.9274\n",
      "Epoch [850/10000], Loss: 38.4040\n",
      "Epoch [860/10000], Loss: 38.1763\n",
      "Epoch [870/10000], Loss: 38.7281\n",
      "Epoch [880/10000], Loss: 37.9041\n",
      "Epoch [890/10000], Loss: 37.6681\n",
      "Epoch [900/10000], Loss: 37.8796\n",
      "Epoch [910/10000], Loss: 37.2381\n",
      "Epoch [920/10000], Loss: 38.0387\n",
      "Epoch [930/10000], Loss: 37.2426\n",
      "Epoch [940/10000], Loss: 37.8441\n",
      "Epoch [950/10000], Loss: 37.0047\n",
      "Epoch [960/10000], Loss: 37.6270\n",
      "Epoch [970/10000], Loss: 37.2675\n",
      "Epoch [980/10000], Loss: 36.9886\n",
      "Epoch [990/10000], Loss: 36.7520\n",
      "Epoch [1000/10000], Loss: 36.4173\n",
      "Epoch [1010/10000], Loss: 36.2197\n",
      "Epoch [1020/10000], Loss: 36.1647\n",
      "Epoch [1030/10000], Loss: 36.0598\n",
      "Epoch [1040/10000], Loss: 36.1386\n",
      "Epoch [1050/10000], Loss: 36.3737\n",
      "Epoch [1060/10000], Loss: 35.9468\n",
      "Epoch [1070/10000], Loss: 35.8986\n",
      "Epoch [1080/10000], Loss: 36.6246\n",
      "Epoch [1090/10000], Loss: 35.6726\n",
      "Epoch [1100/10000], Loss: 35.4938\n",
      "Epoch [1110/10000], Loss: 36.6150\n",
      "Epoch [1120/10000], Loss: 36.7833\n",
      "Epoch [1130/10000], Loss: 36.5298\n",
      "Epoch [1140/10000], Loss: 34.7868\n",
      "Epoch [1150/10000], Loss: 34.5492\n",
      "Epoch [1160/10000], Loss: 34.5447\n",
      "Epoch [1170/10000], Loss: 35.1721\n",
      "Epoch [1180/10000], Loss: 34.6531\n",
      "Epoch [1190/10000], Loss: 34.4114\n",
      "Epoch [1200/10000], Loss: 34.2499\n",
      "Epoch [1210/10000], Loss: 34.2509\n",
      "Epoch [1220/10000], Loss: 33.9060\n",
      "Epoch [1230/10000], Loss: 33.8241\n",
      "Epoch [1240/10000], Loss: 33.8673\n",
      "Epoch [1250/10000], Loss: 33.8924\n",
      "Epoch [1260/10000], Loss: 33.6580\n",
      "Epoch [1270/10000], Loss: 33.3183\n"
     ]
    },
    {
     "ename": "KeyboardInterrupt",
     "evalue": "",
     "output_type": "error",
     "traceback": [
      "\u001b[0;31m---------------------------------------------------------------------------\u001b[0m",
      "\u001b[0;31mKeyboardInterrupt\u001b[0m                         Traceback (most recent call last)",
      "Cell \u001b[0;32mIn[49], line 1\u001b[0m\n\u001b[0;32m----> 1\u001b[0m \u001b[43mtrain_mlp_regressor\u001b[49m\u001b[43m(\u001b[49m\u001b[43mmlp_regressor_bin_2\u001b[49m\u001b[43m,\u001b[49m\u001b[43m \u001b[49m\u001b[43moptimizer_bin_2\u001b[49m\u001b[43m,\u001b[49m\u001b[43m \u001b[49m\u001b[43mepochs\u001b[49m\u001b[38;5;241;43m=\u001b[39;49m\u001b[38;5;241;43m10000\u001b[39;49m\u001b[43m,\u001b[49m\u001b[43m \u001b[49m\u001b[43mbatch_size\u001b[49m\u001b[38;5;241;43m=\u001b[39;49m\u001b[38;5;241;43m500\u001b[39;49m\u001b[43m,\u001b[49m\u001b[43m \u001b[49m\u001b[43mX_train\u001b[49m\u001b[38;5;241;43m=\u001b[39;49m\u001b[43mX_bin_2_train\u001b[49m\u001b[38;5;241;43m.\u001b[39;49m\u001b[43mvalues\u001b[49m\u001b[43m \u001b[49m\u001b[38;5;28;43;01mif\u001b[39;49;00m\u001b[43m \u001b[49m\u001b[38;5;28;43misinstance\u001b[39;49m\u001b[43m(\u001b[49m\u001b[43mX_bin_2_train\u001b[49m\u001b[43m,\u001b[49m\u001b[43m \u001b[49m\u001b[43mpd\u001b[49m\u001b[38;5;241;43m.\u001b[39;49m\u001b[43mDataFrame\u001b[49m\u001b[43m)\u001b[49m\u001b[43m \u001b[49m\u001b[38;5;28;43;01melse\u001b[39;49;00m\u001b[43m \u001b[49m\u001b[43mX_bin_2_train\u001b[49m\u001b[43m,\u001b[49m\u001b[43m \u001b[49m\u001b[43mY_train\u001b[49m\u001b[38;5;241;43m=\u001b[39;49m\u001b[43mnp\u001b[49m\u001b[38;5;241;43m.\u001b[39;49m\u001b[43marray\u001b[49m\u001b[43m(\u001b[49m\u001b[43mY_bin_2_train\u001b[49m\u001b[43m)\u001b[49m\u001b[38;5;241;43m.\u001b[39;49m\u001b[43mreshape\u001b[49m\u001b[43m(\u001b[49m\u001b[38;5;241;43m-\u001b[39;49m\u001b[38;5;241;43m1\u001b[39;49m\u001b[43m,\u001b[49m\u001b[43m \u001b[49m\u001b[38;5;241;43m1\u001b[39;49m\u001b[43m)\u001b[49m\u001b[43m)\u001b[49m\n",
      "Cell \u001b[0;32mIn[41], line 65\u001b[0m, in \u001b[0;36mtrain_mlp_regressor\u001b[0;34m(regressor, optimizer, epochs, batch_size, X_train, Y_train)\u001b[0m\n\u001b[1;32m     63\u001b[0m     optimizer\u001b[38;5;241m.\u001b[39mzero_grad()\n\u001b[1;32m     64\u001b[0m     loss\u001b[38;5;241m.\u001b[39mbackward()\n\u001b[0;32m---> 65\u001b[0m     \u001b[43moptimizer\u001b[49m\u001b[38;5;241;43m.\u001b[39;49m\u001b[43mstep\u001b[49m\u001b[43m(\u001b[49m\u001b[43m)\u001b[49m\n\u001b[1;32m     67\u001b[0m \u001b[38;5;28;01mif\u001b[39;00m (epoch \u001b[38;5;241m+\u001b[39m \u001b[38;5;241m1\u001b[39m) \u001b[38;5;241m%\u001b[39m \u001b[38;5;241m10\u001b[39m \u001b[38;5;241m==\u001b[39m \u001b[38;5;241m0\u001b[39m:\n\u001b[1;32m     68\u001b[0m     \u001b[38;5;28mprint\u001b[39m(\u001b[38;5;124mf\u001b[39m\u001b[38;5;124m'\u001b[39m\u001b[38;5;124mEpoch [\u001b[39m\u001b[38;5;132;01m{\u001b[39;00mepoch\u001b[38;5;241m+\u001b[39m\u001b[38;5;241m1\u001b[39m\u001b[38;5;132;01m}\u001b[39;00m\u001b[38;5;124m/\u001b[39m\u001b[38;5;132;01m{\u001b[39;00mepochs\u001b[38;5;132;01m}\u001b[39;00m\u001b[38;5;124m], Loss: \u001b[39m\u001b[38;5;132;01m{\u001b[39;00mloss\u001b[38;5;241m.\u001b[39mitem()\u001b[38;5;132;01m:\u001b[39;00m\u001b[38;5;124m.4f\u001b[39m\u001b[38;5;132;01m}\u001b[39;00m\u001b[38;5;124m'\u001b[39m)\n",
      "File \u001b[0;32m~/miniconda3/envs/kasturi_ml_project/lib/python3.10/site-packages/torch/optim/optimizer.py:373\u001b[0m, in \u001b[0;36mOptimizer.profile_hook_step.<locals>.wrapper\u001b[0;34m(*args, **kwargs)\u001b[0m\n\u001b[1;32m    368\u001b[0m         \u001b[38;5;28;01melse\u001b[39;00m:\n\u001b[1;32m    369\u001b[0m             \u001b[38;5;28;01mraise\u001b[39;00m \u001b[38;5;167;01mRuntimeError\u001b[39;00m(\n\u001b[1;32m    370\u001b[0m                 \u001b[38;5;124mf\u001b[39m\u001b[38;5;124m\"\u001b[39m\u001b[38;5;132;01m{\u001b[39;00mfunc\u001b[38;5;132;01m}\u001b[39;00m\u001b[38;5;124m must return None or a tuple of (new_args, new_kwargs), but got \u001b[39m\u001b[38;5;132;01m{\u001b[39;00mresult\u001b[38;5;132;01m}\u001b[39;00m\u001b[38;5;124m.\u001b[39m\u001b[38;5;124m\"\u001b[39m\n\u001b[1;32m    371\u001b[0m             )\n\u001b[0;32m--> 373\u001b[0m out \u001b[38;5;241m=\u001b[39m \u001b[43mfunc\u001b[49m\u001b[43m(\u001b[49m\u001b[38;5;241;43m*\u001b[39;49m\u001b[43margs\u001b[49m\u001b[43m,\u001b[49m\u001b[43m \u001b[49m\u001b[38;5;241;43m*\u001b[39;49m\u001b[38;5;241;43m*\u001b[39;49m\u001b[43mkwargs\u001b[49m\u001b[43m)\u001b[49m\n\u001b[1;32m    374\u001b[0m \u001b[38;5;28mself\u001b[39m\u001b[38;5;241m.\u001b[39m_optimizer_step_code()\n\u001b[1;32m    376\u001b[0m \u001b[38;5;66;03m# call optimizer step post hooks\u001b[39;00m\n",
      "File \u001b[0;32m~/miniconda3/envs/kasturi_ml_project/lib/python3.10/site-packages/torch/optim/optimizer.py:76\u001b[0m, in \u001b[0;36m_use_grad_for_differentiable.<locals>._use_grad\u001b[0;34m(self, *args, **kwargs)\u001b[0m\n\u001b[1;32m     74\u001b[0m     torch\u001b[38;5;241m.\u001b[39mset_grad_enabled(\u001b[38;5;28mself\u001b[39m\u001b[38;5;241m.\u001b[39mdefaults[\u001b[38;5;124m'\u001b[39m\u001b[38;5;124mdifferentiable\u001b[39m\u001b[38;5;124m'\u001b[39m])\n\u001b[1;32m     75\u001b[0m     torch\u001b[38;5;241m.\u001b[39m_dynamo\u001b[38;5;241m.\u001b[39mgraph_break()\n\u001b[0;32m---> 76\u001b[0m     ret \u001b[38;5;241m=\u001b[39m \u001b[43mfunc\u001b[49m\u001b[43m(\u001b[49m\u001b[38;5;28;43mself\u001b[39;49m\u001b[43m,\u001b[49m\u001b[43m \u001b[49m\u001b[38;5;241;43m*\u001b[39;49m\u001b[43margs\u001b[49m\u001b[43m,\u001b[49m\u001b[43m \u001b[49m\u001b[38;5;241;43m*\u001b[39;49m\u001b[38;5;241;43m*\u001b[39;49m\u001b[43mkwargs\u001b[49m\u001b[43m)\u001b[49m\n\u001b[1;32m     77\u001b[0m \u001b[38;5;28;01mfinally\u001b[39;00m:\n\u001b[1;32m     78\u001b[0m     torch\u001b[38;5;241m.\u001b[39m_dynamo\u001b[38;5;241m.\u001b[39mgraph_break()\n",
      "File \u001b[0;32m~/miniconda3/envs/kasturi_ml_project/lib/python3.10/site-packages/torch/optim/adam.py:163\u001b[0m, in \u001b[0;36mAdam.step\u001b[0;34m(self, closure)\u001b[0m\n\u001b[1;32m    152\u001b[0m     beta1, beta2 \u001b[38;5;241m=\u001b[39m group[\u001b[38;5;124m'\u001b[39m\u001b[38;5;124mbetas\u001b[39m\u001b[38;5;124m'\u001b[39m]\n\u001b[1;32m    154\u001b[0m     \u001b[38;5;28mself\u001b[39m\u001b[38;5;241m.\u001b[39m_init_group(\n\u001b[1;32m    155\u001b[0m         group,\n\u001b[1;32m    156\u001b[0m         params_with_grad,\n\u001b[0;32m   (...)\u001b[0m\n\u001b[1;32m    160\u001b[0m         max_exp_avg_sqs,\n\u001b[1;32m    161\u001b[0m         state_steps)\n\u001b[0;32m--> 163\u001b[0m     \u001b[43madam\u001b[49m\u001b[43m(\u001b[49m\n\u001b[1;32m    164\u001b[0m \u001b[43m        \u001b[49m\u001b[43mparams_with_grad\u001b[49m\u001b[43m,\u001b[49m\n\u001b[1;32m    165\u001b[0m \u001b[43m        \u001b[49m\u001b[43mgrads\u001b[49m\u001b[43m,\u001b[49m\n\u001b[1;32m    166\u001b[0m \u001b[43m        \u001b[49m\u001b[43mexp_avgs\u001b[49m\u001b[43m,\u001b[49m\n\u001b[1;32m    167\u001b[0m \u001b[43m        \u001b[49m\u001b[43mexp_avg_sqs\u001b[49m\u001b[43m,\u001b[49m\n\u001b[1;32m    168\u001b[0m \u001b[43m        \u001b[49m\u001b[43mmax_exp_avg_sqs\u001b[49m\u001b[43m,\u001b[49m\n\u001b[1;32m    169\u001b[0m \u001b[43m        \u001b[49m\u001b[43mstate_steps\u001b[49m\u001b[43m,\u001b[49m\n\u001b[1;32m    170\u001b[0m \u001b[43m        \u001b[49m\u001b[43mamsgrad\u001b[49m\u001b[38;5;241;43m=\u001b[39;49m\u001b[43mgroup\u001b[49m\u001b[43m[\u001b[49m\u001b[38;5;124;43m'\u001b[39;49m\u001b[38;5;124;43mamsgrad\u001b[39;49m\u001b[38;5;124;43m'\u001b[39;49m\u001b[43m]\u001b[49m\u001b[43m,\u001b[49m\n\u001b[1;32m    171\u001b[0m \u001b[43m        \u001b[49m\u001b[43mbeta1\u001b[49m\u001b[38;5;241;43m=\u001b[39;49m\u001b[43mbeta1\u001b[49m\u001b[43m,\u001b[49m\n\u001b[1;32m    172\u001b[0m \u001b[43m        \u001b[49m\u001b[43mbeta2\u001b[49m\u001b[38;5;241;43m=\u001b[39;49m\u001b[43mbeta2\u001b[49m\u001b[43m,\u001b[49m\n\u001b[1;32m    173\u001b[0m \u001b[43m        \u001b[49m\u001b[43mlr\u001b[49m\u001b[38;5;241;43m=\u001b[39;49m\u001b[43mgroup\u001b[49m\u001b[43m[\u001b[49m\u001b[38;5;124;43m'\u001b[39;49m\u001b[38;5;124;43mlr\u001b[39;49m\u001b[38;5;124;43m'\u001b[39;49m\u001b[43m]\u001b[49m\u001b[43m,\u001b[49m\n\u001b[1;32m    174\u001b[0m \u001b[43m        \u001b[49m\u001b[43mweight_decay\u001b[49m\u001b[38;5;241;43m=\u001b[39;49m\u001b[43mgroup\u001b[49m\u001b[43m[\u001b[49m\u001b[38;5;124;43m'\u001b[39;49m\u001b[38;5;124;43mweight_decay\u001b[39;49m\u001b[38;5;124;43m'\u001b[39;49m\u001b[43m]\u001b[49m\u001b[43m,\u001b[49m\n\u001b[1;32m    175\u001b[0m \u001b[43m        \u001b[49m\u001b[43meps\u001b[49m\u001b[38;5;241;43m=\u001b[39;49m\u001b[43mgroup\u001b[49m\u001b[43m[\u001b[49m\u001b[38;5;124;43m'\u001b[39;49m\u001b[38;5;124;43meps\u001b[39;49m\u001b[38;5;124;43m'\u001b[39;49m\u001b[43m]\u001b[49m\u001b[43m,\u001b[49m\n\u001b[1;32m    176\u001b[0m \u001b[43m        \u001b[49m\u001b[43mmaximize\u001b[49m\u001b[38;5;241;43m=\u001b[39;49m\u001b[43mgroup\u001b[49m\u001b[43m[\u001b[49m\u001b[38;5;124;43m'\u001b[39;49m\u001b[38;5;124;43mmaximize\u001b[39;49m\u001b[38;5;124;43m'\u001b[39;49m\u001b[43m]\u001b[49m\u001b[43m,\u001b[49m\n\u001b[1;32m    177\u001b[0m \u001b[43m        \u001b[49m\u001b[43mforeach\u001b[49m\u001b[38;5;241;43m=\u001b[39;49m\u001b[43mgroup\u001b[49m\u001b[43m[\u001b[49m\u001b[38;5;124;43m'\u001b[39;49m\u001b[38;5;124;43mforeach\u001b[39;49m\u001b[38;5;124;43m'\u001b[39;49m\u001b[43m]\u001b[49m\u001b[43m,\u001b[49m\n\u001b[1;32m    178\u001b[0m \u001b[43m        \u001b[49m\u001b[43mcapturable\u001b[49m\u001b[38;5;241;43m=\u001b[39;49m\u001b[43mgroup\u001b[49m\u001b[43m[\u001b[49m\u001b[38;5;124;43m'\u001b[39;49m\u001b[38;5;124;43mcapturable\u001b[39;49m\u001b[38;5;124;43m'\u001b[39;49m\u001b[43m]\u001b[49m\u001b[43m,\u001b[49m\n\u001b[1;32m    179\u001b[0m \u001b[43m        \u001b[49m\u001b[43mdifferentiable\u001b[49m\u001b[38;5;241;43m=\u001b[39;49m\u001b[43mgroup\u001b[49m\u001b[43m[\u001b[49m\u001b[38;5;124;43m'\u001b[39;49m\u001b[38;5;124;43mdifferentiable\u001b[39;49m\u001b[38;5;124;43m'\u001b[39;49m\u001b[43m]\u001b[49m\u001b[43m,\u001b[49m\n\u001b[1;32m    180\u001b[0m \u001b[43m        \u001b[49m\u001b[43mfused\u001b[49m\u001b[38;5;241;43m=\u001b[39;49m\u001b[43mgroup\u001b[49m\u001b[43m[\u001b[49m\u001b[38;5;124;43m'\u001b[39;49m\u001b[38;5;124;43mfused\u001b[39;49m\u001b[38;5;124;43m'\u001b[39;49m\u001b[43m]\u001b[49m\u001b[43m,\u001b[49m\n\u001b[1;32m    181\u001b[0m \u001b[43m        \u001b[49m\u001b[43mgrad_scale\u001b[49m\u001b[38;5;241;43m=\u001b[39;49m\u001b[38;5;28;43mgetattr\u001b[39;49m\u001b[43m(\u001b[49m\u001b[38;5;28;43mself\u001b[39;49m\u001b[43m,\u001b[49m\u001b[43m \u001b[49m\u001b[38;5;124;43m\"\u001b[39;49m\u001b[38;5;124;43mgrad_scale\u001b[39;49m\u001b[38;5;124;43m\"\u001b[39;49m\u001b[43m,\u001b[49m\u001b[43m \u001b[49m\u001b[38;5;28;43;01mNone\u001b[39;49;00m\u001b[43m)\u001b[49m\u001b[43m,\u001b[49m\n\u001b[1;32m    182\u001b[0m \u001b[43m        \u001b[49m\u001b[43mfound_inf\u001b[49m\u001b[38;5;241;43m=\u001b[39;49m\u001b[38;5;28;43mgetattr\u001b[39;49m\u001b[43m(\u001b[49m\u001b[38;5;28;43mself\u001b[39;49m\u001b[43m,\u001b[49m\u001b[43m \u001b[49m\u001b[38;5;124;43m\"\u001b[39;49m\u001b[38;5;124;43mfound_inf\u001b[39;49m\u001b[38;5;124;43m\"\u001b[39;49m\u001b[43m,\u001b[49m\u001b[43m \u001b[49m\u001b[38;5;28;43;01mNone\u001b[39;49;00m\u001b[43m)\u001b[49m\u001b[43m,\u001b[49m\n\u001b[1;32m    183\u001b[0m \u001b[43m    \u001b[49m\u001b[43m)\u001b[49m\n\u001b[1;32m    185\u001b[0m \u001b[38;5;28;01mreturn\u001b[39;00m loss\n",
      "File \u001b[0;32m~/miniconda3/envs/kasturi_ml_project/lib/python3.10/site-packages/torch/optim/adam.py:311\u001b[0m, in \u001b[0;36madam\u001b[0;34m(params, grads, exp_avgs, exp_avg_sqs, max_exp_avg_sqs, state_steps, foreach, capturable, differentiable, fused, grad_scale, found_inf, amsgrad, beta1, beta2, lr, weight_decay, eps, maximize)\u001b[0m\n\u001b[1;32m    308\u001b[0m \u001b[38;5;28;01melse\u001b[39;00m:\n\u001b[1;32m    309\u001b[0m     func \u001b[38;5;241m=\u001b[39m _single_tensor_adam\n\u001b[0;32m--> 311\u001b[0m \u001b[43mfunc\u001b[49m\u001b[43m(\u001b[49m\u001b[43mparams\u001b[49m\u001b[43m,\u001b[49m\n\u001b[1;32m    312\u001b[0m \u001b[43m     \u001b[49m\u001b[43mgrads\u001b[49m\u001b[43m,\u001b[49m\n\u001b[1;32m    313\u001b[0m \u001b[43m     \u001b[49m\u001b[43mexp_avgs\u001b[49m\u001b[43m,\u001b[49m\n\u001b[1;32m    314\u001b[0m \u001b[43m     \u001b[49m\u001b[43mexp_avg_sqs\u001b[49m\u001b[43m,\u001b[49m\n\u001b[1;32m    315\u001b[0m \u001b[43m     \u001b[49m\u001b[43mmax_exp_avg_sqs\u001b[49m\u001b[43m,\u001b[49m\n\u001b[1;32m    316\u001b[0m \u001b[43m     \u001b[49m\u001b[43mstate_steps\u001b[49m\u001b[43m,\u001b[49m\n\u001b[1;32m    317\u001b[0m \u001b[43m     \u001b[49m\u001b[43mamsgrad\u001b[49m\u001b[38;5;241;43m=\u001b[39;49m\u001b[43mamsgrad\u001b[49m\u001b[43m,\u001b[49m\n\u001b[1;32m    318\u001b[0m \u001b[43m     \u001b[49m\u001b[43mbeta1\u001b[49m\u001b[38;5;241;43m=\u001b[39;49m\u001b[43mbeta1\u001b[49m\u001b[43m,\u001b[49m\n\u001b[1;32m    319\u001b[0m \u001b[43m     \u001b[49m\u001b[43mbeta2\u001b[49m\u001b[38;5;241;43m=\u001b[39;49m\u001b[43mbeta2\u001b[49m\u001b[43m,\u001b[49m\n\u001b[1;32m    320\u001b[0m \u001b[43m     \u001b[49m\u001b[43mlr\u001b[49m\u001b[38;5;241;43m=\u001b[39;49m\u001b[43mlr\u001b[49m\u001b[43m,\u001b[49m\n\u001b[1;32m    321\u001b[0m \u001b[43m     \u001b[49m\u001b[43mweight_decay\u001b[49m\u001b[38;5;241;43m=\u001b[39;49m\u001b[43mweight_decay\u001b[49m\u001b[43m,\u001b[49m\n\u001b[1;32m    322\u001b[0m \u001b[43m     \u001b[49m\u001b[43meps\u001b[49m\u001b[38;5;241;43m=\u001b[39;49m\u001b[43meps\u001b[49m\u001b[43m,\u001b[49m\n\u001b[1;32m    323\u001b[0m \u001b[43m     \u001b[49m\u001b[43mmaximize\u001b[49m\u001b[38;5;241;43m=\u001b[39;49m\u001b[43mmaximize\u001b[49m\u001b[43m,\u001b[49m\n\u001b[1;32m    324\u001b[0m \u001b[43m     \u001b[49m\u001b[43mcapturable\u001b[49m\u001b[38;5;241;43m=\u001b[39;49m\u001b[43mcapturable\u001b[49m\u001b[43m,\u001b[49m\n\u001b[1;32m    325\u001b[0m \u001b[43m     \u001b[49m\u001b[43mdifferentiable\u001b[49m\u001b[38;5;241;43m=\u001b[39;49m\u001b[43mdifferentiable\u001b[49m\u001b[43m,\u001b[49m\n\u001b[1;32m    326\u001b[0m \u001b[43m     \u001b[49m\u001b[43mgrad_scale\u001b[49m\u001b[38;5;241;43m=\u001b[39;49m\u001b[43mgrad_scale\u001b[49m\u001b[43m,\u001b[49m\n\u001b[1;32m    327\u001b[0m \u001b[43m     \u001b[49m\u001b[43mfound_inf\u001b[49m\u001b[38;5;241;43m=\u001b[39;49m\u001b[43mfound_inf\u001b[49m\u001b[43m)\u001b[49m\n",
      "File \u001b[0;32m~/miniconda3/envs/kasturi_ml_project/lib/python3.10/site-packages/torch/optim/adam.py:432\u001b[0m, in \u001b[0;36m_single_tensor_adam\u001b[0;34m(params, grads, exp_avgs, exp_avg_sqs, max_exp_avg_sqs, state_steps, grad_scale, found_inf, amsgrad, beta1, beta2, lr, weight_decay, eps, maximize, capturable, differentiable)\u001b[0m\n\u001b[1;32m    430\u001b[0m         denom \u001b[38;5;241m=\u001b[39m (max_exp_avg_sqs[i]\u001b[38;5;241m.\u001b[39msqrt() \u001b[38;5;241m/\u001b[39m bias_correction2_sqrt)\u001b[38;5;241m.\u001b[39madd_(eps)\n\u001b[1;32m    431\u001b[0m     \u001b[38;5;28;01melse\u001b[39;00m:\n\u001b[0;32m--> 432\u001b[0m         denom \u001b[38;5;241m=\u001b[39m (\u001b[43mexp_avg_sq\u001b[49m\u001b[38;5;241;43m.\u001b[39;49m\u001b[43msqrt\u001b[49m\u001b[43m(\u001b[49m\u001b[43m)\u001b[49m\u001b[43m \u001b[49m\u001b[38;5;241;43m/\u001b[39;49m\u001b[43m \u001b[49m\u001b[43mbias_correction2_sqrt\u001b[49m)\u001b[38;5;241m.\u001b[39madd_(eps)\n\u001b[1;32m    434\u001b[0m     param\u001b[38;5;241m.\u001b[39maddcdiv_(exp_avg, denom, value\u001b[38;5;241m=\u001b[39m\u001b[38;5;241m-\u001b[39mstep_size)\n\u001b[1;32m    436\u001b[0m \u001b[38;5;66;03m# Lastly, switch back to complex view\u001b[39;00m\n",
      "File \u001b[0;32m~/miniconda3/envs/kasturi_ml_project/lib/python3.10/site-packages/torch/utils/_device.py:77\u001b[0m, in \u001b[0;36mDeviceContext.__torch_function__\u001b[0;34m(self, func, types, args, kwargs)\u001b[0m\n\u001b[1;32m     75\u001b[0m \u001b[38;5;28;01mif\u001b[39;00m func \u001b[38;5;129;01min\u001b[39;00m _device_constructors() \u001b[38;5;129;01mand\u001b[39;00m kwargs\u001b[38;5;241m.\u001b[39mget(\u001b[38;5;124m'\u001b[39m\u001b[38;5;124mdevice\u001b[39m\u001b[38;5;124m'\u001b[39m) \u001b[38;5;129;01mis\u001b[39;00m \u001b[38;5;28;01mNone\u001b[39;00m:\n\u001b[1;32m     76\u001b[0m     kwargs[\u001b[38;5;124m'\u001b[39m\u001b[38;5;124mdevice\u001b[39m\u001b[38;5;124m'\u001b[39m] \u001b[38;5;241m=\u001b[39m \u001b[38;5;28mself\u001b[39m\u001b[38;5;241m.\u001b[39mdevice\n\u001b[0;32m---> 77\u001b[0m \u001b[38;5;28;01mreturn\u001b[39;00m \u001b[43mfunc\u001b[49m\u001b[43m(\u001b[49m\u001b[38;5;241;43m*\u001b[39;49m\u001b[43margs\u001b[49m\u001b[43m,\u001b[49m\u001b[43m \u001b[49m\u001b[38;5;241;43m*\u001b[39;49m\u001b[38;5;241;43m*\u001b[39;49m\u001b[43mkwargs\u001b[49m\u001b[43m)\u001b[49m\n",
      "\u001b[0;31mKeyboardInterrupt\u001b[0m: "
     ]
    }
   ],
   "source": [
    "train_mlp_regressor(mlp_regressor_bin_2, optimizer_bin_2, epochs=10000, batch_size=500, X_train=X_bin_2_train.values if isinstance(X_bin_2_train, pd.DataFrame) else X_bin_2_train, Y_train=np.array(Y_bin_2_train).reshape(-1, 1))"
   ]
  },
  {
   "cell_type": "code",
   "execution_count": 50,
   "metadata": {},
   "outputs": [
    {
     "name": "stderr",
     "output_type": "stream",
     "text": [
      "/Users/rithikkumars/miniconda3/envs/kasturi_ml_project/lib/python3.10/site-packages/torch/utils/_device.py:77: UserWarning:\n",
      "\n",
      "Using a target size (torch.Size([2328])) that is different to the input size (torch.Size([2328, 1])). This will likely lead to incorrect results due to broadcasting. Please ensure they have the same size.\n",
      "\n"
     ]
    },
    {
     "name": "stdout",
     "output_type": "stream",
     "text": [
      "Loss: 56.0029\n",
      "Loss: 128.3236\n"
     ]
    },
    {
     "name": "stderr",
     "output_type": "stream",
     "text": [
      "/Users/rithikkumars/miniconda3/envs/kasturi_ml_project/lib/python3.10/site-packages/torch/utils/_device.py:77: UserWarning:\n",
      "\n",
      "Using a target size (torch.Size([84])) that is different to the input size (torch.Size([84, 1])). This will likely lead to incorrect results due to broadcasting. Please ensure they have the same size.\n",
      "\n"
     ]
    },
    {
     "data": {
      "image/png": "[encoded data removed]",
      "text/plain": [
       "<Figure size 640x480 with 1 Axes>"
      ]
     },
     "metadata": {},
     "output_type": "display_data"
    },
    {
     "data": {
      "image/png": "[encoded data removed]",
      "text/plain": [
       "<Figure size 1000x600 with 1 Axes>"
      ]
     },
     "metadata": {},
     "output_type": "display_data"
    },
    {
     "name": "stdout",
     "output_type": "stream",
     "text": [
      "The mean error is 2.3114261168384878 and the standard deviation of the errors is 8.867805783252683\n"
     ]
    },
    {
     "data": {
      "image/png": "[encoded data removed]",
      "text/plain": [
       "<Figure size 1000x600 with 1 Axes>"
      ]
     },
     "metadata": {},
     "output_type": "display_data"
    },
    {
     "data": {
      "image/png": "[encoded data removed]",
      "text/plain": [
       "<Figure size 640x480 with 1 Axes>"
      ]
     },
     "metadata": {},
     "output_type": "display_data"
    },
    {
     "data": {
      "image/png": "[encoded data removed]",
      "text/plain": [
       "<Figure size 1000x600 with 1 Axes>"
      ]
     },
     "metadata": {},
     "output_type": "display_data"
    },
    {
     "name": "stdout",
     "output_type": "stream",
     "text": [
      "The mean error is 40.13095238095238 and the standard deviation of the errors is 117.21620030259761\n"
     ]
    },
    {
     "data": {
      "image/png": "[encoded data removed]",
      "text/plain": [
       "<Figure size 1000x600 with 1 Axes>"
      ]
     },
     "metadata": {},
     "output_type": "display_data"
    }
   ],
   "source": [
    "\n",
    "# testing the MLP models\n",
    "y_pred_mlp_bin_1 = test_mlp_regressor(mlp_regressor_bin_1, X_bin_1_test.values if isinstance(X_bin_1_test, pd.DataFrame) else X_bin_1_test, np.array(Y_bin_1_test).reshape(-1, 1).squeeze())\n",
    "y_pred_mlp_bin_1 = np.rint(y_pred_mlp_bin_1).astype(int)\n",
    "\n",
    "y_pred_mlp_bin_2 = test_mlp_regressor(mlp_regressor_bin_2, X_bin_2_test.values if isinstance(X_bin_2_test, pd.DataFrame) else X_bin_2_test, np.array(Y_bin_2_test).reshape(-1, 1).squeeze())\n",
    "y_pred_mlp_bin_2 = np.rint(y_pred_mlp_bin_2).astype(int)\n",
    "\n",
    "Y_bin_1_test = np.rint(Y_bin_1_test).astype(int)\n",
    "Y_bin_2_test = np.rint(Y_bin_2_test).astype(int)\n",
    "\n",
    "# plotting the results\n",
    "plt.plot(np.floor(Y_bin_1_test//rounding_graph) * rounding_graph, np.floor(y_pred_mlp_bin_1//rounding_graph) * rounding_graph, 'o')\n",
    "accuracy_bin1 = calculate_accuracy(Y_bin_1_test, y_pred_mlp_bin_1, rounding)\n",
    "\n",
    "plt.xlabel('Actual')\n",
    "plt.ylabel('Predicted')\n",
    "plt.title('Accuracy (prediction error < {}) on Y<=250 bin: {}'.format(rounding, accuracy_bin1))\n",
    "plot_error_frequency(y_pred_mlp_bin_1, Y_bin_1_test, 'MLP', rounding)\n",
    "\n",
    "plt.plot(np.floor(Y_bin_2_test//rounding_graph) * rounding_graph, np.floor(y_pred_mlp_bin_2//rounding_graph) * rounding_graph, 'o')\n",
    "accuracy_bin2 = calculate_accuracy(Y_bin_2_test, y_pred_mlp_bin_2, rounding)\n",
    "\n",
    "plt.xlabel('Actual')\n",
    "plt.ylabel('Predicted')\n",
    "plt.title('Accuracy (prediction error < {}) on Y>250 bin: {}'.format(rounding, accuracy_bin2))\n",
    "plot_error_frequency(y_pred_mlp_bin_2, Y_bin_2_test, 'MLP', rounding)"
   ]
  }
 ],
 "metadata": {
  "kernelspec": {
   "display_name": "Python 3",
   "language": "python",
   "name": "python3"
  },
  "language_info": {
   "codemirror_mode": {
    "name": "ipython",
    "version": 3
   },
   "file_extension": ".py",
   "mimetype": "text/x-python",
   "name": "python",
   "nbconvert_exporter": "python",
   "pygments_lexer": "ipython3",
   "version": "3.10.13"
  },
  "orig_nbformat": 4
 },
 "nbformat": 4,
 "nbformat_minor": 2
}
