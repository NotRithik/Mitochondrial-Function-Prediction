{
 "cells": [
  {
   "cell_type": "markdown",
   "metadata": {},
   "source": [
    "### Objectives\n",
    "\n",
    "First, create a graph representation of the information we have. \n",
    "This would be information about the elements, and the nodes. \n",
    "Using this, we will feed it into our SVM, or a Random Forest, and see from there onwards"
   ]
  },
  {
   "cell_type": "code",
   "execution_count": 70,
   "metadata": {},
   "outputs": [],
   "source": [
    "import pandas as pd\n",
    "import numpy as np\n",
    "from sklearn.model_selection import train_test_split\n",
    "from sklearn.svm import SVC\n",
    "from sklearn.metrics import accuracy_score, classification_report\n",
    "import matplotlib.pyplot as plt\n",
    "from sklearn.preprocessing import StandardScaler\n",
    "\n",
    "import torch\n",
    "import torch.nn as nn\n",
    "import numpy as np\n",
    "import ast\n",
    "import io\n",
    "\n",
    "\n",
    "# Set up torch to use CUDA or MPS if either are available\n",
    "device = torch.device('cuda:0')  if torch.cuda.is_available() else torch.device('mps:0') if torch.backends.mps.is_available() else torch.device('cpu')\n",
    "torch.set_default_device(device)\n",
    "\n",
    "USE_NEW_FEATURES = True\n",
    "TRAIN_SVM = False\n",
    "TRAIN_RF = False\n",
    "\n",
    "MLP_MODEL_PATH = './mlp_regressor.pth'\n",
    "LOAD_MLP_MODEL = False\n",
    "SAVE_MLP_MODEL = True"
   ]
  },
  {
   "cell_type": "code",
   "execution_count": 50,
   "metadata": {},
   "outputs": [],
   "source": [
    "n = pd.read_csv('./full_node_Table_.csv')\n",
    "df = pd.read_csv('./full_Table_.csv')"
   ]
  },
  {
   "cell_type": "code",
   "execution_count": 51,
   "metadata": {},
   "outputs": [
    {
     "name": "stdout",
     "output_type": "stream",
     "text": [
      "Unnamed: 0\n",
      "cc_length_(um)\n",
      "cc_vol_from_img_(um3)\n",
      "branches\n",
      "nodes\n",
      "edges\n",
      "cc_pixel_intensity_ratio\n",
      "cc_average_degree_excludeFreeEnds\n",
      "cc_max_PK\n",
      "line_id\n",
      "diameter\n",
      "element_length_(um)\n",
      "element_average_width\n",
      "element_Volume_Voxel\n",
      "point_id\n",
      "x_x\n",
      "y_x\n",
      "z_x\n",
      "width_(um)\n",
      "pixel_intensity\n",
      "x_pixel\n",
      "y_pixel\n",
      "z_pixel\n",
      "coeff_of_variance_cc\n",
      "coeff_of_variance_line_id\n"
     ]
    }
   ],
   "source": [
    "# cc_df = df.sample(n=1000, random_state=1)\n",
    "cc_df = df\n",
    "cc_df['cc_pixel_intensity_488'] = cc_df['cc_pixel_intensity_488'].astype(int)\n",
    "\n",
    "X = cc_df.drop(['cc_pixel_intensity_488', 'cc_pixel_intensity_405', 'cc_x', 'folder_name_x', 'degree_distribution', 'folder_name_x.1', 'folder_name_y', 'x_y', 'y_y', 'z_y', 'node', 'degree', 'cc_y', 'vol_cc', 'avg_PK_Of_element', 'element_connectivity', 'cc_average_connectivity', 'pixel_intensity_488',\n",
    "'pixel_intensity_405',\n",
    "'pixel_intensity_ratio',\n",
    "'pixel_intensity_555',\n",
    "'element_pixel_intensity_488',\n",
    "'element_pixel_intensity_405',\n",
    "'element_pixel_intensity_ratio'], axis=1)  # Adjust 'target_column' to your actual target column name\n",
    "# Print rows that have NaN in any column, and print that column name\n",
    "pd.set_option('display.max_rows', 5000)\n",
    "pd.set_option('display.max_columns', 500)\n",
    "pd.set_option('display.width', 150)\n",
    "\n",
    "# For any rows that contain a NaN in X, drop it in X and drop the corresponding row in Y.\n",
    "# This is done by getting the row index where X is NaN and dropping the same index in both X and Y\n",
    "nan_rows = X.isna().any(axis=1)\n",
    "X = X.dropna()\n",
    "\n",
    "y = cc_df['cc_pixel_intensity_488']\n",
    "y = y[~nan_rows]\n",
    "\n",
    "X_train, X_test, y_train, y_test = train_test_split(X, y, test_size=0.2, random_state=42)\n",
    "\n",
    "y_train = y_train.to_numpy()\n",
    "\n",
    "for x in X_train.columns:\n",
    "    print(x)\n",
    "\n",
    "# y_test=y_test.to_numpy()"
   ]
  },
  {
   "cell_type": "code",
   "execution_count": 52,
   "metadata": {},
   "outputs": [
    {
     "name": "stderr",
     "output_type": "stream",
     "text": [
      "/var/folders/_8/5153zj6d6w51qcltyf2wlg740000gn/T/ipykernel_64034/2598089992.py:117: RuntimeWarning:\n",
      "\n",
      "invalid value encountered in divide\n",
      "\n",
      "/var/folders/_8/5153zj6d6w51qcltyf2wlg740000gn/T/ipykernel_64034/2598089992.py:117: PerformanceWarning:\n",
      "\n",
      "DataFrame is highly fragmented.  This is usually the result of calling `frame.insert` many times, which has poor performance.  Consider joining all columns at once using pd.concat(axis=1) instead. To get a de-fragmented frame, use `newframe = frame.copy()`\n",
      "\n"
     ]
    },
    {
     "name": "stdout",
     "output_type": "stream",
     "text": [
      "The training data shapes are: (9714, 4663) (9714,) and the testing data shapes are: (2429, 4663) (2429,)\n"
     ]
    }
   ],
   "source": [
    "datafrac = 1\n",
    "# This cell reads the data from the CSV file and cleans it up\n",
    "\n",
    "if(USE_NEW_FEATURES):\n",
    "\n",
    "    # Set pandas options to display all columns and rows\n",
    "    pd.set_option('display.max_rows', None)\n",
    "    pd.set_option('display.max_columns', None)\n",
    "    pd.set_option('display.width', None)\n",
    "\n",
    "    csv_file_path = 'full_Table_All_Cells_With_Angles_And_Edges_CLEANED.csv'\n",
    "    buffer = io.StringIO()\n",
    "\n",
    "    # Open and process the CSV file, to strip entries so that numbers aren't read as strings by read_csv and column names have no leading/trailing whitespaces\n",
    "    with open(csv_file_path, 'r') as file:\n",
    "        for line in file:\n",
    "            cleaned_line = ','.join(cell.strip() for cell in line.split(','))\n",
    "            buffer.write(cleaned_line + '\\n')\n",
    "\n",
    "    # Move the buffer cursor to the start\n",
    "    buffer.seek(0)\n",
    "\n",
    "    # Read the cleaned data into pandas\n",
    "    data = pd.read_csv(buffer)\n",
    "    edge_columns = [col for col in data.columns if col.startswith('edge_') and col.split('_')[-1].isdigit()]\n",
    "    # Replace empty entries with 0 in these columns\n",
    "    data[edge_columns] = data[edge_columns].fillna(0)\n",
    "\n",
    "    # Not sure if these folder names are required for segregating the dataset, so for now dropping them\n",
    "    data = data.drop(columns=['folder_name_x', 'folder_name_x.1', 'folder_name_y'])\n",
    "    # For now, we aren't using the 555 channel either\n",
    "    data = data.drop(columns=['element_pixel_intensity_555'])\n",
    "\n",
    "    # These fields seem to be not implemented either:\n",
    "    data = data.drop(columns=[\"Unnamed: 0_x\", \"x\", \"y\" ,\"z\" ,\"node_x\" ,\"degree_x\" ,\"vol_cc_x\" ,\"avg_PK_Of_element_x\" ,\"element_connectivity_x\" ,\"Unnamed: 0_y\"])\n",
    "\n",
    "    # The next few lines of code are to convert the degree_distribution column to columns labelled node_degree_0, node_degree_1, etc. till node_degree_MAX\n",
    "    def str_to_dict(s):\n",
    "        try:\n",
    "            return ast.literal_eval(s)\n",
    "        except ValueError:\n",
    "            return {}\n",
    "    # Apply the function to the 'degree_distribution' column\n",
    "    data['degree_distribution'] = data['degree_distribution'].apply(str_to_dict)\n",
    "        \n",
    "    # Find the highest node degree in the DataFrame\n",
    "    max_degree = max(degree for row in data['degree_distribution'] for degree in row.keys())\n",
    "\n",
    "    # Create a DataFrame for new columns\n",
    "    new_columns = pd.DataFrame({f'node_degree_{i}': 0 for i in range(1, max_degree + 1)}, index=data.index)\n",
    "\n",
    "    # Concatenate with the original DataFrame\n",
    "    data = pd.concat([data, new_columns], axis=1)\n",
    "        \n",
    "    # Function to update the degree columns for a row\n",
    "    def update_degrees(row):\n",
    "        for degree, count in row['degree_distribution'].items():\n",
    "            row[f'node_degree_{degree}'] = count\n",
    "        return row\n",
    "\n",
    "    # Apply the function to each row\n",
    "    data = data.apply(update_degrees, axis=1)\n",
    "    data = data.drop(columns=['degree_distribution'])\n",
    "    # Now we should have columns labelled node_degree_0, node_degree_1, etc. till node_degree_MAX and dropped the degree_distribution column\n",
    "\n",
    "    non_numerical_columns = data.select_dtypes(exclude=['int', 'float', 'double']).columns\n",
    "    # Print the non-numerical column names\n",
    "    if(len(non_numerical_columns) > 0):\n",
    "        print(non_numerical_columns)\n",
    "        raise Exception('Non-numerical columns found in dataset, can\\'t train model on it directly')\n",
    "\n",
    "    data['cc_average_connectivity'] = data['cc_average_connectivity'].replace([np.inf, -np.inf], 0)\n",
    "\n",
    "    # Print any columns with values like infinity\n",
    "    columns_with_infinity = data.columns.to_series()[data.apply(lambda x: np.isinf(x).any())]\n",
    "    if(len(columns_with_infinity) > 0):\n",
    "        print(columns_with_infinity)\n",
    "        raise Exception('Columns with infinity values found in dataset, can\\'t train model on it directly')\n",
    "\n",
    "    # Drop rows that have NaN values in columns 'clustering coefficient', 'pixel_intensity_ratio', 'vol_cc_y', 'x_y', 'y_y', 'z_y'\n",
    "    # data = data.dropna(subset=['clustering coefficient', 'pixel_intensity_ratio', 'vol_cc_y', 'x_y', 'y_y', 'z_y'])\n",
    "\n",
    "    # Replace any remaining NaN's with 0\n",
    "    data = data.fillna(0)\n",
    "\n",
    "    columns_with_NaN = data.columns.to_series()[data.apply(lambda x: np.isnan(x).any())]\n",
    "    if(len(columns_with_NaN) > 0):\n",
    "        print(columns_with_NaN.values)\n",
    "        raise Exception('Columns with NaN values found in dataset, can\\'t train model on it directly')\n",
    "\n",
    "    # Train on small subset of data to see if it works first\n",
    "    sample_data = data.sample(frac=datafrac ,random_state=1049)\n",
    "\n",
    "    # Split the data into training and testing sets\n",
    "    X = sample_data.drop(columns=['element_pixel_intensity_488'])\n",
    "    X = X.drop(['cc_pixel_intensity_488',\n",
    "                'cc_pixel_intensity_405',\n",
    "                'cc_x', 'x_y', 'y_y', 'z_y', 'cc_y',\n",
    "                'pixel_intensity_405',\n",
    "                'pixel_intensity_ratio',\n",
    "                # 'pixel_intensity_555',\n",
    "                'element_pixel_intensity_405',\n",
    "                'element_pixel_intensity_ratio',\n",
    "                'cc_average_connectivity',\n",
    "                # 'cc_pixel_intensity_555',\n",
    "                'cc_pixel_intensity_ratio', \n",
    "                'pixel_intensity',\n",
    "                'pixel_intensity_488'], axis=1)\n",
    "    \n",
    "    xlabels = X.columns\n",
    "    with open(\"training_feature_list_excl_angles_and_edges.txt\", \"w\") as file:\n",
    "        for thing in xlabels:\n",
    "            if \"Angle\" not in thing and \"edge\" not in thing:\n",
    "                file.write(thing + \"\\n\")\n",
    "    \n",
    "    sample_data['element_pixel_intensity_405_488_ratio'] = (np.array(sample_data['element_pixel_intensity_405']) / np.array(sample_data['element_pixel_intensity_488']))*1000\n",
    "    sample_data.fillna(0, inplace=True)\n",
    "    \n",
    "    # We're basically predicting\n",
    "    # (405 / 488) * 1000\n",
    "\n",
    "    Y = sample_data['element_pixel_intensity_405_488_ratio']\n",
    "    # Group all Y values into classes of 50\n",
    "    # Y = np.floor(Y / 50) * 50\n",
    "\n",
    "    # Perform standardization on X and Y\n",
    "    scalerX = StandardScaler()\n",
    "    scalerY = StandardScaler()\n",
    "\n",
    "    # X = scalerX.fit_transform(X)\n",
    "    # Y = scalerY.fit_transform(Y.values.reshape(-1, 1))\n",
    "    y = np.rint(Y).astype(int)\n",
    "\n",
    "    X_train, X_test, y_train, y_test = train_test_split(X, y, test_size=0.2, random_state=42)\n",
    "    # y_train, y_test = y_train.reshape(-1), y_test.reshape(-1)\n",
    "    print(\"The training data shapes are:\", X_train.shape, y_train.shape, \"and the testing data shapes are:\", X_test.shape, y_test.shape)"
   ]
  },
  {
   "cell_type": "code",
   "execution_count": 72,
   "metadata": {},
   "outputs": [],
   "source": [
    "def plot_error_frequency(y_pred, y_test, classifier_title, rounding):\n",
    "    rounding_ = rounding//2\n",
    "    \n",
    "    # Calculate errors\n",
    "    errors = (abs(y_pred - y_test) < rounding_)\n",
    "\n",
    "    # Extract labels where errors occurred\n",
    "    error_labels = y_test[errors]\n",
    "\n",
    "    # Calculate frequency of each label\n",
    "    unique_labels, counts = np.unique(error_labels, return_counts=True)\n",
    "\n",
    "    # Creating a dictionary of label frequencies for errors\n",
    "    label_error_frequency = dict(zip(unique_labels, counts))\n",
    "\n",
    "    # Finding the range of all possible labels (from min to max in y_test and y_pred)\n",
    "    all_labels = np.unique(np.concatenate((y_test, y_pred)))\n",
    "    min_label = min(all_labels)\n",
    "    max_label = max(all_labels)\n",
    "\n",
    "    # Filling in frequencies for labels that did not have errors\n",
    "    for label in range(min_label, max_label + 1):\n",
    "        if label not in label_error_frequency:\n",
    "            label_error_frequency[label] = 0\n",
    "\n",
    "    # Sorting the dictionary for plotting\n",
    "    sorted_label_error_frequency = dict(sorted(label_error_frequency.items()))\n",
    "\n",
    "    xticks = np.arange(min_label, max_label + 1, 50)\n",
    "\n",
    "    # Plotting the error frequency\n",
    "    plt.figure(figsize=(10, 6))\n",
    "    plt.bar(sorted_label_error_frequency.keys(), sorted_label_error_frequency.values())\n",
    "    plt.xlabel('Prediction')\n",
    "    plt.ylabel('Error Frequency')\n",
    "    plt.title('Error Frequency Distribution for ' + str(classifier_title) + ' for errors >= {} ({} in either direction)'.format(rounding, rounding_))\n",
    "    plt.xticks(xticks, rotation='vertical')  # Set x-ticks to show every 50th label and rotate them vertically\n",
    "    plt.show()\n",
    "\n",
    "    # Calculating mean and standard deviation of absolute errors\n",
    "    absolute_errors = np.abs(y_pred - y_test)\n",
    "    mean_error = np.mean(absolute_errors)\n",
    "    std_error = np.std(absolute_errors)\n",
    "    print(\"The mean error is\", mean_error, \"and the standard deviation of the errors is\", std_error)\n",
    "\n",
    "    # Plotting absolute error for each label\n",
    "    plt.figure(figsize=(10, 6))\n",
    "    for label in all_labels:\n",
    "        label_errors = absolute_errors[y_test == label]\n",
    "        plt.bar([label]*len(label_errors), label_errors, color='r')\n",
    "    plt.xlabel('Prediction')\n",
    "    plt.ylabel('Absolute Error')\n",
    "    plt.title('Absolute Error for Each Label in ' + str(classifier_title))\n",
    "    plt.xticks(xticks, rotation='vertical')\n",
    "    plt.show()\n"
   ]
  },
  {
   "cell_type": "code",
   "execution_count": 54,
   "metadata": {},
   "outputs": [],
   "source": [
    "# For y_train and y_test, round down to nearest 10\n",
    "# y_train = (np.floor(y_train / 10) * 10).astype(int)\n",
    "# y_test = (np.floor(y_test / 10) * 10).astype(int)\n",
    "\n",
    "# Noticed weird behaviour with SVM:\n",
    "# If y_train and y_test are not rounded down to nearest 10,\n",
    "# then the training takes LONGER (it just wouldn't finish training on my mac)\n",
    "# even though it means there are 10 times fewer classifiers to train?\n",
    "# (also yes, doing that means the output would not be a regression but a classification,\n",
    "# and outputs would be classified into groups of 10, as in the model would tell you whether the\n",
    "# functional parameter is between 0-10, 10-20, 20-30, etc.)\n",
    "\n",
    "# Also it was not possible to get the SVM to train on my MAC for datasets above 10k rows (10k including training and testing split)\n",
    "# Training just never finished if I tried that, even if I left it running overnight.\n",
    "\n",
    "# This makes sense though because with more classes (i.e discrete functional parameter values in this case),\n",
    "# the training time grows quadratically as that many more classifiers need to be trained.\n",
    "\n",
    "# print(y_train, y_test)\n",
    "\n",
    "if(TRAIN_SVM):\n",
    "\n",
    "    svm_model = SVC(kernel='linear')  # You can choose different kernels like 'rbf', 'poly', etc.\n",
    "    svm_model.fit(X_train, y_train)\n",
    "\n",
    "\n",
    "    y_pred = svm_model.predict(X_test)\n",
    "\n",
    "    print(pd.DataFrame({'Actual': y_test, 'Predicted': y_pred}))\n",
    "\n",
    "    accuracy = accuracy_score(y_test, y_pred)\n",
    "    classification_rep = classification_report(y_test, y_pred)\n",
    "\n",
    "    plt.plot(y_test, y_pred, 'o')\n",
    "    plt.title('Accuracy: ' + str(accuracy))\n",
    "    plt.xlabel('Actual')\n",
    "    plt.ylabel('Predicted')\n",
    "\n",
    "    y_pred_svm = y_pred\n",
    "\n"
   ]
  },
  {
   "cell_type": "code",
   "execution_count": 55,
   "metadata": {},
   "outputs": [],
   "source": [
    "if(TRAIN_SVM):\n",
    "    plot_error_frequency(y_pred_svm, y_test, 'SVC')"
   ]
  },
  {
   "cell_type": "code",
   "execution_count": 56,
   "metadata": {},
   "outputs": [],
   "source": [
    "if(TRAIN_RF):\n",
    "\n",
    "    # do the same for random forest\n",
    "    from sklearn.ensemble import RandomForestClassifier\n",
    "\n",
    "    rf_model = RandomForestClassifier(n_estimators=300, max_depth=7, random_state=0)\n",
    "    rf_model.fit(X_train, y_train)\n",
    "\n",
    "    y_pred = rf_model.predict(X_test)\n",
    "    accuracy = accuracy_score(y_test, y_pred)\n",
    "\n",
    "    plt.plot(y_test, y_pred, 'o')\n",
    "    plt.title('Accuracy: {}'.format(accuracy))\n",
    "\n",
    "    y_pred_rf = y_pred"
   ]
  },
  {
   "cell_type": "code",
   "execution_count": 57,
   "metadata": {},
   "outputs": [],
   "source": [
    "if(TRAIN_RF):\n",
    "    plot_error_frequency(y_pred_rf, y_test, 'Random Forest')"
   ]
  },
  {
   "cell_type": "code",
   "execution_count": 58,
   "metadata": {},
   "outputs": [],
   "source": [
    "import plotly.graph_objects as go\n",
    "import numpy as np\n",
    "\n",
    "# Used the plotly library as this is much nicer looking, and the graph is more interactive and works well with Jupyter Notebooks\n",
    "\n",
    "def plot_absolute_error_plotly(y_pred_model1, y_pred_model2, y_test, model_title1, model_title_2):\n",
    "    def calculate_error_frequency(y_pred):\n",
    "        incorrect = y_pred != y_test\n",
    "\n",
    "        unique_predictions, counts = np.unique(y_pred[incorrect], return_counts=True)\n",
    "        error_freq = dict(zip(unique_predictions, counts))\n",
    "\n",
    "        return error_freq\n",
    "\n",
    "    error_freq_svc = calculate_error_frequency(y_pred_model1)\n",
    "    error_freq_rf = calculate_error_frequency(y_pred_model2)\n",
    "\n",
    "    all_labels = np.unique(np.concatenate((y_pred_model1, y_pred_model2)))\n",
    "    all_labels.sort()\n",
    "\n",
    "    svc_freq = [error_freq_svc.get(label, 0) for label in all_labels]\n",
    "    rf_freq = [error_freq_rf.get(label, 0) for label in all_labels]\n",
    "\n",
    "    fig = go.Figure(data=[\n",
    "        go.Bar(name=model_title1, x=all_labels, y=svc_freq),\n",
    "        go.Bar(name=model_title_2, x=all_labels, y=rf_freq)\n",
    "    ])\n",
    "\n",
    "    fig.update_layout(\n",
    "        barmode='group',\n",
    "        title='Prediction Error Frequency',\n",
    "        xaxis_title='Predicted Label',\n",
    "        yaxis_title='Frequency of Incorrect Predictions',\n",
    "        xaxis=dict(type='category')\n",
    "    )\n",
    "\n",
    "    fig.show()\n",
    "\n",
    "\n",
    "def plot_error_label_frequency_plotly(y_pred_model1, y_pred_model2, y_test, model_title1, model_title2):\n",
    "    labels = np.unique(y_test)\n",
    "    errors_svc = [np.sum((y_pred_model1 != y_test) & (y_test == label)) for label in labels]\n",
    "    errors_rf = [np.sum((y_pred_model2 != y_test) & (y_test == label)) for label in labels]\n",
    "\n",
    "    bar_width = max(0.5, 30 / len(labels))\n",
    "\n",
    "    fig = go.Figure(data=[\n",
    "        go.Bar(name=model_title1, x=labels, y=errors_svc, width=bar_width, marker_color='blue', marker_line_color='blue', marker_line_width=1.5, opacity=1),\n",
    "        go.Bar(name=model_title2, x=labels, y=errors_rf, width=bar_width, marker_color='red', marker_line_color='red', marker_line_width=1.5, opacity=1)\n",
    "    ])\n",
    "    \n",
    "    fig.update_layout(\n",
    "        barmode='group',\n",
    "        title='Error Frequency per Label',\n",
    "        xaxis_title='Labels',\n",
    "        yaxis_title='Number of Errors',\n",
    "        xaxis=dict(tickmode='array', tickvals=labels[::10]),\n",
    "        plot_bgcolor='rgba(255, 255, 255, 1)',\n",
    "        font=dict(\n",
    "            size=12,  # You can adjust the size of the text here for better visibility\n",
    "        )\n",
    "    )\n",
    "    fig.show()\n"
   ]
  },
  {
   "cell_type": "code",
   "execution_count": 59,
   "metadata": {},
   "outputs": [],
   "source": [
    "if(TRAIN_RF and TRAIN_SVM):\n",
    "    plot_absolute_error_plotly(y_pred_svm, y_pred_rf, y_test, 'SVC', 'Random Forest')\n",
    "    plot_error_label_frequency_plotly(y_pred_svm, y_pred_rf, y_test, 'SVC', 'Random Forest')"
   ]
  },
  {
   "cell_type": "code",
   "execution_count": 60,
   "metadata": {},
   "outputs": [],
   "source": [
    "# Data distribution\n",
    "# Basically plot the frequency of ocurrence of each value\n",
    "# of the functional parameter in the dataset inputted to the models\n",
    "\n",
    "# This is only plotting the subset in the training set, and not in the entire dataset\n",
    "\n",
    "def plot_data_distribution(y):\n",
    "    # Calculate the frequency of each value in the y_test array\n",
    "    unique_values, counts = np.unique(y, return_counts=True)\n",
    "\n",
    "    # Create the bar chart\n",
    "    fig = go.Figure(data=go.Bar(x=unique_values, y=counts))\n",
    "\n",
    "    # Update the layout for a better visual representation\n",
    "    fig.update_layout(\n",
    "        title='Data Distribution',\n",
    "        xaxis_title='Unique Values',\n",
    "        yaxis_title='Frequency',\n",
    "        xaxis=dict(type='category'),  # Treat unique values as discrete categories\n",
    "        yaxis=dict(title='Frequency'),  # You can also set the range or scale of the y-axis if needed\n",
    "    )\n",
    "\n",
    "    fig.show()\n",
    "    print(\"The mean of the data distribution is\", np.mean(y_train), \"and the standard deviation is\", np.std(y_train))"
   ]
  },
  {
   "cell_type": "code",
   "execution_count": 61,
   "metadata": {},
   "outputs": [
    {
     "data": {
      "application/vnd.plotly.v1+json": {
       "config": {
        "plotlyServerURL": "https://plot.ly"
       },
       "data": [
        {
         "type": "bar",
         "x": [
          0,
          2,
          5,
          6,
          7,
          8,
          9,
          10,
          11,
          12,
          13,
          14,
          15,
          16,
          17,
          18,
          19,
          20,
          21,
          22,
          23,
          24,
          25,
          26,
          27,
          28,
          29,
          30,
          31,
          32,
          33,
          34,
          35,
          36,
          37,
          38,
          39,
          40,
          41,
          42,
          43,
          44,
          45,
          46,
          47,
          48,
          49,
          50,
          51,
          52,
          53,
          54,
          55,
          56,
          57,
          58,
          59,
          60,
          61,
          62,
          63,
          64,
          65,
          66,
          67,
          68,
          69,
          70,
          71,
          72,
          73,
          74,
          75,
          76,
          77,
          78,
          79,
          80,
          81,
          82,
          83,
          84,
          85,
          86,
          87,
          88,
          89,
          90,
          91,
          92,
          93,
          94,
          95,
          96,
          97,
          98,
          99,
          100,
          101,
          102,
          103,
          104,
          105,
          106,
          107,
          108,
          109,
          110,
          111,
          112,
          113,
          114,
          115,
          116,
          117,
          118,
          119,
          120,
          121,
          122,
          123,
          124,
          125,
          126,
          127,
          128,
          129,
          130,
          131,
          132,
          133,
          134,
          135,
          136,
          137,
          138,
          139,
          140,
          141,
          142,
          143,
          144,
          145,
          146,
          147,
          148,
          149,
          150,
          151,
          152,
          153,
          154,
          155,
          156,
          157,
          158,
          159,
          160,
          161,
          162,
          163,
          164,
          165,
          166,
          167,
          168,
          169,
          170,
          171,
          172,
          173,
          174,
          175,
          176,
          177,
          178,
          179,
          180,
          181,
          182,
          183,
          184,
          185,
          186,
          187,
          188,
          189,
          190,
          191,
          192,
          193,
          194,
          195,
          196,
          197,
          198,
          199,
          200,
          201,
          202,
          203,
          204,
          205,
          206,
          207,
          208,
          209,
          210,
          211,
          212,
          213,
          214,
          215,
          216,
          217,
          218,
          219,
          220,
          221,
          222,
          223,
          224,
          225,
          226,
          227,
          228,
          229,
          230,
          231,
          232,
          233,
          234,
          235,
          236,
          237,
          238,
          239,
          240,
          241,
          242,
          243,
          244,
          245,
          246,
          247,
          248,
          249,
          250,
          251,
          252,
          253,
          254,
          255,
          256,
          257,
          258,
          259,
          260,
          261,
          262,
          263,
          264,
          265,
          266,
          267,
          268,
          269,
          270,
          271,
          272,
          273,
          274,
          275,
          276,
          277,
          278,
          279,
          280,
          281,
          282,
          283,
          284,
          285,
          286,
          287,
          288,
          289,
          292,
          293,
          294,
          295,
          296,
          297,
          298,
          299,
          300,
          301,
          302,
          303,
          304,
          305,
          306,
          307,
          308,
          309,
          310,
          311,
          312,
          314,
          315,
          316,
          317,
          318,
          319,
          320,
          321,
          323,
          325,
          326,
          327,
          328,
          329,
          330,
          331,
          332,
          333,
          334,
          335,
          336,
          337,
          338,
          339,
          341,
          342,
          343,
          344,
          345,
          346,
          348,
          349,
          350,
          351,
          355,
          356,
          357,
          358,
          359,
          360,
          361,
          362,
          363,
          364,
          365,
          366,
          367,
          368,
          369,
          370,
          372,
          375,
          377,
          378,
          379,
          380,
          381,
          382,
          385,
          387,
          388,
          391,
          392,
          393,
          395,
          399,
          401,
          402,
          404,
          407,
          410,
          412,
          416,
          418,
          419,
          420,
          422,
          425,
          429,
          431,
          433,
          440,
          443,
          451,
          452,
          453,
          457,
          467,
          469,
          471,
          473,
          474,
          478,
          480,
          485,
          487,
          492,
          495,
          502,
          504,
          505,
          516,
          517,
          533,
          569,
          573,
          581,
          585,
          591,
          598,
          603,
          607,
          619,
          622,
          655,
          726,
          795,
          847,
          972,
          1022,
          1063,
          1102,
          1160,
          1344,
          1438,
          1527,
          2368,
          2556,
          3161
         ],
         "y": [
          88,
          1,
          1,
          3,
          3,
          1,
          3,
          1,
          4,
          4,
          7,
          7,
          13,
          14,
          14,
          12,
          16,
          14,
          23,
          22,
          31,
          30,
          21,
          31,
          51,
          29,
          42,
          55,
          46,
          49,
          57,
          77,
          75,
          81,
          76,
          77,
          73,
          89,
          107,
          100,
          92,
          105,
          104,
          123,
          100,
          116,
          134,
          115,
          113,
          116,
          128,
          128,
          143,
          112,
          118,
          127,
          108,
          112,
          116,
          119,
          116,
          108,
          126,
          107,
          91,
          102,
          88,
          121,
          105,
          112,
          89,
          99,
          87,
          92,
          97,
          97,
          101,
          84,
          95,
          89,
          87,
          83,
          84,
          87,
          107,
          81,
          85,
          90,
          80,
          76,
          75,
          79,
          76,
          75,
          61,
          65,
          56,
          60,
          64,
          68,
          74,
          55,
          73,
          59,
          50,
          57,
          46,
          70,
          50,
          58,
          52,
          55,
          52,
          47,
          76,
          64,
          50,
          47,
          50,
          60,
          48,
          42,
          49,
          42,
          49,
          59,
          49,
          56,
          53,
          46,
          53,
          47,
          39,
          41,
          54,
          41,
          62,
          51,
          47,
          43,
          44,
          34,
          39,
          43,
          39,
          38,
          49,
          51,
          46,
          28,
          43,
          40,
          40,
          25,
          36,
          41,
          33,
          37,
          33,
          27,
          41,
          39,
          33,
          37,
          30,
          26,
          37,
          34,
          35,
          28,
          22,
          27,
          35,
          28,
          35,
          22,
          26,
          27,
          18,
          15,
          27,
          24,
          31,
          32,
          19,
          21,
          25,
          25,
          21,
          22,
          19,
          18,
          22,
          22,
          16,
          13,
          17,
          12,
          15,
          28,
          17,
          19,
          9,
          18,
          9,
          21,
          10,
          12,
          18,
          19,
          11,
          12,
          10,
          13,
          10,
          19,
          16,
          13,
          18,
          7,
          4,
          11,
          13,
          8,
          6,
          8,
          8,
          6,
          9,
          4,
          9,
          8,
          5,
          6,
          7,
          12,
          11,
          8,
          4,
          4,
          7,
          4,
          7,
          6,
          3,
          8,
          3,
          6,
          7,
          9,
          8,
          4,
          9,
          8,
          3,
          5,
          5,
          9,
          6,
          7,
          4,
          6,
          3,
          5,
          6,
          5,
          4,
          4,
          2,
          4,
          4,
          1,
          5,
          3,
          6,
          4,
          5,
          5,
          1,
          2,
          2,
          3,
          6,
          5,
          1,
          2,
          4,
          1,
          4,
          2,
          2,
          2,
          4,
          6,
          3,
          3,
          3,
          7,
          4,
          6,
          1,
          3,
          3,
          2,
          2,
          3,
          1,
          2,
          1,
          4,
          2,
          1,
          2,
          3,
          2,
          3,
          3,
          3,
          1,
          1,
          2,
          1,
          3,
          4,
          2,
          2,
          2,
          1,
          2,
          1,
          1,
          1,
          1,
          1,
          1,
          5,
          2,
          1,
          2,
          1,
          2,
          1,
          1,
          1,
          2,
          1,
          2,
          1,
          1,
          1,
          2,
          3,
          2,
          2,
          4,
          2,
          2,
          2,
          1,
          1,
          2,
          1,
          1,
          1,
          3,
          3,
          2,
          2,
          4,
          3,
          3,
          1,
          1,
          1,
          1,
          2,
          1,
          1,
          2,
          1,
          3,
          1,
          1,
          1,
          1,
          2,
          1,
          1,
          1,
          1,
          1,
          1,
          1,
          1,
          1,
          1,
          1,
          1,
          1,
          1,
          1,
          1,
          1,
          2,
          1,
          1,
          1,
          1,
          1,
          1,
          1,
          1,
          1,
          1,
          1,
          1,
          1,
          1,
          1,
          1,
          1,
          1,
          1,
          1,
          1,
          1,
          1,
          1,
          1,
          1,
          1,
          1,
          1,
          1,
          1,
          1,
          1
         ]
        }
       ],
       "layout": {
        "template": {
         "data": {
          "bar": [
           {
            "error_x": {
             "color": "#2a3f5f"
            },
            "error_y": {
             "color": "#2a3f5f"
            },
            "marker": {
             "line": {
              "color": "#E5ECF6",
              "width": 0.5
             },
             "pattern": {
              "fillmode": "overlay",
              "size": 10,
              "solidity": 0.2
             }
            },
            "type": "bar"
           }
          ],
          "barpolar": [
           {
            "marker": {
             "line": {
              "color": "#E5ECF6",
              "width": 0.5
             },
             "pattern": {
              "fillmode": "overlay",
              "size": 10,
              "solidity": 0.2
             }
            },
            "type": "barpolar"
           }
          ],
          "carpet": [
           {
            "aaxis": {
             "endlinecolor": "#2a3f5f",
             "gridcolor": "white",
             "linecolor": "white",
             "minorgridcolor": "white",
             "startlinecolor": "#2a3f5f"
            },
            "baxis": {
             "endlinecolor": "#2a3f5f",
             "gridcolor": "white",
             "linecolor": "white",
             "minorgridcolor": "white",
             "startlinecolor": "#2a3f5f"
            },
            "type": "carpet"
           }
          ],
          "choropleth": [
           {
            "colorbar": {
             "outlinewidth": 0,
             "ticks": ""
            },
            "type": "choropleth"
           }
          ],
          "contour": [
           {
            "colorbar": {
             "outlinewidth": 0,
             "ticks": ""
            },
            "colorscale": [
             [
              0,
              "#0d0887"
             ],
             [
              0.1111111111111111,
              "#46039f"
             ],
             [
              0.2222222222222222,
              "#7201a8"
             ],
             [
              0.3333333333333333,
              "#9c179e"
             ],
             [
              0.4444444444444444,
              "#bd3786"
             ],
             [
              0.5555555555555556,
              "#d8576b"
             ],
             [
              0.6666666666666666,
              "#ed7953"
             ],
             [
              0.7777777777777778,
              "#fb9f3a"
             ],
             [
              0.8888888888888888,
              "#fdca26"
             ],
             [
              1,
              "#f0f921"
             ]
            ],
            "type": "contour"
           }
          ],
          "contourcarpet": [
           {
            "colorbar": {
             "outlinewidth": 0,
             "ticks": ""
            },
            "type": "contourcarpet"
           }
          ],
          "heatmap": [
           {
            "colorbar": {
             "outlinewidth": 0,
             "ticks": ""
            },
            "colorscale": [
             [
              0,
              "#0d0887"
             ],
             [
              0.1111111111111111,
              "#46039f"
             ],
             [
              0.2222222222222222,
              "#7201a8"
             ],
             [
              0.3333333333333333,
              "#9c179e"
             ],
             [
              0.4444444444444444,
              "#bd3786"
             ],
             [
              0.5555555555555556,
              "#d8576b"
             ],
             [
              0.6666666666666666,
              "#ed7953"
             ],
             [
              0.7777777777777778,
              "#fb9f3a"
             ],
             [
              0.8888888888888888,
              "#fdca26"
             ],
             [
              1,
              "#f0f921"
             ]
            ],
            "type": "heatmap"
           }
          ],
          "heatmapgl": [
           {
            "colorbar": {
             "outlinewidth": 0,
             "ticks": ""
            },
            "colorscale": [
             [
              0,
              "#0d0887"
             ],
             [
              0.1111111111111111,
              "#46039f"
             ],
             [
              0.2222222222222222,
              "#7201a8"
             ],
             [
              0.3333333333333333,
              "#9c179e"
             ],
             [
              0.4444444444444444,
              "#bd3786"
             ],
             [
              0.5555555555555556,
              "#d8576b"
             ],
             [
              0.6666666666666666,
              "#ed7953"
             ],
             [
              0.7777777777777778,
              "#fb9f3a"
             ],
             [
              0.8888888888888888,
              "#fdca26"
             ],
             [
              1,
              "#f0f921"
             ]
            ],
            "type": "heatmapgl"
           }
          ],
          "histogram": [
           {
            "marker": {
             "pattern": {
              "fillmode": "overlay",
              "size": 10,
              "solidity": 0.2
             }
            },
            "type": "histogram"
           }
          ],
          "histogram2d": [
           {
            "colorbar": {
             "outlinewidth": 0,
             "ticks": ""
            },
            "colorscale": [
             [
              0,
              "#0d0887"
             ],
             [
              0.1111111111111111,
              "#46039f"
             ],
             [
              0.2222222222222222,
              "#7201a8"
             ],
             [
              0.3333333333333333,
              "#9c179e"
             ],
             [
              0.4444444444444444,
              "#bd3786"
             ],
             [
              0.5555555555555556,
              "#d8576b"
             ],
             [
              0.6666666666666666,
              "#ed7953"
             ],
             [
              0.7777777777777778,
              "#fb9f3a"
             ],
             [
              0.8888888888888888,
              "#fdca26"
             ],
             [
              1,
              "#f0f921"
             ]
            ],
            "type": "histogram2d"
           }
          ],
          "histogram2dcontour": [
           {
            "colorbar": {
             "outlinewidth": 0,
             "ticks": ""
            },
            "colorscale": [
             [
              0,
              "#0d0887"
             ],
             [
              0.1111111111111111,
              "#46039f"
             ],
             [
              0.2222222222222222,
              "#7201a8"
             ],
             [
              0.3333333333333333,
              "#9c179e"
             ],
             [
              0.4444444444444444,
              "#bd3786"
             ],
             [
              0.5555555555555556,
              "#d8576b"
             ],
             [
              0.6666666666666666,
              "#ed7953"
             ],
             [
              0.7777777777777778,
              "#fb9f3a"
             ],
             [
              0.8888888888888888,
              "#fdca26"
             ],
             [
              1,
              "#f0f921"
             ]
            ],
            "type": "histogram2dcontour"
           }
          ],
          "mesh3d": [
           {
            "colorbar": {
             "outlinewidth": 0,
             "ticks": ""
            },
            "type": "mesh3d"
           }
          ],
          "parcoords": [
           {
            "line": {
             "colorbar": {
              "outlinewidth": 0,
              "ticks": ""
             }
            },
            "type": "parcoords"
           }
          ],
          "pie": [
           {
            "automargin": true,
            "type": "pie"
           }
          ],
          "scatter": [
           {
            "fillpattern": {
             "fillmode": "overlay",
             "size": 10,
             "solidity": 0.2
            },
            "type": "scatter"
           }
          ],
          "scatter3d": [
           {
            "line": {
             "colorbar": {
              "outlinewidth": 0,
              "ticks": ""
             }
            },
            "marker": {
             "colorbar": {
              "outlinewidth": 0,
              "ticks": ""
             }
            },
            "type": "scatter3d"
           }
          ],
          "scattercarpet": [
           {
            "marker": {
             "colorbar": {
              "outlinewidth": 0,
              "ticks": ""
             }
            },
            "type": "scattercarpet"
           }
          ],
          "scattergeo": [
           {
            "marker": {
             "colorbar": {
              "outlinewidth": 0,
              "ticks": ""
             }
            },
            "type": "scattergeo"
           }
          ],
          "scattergl": [
           {
            "marker": {
             "colorbar": {
              "outlinewidth": 0,
              "ticks": ""
             }
            },
            "type": "scattergl"
           }
          ],
          "scattermapbox": [
           {
            "marker": {
             "colorbar": {
              "outlinewidth": 0,
              "ticks": ""
             }
            },
            "type": "scattermapbox"
           }
          ],
          "scatterpolar": [
           {
            "marker": {
             "colorbar": {
              "outlinewidth": 0,
              "ticks": ""
             }
            },
            "type": "scatterpolar"
           }
          ],
          "scatterpolargl": [
           {
            "marker": {
             "colorbar": {
              "outlinewidth": 0,
              "ticks": ""
             }
            },
            "type": "scatterpolargl"
           }
          ],
          "scatterternary": [
           {
            "marker": {
             "colorbar": {
              "outlinewidth": 0,
              "ticks": ""
             }
            },
            "type": "scatterternary"
           }
          ],
          "surface": [
           {
            "colorbar": {
             "outlinewidth": 0,
             "ticks": ""
            },
            "colorscale": [
             [
              0,
              "#0d0887"
             ],
             [
              0.1111111111111111,
              "#46039f"
             ],
             [
              0.2222222222222222,
              "#7201a8"
             ],
             [
              0.3333333333333333,
              "#9c179e"
             ],
             [
              0.4444444444444444,
              "#bd3786"
             ],
             [
              0.5555555555555556,
              "#d8576b"
             ],
             [
              0.6666666666666666,
              "#ed7953"
             ],
             [
              0.7777777777777778,
              "#fb9f3a"
             ],
             [
              0.8888888888888888,
              "#fdca26"
             ],
             [
              1,
              "#f0f921"
             ]
            ],
            "type": "surface"
           }
          ],
          "table": [
           {
            "cells": {
             "fill": {
              "color": "#EBF0F8"
             },
             "line": {
              "color": "white"
             }
            },
            "header": {
             "fill": {
              "color": "#C8D4E3"
             },
             "line": {
              "color": "white"
             }
            },
            "type": "table"
           }
          ]
         },
         "layout": {
          "annotationdefaults": {
           "arrowcolor": "#2a3f5f",
           "arrowhead": 0,
           "arrowwidth": 1
          },
          "autotypenumbers": "strict",
          "coloraxis": {
           "colorbar": {
            "outlinewidth": 0,
            "ticks": ""
           }
          },
          "colorscale": {
           "diverging": [
            [
             0,
             "#8e0152"
            ],
            [
             0.1,
             "#c51b7d"
            ],
            [
             0.2,
             "#de77ae"
            ],
            [
             0.3,
             "#f1b6da"
            ],
            [
             0.4,
             "#fde0ef"
            ],
            [
             0.5,
             "#f7f7f7"
            ],
            [
             0.6,
             "#e6f5d0"
            ],
            [
             0.7,
             "#b8e186"
            ],
            [
             0.8,
             "#7fbc41"
            ],
            [
             0.9,
             "#4d9221"
            ],
            [
             1,
             "#276419"
            ]
           ],
           "sequential": [
            [
             0,
             "#0d0887"
            ],
            [
             0.1111111111111111,
             "#46039f"
            ],
            [
             0.2222222222222222,
             "#7201a8"
            ],
            [
             0.3333333333333333,
             "#9c179e"
            ],
            [
             0.4444444444444444,
             "#bd3786"
            ],
            [
             0.5555555555555556,
             "#d8576b"
            ],
            [
             0.6666666666666666,
             "#ed7953"
            ],
            [
             0.7777777777777778,
             "#fb9f3a"
            ],
            [
             0.8888888888888888,
             "#fdca26"
            ],
            [
             1,
             "#f0f921"
            ]
           ],
           "sequentialminus": [
            [
             0,
             "#0d0887"
            ],
            [
             0.1111111111111111,
             "#46039f"
            ],
            [
             0.2222222222222222,
             "#7201a8"
            ],
            [
             0.3333333333333333,
             "#9c179e"
            ],
            [
             0.4444444444444444,
             "#bd3786"
            ],
            [
             0.5555555555555556,
             "#d8576b"
            ],
            [
             0.6666666666666666,
             "#ed7953"
            ],
            [
             0.7777777777777778,
             "#fb9f3a"
            ],
            [
             0.8888888888888888,
             "#fdca26"
            ],
            [
             1,
             "#f0f921"
            ]
           ]
          },
          "colorway": [
           "#636efa",
           "#EF553B",
           "#00cc96",
           "#ab63fa",
           "#FFA15A",
           "#19d3f3",
           "#FF6692",
           "#B6E880",
           "#FF97FF",
           "#FECB52"
          ],
          "font": {
           "color": "#2a3f5f"
          },
          "geo": {
           "bgcolor": "white",
           "lakecolor": "white",
           "landcolor": "#E5ECF6",
           "showlakes": true,
           "showland": true,
           "subunitcolor": "white"
          },
          "hoverlabel": {
           "align": "left"
          },
          "hovermode": "closest",
          "mapbox": {
           "style": "light"
          },
          "paper_bgcolor": "white",
          "plot_bgcolor": "#E5ECF6",
          "polar": {
           "angularaxis": {
            "gridcolor": "white",
            "linecolor": "white",
            "ticks": ""
           },
           "bgcolor": "#E5ECF6",
           "radialaxis": {
            "gridcolor": "white",
            "linecolor": "white",
            "ticks": ""
           }
          },
          "scene": {
           "xaxis": {
            "backgroundcolor": "#E5ECF6",
            "gridcolor": "white",
            "gridwidth": 2,
            "linecolor": "white",
            "showbackground": true,
            "ticks": "",
            "zerolinecolor": "white"
           },
           "yaxis": {
            "backgroundcolor": "#E5ECF6",
            "gridcolor": "white",
            "gridwidth": 2,
            "linecolor": "white",
            "showbackground": true,
            "ticks": "",
            "zerolinecolor": "white"
           },
           "zaxis": {
            "backgroundcolor": "#E5ECF6",
            "gridcolor": "white",
            "gridwidth": 2,
            "linecolor": "white",
            "showbackground": true,
            "ticks": "",
            "zerolinecolor": "white"
           }
          },
          "shapedefaults": {
           "line": {
            "color": "#2a3f5f"
           }
          },
          "ternary": {
           "aaxis": {
            "gridcolor": "white",
            "linecolor": "white",
            "ticks": ""
           },
           "baxis": {
            "gridcolor": "white",
            "linecolor": "white",
            "ticks": ""
           },
           "bgcolor": "#E5ECF6",
           "caxis": {
            "gridcolor": "white",
            "linecolor": "white",
            "ticks": ""
           }
          },
          "title": {
           "x": 0.05
          },
          "xaxis": {
           "automargin": true,
           "gridcolor": "white",
           "linecolor": "white",
           "ticks": "",
           "title": {
            "standoff": 15
           },
           "zerolinecolor": "white",
           "zerolinewidth": 2
          },
          "yaxis": {
           "automargin": true,
           "gridcolor": "white",
           "linecolor": "white",
           "ticks": "",
           "title": {
            "standoff": 15
           },
           "zerolinecolor": "white",
           "zerolinewidth": 2
          }
         }
        },
        "title": {
         "text": "Data Distribution"
        },
        "xaxis": {
         "title": {
          "text": "Unique Values"
         },
         "type": "category"
        },
        "yaxis": {
         "title": {
          "text": "Frequency"
         }
        }
       }
      }
     },
     "metadata": {},
     "output_type": "display_data"
    },
    {
     "name": "stdout",
     "output_type": "stream",
     "text": [
      "The mean of the data distribution is 104.51677990529133 and the standard deviation is 85.39905585230342\n"
     ]
    }
   ],
   "source": [
    "\n",
    "plot_data_distribution(y)"
   ]
  },
  {
   "cell_type": "code",
   "execution_count": 62,
   "metadata": {},
   "outputs": [],
   "source": [
    "# Define the MLP regressor class\n",
    "class MLPRegressor(nn.Module):\n",
    "    def __init__(self, input_size, hidden_size):\n",
    "        super().__init__()\n",
    "        self.fc1 = nn.Linear(input_size, hidden_size)\n",
    "        self.fc2 = nn.Linear(hidden_size, hidden_size//2)\n",
    "        self.fc3 = nn.Linear(hidden_size//2, 1)\n",
    "\n",
    "    def forward(self, x):\n",
    "        x = torch.tanh(self.fc1(x))\n",
    "        x = torch.relu(self.fc2(x))\n",
    "        x = self.fc3(x)\n",
    "        return x\n",
    "\n",
    "# Create an instance of the MLP regressor\n",
    "input_size = X_train.shape[1]\n",
    "# hidden_size = int((X_train.shape[1] + 1) / 2)\n",
    "hidden_size = input_size\n",
    "mlp_regressor = MLPRegressor(input_size, hidden_size).to(device)\n",
    "if(LOAD_MLP_MODEL):\n",
    "    try:\n",
    "        mlp_regressor.load_state_dict(torch.load(MLP_MODEL_PATH))\n",
    "    except Exception as e:\n",
    "        print(\"Couldn't load model\")\n",
    "        print(e)\n",
    "\n",
    "# Define the loss function and optimizer\n",
    "criterion = nn.SmoothL1Loss()\n",
    "optimizer = torch.optim.Adam(mlp_regressor.parameters(), lr=0.001, weight_decay=1e-5)\n",
    "\n",
    "def create_batches(X, Y, batch_size):\n",
    "    num_batches = int(np.ceil(X.shape[0] / batch_size))\n",
    "    batches = []\n",
    "\n",
    "    for i in range(num_batches):\n",
    "        start = i * batch_size\n",
    "        end = start + batch_size\n",
    "        X_batch = X[start:end]\n",
    "        Y_batch = Y[start:end]\n",
    "        batches.append((X_batch, Y_batch))\n",
    "\n",
    "    return batches\n",
    "\n",
    "# Train the MLP regressor\n",
    "def train_mlp_regressor(epochs, batch_size, X_train, Y_train):\n",
    "    # Convert the training data to PyTorch tensors\n",
    "    X_train_tensor = torch.tensor(X_train, dtype=torch.float32)\n",
    "    Y_train_tensor = torch.tensor(Y_train, dtype=torch.float32)\n",
    "\n",
    "    # Create manual batches\n",
    "    train_batches = create_batches(X_train_tensor, Y_train_tensor, batch_size)\n",
    "\n",
    "    for epoch in range(epochs):\n",
    "        for X_batch, Y_batch in train_batches:\n",
    "            # Move batch to the device\n",
    "            X_batch, Y_batch = X_batch.to(device), Y_batch.to(device)\n",
    "\n",
    "            # Forward pass\n",
    "            outputs = mlp_regressor(X_batch)\n",
    "            loss = criterion(outputs, Y_batch)\n",
    "\n",
    "            # Backward and optimize\n",
    "            optimizer.zero_grad()\n",
    "            loss.backward()\n",
    "            optimizer.step()\n",
    "\n",
    "        if (epoch + 1) % 10 == 0:\n",
    "            print(f'Epoch [{epoch+1}/{epochs}], Loss: {loss.item():.4f}')\n",
    "\n",
    "        \n",
    "def test_mlp_regressor(X_test, Y_test):\n",
    "    # Convert the testing data to PyTorch tensors\n",
    "    X_test_tensor = torch.tensor(X_test, dtype=torch.float32)\n",
    "    Y_test_tensor = torch.tensor(Y_test, dtype=torch.float32).squeeze()\n",
    "\n",
    "    # Test the MLP regressor\n",
    "    with torch.no_grad():\n",
    "        outputs = mlp_regressor(X_test_tensor)\n",
    "        loss = criterion(outputs, Y_test_tensor)\n",
    "        print(f'Loss: {loss.item():.4f}')\n",
    "        \n",
    "    # Convert the predictions to a NumPy array\n",
    "    return outputs.cpu().detach().numpy().squeeze()"
   ]
  },
  {
   "cell_type": "code",
   "execution_count": 63,
   "metadata": {},
   "outputs": [
    {
     "name": "stdout",
     "output_type": "stream",
     "text": [
      "Epoch [10/1000], Loss: 46.1499\n",
      "Epoch [20/1000], Loss: 43.6055\n",
      "Epoch [30/1000], Loss: 41.5784\n",
      "Epoch [40/1000], Loss: 38.0573\n",
      "Epoch [50/1000], Loss: 38.1481\n",
      "Epoch [60/1000], Loss: 34.5409\n",
      "Epoch [70/1000], Loss: 34.8768\n",
      "Epoch [80/1000], Loss: 34.9184\n",
      "Epoch [90/1000], Loss: 30.5898\n",
      "Epoch [100/1000], Loss: 33.2829\n",
      "Epoch [110/1000], Loss: 31.3320\n",
      "Epoch [120/1000], Loss: 28.1463\n",
      "Epoch [130/1000], Loss: 35.3992\n",
      "Epoch [140/1000], Loss: 39.9005\n",
      "Epoch [150/1000], Loss: 26.2499\n",
      "Epoch [160/1000], Loss: 27.5187\n",
      "Epoch [170/1000], Loss: 30.8715\n",
      "Epoch [180/1000], Loss: 25.7681\n",
      "Epoch [190/1000], Loss: 26.0130\n",
      "Epoch [200/1000], Loss: 26.1299\n",
      "Epoch [210/1000], Loss: 32.1343\n",
      "Epoch [220/1000], Loss: 31.8459\n",
      "Epoch [230/1000], Loss: 23.2261\n",
      "Epoch [240/1000], Loss: 32.4317\n",
      "Epoch [250/1000], Loss: 22.8320\n",
      "Epoch [260/1000], Loss: 22.1141\n",
      "Epoch [270/1000], Loss: 23.3375\n",
      "Epoch [280/1000], Loss: 21.3333\n",
      "Epoch [290/1000], Loss: 21.0037\n",
      "Epoch [300/1000], Loss: 21.9970\n",
      "Epoch [310/1000], Loss: 19.7006\n",
      "Epoch [320/1000], Loss: 20.8723\n",
      "Epoch [330/1000], Loss: 19.6997\n",
      "Epoch [340/1000], Loss: 18.1372\n",
      "Epoch [350/1000], Loss: 23.6031\n",
      "Epoch [360/1000], Loss: 15.5593\n",
      "Epoch [370/1000], Loss: 18.1080\n",
      "Epoch [380/1000], Loss: 19.4581\n",
      "Epoch [390/1000], Loss: 16.8676\n",
      "Epoch [400/1000], Loss: 16.8664\n",
      "Epoch [410/1000], Loss: 18.9344\n",
      "Epoch [420/1000], Loss: 16.6389\n",
      "Epoch [430/1000], Loss: 16.8416\n",
      "Epoch [440/1000], Loss: 22.2910\n",
      "Epoch [450/1000], Loss: 19.2960\n",
      "Epoch [460/1000], Loss: 16.6341\n",
      "Epoch [470/1000], Loss: 23.5143\n",
      "Epoch [480/1000], Loss: 15.8532\n",
      "Epoch [490/1000], Loss: 16.8574\n",
      "Epoch [500/1000], Loss: 17.0093\n",
      "Epoch [510/1000], Loss: 14.0613\n",
      "Epoch [520/1000], Loss: 13.6427\n",
      "Epoch [530/1000], Loss: 16.3023\n",
      "Epoch [540/1000], Loss: 14.3189\n",
      "Epoch [550/1000], Loss: 16.2718\n",
      "Epoch [560/1000], Loss: 22.8270\n",
      "Epoch [570/1000], Loss: 13.9260\n",
      "Epoch [580/1000], Loss: 15.6318\n",
      "Epoch [590/1000], Loss: 21.8020\n",
      "Epoch [600/1000], Loss: 13.9896\n",
      "Epoch [610/1000], Loss: 12.9257\n",
      "Epoch [620/1000], Loss: 13.9255\n",
      "Epoch [630/1000], Loss: 11.6845\n",
      "Epoch [640/1000], Loss: 16.0051\n",
      "Epoch [650/1000], Loss: 15.6030\n",
      "Epoch [660/1000], Loss: 16.4953\n",
      "Epoch [670/1000], Loss: 12.4550\n",
      "Epoch [680/1000], Loss: 12.9854\n",
      "Epoch [690/1000], Loss: 12.7905\n",
      "Epoch [700/1000], Loss: 12.5392\n",
      "Epoch [710/1000], Loss: 11.7759\n",
      "Epoch [720/1000], Loss: 19.0500\n",
      "Epoch [730/1000], Loss: 11.9282\n",
      "Epoch [740/1000], Loss: 13.3802\n",
      "Epoch [750/1000], Loss: 17.3151\n",
      "Epoch [760/1000], Loss: 13.0834\n",
      "Epoch [770/1000], Loss: 10.6231\n",
      "Epoch [780/1000], Loss: 14.0700\n",
      "Epoch [790/1000], Loss: 11.7784\n",
      "Epoch [800/1000], Loss: 12.0975\n",
      "Epoch [810/1000], Loss: 12.7732\n",
      "Epoch [820/1000], Loss: 11.3515\n",
      "Epoch [830/1000], Loss: 11.4600\n",
      "Epoch [840/1000], Loss: 18.8368\n",
      "Epoch [850/1000], Loss: 19.3943\n",
      "Epoch [860/1000], Loss: 12.7849\n",
      "Epoch [870/1000], Loss: 10.7190\n",
      "Epoch [880/1000], Loss: 11.3234\n",
      "Epoch [890/1000], Loss: 12.5103\n",
      "Epoch [900/1000], Loss: 10.4904\n",
      "Epoch [910/1000], Loss: 11.2815\n",
      "Epoch [920/1000], Loss: 14.4536\n",
      "Epoch [930/1000], Loss: 12.3615\n",
      "Epoch [940/1000], Loss: 11.9854\n",
      "Epoch [950/1000], Loss: 12.5749\n",
      "Epoch [960/1000], Loss: 13.6875\n",
      "Epoch [970/1000], Loss: 10.8866\n",
      "Epoch [980/1000], Loss: 13.3041\n",
      "Epoch [990/1000], Loss: 10.0484\n",
      "Epoch [1000/1000], Loss: 10.8962\n"
     ]
    }
   ],
   "source": [
    "if(not LOAD_MLP_MODEL):\n",
    "    train_mlp_regressor(epochs=1000, batch_size=500, X_train=X_train.values if isinstance(X_train, pd.DataFrame) else X_train, Y_train=np.array(y_train).reshape(-1, 1))\n",
    "# Interrupt this cell whenever it feels like this model has trained enough"
   ]
  },
  {
   "cell_type": "code",
   "execution_count": 69,
   "metadata": {},
   "outputs": [],
   "source": [
    "# Save model to disk\n",
    "if(SAVE_MLP_MODEL):\n",
    "    torch.save(mlp_regressor.state_dict(), MLP_MODEL_PATH)"
   ]
  },
  {
   "cell_type": "code",
   "execution_count": 64,
   "metadata": {},
   "outputs": [],
   "source": [
    "def calculate_accuracy(y_test, y_pred, rounding):\n",
    "    y_test = y_test.values\n",
    "    rounding = rounding//2\n",
    "    # print(y_pred)\n",
    "    assert(len(y_test) == len(y_pred))\n",
    "    num_predictions = len(y_test)\n",
    "    num_correct_predictions = 0\n",
    "    for i in range(len(y_test)):\n",
    "        if abs(y_test[i] - y_pred[i]) < rounding:\n",
    "            num_correct_predictions += 1\n",
    "    \n",
    "    return num_correct_predictions/num_predictions"
   ]
  },
  {
   "cell_type": "code",
   "execution_count": 65,
   "metadata": {},
   "outputs": [
    {
     "name": "stdout",
     "output_type": "stream",
     "text": [
      "Loss: 62.6183\n"
     ]
    },
    {
     "name": "stderr",
     "output_type": "stream",
     "text": [
      "/Users/rithikkumars/miniconda3/envs/kasturi_ml_project/lib/python3.10/site-packages/torch/utils/_device.py:77: UserWarning:\n",
      "\n",
      "Using a target size (torch.Size([2429])) that is different to the input size (torch.Size([2429, 1])). This will likely lead to incorrect results due to broadcasting. Please ensure they have the same size.\n",
      "\n"
     ]
    },
    {
     "data": {
      "text/plain": [
       "Text(0.5, 1.0, 'Accuracy (prediction error < 100): 0.6319473034170441')"
      ]
     },
     "execution_count": 65,
     "metadata": {},
     "output_type": "execute_result"
    },
    {
     "data": {
      "image/png": "[encoded data removed]",
      "text/plain": [
       "<Figure size 640x480 with 1 Axes>"
      ]
     },
     "metadata": {},
     "output_type": "display_data"
    }
   ],
   "source": [
    "\n",
    "y_pred_mlp = test_mlp_regressor(X_test.values if isinstance(X_test, pd.DataFrame) else X_test, np.array(y_test).reshape(-1, 1).squeeze())\n",
    "y_pred_mlp = np.rint(y_pred_mlp).astype(int)\n",
    "\n",
    "rounding_graph = 1\n",
    "rounding = 100\n",
    "\n",
    "plt.plot(np.floor(y_test//rounding_graph) * rounding_graph, np.floor(y_pred_mlp//rounding_graph) * rounding_graph, 'o')\n",
    "# accuracy = accuracy_score(np.floor(y_test//rounding) * rounding, np.floor(y_pred_mlp//rounding) * rounding)\n",
    "accuracy = calculate_accuracy(y_test, y_pred_mlp, rounding)\n",
    "\n",
    "plt.xlabel('Actual')\n",
    "plt.ylabel('Predicted')\n",
    "plt.title('Accuracy (prediction error < {}): {}'.format(rounding, accuracy))"
   ]
  },
  {
   "cell_type": "code",
   "execution_count": 66,
   "metadata": {},
   "outputs": [],
   "source": [
    "\n",
    "# y_pred_mlp = test_mlp_regressor(X_train.values if isinstance(X_train, pd.DataFrame) else X_train, np.array(y_train).reshape(-1, 1).squeeze())\n",
    "# y_pred_mlp = np.rint(y_pred_mlp).astype(int)\n",
    "\n",
    "# rounding = 10\n",
    "\n",
    "# plt.plot(np.floor(y_train//rounding) * rounding, np.floor(y_pred_mlp//rounding) * rounding, 'o')\n",
    "# accuracy = accuracy_score(np.floor(y_train//rounding) * rounding, np.floor(y_pred_mlp//rounding) * rounding)\n",
    "\n",
    "# plt.xlabel('Actual')\n",
    "# plt.ylabel('Predicted')\n",
    "# plt.title('Accuracy (within nearest {}): {}'.format(rounding, accuracy))"
   ]
  },
  {
   "cell_type": "code",
   "execution_count": 73,
   "metadata": {},
   "outputs": [
    {
     "data": {
      "image/png": "[encoded data removed]",
      "text/plain": [
       "<Figure size 1000x600 with 1 Axes>"
      ]
     },
     "metadata": {},
     "output_type": "display_data"
    },
    {
     "name": "stdout",
     "output_type": "stream",
     "text": [
      "The mean error is 50.95430218196789 and the standard deviation of the errors is 58.30448436698678\n"
     ]
    },
    {
     "data": {
      "image/png": "[encoded data removed]",
      "text/plain": [
       "<Figure size 1000x600 with 1 Axes>"
      ]
     },
     "metadata": {},
     "output_type": "display_data"
    }
   ],
   "source": [
    "plot_error_frequency(y_pred_mlp, y_test, 'MLP', rounding)"
   ]
  },
  {
   "cell_type": "code",
   "execution_count": 74,
   "metadata": {},
   "outputs": [],
   "source": [
    "# Create a DataFrame with the test and pred values\n",
    "df = pd.DataFrame({'Test': y_test, 'Pred': y_pred_mlp})\n",
    "\n",
    "# Save the DataFrame to a CSV file\n",
    "df.to_csv('mlp_test_pred.csv', index=False)"
   ]
  }
 ],
 "metadata": {
  "kernelspec": {
   "display_name": "Python 3",
   "language": "python",
   "name": "python3"
  },
  "language_info": {
   "codemirror_mode": {
    "name": "ipython",
    "version": 3
   },
   "file_extension": ".py",
   "mimetype": "text/x-python",
   "name": "python",
   "nbconvert_exporter": "python",
   "pygments_lexer": "ipython3",
   "version": "3.10.13"
  },
  "orig_nbformat": 4
 },
 "nbformat": 4,
 "nbformat_minor": 2
}
